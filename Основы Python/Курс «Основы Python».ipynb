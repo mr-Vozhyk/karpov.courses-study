{
 "cells": [
  {
   "cell_type": "markdown",
   "id": "1bbce14d-c2aa-4ccb-9c4b-1674d7e76835",
   "metadata": {},
   "source": [
    "# Курс «Основы Python»"
   ]
  },
  {
   "cell_type": "markdown",
   "id": "0681a688-644b-4e3c-9960-40e2a2240317",
   "metadata": {},
   "source": [
    "## I. Переменные и основные типы данных"
   ]
  },
  {
   "cell_type": "markdown",
   "id": "ebe012c7-882f-40b6-9f38-8c9f41671188",
   "metadata": {},
   "source": [
    "### Задание_1:\n",
    "\n",
    "Давайте запрограммируем кота! Создайте три переменные: \n",
    "\n",
    "cat_name  со строкой как минимум из двух символов\n",
    "\n",
    "cat_age с неотрицательным числом\n",
    "\n",
    "is_fluffy с True или False\n"
   ]
  },
  {
   "cell_type": "code",
   "execution_count": 2,
   "id": "40a7eab2-9b83-4195-93c7-23ad34106739",
   "metadata": {},
   "outputs": [],
   "source": [
    "cat_name = 'Aldo'\n",
    "cat_age = 3\n",
    "is_fluffy = True"
   ]
  },
  {
   "cell_type": "markdown",
   "id": "88024b58-7347-4be4-8471-3daac738ac3c",
   "metadata": {},
   "source": [
    "### Задание_2:\r\n",
    "\r\n",
    "Давайте напишем программу для поиска длины гипотенузы. В переменных a и b уже записаны длины катетов прямоугольного треугольника. Создайте новую переменную c и сохраните в нее длину гипотенузы этого треугольника. "
   ]
  },
  {
   "cell_type": "code",
   "execution_count": 4,
   "id": "f0f2b590-5cf7-492e-8b91-398001631c69",
   "metadata": {},
   "outputs": [
    {
     "data": {
      "text/plain": [
       "5.0"
      ]
     },
     "execution_count": 4,
     "metadata": {},
     "output_type": "execute_result"
    }
   ],
   "source": [
    "a = 3\n",
    "b = 4\n",
    "\n",
    "c = (a**2 + b**2)**0.5\n"
   ]
  },
  {
   "cell_type": "markdown",
   "id": "d4af2b3e-af56-4855-bbd7-7846b7ba8fb7",
   "metadata": {},
   "source": [
    "### Задание_3:\n",
    "В переменной father_age хранится возраст отца, а в переменной son_age — возраст сына. Посчитайте, через сколько лет отец будет вдвое старше сына. \n",
    "\n",
    "    Результат сохраните в переменную result. \n",
    "\n",
    "\n",
    "В поле для ответа не нужно создавать переменные father_age и son_age, сразу начинайте работать с ними, а наша система подставит в них разные значения и проверит ваш код на разных примерах. "
   ]
  },
  {
   "cell_type": "code",
   "execution_count": 6,
   "id": "08a29fef-d67a-4446-a2be-77848a12e5f5",
   "metadata": {},
   "outputs": [
    {
     "data": {
      "text/plain": [
       "26"
      ]
     },
     "execution_count": 6,
     "metadata": {},
     "output_type": "execute_result"
    }
   ],
   "source": [
    "father_age = 30\n",
    "son_age = 2\n",
    "\n",
    "result = father_age - 2*son_age\n",
    "result\n"
   ]
  },
  {
   "cell_type": "markdown",
   "id": "032cebd3-99ca-462e-b4a4-86e888f792ef",
   "metadata": {},
   "source": [
    "### Задание_4:\n",
    "\n",
    "Заданы вещественные числа a, b и с – стороны треугольника. Вычислите периметр и площадь треугольника. Результат сохраните в переменные perimeter и area соответственно."
   ]
  },
  {
   "cell_type": "code",
   "execution_count": 20,
   "id": "1004572f-7bfc-4a3f-8cf2-c375e6c83cce",
   "metadata": {},
   "outputs": [],
   "source": [
    "a = 3\n",
    "b = 4\n",
    "c = 5\n",
    "\n",
    "perimeter = a + b + c\n",
    "p = perimeter * 0.5\n",
    "area = (p * (p-a) * (p - b) * (p - c)) ** 0.5\n"
   ]
  },
  {
   "cell_type": "markdown",
   "id": "2fb0f49d-d9c2-4721-b6c5-baa7704db1da",
   "metadata": {},
   "source": [
    "### Задание_5:\n",
    "\n",
    "В переменную n сохранено целое число — количество секунд. Напишите программу, которая конвертирует заданное количество секунд n в часы, минуты и секунды. Результат сохраните в переменные hours, minutes, seconds.\n",
    "\n",
    "То есть сначала нужно посчитать, сколько в число n поместилось целых часов, целых минут и сколько после этого осталось секунд.  "
   ]
  },
  {
   "cell_type": "code",
   "execution_count": 45,
   "id": "23824282-0b05-4bef-8770-f8c50b935830",
   "metadata": {},
   "outputs": [
    {
     "name": "stdout",
     "output_type": "stream",
     "text": [
      "hours:  23 \n",
      "minutes:  33 \n",
      "seconds:  52\n"
     ]
    }
   ],
   "source": [
    "n = 125  # кол-во секунд\n",
    "\n",
    "hours = n//60//60\n",
    "minutes = n//60 - hours*60\n",
    "seconds = n-(hours*60*60)-(minutes*60)\n",
    "\n",
    "print('hours: ',hours, '\\nminutes: ', minutes, '\\nseconds: ',seconds)\n"
   ]
  },
  {
   "cell_type": "code",
   "execution_count": 46,
   "id": "fcca991b-b0b5-4ed2-9e5a-5323b5af02d2",
   "metadata": {},
   "outputs": [],
   "source": [
    "#  2 вариант\n",
    "hours = n // 3600\n",
    "minutes = (n - hours * 3600) // 60\n",
    "seconds = (n - hours * 3600) % 60"
   ]
  },
  {
   "cell_type": "markdown",
   "id": "ceb3d2d5-a4f1-412d-af33-d1d31538b189",
   "metadata": {},
   "source": [
    "### Задание_6:\n",
    "\n",
    "В переменной price_new хранится цена килограмма бананов в числовом формате, \r\n",
    "а в переменной price_old — цена килограмма бананов год назад. \r\n",
    "\r\n",
    "Вычислите, на сколько процентов по модулю изменилась цена за год. \r\n",
    "Результат сохраните в переменную result. Результат округлите до двух знаков после запятой. "
   ]
  },
  {
   "cell_type": "code",
   "execution_count": 48,
   "id": "e63092a7-ed08-457c-8ea1-0ee0b7b2113a",
   "metadata": {},
   "outputs": [
    {
     "data": {
      "text/plain": [
       "66.67"
      ]
     },
     "execution_count": 48,
     "metadata": {},
     "output_type": "execute_result"
    }
   ],
   "source": [
    "price_new = 24\n",
    "price_old = 72\n",
    "\n",
    "result = round( abs(price_new - price_old) *100 / price_old, 2)\n",
    "\n"
   ]
  },
  {
   "cell_type": "markdown",
   "id": "33c4ead3-8503-49eb-bef6-ceb91ed851f4",
   "metadata": {},
   "source": [
    "### Задание_7:\n",
    "\n",
    "Создайте переменные:\n",
    "\n",
    "a со значением 5 типа int,\n",
    "\n",
    "b со значением \"10\" типа str,\n",
    "\n",
    "c со значением True типа bool.\n",
    "\n",
    "В переменную my_sum сохраните сумму трех переменных, которые вы создали, преобразовав b и с к типу int. "
   ]
  },
  {
   "cell_type": "code",
   "execution_count": 54,
   "id": "501a35e2-9f49-40df-95e9-3b6cd71dd723",
   "metadata": {},
   "outputs": [],
   "source": [
    "a = 5\n",
    "b = '10'\n",
    "c = True\n",
    "\n",
    "my_sum = a + int(b) + int(c)"
   ]
  },
  {
   "cell_type": "markdown",
   "id": "7b5eb1b1-b249-47ed-a82c-d93fc8056f7a",
   "metadata": {},
   "source": [
    "### Задание_8:\n",
    "\n",
    "В переменной a сохранено число с десятичной частью но в формате строки, например '3.14'. В переменную с сохраните целую часть из числа в переменной a."
   ]
  },
  {
   "cell_type": "code",
   "execution_count": 57,
   "id": "a7b1e963-0e21-400f-866a-50c8ae9855da",
   "metadata": {},
   "outputs": [
    {
     "data": {
      "text/plain": [
       "3"
      ]
     },
     "execution_count": 57,
     "metadata": {},
     "output_type": "execute_result"
    }
   ],
   "source": [
    "a = '3.14'\n",
    "c = int(float(a))"
   ]
  },
  {
   "cell_type": "markdown",
   "id": "a6df5ee1-4f02-41fd-bb99-8129a792400e",
   "metadata": {},
   "source": [
    "### Задание_9:\n",
    "\n",
    "В переменной х уже сохранено целое положительное число. Вычислите x + x0x0x. Результат сохраните в переменную result.\r\n",
    "\r\n",
    "То есть, если x = 2, то нужно вычислить 2 + 20202."
   ]
  },
  {
   "cell_type": "code",
   "execution_count": 63,
   "id": "6aa43fcf-32bb-4c9e-a9ca-03747c636184",
   "metadata": {},
   "outputs": [
    {
     "data": {
      "text/plain": [
       "40408"
      ]
     },
     "execution_count": 63,
     "metadata": {},
     "output_type": "execute_result"
    }
   ],
   "source": [
    "x = 4\n",
    "y = str(x)+str(0)+str(x)+str(0)+str(x)\n",
    "result = x + int(y)"
   ]
  },
  {
   "cell_type": "code",
   "execution_count": 66,
   "id": "f0ed1443-6f9c-4248-a85a-479fda0bb370",
   "metadata": {},
   "outputs": [
    {
     "data": {
      "text/plain": [
       "80816"
      ]
     },
     "execution_count": 66,
     "metadata": {},
     "output_type": "execute_result"
    }
   ],
   "source": [
    "x = 8\n",
    "result = x + int(f'{x}0{x}0{x}')\n",
    "result"
   ]
  },
  {
   "cell_type": "markdown",
   "id": "f7c539ba-505c-4583-b78d-c86c25b339a1",
   "metadata": {},
   "source": [
    "### Задание_10:\n",
    "\n",
    "Укажите все сравнения, в результате которых мы получим True.\n",
    "\n",
    "- [x] 'ИВАН' < 'иван'\r",
    "- [x] \n",
    "'Python' < 'R\n",
    "- [x] \r\n",
    "'big number' != 'bug numbe\n",
    "- [ ] '\r\n",
    "'ЯЯЯ' == 'Я\n",
    "- [ ] Я'\r\n",
    "'игра' >= 'икра'2."
   ]
  },
  {
   "cell_type": "markdown",
   "id": "8ccb30a8-5752-46ae-a3c1-3c0906d9edee",
   "metadata": {},
   "source": [
    "### Задание_11:\n",
    "В переменной m хранится целое положительное число — продолжительность сна в минутах. Если продолжительность сна составит от 7 до 9 часов включительно, то в переменную optimal_sleep_duration сохраните значение True. В противном случае присвойте этой переменной значение False."
   ]
  },
  {
   "cell_type": "code",
   "execution_count": 80,
   "id": "4f2a58bf-fab7-46e1-a83a-3715ea11fe06",
   "metadata": {},
   "outputs": [
    {
     "name": "stdout",
     "output_type": "stream",
     "text": [
      "False\n"
     ]
    }
   ],
   "source": [
    "m = 100   # продолжительность сна в минутах\n",
    "\n",
    "# продолжительность сна составит от 7 до 9 часов включительно, то optimal_sleep_duration = True, если нет - False\n",
    "\n",
    "if m //60  >= 7 and m //60  <=9:\n",
    "    optimal_sleep_duration = True\n",
    "else:\n",
    "    optimal_sleep_duration = False\n",
    "print(optimal_sleep_duration)"
   ]
  },
  {
   "cell_type": "code",
   "execution_count": 83,
   "id": "87176a62-e2dd-4e46-a032-b0314f3e7f90",
   "metadata": {},
   "outputs": [
    {
     "name": "stdout",
     "output_type": "stream",
     "text": [
      "False\n"
     ]
    }
   ],
   "source": [
    "#  вариант 2\n",
    "optimal_sleep_duration = m / 60 >= 7 and m / 60 <= 9\n",
    "print(optimal_sleep_duration)"
   ]
  },
  {
   "cell_type": "markdown",
   "id": "d526f73d-d61c-48a0-889a-1969a52aa999",
   "metadata": {},
   "source": [
    "### Задание_12:\r\n",
    "В переменной x хранится целое число. Проверьте, делится ли это число без остатка на 3 и на 7. Результат сохраните в переменную result. Переменная result должна иметь логический тип данных. \r\n",
    "\r\n",
    "Если x = 7, то  result = False. Если x = 21, то result = True. "
   ]
  },
  {
   "cell_type": "code",
   "execution_count": 86,
   "id": "050df2a2-1562-41f0-87ea-c17650717088",
   "metadata": {},
   "outputs": [
    {
     "data": {
      "text/plain": [
       "True"
      ]
     },
     "execution_count": 86,
     "metadata": {},
     "output_type": "execute_result"
    }
   ],
   "source": [
    "x = 21\n",
    "\n",
    "result = x%3 == 0 and x%7 == 0 \n",
    "result"
   ]
  },
  {
   "cell_type": "markdown",
   "id": "d5f5a65c-d49b-495a-877f-054dc5b2b805",
   "metadata": {},
   "source": [
    "### Задание_13:\n",
    "\n",
    "Сохраните в переменную square строку, которая выводит на экран прямоугольник 4 х 4, сформированный из звездочек, разделенных пробелом."
   ]
  },
  {
   "cell_type": "code",
   "execution_count": 115,
   "id": "8d9a89f9-5cdc-41fb-ad33-4d4b8b622dc0",
   "metadata": {},
   "outputs": [
    {
     "name": "stdout",
     "output_type": "stream",
     "text": [
      "* * * *\n",
      "* * * *\n",
      "* * * *\n",
      "* * * *\n"
     ]
    }
   ],
   "source": [
    "str1 = str('* '*3+'*')\n",
    "square = f'{str1}\\n{str1}\\n{str1}\\n{str1}'\n",
    "print(square)"
   ]
  },
  {
   "cell_type": "markdown",
   "id": "c4f75df8-4840-4941-b24b-453b7d638f3e",
   "metadata": {},
   "source": [
    "# II. Списки и множества"
   ]
  },
  {
   "cell_type": "code",
   "execution_count": 1,
   "id": "18e0cb0d-9570-46a9-b442-aa3da668e8bb",
   "metadata": {},
   "outputs": [
    {
     "name": "stdout",
     "output_type": "stream",
     "text": [
      "['apple', 'banana']\n",
      "orange\n"
     ]
    }
   ],
   "source": [
    "fruits = ['apple', 'banana', 'orange']\n",
    "removed_fruit = fruits.pop()  # удалит 'orange' из списка и вернет его\n",
    "print(fruits)  # ['apple', 'banana']\n",
    "print(removed_fruit)  # 'orange'"
   ]
  },
  {
   "cell_type": "code",
   "execution_count": 2,
   "id": "c8f951f4-be4e-4702-bc37-459296f694d0",
   "metadata": {},
   "outputs": [
    {
     "name": "stdout",
     "output_type": "stream",
     "text": [
      "['apple', 'orange']\n",
      "banana\n"
     ]
    }
   ],
   "source": [
    "fruits = ['apple', 'banana', 'orange']\n",
    "removed_fruit = fruits.pop(1)  # удалит 'banana' из списка и вернет его\n",
    "print(fruits)  # ['apple', 'orange']\n",
    "print(removed_fruit)  # 'banana'"
   ]
  },
  {
   "cell_type": "code",
   "execution_count": 3,
   "id": "06682afd-0f21-492a-8d49-eee7382ede83",
   "metadata": {},
   "outputs": [
    {
     "name": "stdout",
     "output_type": "stream",
     "text": [
      "['apple', 'orange']\n"
     ]
    }
   ],
   "source": [
    "fruits = ['apple', 'banana', 'orange']\n",
    "fruits.remove('banana')  # удалит 'banana' из списка\n",
    "print(fruits)  # ['apple', 'orange']"
   ]
  },
  {
   "cell_type": "code",
   "execution_count": null,
   "id": "a1fb61e1-3fcd-4f87-b511-509f08b42b33",
   "metadata": {},
   "outputs": [],
   "source": []
  },
  {
   "cell_type": "code",
   "execution_count": 5,
   "id": "a659f3a5-830e-4c17-b681-961079fd0516",
   "metadata": {},
   "outputs": [
    {
     "name": "stdout",
     "output_type": "stream",
     "text": [
      "[1, 2, 3]\n"
     ]
    }
   ],
   "source": [
    "my_set = {1, 3, 2, 2}\n",
    "print(sorted(my_set)) # выведет [1, 2, 3]"
   ]
  },
  {
   "cell_type": "markdown",
   "id": "98a31734-20e6-400d-940d-ef63612975e5",
   "metadata": {},
   "source": [
    "### Задание_1:\n",
    "\n",
    "В my_list сохранен список как минимум с двумя элементами.\n",
    "\n",
    "В переменную first_item сохраните первый элемент списка.\n",
    "\n",
    "В переменную last_item сохраните последний элемент списка.\n",
    "\n",
    "В переменную reversed_list сохраните все элементы списка my_list в обратном порядке.\n",
    "\n",
    "В переменную even_items сохраните все элементы my_list с четными индексами."
   ]
  },
  {
   "cell_type": "code",
   "execution_count": 29,
   "id": "376b5ed8-4b6e-4280-b86a-14ab411adaec",
   "metadata": {},
   "outputs": [
    {
     "name": "stdout",
     "output_type": "stream",
     "text": [
      "Anatoly\n",
      "3\n",
      "[3, 2, 1, 'Fedor', 'Anatoly']\n",
      "['Anatoly', 1, 3]\n"
     ]
    }
   ],
   "source": [
    "my_list = ['Anatoly', 'Fedor', 1, 2, 3]\n",
    "\n",
    "first_item = my_list[0]\n",
    "last_item = my_list[-1]\n",
    "reversed_list = my_list[::-1]\n",
    "even_items = my_list[::2]\n",
    "\n",
    "print(first_item)\n",
    "print(last_item)\n",
    "print(reversed_list)\n",
    "print(even_items)"
   ]
  },
  {
   "cell_type": "markdown",
   "id": "d73b3f98-5c21-434b-8bb9-f73ffefcbb8c",
   "metadata": {},
   "source": [
    "### Задание_2:\n",
    "\n",
    "В переменную var_1 сохраните список с числами от -100 до 100 включительно с шагом в 1.\n",
    "\n",
    "В переменную var_2 сохраните список с числами от 250 до 0 включительно с шагом в 2.\n",
    "\n",
    "В переменную var_3 сохраните список со всеми нечетными числами от 100 до 200."
   ]
  },
  {
   "cell_type": "code",
   "execution_count": 40,
   "id": "d4a8c68d-fba6-4835-89c8-069311012a8a",
   "metadata": {},
   "outputs": [],
   "source": [
    "var_1 = list(range(-100,101,1))\n",
    "var_2 = list(range(250, -1, -2))\n",
    "var_3 = list(range(101, 201, 2))"
   ]
  },
  {
   "cell_type": "markdown",
   "id": "e6933737-89ad-41bc-8b7c-8425c9595d94",
   "metadata": {},
   "source": [
    "### Задание_3:\n",
    "В переменных  a и b хранятся числа — начало и конец диапазона. Напишите программу, которая вернет сумму всех чисел из этого диапазона. \n",
    "\n",
    "Сохраните значение в переменную result. \n",
    "\n",
    "Пример: \n",
    "\n",
    "a = 1\n",
    "\n",
    "b = 3 \n",
    "\n",
    "result = 6"
   ]
  },
  {
   "cell_type": "code",
   "execution_count": 47,
   "id": "a20d0f69-a884-443d-a599-795c3b322bf5",
   "metadata": {},
   "outputs": [
    {
     "data": {
      "text/plain": [
       "6"
      ]
     },
     "execution_count": 47,
     "metadata": {},
     "output_type": "execute_result"
    }
   ],
   "source": [
    "a = 1\n",
    "b = 3\n",
    "\n",
    "result = sum(range(a,b+1))\n",
    "result"
   ]
  },
  {
   "cell_type": "markdown",
   "id": "7d426dc1-76b6-4a9b-99e3-680c498b3763",
   "metadata": {},
   "source": [
    "### Задание_4:\n",
    "\n",
    "Давайте потренируемся использовать различные методы списков. В переменной my_list сохранен не пустой список, в котором есть число 11. \n",
    "\n",
    "Найдите первый индекс числа 11 в my_list, сохраните индекс в переменную eleven_index.  \n",
    "\n",
    "В переменную ten_count сохраните, сколько раз в списке my_list встречается число 10.\n",
    "\n",
    "    my_list = [1, 10, 0, 10, 11]\n",
    "    \n",
    "    eleven_index = 4\n",
    "    \n",
    "    ten_count = 2\n",
    "    \n",
    "    \n",
    "    my_list = [11, 2, 0, 6]\n",
    "    \n",
    "    eleven_index = 0\n",
    "    \n",
    "    ten_count = 0"
   ]
  },
  {
   "cell_type": "code",
   "execution_count": 54,
   "id": "75221d1c-733b-4959-b8ac-161ecf4784ab",
   "metadata": {},
   "outputs": [],
   "source": [
    "my_list = [1, 10, 0, 10, 11]\n",
    "\n",
    "eleven_index = my_list.index(11)\n",
    "ten_count = my_list.count(10)\n"
   ]
  },
  {
   "cell_type": "markdown",
   "id": "247c7c9d-ed90-476d-8efd-fa82f7057187",
   "metadata": {},
   "source": [
    "### Задание_5:\n",
    "\n",
    "В student_names сохранен список с именами студентов, добавьте в список два имени 'Anatoly' и 'Oksana'.\n",
    "\n",
    "В scores сохранен список из десяти целых чисел, удалите из него второй, пятый и последний элемент из исходного списка. \n",
    "Будьте внимательны, если вы, например, сначала удалите второй элемент, то индекс пятого элемента из сходного списка сместится.\n",
    "\n",
    "В lessons сохранен список с названием уроков, отсортируйте названия уроков в списке по алфавиту. \n",
    "\n",
    "Пример:\n",
    "\n",
    "    student_names = ['Ian', 'Ivan']\n",
    "\n",
    "    scores = [0, 1, 2, 3, 4, 5, 6, 7, 8, 9]\n",
    "\n",
    "    lessons = ['Python', 'Analytics']"
   ]
  },
  {
   "cell_type": "code",
   "execution_count": 60,
   "id": "9370e62f-614d-422c-864c-a35c1774ddcb",
   "metadata": {},
   "outputs": [
    {
     "data": {
      "text/plain": [
       "['Ian', 'Ivan', 'Anatoly', 'Oksana']"
      ]
     },
     "execution_count": 60,
     "metadata": {},
     "output_type": "execute_result"
    }
   ],
   "source": [
    "student_names = ['Ian', 'Ivan']\n",
    "\n",
    "student_names.append('Anatoly')\n",
    "student_names.append('Oksana')"
   ]
  },
  {
   "cell_type": "code",
   "execution_count": 64,
   "id": "d843412c-203c-4b29-8e6e-856cc9333569",
   "metadata": {},
   "outputs": [
    {
     "data": {
      "text/plain": [
       "[0, 2, 3, 5, 6, 7, 8]"
      ]
     },
     "execution_count": 64,
     "metadata": {},
     "output_type": "execute_result"
    }
   ],
   "source": [
    "scores = [0, 1, 2, 3, 4, 5, 6, 7, 8, 9]\n",
    "\n",
    "scores.pop(1)\n",
    "scores.pop(3)\n",
    "scores.pop(-1)\n",
    "scores"
   ]
  },
  {
   "cell_type": "code",
   "execution_count": 66,
   "id": "d36450b2-4dce-40ac-83f3-76636eba87cd",
   "metadata": {},
   "outputs": [
    {
     "data": {
      "text/plain": [
       "['Analytics', 'Python']"
      ]
     },
     "execution_count": 66,
     "metadata": {},
     "output_type": "execute_result"
    }
   ],
   "source": [
    "lessons = ['Python', 'Analytics']\n",
    "lessons.sort()\n",
    "lessons"
   ]
  },
  {
   "cell_type": "code",
   "execution_count": null,
   "id": "062dad89-878d-4609-9c9f-78c319b10e7c",
   "metadata": {},
   "outputs": [],
   "source": [
    "----"
   ]
  },
  {
   "cell_type": "code",
   "execution_count": 68,
   "id": "537584bf-90de-45b4-a8c2-870764e8f7ed",
   "metadata": {},
   "outputs": [
    {
     "name": "stdout",
     "output_type": "stream",
     "text": [
      "[-2, 1, 2, 3]\n",
      "[1, 2, 3, -2]\n"
     ]
    }
   ],
   "source": [
    "my_list = [1, 2, 3, -2]\n",
    "\n",
    "# так правильно\n",
    "my_list_ordered = sorted(my_list) # функция sorted возвращает новый список, не изменяет список my_list\n",
    "print(my_list_ordered) # получим [-2, 1, 2, 3]\n",
    "print(my_list) # получим [1, 2, 3, -2]"
   ]
  },
  {
   "cell_type": "markdown",
   "id": "ce8116d4-548f-4ced-a4b8-2fd6f5696a35",
   "metadata": {},
   "source": [
    "### Задание_6:\n",
    "\n",
    "Создайте кортеж с названиями дней недели и сохраните его в переменную days_of_the_week.\n",
    "\n",
    "    'Monday', 'Tuesday', 'Wednesday', 'Thursday', 'Friday', 'Saturday', 'Sunday'\n"
   ]
  },
  {
   "cell_type": "code",
   "execution_count": 70,
   "id": "07ef69e0-32c4-4180-ab3c-5e5fc48b11fb",
   "metadata": {},
   "outputs": [
    {
     "data": {
      "text/plain": [
       "('Monday', 'Tuesday', 'Wednesday', 'Thursday', 'Friday', 'Saturday', 'Sunday')"
      ]
     },
     "execution_count": 70,
     "metadata": {},
     "output_type": "execute_result"
    }
   ],
   "source": [
    "days_of_the_week = ('Monday', 'Tuesday', 'Wednesday', 'Thursday', 'Friday', 'Saturday', 'Sunday')\n",
    "days_of_the_week"
   ]
  },
  {
   "cell_type": "markdown",
   "id": "0859e039-569d-49f8-9b5c-b955cd80eeba",
   "metadata": {},
   "source": [
    "### Задание_7*:\n",
    "\n",
    "В переменной numbers_list сохранен список с целыми числами. В списке минимум два разных целых числа.\n",
    "\n",
    "В переменную numbers_list_ordered сохраните все числа из списка numbers_list, отсортированные по убыванию. \n",
    "При этом сам список numbers_list не должен изменяться.\n",
    "\n",
    "В переменную numbers_set сохраните множество из уникальных чисел из списка numbers_list. \n",
    "Дополните это множество следующим целым числом после максимального числа из numbers_list.\n",
    "\n",
    "В переменную numbers_frozenset сохраните неизменяемое множество из всех уникальных чисел из списка numbers_list, \n",
    "кроме минимального числа."
   ]
  },
  {
   "cell_type": "code",
   "execution_count": 294,
   "id": "60476414-2ea8-4172-9e8b-031534e67fb6",
   "metadata": {},
   "outputs": [
    {
     "name": "stdout",
     "output_type": "stream",
     "text": [
      "numbers_list:  [1, 1, 2, 2, 3, 3, 4, 4]\n"
     ]
    }
   ],
   "source": [
    "# numbers_list = [-1, -5, 1, 1, -1, 4, 4, 2]\n",
    "numbers_list = [1, 1, 2, 2, 3, 3, 4, 4]\n",
    "\n",
    "print('numbers_list: ', numbers_list)"
   ]
  },
  {
   "cell_type": "code",
   "execution_count": 295,
   "id": "95c0c7ba-d40a-48e8-8f9c-756c7d2edb5f",
   "metadata": {},
   "outputs": [
    {
     "name": "stdout",
     "output_type": "stream",
     "text": [
      "numbers_list_ordered:  [4, 4, 3, 3, 2, 2, 1, 1]\n",
      "numbers_set:  {1, 2, 3, 4, 5}\n",
      "numbers_frozenset:  frozenset({2, 3, 4})\n"
     ]
    }
   ],
   "source": [
    "\n",
    "numbers_list_ordered = sorted(numbers_list, reverse=True)\n",
    "\n",
    "print('numbers_list_ordered: ', numbers_list_ordered)\n",
    "\n",
    "numbers_set = set(numbers_list)\n",
    "numbers_set.add(max(numbers_list) + 1)\n",
    "\n",
    "print('numbers_set: ', numbers_set)\n",
    "\n",
    "\n",
    "numbers_frozenset = frozenset(sorted(set(numbers_list))[1:]) \n",
    "\n",
    "print('numbers_frozenset: ', numbers_frozenset)"
   ]
  },
  {
   "cell_type": "markdown",
   "id": "4f319e83-9eab-4929-8604-8e924418ecc2",
   "metadata": {},
   "source": [
    "### Задание_8:\n",
    "\n",
    "Даны два списка list_1 и list_2. Отсортируйте list_1 по возрастанию, а list_2 по убыванию. \n",
    "Объедините list_1 и list_2 в один отсортированный по возрастанию список list_3.  \n",
    "В переменную list_3_len сохраните длину  list_3. "
   ]
  },
  {
   "cell_type": "code",
   "execution_count": 1,
   "id": "5eeaddd2-8584-43e0-80ba-bba64836c2b9",
   "metadata": {},
   "outputs": [],
   "source": [
    "list_1 = [1, 5, 3]\n",
    "list_2 = [2, 8]"
   ]
  },
  {
   "cell_type": "code",
   "execution_count": 8,
   "id": "8495c96b-49aa-4119-90d1-c02401ce843e",
   "metadata": {},
   "outputs": [
    {
     "name": "stdout",
     "output_type": "stream",
     "text": [
      "[1, 2, 3, 5, 8]\n"
     ]
    },
    {
     "data": {
      "text/plain": [
       "5"
      ]
     },
     "execution_count": 8,
     "metadata": {},
     "output_type": "execute_result"
    }
   ],
   "source": [
    "list_1.sort()\n",
    "list_2.sort(reverse= True)\n",
    "\n",
    "list_3 = (list_1+list_2)   # v.2:  list_3.extend(list_1), list_3.extend(list_2)\n",
    "list_3.sort()\n",
    "print(list_3)\n",
    "\n",
    "list_3_len = len(list_3)\n",
    "\n",
    "list_3_len"
   ]
  },
  {
   "cell_type": "markdown",
   "id": "819f64d7-319b-487b-b848-28d65841ebb2",
   "metadata": {},
   "source": [
    "### Задание_9:\n",
    "\n",
    "В переменной menu хранится множество всех позиций меню кофейни, а в переменной stop — множество позиций меню кофейни, недоступных для заказа сегодня. Сохраните в переменную menu_today позиции меню, которые доступны для заказа сегодня.  \n",
    "\n",
    "Пример:\n",
    "\n",
    "    menu = {'White Chocolate Mocha', 'Americano', 'Flat White', 'Latte', \n",
    "        'Blueberry Muffin', 'Chocolate Chip Cookie'}\n",
    "        \n",
    "    stop = {'White Chocolate Mocha', 'Blueberry Muffin'}\n",
    "\n",
    "    menu_today = {'Americano', 'Flat White', 'Latte', 'Chocolate Chip Cookie'}"
   ]
  },
  {
   "cell_type": "code",
   "execution_count": 12,
   "id": "4b5c7030-c21d-4873-98c9-f60c6b921abc",
   "metadata": {},
   "outputs": [
    {
     "data": {
      "text/plain": [
       "{'Americano', 'Chocolate Chip Cookie', 'Flat White', 'Latte'}"
      ]
     },
     "execution_count": 12,
     "metadata": {},
     "output_type": "execute_result"
    }
   ],
   "source": [
    "menu = {'White Chocolate Mocha', 'Americano', 'Flat White', 'Latte', \n",
    "    'Blueberry Muffin', 'Chocolate Chip Cookie'}\n",
    "stop = {'White Chocolate Mocha', 'Blueberry Muffin'}\n",
    "\n",
    "menu_today = menu.difference(stop)\n",
    "menu_today"
   ]
  },
  {
   "cell_type": "markdown",
   "id": "47e5d441-2d14-42fc-926c-59b6855c4189",
   "metadata": {},
   "source": [
    "### Задание_10:\n",
    "\n",
    "В переменной my_set множество (set) из чисел. В переменной to_delete число, которое нужно удалить из my_set, если оно там есть. Если такого числа нет в my_set ничего делать не надо.\n",
    "\n"
   ]
  },
  {
   "cell_type": "code",
   "execution_count": 23,
   "id": "5bdb19de-3811-4e0c-9b84-a0ad33c62b97",
   "metadata": {},
   "outputs": [
    {
     "data": {
      "text/plain": [
       "{10, 100}"
      ]
     },
     "execution_count": 23,
     "metadata": {},
     "output_type": "execute_result"
    }
   ],
   "source": [
    "my_set = {0, 10, 100}\n",
    "to_delete = 0\n",
    "\n",
    "my_set.discard(to_delete)     # удаляет из множества значение, если удаляемого значения во множестве нет, то ничего не происходит (без ошибок) \n",
    "my_set"
   ]
  },
  {
   "cell_type": "markdown",
   "id": "768dcbd1-6831-472e-b890-92edae724dbb",
   "metadata": {},
   "source": [
    "### Задание_11:\n",
    "\n",
    "В students хранится множество студентов it-центра МАИ. \n",
    "Студент, имя которого записано в new_student, \n",
    "перевелся в МАИ из другого института, его имя нужно добавить в students. \n",
    "В переменной churn_student — студент, который хочет перевестись из МАИ в другой институт, его имя нужно убрать из students. "
   ]
  },
  {
   "cell_type": "code",
   "execution_count": 30,
   "id": "42995f6d-6c3e-441e-9e92-bf2d816cf06f",
   "metadata": {},
   "outputs": [
    {
     "data": {
      "text/plain": [
       "{'Василенко Анна',\n",
       " 'Дудочкин Илья',\n",
       " 'Захарова Мария',\n",
       " 'Кравченко Виталий',\n",
       " 'Некрасов Игорь'}"
      ]
     },
     "execution_count": 30,
     "metadata": {},
     "output_type": "execute_result"
    }
   ],
   "source": [
    "students = {'Кравченко Виталий', 'Полякова Ольга', 'Некрасов Игорь', 'Дудочкин Илья', 'Захарова Мария'}\n",
    "new_student = 'Василенко Анна'\n",
    "churn_student = 'Полякова Ольга'\n",
    "\n",
    "\n",
    "students.add(new_student)\n",
    "students.discard(churn_student)\n",
    "students"
   ]
  },
  {
   "cell_type": "markdown",
   "id": "47ba9810-5774-4252-aa21-8e5b4a44522a",
   "metadata": {},
   "source": [
    "### Задание_12:\n",
    "\n",
    "В переменной da_students хранятся имена студентов курса \"Аналитик данных\", а в переменной dv_students — имена студентов курса \"Визуализация данных\". Сохраните в переменную students студентов, которые обучаются на обоих курсах.\n",
    "\n",
    "Порядок элементов в students не имеет значения.\n"
   ]
  },
  {
   "cell_type": "code",
   "execution_count": 33,
   "id": "623dbb1b-d9f0-4311-ac7c-f6691ab5c226",
   "metadata": {},
   "outputs": [
    {
     "data": {
      "text/plain": [
       "{'Ershova Anna', 'Loginov Vladislav'}"
      ]
     },
     "execution_count": 33,
     "metadata": {},
     "output_type": "execute_result"
    }
   ],
   "source": [
    "# студенты курса \"Аналитик данных\"\n",
    "da_students = {'Ivanov Alexander', 'Loginov Vladislav', 'Ershova Anna', 'Korneva Daria'}\n",
    "# студенты курса \"Визуализация данных\"\n",
    "dv_students = {'Ershova Anna', 'Egunov Andrey', 'Ignatov Alexey', 'Loginov Vladislav'}\n",
    "\n",
    "# результат\n",
    "students = da_students.intersection(dv_students)\n",
    "\n",
    "students\n"
   ]
  },
  {
   "cell_type": "markdown",
   "id": "cabbc28b-fc2a-4a5c-bc93-aeb852d5dcde",
   "metadata": {},
   "source": [
    "### Задание_13:\n",
    "\n",
    "В переменной a хранится список целых неотрицательных чисел. Количество чисел четное.\n",
    "Напишите программу, которая будет делить этот список пополам, определять суммы чисел в половинах списка (sum_left и sum_right). \n",
    "Если sum_left равно sum_right, то сохраните в переменную result значение True,  в противном случае — False.  "
   ]
  },
  {
   "cell_type": "code",
   "execution_count": 43,
   "id": "c5798842-7d85-45be-a1c5-0011864b8075",
   "metadata": {},
   "outputs": [
    {
     "name": "stdout",
     "output_type": "stream",
     "text": [
      "Список а:  [1, 6, 4, 3]\n",
      "Длина списка:  4\n",
      "sum_left списка:  7\n",
      "sum_right списка:  7\n",
      "sum_right = sum_left?  True\n"
     ]
    }
   ],
   "source": [
    "a = [1, 6, 4, 3]\n",
    "\n",
    "len_a = len(a)\n",
    "count_values = int(len(a)/2)\n",
    "\n",
    "\n",
    "# сумма чисел в левой половине списка \"а\" \n",
    "sum_left = sum(a[:count_values])                # v.2:    sum_left = sum(a[:(len(a) // 2)])\n",
    "\n",
    "# сумма чисел в правой половине списка \"а\" \n",
    "sum_right = sum(a[count_values:])               # v.2:   sum_right = sum(a[(len(a) // 2) : ])\n",
    "\n",
    "\n",
    "# If sum_left = sum_righ then result = True, else: result = False\n",
    "result = sum_left == sum_right\n",
    "\n",
    "# -------------------------------------\n",
    "print('Список а: ', a)\n",
    "print('Длина списка: ', len_a)\n",
    "\n",
    "print('sum_left списка: ', sum_left)\n",
    "print('sum_right списка: ', sum_right)\n",
    "print('sum_right = sum_left? ', result)\n",
    "\n"
   ]
  },
  {
   "cell_type": "markdown",
   "id": "1ae73fba-39e1-4224-bd2d-efe5afcb4495",
   "metadata": {},
   "source": [
    "### Задание_14:\n",
    "\n",
    "Даны список целых чисел a и число b. Удалите из a первое и последнее вхождение числа b.  "
   ]
  },
  {
   "cell_type": "code",
   "execution_count": 49,
   "id": "77daa489-0a4d-4b2b-9971-d0a0d8e5faf1",
   "metadata": {},
   "outputs": [
    {
     "data": {
      "text/plain": [
       "[2, 2, 1, 3, 2, 3]"
      ]
     },
     "execution_count": 49,
     "metadata": {},
     "output_type": "execute_result"
    }
   ],
   "source": [
    "a = [1, 2, 2, 1, 3, 2, 1, 3]\n",
    "b = 1 \n",
    "\n",
    "#-> a = [2, 2, 1, 3, 2, 3]\n",
    "\n",
    "a.remove(b)\n",
    "a.reverse()\n",
    "a.remove(b)\n",
    "a.reverse()\n",
    "\n",
    "#-> a = [2, 2, 1, 3, 2, 3]"
   ]
  },
  {
   "cell_type": "markdown",
   "id": "3f333ac4-1f7b-42fc-8ed3-f38ba44c619c",
   "metadata": {},
   "source": [
    "# III. Словари"
   ]
  },
  {
   "cell_type": "code",
   "execution_count": 17,
   "id": "2f8aa694-7859-42ae-acc1-100d9e8827f3",
   "metadata": {},
   "outputs": [],
   "source": [
    "course_info = {'course_names':{'eng':'python_intro', 'ru':'Введение в Питон'},\n",
    "              'teacher':'Karpov',\n",
    "               'n_lessons': 10,\n",
    "               'n_students': 10399,\n",
    "               'school_name': 'KarpovCourses'\n",
    "              }"
   ]
  },
  {
   "cell_type": "code",
   "execution_count": 3,
   "id": "73178f6c-d96c-45ea-83f6-07c156aea98d",
   "metadata": {},
   "outputs": [
    {
     "data": {
      "text/plain": [
       "'Karpov'"
      ]
     },
     "execution_count": 3,
     "metadata": {},
     "output_type": "execute_result"
    }
   ],
   "source": [
    "course_info['teacher']"
   ]
  },
  {
   "cell_type": "code",
   "execution_count": 6,
   "id": "42e33cf1-797f-43d9-8337-3b985b7b2d6e",
   "metadata": {},
   "outputs": [
    {
     "data": {
      "text/plain": [
       "['course_name', 'teacher', 'n_lessons', 'n_students', 'school_name']"
      ]
     },
     "execution_count": 6,
     "metadata": {},
     "output_type": "execute_result"
    }
   ],
   "source": [
    "keys_list = list(course_info.keys())\n",
    "keys_list"
   ]
  },
  {
   "cell_type": "code",
   "execution_count": 8,
   "id": "3a48421b-cc4a-4ab8-9c89-5ee870873994",
   "metadata": {},
   "outputs": [
    {
     "data": {
      "text/plain": [
       "['python_intro', 'Karpov', 10, 10399, 'KarpovCourses']"
      ]
     },
     "execution_count": 8,
     "metadata": {},
     "output_type": "execute_result"
    }
   ],
   "source": [
    "values_list = list(course_info.values())\n",
    "values_list"
   ]
  },
  {
   "cell_type": "code",
   "execution_count": 11,
   "id": "08a87f50-5b7e-410d-b3f1-ccad783b13bd",
   "metadata": {},
   "outputs": [
    {
     "data": {
      "text/plain": [
       "[('course_name', 'python_intro'),\n",
       " ('teacher', 'Karpov'),\n",
       " ('n_lessons', 10),\n",
       " ('n_students', 10399),\n",
       " ('school_name', 'KarpovCourses')]"
      ]
     },
     "execution_count": 11,
     "metadata": {},
     "output_type": "execute_result"
    }
   ],
   "source": [
    "list(course_info.items())\n",
    "# список из пар словаря"
   ]
  },
  {
   "cell_type": "code",
   "execution_count": 16,
   "id": "3f221395-f0d5-43db-8907-19b1191735ba",
   "metadata": {},
   "outputs": [],
   "source": [
    "course_info.get('skksksksk')\n",
    "# get(*) - если этот ключ в словаре есть, то выводит его значение, если нет - то ничего не происходит (без вывода ошибок)"
   ]
  },
  {
   "cell_type": "code",
   "execution_count": 20,
   "id": "76974d4a-fa54-4e9a-b3d8-d776cd74e150",
   "metadata": {},
   "outputs": [
    {
     "data": {
      "text/plain": [
       "'Введение в Питон'"
      ]
     },
     "execution_count": 20,
     "metadata": {},
     "output_type": "execute_result"
    }
   ],
   "source": [
    "course_info['course_names']['ru']"
   ]
  },
  {
   "cell_type": "code",
   "execution_count": null,
   "id": "fdfae0e1-2d52-4cda-99c8-bf1d664efa3a",
   "metadata": {},
   "outputs": [],
   "source": []
  },
  {
   "cell_type": "code",
   "execution_count": 23,
   "id": "0d78ca66-fb8d-47b1-8a87-bb019704c643",
   "metadata": {},
   "outputs": [],
   "source": [
    "lang_course_name = 'eng'"
   ]
  },
  {
   "cell_type": "code",
   "execution_count": 25,
   "id": "c1f6804e-20d3-4294-919f-d047e40f387c",
   "metadata": {},
   "outputs": [
    {
     "data": {
      "text/plain": [
       "'python_intro'"
      ]
     },
     "execution_count": 25,
     "metadata": {},
     "output_type": "execute_result"
    }
   ],
   "source": [
    "course_info['course_names'][lang_course_name]"
   ]
  },
  {
   "cell_type": "code",
   "execution_count": 26,
   "id": "4c879524-cda8-4614-b1c1-99849007a7ae",
   "metadata": {},
   "outputs": [],
   "source": [
    "lang_course_name = 'ru'"
   ]
  },
  {
   "cell_type": "code",
   "execution_count": 27,
   "id": "a90f455e-4471-4b79-8132-700c4fa5d768",
   "metadata": {},
   "outputs": [
    {
     "data": {
      "text/plain": [
       "'Введение в Питон'"
      ]
     },
     "execution_count": 27,
     "metadata": {},
     "output_type": "execute_result"
    }
   ],
   "source": [
    "course_info['course_names'][lang_course_name]"
   ]
  },
  {
   "cell_type": "markdown",
   "id": "795fa2c4-a1f8-4e59-b9e5-562ad03d4f01",
   "metadata": {},
   "source": [
    "------------------"
   ]
  },
  {
   "cell_type": "code",
   "execution_count": null,
   "id": "a64c130e-0b78-4fce-a2bb-278ea0ccf900",
   "metadata": {},
   "outputs": [],
   "source": [
    "# создаем словарь, который хранит информацию о студентах\n",
    "students = {\n",
    "    'Василий': {'возраст': 23, 'курс': 3},\n",
    "    'Мария': {'возраст': 20, 'курс': 2},\n",
    "    'Петр': {'возраст': 22, 'курс': 2},\n",
    "    'Ольга': {'возраст': 21, 'курс': 3}\n",
    "}\n",
    "# выводим информацию о студенте с именем \"Василий\"\n",
    "print(students['Василий'])\n",
    "# выводим возраст студента \"Мария\"\n",
    "print(students['Мария']['возраст'])"
   ]
  },
  {
   "cell_type": "markdown",
   "id": "cb298b55-5da3-46ac-ab75-6a24192dbbe2",
   "metadata": {},
   "source": [
    "### Задание_1:\n",
    "\n",
    "В переменную cities_population  сохраните словарь с тремя ключами: 'Москва', 'Париж', 'Токио'. \r\n",
    "В качестве значений сохраните населедение этих городов в млн. человек: 11.98, 2.16, 13.96. \r\n",
    "Ключами нашего словаря будут строки, значениями — числа в формате float."
   ]
  },
  {
   "cell_type": "code",
   "execution_count": 32,
   "id": "f5e09dcd-bedc-41df-a0dd-cda2a3baab62",
   "metadata": {},
   "outputs": [
    {
     "data": {
      "text/plain": [
       "{'Москва': 11.98, 'Париж': 2.16, 'Токио': 13.96}"
      ]
     },
     "execution_count": 32,
     "metadata": {},
     "output_type": "execute_result"
    }
   ],
   "source": [
    "cities_population = {'Москва': 11.98, 'Париж': 2.16, 'Токио': 13.96}\n",
    "cities_population"
   ]
  },
  {
   "cell_type": "markdown",
   "id": "996c49ea-b6f6-4a49-b0f4-dbe39c007f48",
   "metadata": {},
   "source": [
    "---------------"
   ]
  },
  {
   "cell_type": "code",
   "execution_count": 36,
   "id": "29d306f6-6b52-4b79-b333-df4dcd801ccc",
   "metadata": {},
   "outputs": [
    {
     "data": {
      "text/plain": [
       "[(1, 'a'), (2, 'b'), (3, 'c')]"
      ]
     },
     "execution_count": 36,
     "metadata": {},
     "output_type": "execute_result"
    }
   ],
   "source": [
    "# Оператор zip() объединяет элементы из нескольких последовательностей. \n",
    "x = [1, 2, 3]\n",
    "y = ['a', 'b', 'c']\n",
    "result = zip(x,y)\n",
    "list(result)"
   ]
  },
  {
   "cell_type": "markdown",
   "id": "c749a0ab-6e8a-4be5-bbfe-35798512bbfd",
   "metadata": {},
   "source": [
    "### Задание_2:\n",
    "\n",
    "Дан словарь dict_input. Поменяйте ключи и значения местами. Результат сохраните в result. \r\n",
    "\r\n",
    "Пример: \r\n",
    "\r\n",
    "dict_input = {\"1\": 11, \"2\": 22, \"3\":   33}\r\n",
    "result = {11: \"1\", 22:\"2\", 33:\"3\"}t."
   ]
  },
  {
   "cell_type": "code",
   "execution_count": 35,
   "id": "4805b2b7-b401-4e41-88f0-ce5120d7ee8c",
   "metadata": {},
   "outputs": [],
   "source": [
    "dict_input = {\"1\": 11, \"2\": 22, \"3\": 33}\n",
    "# result = {11: \"1\", 22:\"2\", 33:\"3\"}"
   ]
  },
  {
   "cell_type": "code",
   "execution_count": 53,
   "id": "b7baa0f1-1a6d-4ffe-867e-ba77bbcfc9a7",
   "metadata": {},
   "outputs": [
    {
     "name": "stdout",
     "output_type": "stream",
     "text": [
      "{225.89: 'cost_price', 550.0: 'sell_price', 100: 'eclairs'}\n"
     ]
    }
   ],
   "source": [
    "#  Вариант 1\n",
    "dict_input = {'cost_price': 225.89, 'sell_price': 550.0, 'eclairs': 100}\n",
    "result = {\n",
    "    list(dict_input.values())[0]:list(dict_input)[0], \n",
    "    list(dict_input.values())[1]:list(dict_input)[1],\n",
    "    list(dict_input.values())[2]:list(dict_input)[2]\n",
    "}\n",
    "print(result)"
   ]
  },
  {
   "cell_type": "code",
   "execution_count": 57,
   "id": "91b9afe8-aa57-49f3-9a1a-1c917e796f72",
   "metadata": {},
   "outputs": [
    {
     "name": "stdout",
     "output_type": "stream",
     "text": [
      "{11: '1', 22: '2', 33: '3'}\n"
     ]
    }
   ],
   "source": [
    "# Вариант 2\n",
    "dict_input = {\"1\": 11, \"2\": 22, \"3\": 33}\n",
    "\n",
    "result = dict( zip( dict_input.values(), dict_input.keys()) ) \n",
    "\n",
    "print(result)"
   ]
  },
  {
   "cell_type": "code",
   "execution_count": 60,
   "id": "38a66765-2faf-455e-bded-bb4a60da2443",
   "metadata": {},
   "outputs": [
    {
     "name": "stdout",
     "output_type": "stream",
     "text": [
      "{11: '1', 22: '2', 33: '3'}\n"
     ]
    }
   ],
   "source": [
    "# Вариант 3\n",
    "dict_input = {\"1\": 11, \"2\": 22, \"3\": 33}\n",
    "\n",
    "result = { b : a for a, b in dict_input.items()}\n",
    "\n",
    "print(result)"
   ]
  },
  {
   "cell_type": "markdown",
   "id": "e1985f12-c790-4bef-b6a7-c3e71efb14c4",
   "metadata": {},
   "source": [
    "### Задание_3:\n",
    "\n",
    "Катя — владелец небольшого кондитерского производства, на котором изготавливаются эклеры. \n",
    "У нас  есть словарь data, в котором содержится информация о себестоимости единицы товара cost_price, \n",
    "продажной цене sell_price и количество товара eclairs. \n",
    "\n",
    "Нужно посчитать, какую прибыль Катя получает после продажи своей продукции. \n",
    "\n",
    "Результат сохраните в переменную result, округлив сумму до целого числа."
   ]
  },
  {
   "cell_type": "code",
   "execution_count": 67,
   "id": "fbee9574-0287-4e11-a684-c1ef414889ba",
   "metadata": {},
   "outputs": [
    {
     "data": {
      "text/plain": [
       "32411"
      ]
     },
     "execution_count": 67,
     "metadata": {},
     "output_type": "execute_result"
    }
   ],
   "source": [
    "data = {\n",
    "  \"cost_price\": 225.89,\n",
    "  \"sell_price\": 550.00,\n",
    "  \"eclairs\": 100\n",
    "}\n",
    "result = round((data['sell_price'] - data['cost_price']) * data['eclairs'])\n",
    "result"
   ]
  },
  {
   "cell_type": "markdown",
   "id": "22d61eff-9b01-42dd-81db-e6f4c88521c3",
   "metadata": {},
   "source": [
    "### Задание_4:\n",
    "\n",
    "Есть словарь student, в котором хранятся имя студента и список его оценок. \n",
    "В result  сохраните словарь с именем студента и самой высокой его оценкой. "
   ]
  },
  {
   "cell_type": "code",
   "execution_count": null,
   "id": "8c90efc2-43c9-4a69-8818-37651ae7d6a9",
   "metadata": {},
   "outputs": [],
   "source": [
    "Пример:\n",
    "\n",
    "student = {\"name\": \"Igor\", \"notes\": [4, 5, 4]}\n",
    "result = {\"name\": \"Igor\", \"max_note\": 5}"
   ]
  },
  {
   "cell_type": "code",
   "execution_count": 73,
   "id": "0f083b9e-ae58-40f3-b5d5-10d9938b2f6f",
   "metadata": {},
   "outputs": [
    {
     "data": {
      "text/plain": [
       "5"
      ]
     },
     "execution_count": 73,
     "metadata": {},
     "output_type": "execute_result"
    }
   ],
   "source": [
    "max_note = max(list(student['notes']))"
   ]
  },
  {
   "cell_type": "code",
   "execution_count": 82,
   "id": "0dc0bb92-ac0a-4527-b429-ba416219ea66",
   "metadata": {},
   "outputs": [],
   "source": [
    "student = {\"name\": \"Igor\", \"notes\": [4, 5, 4]}\n",
    "\n",
    "# Вариант 1\n",
    "result = {\"name\": list(student.values())[0], 'max_note' : max(list(student['notes']))}\n",
    "\n",
    "# Вариант 2\n",
    "result = {\"name\": student[\"name\"], \"max_note\": max(student[\"notes\"])}\n"
   ]
  },
  {
   "cell_type": "markdown",
   "id": "a15c2dfc-f89c-494d-8b25-08ae3b1b310d",
   "metadata": {},
   "source": [
    "### Задание_5:\n",
    "\n",
    "Антон учится в karpov.courses. В словаре anton_courses хранится информация о завершенных им курсах и количестве набранных баллов. \n",
    "\n",
    "Данные в словаре хранятся в формате ключ — название курса, значение — количество баллов в числовом формате. \n",
    "\n",
    "Антон завершил обучение на курсе HardML и набрал 120 баллов. Добавьте в словарь anton_courses эту информацию. \n",
    "\n",
    "В переменную courses сохраните список пройденных курсов. \n",
    "\n",
    "В переменную StartML сохраните количество баллов, набранное Антоном на одноименном курсе, эта информация есть в словаре. "
   ]
  },
  {
   "cell_type": "code",
   "execution_count": 86,
   "id": "8af9b436-491d-40d5-ad0a-092805df4582",
   "metadata": {},
   "outputs": [
    {
     "data": {
      "text/plain": [
       "87"
      ]
     },
     "execution_count": 86,
     "metadata": {},
     "output_type": "execute_result"
    }
   ],
   "source": [
    "anton_courses = {'SimulatorAnalyst': 56, \n",
    "                 'StartML': 87, \n",
    "                 'DataAnalyst': 140}\n",
    "\n",
    "anton_courses['HardML'] = 120\n",
    "courses = list(anton_courses.keys())\n",
    "StartML = anton_courses['StartML']"
   ]
  },
  {
   "cell_type": "markdown",
   "id": "6fa5a6b7-4034-43cb-a943-64999b1726f6",
   "metadata": {},
   "source": [
    "### Задание_6:\n",
    "\n",
    "У нас есть магазин одежды LARA. В словаре shop_stock хранится информация о товарах, имеющихся в наличии на складе магазина. \n",
    "\n",
    "Информация указана в формате ключ — артикул товара, значение — количество единиц. \n",
    "\r\n",
    "В магазин поставили новую партию товаров, в словаре shop_new_goods записана информация о поставленых товарах и их количестве.\n",
    " \r\n",
    "Создайте словарь result, который будет содержать информацию и о товарах на складе, и о товарах из новой поси.и.вк\n",
    " \n",
    "Известно, что если на складе оставалась хотя бы одна единица какого-то типа товара, то товара этого типа не было в поставк. "
   ]
  },
  {
   "cell_type": "code",
   "execution_count": 97,
   "id": "1793fc17-a652-459d-9530-9f24bac35cb0",
   "metadata": {},
   "outputs": [
    {
     "data": {
      "text/plain": [
       "{'2358241350-50': 1,\n",
       " '2358000350-30': 24,\n",
       " '2358241350-00': 3,\n",
       " '2358241350-60': 10}"
      ]
     },
     "execution_count": 97,
     "metadata": {},
     "output_type": "execute_result"
    }
   ],
   "source": [
    "shop_stock = {\"2358241350-50\": 1, \"2358000350-30\": 24, \"2358241350-00\": 3}\n",
    "shop_new_goods = {\"2358241350-60\": 10}\n",
    "\n",
    "result = shop_stock.copy()\n",
    "result.update(shop_new_goods)"
   ]
  },
  {
   "cell_type": "markdown",
   "id": "a5aa01d3-ba53-40fe-96b7-a56599f866a2",
   "metadata": {},
   "source": [
    "### Задание_7:\n",
    "\n",
    "Магазин ВкуссЧилл хранит информацию о имеющихся в наличии фруктах и овощах в словаре input_dict в формате ключ — название фрукта или овоща, значение — количество килограмм в наличии. \n",
    "\n",
    "Посчитайте, сколько всего килограммов фруктов и овощей имеется в магазине. Результат сохраните в переменную result.  "
   ]
  },
  {
   "cell_type": "code",
   "execution_count": 99,
   "id": "4d760383-7c4f-4ef1-bfd8-dbcef8335481",
   "metadata": {},
   "outputs": [],
   "source": [
    "input_dict = {\"морковь\": 10.44, \"капуста\": 5.06, \"клубника\": 3}\n",
    "\n",
    "# result = sum(list(input_dict.values()))\n",
    "result = sum(input_dict.values())\n",
    "\n",
    "# result = 18.5"
   ]
  },
  {
   "cell_type": "markdown",
   "id": "632e548f-0a16-4e19-a281-2ef1746cf38d",
   "metadata": {},
   "source": [
    "### Задание_8:\n",
    "\n",
    "Имеется словарь courses, содержащий информацию о стоимости обучения в karpov.courses в формате:\n",
    "    \n",
    "    ключ — название курса\n",
    "    \n",
    "    значение — стоимость обучения\n",
    "\n",
    "Найдите цену самого дорогого курса. Результат сохраните в  result."
   ]
  },
  {
   "cell_type": "code",
   "execution_count": 111,
   "id": "2138086c-f0a3-43d8-87ca-68c348686575",
   "metadata": {},
   "outputs": [],
   "source": [
    "courses = {\"Python\": 80000, \"SQL\": 300000}\n",
    "result = max(courses.values())\n",
    "# result = 300000"
   ]
  },
  {
   "cell_type": "markdown",
   "id": "a69fb675-3521-4a40-9d2b-f053826ae073",
   "metadata": {},
   "source": [
    "### Задание_9:\n",
    "\n",
    "В базе данных МАИ информация о студентах и кафедрах, к которым они прикреплены, хранится в словаре kaf_students в формате: \n",
    "    \n",
    "    ключ — ФИ студента\n",
    "\n",
    "    значение — код кафедры. \n",
    "\n",
    "После второго курса по итогам последних двух сессий был составлен рейтинг студентов, на основе которого произошло перераспределение студентов по кафедрам. Часть студентов продолжила обучение на своей кафедре, а некоторые студенты перешли с одной кафедры на другую. Информация о студентах, перешедших на новую кафедру, хранится в словаре new_kaf_students. \n",
    "\n",
    "Обновите информацию в словаре kaf_students, добабвив в словарь данные из new_kaf_students."
   ]
  },
  {
   "cell_type": "code",
   "execution_count": 112,
   "id": "a4706d86-aa04-4496-b2a8-4ba33133346c",
   "metadata": {},
   "outputs": [
    {
     "data": {
      "text/plain": [
       "{'Карпов Анатолий Дмитриевич': 100, 'Иванчей Иван Иванович': 200}"
      ]
     },
     "execution_count": 112,
     "metadata": {},
     "output_type": "execute_result"
    }
   ],
   "source": [
    "kaf_students  = {'Карпов Анатолий Дмитриевич': 100}\n",
    "new_kaf_students =  {'Иванчей Иван Иванович': 200}\n",
    "\n",
    "\n",
    "kaf_students.update(new_kaf_students)\n",
    "kaf_students\n",
    "# kaf_students = {'Карпов Анатолий Дмитриевич': 100, 'Иванчей Иван Иванович': 200}"
   ]
  },
  {
   "cell_type": "markdown",
   "id": "b7437712-0fe9-475a-8128-5e75a6805f45",
   "metadata": {},
   "source": [
    "----------"
   ]
  },
  {
   "cell_type": "markdown",
   "id": "2bfd0ae8-13a9-4290-9c36-2bbb209ffa4c",
   "metadata": {},
   "source": [
    "frozenset можно использовать в качестве ключа словаря/\n",
    "\n",
    "Предположим, мы хотим в качестве ключа, хранить сразу пару значений — имя пользователя и его возраст.\r\n",
    "    \r\n",
    "students_courses = {    }\r\n",
    "name_age = frozenset(['Anatoly', 3\n",
    "    ])\r\n",
    "students_courses.update({name_age: ['Python', 'C++\n",
    "    ]})\r\n",
    "print(students_courses) # => {frozenset({32, 'Anatoly'}): ['Python', 'C\n",
    "\n",
    "Это один из примеров практического применения frozenset, если мы хотим создать словарь, где сам ключ — это массив из нескольких элементов, \r\n",
    "то frozenset сможет нам помочь. Список или обычный set использовать в качестве ключа для словаря не получится.++']}"
   ]
  },
  {
   "cell_type": "markdown",
   "id": "d1758476-f333-427f-8af1-1d2aefaea318",
   "metadata": {},
   "source": [
    "# IV. Строки"
   ]
  },
  {
   "cell_type": "code",
   "execution_count": 116,
   "id": "05037a49-2781-408d-94a1-863668e8fea9",
   "metadata": {},
   "outputs": [
    {
     "data": {
      "text/plain": [
       "'stapoK atikiM'"
      ]
     },
     "execution_count": 116,
     "metadata": {},
     "output_type": "execute_result"
    }
   ],
   "source": [
    "name = 'Mikita Kopats'\n",
    "name[-1::-1]"
   ]
  },
  {
   "cell_type": "code",
   "execution_count": 117,
   "id": "cc1c24a8-11db-4c39-a93d-3560efc59ebb",
   "metadata": {},
   "outputs": [
    {
     "data": {
      "text/plain": [
       "['M', 'i', 'k', 'i', 't', 'a', ' ', 'K', 'o', 'p', 'a', 't', 's']"
      ]
     },
     "execution_count": 117,
     "metadata": {},
     "output_type": "execute_result"
    }
   ],
   "source": [
    "list(name)"
   ]
  },
  {
   "cell_type": "code",
   "execution_count": 118,
   "id": "b0d9d198-f564-44e7-baf3-746920cf69c5",
   "metadata": {},
   "outputs": [
    {
     "data": {
      "text/plain": [
       "{' ', 'K', 'M', 'a', 'i', 'k', 'o', 'p', 's', 't'}"
      ]
     },
     "execution_count": 118,
     "metadata": {},
     "output_type": "execute_result"
    }
   ],
   "source": [
    "set(name)"
   ]
  },
  {
   "cell_type": "code",
   "execution_count": 119,
   "id": "0421a2f5-9a66-474d-ad62-7a38c136f848",
   "metadata": {},
   "outputs": [
    {
     "data": {
      "text/plain": [
       "'mikita kopats'"
      ]
     },
     "execution_count": 119,
     "metadata": {},
     "output_type": "execute_result"
    }
   ],
   "source": [
    "name.lower()"
   ]
  },
  {
   "cell_type": "code",
   "execution_count": 120,
   "id": "d2edbd5e-f9ad-4644-a5c5-d92de2bb8587",
   "metadata": {},
   "outputs": [
    {
     "data": {
      "text/plain": [
       "'MIKITA KOPATS'"
      ]
     },
     "execution_count": 120,
     "metadata": {},
     "output_type": "execute_result"
    }
   ],
   "source": [
    "name.upper()"
   ]
  },
  {
   "cell_type": "code",
   "execution_count": 123,
   "id": "2fbbb0d1-c4d5-4c67-827e-4d58400cfc45",
   "metadata": {},
   "outputs": [
    {
     "data": {
      "text/plain": [
       "['Mikita', 'Kopats']"
      ]
     },
     "execution_count": 123,
     "metadata": {},
     "output_type": "execute_result"
    }
   ],
   "source": [
    "name.split(' ')"
   ]
  },
  {
   "cell_type": "code",
   "execution_count": 127,
   "id": "6b4f20a0-e64b-46d0-8bb5-3d287fda5924",
   "metadata": {},
   "outputs": [],
   "source": [
    "course_info = {'course_names':{'eng':'Python Intro', 'ru':'Введение в Питон'},\n",
    "              'teacher':'Karpov',\n",
    "               'n_lessons': 10,\n",
    "               'n_students': 10399,\n",
    "               'school_name': 'KarpovCourses',\n",
    "               'start_date': '2024-07-26'\n",
    "              }"
   ]
  },
  {
   "cell_type": "code",
   "execution_count": 129,
   "id": "1784d542-edf4-45d8-be72-4fa1968a33cd",
   "metadata": {},
   "outputs": [],
   "source": [
    "user_name = 'Mikita Kopats'\n",
    "course_name = course_info['course_names']['eng']\n",
    "start_date = course_info['start_date']"
   ]
  },
  {
   "cell_type": "code",
   "execution_count": 137,
   "id": "b80a911f-bbb1-4114-a7d4-1afea99e9a5c",
   "metadata": {},
   "outputs": [
    {
     "name": "stdout",
     "output_type": "stream",
     "text": [
      "Hi, Mikita Kopats!\n",
      "Welcom to the Python Intro!\n",
      "The course will start on 2024-07-26.\n",
      "\n"
     ]
    }
   ],
   "source": [
    "# Вариант 1, f''\n",
    "greetings_text = f'''Hi, {user_name}!\n",
    "Welcom to the {course_name}!\n",
    "The course will start on {start_date}.\n",
    "'''\n",
    "\n",
    "print(greetings_text)"
   ]
  },
  {
   "cell_type": "code",
   "execution_count": 138,
   "id": "30310ffc-bee4-4f8f-8093-28a42234123f",
   "metadata": {},
   "outputs": [
    {
     "name": "stdout",
     "output_type": "stream",
     "text": [
      "Hi, Mikita Kopats!\n",
      "Welcom to the Python Intro!\n",
      "The course will start on 2024-07-26.\n",
      "\n"
     ]
    }
   ],
   "source": [
    "# Вариант 2, format\n",
    "greetings_text = '''Hi, {}!\n",
    "Welcom to the {}!\n",
    "The course will start on {}.\n",
    "'''.format(user_name, course_name, start_date)\n",
    "\n",
    "print(greetings_text)"
   ]
  },
  {
   "cell_type": "markdown",
   "id": "880f02f7-a31e-41d2-ba95-4bad2dd5b507",
   "metadata": {},
   "source": [
    "### Задание_1:\n",
    "В переменных str_1 и str_2 сохранены две строки. \n",
    "    \n",
    "Если все буквы в строках одинаковые, вам нужно сохранить в переменную is_the_same_letters значение True, \n",
    "если буквы в строках отличаются —сохраните в переменную значение False.\n",
    "\n",
    "Мы не учитываем порядок букв, их количество и регистр. Сами переменные уже созданы, начинайте сразу готовить код для работы с ними."
   ]
  },
  {
   "cell_type": "markdown",
   "id": "ec3ecabf-5d0e-4584-ae8b-fc1431948813",
   "metadata": {},
   "source": [
    "str_1 = 'AaB'\n",
    "str_2 = 'Ab'\n",
    "is_the_same_letters = True \n",
    "\n",
    "str_1 = 'Aa'\n",
    "str_2 = 'AaB'\n",
    "is_the_same_letters = False"
   ]
  },
  {
   "cell_type": "code",
   "execution_count": 147,
   "id": "1c9ef492-7d5f-4fd8-b012-0c5e7c0fbf78",
   "metadata": {},
   "outputs": [],
   "source": [
    "str_1 = 'AaB'\n",
    "str_2 = 'Ab'"
   ]
  },
  {
   "cell_type": "code",
   "execution_count": 153,
   "id": "6665cf77-791b-4ca9-8031-976b7eeaaeb8",
   "metadata": {},
   "outputs": [
    {
     "data": {
      "text/plain": [
       "True"
      ]
     },
     "execution_count": 153,
     "metadata": {},
     "output_type": "execute_result"
    }
   ],
   "source": [
    "is_the_same_letters = set(str_1.upper()) == set(str_2.upper())\n",
    "is_the_same_letters"
   ]
  },
  {
   "cell_type": "code",
   "execution_count": 155,
   "id": "3606ffb1-5379-4d26-9de6-a2a91849a3ec",
   "metadata": {},
   "outputs": [
    {
     "data": {
      "text/plain": [
       "{'A', 'B'}"
      ]
     },
     "execution_count": 155,
     "metadata": {},
     "output_type": "execute_result"
    }
   ],
   "source": [
    "set(str_1.upper())"
   ]
  },
  {
   "cell_type": "markdown",
   "id": "fcf1d0f8-ab9e-4c43-aec8-12d4c7c474fe",
   "metadata": {},
   "source": [
    "### Задание_2:\n",
    "В переменной x содержится число с десятичной частью но в формате строки. \n",
    "В переменную y сохраните целое число, которое равняется десятичной части числа x."
   ]
  },
  {
   "cell_type": "code",
   "execution_count": null,
   "id": "ee4e874a-1650-410f-ba3e-30e17687d7ca",
   "metadata": {},
   "outputs": [],
   "source": [
    "Примеры:\n",
    "\n",
    "    x = '3.14' \n",
    "    y = 14 \n",
    " \n",
    "    x = '2.002' \n",
    "    y = 2"
   ]
  },
  {
   "cell_type": "code",
   "execution_count": 163,
   "id": "6adb3ce2-6733-4329-824e-f9c44bfbff26",
   "metadata": {},
   "outputs": [],
   "source": [
    "x = '3.14' \n",
    "y = int(x.split('.')[1])"
   ]
  },
  {
   "cell_type": "markdown",
   "id": "fb957f4f-8ded-49ab-9746-74e4705fa15e",
   "metadata": {},
   "source": [
    "### Задание_3:\n",
    "\n",
    "Даны две строки str_1 и str_2. Сохраните в result True, если str_1 является анаграммой str_2, и False в противном случае. \n",
    "\n",
    "Регистр букв (большая или маленькая буква) не должен влиять на работу программы. \n",
    "\n",
    "То есть 'Кот' и 'Ток' - это валидная анаграмма.\n",
    "\n",
    "Анаграмма — это слово или фраза, образованная путем перестановки букв другого слова или фразы, обычно с использованием \n",
    "всех исходных букв ровно один раз."
   ]
  },
  {
   "cell_type": "code",
   "execution_count": 173,
   "id": "35fc49f0-c601-4ad8-ac24-58e7c2c30a1f",
   "metadata": {},
   "outputs": [],
   "source": [
    "str_1 = \"Привет\"\n",
    "str_2 = \"Провал\"\n",
    "# result = False"
   ]
  },
  {
   "cell_type": "code",
   "execution_count": 187,
   "id": "b377c4c4-e816-42a2-9dcd-fa0cec96bea6",
   "metadata": {},
   "outputs": [],
   "source": [
    "str_1 = \"Кот\"\n",
    "str_2 = \"Ток\"\n",
    "# result = True"
   ]
  },
  {
   "cell_type": "code",
   "execution_count": 189,
   "id": "f7c64995-ca7a-4637-a4ac-690a69aa579a",
   "metadata": {},
   "outputs": [
    {
     "data": {
      "text/plain": [
       "True"
      ]
     },
     "execution_count": 189,
     "metadata": {},
     "output_type": "execute_result"
    }
   ],
   "source": [
    "# вариант только для \"зеркальной\" анограммы \n",
    "result = str_1.lower()[-1::-1] == str_2.lower()\n",
    "result"
   ]
  },
  {
   "cell_type": "code",
   "execution_count": 211,
   "id": "0ac106ad-29be-4b86-a4ff-437ba06845ab",
   "metadata": {},
   "outputs": [
    {
     "data": {
      "text/plain": [
       "True"
      ]
     },
     "execution_count": 211,
     "metadata": {},
     "output_type": "execute_result"
    }
   ],
   "source": [
    "# вариант для анограммы как слов с одинаковым набором букв \n",
    "str_1 = \"автор\"\n",
    "str_2 = \"товар\"\n",
    "result = sorted(str_1.lower()) == sorted(str_2.lower())\n",
    "result"
   ]
  },
  {
   "cell_type": "markdown",
   "id": "464888c2-5215-4471-83ea-d31518016e9c",
   "metadata": {},
   "source": [
    "### Задание_4:\n",
    "В переменную a сохранено некоторое предложение, в котором могут быть добавлены лишние пробелы.  \n",
    "Напишите программу, которая будет убирать из а лишние пробелы и сохранять результат в переменную result. \n",
    "Все слова должны быть разделены одним пробелом, а в начале и конце предложения пробелов быть не должно."
   ]
  },
  {
   "cell_type": "code",
   "execution_count": 213,
   "id": "eb0b0689-d4af-4ae2-b8d2-8ce8ce3f9354",
   "metadata": {},
   "outputs": [],
   "source": [
    "a = \"Я     изучаю   новый язык      программирования.   \"\n",
    "# result = \"Я изучаю новый язык программирования.\""
   ]
  },
  {
   "cell_type": "code",
   "execution_count": 238,
   "id": "94ab6a8e-0876-48f9-ab1b-e845ff0ea8c0",
   "metadata": {},
   "outputs": [
    {
     "data": {
      "text/plain": [
       "'Я изучаю новый язык программирования.'"
      ]
     },
     "execution_count": 238,
     "metadata": {},
     "output_type": "execute_result"
    }
   ],
   "source": [
    "result = \" \".join(a.split())\n",
    "result"
   ]
  },
  {
   "cell_type": "markdown",
   "id": "887855a6-3bf8-4693-babe-58d88862495c",
   "metadata": {},
   "source": [
    "### Задание_5:\n",
    "Напишите программу, основываясь на вводе и выводе в примерах. Вводом будет строка a. Результат сохраните в result.  "
   ]
  },
  {
   "cell_type": "code",
   "execution_count": null,
   "id": "af5fcdd5-48f4-44e7-a0df-d8fc6a7121dd",
   "metadata": {},
   "outputs": [],
   "source": [
    "a = \"div*2\"\n",
    "# result = \"<div></div><div></div>\"\n",
    "\n",
    "a = \"p*1\" \n",
    "# result = \"<p></p>\"\n",
    "\n",
    "a = \"li*3\"\n",
    "# result = \"<li></li><li></li><li></li>\""
   ]
  },
  {
   "cell_type": "code",
   "execution_count": 270,
   "id": "2677f3b9-382c-4fa4-8eff-71387d636134",
   "metadata": {},
   "outputs": [],
   "source": [
    "a = \"div*2\""
   ]
  },
  {
   "cell_type": "code",
   "execution_count": 272,
   "id": "dd068c5d-2243-445c-a1a5-e18cf969af62",
   "metadata": {},
   "outputs": [
    {
     "data": {
      "text/plain": [
       "'<div></div><div></div>'"
      ]
     },
     "execution_count": 272,
     "metadata": {},
     "output_type": "execute_result"
    }
   ],
   "source": [
    "# Вариант 1\n",
    "f'<{a.split('*')[0]}></{a.split('*')[0]}>' * int(a.split('*')[1])"
   ]
  },
  {
   "cell_type": "code",
   "execution_count": 271,
   "id": "87973ea4-6913-4975-8218-65f222898c9a",
   "metadata": {},
   "outputs": [
    {
     "data": {
      "text/plain": [
       "'<div></div><div></div>'"
      ]
     },
     "execution_count": 271,
     "metadata": {},
     "output_type": "execute_result"
    }
   ],
   "source": [
    "# Вариант 2\n",
    "('<'+ a.split('*')[0] + '>' + '</' + a.split('*')[0] + '>') * (int(a.split('*')[1]))"
   ]
  },
  {
   "cell_type": "code",
   "execution_count": 274,
   "id": "761d3a86-bae1-4a82-9b4e-e79a0565c4cf",
   "metadata": {},
   "outputs": [
    {
     "data": {
      "text/plain": [
       "'<div></div><div></div>'"
      ]
     },
     "execution_count": 274,
     "metadata": {},
     "output_type": "execute_result"
    }
   ],
   "source": [
    "# Вариант 3\n",
    "tag = a.split('*')[0]\n",
    "num = a.split('*')[1]\n",
    "result = (\"<\" + tag + \">\" + \"</\" + tag + \">\") * int(num)\n"
   ]
  },
  {
   "cell_type": "markdown",
   "id": "1127286f-6a14-40f7-87ec-6eddfb429f44",
   "metadata": {},
   "source": [
    "### Задание_6:\n",
    "Напишите программу, которая будет принимать строку из слов и возвращать строку, в которой эти слова будут отсортированы в лексикографическом порядке. Исходная строка содержится в переменной x, результат сохраните в result. "
   ]
  },
  {
   "cell_type": "code",
   "execution_count": 291,
   "id": "3de42119-c85b-4287-8dbe-a805b369d785",
   "metadata": {},
   "outputs": [],
   "source": [
    "x = 'У лукоморья дуб зелёный'\n",
    "# result = 'У дуб зелёный лукоморья'"
   ]
  },
  {
   "cell_type": "code",
   "execution_count": 283,
   "id": "386338ef-142e-4597-ad95-74c5a22dc0cb",
   "metadata": {},
   "outputs": [
    {
     "data": {
      "text/plain": [
       "['У', 'дуб', 'зелёный', 'лукоморья']"
      ]
     },
     "execution_count": 283,
     "metadata": {},
     "output_type": "execute_result"
    }
   ],
   "source": [
    "sorted(x.split())"
   ]
  },
  {
   "cell_type": "code",
   "execution_count": 292,
   "id": "1a97f6cf-9ff3-48ed-a214-50fbf13655e4",
   "metadata": {},
   "outputs": [
    {
     "data": {
      "text/plain": [
       "'У дуб зелёный лукоморья'"
      ]
     },
     "execution_count": 292,
     "metadata": {},
     "output_type": "execute_result"
    }
   ],
   "source": [
    "result = \" \".join(sorted(x.split()))\n",
    "result"
   ]
  },
  {
   "cell_type": "markdown",
   "id": "d24e99d9-284c-46bf-b6c0-2ae5b40dba7a",
   "metadata": {},
   "source": [
    "### Задание_7:\n",
    "Посчитайте, сколько раз в предложении x встречается строка y. Результат сохраните в переменную result. "
   ]
  },
  {
   "cell_type": "code",
   "execution_count": 293,
   "id": "99238af4-e1d7-4108-8cf4-1ecf9fee40bf",
   "metadata": {},
   "outputs": [],
   "source": [
    "x = 'На подоконнике в гостиной у бабушки росли цветы, цветы были красные и желтые, очень красивые цветы.'\n",
    "y = 'цветы'\n",
    "# result = 3"
   ]
  },
  {
   "cell_type": "code",
   "execution_count": 294,
   "id": "03f9ed3a-dbe6-4ba3-ab8c-a3125a2885e3",
   "metadata": {},
   "outputs": [
    {
     "data": {
      "text/plain": [
       "3"
      ]
     },
     "execution_count": 294,
     "metadata": {},
     "output_type": "execute_result"
    }
   ],
   "source": [
    "result = x.count(y)\n",
    "result"
   ]
  },
  {
   "cell_type": "markdown",
   "id": "082762b2-c17c-49c9-88e0-370be2ca59eb",
   "metadata": {},
   "source": [
    "### Задание_8:\n",
    "Напишите программу, которая будет принимать номер кредитной карты card и возвращать номер карты, в котором будут видны только последние 4 цифры. Остальные цифры должны заменяться звездочками. Результат сохраните в result."
   ]
  },
  {
   "cell_type": "code",
   "execution_count": 295,
   "id": "8591c26b-a331-4b3b-ab3b-c7aac8a08a89",
   "metadata": {},
   "outputs": [],
   "source": [
    "card = '5468350018455833'\n",
    "# result = '************5833'"
   ]
  },
  {
   "cell_type": "code",
   "execution_count": 307,
   "id": "118238d2-afed-4899-90c5-f3f3a45b2570",
   "metadata": {},
   "outputs": [
    {
     "data": {
      "text/plain": [
       "'************5833'"
      ]
     },
     "execution_count": 307,
     "metadata": {},
     "output_type": "execute_result"
    }
   ],
   "source": [
    "result = '*'*(len(card)-4)+( card[-4::1] )\n",
    "result"
   ]
  },
  {
   "cell_type": "markdown",
   "id": "12f39734-3d24-44fd-96bd-629fc036851d",
   "metadata": {},
   "source": [
    "### Задание_9:\r\n",
    "В переменной а сохранено предложение. Удалите из предложения все вхождения слова или символа b. Результат сохраните в result.  "
   ]
  },
  {
   "cell_type": "code",
   "execution_count": 310,
   "id": "5428931f-f270-48a1-bc2e-98e94cbb30bc",
   "metadata": {},
   "outputs": [],
   "source": [
    "a = 'Я помню чудное мгновенье'\n",
    "b = 'о'\n",
    "# result = 'Я пмню чудне мгнвенье'"
   ]
  },
  {
   "cell_type": "code",
   "execution_count": 314,
   "id": "e132a38f-fadd-4a6a-b702-14991da54617",
   "metadata": {},
   "outputs": [
    {
     "data": {
      "text/plain": [
       "'Я пмню чудне мгнвенье'"
      ]
     },
     "execution_count": 314,
     "metadata": {},
     "output_type": "execute_result"
    }
   ],
   "source": [
    "result = a.replace(b, \"\")\n",
    "result"
   ]
  },
  {
   "cell_type": "code",
   "execution_count": null,
   "id": "1f38dcf5-6d7a-40de-9da4-92e132227c31",
   "metadata": {},
   "outputs": [],
   "source": []
  },
  {
   "cell_type": "markdown",
   "id": "737b51d2-be22-4bbb-8544-fa16dc9e98a0",
   "metadata": {},
   "source": [
    "# V. IF ELIF ELSE"
   ]
  },
  {
   "cell_type": "code",
   "execution_count": 16,
   "id": "e482069c-b6ac-4721-a425-ea97c33b1713",
   "metadata": {},
   "outputs": [],
   "source": [
    "n = 0\n",
    "if n:\n",
    "   print('Условие выполнено')"
   ]
  },
  {
   "cell_type": "code",
   "execution_count": 17,
   "id": "b5bcec8f-ee6b-4c85-a669-2c6200973ef0",
   "metadata": {},
   "outputs": [
    {
     "name": "stdout",
     "output_type": "stream",
     "text": [
      "Условие выполнено\n"
     ]
    }
   ],
   "source": [
    "n = 10\n",
    "if n:\n",
    "   print('Условие выполнено')"
   ]
  },
  {
   "cell_type": "code",
   "execution_count": 18,
   "id": "f2b18c73-a6e5-4acb-8d20-e9c538d44607",
   "metadata": {},
   "outputs": [
    {
     "name": "stdout",
     "output_type": "stream",
     "text": [
      "Условие выполнено\n"
     ]
    }
   ],
   "source": [
    "n = -5\n",
    "if n:\n",
    "   print('Условие выполнено')"
   ]
  },
  {
   "cell_type": "code",
   "execution_count": 19,
   "id": "321ab42b-3663-45c0-b722-0be40e16aab8",
   "metadata": {},
   "outputs": [
    {
     "name": "stdout",
     "output_type": "stream",
     "text": [
      "Условие выполнено\n"
     ]
    }
   ],
   "source": [
    "s = 'Oksana'\n",
    "if s:\n",
    "   print('Условие выполнено')"
   ]
  },
  {
   "cell_type": "code",
   "execution_count": 20,
   "id": "7e6b4f95-dd88-4a74-b6dc-bdb22aac9414",
   "metadata": {},
   "outputs": [],
   "source": [
    "s = ''\n",
    "if s:\n",
    "   print('Условие выполнено')"
   ]
  },
  {
   "cell_type": "code",
   "execution_count": 21,
   "id": "c8804d7f-4fcb-4298-9bef-eee5bc12c245",
   "metadata": {},
   "outputs": [],
   "source": [
    "d = {}\n",
    "if d:\n",
    "   print('Условие выполнено')"
   ]
  },
  {
   "cell_type": "code",
   "execution_count": null,
   "id": "c3b8af46-e362-4799-ba08-1b59e0ece207",
   "metadata": {},
   "outputs": [],
   "source": []
  },
  {
   "cell_type": "code",
   "execution_count": null,
   "id": "1dc86746-ec40-486d-8880-5651b90c669c",
   "metadata": {},
   "outputs": [],
   "source": []
  },
  {
   "cell_type": "code",
   "execution_count": 23,
   "id": "855cfa73-9ec5-41fe-90ca-bf76b8a408d0",
   "metadata": {},
   "outputs": [],
   "source": [
    "score_1 = 85\n",
    "score_2 = 82\n",
    "\n",
    "threshold = 90\n",
    "threshold_last_chance = 70\n",
    "\n",
    "student_name = 'Макс'"
   ]
  },
  {
   "cell_type": "code",
   "execution_count": 25,
   "id": "d9c64aca-0bbd-4ec3-90fb-e6d483762e77",
   "metadata": {},
   "outputs": [
    {
     "name": "stdout",
     "output_type": "stream",
     "text": [
      "Студент Макс не поступил на спец. факультет. Но пока может ожидать второй тур.\n",
      "\n",
      "Данные о других студентах ожидают верификации.\n"
     ]
    }
   ],
   "source": [
    "if score_1 > threshold and score_2 > threshold:\n",
    "    print(f'Студент {student_name} поступил на спец. факультет.')\n",
    "\n",
    "elif score_1 > threshold_last_chance and score_2 > threshold_last_chance:\n",
    "    print(f'Студент {student_name} не поступил на спец. факультет. Но пока может ожидать второй тур.')\n",
    "else:\n",
    "    print(f'Студент {student_name} не поступил на спец. факультет. {min(score_1, score_2)} баллов по одному из предметов было не достаточно.')\n",
    "    \n",
    "print(f'\\nДанные о других студентах ожидают верификации.')"
   ]
  },
  {
   "cell_type": "code",
   "execution_count": null,
   "id": "e2b45306-7980-40f4-94ba-1f4b79386fe8",
   "metadata": {},
   "outputs": [],
   "source": []
  },
  {
   "cell_type": "code",
   "execution_count": 28,
   "id": "d8d59bf8-fe34-4b61-82e9-20c53a0dc00f",
   "metadata": {},
   "outputs": [
    {
     "name": "stdout",
     "output_type": "stream",
     "text": [
      "x - нечетное\n"
     ]
    }
   ],
   "source": [
    "x = 3\n",
    "result = \"четное\" if x % 2 == 0 else \"нечетное\"\n",
    "print(f\"x - {result}\")"
   ]
  },
  {
   "cell_type": "code",
   "execution_count": null,
   "id": "72c9a67b-2aa3-4b10-922c-3d168699f867",
   "metadata": {},
   "outputs": [],
   "source": []
  },
  {
   "cell_type": "markdown",
   "id": "c0c2486d-1787-4fc9-a532-c0d63d983cb4",
   "metadata": {},
   "source": [
    "### Задание_1: \n",
    "В переменных a и b заданы значения длины и ширины прямоугольника соответственно. Проверьте, является ли этот прямоугольник квадратом.\n",
    "\n",
    "Сохраните в переменную result значение True, если это квадрат, иначе False. "
   ]
  },
  {
   "cell_type": "code",
   "execution_count": 30,
   "id": "edc0860a-ad90-402a-92e9-2dcd690c787c",
   "metadata": {},
   "outputs": [
    {
     "data": {
      "text/plain": [
       "True"
      ]
     },
     "execution_count": 30,
     "metadata": {},
     "output_type": "execute_result"
    }
   ],
   "source": [
    "# Пример\n",
    "a = 121 \n",
    "b = 100 \n",
    "\n",
    "result = True if a == b else False \n",
    "result\n"
   ]
  },
  {
   "cell_type": "markdown",
   "id": "e4a9d6f5-a93f-4eb6-9060-47d5af74e8a1",
   "metadata": {},
   "source": [
    "### Задание_2: \n",
    "В переменных a и b заданы два числа отличных по модулю. Квадрат какого числа больше? Сохраните это число в result.  "
   ]
  },
  {
   "cell_type": "code",
   "execution_count": 31,
   "id": "45cda285-93f4-4ceb-8eec-4642637bf186",
   "metadata": {},
   "outputs": [
    {
     "data": {
      "text/plain": [
       "-3"
      ]
     },
     "execution_count": 31,
     "metadata": {},
     "output_type": "execute_result"
    }
   ],
   "source": [
    "# Пример\n",
    "a = 2 \n",
    "b = -3 \n",
    "\n",
    "result = a if abs(a) > abs(b) else b\n"
   ]
  },
  {
   "cell_type": "code",
   "execution_count": null,
   "id": "0e891243-1f08-4681-a934-a8a9c8e61abf",
   "metadata": {},
   "outputs": [],
   "source": []
  },
  {
   "cell_type": "markdown",
   "id": "8116ed55-b8d9-4395-b170-2e3258302a0b",
   "metadata": {},
   "source": [
    "### Задание_3: \n",
    "Катя и Дима решили купить квартиру в Москве. Семейный бюджет ограничен, поэтому им подходят следующие варианты:\r\n",
    "\r\n",
    "Стоимость не более 15 млн, площадь не менее 50 квадратных метров, удаленность от метро не более 25 минут пешком\n",
    ".\r\n",
    "Стоимость не более 13 млн, площадь не менее 35 квадратных метров, удаленность от метро не более 5 минут пешком.\r\n",
    "\r\n",
    "Напишите программу, которая получает на вход стоимость квартиры p, площадь s и удаленность от метро d, \r\n",
    "и сохраняет в переменную result сообщение о том, подходит квартира или нет в формате True или False."
   ]
  },
  {
   "cell_type": "code",
   "execution_count": 33,
   "id": "2258b136-8eda-4a43-b8c6-4cc692418c95",
   "metadata": {},
   "outputs": [],
   "source": [
    "#Пример \n",
    "\n",
    "p = 12950000            # стоимость\n",
    "s = 32                  # площадь\n",
    "d = 13                  # удаленность от метро\n",
    "\n",
    "# result = False"
   ]
  },
  {
   "cell_type": "code",
   "execution_count": 41,
   "id": "bd191d40-8340-4ecc-8d93-ad58306f11a7",
   "metadata": {},
   "outputs": [
    {
     "name": "stdout",
     "output_type": "stream",
     "text": [
      "Введите стоимость квартиры: \n"
     ]
    },
    {
     "name": "stdin",
     "output_type": "stream",
     "text": [
      " 12950000\n"
     ]
    },
    {
     "name": "stdout",
     "output_type": "stream",
     "text": [
      "Введите площадь в квадратных метрах: \n"
     ]
    },
    {
     "name": "stdin",
     "output_type": "stream",
     "text": [
      " 32\n"
     ]
    },
    {
     "name": "stdout",
     "output_type": "stream",
     "text": [
      "Введите удаленность от метро в минутах ходьбы: \n"
     ]
    },
    {
     "name": "stdin",
     "output_type": "stream",
     "text": [
      " 32\n"
     ]
    },
    {
     "name": "stdout",
     "output_type": "stream",
     "text": [
      "False\n"
     ]
    }
   ],
   "source": [
    "print('Введите стоимость квартиры: ')\n",
    "p = float(input())\n",
    "print('Введите площадь в квадратных метрах: ')\n",
    "s = float(input())\n",
    "print('Введите удаленность от метро в минутах ходьбы: ')\n",
    "d = float(input())\n",
    "\n",
    "if (p <= 15000000) and (s >= 50) and (d <= 25):\n",
    "    result = True\n",
    "elif p <= 13000000 and s >= 35 and d <= 5:\n",
    "    result = True\n",
    "else:\n",
    "     result = False\n",
    "print(result)"
   ]
  },
  {
   "cell_type": "markdown",
   "id": "2d7c22ae-acbc-4d6f-a964-a1fa9f52fce4",
   "metadata": {},
   "source": [
    "### Задание_4:\n",
    "Катя завершила обучение на курсе Hard ML и набрала K баллов за решение задач. Чтобы получить сертификат о прохождении курса, необходимо набрать не менее M баллов. Если Катя набрала от L баллов, то получит сертификат с отличием. \n",
    "\n",
    "Переменные K, M и L уже определены. \n",
    "\n",
    "Напишите программу, которая сохранит в переменную result информацию о результатах прохождения курса в следующем формате:\n",
    "\n",
    "        “Недостаточно баллов”, если Кате не хватило баллов для получения сертификата,\n",
    "        “Сертификат выдан”, если Катя набрала количество баллов, необходимое для получения сертификата,\n",
    "        “Выдан сертификат с отличием” если Катя набрала ≥ L баллов."
   ]
  },
  {
   "cell_type": "code",
   "execution_count": 43,
   "id": "dadce1ab-ae24-481b-9114-2b5ef241fcc2",
   "metadata": {},
   "outputs": [
    {
     "name": "stdout",
     "output_type": "stream",
     "text": [
      "Сертификат выдан\n"
     ]
    }
   ],
   "source": [
    "#Пример 1\n",
    "K = 121 # количество баллов, полученных Катей\n",
    "M = 100 # количество баллов, необходимое для получения сертификата\n",
    "L = 150 # количество баллов, необходимое для получения сертификата с отличием\n",
    "\n",
    "if K < M:\n",
    "    result = 'Недостаточно баллов'\n",
    "elif K < L:\n",
    "    result = 'Сертификат выдан'\n",
    "else:\n",
    "    result = 'Выдан сертификат с отличием'\n",
    "    \n",
    "print(result)\n",
    "\n",
    "# result = \"Сертификат выдан\""
   ]
  },
  {
   "cell_type": "markdown",
   "id": "c2c53914-4b18-4ed0-b1de-82253c64e923",
   "metadata": {},
   "source": [
    "### Задание_5:\n",
    "Компания решила выплатить сотрудникам премию в размере:\n",
    "    \n",
    "    2 оклада, если его стаж работы ≥ 2 года\n",
    "    5 окладов, если стаж работы ≥ 5 лет\n",
    "    10 окладов, если стаж работы ≥ 15 лет\n",
    "    \n",
    "В переменной x — зарплата сотрудника, в переменной y — стаж. Вычислите размер премии, результат сохраните в переменную result. "
   ]
  },
  {
   "cell_type": "code",
   "execution_count": 44,
   "id": "ec7278ce-5171-41ca-8c3b-512dec3e3480",
   "metadata": {},
   "outputs": [
    {
     "data": {
      "text/plain": [
       "300000"
      ]
     },
     "execution_count": 44,
     "metadata": {},
     "output_type": "execute_result"
    }
   ],
   "source": [
    "x = 150000\n",
    "y = 3\n",
    "\n",
    "result = 0\n",
    "\n",
    "if y >= 15:\n",
    "    result = x*10\n",
    "elif y >= 5 and y < 15:\n",
    "    result = x*5\n",
    "elif y >= 2 and y < 5:\n",
    "    result = x*2\n",
    "result\n"
   ]
  },
  {
   "cell_type": "markdown",
   "id": "7e32cefc-2ae5-4608-a8db-29af5900e427",
   "metadata": {},
   "source": [
    "### Задание_6:\n",
    "Дан словарь dict_age, в котором хранится информация о возрасте трех братьев в формате:\r\n",
    "    \n",
    "ключ — имя    \r\n",
    "значение — возраст, число целых лет.\r\n",
    "\r\n",
    "Если возраст у братьев разный и получается однозначно определить среднего брата, сохраните имя среднего брата в переменную result.  \r\n",
    "\r\n",
    "Если хотя бы у двух братьев возраст одинаковый, то сохраните в переменную result пустую строку без пробела: ''."
   ]
  },
  {
   "cell_type": "code",
   "execution_count": 100,
   "id": "d3915609-3414-4fcf-9fe2-48d5c4e189c6",
   "metadata": {},
   "outputs": [],
   "source": [
    "dict_age = {'Антон': 5, \n",
    "            'Денис': 14, \n",
    "            'Борис': 9}"
   ]
  },
  {
   "cell_type": "code",
   "execution_count": 79,
   "id": "33f3bfc7-5541-4989-86c0-c6bd279c9986",
   "metadata": {},
   "outputs": [
    {
     "data": {
      "text/plain": [
       "'Денис'"
      ]
     },
     "execution_count": 79,
     "metadata": {},
     "output_type": "execute_result"
    }
   ],
   "source": [
    "#  нахождение самого старшего брата\n",
    "if list(dict_age.values())[0] == list(dict_age.values())[1] and list(dict_age.values())[0] == list(dict_age.values())[2]:\n",
    "    result = ''\n",
    "else:\n",
    "    if list(dict_age.values())[0] > list(dict_age.values())[1] and list(dict_age.values())[0] > list(dict_age.values())[2]:\n",
    "        result = list(dict_age.keys())[0]\n",
    "        \n",
    "    elif list(dict_age.values())[1] > list(dict_age.values())[0] and list(dict_age.values())[1] > list(dict_age.values())[2]:\n",
    "        result = list(dict_age.keys())[1]\n",
    "        \n",
    "    elif list(dict_age.values())[2] > list(dict_age.values())[1] and list(dict_age.values())[2] > list(dict_age.values())[0]:\n",
    "        result = list(dict_age.keys())[2]    \n",
    "    else:\n",
    "        result = ''\n",
    "result"
   ]
  },
  {
   "cell_type": "code",
   "execution_count": 81,
   "id": "f442e257-350a-4191-a252-59bf8d3f6099",
   "metadata": {},
   "outputs": [
    {
     "data": {
      "text/plain": [
       "['Антон', 'Денис', 'Борис']"
      ]
     },
     "execution_count": 81,
     "metadata": {},
     "output_type": "execute_result"
    }
   ],
   "source": [
    "list(dict_age.keys())"
   ]
  },
  {
   "cell_type": "code",
   "execution_count": 84,
   "id": "ca01589a-9231-42a2-8421-e0d368ea96c1",
   "metadata": {},
   "outputs": [
    {
     "data": {
      "text/plain": [
       "[5, 14, 9]"
      ]
     },
     "execution_count": 84,
     "metadata": {},
     "output_type": "execute_result"
    }
   ],
   "source": [
    "list(dict_age.values())"
   ]
  },
  {
   "cell_type": "code",
   "execution_count": 95,
   "id": "8e25bf40-bda4-493e-bc2e-2da2b200a5af",
   "metadata": {},
   "outputs": [
    {
     "data": {
      "text/plain": [
       "[5, 9, 14]"
      ]
     },
     "execution_count": 95,
     "metadata": {},
     "output_type": "execute_result"
    }
   ],
   "source": [
    "sorted(list(dict_age.values()))"
   ]
  },
  {
   "cell_type": "code",
   "execution_count": 101,
   "id": "96470bc9-9aca-4906-a4b8-202d7b2bc0d7",
   "metadata": {},
   "outputs": [
    {
     "data": {
      "text/plain": [
       "'Борис'"
      ]
     },
     "execution_count": 101,
     "metadata": {},
     "output_type": "execute_result"
    }
   ],
   "source": [
    "#  нахождение среднего брата\n",
    "\n",
    "if list(dict_age.values())[0] == sorted(list(dict_age.values()))[1] and list(dict_age.values())[0] != list(dict_age.values())[2] and list(dict_age.values())[0] != list(dict_age.values())[1]:\n",
    "    result = list(dict_age.keys())[0]\n",
    "elif list(dict_age.values())[1] == sorted(list(dict_age.values()))[1] and list(dict_age.values())[1] != list(dict_age.values())[2] and list(dict_age.values())[1] != list(dict_age.values())[0]:\n",
    "    result = list(dict_age.keys())[1]\n",
    "elif list(dict_age.values())[2] == sorted(list(dict_age.values()))[1] and list(dict_age.values())[2] != list(dict_age.values())[0] and list(dict_age.values())[2] != list(dict_age.values())[1]:\n",
    "    result = list(dict_age.keys())[2]    \n",
    "else:\n",
    "    result = ''\n",
    "\n",
    "result"
   ]
  },
  {
   "cell_type": "code",
   "execution_count": null,
   "id": "9dd4ac17-2777-4ce7-9ea4-a1f13a07c9ae",
   "metadata": {},
   "outputs": [],
   "source": [
    "# вариант 2. Нахождение среднего брата\n",
    "\n",
    "ages = list(dict_age.values())\n",
    "if len(set(ages)) == 3:\n",
    "    middle_index = ages.index(sorted(ages)[1])\n",
    "    result = list(dict_age.keys())[middle_index]    \n",
    "else:\n",
    "    result = ''"
   ]
  },
  {
   "cell_type": "code",
   "execution_count": null,
   "id": "97a6ed2e-bd5e-4f5f-b7fa-cce97fce59e6",
   "metadata": {},
   "outputs": [],
   "source": []
  },
  {
   "cell_type": "markdown",
   "id": "53b728ed-1439-4de0-b21f-b47231604609",
   "metadata": {},
   "source": [
    "### Задание_7:\n",
    "\n",
    "Напишите программу, которая будет принимать длины сторон треугольника a, b и c, определять, является ли он прямоугольным и сохранять результат проверки в result в формате True или False. \n",
    "\n",
    "        Прямоугольный треугольник — это треугольник, в котором один угол прямой (то есть 90 градусов).\n",
    "        Самая длинная сторона (гипотенуза) не обязательно будет последним аргументом.\n",
    "        Все аргументы будут целыми числами.\n",
    "\n",
    "Квадрат гипотенузы равен сумме квадратов катетов (двух других сторон)"
   ]
  },
  {
   "cell_type": "code",
   "execution_count": 120,
   "id": "313e1676-e86f-4538-bf50-11aa8a8e1472",
   "metadata": {},
   "outputs": [],
   "source": [
    "a = 3\n",
    "b = 5\n",
    "c = 4\n",
    "# result = True\n",
    "\n",
    "# a = 70\n",
    "# b = 130\n",
    "# c = 110\n",
    "# result = False"
   ]
  },
  {
   "cell_type": "code",
   "execution_count": 135,
   "id": "f6420ed4-d82a-4db5-8efc-b98eb77cfa6f",
   "metadata": {},
   "outputs": [
    {
     "data": {
      "text/plain": [
       "True"
      ]
     },
     "execution_count": 135,
     "metadata": {},
     "output_type": "execute_result"
    }
   ],
   "source": [
    "triangle = sorted([a, b, c])\n",
    "if triangle[2] == ( triangle[0]**2  +  triangle[1]**2   )**0.5:\n",
    "    result = True\n",
    "else:\n",
    "    result = False\n",
    "result"
   ]
  },
  {
   "cell_type": "markdown",
   "id": "fa03e7bd-b07f-4e15-b5f6-0f372455f4c0",
   "metadata": {},
   "source": [
    "### Задание_8:\n",
    "Напишите программу, которая будет высчитывать либо длину окружности, либо периметр квадрата, исходя из переданных аргументов.\n",
    "\n",
    "На вход подаются буква в переменной f и число в переменной v.\n",
    "\n",
    "Буква будет определять геометрическую фигуру:\n",
    "\n",
    "    'S' — квадрат\n",
    "    'С' — круг\n",
    "\n",
    "Если буквой задан квадрат, то второй аргумент, число v, считается длиной стороны квадрата. В противном случае число считается радиусом круга.\n",
    "\n",
    "Результат сохраните в result\n",
    "\n",
    "Число pi возмите равным 3.14. "
   ]
  },
  {
   "cell_type": "code",
   "execution_count": 158,
   "id": "2d361c9c-d2c8-4585-a987-f40b7fcb0ba2",
   "metadata": {},
   "outputs": [
    {
     "data": {
      "text/plain": [
       "36"
      ]
     },
     "execution_count": 158,
     "metadata": {},
     "output_type": "execute_result"
    }
   ],
   "source": [
    "f = 'S'\n",
    "v = 9\n",
    "\n",
    "\n",
    "if f == 'S':\n",
    "    result = v*4\n",
    "else: \n",
    "    result = v*2*3.14\n",
    "result"
   ]
  },
  {
   "cell_type": "markdown",
   "id": "b2629db1-4934-4abe-b181-879086aed786",
   "metadata": {},
   "source": [
    "# VI. Циклы"
   ]
  },
  {
   "cell_type": "code",
   "execution_count": 162,
   "id": "ad5ab576-54a7-44bb-97ae-c9d69f81f74e",
   "metadata": {},
   "outputs": [
    {
     "name": "stdout",
     "output_type": "stream",
     "text": [
      "[3]\n",
      "[3, 5]\n",
      "[3, 5, 7]\n",
      "[3, 5, 7, 9]\n",
      "[3, 5, 7, 9, 11]\n"
     ]
    }
   ],
   "source": [
    "my_list = [4, 6, 8, 10, 12]\n",
    "my_list_2 = []\n",
    "\n",
    "for i in my_list:\n",
    "    new_element = i - 1\n",
    "    my_list_2.append(new_element)\n",
    "    print(my_list_2)\n"
   ]
  },
  {
   "cell_type": "code",
   "execution_count": null,
   "id": "61ae2c46-4295-4f81-af96-99b62d602255",
   "metadata": {},
   "outputs": [],
   "source": []
  },
  {
   "cell_type": "code",
   "execution_count": 163,
   "id": "37465d35-524c-480b-8433-9cd37ef5550f",
   "metadata": {},
   "outputs": [
    {
     "name": "stdout",
     "output_type": "stream",
     "text": [
      "[3, 5, 7, 9, 13]\n"
     ]
    }
   ],
   "source": [
    "my_list = [4, 6, 8, 10, 12]\n",
    "my_list_2 = []\n",
    "\n",
    "for i in my_list:\n",
    "   if i> 10:\n",
    "       my_list_2.append(i+1)\n",
    "   else:\n",
    "        my_list_2.append(i-1)\n",
    "\n",
    "print(my_list_2)"
   ]
  },
  {
   "cell_type": "code",
   "execution_count": null,
   "id": "b40e72fd-5bc7-41c4-a330-2074e399cf9d",
   "metadata": {},
   "outputs": [],
   "source": []
  },
  {
   "cell_type": "code",
   "execution_count": 169,
   "id": "4f1c604d-dda6-4747-bf59-a5932f93c289",
   "metadata": {},
   "outputs": [
    {
     "name": "stdout",
     "output_type": "stream",
     "text": [
      "[4, 6, 8, 10, 12, 1, 76, 10]\n"
     ]
    }
   ],
   "source": [
    "# распакоўка \n",
    "\n",
    "my_list = [[4, 6], [8, 10], [12, 1, 76, 10]]\n",
    "my_list_2 = []\n",
    "\n",
    "for inner_list in my_list:\n",
    "    for i in inner_list:\n",
    "        my_list_2.append(i)\n",
    "\n",
    "print(my_list_2)\n"
   ]
  },
  {
   "cell_type": "code",
   "execution_count": null,
   "id": "8723f717-181f-4b1b-b4c6-ab6f0908115b",
   "metadata": {},
   "outputs": [],
   "source": [
    "-------------"
   ]
  },
  {
   "cell_type": "code",
   "execution_count": null,
   "id": "a1aac1f9-62cb-44c6-8173-c10ed2330e34",
   "metadata": {},
   "outputs": [],
   "source": [
    "numbers = [1, 2, 3, 4, 5]\n",
    "even_numbers = []\n",
    "for i in numbers:\n",
    "    if i % 2 == 0:\n",
    "        even_numbers.append(i)\n",
    "\n",
    "# вариант 2\n",
    "\n",
    "numbers = [1, 2, 3, 4, 5]\n",
    "even_numbers = [x for x in numbers if x % 2 == 0]"
   ]
  },
  {
   "cell_type": "code",
   "execution_count": null,
   "id": "1f1baae8-9d27-4072-a8dc-1c4a9fc2b197",
   "metadata": {},
   "outputs": [],
   "source": []
  },
  {
   "cell_type": "code",
   "execution_count": 182,
   "id": "6271f56e-8afe-4039-a9e0-218ad020009a",
   "metadata": {},
   "outputs": [
    {
     "name": "stdout",
     "output_type": "stream",
     "text": [
      "0 adc\n",
      "1 lfkk\n",
      "2 ewep\n"
     ]
    },
    {
     "data": {
      "text/plain": [
       "{'ewep': 2}"
      ]
     },
     "execution_count": 182,
     "metadata": {},
     "output_type": "execute_result"
    }
   ],
   "source": [
    "my_list = ['adc', 'lfkk', 'ewep', 'eqx', 'perf', 'uysnf']\n",
    "target_letter = 'p'\n",
    "string_info = {}\n",
    "\n",
    "#  необходимо вывести первый найденный элемент из my_list в словарь my_list_2 по условию, \n",
    "#                 где ключ - выражение, содержащее target_letter, значение - индекс элемента в my_list\n",
    "\n",
    "\n",
    "for i, s in enumerate(my_list):\n",
    "    print(i, s)\n",
    "    if target_letter not in s:\n",
    "        continue\n",
    "    string_info[s] = i\n",
    "    break\n",
    "\n",
    "string_info\n",
    "\n",
    "#  for i, s in enumerate(my_list):   i - номер итерации, s - само значение из списка"
   ]
  },
  {
   "cell_type": "code",
   "execution_count": 183,
   "id": "dbbba2bd-3b0a-497d-be48-3d753922f5cf",
   "metadata": {},
   "outputs": [
    {
     "data": {
      "text/plain": [
       "[(0, 'adc'), (1, 'lfkk'), (2, 'ewep'), (3, 'eqx'), (4, 'perf'), (5, 'uysnf')]"
      ]
     },
     "execution_count": 183,
     "metadata": {},
     "output_type": "execute_result"
    }
   ],
   "source": [
    "list(enumerate(my_list))"
   ]
  },
  {
   "cell_type": "code",
   "execution_count": null,
   "id": "6f9cc937-9e31-4741-b741-06e865263a98",
   "metadata": {},
   "outputs": [],
   "source": [
    "------------"
   ]
  },
  {
   "cell_type": "code",
   "execution_count": 185,
   "id": "905d8522-159a-4c60-853f-67e1300ecc1a",
   "metadata": {},
   "outputs": [
    {
     "name": "stdout",
     "output_type": "stream",
     "text": [
      "Заказ 1:\n",
      "номер: 001\n",
      "клиент: John\n",
      "дата: 2022-01-01\n",
      "статус: в обработке\n",
      "\n",
      "Заказ 2:\n",
      "номер: 002\n",
      "клиент: Alice\n",
      "дата: 2022-01-02\n",
      "статус: выполнен\n",
      "\n",
      "Заказ 3:\n",
      "номер: 003\n",
      "клиент: Bob\n",
      "дата: 2022-01-03\n",
      "статус: выполнен\n",
      "\n",
      "Заказ 4:\n",
      "номер: 004\n",
      "клиент: Eva\n",
      "дата: 2022-01-04\n",
      "статус: в обработке\n",
      "\n"
     ]
    }
   ],
   "source": [
    "# Пример функции enuenumerate\n",
    "orders = [\n",
    "    {\"номер\": \"001\", \"клиент\": \"John\", \"дата\": \"2022-01-01\", \"статус\": \"в обработке\"},\n",
    "    {\"номер\": \"002\", \"клиент\": \"Alice\", \"дата\": \"2022-01-02\", \"статус\": \"выполнен\"},\n",
    "    {\"номер\": \"003\", \"клиент\": \"Bob\", \"дата\": \"2022-01-03\", \"статус\": \"выполнен\"},\n",
    "    {\"номер\": \"004\", \"клиент\": \"Eva\", \"дата\": \"2022-01-04\", \"статус\": \"в обработке\"},\n",
    "]\n",
    "for index, order in enumerate(orders, start=1):\n",
    "    print(f\"Заказ {index}:\")\n",
    "    for key, value in order.items():\n",
    "        print(f\"{key}: {value}\")\n",
    "    print()"
   ]
  },
  {
   "cell_type": "code",
   "execution_count": null,
   "id": "2b7e2cd1-9c9a-4ecb-a02b-47cf3e34b919",
   "metadata": {},
   "outputs": [],
   "source": [
    "---------------"
   ]
  },
  {
   "cell_type": "code",
   "execution_count": 186,
   "id": "8dc2d064-2752-4f02-9cf6-1250190ba07c",
   "metadata": {},
   "outputs": [
    {
     "name": "stdout",
     "output_type": "stream",
     "text": [
      "Работник с высокой квалификацией найден!\n",
      "{'name': 'Alice', 'qualification': 'high'}\n"
     ]
    }
   ],
   "source": [
    "employees = [\n",
    "    {'name': 'John', 'qualification': 'low'},\n",
    "    {'name': 'Alice', 'qualification': 'high'},\n",
    "    {'name': 'Bob', 'qualification': 'medium'},\n",
    "    {'name': 'Eva', 'qualification': 'low'},\n",
    "    {'name': 'Mike', 'qualification': 'high'},\n",
    "    {'name': 'Lisa', 'qualification': 'medium'}\n",
    "]\n",
    "found_high_qualification_employee = False\n",
    "for employee in employees:\n",
    "    qualification = employee['qualification']\n",
    "    if qualification == 'low':\n",
    "        continue  # Пропускаем работника с низкой квалификацией\n",
    "    elif qualification == 'high':\n",
    "        found_high_qualification_employee = True\n",
    "        high_qualification_employee       = employee\n",
    "        break  # Найден работник с высокой квалификацией, прекращаем поиск\n",
    "if found_high_qualification_employee:\n",
    "    print(\"Работник с высокой квалификацией найден!\")\n",
    "    print(high_qualification_employee)\n",
    "else:\n",
    "    print(\"Работник с высокой квалификацией не найден.\")"
   ]
  },
  {
   "cell_type": "code",
   "execution_count": null,
   "id": "9382126f-f2fa-4e7a-a0d0-39f1adebe29a",
   "metadata": {},
   "outputs": [],
   "source": [
    "-------------------------"
   ]
  },
  {
   "cell_type": "code",
   "execution_count": null,
   "id": "40c6e779-b7da-4a2f-9c25-79726dc97bcd",
   "metadata": {},
   "outputs": [],
   "source": []
  },
  {
   "cell_type": "code",
   "execution_count": 204,
   "id": "b967d76d-b300-47fc-b44d-c0e5b1ce9311",
   "metadata": {},
   "outputs": [
    {
     "name": "stdout",
     "output_type": "stream",
     "text": [
      "0\n",
      "1\n",
      "3\n",
      "6\n",
      "10\n",
      "15\n",
      "21\n"
     ]
    }
   ],
   "source": [
    "#  цикл for\n",
    "\n",
    "my_list     = list(range(100))\n",
    "sum_numbers = 0\n",
    "\n",
    "for number in my_list:\n",
    "    if sum_numbers  +  number < 25:\n",
    "        sum_numbers += number        # sum_numbers + number\n",
    "        print(sum_numbers)\n",
    "    else:\n",
    "        break"
   ]
  },
  {
   "cell_type": "code",
   "execution_count": 205,
   "id": "e7ea8942-acc1-49d5-90fe-4cec9ff94fe9",
   "metadata": {},
   "outputs": [
    {
     "name": "stdout",
     "output_type": "stream",
     "text": [
      "0 0\n",
      "1 0\n",
      "2 1\n",
      "3 3\n",
      "4 6\n",
      "5 10\n",
      "6 15\n",
      "7 21\n"
     ]
    }
   ],
   "source": [
    "#  цикл while\n",
    "\n",
    "my_list = list(range(100))\n",
    "\n",
    "elements_sum = 0 \n",
    "i            = 0\n",
    "\n",
    "while elements_sum < 25:\n",
    "    print(i, elements_sum)\n",
    "    elements_sum += my_list[i]   # elements_sum + my_list[i]\n",
    "    i            += 1            #   i = i + 1"
   ]
  },
  {
   "cell_type": "code",
   "execution_count": null,
   "id": "bdd44073-0491-45ff-9fe0-c283432325b4",
   "metadata": {},
   "outputs": [],
   "source": []
  },
  {
   "cell_type": "code",
   "execution_count": 242,
   "id": "afdc9b48-824d-4c26-b11b-d91ec7a5aefa",
   "metadata": {},
   "outputs": [
    {
     "name": "stdin",
     "output_type": "stream",
     "text": [
      "Введите пароль: 123\n"
     ]
    },
    {
     "name": "stdout",
     "output_type": "stream",
     "text": [
      "Пароль неверный, повторите попытку. Количество оставшихся попыток: 2.\n"
     ]
    },
    {
     "name": "stdin",
     "output_type": "stream",
     "text": [
      "Введите пароль: 123\n"
     ]
    },
    {
     "name": "stdout",
     "output_type": "stream",
     "text": [
      "Пароль неверный, повторите попытку. Количество оставшихся попыток: 1.\n"
     ]
    },
    {
     "name": "stdin",
     "output_type": "stream",
     "text": [
      "Введите пароль: 123\n"
     ]
    },
    {
     "name": "stdout",
     "output_type": "stream",
     "text": [
      "Пароль не верный.\n",
      "Количество попыток превышено - доступ заблокирован.\n"
     ]
    }
   ],
   "source": [
    "password   = 'secret'\n",
    "count_shot = 3 \n",
    "\n",
    "while count_shot > 0:\n",
    "    user_password = input('Введите пароль:')\n",
    "    \n",
    "    if user_password == password:\n",
    "        print(f'Пароль верный. Ожидайте загрузки [нихуя не произойдёт, бро, съебывай]')\n",
    "        break\n",
    "    else:\n",
    "        if count_shot - 1 == 0:\n",
    "            print('Пароль не верный.\\nКоличество попыток превышено - доступ заблокирован.')\n",
    "            break\n",
    "        else:\n",
    "            count_shot -= 1\n",
    "            print(f'Пароль неверный, повторите попытку. Количество оставшихся попыток: {count_shot}.')"
   ]
  },
  {
   "cell_type": "code",
   "execution_count": null,
   "id": "1f7bb7f4-9fa5-4539-9e2e-9c7e372b2a12",
   "metadata": {},
   "outputs": [],
   "source": []
  },
  {
   "cell_type": "code",
   "execution_count": 243,
   "id": "fe84e471-693a-45e9-bc25-2ad6f57dd7ee",
   "metadata": {},
   "outputs": [
    {
     "name": "stdin",
     "output_type": "stream",
     "text": [
      "Угадайте число от 1 до 10:  2\n",
      "Угадайте число от 1 до 10:  3\n",
      "Угадайте число от 1 до 10:  4\n",
      "Угадайте число от 1 до 10:  5\n",
      "Угадайте число от 1 до 10:  6\n",
      "Угадайте число от 1 до 10:  7\n"
     ]
    },
    {
     "name": "stdout",
     "output_type": "stream",
     "text": [
      "Поздравляю, вы угадали число!\n"
     ]
    }
   ],
   "source": [
    "secret_number = 7\n",
    "guess = 0\n",
    "while guess != secret_number:\n",
    "    guess = int(input(\"Угадайте число от 1 до 10: \"))\n",
    "print(\"Поздравляю, вы угадали число!\")"
   ]
  },
  {
   "cell_type": "code",
   "execution_count": null,
   "id": "5403d2be-75cd-4f98-82bc-67cad8f5f837",
   "metadata": {},
   "outputs": [],
   "source": []
  },
  {
   "cell_type": "markdown",
   "id": "9b857e92-3d88-4a9f-921f-35986d7ed90a",
   "metadata": {},
   "source": [
    "### Задание_1:"
   ]
  },
  {
   "cell_type": "markdown",
   "id": "612400b3-cb3e-4aed-a5d2-8c4e37b997e6",
   "metadata": {},
   "source": [
    "В переменных a и b сохранено два целых положительных числа, таких что a <= b. \n",
    "Напишите программу, которая находит сумму всех чисел от a до b, кратных 3 или 5. \n",
    "Сохраните сумму в переменную result. Если между a и b нет таких чисел, то сохраните в result 0."
   ]
  },
  {
   "cell_type": "code",
   "execution_count": 251,
   "id": "4ffa5462-1eaa-4c8c-bacd-eb025423cbc2",
   "metadata": {},
   "outputs": [],
   "source": [
    "# создание ряда чисел от a до b\n",
    "list(range(a, b+1))\n",
    "\n",
    "# поиск чисел из созданного ряда, кратных 3 или 5:     %3 == 0 or %5 == 0\n",
    "multiple_number = 0\n",
    "multiple_number += number\n",
    "\n",
    "# если между a и b нет таких чисел, то сохраните в result = 0.\n",
    "result = 0 if multiple_number == 0 \n"
   ]
  },
  {
   "cell_type": "code",
   "execution_count": 273,
   "id": "c79764e9-c328-4a79-8ae8-29e443eb3199",
   "metadata": {},
   "outputs": [
    {
     "data": {
      "text/plain": [
       "33"
      ]
     },
     "execution_count": 273,
     "metadata": {},
     "output_type": "execute_result"
    }
   ],
   "source": [
    "a = 1\n",
    "b = 10\n",
    "\n",
    "multiples_number = 0\n",
    "\n",
    "for number in list(range(a, b+1)):\n",
    "    if number %3 == 0 or number %5 == 0:\n",
    "        multiples_number += number \n",
    "        result = multiples_number\n",
    "    elif  multiples_number == 0: \n",
    "        result = 0\n",
    "\n",
    "result"
   ]
  },
  {
   "cell_type": "code",
   "execution_count": 275,
   "id": "7c34ad46-9a6d-4a9e-8334-011011cb920b",
   "metadata": {},
   "outputs": [
    {
     "data": {
      "text/plain": [
       "33"
      ]
     },
     "execution_count": 275,
     "metadata": {},
     "output_type": "execute_result"
    }
   ],
   "source": [
    "#  Вариант 2\n",
    "\n",
    "result = 0\n",
    "for i in range(a, b + 1): \n",
    "    if i % 3 == 0 or i % 5 == 0: \n",
    "        result += i\n",
    "result"
   ]
  },
  {
   "cell_type": "markdown",
   "id": "47ef6240-63f3-4bdd-8544-7d741f091e12",
   "metadata": {},
   "source": [
    "### Задание_2:"
   ]
  },
  {
   "cell_type": "markdown",
   "id": "e9c52c0d-e776-4265-95be-b4c0e447b2a6",
   "metadata": {},
   "source": [
    "Напишите программу на Python, которая определяет, является ли заданное число num простым.\n",
    "\n",
    "Если num — простое число, то сохраните в переменную result строку \"это простое число\". \n",
    "\n",
    "Если число не простое, то сохраните в переменную result строку \"это не простое число\".\n",
    "\n",
    "Используйте цикл для решения этой задачи."
   ]
  },
  {
   "cell_type": "code",
   "execution_count": null,
   "id": "3c757c49-1158-4615-a771-5d5364fe9b78",
   "metadata": {},
   "outputs": [],
   "source": [
    "# Пример 1\n",
    "num = 7\n",
    "# result = \"это простое число\"\n",
    "\n",
    "# Пример 2\n",
    "num = 8\n",
    "# result = \"это не простое число\""
   ]
  },
  {
   "cell_type": "code",
   "execution_count": 300,
   "id": "fbc8ffe3-b885-4506-90b8-af31acb88c49",
   "metadata": {},
   "outputs": [
    {
     "data": {
      "text/plain": [
       "'это простое число'"
      ]
     },
     "execution_count": 300,
     "metadata": {},
     "output_type": "execute_result"
    }
   ],
   "source": [
    "num = 131\n",
    "\n",
    "numbers = []\n",
    "\n",
    "for i in range(1, num+1):\n",
    "    if num % i == 0:\n",
    "       numbers.append(i)\n",
    "\n",
    "if len(numbers) == 2 or num == 1:\n",
    "    result = \"это простое число\"\n",
    "else:\n",
    "    result = \"это не простое число\"\n",
    "\n",
    "result"
   ]
  },
  {
   "cell_type": "code",
   "execution_count": 302,
   "id": "0b651795-4496-41ff-bae5-8b5fc66d655e",
   "metadata": {},
   "outputs": [
    {
     "data": {
      "text/plain": [
       "'это простое число'"
      ]
     },
     "execution_count": 302,
     "metadata": {},
     "output_type": "execute_result"
    }
   ],
   "source": [
    "# вариант 2\n",
    "\n",
    "num = 131\n",
    "\n",
    "d = 0\n",
    "for i in range(2, num // 2+1):\n",
    "    if (num % i == 0):\n",
    "        d += 1\n",
    "        break\n",
    "result = \"это простое число\" if d == 0 else \"это не простое число\"\n",
    "result"
   ]
  },
  {
   "cell_type": "code",
   "execution_count": null,
   "id": "64f67529-429f-47fa-8834-13c377c10e9c",
   "metadata": {},
   "outputs": [],
   "source": []
  },
  {
   "cell_type": "markdown",
   "id": "302ccc9d-e7f6-4c16-bca9-ed9546bfe57c",
   "metadata": {},
   "source": [
    "### Задание_3:"
   ]
  },
  {
   "cell_type": "markdown",
   "id": "7c6f3041-15ef-49eb-a851-77f042f04547",
   "metadata": {},
   "source": [
    "В переменной number сохранено число, напишите код, который проверят, является ли number степенью двойки? \n",
    "\n",
    "Ряд степеней двойки:\n",
    "        \n",
    "        1, 2, 4, 8, 16, 32, 64 ...\n",
    "\n",
    "Результат проверки True или False сохраните в переменную is_two_power."
   ]
  },
  {
   "cell_type": "code",
   "execution_count": 557,
   "id": "03e77532-3eda-4853-8260-8701d495ebb3",
   "metadata": {},
   "outputs": [
    {
     "data": {
      "text/plain": [
       "True"
      ]
     },
     "execution_count": 557,
     "metadata": {},
     "output_type": "execute_result"
    }
   ],
   "source": [
    "number = 32 \n",
    "\n",
    "is_two_power = False\n",
    "\n",
    "if number == 0:\n",
    "    is_two_power = False\n",
    "else:\n",
    "    while number % 2 == 0:\n",
    "        number = number / 2\n",
    "    is_two_power = number == 1\n",
    "\n",
    "is_two_power"
   ]
  },
  {
   "cell_type": "code",
   "execution_count": 556,
   "id": "d4d93435-a18a-420e-8739-e9341ae10377",
   "metadata": {},
   "outputs": [
    {
     "data": {
      "text/plain": [
       "True"
      ]
     },
     "execution_count": 556,
     "metadata": {},
     "output_type": "execute_result"
    }
   ],
   "source": [
    "# вариант 2\n",
    "\n",
    "number = 32 \n",
    "\n",
    "if number < 1:\n",
    "    is_two_power = False\n",
    "elif number == 1:\n",
    "    is_two_power = True    \n",
    "else:\n",
    "    while number % 2 == 0:\n",
    "        number = number / 2\n",
    "    is_two_power = number == 1\n",
    "\n",
    "is_two_power"
   ]
  },
  {
   "cell_type": "markdown",
   "id": "1779bfa9-60ad-418c-8a4a-280958da1574",
   "metadata": {},
   "source": [
    "### Задание_4:\n",
    "Напишите программу, которая посчитает, сколько посетителей сможет обслужить кофейня, если известно, что:"
   ]
  },
  {
   "cell_type": "code",
   "execution_count": null,
   "id": "10f8be0f-5491-4c5a-a7b3-d967617a7b82",
   "metadata": {},
   "outputs": [],
   "source": [
    "Рецептура приготовления одной чашки:\n",
    "эспрессо  =  7 г кофе\n",
    "американо =  7 г кофе + вода (безлимит)\n",
    "латте     =  7 г кофе + 180 мл молока\n",
    "капучино  =  7 г кофе + 100 мл молока\n",
    "\n",
    "Наличие ресурсов в кофейне:\n",
    "coffee =   (в килограммах)\n",
    "milk   =   (в литрах)\n",
    "\n",
    "Условия:\n",
    "1.\n",
    "'американо' : '7 г кофе',\n",
    "'латте'     : '7 г кофе + 180 мл молока', \n",
    "'капучино'  : '7 г кофе + 100 мл молока'\n",
    "\n",
    "2.\n",
    "1 visitor = 1 drink\n",
    "\n",
    "3. \n",
    "каждый третий заказанный напиток — 'капучино', а каждый пятый — 'латте'.\n",
    "\n",
    "4.\n",
    "Если порядковый номер напитка делится и на 3, и на 5, то посетитель отдает предпочтение 'капучино'. \n",
    "\n",
    "5.\n",
    "Если молоко закончилось, то кофейня работает, пока не придет посетитель, желающий заказать кофе с молоком.\n",
    "\n",
    "visitors = ?\n",
    "\n",
    "\n",
    "# Пример 1\n",
    "coffee = 0.1\n",
    "milk = 1\n",
    "visitors = 14"
   ]
  },
  {
   "cell_type": "code",
   "execution_count": 211,
   "id": "62825b23-591a-46a5-8502-7b2cfceddf81",
   "metadata": {},
   "outputs": [
    {
     "name": "stdout",
     "output_type": "stream",
     "text": [
      "[2.0, 240]\n",
      "14\n",
      "americano:  8\n",
      "cappuch:  4\n",
      "latte:  2\n"
     ]
    }
   ],
   "source": [
    "# ингридиенты в кофейне\n",
    "coffee = 0.1\n",
    "milk   = 1\n",
    "\n",
    "# coffee = 0.07\n",
    "# milk = 0.1\n",
    "\n",
    "\n",
    "# наличие ингридиентов в кофейне и перевод их в граммы и милилитры \n",
    "coffe_room = [coffee * 1000, milk * 1000] \n",
    "\n",
    "min_doza_coffee = 7\n",
    "min_doza_milk   = 100 \n",
    "\n",
    "i        = 1\n",
    "visitors = 0\n",
    "\n",
    "# дополнительно: подсчет кружек разных видов кофе\n",
    "cappuch = 0\n",
    "latte = 0\n",
    "americano = 0\n",
    "\n",
    "\n",
    "while coffe_room[0] > min_doza_coffee:\n",
    "    if coffe_room[1] >= min_doza_milk:\n",
    "        \n",
    "        if i %3 == 0 and i %5 == 0:\n",
    "            # 'капучино'\n",
    "            coffe_room[0] -= 7\n",
    "            coffe_room[1] -= 100\n",
    "            visitors      += 1\n",
    "            i             += 1    \n",
    "            cappuch += 1\n",
    "         \n",
    "        elif i %5 == 0:\n",
    "            # 'латте'\n",
    "            coffe_room[0] -= 7\n",
    "            coffe_room[1] -= 180\n",
    "            visitors      += 1\n",
    "            i             += 1\n",
    "            latte += 1\n",
    "        \n",
    "        elif i %3 == 0:\n",
    "            # 'капучино'\n",
    "            coffe_room[0] -= 7\n",
    "            coffe_room[1] -= 100\n",
    "            visitors      += 1\n",
    "            i             += 1\n",
    "            cappuch += 1\n",
    "            \n",
    "        else:\n",
    "            # не 'капучино' и не 'латте'\n",
    "            # 'американо'  \n",
    "            coffe_room[0] -= 7\n",
    "            visitors      += 1\n",
    "            i             += 1 \n",
    "            americano += 1\n",
    "    else:\n",
    "        if i %3 == 0 or i %5 == 0:\n",
    "            # клиент с 'капучино' или 'латте'\n",
    "            break       \n",
    "             \n",
    "        else:\n",
    "             # не 'капучино' и не 'латте'\n",
    "             # 'американо'  \n",
    "            coffe_room[0] -= 7\n",
    "            visitors      += 1\n",
    "            i             += 1 \n",
    "            americano += 1\n",
    "            \n",
    "print(coffe_room)\n",
    "print(visitors)\n",
    "\n",
    "print('americano: ',americano)\n",
    "print('cappuch: ',cappuch)\n",
    "print('latte: ',latte)"
   ]
  },
  {
   "cell_type": "code",
   "execution_count": null,
   "id": "bb38140b-f195-4fdb-89f7-33d86e272c2f",
   "metadata": {},
   "outputs": [],
   "source": []
  },
  {
   "cell_type": "code",
   "execution_count": null,
   "id": "f2576e49-334d-4023-a4e6-d7b7ae45f629",
   "metadata": {},
   "outputs": [],
   "source": [
    "# вариант 2\n",
    "\n",
    "coffee *= 1000\n",
    "milk *= 1000\n",
    "visitors = 0\n",
    "while True:\n",
    "    if coffee < 7 or ((visitors + 1) % 3 == 0 and milk < 100) or ((visitors + 1) % 5 == 0 and milk < 180):\n",
    "        break\n",
    "    visitors += 1\n",
    "    coffee -= 7\n",
    "    if visitors % 3 == 0 :\n",
    "        milk -= 100\n",
    "    elif visitors % 5 == 0:\n",
    "        milk -= 180"
   ]
  },
  {
   "cell_type": "code",
   "execution_count": null,
   "id": "29e81405-6b45-4c7a-9e21-1f1c78cc3dad",
   "metadata": {},
   "outputs": [],
   "source": []
  },
  {
   "cell_type": "code",
   "execution_count": null,
   "id": "bc1b1894-3f22-4c05-8249-c55d7db60a3f",
   "metadata": {},
   "outputs": [],
   "source": []
  },
  {
   "cell_type": "markdown",
   "id": "62f44dec-ca02-4adc-a731-b22d494d422f",
   "metadata": {},
   "source": [
    "### Задание_5:\n",
    "Дан список чисел a.  Напишите программу, которая вернет True, если в списке больше нечетных чисел, и False — во всех остальных случаях. Результат сохраните в result."
   ]
  },
  {
   "cell_type": "code",
   "execution_count": null,
   "id": "a6540a5b-c662-4f5c-87be-5089d89de769",
   "metadata": {},
   "outputs": [],
   "source": [
    "# Пример 1\n",
    "a = [1, 2, 3, 4, 5, 6, 7, 8, 9]\n",
    "result = True\n",
    "\n",
    "# Пример 2\n",
    "a = [1, 2, 3, 4, 5, 6, 7, 8, 10]\n",
    "result = False\n",
    "\n",
    "# Пример 3\n",
    "a = [1, 2, 3, 4]\n",
    "result = False"
   ]
  },
  {
   "cell_type": "code",
   "execution_count": 231,
   "id": "25be6343-cf9c-42a2-9dbd-4d9579fa5162",
   "metadata": {},
   "outputs": [
    {
     "name": "stdout",
     "output_type": "stream",
     "text": [
      "False\n"
     ]
    }
   ],
   "source": [
    "a = [1, 2, 3, 4]\n",
    "\n",
    "even_count     = 0\n",
    "not_even_count = 0\n",
    "\n",
    "for i in a:\n",
    "    if i%2 == 0:\n",
    "        even_count += 1\n",
    "    else:\n",
    "        not_even_count += 1\n",
    "\n",
    "if not_even_count > even_count:\n",
    "    result = True\n",
    "else:\n",
    "    result = False\n",
    "\n",
    "print(result)"
   ]
  },
  {
   "cell_type": "code",
   "execution_count": 233,
   "id": "1ce3b6fe-56c0-4302-9bff-55fd2330c211",
   "metadata": {},
   "outputs": [
    {
     "data": {
      "text/plain": [
       "False"
      ]
     },
     "execution_count": 233,
     "metadata": {},
     "output_type": "execute_result"
    }
   ],
   "source": [
    "# Вариант 2\n",
    "\n",
    "a = [1, 2, 3, 4]\n",
    "\n",
    "result = sum (1 if int(i) % 2 else -1 for i in a) > 0\n",
    "result"
   ]
  },
  {
   "cell_type": "code",
   "execution_count": null,
   "id": "316bea2f-56bb-458b-97a7-24d359af6938",
   "metadata": {},
   "outputs": [],
   "source": []
  },
  {
   "cell_type": "markdown",
   "id": "2da1c0e6-8f3a-45c1-816c-486b619a5c90",
   "metadata": {},
   "source": [
    "### Задание_6:\n",
    "Есть словарь grades, содержащий информацию о школьных предметах и их оценках. В список good_subjects  сохраните названия всех предметов, у которых оценка больше или равна 4."
   ]
  },
  {
   "cell_type": "code",
   "execution_count": null,
   "id": "a1d53f7c-5442-4641-8e75-fe6f085cf6bb",
   "metadata": {},
   "outputs": [],
   "source": [
    "Прмеры:\n",
    "\n",
    "grades = {\"Математика\": 4, \"История\": 3, \"Биология\": 3, \"География\": 4}\n",
    "good_subjects = [\"Математика\", \"География\"]\n",
    "\n",
    "grades = {\"Алгебра\": 3, \"ИЗО\": 2}\n",
    "good_subjects = []"
   ]
  },
  {
   "cell_type": "code",
   "execution_count": 272,
   "id": "1e916c8b-192f-49bb-b24d-d811c75a9b56",
   "metadata": {},
   "outputs": [
    {
     "data": {
      "text/plain": [
       "[]"
      ]
     },
     "execution_count": 272,
     "metadata": {},
     "output_type": "execute_result"
    }
   ],
   "source": [
    "\n",
    "grades = {\"Алгебра\": 3, \"ИЗО\": 2}\n",
    "\n",
    "good_subjects = []\n",
    "\n",
    "for subjects in grades.items():\n",
    "    if list(subjects)[1] >= 4:\n",
    "            good_subjects.append(subjects[0])\n",
    "good_subjects    "
   ]
  },
  {
   "cell_type": "code",
   "execution_count": null,
   "id": "7e985121-24d4-4f3d-b26d-cfce9c215aed",
   "metadata": {},
   "outputs": [],
   "source": [
    "# вариант 2\n",
    "good_subjects = []\n",
    "\n",
    "subjects = list(grades.keys())\n",
    "for i, v in enumerate(grades.values()):\n",
    "    if v >= 4:\n",
    "        good_subjects.append(subjects[i])"
   ]
  },
  {
   "cell_type": "code",
   "execution_count": null,
   "id": "fe0ab9dd-b9ed-4b77-a1af-14e2269050f1",
   "metadata": {},
   "outputs": [],
   "source": []
  },
  {
   "cell_type": "markdown",
   "id": "afd24b71-b0e4-4b73-b0df-6dd96f8083f5",
   "metadata": {},
   "source": [
    "### Задание_7:"
   ]
  },
  {
   "cell_type": "markdown",
   "id": "15e59afb-0a2d-4d09-a1ed-95093c659bfe",
   "metadata": {},
   "source": [
    "Напишите программу, которая будет принимать список чисел nums и возвращать два числа, абсолютная разность которых минимальна. Пару чисел сохраните в переменную result в виде списка, отсортированного по возрастанию.\n",
    "\n",
    "Если несколько пар дают минимальную абсолютную разность, выберете ту пару элементов, сумма которых больше."
   ]
  },
  {
   "cell_type": "code",
   "execution_count": null,
   "id": "1766ef0b-6903-406a-99b3-14ec0852f60e",
   "metadata": {},
   "outputs": [],
   "source": [
    "# Пример 1\n",
    "nums = [40, 16, 8, 17, 15]\n",
    "result = [16, 17]\n",
    "# пара 16 и 15 не подходит, так как сумма 16 и 17 больше\n",
    "\n",
    "# Пример 2\n",
    "nums = [0, 2, 35, 42, 45, 14, -6, -1]\n",
    "result = [-1, 0]"
   ]
  },
  {
   "cell_type": "code",
   "execution_count": 560,
   "id": "19e4c3fc-4d23-4f9d-b51e-185618d6e59e",
   "metadata": {},
   "outputs": [
    {
     "data": {
      "text/plain": [
       "[16, 17]"
      ]
     },
     "execution_count": 560,
     "metadata": {},
     "output_type": "execute_result"
    }
   ],
   "source": [
    "nums = [40, 16, 8, 17, 15]\n",
    "\n",
    "nums.sort() \n",
    "min_diff = float('inf')  \n",
    "result = []\n",
    "for i in range(len(nums) - 1):\n",
    "    diff = abs(nums[i] - nums[i+1])  \n",
    "    if diff < min_diff:\n",
    "        min_diff = diff\n",
    "        result = [nums[i], nums[i+1]]\n",
    "    elif diff == min_diff and sum([nums[i], nums[i+1]]) > sum(result):\n",
    "        result = [nums[i], nums[i+1]]\n",
    "\n",
    "result     "
   ]
  },
  {
   "cell_type": "code",
   "execution_count": 561,
   "id": "e19827db-a017-4be8-afa6-e895af6143ba",
   "metadata": {},
   "outputs": [
    {
     "data": {
      "text/plain": [
       "[16, 17]"
      ]
     },
     "execution_count": 561,
     "metadata": {},
     "output_type": "execute_result"
    }
   ],
   "source": [
    "# вариант 2\n",
    "\n",
    "def min_absolute_difference(nums):\n",
    "    nums.sort()\n",
    "    min_diff = float('inf')\n",
    "    result = []\n",
    "\n",
    "nums = [40, 16, 8, 17, 15]\n",
    "\n",
    "\n",
    "    for i in range(len(nums) - 1):\n",
    "        diff = abs(nums[i] - nums[i+1])\n",
    "        if diff < min_diff:\n",
    "            min_diff = diff\n",
    "            result = [nums[i], nums[i+1]]\n",
    "        elif diff == min_diff and sum([nums[i], nums[i+1]]) > sum(result):\n",
    "            result = [nums[i], nums[i+1]]\n",
    "\n",
    "    return result\n",
    "\n",
    "result = min_absolute_difference(nums)\n",
    "\n",
    "result"
   ]
  },
  {
   "cell_type": "markdown",
   "id": "187adb9a-405b-4e71-bc91-c817c3278c5a",
   "metadata": {},
   "source": [
    "### Задание_8:\n",
    "\n",
    "Напишите программу, принимающую в виде аргументов два списка lst_1 и lst_2 и определяющую, являются ли они противоположными друг другу. \n",
    "\n",
    "Результат проверки сохраните в result в формате True или False.\n",
    "\n",
    "Каждая пара списков будет состоять из одинаковых элементов (типа a и b). \n",
    "\n",
    "Список считается анти-списком, если все элементы в нем противоположны соответствующим элементам в первом списке."
   ]
  },
  {
   "cell_type": "code",
   "execution_count": null,
   "id": "1f2cb0c3-b750-413a-878d-baba0f63e90f",
   "metadata": {},
   "outputs": [],
   "source": [
    "Пример:\n",
    "\n",
    "lst_1 = [\"1\", \"0\", \"0\", \"1\"]\n",
    "lst_2 = [\"0\", \"1\", \"1\", \"0\"]\n",
    "result = True\n",
    "\n",
    "lst_1 = [\"1\", \"0\", \"0\", \"1\"]\n",
    "lst_2 = [\"0\", \"1\", \"1\", \"1\"]\n",
    "result = False"
   ]
  },
  {
   "cell_type": "code",
   "execution_count": 289,
   "id": "9d6a348d-ba7d-4772-b365-ed83440082f8",
   "metadata": {},
   "outputs": [],
   "source": [
    "lst_1 = [\"1\", \"0\", \"0\", \"1\"]\n",
    "lst_2 = [\"0\", \"1\", \"1\", \"1\"]"
   ]
  },
  {
   "cell_type": "code",
   "execution_count": 290,
   "id": "3a5be3d9-15fd-4e16-b405-4164d209f205",
   "metadata": {},
   "outputs": [
    {
     "data": {
      "text/plain": [
       "False"
      ]
     },
     "execution_count": 290,
     "metadata": {},
     "output_type": "execute_result"
    }
   ],
   "source": [
    "sum_lst_1 = 0\n",
    "sum_lst_2 = 0\n",
    "\n",
    "for i in lst_1:\n",
    "    sum_lst_1 += int(i)\n",
    "\n",
    "for y in lst_2:\n",
    "    sum_lst_2 += int(y)\n",
    "\n",
    "if sum_lst_1 == sum_lst_2:\n",
    "    result = True \n",
    "else:\n",
    "    result = False \n",
    "result"
   ]
  },
  {
   "cell_type": "code",
   "execution_count": 291,
   "id": "fe1207cb-f0c1-4045-8620-64fdb2a25f16",
   "metadata": {},
   "outputs": [
    {
     "data": {
      "text/plain": [
       "False"
      ]
     },
     "execution_count": 291,
     "metadata": {},
     "output_type": "execute_result"
    }
   ],
   "source": [
    "#  вариант 2\n",
    "\n",
    "lst_1 = [\"1\", \"0\", \"0\", \"1\"]\n",
    "lst_2 = [\"0\", \"1\", \"1\", \"1\"]\n",
    "\n",
    "result = all({a, b} == set(lst_1) for a, b in zip(lst_1, lst_2))\n",
    "\n",
    "result"
   ]
  },
  {
   "cell_type": "code",
   "execution_count": null,
   "id": "4d16d8d7-9903-496d-b108-9ed3654df8f2",
   "metadata": {},
   "outputs": [],
   "source": []
  },
  {
   "cell_type": "markdown",
   "id": "e8016378-051b-4abb-a0ca-343373cf95d7",
   "metadata": {},
   "source": [
    "### Задание_9:\n",
    "Задана переменная m — список из списков одинаковой длины. Проверьте, что суммы элементов  на диагоналях равны.\n",
    "\n",
    "Результат проверки сохраните в result в формате True или False. "
   ]
  },
  {
   "cell_type": "code",
   "execution_count": null,
   "id": "987dacad-4634-448d-8b03-c2a6fc254a2c",
   "metadata": {},
   "outputs": [],
   "source": [
    "# Пример 1\n",
    "m = [[1, 23, 4], \n",
    "     [3, 2, 1],\n",
    "     [6, 3, 4]]\n",
    "result = False\n",
    "\n",
    "# Пример 2\n",
    "m = [[1, 23, 4], \n",
    "     [3, 2, 1],\n",
    "     [1, 3, 4]]\n",
    "result = True"
   ]
  },
  {
   "cell_type": "code",
   "execution_count": 347,
   "id": "f29c6cd3-15ee-427b-b490-cd09027b9805",
   "metadata": {},
   "outputs": [],
   "source": [
    "# m[0][0] + m[1][1] + m[2][2] ==  m[0][2] + m[1][1] + m[2][0]"
   ]
  },
  {
   "cell_type": "code",
   "execution_count": 353,
   "id": "1d3983b5-438c-4f1b-bd58-cee0806351a3",
   "metadata": {},
   "outputs": [
    {
     "data": {
      "text/plain": [
       "True"
      ]
     },
     "execution_count": 353,
     "metadata": {},
     "output_type": "execute_result"
    }
   ],
   "source": [
    "m = [[1, 23, 4], \n",
    "     [3, 2, 1],\n",
    "     [1, 3, 4]]\n",
    "\n",
    "sum_diagonal_1 = 0\n",
    "sum_diagonal_2 = 0\n",
    "i = 0\n",
    "\n",
    "\n",
    "for y in range(0, len(m)):\n",
    "    sum_diagonal_1 += m[y][y]\n",
    "    sum_diagonal_2 += m[y][len(m)-1 -i]\n",
    "    i              += 1\n",
    "\n",
    "    if  sum_diagonal_1 == sum_diagonal_2:\n",
    "        result = True\n",
    "    else:\n",
    "        result = False\n",
    "\n",
    "result"
   ]
  },
  {
   "cell_type": "code",
   "execution_count": 346,
   "id": "b8423342-a487-41b7-a6d6-aa8e9bde705c",
   "metadata": {},
   "outputs": [],
   "source": [
    "# вариант 2\n",
    "\n",
    "result = sum([m[i][i] for i in range(len(m))]) == sum([m[i][len(m[i]) - i - 1] for i in range(len(m))])\n"
   ]
  },
  {
   "cell_type": "code",
   "execution_count": null,
   "id": "406f2ff7-5ef2-41fa-acb8-5af1ea2bd582",
   "metadata": {},
   "outputs": [],
   "source": []
  },
  {
   "cell_type": "code",
   "execution_count": null,
   "id": "bf627000-dd6b-4bbf-9c0a-789a9a0f2e29",
   "metadata": {},
   "outputs": [],
   "source": []
  },
  {
   "cell_type": "markdown",
   "id": "193e0cc9-e7e5-48c3-a5d6-7140dc60fef8",
   "metadata": {},
   "source": [
    "### Задание_10:"
   ]
  },
  {
   "cell_type": "markdown",
   "id": "3b205cf2-f62f-4b98-b3ab-f16c0d15e8cc",
   "metadata": {},
   "source": [
    "Напишите программу, которая принимает словарь input_dict и возвращает строку вида: \n",
    "    \n",
    "    ключ=значение&ключ=значение \n",
    "\n",
    "Строка должна быть лексикографически отсортирована по ключам исходного словаря. Сохраните полученный ответ в result. "
   ]
  },
  {
   "cell_type": "markdown",
   "id": "dc859850-342d-44cc-a2b1-fc40877ca290",
   "metadata": {},
   "source": [
    "Пример:\n",
    "\n",
    "    input_dict = {'lesson': 2, 'task': 21, 'course': 'python'}\n",
    "    \n",
    "    result = 'course=python&lesson=2&task=21'"
   ]
  },
  {
   "cell_type": "code",
   "execution_count": null,
   "id": "4b55fea8-56ee-4829-a750-48bec5340c0f",
   "metadata": {},
   "outputs": [],
   "source": [
    "def dict_to_string(input_dict):\n",
    "    sorted_keys = sorted(input_dict.keys())\n",
    "    result = '&'.join([f\"{key}={input_dict[key]}\" for key in sorted_keys])\n",
    "    return result\n",
    "\n",
    "result = dict_to_string(input_dict)"
   ]
  },
  {
   "cell_type": "code",
   "execution_count": null,
   "id": "f7cf5bdd-752b-4d5a-a165-0548680f6c2e",
   "metadata": {},
   "outputs": [],
   "source": [
    "# вариант 2\n",
    "\n",
    "result_list = [f'{key}={value}' for key, value in sorted(input_dict.items())]\n",
    "result = '&'.join(result_list)"
   ]
  },
  {
   "cell_type": "markdown",
   "id": "6e1bc1a0-e11a-4601-8e8a-d57b4f249711",
   "metadata": {},
   "source": [
    "### Задание_11:\n",
    "Напишите программу, которая принимает одну строку input_str и возвращает другую result, в которой каждая буква исходной строки повторяется дважды."
   ]
  },
  {
   "cell_type": "code",
   "execution_count": null,
   "id": "3fe3d609-ba4b-4c6b-9c7a-5acde40e2a4b",
   "metadata": {},
   "outputs": [],
   "source": [
    "Пример:\n",
    "\n",
    "input_str = \"String\"\n",
    "result = \"SSttrriinngg\""
   ]
  },
  {
   "cell_type": "code",
   "execution_count": 356,
   "id": "d0d86da8-931c-4440-a6ad-3b20761c940e",
   "metadata": {},
   "outputs": [
    {
     "data": {
      "text/plain": [
       "'SSttrriinngg'"
      ]
     },
     "execution_count": 356,
     "metadata": {},
     "output_type": "execute_result"
    }
   ],
   "source": [
    "input_str = \"String\"\n",
    "\n",
    "result = \"\"\n",
    "for symbol in input_str:\n",
    "    result += symbol*2\n",
    "\n",
    "result  "
   ]
  },
  {
   "cell_type": "code",
   "execution_count": 359,
   "id": "7c9a856f-f68f-4934-b76d-28c6c6023f4e",
   "metadata": {},
   "outputs": [
    {
     "data": {
      "text/plain": [
       "'SSttrriinngg'"
      ]
     },
     "execution_count": 359,
     "metadata": {},
     "output_type": "execute_result"
    }
   ],
   "source": [
    "# вариант 2\n",
    "\n",
    "input_str = \"String\"\n",
    "\n",
    "result = ''.join([s * 2 for s in input_str])\n",
    "\n",
    "result"
   ]
  },
  {
   "cell_type": "code",
   "execution_count": null,
   "id": "f573e06d-7e18-4125-b7ae-31c14310e050",
   "metadata": {},
   "outputs": [],
   "source": []
  },
  {
   "cell_type": "markdown",
   "id": "5e49b6bb-6fe1-419a-942b-db882cee2b97",
   "metadata": {},
   "source": [
    "### Задание_12:\n",
    "\n",
    "Напишите программу, которая будет принимать число n и проверять, кратна ли каждая его цифра цифре, стоящей слева от нее. \n",
    "\n",
    "Ответ сохраните в result в виде массива булевых значений результатов проверок.\r\n",
    "\r\n",
    "result всегда должен начинаться с False, так как слева от первой цифры ничего нет. "
   ]
  },
  {
   "cell_type": "code",
   "execution_count": null,
   "id": "a345b7cc-8dec-4fe0-b17f-cc9fd758d987",
   "metadata": {},
   "outputs": [],
   "source": [
    "Пример:\n",
    "\n",
    "n = 54412\n",
    "result = [False, False, True, False, True]"
   ]
  },
  {
   "cell_type": "code",
   "execution_count": null,
   "id": "852bac30-4f4e-49de-9c79-5351ccc6c83f",
   "metadata": {},
   "outputs": [],
   "source": []
  },
  {
   "cell_type": "code",
   "execution_count": 395,
   "id": "98d9f8f0-2915-4e79-b4a6-20b23e0bc37c",
   "metadata": {},
   "outputs": [
    {
     "data": {
      "text/plain": [
       "[False, True, False, True]"
      ]
     },
     "execution_count": 395,
     "metadata": {},
     "output_type": "execute_result"
    }
   ],
   "source": [
    "n = 2024\n",
    "\n",
    "result = []\n",
    "\n",
    "if len(str(n)) > 1:\n",
    "    for i, number in enumerate(str(n)):\n",
    "        if int(i)> 0 and int(str(n)[i-1]) != 0:\n",
    "            if int(number) % int(str(n)[i-1]) == 0:\n",
    "                result.append(True)\n",
    "            else:\n",
    "                result.append(False)\n",
    "        else:\n",
    "                result.append(False)\n",
    "else:\n",
    "    result = [False]\n",
    "    \n",
    "result"
   ]
  },
  {
   "cell_type": "code",
   "execution_count": 397,
   "id": "b78b0026-5bcf-4622-8f32-d0fecad84e55",
   "metadata": {},
   "outputs": [
    {
     "data": {
      "text/plain": [
       "[False, True, False, True]"
      ]
     },
     "execution_count": 397,
     "metadata": {},
     "output_type": "execute_result"
    }
   ],
   "source": [
    "# вариант 2\n",
    "\n",
    "n_str = str(n)\n",
    "result = [False]\n",
    "for i in range(1,len(n_str)):\n",
    "    if int(n_str[i-1]) == 0 or int(n_str[i]) % int(n_str[i-1]) != 0:\n",
    "        result.append(False)\n",
    "    else:\n",
    "        result.append(True)\n",
    "\n",
    "result"
   ]
  },
  {
   "cell_type": "code",
   "execution_count": null,
   "id": "6077bce2-6b45-4cea-b37d-9aeef9ead935",
   "metadata": {},
   "outputs": [],
   "source": []
  },
  {
   "cell_type": "markdown",
   "id": "5999085b-d139-4806-836c-fc6eca9d5349",
   "metadata": {},
   "source": [
    "### Задание_13:"
   ]
  },
  {
   "cell_type": "markdown",
   "id": "f2cf85fb-7581-4544-8303-10262f71bf0b",
   "metadata": {},
   "source": [
    "Представим, что мы организуем экзамен, у нас есть список студентов, которые должны выступить с устным докладом. Для выступления отбираются только те студенты, которые набрали более 90 баллов за письменную работу. Наша задача сделать так, чтобы студенты выступали по очереди, отсортированные по фамилии.\n",
    "\n",
    "Например, если у нас есть участники  Бабаков, Антонов, Волгов,, то выступать они должны в следующем порядке Антонов, Бабаков, Волгов.\n",
    "\n",
    "Задача:\n",
    "\n",
    "В словареstudents сохранены данные про студентов, ключ — фамилия, значение — число баллов за экзамен, создайте список students_order, в котором каждый элемент это кортеж (tuple) с номером выступления студента и его фамилией. В students_order должны быть только те студенты, у которых более 90 баллов. Порядок определяется сортировкой по фамилии."
   ]
  },
  {
   "cell_type": "code",
   "execution_count": null,
   "id": "17ab0bad-2af2-4930-a6c7-246a2bbe19bc",
   "metadata": {},
   "outputs": [],
   "source": [
    "Пример:\n",
    "\n",
    "students = {'Бабаков': 80, 'Антонов': 99, 'Волгов': 100}\n",
    "students_order = [(1, 'Антонов'), (2, 'Волгов')]"
   ]
  },
  {
   "cell_type": "code",
   "execution_count": null,
   "id": "3a248245-9861-464a-ab93-9122cc1763ff",
   "metadata": {},
   "outputs": [],
   "source": []
  },
  {
   "cell_type": "code",
   "execution_count": 520,
   "id": "8b45cc0a-e42b-41e3-94e6-b00ab1a58996",
   "metadata": {},
   "outputs": [
    {
     "data": {
      "text/plain": [
       "[(1, 'Иванов'), (2, 'Петров')]"
      ]
     },
     "execution_count": 520,
     "metadata": {},
     "output_type": "execute_result"
    }
   ],
   "source": [
    "students = {'Иванов': 100, 'Петров': 100, 'Сидоров': 80}\n",
    "\n",
    "lucky_students_list = [] \n",
    "students_order = []\n",
    "\n",
    "for i, points in enumerate(students.values()):\n",
    "    if points > 90:\n",
    "        lucky_students_list.append(list(students.items())[i][0])\n",
    "lucky_students_list.sort()\n",
    "\n",
    "for i, student in enumerate(lucky_students_list, start= 1):\n",
    "    students_order.append((i, student))\n",
    "\n",
    "students_order "
   ]
  },
  {
   "cell_type": "code",
   "execution_count": null,
   "id": "4fe79136-764a-46e3-9b81-b821b509190a",
   "metadata": {},
   "outputs": [],
   "source": [
    "# вариант 2\n",
    "\n",
    "students_order = [name for name in sorted(students.keys()) if students[name] > 90]\n",
    "students_order = list(enumerate(students_order, 1))\n",
    "\n"
   ]
  },
  {
   "cell_type": "code",
   "execution_count": 526,
   "id": "f4d1143f-fdba-4ed0-8195-acd9359299d1",
   "metadata": {},
   "outputs": [
    {
     "data": {
      "text/plain": [
       "[(1, 'fdf'), (2, 'sdfkdf'), (3, 'sdviq')]"
      ]
     },
     "execution_count": 526,
     "metadata": {},
     "output_type": "execute_result"
    }
   ],
   "source": [
    "my_list = ['fdf', 'sdfkdf', 'sdviq']\n",
    "my_list = list(enumerate(my_list, 1))\n",
    "\n",
    "my_list"
   ]
  },
  {
   "cell_type": "markdown",
   "id": "cec995e5-eaf9-46ae-916a-2754b640161c",
   "metadata": {},
   "source": [
    "### Задание_14:"
   ]
  },
  {
   "cell_type": "code",
   "execution_count": null,
   "id": "a334e1fd-e479-475b-b9e2-7a099e9ad5fe",
   "metadata": {},
   "outputs": [],
   "source": [
    "Давайте научимся разгадывать тайные шифры! В my_string  хранится зашифрованная строка, например:\n",
    "\n",
    "my_string = 'qircxfcgwxeciscwgwvzlfrciclibecpfvqzg'\n",
    "\n",
    "\n",
    "В словаре secret_dict  хранится ключ к шифру, набор символов, которые нужно заменить:\n",
    "\n",
    "secret_dict = {\n",
    " 'b': 'k',\n",
    " 'c': ' ',\n",
    " 'g': 'n',\n",
    " 'q': 'h',\n",
    " 'z': 'o',\n",
    " 'v': 't',\n",
    " 'w': 'a',\n",
    " 'f': 'y',\n",
    " 'x': 'm',\n",
    " 'r': ','}"
   ]
  },
  {
   "cell_type": "markdown",
   "id": "e1454832-3639-4b32-abc2-b87e12595c7a",
   "metadata": {},
   "source": [
    "Таким образом, словарь secret_dict говорит нам, что в строке my_string букву b нужно заменить на k, c на пробел и т. д. \n",
    "\n",
    "Если мы сделаем такие замены в строке my_string, \n",
    "\n",
    "то 'qircxfcgwxeciscwgwvzlfrciclibecpfvqzg' превратится в 'hi, my name is anatoly, i like python'.\n",
    "\n",
    "Напишите программу, которая расшифровывает строку my_string при помощи словаря secret_dict. \n",
    "Расшифрованную строку сохраните в переменную decrypted_string."
   ]
  },
  {
   "cell_type": "code",
   "execution_count": 538,
   "id": "17385864-4550-4bb7-81b7-e78d74da619a",
   "metadata": {},
   "outputs": [],
   "source": [
    "# Пример:\n",
    "\n",
    "my_string = 'qircxfcgwxeciscwgwvzlfrciclibecpfvqzg'\n",
    "secret_dict = {\n",
    " 'b': 'k',\n",
    " 'c': ' ',\n",
    " 'g': 'n',\n",
    " 'q': 'h',\n",
    " 'z': 'o',\n",
    " 'v': 't',\n",
    " 'w': 'a',\n",
    " 'f': 'y',\n",
    " 'x': 'm',\n",
    " 'r': ','}\n",
    "\n",
    "# decrypted_string = 'the old lady looked and tom ran away'"
   ]
  },
  {
   "cell_type": "code",
   "execution_count": 537,
   "id": "d8a1865e-edc2-4c72-98f2-e9f9a6f44ac1",
   "metadata": {},
   "outputs": [
    {
     "data": {
      "text/plain": [
       "'hi, my name is anatoly, i like python'"
      ]
     },
     "execution_count": 537,
     "metadata": {},
     "output_type": "execute_result"
    }
   ],
   "source": [
    "decrypted_string = ''\n",
    "\n",
    "for i, letter in enumerate(my_string):\n",
    "    if my_string[i] in secret_dict.keys():\n",
    "        decrypted_string += secret_dict[letter]\n",
    "    else:\n",
    "        decrypted_string += letter\n",
    "\n",
    "decrypted_string"
   ]
  },
  {
   "cell_type": "code",
   "execution_count": null,
   "id": "fc02925e-856d-4748-81bd-b83058ddd7d0",
   "metadata": {},
   "outputs": [],
   "source": [
    "# вариант 2\n",
    "\n",
    "decrypted_string = ''\n",
    "\n",
    "for i in my_string:\n",
    "    if secret_dict.get(i):\n",
    "        decrypted_string += secret_dict[i]\n",
    "    else:\n",
    "        decrypted_string += i"
   ]
  },
  {
   "cell_type": "code",
   "execution_count": null,
   "id": "4fe761ef-6c53-42cb-a5ac-9e9d0be4ee93",
   "metadata": {},
   "outputs": [],
   "source": []
  },
  {
   "cell_type": "code",
   "execution_count": null,
   "id": "118efa66-a53a-4302-bc0e-22478bafd2bb",
   "metadata": {},
   "outputs": [],
   "source": []
  },
  {
   "cell_type": "code",
   "execution_count": null,
   "id": "98ae5627-78ba-426a-8b35-61d528785034",
   "metadata": {},
   "outputs": [],
   "source": []
  },
  {
   "cell_type": "code",
   "execution_count": null,
   "id": "4d30167f-39a8-4f25-8e96-eb4e6d0a21d7",
   "metadata": {},
   "outputs": [],
   "source": []
  },
  {
   "cell_type": "code",
   "execution_count": null,
   "id": "4ad1278f-624f-41c2-98f5-d0949d29c322",
   "metadata": {},
   "outputs": [],
   "source": []
  }
 ],
 "metadata": {
  "kernelspec": {
   "display_name": "Python 3 (ipykernel)",
   "language": "python",
   "name": "python3"
  },
  "language_info": {
   "codemirror_mode": {
    "name": "ipython",
    "version": 3
   },
   "file_extension": ".py",
   "mimetype": "text/x-python",
   "name": "python",
   "nbconvert_exporter": "python",
   "pygments_lexer": "ipython3",
   "version": "3.12.4"
  }
 },
 "nbformat": 4,
 "nbformat_minor": 5
}
