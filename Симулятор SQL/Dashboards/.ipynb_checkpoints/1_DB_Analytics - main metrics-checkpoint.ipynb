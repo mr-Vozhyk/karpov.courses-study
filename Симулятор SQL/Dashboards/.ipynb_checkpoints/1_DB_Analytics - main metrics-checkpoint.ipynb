{
 "cells": [
  {
   "cell_type": "markdown",
   "id": "cafbc6dd-f64f-49fe-9444-85b331f811e3",
   "metadata": {},
   "source": [
    "# Курс «Симулятор SQL»\n",
    "## Построение дашбордов"
   ]
  },
  {
   "cell_type": "markdown",
   "id": "0b789563-788d-4cbe-ba18-c61a023d47a3",
   "metadata": {},
   "source": [
    "### Дашборд \"Analytics - main metrics\"  с основными метриками.\n",
    "[**Ссылка на Дашборд**](https://redash.public.karpov.courses/dashboards/4628-analytics---main-metrics)\n",
    "#### Главный вопрос: \n",
    "#### - Как обстоят дела, всё ли в порядке?"
   ]
  },
  {
   "cell_type": "markdown",
   "id": "39b79c1c-0889-45ba-b603-620b75bf5a3a",
   "metadata": {},
   "source": [
    "##### Структура:\n",
    "- **DAU/WAU/MAU_users** - DailyAU, WeekAU, MonthAU метрики активности пользователей\n",
    "- **Active_couriers**   - Количество ежедневно активных курьеров                   \n",
    "- **Delivery_orders**   - Количество доставленных ежедневно заказов                 \n",
    "- **Orders per Users**  - Количество заказов на одного пользователя    \n",
    "- **Cancel rate**       - Доля отмененных заказов от общего количества заказов"
   ]
  },
  {
   "cell_type": "markdown",
   "id": "d38daddf-a8ad-4f58-ad15-1d97c97cff4b",
   "metadata": {},
   "source": [
    "### 1. DAU/ WAU/ MAU_users \n",
    "#### DailyAU, WeekAU, MonthAU метрики активности пользователей"
   ]
  },
  {
   "cell_type": "markdown",
   "id": "0349f894-20ad-4fd5-b5f8-da19fd6107d4",
   "metadata": {},
   "source": [
    "**DailyAU**\n",
    "```sql\n",
    "SELECT \n",
    "       time::date AS date,\n",
    "       COUNT(DISTINCT user_id) AS DAU\n",
    "  FROM user_actions\n",
    " GROUP BY\n",
    "       date\n",
    " ORDER BY\n",
    "       date"
   ]
  },
  {
   "cell_type": "markdown",
   "id": "bc517683-30ee-4704-ba94-139a237d9aa9",
   "metadata": {},
   "source": [
    "[**Ссылка на График в Redash**](https://redash.public.karpov.courses/queries/62867#98645)"
   ]
  },
  {
   "cell_type": "markdown",
   "id": "bb8e9a6b-2bb1-4bb8-81e6-c2d02dee9bc0",
   "metadata": {},
   "source": [
    "**WeekAU**\n",
    "```sql\n",
    "SELECT\n",
    "       date_trunc('week', time)::date AS date,\n",
    "       COUNT(DISTINCT user_id) AS WAU\n",
    "  FROM user_actions\n",
    " GROUP BY\n",
    "       date\n",
    " ORDER BY \n",
    "       date"
   ]
  },
  {
   "cell_type": "markdown",
   "id": "e68ecd90-ae50-4326-9a4c-9b3dcb25b679",
   "metadata": {},
   "source": [
    "[**Ссылка на График в Redash**](https://redash.public.karpov.courses/queries/64423#98644)"
   ]
  },
  {
   "cell_type": "markdown",
   "id": "cfbb14c4-f68e-45a5-b621-aa517a75c63b",
   "metadata": {},
   "source": [
    "**MAU**\n",
    "```sql\n",
    "SELECT\n",
    "       date_trunc('month', time)::date AS date,\n",
    "       COUNT(DISTINCT user_id) AS MAU\n",
    "  FROM user_actions\n",
    " GROUP BY\n",
    "       date\n",
    " ORDER BY \n",
    "       date"
   ]
  },
  {
   "cell_type": "markdown",
   "id": "7405f68d-955d-4eb3-9a83-001c5add8a88",
   "metadata": {},
   "source": [
    "[**Ссылка на График в Redash**](https://redash.public.karpov.courses/queries/64424#98646)"
   ]
  },
  {
   "cell_type": "markdown",
   "id": "34e9a4d3-d0cd-408a-9a10-9867918c96ce",
   "metadata": {},
   "source": [
    "### 2. Active_couriers\n",
    "#### Количество ежедневно активных курьеров"
   ]
  },
  {
   "cell_type": "markdown",
   "id": "3b46e7e3-a2a3-4886-91b0-f0b5d7c80e8b",
   "metadata": {},
   "source": [
    "**Active_couriers**\n",
    "```sql\n",
    "SELECT \n",
    "       time::date AS date,\n",
    "       COUNT(DISTINCT courier_id) AS active_couriers\n",
    "  FROM courier_actions\n",
    " GROUP BY\n",
    "       date\n",
    " ORDER BY\n",
    "       date"
   ]
  },
  {
   "cell_type": "markdown",
   "id": "136f59ba-f332-4418-91d1-7dece5708bed",
   "metadata": {},
   "source": [
    "[**Ссылка на График в Redash**](https://redash.public.karpov.courses/queries/64501#98762)"
   ]
  },
  {
   "cell_type": "markdown",
   "id": "860ab993-4f88-41c3-9fa6-f839cd4dcfc2",
   "metadata": {},
   "source": [
    "### 3. Delivery_orders\n",
    "#### Количество доставленных ежедневно заказов"
   ]
  },
  {
   "cell_type": "markdown",
   "id": "6a5ea319-dc41-43c8-ae64-b79ca4a05e14",
   "metadata": {},
   "source": [
    "**Delivery_orders**\n",
    "```sql\n",
    "SELECT \n",
    "       time::date AS date,\n",
    "       COUNT(DISTINCT order_id) FILTER(WHERE action = 'deliver_order') AS delivery_orders\n",
    "  FROM courier_actions\n",
    " GROUP BY\n",
    "       date\n",
    " ORDER BY\n",
    "       date"
   ]
  },
  {
   "cell_type": "markdown",
   "id": "4e066ff7-0ef7-4051-8ddd-baf8af4333f4",
   "metadata": {},
   "source": [
    "[**Ссылка на График в Redash**](https://redash.public.karpov.courses/queries/64503#98761)"
   ]
  },
  {
   "cell_type": "markdown",
   "id": "137dd242-77ba-44fd-b610-3164622a6043",
   "metadata": {},
   "source": [
    "### 4. Orders analytics\n",
    "#### 4.1 Orders per Users - Количество заказов на одного пользователя\n",
    "#### 4.2 Cancel rate - Доля отмененных заказов от общего количества заказов"
   ]
  },
  {
   "cell_type": "markdown",
   "id": "c6ac3f09-6523-44c9-9fe6-a4b9338fecc5",
   "metadata": {},
   "source": [
    "**Orders analytics**\n",
    "```sql\n",
    "SELECT\n",
    "      date,\n",
    "      cancel_orders::decimal/ create_orders AS cancel_rate,\n",
    "      create_orders::decimal/ active_users  AS orders_per_user,\n",
    "      cancel_orders,\n",
    "      create_orders,\n",
    "      active_users\n",
    " FROM \n",
    "    (SELECT\n",
    "           time::date AS date,\n",
    "           COUNT(order_id) FILTER(WHERE action = 'cancel_order') AS cancel_orders,     \n",
    "           COUNT(order_id) FILTER(WHERE action = 'create_order') AS create_orders,\n",
    "           COUNT(DISTINCT user_id) AS active_users\n",
    "      FROM user_actions\n",
    "     GROUP BY\n",
    "           date\n",
    "    ) AS t1\n",
    " ORDER BY \n",
    "       date"
   ]
  },
  {
   "cell_type": "markdown",
   "id": "abede660-77c4-4cd1-89ac-77364ca230c8",
   "metadata": {},
   "source": [
    "**Orders per Users** - \n",
    "[**Ссылка на График в Redash**](https://redash.public.karpov.courses/queries/64509#98783)"
   ]
  },
  {
   "cell_type": "markdown",
   "id": "2fbf7269-eefc-4119-9386-8c3be3ec9f44",
   "metadata": {},
   "source": [
    "**Cancel rate** - [**Ссылка на График в Redash**](https://redash.public.karpov.courses/queries/64509#98790)"
   ]
  }
 ],
 "metadata": {
  "kernelspec": {
   "display_name": "Python 3 (ipykernel)",
   "language": "python",
   "name": "python3"
  },
  "language_info": {
   "codemirror_mode": {
    "name": "ipython",
    "version": 3
   },
   "file_extension": ".py",
   "mimetype": "text/x-python",
   "name": "python",
   "nbconvert_exporter": "python",
   "pygments_lexer": "ipython3",
   "version": "3.12.4"
  }
 },
 "nbformat": 4,
 "nbformat_minor": 5
}
