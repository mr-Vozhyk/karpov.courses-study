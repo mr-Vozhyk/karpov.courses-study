{
 "cells": [
  {
   "cell_type": "markdown",
   "id": "4b7aafa1-f210-4ce2-9a6e-41a3e5c4a11c",
   "metadata": {},
   "source": [
    "# Курс «Симулятор SQL»"
   ]
  },
  {
   "cell_type": "markdown",
   "id": "0791924e-05da-4278-ac1c-4aeae82e3b10",
   "metadata": {},
   "source": [
    "### Примеры задач и их решения\n",
    "#### *Агрегация*"
   ]
  },
  {
   "cell_type": "markdown",
   "id": "07caeab6-6939-40a5-aefc-4de31e63337f",
   "metadata": {},
   "source": [
    "**Задание:**\n",
    "\n",
    "Выведите id всех уникальных пользователей из таблицы user_actions. Результат отсортируйте по возрастанию id.\n",
    "\n",
    "```SQL\n",
    "SELECT DISTINCT\n",
    "               user_id\n",
    "  FROM user_actions\n",
    " ORDER BY\n",
    "       user_id\n",
    "```"
   ]
  },
  {
   "cell_type": "markdown",
   "id": "b6d1dc37-ae50-4673-8519-0a8c23634bfd",
   "metadata": {},
   "source": [
    "**Задание:**\n",
    "\n",
    "Примените DISTINCT сразу к двум колонкам таблицы courier_actions и отберите уникальные пары значений courier_id и order_id.\n",
    "\n",
    "Результат отсортируйте сначала по возрастанию id курьера, затем по возрастанию id заказа.\n",
    "\n",
    "```SQL\n",
    "SELECT \n",
    "       DISTINCT \n",
    "                courier_id, order_id    \n",
    "  FROM courier_actions\n",
    " ORDER BY\n",
    "       courier_id,\n",
    "       order_id\n",
    "```"
   ]
  },
  {
   "cell_type": "markdown",
   "id": "25c07804-dccc-4b5e-86fe-d6a08ac1679b",
   "metadata": {},
   "source": [
    "**Задание:**\n",
    "\n",
    "Посчитайте максимальную и минимальную цены товаров в таблице products. Поля назовите соответственно max_price, min_price.\n",
    "\n",
    "```SQL\n",
    "SELECT \n",
    "       MAX(price) AS max_price,\n",
    "       MIN(price) AS min_price\n",
    "  FROM products\n",
    "```"
   ]
  },
  {
   "cell_type": "markdown",
   "id": "a14016e5-f418-425e-ba2c-254eada9ee35",
   "metadata": {},
   "source": [
    "**Задание:**\r\n",
    "\r\n",
    "Как вы помните, в таблице users у некоторых пользователей не были указаны их даты рождения.\r\n",
    "\r\n",
    "Посчитайте в одном запросе количество всех записей в таблице и количество только тех записей, для которых в колонке birth_date указана дата рождения.\r\n",
    "\r\n",
    "Колонку с общим числом записей назовите dates, а колонку с записями без пропусков — dates_not_null.\n",
    "\n",
    "```SQL\n",
    "SELECT\n",
    "      COUNT(*) AS dates,\n",
    "      COUNT(birth_date) AS dates_not_null\n",
    "  FROM users\n",
    "```"
   ]
  },
  {
   "cell_type": "markdown",
   "id": "762f5fe0-eef9-4acb-b77a-46e4dbe5b0f1",
   "metadata": {},
   "source": [
    "**Задача:**\n",
    "\n",
    "Посчитайте количество всех значений в колонке user_id в таблице user_actions, а также количество уникальных значений в этой колонке (т.е. количество уникальных пользователей сервиса).\n",
    "\n",
    "Колонку с первым полученным значением назовите users, а колонку со вторым — unique_users.\n",
    "\n",
    "```SQL\n",
    "SELECT\n",
    "       COUNT(user_id) AS users,\n",
    "       COUNT(DISTINCT user_id) AS unique_users\n",
    "  FROM user_actions\n",
    "```"
   ]
  },
  {
   "cell_type": "markdown",
   "id": "8c0b9924-ac91-47ba-9e80-afa765f1ecf6",
   "metadata": {},
   "source": [
    "**Задание:**\n",
    "\n",
    "Посчитайте количество курьеров женского пола в таблице couriers. Полученный столбец с одним значением назовите couriers.\n",
    "\n",
    "```sql\n",
    "SELECT \n",
    "      COUNT(courier_id) AS couriers\n",
    "  FROM couriers\n",
    " WHERE\n",
    "     sex LIKE 'female'\n",
    "```"
   ]
  },
  {
   "cell_type": "markdown",
   "id": "5dfc48e6-72e1-4061-8d0f-453916bf08d0",
   "metadata": {},
   "source": [
    "**Задача:**\n",
    "\n",
    "Рассчитайте время, когда были совершены первая и последняя доставки заказов в таблице courier_actions.\n",
    "\n",
    "Колонку с временем первой доставки назовите first_delivery, а колонку с временем последней — last_delivery.\n",
    "\n",
    "```sql\n",
    "SELECT \n",
    "       MIN(time) AS first_delivery,\n",
    "       MAX(time) AS last_delivery\n",
    "  FROM courier_actions\n",
    " WHERE\n",
    "     action LIKE 'deliver_order'\n",
    "```"
   ]
  },
  {
   "cell_type": "markdown",
   "id": "0b7c4b4b-a1c0-46a1-a0a7-33459cfd8231",
   "metadata": {},
   "source": [
    "**Задание:**\n",
    "\n",
    "Представьте, что один из пользователей сервиса сделал заказ, в который вошли одна пачка сухариков, одна пачка чипсов и один энергетический напиток. Посчитайте стоимость такого заказа.\n",
    "\n",
    "Колонку с рассчитанной стоимостью заказа назовите order_price.\n",
    "\n",
    "Для расчётов используйте таблицу products.\n",
    "\n",
    "```sql\n",
    "SELECT\n",
    "       SUM(price) AS order_price\n",
    "  FROM products\n",
    " WHERE \n",
    "          name LIKE 'сухарики'\n",
    "       OR name LIKE 'чипсы'\n",
    "       OR name LIKE 'энергетический напиток'\n",
    "```"
   ]
  },
  {
   "cell_type": "markdown",
   "id": "18c7598d-c7af-482d-b574-c6668f8d888f",
   "metadata": {},
   "source": [
    "**Вариант 2:**\n",
    "```sql\n",
    "SELECT \n",
    "       sum(price) AS order_price\n",
    "  FROM products\n",
    " WHERE \n",
    "       name in ('сухарики', 'чипсы', 'энергетический напиток')\n",
    "```\n",
    "**Вариант 3:**\n",
    "```sql\n",
    "SELECT\n",
    "       SUM(\n",
    "           CASE \n",
    "           WHEN name in ('сухарики', 'чипсы', 'энергетический напиток') THEN price\n",
    "           END\n",
    "          ) AS order_price\n",
    " FROM products\n",
    "```"
   ]
  },
  {
   "cell_type": "markdown",
   "id": "9bb566fa-b0f4-4466-a26e-d39f3542ce9d",
   "metadata": {},
   "source": [
    "**Задание:**\n",
    "\n",
    "Посчитайте количество заказов в таблице orders с девятью и более товарами. Для этого воспользуйтесь функцией array_length, отфильтруйте данные по количеству товаров в заказе и проведите агрегацию. \n",
    "\n",
    "Полученный столбец назовите orders.\n",
    "\n",
    "```sql\n",
    "SELECT\n",
    "       COUNT(order_id) AS orders\n",
    "  FROM orders\n",
    " WHERE \n",
    "       array_length(product_ids, 1) >= 9\n",
    "```"
   ]
  },
  {
   "cell_type": "raw",
   "id": "21b597ad-8345-4ec5-b321-4269364f51ad",
   "metadata": {},
   "source": []
  },
  {
   "cell_type": "markdown",
   "id": "44756928-7493-4f09-9034-bf4174719ddf",
   "metadata": {},
   "source": [
    "**Функция ```AGE``` возвращает разницу между двумя значениями, представленными в формате TIMESTAMP. При этом из первого значения вычитается второе, а сама разница получается в формате INTERVAL:**\n",
    "\n",
    "```SQL\n",
    "SELECT AGE('2022-12-12', '2021-11-10')\n",
    "```\n",
    "\n",
    "Результат:\n",
    "```397 days, 0:00:00```"
   ]
  },
  {
   "cell_type": "markdown",
   "id": "a37a4d7a-6ab9-4aee-843d-a2c73d4c6709",
   "metadata": {},
   "source": [
    "\n",
    "**Чтобы результат отображался не в виде количества дней, а в более удобном формате, можно переводить результат вычислений в тип VARCHAR:**\n",
    "\n",
    "```SQL\n",
    "SELECT AGE(current_date, '2021-11-10')::VARCHAR \n",
    "```\n",
    "\n",
    "**Результат:**\n",
    "\n",
    "```1 year 1 mon 2 days```"
   ]
  },
  {
   "cell_type": "markdown",
   "id": "a2c100f3-212d-431f-a217-8568e299b93b",
   "metadata": {},
   "source": [
    "**Задание:**\n",
    "\n",
    "С помощью функции ```AGE``` и агрегирующей функции рассчитайте возраст самого молодого курьера мужского пола в таблице couriers.\n",
    "\n",
    "Возраст выразите количеством лет, месяцев и дней (как в примере выше), переведя его в тип ```VARCHAR```. \n",
    "\n",
    "В качестве даты, относительно которой считать возраст курьеров, используйте свою текущую дату (либо не указывайте её на месте первого аргумента, как показано в примерах).\n",
    "\n",
    "Полученную колонку со значением возраста назовите min_age.\n",
    "\n",
    "```sql\n",
    "SELECT\n",
    "       MIN(AGE(current_date, birth_date))::VARCHAR AS min_age       --- MIN(AGE(birth_date))::VARCHAR\n",
    "  FROM couriers\n",
    " WHERE\n",
    "       sex LIKE 'male'\n",
    "```"
   ]
  },
  {
   "cell_type": "markdown",
   "id": "e78bb1e0-dbc3-4e99-a219-e0a443d69cf4",
   "metadata": {},
   "source": [
    "**Если бы в нашей таблице все товары были разбиты по категориям и мы захотели бы посчитать среднюю цену товаров с учётом повышающих или понижающих коэффициентов для каждой категории, то мы могли бы сделать это, например, следующим образом:**\n",
    "\n",
    "```sql\n",
    "SELECT AVG(\n",
    "            CASE \n",
    "            WHEN category='мясо' THEN price*0.95\n",
    "            WHEN category='рыба' THEN price*0.9\n",
    "            WHEN category='напитки' THEN price*1.05\n",
    "            ELSE price\n",
    "            END\n",
    "            ) AS avg_price\n",
    " FROM products\n",
    "```"
   ]
  },
  {
   "cell_type": "markdown",
   "id": "64dccfa8-e141-46b5-bbe1-2be91aca599a",
   "metadata": {},
   "source": [
    "**Задание:**\n",
    "\n",
    "Посчитайте стоимость заказа, в котором будут три пачки сухариков, две пачки чипсов и один энергетический напиток. Колонку с рассчитанной стоимостью заказа назовите order_price.\n",
    "\n",
    "Для расчётов используйте таблицу products.\n",
    "\n",
    "```sql\n",
    "SELECT\n",
    "       SUM(\n",
    "           CASE \n",
    "               WHEN name LIKE 'сухарики' THEN price*3\n",
    "               WHEN name LIKE 'чипсы' THEN price*2\n",
    "               WHEN name LIKE 'энергетический напиток' THEN price\n",
    "           END\n",
    "          ) AS order_price\n",
    " FROM products\n",
    "\n",
    "```"
   ]
  },
  {
   "cell_type": "markdown",
   "id": "dc628b48-58a7-4396-81de-2cd9adfd76ca",
   "metadata": {},
   "source": [
    "**Задание:**\n",
    "\n",
    "Рассчитайте среднюю цену товаров в таблице **products**, в названиях которых присутствуют слова ```«чай»``` или ```«кофе»```. Любым известным способом **исключите** из расчёта товары, содержащие в названии ```«иван-чай»``` или ```«чайный гриб»```.\n",
    "\n",
    "Среднюю цену округлите до двух знаков после запятой. \n",
    "\n",
    "Столбец с полученным значением назовите avg_price.\n",
    "\n",
    "```SQL\n",
    "SELECT\n",
    "       ROUND(AVG(price), 2) AS avg_price\n",
    "  FROM products\n",
    " WHERE\n",
    "       (name LIKE '%чай%' OR name LIKE '%кофе%') \n",
    "       AND name NOT LIKE '%иван-чай%'\n",
    "       AND name NOT LIKE '%чайный гриб%'\n",
    "\n",
    "```"
   ]
  },
  {
   "cell_type": "markdown",
   "id": "ec804d39-d23c-4fc0-8307-54f310a7778d",
   "metadata": {},
   "source": [
    "**Задание:**\n",
    "\n",
    "Воспользуйтесь функцией AGE и рассчитайте разницу в возрасте между самым старым и самым молодым пользователями мужского пола в таблице users. \n",
    "\n",
    "Разницу в возрасте выразите количеством лет, месяцев и дней, переведя её в тип VARCHAR. \n",
    "\n",
    "Колонку с посчитанным значением назовите age_diff.\n",
    "\n",
    "```SQL\n",
    "SELECT \n",
    "    AGE(MAX(birth_date), MIN(birth_date))::VARCHAR AS age_diff\n",
    "FROM \n",
    "    users\n",
    "WHERE \n",
    "    sex = 'male'\n",
    "```"
   ]
  },
  {
   "cell_type": "markdown",
   "id": "8ecaa03c-8b1e-4b7e-b953-33d4bec46cad",
   "metadata": {},
   "source": [
    "**Задание:**\n",
    "\n",
    "Рассчитайте среднее количество товаров в заказах из таблицы orders, которые пользователи оформляли по выходным дням (суббота и воскресенье) в течение всего времени работы сервиса.\n",
    "\n",
    "Полученное значение округлите до двух знаков после запятой. Колонку с ним назовите avg_order_size.\n",
    "\n",
    "```sql\n",
    "SELECT \n",
    "       ROUND( AVG( array_length(product_ids, 1) ), 2) AS avg_order_size\n",
    "  FROM orders\n",
    " WHERE\n",
    "       DATE_PART('dow', creation_time) in (0, 6)\n",
    "```"
   ]
  },
  {
   "cell_type": "markdown",
   "id": "8b2833e9-db1e-4480-9ba0-fc6e29a03f98",
   "metadata": {},
   "source": [
    "**Задание:**\n",
    "\n",
    "На основе данных в таблице user_actions посчитайте количество уникальных пользователей сервиса, количество уникальных заказов, поделите одно на другое и выясните, сколько заказов приходится на одного пользователя.\n",
    "\n",
    "В результирующей таблице отразите все три значения — поля назовите соответственно unique_users, unique_orders, orders_per_user.\n",
    "\n",
    "Показатель числа заказов на пользователя округлите до двух знаков после запятой.\n",
    "\n",
    "```sql\n",
    "SELECT\n",
    "       COUNT(DISTINCT user_id)  AS unique_users,\n",
    "       COUNT(DISTINCT order_id) AS unique_orders,\n",
    "       ROUND( COUNT(DISTINCT order_id):: DECIMAL / COUNT(DISTINCT user_id), 2) AS orders_per_user\n",
    "  FROM user_actions \n",
    "```"
   ]
  },
  {
   "cell_type": "markdown",
   "id": "5934c5d5-1cfd-4684-b421-7cad6f01f71c",
   "metadata": {},
   "source": [
    "**Если после агрегирующей функции указать ключевое слово FILTER и поместить в скобках некоторое условие condition после WHERE, то агрегирующей функции на вход будут поданы только те строки, для которых условие фильтра окажется истинным.**\n",
    "\n",
    "*В общем виде эта конструкция выглядит так:*\n",
    "\n",
    "```SQL\n",
    "SELECT agg_function(column) FILTER (WHERE condition)\n",
    "FROM table\n",
    "```\n",
    "\n",
    "*Например, если бы мы захотели посчитать среднюю цену только для товаров категории ```'рыба'```, то запрос выглядел бы так:*\n",
    "\n",
    "```SQL\n",
    "SELECT AVG(price) FILTER (WHERE category = 'рыба') AS avg_fish_price\n",
    "FROM table\n",
    "```"
   ]
  },
  {
   "cell_type": "markdown",
   "id": "1d9cf0bb-3e5d-4f6e-b1bb-e1a994000604",
   "metadata": {},
   "source": [
    "**Задание:**\n",
    "\n",
    "Посчитайте, сколько пользователей никогда не отменяли свой заказ. Для этого из общего числа всех уникальных пользователей отнимите число уникальных пользователей, которые хотя бы раз отменяли заказ. Подумайте, какое условие необходимо указать в ```FILTER```, чтобы получить корректный результат.\n",
    "\n",
    "Полученный столбец назовите ```users_count```.\n",
    "\n",
    "```SQL\n",
    "SELECT\n",
    "      COUNT(DISTINCT user_id) - COUNT(DISTINCT user_id) FILTER( WHERE action = 'cancel_order' ) AS users_count\n",
    "  FROM user_actions\n",
    "```"
   ]
  },
  {
   "cell_type": "markdown",
   "id": "12ba711c-c63d-4a29-842c-a44e5b3596d4",
   "metadata": {},
   "source": [
    "**Задание:**\n",
    "\n",
    "Посчитайте общее количество заказов в таблице ```orders```, количество заказов с пятью и более товарами и найдите долю заказов с пятью и более товарами в общем количестве заказов.\n",
    "\n",
    "В результирующей таблице отразите все три значения — поля назовите соответственно ```orders, large_orders, large_orders_share```.\n",
    "\n",
    "Долю заказов с пятью и более товарами в общем количестве товаров округлите до двух знаков после запятой.\n",
    "\n",
    "```SQL\n",
    "SELECT  \n",
    "       COUNT(order_id) AS orders,\n",
    "       COUNT(order_id) FILTER (WHERE array_length(product_ids,1) >= 5) AS large_orders,\n",
    "       ROUND( COUNT(order_id) FILTER (WHERE array_length(product_ids, 1) >= 5) / COUNT(order_id)::DECIMAL, 2)\n",
    "       AS large_orders_share\n",
    "  FROM orders\n",
    "```"
   ]
  },
  {
   "cell_type": "markdown",
   "id": "db072889-8b9c-46bb-a87e-de510aba80cd",
   "metadata": {},
   "source": [
    "**Подведём итоги\n",
    "В этом уроке мы:**\n",
    "\n",
    "-Познакомились с ключевым словом ```DISTINCT```.\n",
    "\n",
    "-Разобрались, как работают агрегирующие функции ```SUM, MIN, MAX, COUNT```.\n",
    "\n",
    "-Узнали разницу между ```COUNT(*)``` и ```COUNT(column)```.\n",
    "\n",
    "-Научились совмещать фильтрацию и агрегацию в одном запросе.\n",
    "\n",
    "-Поработали с массивами и узнали, что делает функция ```array_length```.\n",
    "\n",
    "-Узнали ещё больше про даты и время и познакомились с функцией ```AGE```.\n",
    "\n",
    "-Затронули более продвинутую тему — агрегатные выражения с фильтрацией.\n",
    "\n",
    "Известные нам на текущий момент ключевые слова и порядок их написания в запросе:\n",
    "\n",
    "```SELECT```     -- перечисление полей результирующей таблицы\n",
    "\n",
    "```FROM```       -- указание источника данных\n",
    "\n",
    "```WHERE```      -- фильтрация данных\n",
    "\n",
    "```ORDER BY```   -- сортировка результирующей таблицы\n",
    "\n",
    "```LIMIT```      -- ограничение количества выводимых записей"
   ]
  }
 ],
 "metadata": {
  "kernelspec": {
   "display_name": "Python 3 (ipykernel)",
   "language": "python",
   "name": "python3"
  },
  "language_info": {
   "codemirror_mode": {
    "name": "ipython",
    "version": 3
   },
   "file_extension": ".py",
   "mimetype": "text/x-python",
   "name": "python",
   "nbconvert_exporter": "python",
   "pygments_lexer": "ipython3",
   "version": "3.12.4"
  }
 },
 "nbformat": 4,
 "nbformat_minor": 5
}
