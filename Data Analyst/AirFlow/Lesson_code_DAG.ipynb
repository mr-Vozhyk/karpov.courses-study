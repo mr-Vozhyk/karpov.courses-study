{
 "cells": [
  {
   "cell_type": "markdown",
   "id": "272ffa88-e309-4506-9f60-b315f1f7c079",
   "metadata": {},
   "source": [
    "# Lesson: AirFlow. DAG's"
   ]
  },
  {
   "cell_type": "markdown",
   "id": "dde6e1af-9c9c-4897-9389-db407ec04cdb",
   "metadata": {},
   "source": [
    "### DAG skeleton\n",
    "### Step 1: Импортируем библиотеки"
   ]
  },
  {
   "cell_type": "code",
   "execution_count": null,
   "id": "0064fdbe-25a0-499f-9021-38745699078d",
   "metadata": {},
   "outputs": [],
   "source": [
    "import requests\n",
    "from zipfile import ZipFile\n",
    "from io import BytesIO\n",
    "import pandas as pd\n",
    "from datetime import timedelta\n",
    "from datetime import datetime\n",
    "\n",
    "from airflow import DAG\n",
    "from airflow.operators.python import PythonOperator"
   ]
  },
  {
   "cell_type": "markdown",
   "id": "0234f915-5468-4a35-903d-11063174da15",
   "metadata": {},
   "source": [
    "### Step 2: Подгружаем данные"
   ]
  },
  {
   "cell_type": "code",
   "execution_count": null,
   "id": "a9b3563b-c223-4322-8367-90fa151aef06",
   "metadata": {},
   "outputs": [],
   "source": [
    "TOP_1M_DOMAINS = 'http://s3.amazonaws.com/alexa-static/top-1m.csv.zip'\n",
    "TOP_1M_DOMAINS_FILE = 'top-1m.csv'"
   ]
  },
  {
   "cell_type": "markdown",
   "id": "fda82bc7-0a94-4802-97ec-f52d8001f713",
   "metadata": {},
   "source": [
    "### Step 3: Таски"
   ]
  },
  {
   "cell_type": "code",
   "execution_count": null,
   "id": "ad1af25a-5916-428a-8ae4-825c4fcacf6e",
   "metadata": {},
   "outputs": [],
   "source": [
    "def get_data():\n",
    "    top_doms = requests.get(TOP_1M_DOMAINS, stream=True)\n",
    "    zipfile = ZipFile(BytesIO(top_doms.content))\n",
    "    top_data = zipfile.read(TOP_1M_DOMAINS_FILE).decode('utf-8')\n",
    "\n",
    "    with open(TOP_1M_DOMAINS_FILE, 'w') as f:\n",
    "        f.write(top_data)\n",
    "\n",
    "\n",
    "def get_stat():\n",
    "    top_data_df = pd.read_csv(TOP_1M_DOMAINS_FILE, names=['rank', 'domain'])\n",
    "    top_data_top_10 = top_data_df[top_data_df['domain'].str.endswith('.ru')]\n",
    "    top_data_top_10 = top_data_top_10.head(10)\n",
    "    with open('top_data_top_10.csv', 'w') as f:\n",
    "        f.write(top_data_top_10.to_csv(index=False, header=False))\n",
    "\n",
    "\n",
    "def get_stat_com():\n",
    "    top_data_df = pd.read_csv(TOP_1M_DOMAINS_FILE, names=['rank', 'domain'])\n",
    "    top_data_top_10 = top_data_df[top_data_df['domain'].str.endswith('.com')]\n",
    "    top_data_top_10 = top_data_top_10.head(10)\n",
    "    with open('top_data_top_10_com.csv', 'w') as f:\n",
    "        f.write(top_data_top_10.to_csv(index=False, header=False))\n",
    "\n",
    "\n",
    "def print_data(ds): # передаем глобальную переменную airflow\n",
    "    with open('top_data_top_10.csv', 'r') as f:\n",
    "        all_data = f.read()\n",
    "    with open('top_data_top_10_com.csv', 'r') as f:\n",
    "        all_data_com = f.read()\n",
    "    date = ds\n",
    "\n",
    "    print(f'Top domains in .RU for date {date}')\n",
    "    print(all_data)\n",
    "\n",
    "    print(f'Top domains in .COM for date {date}')\n",
    "    print(all_data_com)"
   ]
  },
  {
   "cell_type": "markdown",
   "id": "703a8b27-7e5c-47fe-9944-04d454502632",
   "metadata": {},
   "source": [
    "### Step 4: Инициализируем DAG"
   ]
  },
  {
   "cell_type": "code",
   "execution_count": null,
   "id": "a12aeca8-6e60-4c54-ad64-391457a8b970",
   "metadata": {},
   "outputs": [],
   "source": [
    "default_args = {\n",
    "    'owner'            : 'a.batalov',\n",
    "    'depends_on_past'  : False,\n",
    "    'retries'          : 2,\n",
    "    'retry_delay'      : timedelta(minutes=5),\n",
    "    'start_date'       : datetime(2021, 10, 7),\n",
    "    'schedule_interval': '0 12 * * *'\n",
    "}\n",
    "dag = DAG('top_10_ru_new', default_args = default_args)\n",
    "\n"
   ]
  },
  {
   "cell_type": "markdown",
   "id": "880de94d-a3b6-494f-b81c-73fbe076ba12",
   "metadata": {},
   "source": [
    "### Step 5: Инициализируем таски"
   ]
  },
  {
   "cell_type": "code",
   "execution_count": null,
   "id": "50dd95a4-4c64-44ad-953e-3b7072d1b7d4",
   "metadata": {},
   "outputs": [],
   "source": [
    "t1 = PythonOperator(task_id='get_data',\n",
    "                    python_callable=get_data,\n",
    "                    dag=dag)\n",
    "\n",
    "t2 = PythonOperator(task_id='get_stat',\n",
    "                    python_callable=get_stat,\n",
    "                    dag=dag)\n",
    "\n",
    "t2_com = PythonOperator(task_id='get_stat_com',\n",
    "                        python_callable=get_stat_com,\n",
    "                        dag=dag)\n",
    "\n",
    "t3 = PythonOperator(task_id='print_data',\n",
    "                    python_callable=print_data,\n",
    "                    dag=dag)"
   ]
  },
  {
   "cell_type": "markdown",
   "id": "9ff7d867-98b3-4652-9a28-659b7f7f6831",
   "metadata": {},
   "source": [
    "### Step 6: Задаем порядок выполнения"
   ]
  },
  {
   "cell_type": "code",
   "execution_count": null,
   "id": "a0dc2f4b-2894-43e0-aaec-9295da8e6b8e",
   "metadata": {},
   "outputs": [],
   "source": [
    "t1 >> [t2, t2_com] >> t3"
   ]
  }
 ],
 "metadata": {
  "kernelspec": {
   "display_name": "Python 3 (ipykernel)",
   "language": "python",
   "name": "python3"
  },
  "language_info": {
   "codemirror_mode": {
    "name": "ipython",
    "version": 3
   },
   "file_extension": ".py",
   "mimetype": "text/x-python",
   "name": "python",
   "nbconvert_exporter": "python",
   "pygments_lexer": "ipython3",
   "version": "3.12.4"
  }
 },
 "nbformat": 4,
 "nbformat_minor": 5
}
