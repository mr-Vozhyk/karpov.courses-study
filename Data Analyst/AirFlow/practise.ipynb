{
 "cells": [
  {
   "cell_type": "markdown",
   "id": "45071ddf-95e1-44c9-a3ed-0b6513aaf1e4",
   "metadata": {},
   "source": [
    "# AirFlow. DAG's"
   ]
  },
  {
   "cell_type": "markdown",
   "id": "467c6274-3add-4bb0-a77a-a449448896fe",
   "metadata": {},
   "source": [
    "### Task_1: Есть таски t1, t2, t3, t4. Какой способ задания связи между тасками будет корректным?\n",
    "\n",
    "* t2.set_downstream(t1) t2.set_downstream(t3) t2.set_downstream(t4) t4.set_downstream(t2)\n",
    "* **t1>>t2>>t4>>t3**\n",
    "* **t2.set_downstream(t1) t2.set_downstream(t3) t3.set_downstream(t4) t1.set_downstream(t4)**\n",
    "* t2>t1>t3>t4"
   ]
  },
  {
   "cell_type": "markdown",
   "id": "7d8e05d7-93e0-4b65-9ef0-5c4c0c769ec0",
   "metadata": {},
   "source": [
    "### Task_2: Соотнесите переменные из контекста и что они означают.\n",
    "\n",
    "`ds` - **Дата, с которой запустился DAG**\n",
    "\n",
    "`ti` - **Объект с текущим таском**\n",
    "\n",
    "`dag` - **Объект с текущим DAG**\n",
    "\n",
    "`ts` - **Дата и время, с которыми запустился DAG**"
   ]
  },
  {
   "cell_type": "markdown",
   "id": "0fd4cfd6-0990-41ff-85d8-a5b370a2f8d2",
   "metadata": {},
   "source": [
    "### Task_3: Какие из вариантов задания DAG верные.\n",
    "\n",
    "* **dag1 = DAG(\"my_dag_name\") dag2 = DAG(\"my_other_dag_name\") t1 = DummyOperator(task_id=\"task1\", dag=dag1) t2 = DummyOperator(task_id=\"task2\", dag=dag2)**\n",
    "* dag1 = DAG(\"my_dag_name\") dag2 = DAG(\"my_dag_name\") t1 = DummyOperator(task_id=\"task1\", dag=dag1) t2 = DummyOperator(task_id=\"task2\", dag=dag2)\n",
    "* dag = DAG(\"my_dag_name\") t1 = DummyOperator(task_id=\"task\", dag=dag) t2 = DummyOperator(task_id=\"task\", dag=dag)\n",
    "* dag = DAG(\"my_dag_name\") t1 = DummyOperator(task_id=\"task\", dag=my_dag)"
   ]
  },
  {
   "cell_type": "markdown",
   "id": "e5d2f49d-ac1e-441d-b8d2-c516a33a4e59",
   "metadata": {},
   "source": [
    "### Task_4: Необходимо скопировать DAG из лекции - к себе\n",
    "```\n",
    "Необходимо выполнить:\n",
    "\n",
    "1) Поменять имена dag на уникальные (лучше всего как-то использовать свой логин).\n",
    "\n",
    "Поставить новую дату начала DAG и новый интервал (все еще должен быть ежедневным)\n",
    "\n",
    "2) Удалить таски get_stat и get_stat_com. Вместо них сделать свои собственные, которые\n",
    "\n",
    "считают следующие:\n",
    "\n",
    "Найти топ-10 доменных зон по численности доменов\n",
    "Найти домен с самым длинным именем (если их несколько, то взять только первый в алфавитном порядке)\n",
    "На каком месте находится домен airflow.com?\n",
    "3) Финальный таск должен писать в лог результат ответы на вопросы выше\n",
    "\n",
    "```"
   ]
  },
  {
   "cell_type": "code",
   "execution_count": null,
   "id": "6e5c0a04-d80a-4635-9df0-de74aae0b650",
   "metadata": {},
   "outputs": [],
   "source": []
  }
 ],
 "metadata": {
  "kernelspec": {
   "display_name": "Python 3 (ipykernel)",
   "language": "python",
   "name": "python3"
  },
  "language_info": {
   "codemirror_mode": {
    "name": "ipython",
    "version": 3
   },
   "file_extension": ".py",
   "mimetype": "text/x-python",
   "name": "python",
   "nbconvert_exporter": "python",
   "pygments_lexer": "ipython3",
   "version": "3.12.4"
  }
 },
 "nbformat": 4,
 "nbformat_minor": 5
}
