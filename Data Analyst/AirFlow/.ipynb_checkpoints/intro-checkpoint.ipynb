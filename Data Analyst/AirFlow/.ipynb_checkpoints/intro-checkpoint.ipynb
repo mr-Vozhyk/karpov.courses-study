{
 "cells": [
  {
   "cell_type": "markdown",
   "id": "bbd9992c-12a1-4e30-90b4-0e5c63e999b8",
   "metadata": {},
   "source": [
    "# AirFlow. \n",
    "## Crontab and DAG's"
   ]
  },
  {
   "cell_type": "markdown",
   "id": "b363993b-7a78-4521-8503-10affc2b8bd7",
   "metadata": {
    "jp-MarkdownHeadingCollapsed": true
   },
   "source": [
    "### Task_1: Как будет выглядеть крон, который выполняется каждый вторник в 13:22?\n",
    "\n",
    "* **22 13 * * 2**\n",
    "* 13 22 2 * *\n",
    "* 22 13 2 * *\n",
    "* 13 22 * * 2"
   ]
  },
  {
   "cell_type": "markdown",
   "id": "c7dd237e-4bbe-4026-a0b6-1db3f8c99f40",
   "metadata": {},
   "source": [
    "### Task_2: Как будет выглядеть крон, который выполняется каждое четное число месяца каждые 6 часов?\n",
    "\n",
    "* `* 6 */2 * *`\n",
    "\n",
    "* `* */6 2 * *`\n",
    "\n",
    "* **`* */6 */2 * *`**\n",
    "\n",
    "* `* 6 2 * *`"
   ]
  },
  {
   "cell_type": "markdown",
   "id": "58d0e32b-0840-45e1-b768-1e1da570d7aa",
   "metadata": {},
   "source": [
    "### Task_3: Какой из приведенных графов является DAG?\n",
    "\n",
    "<center>1.</center>\n",
    "\n",
    "![](https://storage.yandexcloud.net/klms-public/production/learning-content/11/76/3043/10315/40811/Untitled%20Diagram.drawio_k7idPWg.png)\n",
    "\n",
    "<center>2.</center>\n",
    "\n",
    "![](https://storage.yandexcloud.net/klms-public/production/learning-content/11/76/3043/10315/40811/2graph.drawio.png)\n",
    "\n",
    "<center>3.</center>\n",
    "\n",
    "![](https://storage.yandexcloud.net/klms-public/production/learning-content/11/76/3043/10315/40811/3graph.drawio.png)\n",
    "\n",
    "<center>4.</center>\n",
    "\n",
    "![](https://storage.yandexcloud.net/klms-public/production/learning-content/11/76/3043/10315/40811/4graph.drawio.png)\n",
    "\n",
    "* **1**\n",
    "* 2\n",
    "* **3**\n",
    "* 4"
   ]
  },
  {
   "cell_type": "markdown",
   "id": "8858f5e1-a1a0-4bba-8cca-e8d1783bc9b2",
   "metadata": {},
   "source": [
    "### Task_4: Напишите выражения для crontab которое будет выполняться каждое второе число месяца в 2:22.\n",
    "\n",
    "**`22 2 2 * *`**"
   ]
  },
  {
   "cell_type": "markdown",
   "id": "b912d8d3-835a-443f-b64e-1fbc1091fcc3",
   "metadata": {},
   "source": [
    "### Task_5: Есть 5 тасков для построения дашборда:\n",
    "\n",
    "`get_prepared_data` - запрашиваем уже обработанные данные\n",
    "\n",
    "`get_raw_data` – запрашиваем сырые данные\n",
    "\n",
    "`make_graph` – рисуем график\n",
    "\n",
    "`prepare_data` – обрабатываем сырые данные\n",
    "\n",
    "`upload_data` – загружаем обработанные данные в хранилище.\n",
    "\n",
    "Постройте последовательность для DAG, который позволит: сходить за сырыми данными,\n",
    "\n",
    "обработать их, сохранить и нарисовать по этим данным график?\n",
    "\n",
    "1. `get_raw_data`\n",
    "2. `prepare_data`\n",
    "3. `upload_data`\n",
    "4. `make_graph`"
   ]
  },
  {
   "cell_type": "markdown",
   "id": "4b8f73c6-fd42-4506-a68f-0333a28d73e2",
   "metadata": {},
   "source": [
    "### Task_6: Сопоставьте термины:\n",
    "\n",
    "1. `operator - способ исполнения задачи`\n",
    "2. `queue - очередь для задач`\n",
    "3. `DAG - ориентированный ацикличный граф`\n",
    "4. `metabase - база даных, где хранится информация о расписании, дате начала задачи и так далее`\n",
    "5. `task - задача для исполнения`"
   ]
  },
  {
   "cell_type": "markdown",
   "id": "b0193764-ef50-412a-bffa-c91ecc84c063",
   "metadata": {},
   "source": [
    "### Task_7: \n",
    "#### Допустим у нас есть 4 задачи: task1, task2, task3, task4. И мы задаем связи между ними таким образом: task2 -> task1. Это означает, что task1 выполнится после task2. Посмотрите на задание связей ниже, что из этого будет корректным DAG?\n",
    "\n",
    "* **task2->task1, task2->task3, task2->task4**\n",
    "* task1->task2, task2->task3, task3->task3\n",
    "* **task3->task2, task4->task3, task1->task3**\n",
    "* task1->task4, task4->task3, task3->task1\n"
   ]
  },
  {
   "cell_type": "markdown",
   "id": "d30a332a",
   "metadata": {},
   "source": [
    "### Task_8: Напишите крон, который будет выполняться каждую субботу в 6:06, каждый первый месяц квартала.\n",
    "\n",
    "**`06 6 * */3 6`**"
   ]
  },
  {
   "cell_type": "markdown",
   "id": "f3032ad3-f703-45e7-8fe4-d9bc202a1275",
   "metadata": {},
   "source": [
    "-------------\n",
    "-------------\n",
    "#### Ссылка с генератором и описанием Crontab:\n",
    "##### [Crontab guru](https://crontab.guru/)"
   ]
  }
 ],
 "metadata": {
  "kernelspec": {
   "display_name": "Python 3 (ipykernel)",
   "language": "python",
   "name": "python3"
  },
  "language_info": {
   "codemirror_mode": {
    "name": "ipython",
    "version": 3
   },
   "file_extension": ".py",
   "mimetype": "text/x-python",
   "name": "python",
   "nbconvert_exporter": "python",
   "pygments_lexer": "ipython3",
   "version": "3.12.4"
  }
 },
 "nbformat": 4,
 "nbformat_minor": 5
}
