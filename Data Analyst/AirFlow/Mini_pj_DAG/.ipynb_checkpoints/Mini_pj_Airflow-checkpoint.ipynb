{
 "cells": [
  {
   "cell_type": "markdown",
   "id": "a650d7bc-a64e-4c54-a447-c5fbd3c6d6a7",
   "metadata": {},
   "source": [
    "# Mini projects\n",
    "### DAG's + Airflow "
   ]
  },
  {
   "cell_type": "markdown",
   "id": "bdc4d05f-e2bd-42dc-9f8e-d47beb8cdb5e",
   "metadata": {},
   "source": [
    "#### Tasks:"
   ]
  },
  {
   "cell_type": "markdown",
   "id": "2dc4dd22-8579-4ad7-853e-026f8c363c48",
   "metadata": {},
   "source": [
    "##### 1. Прочитайте csv (ads_data_121288 - ads_data_121288.csv) файл, который находится в этой папке, при помощи библиотеки pandas"
   ]
  },
  {
   "cell_type": "markdown",
   "id": "20040d04-627e-46f0-91f3-5d6021f1cbe0",
   "metadata": {},
   "source": [
    "##### 2. В данных вы найдете информацию о событиях, которые произошли с объявлением 121288 за два дня. \n",
    "##### Рассчитайте следующие метрики в разрезе каждого дня: \n",
    "        количество показов,\n",
    "        количество кликов,\n",
    "        CTR,\n",
    "        сумма потраченных денег.\n",
    "То есть для каждой метрики у вас должно получиться две цифры, за 2019-04-01 и 2019-04-02.\n",
    "###### Рассчитать сумму потраченных денег можно по следующей формуле:\n",
    "###### Значение из колонки ad_cost разделить на 1000 и умножить на количество показов объявления."
   ]
  },
  {
   "cell_type": "markdown",
   "id": "f143bcf1-df68-4561-9b76-72b47829f3df",
   "metadata": {
    "jp-MarkdownHeadingCollapsed": true
   },
   "source": [
    "##### 3. Теперь найдите процентную разницу между этими метриками. То есть найдите, насколько процентов каждая метрика увеличилась/уменьшилась 2 апреля по сравнению с 1 апреля.\n",
    "\n"
   ]
  },
  {
   "cell_type": "markdown",
   "id": "887696d0-6bd5-46dc-b25d-c8c514efb0cd",
   "metadata": {},
   "source": [
    "##### 4. Создайте текстовый файл, в котором будет собрана информация о том, какие метрики наблюдаются 2 апреля (представьте, что 2 апреля это сегодня, условно, вы отправляете отчет за сегодня, сравнивая данные со вчера), а также, на сколько процентов они уменьшились по сравнению со вчера. То есть в текстовом файле должен быть список метрик, их значения 2 апреля и процентное отличие от 1 апреля. \n",
    "\n",
    "Вариант текстового отчета:\n",
    "    \n",
    "    Отчет по объявлению 121288 за 2 апреля\n",
    "    Траты: Х рублей (+Y%)\n",
    "    Показы: X (+Y%)\n",
    "    Клики: X (-Y%)\n",
    "    CTR: X (-Y%)\n"
   ]
  },
  {
   "cell_type": "markdown",
   "id": "f1548592-5b7e-4564-8455-e3a6ca65f270",
   "metadata": {},
   "source": [
    "##### 5. Отправьте получившийся текст к себе в личные сообщения во ВКонтакте в виде сообщения со сводкой метрик.\n"
   ]
  },
  {
   "cell_type": "markdown",
   "id": "5a1bd099-613b-46c8-947a-9ff27a2e20e1",
   "metadata": {},
   "source": [
    "##### 6. Все предыдущие шаги оформите в виде исполняемого скрипта (скриптов) и скрипта для DAG-а, в котором при помощи BashOperator-а (или других операторов на ваше усмотрение) будет вызываться исполняемый скрипт (скрипты).\r\n"
   ]
  },
  {
   "cell_type": "markdown",
   "id": "873ce614-22e4-4c0c-9127-f057e3a0288b",
   "metadata": {},
   "source": [
    "##### 7. В расписании для крона укажите каждый понедельник в 12 утра. Так, чтобы ваш скрипт с рассчетом дневных метрик отправлялся вам в личку каждый понедельник в 12 утра из Airflow"
   ]
  },
  {
   "cell_type": "code",
   "execution_count": 2,
   "id": "d8bebf5c-edbc-43cb-a9fd-3a975a3de51d",
   "metadata": {},
   "outputs": [],
   "source": [
    "import pandas as pd\n",
    "import numpy as np\n"
   ]
  },
  {
   "cell_type": "markdown",
   "id": "659547e7-c5d9-438a-ba14-cb8a77e5cd6a",
   "metadata": {},
   "source": [
    "##### 1. Прочитайте csv (ads_data_121288 - ads_data_121288.csv) файл, который находится в этой папке, при помощи библиотеки pandas"
   ]
  },
  {
   "cell_type": "code",
   "execution_count": 3,
   "id": "da90fe6a-50ec-46e4-ad3d-5f018708fa79",
   "metadata": {},
   "outputs": [],
   "source": [
    "path = 'C:/Users/user/Karpov_courses/Аналитик_данных/AirFlow/Mini_pj_DAG/ads_data_121288 - ads_data_121288.csv'\n",
    "ads  = pd.read_csv(path) "
   ]
  },
  {
   "cell_type": "code",
   "execution_count": 4,
   "id": "dff92387-cc98-4a9c-ac84-18376c94172c",
   "metadata": {},
   "outputs": [
    {
     "data": {
      "text/html": [
       "<div>\n",
       "<style scoped>\n",
       "    .dataframe tbody tr th:only-of-type {\n",
       "        vertical-align: middle;\n",
       "    }\n",
       "\n",
       "    .dataframe tbody tr th {\n",
       "        vertical-align: top;\n",
       "    }\n",
       "\n",
       "    .dataframe thead th {\n",
       "        text-align: right;\n",
       "    }\n",
       "</style>\n",
       "<table border=\"1\" class=\"dataframe\">\n",
       "  <thead>\n",
       "    <tr style=\"text-align: right;\">\n",
       "      <th></th>\n",
       "      <th>date</th>\n",
       "      <th>time</th>\n",
       "      <th>event</th>\n",
       "      <th>platform</th>\n",
       "      <th>ad_id</th>\n",
       "      <th>ad_cost_type</th>\n",
       "      <th>ad_cost</th>\n",
       "    </tr>\n",
       "  </thead>\n",
       "  <tbody>\n",
       "    <tr>\n",
       "      <th>0</th>\n",
       "      <td>2019-04-01</td>\n",
       "      <td>2019-04-01 0:00:48</td>\n",
       "      <td>view</td>\n",
       "      <td>web</td>\n",
       "      <td>121288</td>\n",
       "      <td>CPM</td>\n",
       "      <td>187.4</td>\n",
       "    </tr>\n",
       "    <tr>\n",
       "      <th>1</th>\n",
       "      <td>2019-04-01</td>\n",
       "      <td>2019-04-01 0:04:41</td>\n",
       "      <td>view</td>\n",
       "      <td>ios</td>\n",
       "      <td>121288</td>\n",
       "      <td>CPM</td>\n",
       "      <td>187.4</td>\n",
       "    </tr>\n",
       "    <tr>\n",
       "      <th>2</th>\n",
       "      <td>2019-04-01</td>\n",
       "      <td>2019-04-01 0:07:50</td>\n",
       "      <td>view</td>\n",
       "      <td>android</td>\n",
       "      <td>121288</td>\n",
       "      <td>CPM</td>\n",
       "      <td>187.4</td>\n",
       "    </tr>\n",
       "    <tr>\n",
       "      <th>3</th>\n",
       "      <td>2019-04-01</td>\n",
       "      <td>2019-04-01 0:07:50</td>\n",
       "      <td>view</td>\n",
       "      <td>android</td>\n",
       "      <td>121288</td>\n",
       "      <td>CPM</td>\n",
       "      <td>187.4</td>\n",
       "    </tr>\n",
       "    <tr>\n",
       "      <th>4</th>\n",
       "      <td>2019-04-01</td>\n",
       "      <td>2019-04-01 0:08:46</td>\n",
       "      <td>view</td>\n",
       "      <td>ios</td>\n",
       "      <td>121288</td>\n",
       "      <td>CPM</td>\n",
       "      <td>187.4</td>\n",
       "    </tr>\n",
       "  </tbody>\n",
       "</table>\n",
       "</div>"
      ],
      "text/plain": [
       "         date                time event platform   ad_id ad_cost_type  ad_cost\n",
       "0  2019-04-01  2019-04-01 0:00:48  view      web  121288          CPM    187.4\n",
       "1  2019-04-01  2019-04-01 0:04:41  view      ios  121288          CPM    187.4\n",
       "2  2019-04-01  2019-04-01 0:07:50  view  android  121288          CPM    187.4\n",
       "3  2019-04-01  2019-04-01 0:07:50  view  android  121288          CPM    187.4\n",
       "4  2019-04-01  2019-04-01 0:08:46  view      ios  121288          CPM    187.4"
      ]
     },
     "execution_count": 4,
     "metadata": {},
     "output_type": "execute_result"
    }
   ],
   "source": [
    "ads.head()"
   ]
  },
  {
   "cell_type": "code",
   "execution_count": 30,
   "id": "8dbf8bc0-f68b-4afe-bf65-83367413805a",
   "metadata": {},
   "outputs": [
    {
     "name": "stdout",
     "output_type": "stream",
     "text": [
      "\n",
      "Количество строк-дубликатов: \n",
      "12 строк (1.98%)\n"
     ]
    }
   ],
   "source": [
    "duplic_count    = ads.duplicated().sum()\n",
    "perscent_duplic = round(ads.duplicated().sum() * 100 / ads.shape[0],2)\n",
    "\n",
    "print(f'''\n",
    "Количество строк-дубликатов: \n",
    "{duplic_count} строк ({perscent_duplic}%)''')"
   ]
  },
  {
   "cell_type": "code",
   "execution_count": 31,
   "id": "cea6fd35-2112-49dd-97f7-a53c1ba53510",
   "metadata": {},
   "outputs": [],
   "source": [
    "ads.drop_duplicates(inplace = True)"
   ]
  },
  {
   "cell_type": "markdown",
   "id": "0cb8e729-b4ed-4fd8-b38a-c03a548dae2d",
   "metadata": {},
   "source": [
    "##### 2. В данных вы найдете информацию о событиях, которые произошли с объявлением 121288 за два дня. \n",
    "##### Рассчитайте следующие метрики в разрезе каждого дня: \n",
    "        количество показов,\n",
    "        количество кликов,\n",
    "        CTR,\n",
    "        сумма потраченных денег.\n",
    "То есть для каждой метрики у вас должно получиться две цифры, за 2019-04-01 и 2019-04-02.\n",
    "###### Рассчитать сумму потраченных денег можно по следующей формуле:\n",
    "###### Значение из колонки ad_cost разделить на 1000 и умножить на количество показов объявления."
   ]
  },
  {
   "cell_type": "code",
   "execution_count": 15,
   "id": "f1f38129-6bcf-45d4-8b63-842e024644b3",
   "metadata": {},
   "outputs": [
    {
     "data": {
      "text/html": [
       "<div>\n",
       "<style scoped>\n",
       "    .dataframe tbody tr th:only-of-type {\n",
       "        vertical-align: middle;\n",
       "    }\n",
       "\n",
       "    .dataframe tbody tr th {\n",
       "        vertical-align: top;\n",
       "    }\n",
       "\n",
       "    .dataframe thead th {\n",
       "        text-align: right;\n",
       "    }\n",
       "</style>\n",
       "<table border=\"1\" class=\"dataframe\">\n",
       "  <thead>\n",
       "    <tr style=\"text-align: right;\">\n",
       "      <th></th>\n",
       "      <th>date</th>\n",
       "      <th>time</th>\n",
       "      <th>event</th>\n",
       "      <th>platform</th>\n",
       "      <th>ad_id</th>\n",
       "      <th>ad_cost_type</th>\n",
       "      <th>ad_cost</th>\n",
       "    </tr>\n",
       "  </thead>\n",
       "  <tbody>\n",
       "    <tr>\n",
       "      <th>0</th>\n",
       "      <td>2019-04-01</td>\n",
       "      <td>2019-04-01 0:00:48</td>\n",
       "      <td>view</td>\n",
       "      <td>web</td>\n",
       "      <td>121288</td>\n",
       "      <td>CPM</td>\n",
       "      <td>187.4</td>\n",
       "    </tr>\n",
       "    <tr>\n",
       "      <th>1</th>\n",
       "      <td>2019-04-01</td>\n",
       "      <td>2019-04-01 0:04:41</td>\n",
       "      <td>view</td>\n",
       "      <td>ios</td>\n",
       "      <td>121288</td>\n",
       "      <td>CPM</td>\n",
       "      <td>187.4</td>\n",
       "    </tr>\n",
       "    <tr>\n",
       "      <th>2</th>\n",
       "      <td>2019-04-01</td>\n",
       "      <td>2019-04-01 0:07:50</td>\n",
       "      <td>view</td>\n",
       "      <td>android</td>\n",
       "      <td>121288</td>\n",
       "      <td>CPM</td>\n",
       "      <td>187.4</td>\n",
       "    </tr>\n",
       "    <tr>\n",
       "      <th>4</th>\n",
       "      <td>2019-04-01</td>\n",
       "      <td>2019-04-01 0:08:46</td>\n",
       "      <td>view</td>\n",
       "      <td>ios</td>\n",
       "      <td>121288</td>\n",
       "      <td>CPM</td>\n",
       "      <td>187.4</td>\n",
       "    </tr>\n",
       "    <tr>\n",
       "      <th>5</th>\n",
       "      <td>2019-04-01</td>\n",
       "      <td>2019-04-01 0:09:36</td>\n",
       "      <td>view</td>\n",
       "      <td>android</td>\n",
       "      <td>121288</td>\n",
       "      <td>CPM</td>\n",
       "      <td>187.4</td>\n",
       "    </tr>\n",
       "  </tbody>\n",
       "</table>\n",
       "</div>"
      ],
      "text/plain": [
       "         date                time event platform   ad_id ad_cost_type  ad_cost\n",
       "0  2019-04-01  2019-04-01 0:00:48  view      web  121288          CPM    187.4\n",
       "1  2019-04-01  2019-04-01 0:04:41  view      ios  121288          CPM    187.4\n",
       "2  2019-04-01  2019-04-01 0:07:50  view  android  121288          CPM    187.4\n",
       "4  2019-04-01  2019-04-01 0:08:46  view      ios  121288          CPM    187.4\n",
       "5  2019-04-01  2019-04-01 0:09:36  view  android  121288          CPM    187.4"
      ]
     },
     "execution_count": 15,
     "metadata": {},
     "output_type": "execute_result"
    }
   ],
   "source": [
    "ads.head()"
   ]
  },
  {
   "cell_type": "code",
   "execution_count": 81,
   "id": "d80a11d1-d1b1-46f4-978c-033e4eeecfc8",
   "metadata": {},
   "outputs": [
    {
     "data": {
      "text/html": [
       "<div>\n",
       "<style scoped>\n",
       "    .dataframe tbody tr th:only-of-type {\n",
       "        vertical-align: middle;\n",
       "    }\n",
       "\n",
       "    .dataframe tbody tr th {\n",
       "        vertical-align: top;\n",
       "    }\n",
       "\n",
       "    .dataframe thead th {\n",
       "        text-align: right;\n",
       "    }\n",
       "</style>\n",
       "<table border=\"1\" class=\"dataframe\">\n",
       "  <thead>\n",
       "    <tr style=\"text-align: right;\">\n",
       "      <th></th>\n",
       "      <th>date</th>\n",
       "      <th>ad_id</th>\n",
       "      <th>count_view</th>\n",
       "    </tr>\n",
       "  </thead>\n",
       "  <tbody>\n",
       "    <tr>\n",
       "      <th>0</th>\n",
       "      <td>2019-04-01</td>\n",
       "      <td>121288</td>\n",
       "      <td>480</td>\n",
       "    </tr>\n",
       "    <tr>\n",
       "      <th>1</th>\n",
       "      <td>2019-04-02</td>\n",
       "      <td>121288</td>\n",
       "      <td>92</td>\n",
       "    </tr>\n",
       "  </tbody>\n",
       "</table>\n",
       "</div>"
      ],
      "text/plain": [
       "         date   ad_id  count_view\n",
       "0  2019-04-01  121288         480\n",
       "1  2019-04-02  121288          92"
      ]
     },
     "execution_count": 81,
     "metadata": {},
     "output_type": "execute_result"
    }
   ],
   "source": [
    "# количество показов\n",
    "\n",
    "count_views = ads\\\n",
    "                [ads.event == 'view']\\\n",
    "                .groupby(['date','ad_id'], as_index= False)\\\n",
    "                .agg({'platform':'count'})\\\n",
    "                .rename(columns = {'platform':'count_view'})\n",
    "count_views"
   ]
  },
  {
   "cell_type": "code",
   "execution_count": 82,
   "id": "37261f6d-be01-46b7-8567-34c8fdd70810",
   "metadata": {},
   "outputs": [
    {
     "data": {
      "text/html": [
       "<div>\n",
       "<style scoped>\n",
       "    .dataframe tbody tr th:only-of-type {\n",
       "        vertical-align: middle;\n",
       "    }\n",
       "\n",
       "    .dataframe tbody tr th {\n",
       "        vertical-align: top;\n",
       "    }\n",
       "\n",
       "    .dataframe thead th {\n",
       "        text-align: right;\n",
       "    }\n",
       "</style>\n",
       "<table border=\"1\" class=\"dataframe\">\n",
       "  <thead>\n",
       "    <tr style=\"text-align: right;\">\n",
       "      <th></th>\n",
       "      <th>date</th>\n",
       "      <th>ad_id</th>\n",
       "      <th>count_click</th>\n",
       "    </tr>\n",
       "  </thead>\n",
       "  <tbody>\n",
       "    <tr>\n",
       "      <th>0</th>\n",
       "      <td>2019-04-01</td>\n",
       "      <td>121288</td>\n",
       "      <td>17</td>\n",
       "    </tr>\n",
       "    <tr>\n",
       "      <th>1</th>\n",
       "      <td>2019-04-02</td>\n",
       "      <td>121288</td>\n",
       "      <td>6</td>\n",
       "    </tr>\n",
       "  </tbody>\n",
       "</table>\n",
       "</div>"
      ],
      "text/plain": [
       "         date   ad_id  count_click\n",
       "0  2019-04-01  121288           17\n",
       "1  2019-04-02  121288            6"
      ]
     },
     "execution_count": 82,
     "metadata": {},
     "output_type": "execute_result"
    }
   ],
   "source": [
    "# количество кликов\n",
    "\n",
    "count_clicks = ads\\\n",
    "                [ads.event == 'click']\\\n",
    "                .groupby(['date','ad_id'], as_index= False)\\\n",
    "                .agg({'platform':'count'})\\\n",
    "                .rename(columns = {'platform':'count_click'})\n",
    "count_clicks"
   ]
  },
  {
   "cell_type": "code",
   "execution_count": 83,
   "id": "3e8e603f-3070-4666-bf40-fce082b14510",
   "metadata": {},
   "outputs": [
    {
     "data": {
      "text/html": [
       "<div>\n",
       "<style scoped>\n",
       "    .dataframe tbody tr th:only-of-type {\n",
       "        vertical-align: middle;\n",
       "    }\n",
       "\n",
       "    .dataframe tbody tr th {\n",
       "        vertical-align: top;\n",
       "    }\n",
       "\n",
       "    .dataframe thead th {\n",
       "        text-align: right;\n",
       "    }\n",
       "</style>\n",
       "<table border=\"1\" class=\"dataframe\">\n",
       "  <thead>\n",
       "    <tr style=\"text-align: right;\">\n",
       "      <th></th>\n",
       "      <th>date</th>\n",
       "      <th>ad_id</th>\n",
       "      <th>count_click</th>\n",
       "      <th>count_view</th>\n",
       "      <th>ctr</th>\n",
       "    </tr>\n",
       "  </thead>\n",
       "  <tbody>\n",
       "    <tr>\n",
       "      <th>0</th>\n",
       "      <td>2019-04-01</td>\n",
       "      <td>121288</td>\n",
       "      <td>17</td>\n",
       "      <td>480</td>\n",
       "      <td>3.54</td>\n",
       "    </tr>\n",
       "    <tr>\n",
       "      <th>1</th>\n",
       "      <td>2019-04-02</td>\n",
       "      <td>121288</td>\n",
       "      <td>6</td>\n",
       "      <td>92</td>\n",
       "      <td>6.52</td>\n",
       "    </tr>\n",
       "  </tbody>\n",
       "</table>\n",
       "</div>"
      ],
      "text/plain": [
       "         date   ad_id  count_click  count_view   ctr\n",
       "0  2019-04-01  121288           17         480  3.54\n",
       "1  2019-04-02  121288            6          92  6.52"
      ]
     },
     "execution_count": 83,
     "metadata": {},
     "output_type": "execute_result"
    }
   ],
   "source": [
    "# CTR (click-through rate - коэффициент кликабельности) - отношение числа кликов к числу показов, в процентах\n",
    "\n",
    "ads_df        = count_clicks.merge(count_views)\n",
    "ads_df['ctr'] = ads_df.count_click.div(ads_df.count_view).mul(100).round(2) \n",
    "ads_df"
   ]
  },
  {
   "cell_type": "code",
   "execution_count": 84,
   "id": "958a9bc8-994d-452b-8584-e0dbb8129d7f",
   "metadata": {},
   "outputs": [
    {
     "data": {
      "text/html": [
       "<div>\n",
       "<style scoped>\n",
       "    .dataframe tbody tr th:only-of-type {\n",
       "        vertical-align: middle;\n",
       "    }\n",
       "\n",
       "    .dataframe tbody tr th {\n",
       "        vertical-align: top;\n",
       "    }\n",
       "\n",
       "    .dataframe thead th {\n",
       "        text-align: right;\n",
       "    }\n",
       "</style>\n",
       "<table border=\"1\" class=\"dataframe\">\n",
       "  <thead>\n",
       "    <tr style=\"text-align: right;\">\n",
       "      <th></th>\n",
       "      <th>date</th>\n",
       "      <th>ad_id</th>\n",
       "      <th>count_click</th>\n",
       "      <th>count_view</th>\n",
       "      <th>ctr</th>\n",
       "      <th>ad_cost</th>\n",
       "      <th>value_crm</th>\n",
       "    </tr>\n",
       "  </thead>\n",
       "  <tbody>\n",
       "    <tr>\n",
       "      <th>0</th>\n",
       "      <td>2019-04-01</td>\n",
       "      <td>121288</td>\n",
       "      <td>17</td>\n",
       "      <td>480</td>\n",
       "      <td>3.54</td>\n",
       "      <td>187.4</td>\n",
       "      <td>89.95</td>\n",
       "    </tr>\n",
       "    <tr>\n",
       "      <th>1</th>\n",
       "      <td>2019-04-02</td>\n",
       "      <td>121288</td>\n",
       "      <td>6</td>\n",
       "      <td>92</td>\n",
       "      <td>6.52</td>\n",
       "      <td>187.4</td>\n",
       "      <td>17.24</td>\n",
       "    </tr>\n",
       "  </tbody>\n",
       "</table>\n",
       "</div>"
      ],
      "text/plain": [
       "         date   ad_id  count_click  count_view   ctr  ad_cost  value_crm\n",
       "0  2019-04-01  121288           17         480  3.54    187.4      89.95\n",
       "1  2019-04-02  121288            6          92  6.52    187.4      17.24"
      ]
     },
     "execution_count": 84,
     "metadata": {},
     "output_type": "execute_result"
    }
   ],
   "source": [
    "# Cумма потраченных денег\n",
    "# формула CRM: значение из колонки ad_cost разделить на 1000 и умножить на количество показов объявления.\n",
    "\n",
    "ads_df['ad_cost']   = ads.ad_cost.unique()[0]\n",
    "ads_df['value_crm'] = ads_df.ad_cost.div(1000).mul(ads_df.count_view).round(2)\n",
    "ads_df"
   ]
  },
  {
   "cell_type": "markdown",
   "id": "258b6b2f-ab51-4340-942e-e0e7e23fc58f",
   "metadata": {},
   "source": [
    "##### 3. Теперь найдите процентную разницу между этими метриками. То есть найдите, насколько процентов каждая метрика увеличилась/уменьшилась 2 апреля по сравнению с 1 апреля.\n",
    "\n"
   ]
  },
  {
   "cell_type": "code",
   "execution_count": 142,
   "id": "45e38e30-5626-4b2c-af01-3f649e79e0e5",
   "metadata": {
    "scrolled": true
   },
   "outputs": [
    {
     "name": "stderr",
     "output_type": "stream",
     "text": [
      "C:\\Users\\user\\AppData\\Local\\Temp\\ipykernel_19628\\1919045354.py:2: SettingWithCopyWarning: \n",
      "A value is trying to be set on a copy of a slice from a DataFrame.\n",
      "Try using .loc[row_indexer,col_indexer] = value instead\n",
      "\n",
      "See the caveats in the documentation: https://pandas.pydata.org/pandas-docs/stable/user_guide/indexing.html#returning-a-view-versus-a-copy\n",
      "  ads_monitoring['date'] = pd.to_datetime(ads_monitoring.date)\n"
     ]
    }
   ],
   "source": [
    "# Создание Df с динамикой - мониторинг\n",
    "\n",
    "ads_monitoring         = ads_df[['date', 'ad_id']]\n",
    "ads_monitoring['date'] = pd.to_datetime(ads_monitoring.date)"
   ]
  },
  {
   "cell_type": "code",
   "execution_count": 168,
   "id": "9c25b7fe-de21-4552-8ec4-1078a8bc7047",
   "metadata": {
    "scrolled": true
   },
   "outputs": [
    {
     "name": "stderr",
     "output_type": "stream",
     "text": [
      "C:\\Users\\user\\AppData\\Local\\Temp\\ipykernel_19628\\3004964649.py:2: FutureWarning: Calling float on a single element Series is deprecated and will raise a TypeError in the future. Use float(ser.iloc[0]) instead\n",
      "  value_crm_0204 = float(ads_df[ads_df.date == today].value_crm)\n",
      "C:\\Users\\user\\AppData\\Local\\Temp\\ipykernel_19628\\3004964649.py:3: FutureWarning: Calling int on a single element Series is deprecated and will raise a TypeError in the future. Use int(ser.iloc[0]) instead\n",
      "  views_0204     = int(ads_df[ads_df.date == today].count_view)\n",
      "C:\\Users\\user\\AppData\\Local\\Temp\\ipykernel_19628\\3004964649.py:4: FutureWarning: Calling int on a single element Series is deprecated and will raise a TypeError in the future. Use int(ser.iloc[0]) instead\n",
      "  clicks_0204    = int(ads_df[ads_df.date == today].count_click)\n",
      "C:\\Users\\user\\AppData\\Local\\Temp\\ipykernel_19628\\3004964649.py:5: FutureWarning: Calling float on a single element Series is deprecated and will raise a TypeError in the future. Use float(ser.iloc[0]) instead\n",
      "  ctr_0204       = float(ads_df[ads_df.date == today].ctr)\n"
     ]
    }
   ],
   "source": [
    " # Метрики за текущий интересующий день\n",
    "\n",
    "today = '2019-04-02'\n",
    "\n",
    "value_crm_0204 = float(ads_df[ads_df.date == today].value_crm)\n",
    "views_0204     = int(ads_df[ads_df.date == today].count_view)\n",
    "clicks_0204    = int(ads_df[ads_df.date == today].count_click)\n",
    "ctr_0204       = float(ads_df[ads_df.date == today].ctr)\n",
    "\n",
    "ads_monitoring = ads_monitoring[ads_monitoring.date == today]"
   ]
  },
  {
   "cell_type": "code",
   "execution_count": 181,
   "id": "19e2fb8c-aaae-4c66-9eb6-946cc13375ad",
   "metadata": {
    "scrolled": true
   },
   "outputs": [
    {
     "name": "stderr",
     "output_type": "stream",
     "text": [
      "C:\\Users\\user\\AppData\\Local\\Temp\\ipykernel_19628\\4066032684.py:1: FutureWarning: Calling int on a single element Series is deprecated and will raise a TypeError in the future. Use int(ser.iloc[0]) instead\n",
      "  click_yesterday     = int(ads_df[ads_df.date == ads_df.date.values[-2]].count_click)\n",
      "C:\\Users\\user\\AppData\\Local\\Temp\\ipykernel_19628\\4066032684.py:2: FutureWarning: Calling int on a single element Series is deprecated and will raise a TypeError in the future. Use int(ser.iloc[0]) instead\n",
      "  view_yesterday      = int(ads_df[ads_df.date == ads_df.date.values[-2]].count_view)\n",
      "C:\\Users\\user\\AppData\\Local\\Temp\\ipykernel_19628\\4066032684.py:3: FutureWarning: Calling float on a single element Series is deprecated and will raise a TypeError in the future. Use float(ser.iloc[0]) instead\n",
      "  ctr_yesterday       = float(ads_df[ads_df.date == ads_df.date.values[-2]].ctr)\n",
      "C:\\Users\\user\\AppData\\Local\\Temp\\ipykernel_19628\\4066032684.py:4: FutureWarning: Calling float on a single element Series is deprecated and will raise a TypeError in the future. Use float(ser.iloc[0]) instead\n",
      "  value_crm_yesterday = float(ads_df[ads_df.date == ads_df.date.values[-2]].value_crm)\n"
     ]
    }
   ],
   "source": [
    "# Метрики предыдущего дня\n",
    "\n",
    "click_yesterday     = int(ads_df[ads_df.date == ads_df.date.values[-2]].count_click)\n",
    "view_yesterday      = int(ads_df[ads_df.date == ads_df.date.values[-2]].count_view)\n",
    "ctr_yesterday       = float(ads_df[ads_df.date == ads_df.date.values[-2]].ctr)\n",
    "value_crm_yesterday = float(ads_df[ads_df.date == ads_df.date.values[-2]].value_crm)"
   ]
  },
  {
   "cell_type": "code",
   "execution_count": 183,
   "id": "2faead69-1649-4c7b-9afb-26d7d4452231",
   "metadata": {
    "scrolled": true
   },
   "outputs": [
    {
     "name": "stderr",
     "output_type": "stream",
     "text": [
      "C:\\Users\\user\\AppData\\Local\\Temp\\ipykernel_19628\\265970859.py:1: SettingWithCopyWarning: \n",
      "A value is trying to be set on a copy of a slice from a DataFrame.\n",
      "Try using .loc[row_indexer,col_indexer] = value instead\n",
      "\n",
      "See the caveats in the documentation: https://pandas.pydata.org/pandas-docs/stable/user_guide/indexing.html#returning-a-view-versus-a-copy\n",
      "  ads_monitoring['click_dynamic']     = clicks_0204 - click_yesterday\n",
      "C:\\Users\\user\\AppData\\Local\\Temp\\ipykernel_19628\\265970859.py:2: SettingWithCopyWarning: \n",
      "A value is trying to be set on a copy of a slice from a DataFrame.\n",
      "Try using .loc[row_indexer,col_indexer] = value instead\n",
      "\n",
      "See the caveats in the documentation: https://pandas.pydata.org/pandas-docs/stable/user_guide/indexing.html#returning-a-view-versus-a-copy\n",
      "  ads_monitoring['view_dynamic']      = views_0204 - view_yesterday\n",
      "C:\\Users\\user\\AppData\\Local\\Temp\\ipykernel_19628\\265970859.py:3: SettingWithCopyWarning: \n",
      "A value is trying to be set on a copy of a slice from a DataFrame.\n",
      "Try using .loc[row_indexer,col_indexer] = value instead\n",
      "\n",
      "See the caveats in the documentation: https://pandas.pydata.org/pandas-docs/stable/user_guide/indexing.html#returning-a-view-versus-a-copy\n",
      "  ads_monitoring['ctr_dynamic']       = ctr_0204 - ctr_yesterday\n",
      "C:\\Users\\user\\AppData\\Local\\Temp\\ipykernel_19628\\265970859.py:4: SettingWithCopyWarning: \n",
      "A value is trying to be set on a copy of a slice from a DataFrame.\n",
      "Try using .loc[row_indexer,col_indexer] = value instead\n",
      "\n",
      "See the caveats in the documentation: https://pandas.pydata.org/pandas-docs/stable/user_guide/indexing.html#returning-a-view-versus-a-copy\n",
      "  ads_monitoring['value_crm_dynamic'] = value_crm_0204 - value_crm_yesterday\n"
     ]
    }
   ],
   "source": [
    "# Добавление в Df-мониторинг данных о динамике текущего дня с предыдущим\n",
    "\n",
    "ads_monitoring['click_dynamic']     = clicks_0204 - click_yesterday\n",
    "ads_monitoring['view_dynamic']      = views_0204 - view_yesterday\n",
    "ads_monitoring['ctr_dynamic']       = ctr_0204 - ctr_yesterday\n",
    "ads_monitoring['value_crm_dynamic'] = value_crm_0204 - value_crm_yesterday"
   ]
  },
  {
   "cell_type": "code",
   "execution_count": 226,
   "id": "f31125fd-1b6e-41df-8703-c88b75031ea2",
   "metadata": {},
   "outputs": [],
   "source": [
    "# Пересчет метрик в проценты \n",
    "\n",
    "value_crm_dyn_perscent = round((ads_monitoring.value_crm_dynamic.values[0].round(2)/ value_crm_yesterday)*100,2)\n",
    "views_dyn_perscent     = round((ads_monitoring.view_dynamic.values[0].round(2)/ view_yesterday)*100,2)\n",
    "clicks_dyn_perscent    = round((ads_monitoring.click_dynamic.values[0].round(2)/ click_yesterday)*100,2)\n",
    "ctr_dyn_perscent       = round((ads_monitoring.ctr_dynamic.values[0].round(2)/ ctr_yesterday)*100,2)"
   ]
  },
  {
   "cell_type": "markdown",
   "id": "8977d11c-b198-47eb-94bc-e15bff05cc72",
   "metadata": {},
   "source": [
    "##### 4. Создайте текстовый файл, в котором будет собрана информация о том, какие метрики наблюдаются 2 апреля (представьте, что 2 апреля это сегодня, условно, вы отправляете отчет за сегодня, сравнивая данные со вчера), а также, на сколько процентов они уменьшились по сравнению со вчера. То есть в текстовом файле должен быть список метрик, их значения 2 апреля и процентное отличие от 1 апреля. \n",
    "\n",
    "Вариант текстового отчета:\n",
    "    \n",
    "    Отчет по объявлению 121288 за 2 апреля\n",
    "    Траты: Х рублей (+Y%)\n",
    "    Показы: X (+Y%)\n",
    "    Клики: X (-Y%)\n",
    "    CTR: X (-Y%)"
   ]
  },
  {
   "cell_type": "code",
   "execution_count": 213,
   "id": "da803346-44ac-40d4-b708-a5c1e6ced34b",
   "metadata": {},
   "outputs": [
    {
     "data": {
      "text/html": [
       "<div>\n",
       "<style scoped>\n",
       "    .dataframe tbody tr th:only-of-type {\n",
       "        vertical-align: middle;\n",
       "    }\n",
       "\n",
       "    .dataframe tbody tr th {\n",
       "        vertical-align: top;\n",
       "    }\n",
       "\n",
       "    .dataframe thead th {\n",
       "        text-align: right;\n",
       "    }\n",
       "</style>\n",
       "<table border=\"1\" class=\"dataframe\">\n",
       "  <thead>\n",
       "    <tr style=\"text-align: right;\">\n",
       "      <th></th>\n",
       "      <th>date</th>\n",
       "      <th>ad_id</th>\n",
       "      <th>click_dynamic</th>\n",
       "      <th>view_dynamic</th>\n",
       "      <th>ctr_dynamic</th>\n",
       "      <th>value_crm_dynamic</th>\n",
       "    </tr>\n",
       "  </thead>\n",
       "  <tbody>\n",
       "    <tr>\n",
       "      <th>1</th>\n",
       "      <td>2019-04-02</td>\n",
       "      <td>121288</td>\n",
       "      <td>-11</td>\n",
       "      <td>-388</td>\n",
       "      <td>2.98</td>\n",
       "      <td>-72.71</td>\n",
       "    </tr>\n",
       "  </tbody>\n",
       "</table>\n",
       "</div>"
      ],
      "text/plain": [
       "        date   ad_id  click_dynamic  view_dynamic  ctr_dynamic  \\\n",
       "1 2019-04-02  121288            -11          -388         2.98   \n",
       "\n",
       "   value_crm_dynamic  \n",
       "1             -72.71  "
      ]
     },
     "execution_count": 213,
     "metadata": {},
     "output_type": "execute_result"
    }
   ],
   "source": [
    "ads_monitoring"
   ]
  },
  {
   "cell_type": "code",
   "execution_count": 254,
   "id": "24433b04-51ea-416f-a954-373abd80f7e6",
   "metadata": {},
   "outputs": [
    {
     "name": "stdout",
     "output_type": "stream",
     "text": [
      "\n",
      "Отчет по объявлению 121288 за 2 April\n",
      "Траты:  17.24 рублей (-80.83 %)\n",
      "Показы: 92 (-80.83 %)\n",
      "Клики:  6 (-64.71 %)\n",
      "CTR:    6.52 (+84.18 %)\n"
     ]
    }
   ],
   "source": [
    "# Формирование итогового человекочитаемого-отчета\n",
    "\n",
    "message = (f'''\n",
    "Отчет по объявлению {ads_monitoring.ad_id.values[0]} за { str(ads_monitoring.date.dt.day[1]) + ' ' + ads_monitoring.date.dt.month_name().values[0]}\n",
    "Траты:  {value_crm_0204} рублей ({ '+' if value_crm_dyn_perscent > 0 else ''}{value_crm_dyn_perscent} %)\n",
    "Показы: {views_0204} ({ '+' if views_dyn_perscent > 0 else ''}{views_dyn_perscent} %)\n",
    "Клики:  {clicks_0204} ({ '+' if clicks_dyn_perscent > 0 else ''}{clicks_dyn_perscent} %)\n",
    "CTR:    {ctr_0204} ({ '+' if ctr_dyn_perscent > 0 else ''}{ctr_dyn_perscent} %)'''\n",
    ")\n",
    "\n",
    "print(message)"
   ]
  },
  {
   "cell_type": "markdown",
   "id": "464ba635-cd0a-44f1-85bb-676391a7d0e6",
   "metadata": {},
   "source": [
    "##### 5. Отправьте получившийся текст к себе в личные сообщения во ВКонтакте в виде сообщения со сводкой метрик.\n"
   ]
  },
  {
   "cell_type": "code",
   "execution_count": 255,
   "id": "2630776d-869a-4819-99b2-961107409b3f",
   "metadata": {},
   "outputs": [],
   "source": [
    "# Создание файла report_2019-04-02.txt в директории где найходится текущий файл.ipynb и запись в него сообщения\n",
    "\n",
    "with open(f'report_{today}.txt', 'w') as file:\n",
    "    file.write(message)"
   ]
  },
  {
   "cell_type": "code",
   "execution_count": null,
   "id": "da20d3a6-4053-4127-a531-27a332972d5c",
   "metadata": {},
   "outputs": [],
   "source": [
    "# Отправка отчета в ВК\n",
    "\n",
    "app_token  = '...'\n",
    "chat_id    = 1\n",
    "my_id      = 123456789\n",
    "vk_session = vk_api.VkApi(token = app_token)\n",
    "vk         = vk_session.get_api()\n",
    "\n",
    "vk.messagessend(\n",
    "    chat_id = chat_id,\n",
    "    random_id = random.randint(1,2,**31),\n",
    "    message = message\n",
    ")"
   ]
  },
  {
   "cell_type": "markdown",
   "id": "2e2fca1b-d1b5-4305-bd2a-b90653500295",
   "metadata": {},
   "source": [
    "##### 6. Все предыдущие шаги оформите в виде исполняемого скрипта (скриптов) и скрипта для DAG-а, в котором при помощи BashOperator-а (или других операторов на ваше усмотрение) будет вызываться исполняемый скрипт (скрипты).\r\n"
   ]
  },
  {
   "cell_type": "code",
   "execution_count": null,
   "id": "249c065c-3fa7-4d10-9feb-dd94fb13914e",
   "metadata": {},
   "outputs": [],
   "source": [
    "from datetime import datetime\n",
    "from airflow import DAG\n",
    "from airflow.operators.python import PythonOperator\n",
    "\n",
    "default_args = {\n",
    "    'owner'            : 'mr_vozhyk',\n",
    "    'retries'          : 0,\n",
    "    'start_date'       : datetime(2024, 9, 1),\n",
    "    'schedule_interval': '00 12 * * 1'\n",
    "}\n",
    "\n",
    "dag = DAG('dag_mr_vozhyk_mini_pj',\n",
    "          default_args = default_args,\n",
    "          catchup = False)\n",
    "\n",
    "def send_report_to_vk():\n",
    "    import pandas as pd\n",
    "    import numpy as np\n",
    "    import vk_api\n",
    "    import random\n",
    "\n",
    "    today = '2019-04-02'\n",
    "    \n",
    "    path  = 'C:/Users/user/Karpov_courses/Аналитик_данных/AirFlow/ads_data_121288 - ads_data_121288.csv'\n",
    "    ads   = pd.read_csv(path, parse_dates = [0])\n",
    "    ads.drop_duplicates(inplace = True)\n",
    "    print('Данные для отчета подгружены')\n",
    "    \n",
    "    # количество показов\n",
    "    count_views = ads\\\n",
    "                    [ads.event == 'view']\\\n",
    "                    .groupby(['date','ad_id'], as_index= False)\\\n",
    "                    .agg({'platform':'count'})\\\n",
    "                    .rename(columns = {'platform':'count_view'})\n",
    "    # количество кликов\n",
    "    count_clicks = ads\\\n",
    "                    [ads.event == 'click']\\\n",
    "                    .groupby(['date','ad_id'], as_index= False)\\\n",
    "                    .agg({'platform':'count'})\\\n",
    "                    .rename(columns = {'platform':'count_click'})\n",
    "    # CTR (click-through rate - коэффициент кликабельности) - отношение числа кликов к числу показов, в процентах\n",
    "    ads_df        = count_clicks.merge(count_views)\n",
    "    ads_df['ctr'] = ads_df.count_click.div(ads_df.count_view).mul(100).round(2) \n",
    "\n",
    "    # Cумма потраченных денег\n",
    "    # формула CRM: значение из колонки ad_cost разделить на 1000 и умножить на количество показов объявления.\n",
    "    ads_df['ad_cost']   = ads.ad_cost.unique()[0]\n",
    "    ads_df['value_crm'] = ads_df.ad_cost.div(1000).mul(ads_df.count_view).round(2)\n",
    "\n",
    "    print('Метрики по дням подсчитаны')\n",
    "    \n",
    "    # Создание Df с динамикой - мониторинг\n",
    "    ads_monitoring         = ads_df[['date', 'ad_id']]\n",
    "    ads_monitoring['date'] = pd.to_datetime(ads_monitoring.date)\n",
    "    \n",
    "    # Метрики за текущий интересующий день\n",
    "    value_crm_0204 = float(ads_df[ads_df.date == today].value_crm)\n",
    "    views_0204     = int(ads_df[ads_df.date == today].count_view)\n",
    "    clicks_0204    = int(ads_df[ads_df.date == today].count_click)\n",
    "    ctr_0204       = float(ads_df[ads_df.date == today].ctr)\n",
    "    \n",
    "    # Оставление в Df-мониторинге только текущего дня\n",
    "    ads_monitoring = ads_monitoring[ads_monitoring.date == today]\n",
    "    \n",
    "    # Метрики предыдущего дня\n",
    "    click_yesterday     = int(ads_df[ads_df.date == ads_df.date.values[-2]].count_click)\n",
    "    view_yesterday      = int(ads_df[ads_df.date == ads_df.date.values[-2]].count_view)\n",
    "    ctr_yesterday       = float(ads_df[ads_df.date == ads_df.date.values[-2]].ctr)\n",
    "    value_crm_yesterday = float(ads_df[ads_df.date == ads_df.date.values[-2]].value_crm)\n",
    "    \n",
    "    # Добавление в Df-мониторинг данных о динамике текущего дня с предыдущим\n",
    "    ads_monitoring['click_dynamic']     = clicks_0204 - click_yesterday\n",
    "    ads_monitoring['view_dynamic']      = views_0204 - view_yesterday\n",
    "    ads_monitoring['ctr_dynamic']       = ctr_0204 - ctr_yesterday\n",
    "    ads_monitoring['value_crm_dynamic'] = value_crm_0204 - value_crm_yesterday\n",
    "\n",
    "    # Пересчет метрик в проценты \n",
    "    value_crm_dyn_perscent = round((ads_monitoring.value_crm_dynamic.values[0].round(2)/ value_crm_yesterday)*100,2)\n",
    "    views_dyn_perscent     = round((ads_monitoring.view_dynamic.values[0].round(2)/ view_yesterday)*100,2)\n",
    "    clicks_dyn_perscent    = round((ads_monitoring.click_dynamic.values[0].round(2)/ click_yesterday)*100,2)\n",
    "    ctr_dyn_perscent       = round((ads_monitoring.ctr_dynamic.values[0].round(2)/ ctr_yesterday)*100,2)\n",
    "\n",
    "    # Формирование итогового человекочитаемого-отчета\n",
    "    message = (f'''\n",
    "        Отчет по объявлению {ads_monitoring.ad_id.values[0]} за { str(ads_monitoring.date.dt.day[1]) + ' ' + ads_monitoring.date.dt.month_name().values[0]}\n",
    "        Траты:  {value_crm_0204} рублей ({ '+' if value_crm_dyn_perscent > 0 else ''}{value_crm_dyn_perscent} %)\n",
    "        Показы: {views_0204} ({ '+' if views_dyn_perscent > 0 else ''}{views_dyn_perscent} %)\n",
    "        Клики:  {clicks_0204} ({ '+' if clicks_dyn_perscent > 0 else ''}{clicks_dyn_perscent} %)\n",
    "        CTR:    {ctr_0204} ({ '+' if ctr_dyn_perscent > 0 else ''}{ctr_dyn_perscent} %)'''\n",
    "        )\n",
    "    print('Отчет сформирован')\n",
    "    \n",
    "    # Создание файла report_{today}.txt и запись в него сообщения\n",
    "    with open(f'report_{today}.txt', 'w') as file:\n",
    "        file.write(message)\n",
    "    print(f'Отчет сохранен под именем report_{today}.txt')\n",
    "\n",
    "    # Отправка отчета в ВК\n",
    "    app_token  = '...'\n",
    "    chat_id    = 1\n",
    "    my_id      = 123456789\n",
    "    vk_session = vk_api.VkApi(token = app_token)\n",
    "    vk         = vk_session.get_api()\n",
    "    \n",
    "    vk.messagessend(\n",
    "        chat_id   = chat_id,\n",
    "        random_id = random.randint(1,2,**31),\n",
    "        message   = message\n",
    "    )\n",
    "    print('Отчет отправлен')"
   ]
  },
  {
   "cell_type": "markdown",
   "id": "f0c5861c-0ad1-4b44-840f-07eab552645f",
   "metadata": {},
   "source": [
    "##### 7. В расписании для крона укажите каждый понедельник в 12 утра. Так, чтобы ваш скрипт с рассчетом дневных метрик отправлялся вам в личку каждый понедельник в 12 утра из Airflow"
   ]
  },
  {
   "cell_type": "code",
   "execution_count": null,
   "id": "352ee747-76b5-4a0f-bb73-01f0b0a1e391",
   "metadata": {},
   "outputs": [],
   "source": [
    "'schedule_interval': '00 12 * * 1'"
   ]
  }
 ],
 "metadata": {
  "kernelspec": {
   "display_name": "Python 3 (ipykernel)",
   "language": "python",
   "name": "python3"
  },
  "language_info": {
   "codemirror_mode": {
    "name": "ipython",
    "version": 3
   },
   "file_extension": ".py",
   "mimetype": "text/x-python",
   "name": "python",
   "nbconvert_exporter": "python",
   "pygments_lexer": "ipython3",
   "version": "3.12.4"
  }
 },
 "nbformat": 4,
 "nbformat_minor": 5
}
