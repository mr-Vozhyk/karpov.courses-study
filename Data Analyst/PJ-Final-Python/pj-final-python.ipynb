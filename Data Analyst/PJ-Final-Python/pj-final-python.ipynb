{
 "cells": [
  {
   "cell_type": "markdown",
   "id": "8690a9fc-443f-4e8f-9360-215bbd3a9ed9",
   "metadata": {
    "jp-MarkdownHeadingCollapsed": true
   },
   "source": [
    "# **Final project** \n",
    "### **Оценка успешности A/B теста приложения**"
   ]
  },
  {
   "cell_type": "markdown",
   "id": "d4fe3272-d3ed-4d41-8bf4-2490fc49659d",
   "metadata": {
    "jp-MarkdownHeadingCollapsed": true
   },
   "source": [
    "## **Описание и Задача**"
   ]
  },
  {
   "cell_type": "markdown",
   "id": "94685dfe-27f2-4782-bb0e-e323f2c5e747",
   "metadata": {},
   "source": [
    "Есть дейтинг-приложение. Помимо базовых функций, в приложении есть премиум-подписка, которая дает доступ к расширенным возможностям.\n",
    "\n",
    "**Был проведен A/B тест в нескольких странах по изменению двух платежных систем при покупке премиум-подписки.** \n",
    "\n",
    "**Условия A/B теста:**\n",
    "\n",
    "Для новых пользователей из нескольких стран изменена стоимость премиум-подписки* при покупке через две новые платежные системы. \n",
    "При этом стоимость пробного периода оставалась прежней.\n",
    "\n",
    "_*Деньги за подписку списываются ежемесячно до тех пор, пока пользователь её не отменит_\n",
    "\n",
    "**Задача:**\n",
    "\n",
    "**Оценить успешность эксперимента.**"
   ]
  },
  {
   "cell_type": "markdown",
   "id": "871c1d7b-c39b-4781-9bd4-6ef857a109e9",
   "metadata": {
    "jp-MarkdownHeadingCollapsed": true
   },
   "source": [
    "## **Meta Data**"
   ]
  },
  {
   "cell_type": "markdown",
   "id": "6daf559d-3c50-4f52-88b0-610ddf2deca5",
   "metadata": {},
   "source": [
    "**Выборка состоит из трех групп: тестовая (test), контрольная 1 (control_1) и контрольная 2 (control_2).**\n",
    "\n",
    "**Файлы с данными:**\n",
    "\n",
    "- users_test – информация о пользователях в тестовой группе\n",
    "- users_control_1 – информация о пользователях в первой контрольной группе\n",
    "- users_control_2 – информация о пользователях во второй контрольной группе \n",
    "- transactions_test – информация о платежах пользователей в тестовой группе \n",
    "- transactions_control_1 – информация о платежах пользователей в первой контрольной группе\n",
    "- transactions_control_2 – информация о платежах пользователей во второй контрольной группе \n",
    "\n",
    "**Для каждой из групп:**\n",
    "\n",
    "users_*.csv – информация о пользователях:\n",
    "\n",
    "- uid – идентификатор пользователя\n",
    "- age – возраст\n",
    "- attraction_coeff – коэффициент привлекательности (от 0 до 1000, лайки / просмотры * 1000)\n",
    "- coins – число монеток (внутренняя валюта)\n",
    "- country – страна  \n",
    "- visit_days – в какие дни после регистрации пользователь посещал приложение (напр. в 1, затем в 7)\n",
    "- gender – пол\n",
    "- age_filter_start  – фильтр поиска, мин. значение \n",
    "- age_filter_end  – фильтр поиска, макс. значение \n",
    "- views_count – число полученных оценок \n",
    "- was_premium – был ли когда-либо премиум (либо пробный период премиум-статуса, либо купленный за деньги)\n",
    "- is_premium –  является ли премиум\n",
    "- total_revenue – нормированная выручка\n",
    "\n",
    "transactions_*.csv – информация о платежах пользователей:\n",
    "\n",
    "- uid – идентификатор пользователя\n",
    "- country – страна\n",
    "- joined_at – дата и время регистрации\n",
    "- paid_at – дата и время покупки\n",
    "- revenue – нормированная выручка\n",
    "- payment_id – идентификатор платежа\n",
    "- from_page – откуда пользователь перешел на страницу оплаты\n",
    "- product_type – тип продукта (trial_premium – пробная премиум-подписка, premium_no_trial – премиум-подписка без пробной, coins – подписка за внутреннюю валюту, other_type – другое) "
   ]
  },
  {
   "cell_type": "markdown",
   "id": "98d0771f-6077-4379-a2eb-8785cff62a3d",
   "metadata": {
    "jp-MarkdownHeadingCollapsed": true
   },
   "source": [
    "## **Ход работы**"
   ]
  },
  {
   "cell_type": "markdown",
   "id": "d05f10c5-c6de-4479-a6e7-aec9c734e626",
   "metadata": {},
   "source": [
    "**1. Предварительный анализ данных:**\r\n",
    "\r\n",
    "- Предобработка данных - проверка их на корректность, внесение изменений (при необходимости)\r\n",
    "- Отбор целевых пользователей: новых, из определенных стран и с нужными платежными системами\r\n",
    "\r\n",
    "**2. Оценка репрезентативности выборки:**\r\n",
    "\r\n",
    "- Сравнение групп для оценки их сходства и достоверности ыборок.\r\n",
    "- Построение графиков для визуализации данных и выявления возможных номалий.\r\n",
    "\r\n",
    "**3. Проведение A/A/B тестов:**\r\n",
    "\r\n",
    "- Определение гипотез ля проверки.\r\n",
    "- Выбор подходящих статистических методо для анализа.\r\n",
    "- Осуществление тестирования и сбоа результатов.\r\n",
    "\r\n",
    "**4. Подведение итогов:**\r\n",
    "\r\n",
    "- Формулирование выводов\r\n",
    "- Ответ на заданный вопрос: был ли успешным эксперимент по изменению стоимости премиум-подписки в приложении?"
   ]
  },
  {
   "cell_type": "markdown",
   "id": "ab212e7e-78d2-48e2-8146-ae734ead7578",
   "metadata": {
    "jp-MarkdownHeadingCollapsed": true
   },
   "source": [
    "## **1. Предварительный анализ данных**"
   ]
  },
  {
   "cell_type": "markdown",
   "id": "8ffb882d-3c3c-401b-a03e-f86a73598e56",
   "metadata": {
    "jp-MarkdownHeadingCollapsed": true
   },
   "source": [
    "#### **Импорт библиотек**"
   ]
  },
  {
   "cell_type": "code",
   "execution_count": 34,
   "id": "0c6faa0c-2100-4e88-94e1-32dc06948191",
   "metadata": {},
   "outputs": [],
   "source": [
    "# Импорт основных библиотек\n",
    "import pandas as pd         \n",
    "import numpy  as np         \n",
    "import requests             # для отправки HTTP-запросов и работы с веб-ресурсами и API\n",
    "from io import BytesIO      # для работы с потоками байтов в памяти без необходимости сохранять их на диске\n",
    "import datetime             # для работы с датами и временем\n",
    "import gdown                # для скачивания данных с google диска\n",
    "\n",
    "# Импорт статистических функций\n",
    "import scipy.stats as ss\n",
    "from scipy.stats import chi2_contingency, f_oneway, kruskal, ttest_ind, mannwhitneyu\n",
    "import pingouin    as pg    # упрощает выполнение стат. тестов \n",
    "\n",
    "       # chi2_contingency: Хи-квадрат тест для проверки независимости категориальных переменных\n",
    "       # f_oneway:         Однофакторный дисперсионный анализ (ANOVA)\n",
    "       # kruskal:          Критерий Крускала — Уоллиса для проверки равенства медиан в независимых выборках\n",
    "       # ttest_ind:        Тест Стьюдента для проверки разницы средних в двух независимых выборках\n",
    "       # mannwhitneyu:     Тест Манна — Уитни для проверки разницы между двумя независимыми выборками (непараметрический аналог t-теста)\n",
    "\n",
    "# Импорт библиотек для визуализации\n",
    "import seaborn           as sns\n",
    "import matplotlib.pyplot as plt\n",
    "\n",
    "# для отображения графиков непосредственно в блокноте\n",
    "%matplotlib inline         \n",
    "sns.set_style(\"white\")     # белый фон графиков без сетки \n",
    "\n",
    "# для управления предупреждениями \n",
    "import warnings                   \n",
    "warnings.filterwarnings('ignore')"
   ]
  },
  {
   "cell_type": "markdown",
   "id": "9d37ac0c-34a1-4595-bc7e-949ddd37c36b",
   "metadata": {},
   "source": [
    "#### **Создание функций для последующей загрузки нужных csv-файлов с гугл-диска. Импорт данных.**"
   ]
  },
  {
   "cell_type": "markdown",
   "id": "b2c5f5f6-6a88-4bda-aa15-9b1abe0d8ac0",
   "metadata": {},
   "source": [
    "##### **1.1 Создание функций для загрузки данных**"
   ]
  },
  {
   "cell_type": "code",
   "execution_count": 13,
   "id": "0a817c91-35f4-4ff8-ae48-67474541fb8c",
   "metadata": {},
   "outputs": [],
   "source": [
    "# Извлечение ID-файла из ссылки на гугл-диске\n",
    "import re\n",
    "\n",
    "def extract_file_id(url):\n",
    "    file_id_pattern = r\"(?<=/d/)(.*?)(?=/|$)\"\n",
    "    match           = re.search(file_id_pattern, url)\n",
    "    if match:\n",
    "        return match.group(0)\n",
    "    else:\n",
    "        raise ValueError(\"Не удалось извлечь ID файла из URL\")"
   ]
  },
  {
   "cell_type": "code",
   "execution_count": 18,
   "id": "092fac98-af0a-44aa-8dd0-9c0dee780610",
   "metadata": {},
   "outputs": [],
   "source": [
    "# Скачивает файл с гугл-диска по URL и загружает его в датафрейм\n",
    "def get_data(url, output_path=None):\n",
    "    file_id = extract_file_id(url)                                   # Извлекаем ID файла из URL\n",
    "    download_url = f'https://drive.google.com/uc?id={file_id}'       # Создаем ссылку для скачивания\n",
    "    if output_path is None:                                          # Если не указан путь сохранения, временно укажем имя\n",
    "        output_path = 'downloaded_file.csv'\n",
    "\n",
    "    gdown.download(download_url, output_path, quiet=False)           # Скачиваем файл\n",
    "    df = pd.read_csv(output_path, sep=';')                           # Загружаем файл в датафрей (я заранее знаю что это CSV)\n",
    "    return df"
   ]
  },
  {
   "cell_type": "markdown",
   "id": "a87caefa-c716-44d3-882c-d22276afeb99",
   "metadata": {},
   "source": [
    "##### **1.2 Импорт данных**"
   ]
  },
  {
   "cell_type": "code",
   "execution_count": 19,
   "id": "1db2d61a-cc3c-4d89-81e1-146e053ea31e",
   "metadata": {},
   "outputs": [
    {
     "name": "stderr",
     "output_type": "stream",
     "text": [
      "Downloading...\n",
      "From: https://drive.google.com/uc?id=1W7Ibc1LZCDa2IhzrTWZaEu6yZmNPFZ6V\n",
      "To: C:\\Users\\user\\Desktop\\АНАЛИТИКА\\Портфолио\\PJ-Python\\pj-final\\downloaded_file.csv\n",
      "100%|████████████████████████████████████████████████████████████████████████████████| 252k/252k [00:00<00:00, 759kB/s]\n"
     ]
    }
   ],
   "source": [
    "url        = 'https://drive.google.com/file/d/1W7Ibc1LZCDa2IhzrTWZaEu6yZmNPFZ6V/view?usp=drive_link'\n",
    "users_test = get_data(url)"
   ]
  },
  {
   "cell_type": "code",
   "execution_count": 20,
   "id": "c3c389b7-1d72-4a20-8c07-2b0b3a85cecc",
   "metadata": {},
   "outputs": [
    {
     "name": "stderr",
     "output_type": "stream",
     "text": [
      "Downloading...\n",
      "From: https://drive.google.com/uc?id=1bmL7K044mcvI9L8A5kSaVpa19frbFYG_\n",
      "To: C:\\Users\\user\\Desktop\\АНАЛИТИКА\\Портфолио\\PJ-Python\\pj-final\\downloaded_file.csv\n",
      "100%|████████████████████████████████████████████████████████████████████████████████| 254k/254k [00:00<00:00, 293kB/s]\n"
     ]
    }
   ],
   "source": [
    "url             = 'https://drive.google.com/file/d/1bmL7K044mcvI9L8A5kSaVpa19frbFYG_/view?usp=drive_link'\n",
    "users_control_1 = get_data(url)"
   ]
  },
  {
   "cell_type": "code",
   "execution_count": 21,
   "id": "ab1afef0-95c2-4f83-b405-7a7833020258",
   "metadata": {},
   "outputs": [
    {
     "name": "stderr",
     "output_type": "stream",
     "text": [
      "Downloading...\n",
      "From: https://drive.google.com/uc?id=1V22djJ6Tc8ot0c2aWQ_hQaWifsgeBAab\n",
      "To: C:\\Users\\user\\Desktop\\АНАЛИТИКА\\Портфолио\\PJ-Python\\pj-final\\downloaded_file.csv\n",
      "100%|████████████████████████████████████████████████████████████████████████████████| 248k/248k [00:00<00:00, 766kB/s]\n"
     ]
    }
   ],
   "source": [
    "url             = 'https://drive.google.com/file/d/1V22djJ6Tc8ot0c2aWQ_hQaWifsgeBAab/view?usp=drive_link'\n",
    "users_control_2 = get_data(url)"
   ]
  },
  {
   "cell_type": "code",
   "execution_count": 22,
   "id": "a51aa637-ddf6-4e20-8da6-543d63deb1c6",
   "metadata": {},
   "outputs": [
    {
     "name": "stderr",
     "output_type": "stream",
     "text": [
      "Downloading...\n",
      "From: https://drive.google.com/uc?id=13BHE3sfhXk2ZW_iZHHc2uPByTFfb-4Yz\n",
      "To: C:\\Users\\user\\Desktop\\АНАЛИТИКА\\Портфолио\\PJ-Python\\pj-final\\downloaded_file.csv\n",
      "100%|██████████████████████████████████████████████████████████████████████████████| 26.5k/26.5k [00:00<00:00, 137kB/s]\n"
     ]
    }
   ],
   "source": [
    "url               = 'https://drive.google.com/file/d/13BHE3sfhXk2ZW_iZHHc2uPByTFfb-4Yz/view?usp=drive_link'\n",
    "transactions_test = get_data(url)"
   ]
  },
  {
   "cell_type": "code",
   "execution_count": 25,
   "id": "d5615bfb-3748-4b72-8462-a83c45ae7dcc",
   "metadata": {},
   "outputs": [
    {
     "name": "stderr",
     "output_type": "stream",
     "text": [
      "Downloading...\n",
      "From: https://drive.google.com/uc?id=1f5SApXOHD-fClL4-lI0EaHpriHfXPwZT\n",
      "To: C:\\Users\\user\\Desktop\\АНАЛИТИКА\\Портфолио\\PJ-Python\\pj-final\\downloaded_file.csv\n",
      "100%|█████████████████████████████████████████████████████████████████████████████| 47.4k/47.4k [00:00<00:00, 1.82MB/s]\n"
     ]
    }
   ],
   "source": [
    "url                    = 'https://drive.google.com/file/d/1f5SApXOHD-fClL4-lI0EaHpriHfXPwZT/view?usp=drive_link'\n",
    "transactions_control_1 = get_data(url)"
   ]
  },
  {
   "cell_type": "code",
   "execution_count": 24,
   "id": "8be29016-eb90-4046-bdf4-a53d4e40c8ba",
   "metadata": {},
   "outputs": [
    {
     "name": "stderr",
     "output_type": "stream",
     "text": [
      "Downloading...\n",
      "From: https://drive.google.com/uc?id=1NSMjTaww4LjoPIuid8Rnlr0kDJsCb8LT\n",
      "To: C:\\Users\\user\\Desktop\\АНАЛИТИКА\\Портфолио\\PJ-Python\\pj-final\\downloaded_file.csv\n",
      "100%|██████████████████████████████████████████████████████████████████████████████| 31.9k/31.9k [00:00<00:00, 650kB/s]\n"
     ]
    }
   ],
   "source": [
    "url                    = 'https://drive.google.com/file/d/1NSMjTaww4LjoPIuid8Rnlr0kDJsCb8LT/view?usp=drive_link'\n",
    "transactions_control_2 = get_data(url)"
   ]
  },
  {
   "cell_type": "markdown",
   "id": "02543d03-cb42-40e5-a082-22ec26e3129d",
   "metadata": {},
   "source": [
    "### **Изучение данных: проверка типов данных, наличие пропущенных значений.** \n",
    "**Внесение необходимых изменений для последующей работы**"
   ]
  },
  {
   "cell_type": "markdown",
   "id": "4ec4d15b-bc71-4c74-b3f4-5764c3df5846",
   "metadata": {},
   "source": [
    "#### I. Изучение датасетов **о пользователях**"
   ]
  },
  {
   "cell_type": "markdown",
   "id": "323c1302-ea69-4de9-abcc-cbfe439f4511",
   "metadata": {},
   "source": [
    "##### Информация о пользователях **в тестовой группе**"
   ]
  },
  {
   "cell_type": "code",
   "execution_count": 36,
   "id": "ea0cd047-dd0f-447d-a187-50e3f793d68e",
   "metadata": {},
   "outputs": [
    {
     "data": {
      "text/html": [
       "<div>\n",
       "<style scoped>\n",
       "    .dataframe tbody tr th:only-of-type {\n",
       "        vertical-align: middle;\n",
       "    }\n",
       "\n",
       "    .dataframe tbody tr th {\n",
       "        vertical-align: top;\n",
       "    }\n",
       "\n",
       "    .dataframe thead th {\n",
       "        text-align: right;\n",
       "    }\n",
       "</style>\n",
       "<table border=\"1\" class=\"dataframe\">\n",
       "  <thead>\n",
       "    <tr style=\"text-align: right;\">\n",
       "      <th></th>\n",
       "      <th>uid</th>\n",
       "      <th>age</th>\n",
       "      <th>attraction_coeff</th>\n",
       "      <th>coins</th>\n",
       "      <th>country</th>\n",
       "      <th>visit_days</th>\n",
       "      <th>gender</th>\n",
       "      <th>age_filter_start</th>\n",
       "      <th>age_filter_end</th>\n",
       "      <th>views_count</th>\n",
       "      <th>was_premium</th>\n",
       "      <th>is_premium</th>\n",
       "      <th>total_revenue</th>\n",
       "    </tr>\n",
       "  </thead>\n",
       "  <tbody>\n",
       "    <tr>\n",
       "      <th>0</th>\n",
       "      <td>892309896</td>\n",
       "      <td>27</td>\n",
       "      <td>685</td>\n",
       "      <td>NaN</td>\n",
       "      <td>United States of America</td>\n",
       "      <td>1,2,3,4,5,6,7,8,9,10,11,12,16,17</td>\n",
       "      <td>1</td>\n",
       "      <td>24</td>\n",
       "      <td>30</td>\n",
       "      <td>89</td>\n",
       "      <td>NaN</td>\n",
       "      <td>NaN</td>\n",
       "      <td>0</td>\n",
       "    </tr>\n",
       "    <tr>\n",
       "      <th>1</th>\n",
       "      <td>892044516</td>\n",
       "      <td>27</td>\n",
       "      <td>0</td>\n",
       "      <td>NaN</td>\n",
       "      <td>Germany</td>\n",
       "      <td>NaN</td>\n",
       "      <td>1</td>\n",
       "      <td>24</td>\n",
       "      <td>30</td>\n",
       "      <td>0</td>\n",
       "      <td>NaN</td>\n",
       "      <td>NaN</td>\n",
       "      <td>0</td>\n",
       "    </tr>\n",
       "    <tr>\n",
       "      <th>2</th>\n",
       "      <td>892185708</td>\n",
       "      <td>45</td>\n",
       "      <td>44</td>\n",
       "      <td>NaN</td>\n",
       "      <td>Israel</td>\n",
       "      <td>1,3,4,6,7,8,10,11,12,13,14,15,16,17,18,19,20,2...</td>\n",
       "      <td>1</td>\n",
       "      <td>42</td>\n",
       "      <td>48</td>\n",
       "      <td>68</td>\n",
       "      <td>NaN</td>\n",
       "      <td>NaN</td>\n",
       "      <td>0</td>\n",
       "    </tr>\n",
       "  </tbody>\n",
       "</table>\n",
       "</div>"
      ],
      "text/plain": [
       "         uid  age  attraction_coeff  coins                   country  \\\n",
       "0  892309896   27               685    NaN  United States of America   \n",
       "1  892044516   27                 0    NaN                   Germany   \n",
       "2  892185708   45                44    NaN                    Israel   \n",
       "\n",
       "                                          visit_days  gender  \\\n",
       "0                   1,2,3,4,5,6,7,8,9,10,11,12,16,17       1   \n",
       "1                                                NaN       1   \n",
       "2  1,3,4,6,7,8,10,11,12,13,14,15,16,17,18,19,20,2...       1   \n",
       "\n",
       "   age_filter_start  age_filter_end  views_count  was_premium  is_premium  \\\n",
       "0                24              30           89          NaN         NaN   \n",
       "1                24              30            0          NaN         NaN   \n",
       "2                42              48           68          NaN         NaN   \n",
       "\n",
       "   total_revenue  \n",
       "0              0  \n",
       "1              0  \n",
       "2              0  "
      ]
     },
     "execution_count": 36,
     "metadata": {},
     "output_type": "execute_result"
    }
   ],
   "source": [
    "users_test.head(3)"
   ]
  },
  {
   "cell_type": "code",
   "execution_count": 42,
   "id": "f6c17cad-eb49-4091-b25a-5ba9cceb3670",
   "metadata": {},
   "outputs": [
    {
     "name": "stdout",
     "output_type": "stream",
     "text": [
      "<class 'pandas.core.frame.DataFrame'>\n",
      "RangeIndex: 4308 entries, 0 to 4307\n",
      "Data columns (total 13 columns):\n",
      " #   Column            Non-Null Count  Dtype  \n",
      "---  ------            --------------  -----  \n",
      " 0   uid               4308 non-null   int64  \n",
      " 1   age               4308 non-null   int64  \n",
      " 2   attraction_coeff  4308 non-null   int64  \n",
      " 3   coins             49 non-null     float64\n",
      " 4   country           4308 non-null   object \n",
      " 5   visit_days        2978 non-null   object \n",
      " 6   gender            4308 non-null   int64  \n",
      " 7   age_filter_start  4308 non-null   int64  \n",
      " 8   age_filter_end    4308 non-null   int64  \n",
      " 9   views_count       4308 non-null   int64  \n",
      " 10  was_premium       408 non-null    float64\n",
      " 11  is_premium        157 non-null    float64\n",
      " 12  total_revenue     4308 non-null   int64  \n",
      "dtypes: float64(3), int64(8), object(2)\n",
      "memory usage: 437.7+ KB\n"
     ]
    }
   ],
   "source": [
    "users_test.info()"
   ]
  },
  {
   "cell_type": "code",
   "execution_count": 56,
   "id": "3beff3dd-bbcd-4606-9d73-f1baedf282bb",
   "metadata": {},
   "outputs": [
    {
     "data": {
      "text/plain": [
       "0"
      ]
     },
     "execution_count": 56,
     "metadata": {},
     "output_type": "execute_result"
    }
   ],
   "source": [
    "# проверка на наличие дубликатов\n",
    "users_test.duplicated().sum()"
   ]
  },
  {
   "cell_type": "markdown",
   "id": "2dc74bab-3b03-4e2b-8f02-7eeebb02a848",
   "metadata": {},
   "source": [
    "**NaN значения** в нижеперечисленных колонках **понимаем как 0**, т.к:\n",
    "- **coins**       (NaN - у пользователя нет внутренней валюты => 0)\n",
    "- **visit_days**  (NaN - пользователь не посещал приложение после регистрации, => 0 дней)\n",
    "- **was_premium** (NaN - у пользователя не было премиум подписки => 0, т.к. наличие подписки = 1)\n",
    "- **is_premium**  (NaN - у пользователя на настоящий момент нет премиум подписки => 0)"
   ]
  },
  {
   "cell_type": "code",
   "execution_count": 44,
   "id": "dd831a33-0c51-40d0-952a-99926892847f",
   "metadata": {},
   "outputs": [
    {
     "data": {
      "text/plain": [
       "array([1, 0], dtype=int64)"
      ]
     },
     "execution_count": 44,
     "metadata": {},
     "output_type": "execute_result"
    }
   ],
   "source": [
    "# Графа гендер (содержит два значения 1 или 0)\n",
    "users_test.gender.unique()"
   ]
  },
  {
   "cell_type": "code",
   "execution_count": 46,
   "id": "e7dd874f-01af-4c28-aca8-6e1318be3e0d",
   "metadata": {},
   "outputs": [
    {
     "name": "stdout",
     "output_type": "stream",
     "text": [
      "Число уникальных пользователей = 4308\n"
     ]
    }
   ],
   "source": [
    "users_test.uid.nunique()\n",
    "print(f'Число уникальных пользователей = {users_test.uid.nunique()}')"
   ]
  },
  {
   "cell_type": "markdown",
   "id": "3bd6b6ff-94f3-4b17-8313-f6db3a9f74a4",
   "metadata": {},
   "source": [
    "##### Информация о пользователях **в первой контрольной группе**"
   ]
  },
  {
   "cell_type": "code",
   "execution_count": 41,
   "id": "1c4238b2-2d10-4ce3-afff-cbe3926f95a2",
   "metadata": {},
   "outputs": [
    {
     "data": {
      "text/html": [
       "<div>\n",
       "<style scoped>\n",
       "    .dataframe tbody tr th:only-of-type {\n",
       "        vertical-align: middle;\n",
       "    }\n",
       "\n",
       "    .dataframe tbody tr th {\n",
       "        vertical-align: top;\n",
       "    }\n",
       "\n",
       "    .dataframe thead th {\n",
       "        text-align: right;\n",
       "    }\n",
       "</style>\n",
       "<table border=\"1\" class=\"dataframe\">\n",
       "  <thead>\n",
       "    <tr style=\"text-align: right;\">\n",
       "      <th></th>\n",
       "      <th>uid</th>\n",
       "      <th>age</th>\n",
       "      <th>attraction_coeff</th>\n",
       "      <th>coins</th>\n",
       "      <th>country</th>\n",
       "      <th>visit_days</th>\n",
       "      <th>gender</th>\n",
       "      <th>age_filter_start</th>\n",
       "      <th>age_filter_end</th>\n",
       "      <th>views_count</th>\n",
       "      <th>was_premium</th>\n",
       "      <th>is_premium</th>\n",
       "      <th>total_revenue</th>\n",
       "    </tr>\n",
       "  </thead>\n",
       "  <tbody>\n",
       "    <tr>\n",
       "      <th>0</th>\n",
       "      <td>892319115</td>\n",
       "      <td>25</td>\n",
       "      <td>435</td>\n",
       "      <td>NaN</td>\n",
       "      <td>United States of America</td>\n",
       "      <td>1,2,3,4,5,6</td>\n",
       "      <td>0</td>\n",
       "      <td>22</td>\n",
       "      <td>32</td>\n",
       "      <td>982</td>\n",
       "      <td>NaN</td>\n",
       "      <td>NaN</td>\n",
       "      <td>0</td>\n",
       "    </tr>\n",
       "    <tr>\n",
       "      <th>1</th>\n",
       "      <td>891248523</td>\n",
       "      <td>29</td>\n",
       "      <td>500</td>\n",
       "      <td>NaN</td>\n",
       "      <td>United States of America</td>\n",
       "      <td>1,2</td>\n",
       "      <td>1</td>\n",
       "      <td>26</td>\n",
       "      <td>32</td>\n",
       "      <td>12</td>\n",
       "      <td>NaN</td>\n",
       "      <td>NaN</td>\n",
       "      <td>0</td>\n",
       "    </tr>\n",
       "    <tr>\n",
       "      <th>2</th>\n",
       "      <td>891670932</td>\n",
       "      <td>33</td>\n",
       "      <td>800</td>\n",
       "      <td>NaN</td>\n",
       "      <td>France</td>\n",
       "      <td>1,2,3,5,6,8,9,11,13,16</td>\n",
       "      <td>1</td>\n",
       "      <td>30</td>\n",
       "      <td>36</td>\n",
       "      <td>5</td>\n",
       "      <td>NaN</td>\n",
       "      <td>NaN</td>\n",
       "      <td>0</td>\n",
       "    </tr>\n",
       "  </tbody>\n",
       "</table>\n",
       "</div>"
      ],
      "text/plain": [
       "         uid  age  attraction_coeff  coins                   country  \\\n",
       "0  892319115   25               435    NaN  United States of America   \n",
       "1  891248523   29               500    NaN  United States of America   \n",
       "2  891670932   33               800    NaN                    France   \n",
       "\n",
       "               visit_days  gender  age_filter_start  age_filter_end  \\\n",
       "0             1,2,3,4,5,6       0                22              32   \n",
       "1                     1,2       1                26              32   \n",
       "2  1,2,3,5,6,8,9,11,13,16       1                30              36   \n",
       "\n",
       "   views_count  was_premium  is_premium  total_revenue  \n",
       "0          982          NaN         NaN              0  \n",
       "1           12          NaN         NaN              0  \n",
       "2            5          NaN         NaN              0  "
      ]
     },
     "execution_count": 41,
     "metadata": {},
     "output_type": "execute_result"
    }
   ],
   "source": [
    "users_control_1.head(3)"
   ]
  },
  {
   "cell_type": "code",
   "execution_count": 47,
   "id": "2810029d-f1d4-4ac9-a3aa-5cca5bc0520c",
   "metadata": {},
   "outputs": [
    {
     "name": "stdout",
     "output_type": "stream",
     "text": [
      "<class 'pandas.core.frame.DataFrame'>\n",
      "RangeIndex: 4340 entries, 0 to 4339\n",
      "Data columns (total 13 columns):\n",
      " #   Column            Non-Null Count  Dtype  \n",
      "---  ------            --------------  -----  \n",
      " 0   uid               4340 non-null   int64  \n",
      " 1   age               4340 non-null   int64  \n",
      " 2   attraction_coeff  4340 non-null   int64  \n",
      " 3   coins             60 non-null     float64\n",
      " 4   country           4340 non-null   object \n",
      " 5   visit_days        3016 non-null   object \n",
      " 6   gender            4340 non-null   int64  \n",
      " 7   age_filter_start  4340 non-null   int64  \n",
      " 8   age_filter_end    4340 non-null   int64  \n",
      " 9   views_count       4340 non-null   int64  \n",
      " 10  was_premium       436 non-null    float64\n",
      " 11  is_premium        192 non-null    float64\n",
      " 12  total_revenue     4340 non-null   int64  \n",
      "dtypes: float64(3), int64(8), object(2)\n",
      "memory usage: 440.9+ KB\n"
     ]
    }
   ],
   "source": [
    "users_control_1.info()"
   ]
  },
  {
   "cell_type": "code",
   "execution_count": 57,
   "id": "04cc9c71-421a-4ea9-8fa6-e9f6f77e9ff5",
   "metadata": {},
   "outputs": [
    {
     "data": {
      "text/plain": [
       "0"
      ]
     },
     "execution_count": 57,
     "metadata": {},
     "output_type": "execute_result"
    }
   ],
   "source": [
    "# проверка на наличие дубликатов\n",
    "users_control_1.duplicated().sum()"
   ]
  },
  {
   "cell_type": "code",
   "execution_count": 50,
   "id": "182818da-ba5c-4a67-a5f6-6d46ce1e843d",
   "metadata": {},
   "outputs": [
    {
     "name": "stdout",
     "output_type": "stream",
     "text": [
      "Число уникальных пользователей 1-ой контрольной группы = 4340\n"
     ]
    }
   ],
   "source": [
    "users_control_1.uid.nunique()\n",
    "print(f'Число уникальных пользователей 1-ой контрольной группы = {users_control_1.uid.nunique()}')"
   ]
  },
  {
   "cell_type": "markdown",
   "id": "73395791-b1a9-4e45-9c32-68c09135f2cd",
   "metadata": {},
   "source": [
    "##### Информация о пользователях **во второй контрольной группе**"
   ]
  },
  {
   "cell_type": "code",
   "execution_count": 40,
   "id": "26147e63-29cc-419d-b709-48b883651d41",
   "metadata": {},
   "outputs": [
    {
     "data": {
      "text/html": [
       "<div>\n",
       "<style scoped>\n",
       "    .dataframe tbody tr th:only-of-type {\n",
       "        vertical-align: middle;\n",
       "    }\n",
       "\n",
       "    .dataframe tbody tr th {\n",
       "        vertical-align: top;\n",
       "    }\n",
       "\n",
       "    .dataframe thead th {\n",
       "        text-align: right;\n",
       "    }\n",
       "</style>\n",
       "<table border=\"1\" class=\"dataframe\">\n",
       "  <thead>\n",
       "    <tr style=\"text-align: right;\">\n",
       "      <th></th>\n",
       "      <th>uid</th>\n",
       "      <th>age</th>\n",
       "      <th>attraction_coeff</th>\n",
       "      <th>coins</th>\n",
       "      <th>country</th>\n",
       "      <th>visit_days</th>\n",
       "      <th>gender</th>\n",
       "      <th>age_filter_start</th>\n",
       "      <th>age_filter_end</th>\n",
       "      <th>views_count</th>\n",
       "      <th>was_premium</th>\n",
       "      <th>is_premium</th>\n",
       "      <th>total_revenue</th>\n",
       "    </tr>\n",
       "  </thead>\n",
       "  <tbody>\n",
       "    <tr>\n",
       "      <th>0</th>\n",
       "      <td>892035504</td>\n",
       "      <td>37</td>\n",
       "      <td>137</td>\n",
       "      <td>NaN</td>\n",
       "      <td>Israel</td>\n",
       "      <td>1,2,3,4,5,6,7,8,9,11,13</td>\n",
       "      <td>1</td>\n",
       "      <td>30</td>\n",
       "      <td>40</td>\n",
       "      <td>51</td>\n",
       "      <td>NaN</td>\n",
       "      <td>NaN</td>\n",
       "      <td>0</td>\n",
       "    </tr>\n",
       "    <tr>\n",
       "      <th>1</th>\n",
       "      <td>891782112</td>\n",
       "      <td>57</td>\n",
       "      <td>0</td>\n",
       "      <td>NaN</td>\n",
       "      <td>Italy</td>\n",
       "      <td>1</td>\n",
       "      <td>1</td>\n",
       "      <td>54</td>\n",
       "      <td>60</td>\n",
       "      <td>0</td>\n",
       "      <td>NaN</td>\n",
       "      <td>NaN</td>\n",
       "      <td>0</td>\n",
       "    </tr>\n",
       "    <tr>\n",
       "      <th>2</th>\n",
       "      <td>891110337</td>\n",
       "      <td>30</td>\n",
       "      <td>769</td>\n",
       "      <td>NaN</td>\n",
       "      <td>France</td>\n",
       "      <td>1,2,3,4,5</td>\n",
       "      <td>1</td>\n",
       "      <td>27</td>\n",
       "      <td>33</td>\n",
       "      <td>13</td>\n",
       "      <td>NaN</td>\n",
       "      <td>NaN</td>\n",
       "      <td>0</td>\n",
       "    </tr>\n",
       "  </tbody>\n",
       "</table>\n",
       "</div>"
      ],
      "text/plain": [
       "         uid  age  attraction_coeff  coins country               visit_days  \\\n",
       "0  892035504   37               137    NaN  Israel  1,2,3,4,5,6,7,8,9,11,13   \n",
       "1  891782112   57                 0    NaN   Italy                        1   \n",
       "2  891110337   30               769    NaN  France                1,2,3,4,5   \n",
       "\n",
       "   gender  age_filter_start  age_filter_end  views_count  was_premium  \\\n",
       "0       1                30              40           51          NaN   \n",
       "1       1                54              60            0          NaN   \n",
       "2       1                27              33           13          NaN   \n",
       "\n",
       "   is_premium  total_revenue  \n",
       "0         NaN              0  \n",
       "1         NaN              0  \n",
       "2         NaN              0  "
      ]
     },
     "execution_count": 40,
     "metadata": {},
     "output_type": "execute_result"
    }
   ],
   "source": [
    "users_control_2.head(3)"
   ]
  },
  {
   "cell_type": "code",
   "execution_count": 52,
   "id": "27246b69-f4ef-4fcc-9d80-041908eb5521",
   "metadata": {},
   "outputs": [
    {
     "name": "stdout",
     "output_type": "stream",
     "text": [
      "<class 'pandas.core.frame.DataFrame'>\n",
      "RangeIndex: 4264 entries, 0 to 4263\n",
      "Data columns (total 13 columns):\n",
      " #   Column            Non-Null Count  Dtype  \n",
      "---  ------            --------------  -----  \n",
      " 0   uid               4264 non-null   int64  \n",
      " 1   age               4264 non-null   int64  \n",
      " 2   attraction_coeff  4264 non-null   int64  \n",
      " 3   coins             61 non-null     float64\n",
      " 4   country           4264 non-null   object \n",
      " 5   visit_days        2900 non-null   object \n",
      " 6   gender            4264 non-null   int64  \n",
      " 7   age_filter_start  4264 non-null   int64  \n",
      " 8   age_filter_end    4264 non-null   int64  \n",
      " 9   views_count       4264 non-null   int64  \n",
      " 10  was_premium       411 non-null    float64\n",
      " 11  is_premium        191 non-null    float64\n",
      " 12  total_revenue     4264 non-null   int64  \n",
      "dtypes: float64(3), int64(8), object(2)\n",
      "memory usage: 433.2+ KB\n"
     ]
    }
   ],
   "source": [
    "users_control_2.info()"
   ]
  },
  {
   "cell_type": "code",
   "execution_count": 58,
   "id": "469f7ccc-53ec-4ff5-8942-c4a99537fb62",
   "metadata": {},
   "outputs": [
    {
     "data": {
      "text/plain": [
       "0"
      ]
     },
     "execution_count": 58,
     "metadata": {},
     "output_type": "execute_result"
    }
   ],
   "source": [
    "# проверка на наличие дубликатов\n",
    "users_control_2.duplicated().sum()"
   ]
  },
  {
   "cell_type": "code",
   "execution_count": 85,
   "id": "fea3b963-4b57-4f15-a7c0-005a6e2ed621",
   "metadata": {},
   "outputs": [
    {
     "name": "stdout",
     "output_type": "stream",
     "text": [
      "Число уникальных пользователей 2-ой контрольной группы = 4264\n"
     ]
    }
   ],
   "source": [
    "users_control_2.uid.nunique()\n",
    "print(f'Число уникальных пользователей 2-ой контрольной группы = {users_control_2.uid.nunique()}')"
   ]
  },
  {
   "cell_type": "markdown",
   "id": "9f0b9678-7c30-4dc5-951d-7423c244ec2c",
   "metadata": {
    "jp-MarkdownHeadingCollapsed": true
   },
   "source": [
    "###### Проверка пользователей на уникальность - нет ли одних и тех же в разных выборках - **пользователи уникальны ✅**"
   ]
  },
  {
   "cell_type": "code",
   "execution_count": 53,
   "id": "a8842281-3ca4-4a60-a0b1-27df71fb4287",
   "metadata": {},
   "outputs": [
    {
     "data": {
      "text/plain": [
       "0"
      ]
     },
     "execution_count": 53,
     "metadata": {},
     "output_type": "execute_result"
    }
   ],
   "source": [
    "users_test.query('uid in @users_control_1.uid').shape[0]"
   ]
  },
  {
   "cell_type": "code",
   "execution_count": 54,
   "id": "30257f4f-177d-427a-aed8-2614759101ca",
   "metadata": {},
   "outputs": [
    {
     "data": {
      "text/plain": [
       "0"
      ]
     },
     "execution_count": 54,
     "metadata": {},
     "output_type": "execute_result"
    }
   ],
   "source": [
    "users_test.query('uid in @users_control_2.uid').shape[0]"
   ]
  },
  {
   "cell_type": "code",
   "execution_count": 55,
   "id": "cce05d0a-6239-455c-99c7-ec89ee65d55c",
   "metadata": {},
   "outputs": [
    {
     "data": {
      "text/plain": [
       "0"
      ]
     },
     "execution_count": 55,
     "metadata": {},
     "output_type": "execute_result"
    }
   ],
   "source": [
    "users_control_1.query('uid in @users_control_2.uid').shape[0]"
   ]
  },
  {
   "cell_type": "markdown",
   "id": "a6df98bf-e293-4668-9d83-9666d2056c34",
   "metadata": {
    "jp-MarkdownHeadingCollapsed": true
   },
   "source": [
    "##### **Т.к. NaN значения во всех трех группах находятся в одинаковых местах и смысл цифровых значений описан выше => пустые NaN значения заменяем на 0 без потери информации**"
   ]
  },
  {
   "cell_type": "code",
   "execution_count": 59,
   "id": "270d032e-8d3f-42db-9a1e-3baf7c0df56f",
   "metadata": {},
   "outputs": [],
   "source": [
    "users_test      = users_test.fillna(0)\n",
    "users_control_1 = users_control_1.fillna(0)\n",
    "users_control_2 = users_control_2.fillna(0)"
   ]
  },
  {
   "cell_type": "markdown",
   "id": "a967f9b7-40be-49b3-8f62-48ffb1714dcf",
   "metadata": {
    "jp-MarkdownHeadingCollapsed": true
   },
   "source": [
    "#### II. Изучение датасетов **о платежах**"
   ]
  },
  {
   "cell_type": "markdown",
   "id": "215797d5-03ba-44fe-a5ec-893d5b12810b",
   "metadata": {
    "jp-MarkdownHeadingCollapsed": true
   },
   "source": [
    "##### Информация **о платежах пользователей в тестовой группе**"
   ]
  },
  {
   "cell_type": "code",
   "execution_count": 62,
   "id": "b4c1e28b-4fae-4b35-bad1-30c9615b5a6a",
   "metadata": {},
   "outputs": [
    {
     "data": {
      "text/html": [
       "<div>\n",
       "<style scoped>\n",
       "    .dataframe tbody tr th:only-of-type {\n",
       "        vertical-align: middle;\n",
       "    }\n",
       "\n",
       "    .dataframe tbody tr th {\n",
       "        vertical-align: top;\n",
       "    }\n",
       "\n",
       "    .dataframe thead th {\n",
       "        text-align: right;\n",
       "    }\n",
       "</style>\n",
       "<table border=\"1\" class=\"dataframe\">\n",
       "  <thead>\n",
       "    <tr style=\"text-align: right;\">\n",
       "      <th></th>\n",
       "      <th>uid</th>\n",
       "      <th>country</th>\n",
       "      <th>joined_at</th>\n",
       "      <th>paid_at</th>\n",
       "      <th>revenue</th>\n",
       "      <th>payment_id</th>\n",
       "      <th>from_page</th>\n",
       "      <th>product_type</th>\n",
       "    </tr>\n",
       "  </thead>\n",
       "  <tbody>\n",
       "    <tr>\n",
       "      <th>0</th>\n",
       "      <td>891345942</td>\n",
       "      <td>Italy</td>\n",
       "      <td>2017-05-11 13:00:00</td>\n",
       "      <td>2017-11-13 15:04:00</td>\n",
       "      <td>12909</td>\n",
       "      <td>147</td>\n",
       "      <td>trial_vip_popup</td>\n",
       "      <td>trial_premium</td>\n",
       "    </tr>\n",
       "    <tr>\n",
       "      <th>1</th>\n",
       "      <td>892054251</td>\n",
       "      <td>United States of America</td>\n",
       "      <td>2017-10-22 00:33:00</td>\n",
       "      <td>2017-10-30 01:37:00</td>\n",
       "      <td>13923</td>\n",
       "      <td>147</td>\n",
       "      <td>trial_vip_popup</td>\n",
       "      <td>trial_premium</td>\n",
       "    </tr>\n",
       "    <tr>\n",
       "      <th>2</th>\n",
       "      <td>892236423</td>\n",
       "      <td>United States of America</td>\n",
       "      <td>2017-10-18 01:09:00</td>\n",
       "      <td>2017-10-23 00:15:00</td>\n",
       "      <td>3783</td>\n",
       "      <td>67</td>\n",
       "      <td>menu</td>\n",
       "      <td>other_type</td>\n",
       "    </tr>\n",
       "  </tbody>\n",
       "</table>\n",
       "</div>"
      ],
      "text/plain": [
       "         uid                   country            joined_at  \\\n",
       "0  891345942                     Italy  2017-05-11 13:00:00   \n",
       "1  892054251  United States of America  2017-10-22 00:33:00   \n",
       "2  892236423  United States of America  2017-10-18 01:09:00   \n",
       "\n",
       "               paid_at  revenue  payment_id        from_page   product_type  \n",
       "0  2017-11-13 15:04:00    12909         147  trial_vip_popup  trial_premium  \n",
       "1  2017-10-30 01:37:00    13923         147  trial_vip_popup  trial_premium  \n",
       "2  2017-10-23 00:15:00     3783          67             menu     other_type  "
      ]
     },
     "execution_count": 62,
     "metadata": {},
     "output_type": "execute_result"
    }
   ],
   "source": [
    "transactions_test.head(3)"
   ]
  },
  {
   "cell_type": "code",
   "execution_count": 63,
   "id": "96a271d3-5ce1-4538-93c7-cc43ec439840",
   "metadata": {},
   "outputs": [
    {
     "name": "stdout",
     "output_type": "stream",
     "text": [
      "<class 'pandas.core.frame.DataFrame'>\n",
      "RangeIndex: 273 entries, 0 to 272\n",
      "Data columns (total 8 columns):\n",
      " #   Column        Non-Null Count  Dtype \n",
      "---  ------        --------------  ----- \n",
      " 0   uid           273 non-null    int64 \n",
      " 1   country       273 non-null    object\n",
      " 2   joined_at     273 non-null    object\n",
      " 3   paid_at       273 non-null    object\n",
      " 4   revenue       273 non-null    int64 \n",
      " 5   payment_id    273 non-null    int64 \n",
      " 6   from_page     273 non-null    object\n",
      " 7   product_type  273 non-null    object\n",
      "dtypes: int64(3), object(5)\n",
      "memory usage: 17.2+ KB\n"
     ]
    }
   ],
   "source": [
    "transactions_test.info()"
   ]
  },
  {
   "cell_type": "code",
   "execution_count": 101,
   "id": "5716bb65-2904-4c41-9a75-d12f941baee0",
   "metadata": {},
   "outputs": [],
   "source": [
    "# Замена формата данных с датами на Даты\n",
    "transactions_test[['joined_at', 'paid_at']] = transactions_test[['joined_at', 'paid_at']].apply(pd.to_datetime)"
   ]
  },
  {
   "cell_type": "code",
   "execution_count": 64,
   "id": "56cba757-92d4-4bd1-9d0a-1fd770f02797",
   "metadata": {},
   "outputs": [
    {
     "name": "stdout",
     "output_type": "stream",
     "text": [
      "Число уникальных пользователей в тестовой группе = 146\n"
     ]
    }
   ],
   "source": [
    "transactions_test.uid.nunique()\n",
    "print(f'Число уникальных пользователей в тестовой группе = {transactions_test.uid.nunique()}')"
   ]
  },
  {
   "cell_type": "code",
   "execution_count": 65,
   "id": "46eb924e-ee24-453f-9b3a-faf901e8bd3c",
   "metadata": {},
   "outputs": [
    {
     "data": {
      "text/plain": [
       "7"
      ]
     },
     "execution_count": 65,
     "metadata": {},
     "output_type": "execute_result"
    }
   ],
   "source": [
    "# проверка на наличие дубликатов\n",
    "transactions_test.duplicated().sum()"
   ]
  },
  {
   "cell_type": "code",
   "execution_count": 76,
   "id": "b8b62bb8-6780-4cf2-9a4a-e25854f598fa",
   "metadata": {},
   "outputs": [
    {
     "name": "stdout",
     "output_type": "stream",
     "text": [
      "Число дубликатов = 7 (2.56 % от общего числа строк)\n"
     ]
    }
   ],
   "source": [
    "transactions_test.shape[0]\n",
    "print(f'Число дубликатов = {transactions_test.duplicated().sum()}\\\n",
    " ({ round( transactions_test.duplicated().sum() *100 / transactions_test.shape[0], 2)} % от общего числа строк)')"
   ]
  },
  {
   "cell_type": "code",
   "execution_count": 77,
   "id": "a4e9e68b-1798-432e-8f41-ee3f9bf18060",
   "metadata": {},
   "outputs": [],
   "source": [
    "# Удаление дубликатов\n",
    "transactions_test = transactions_test.drop_duplicates()"
   ]
  },
  {
   "cell_type": "markdown",
   "id": "20638d92-c114-4748-8759-ff2b7c2feaec",
   "metadata": {},
   "source": [
    "##### Информация **о платежах пользователей в первой контрольной группе**"
   ]
  },
  {
   "cell_type": "code",
   "execution_count": 38,
   "id": "6ab46259-93eb-42be-bdc3-4c67b0bdb12a",
   "metadata": {},
   "outputs": [
    {
     "data": {
      "text/html": [
       "<div>\n",
       "<style scoped>\n",
       "    .dataframe tbody tr th:only-of-type {\n",
       "        vertical-align: middle;\n",
       "    }\n",
       "\n",
       "    .dataframe tbody tr th {\n",
       "        vertical-align: top;\n",
       "    }\n",
       "\n",
       "    .dataframe thead th {\n",
       "        text-align: right;\n",
       "    }\n",
       "</style>\n",
       "<table border=\"1\" class=\"dataframe\">\n",
       "  <thead>\n",
       "    <tr style=\"text-align: right;\">\n",
       "      <th></th>\n",
       "      <th>uid</th>\n",
       "      <th>country</th>\n",
       "      <th>joined_at</th>\n",
       "      <th>paid_at</th>\n",
       "      <th>revenue</th>\n",
       "      <th>payment_id</th>\n",
       "      <th>from_page</th>\n",
       "      <th>product_type</th>\n",
       "    </tr>\n",
       "  </thead>\n",
       "  <tbody>\n",
       "    <tr>\n",
       "      <th>0</th>\n",
       "      <td>891319275.0</td>\n",
       "      <td>France</td>\n",
       "      <td>2017-05-11 19:57:00</td>\n",
       "      <td>2017-12-11 21:57:00</td>\n",
       "      <td>12727.0</td>\n",
       "      <td>147.0</td>\n",
       "      <td>trial_vip_popup</td>\n",
       "      <td>trial_premium</td>\n",
       "    </tr>\n",
       "    <tr>\n",
       "      <th>1</th>\n",
       "      <td>892421826.0</td>\n",
       "      <td>Israel</td>\n",
       "      <td>2017-10-14 12:46:00</td>\n",
       "      <td>2017-10-23 12:54:00</td>\n",
       "      <td>14586.0</td>\n",
       "      <td>147.0</td>\n",
       "      <td>trial_vip_popup</td>\n",
       "      <td>trial_premium</td>\n",
       "    </tr>\n",
       "    <tr>\n",
       "      <th>2</th>\n",
       "      <td>891822480.0</td>\n",
       "      <td>Italy</td>\n",
       "      <td>2017-10-26 22:27:00</td>\n",
       "      <td>2017-12-11 20:59:00</td>\n",
       "      <td>1911.0</td>\n",
       "      <td>19.0</td>\n",
       "      <td>none</td>\n",
       "      <td>coins</td>\n",
       "    </tr>\n",
       "  </tbody>\n",
       "</table>\n",
       "</div>"
      ],
      "text/plain": [
       "           uid country            joined_at              paid_at  revenue  \\\n",
       "0  891319275.0  France  2017-05-11 19:57:00  2017-12-11 21:57:00  12727.0   \n",
       "1  892421826.0  Israel  2017-10-14 12:46:00  2017-10-23 12:54:00  14586.0   \n",
       "2  891822480.0   Italy  2017-10-26 22:27:00  2017-12-11 20:59:00   1911.0   \n",
       "\n",
       "   payment_id        from_page   product_type  \n",
       "0       147.0  trial_vip_popup  trial_premium  \n",
       "1       147.0  trial_vip_popup  trial_premium  \n",
       "2        19.0             none          coins  "
      ]
     },
     "execution_count": 38,
     "metadata": {},
     "output_type": "execute_result"
    }
   ],
   "source": [
    "transactions_control_1.head(3)"
   ]
  },
  {
   "cell_type": "code",
   "execution_count": 95,
   "id": "d2a2d9ba-32f7-46f0-81ad-6986f98d06ad",
   "metadata": {},
   "outputs": [
    {
     "name": "stdout",
     "output_type": "stream",
     "text": [
      "<class 'pandas.core.frame.DataFrame'>\n",
      "Index: 356 entries, 0 to 376\n",
      "Data columns (total 8 columns):\n",
      " #   Column        Non-Null Count  Dtype  \n",
      "---  ------        --------------  -----  \n",
      " 0   uid           356 non-null    float64\n",
      " 1   country       356 non-null    object \n",
      " 2   joined_at     356 non-null    object \n",
      " 3   paid_at       356 non-null    object \n",
      " 4   revenue       356 non-null    float64\n",
      " 5   payment_id    356 non-null    float64\n",
      " 6   from_page     356 non-null    object \n",
      " 7   product_type  356 non-null    object \n",
      "dtypes: float64(3), object(5)\n",
      "memory usage: 25.0+ KB\n"
     ]
    }
   ],
   "source": [
    "transactions_control_1.info()"
   ]
  },
  {
   "cell_type": "code",
   "execution_count": 97,
   "id": "c7dabebd-89f2-461c-bb8a-bd260c5780de",
   "metadata": {},
   "outputs": [],
   "source": [
    "# Замена типа данных на int у колонок с id для однообразия-безобразия\n",
    "transactions_control_1[['uid', 'payment_id']] = transactions_control_1[['uid', 'payment_id']].astype(int)"
   ]
  },
  {
   "cell_type": "code",
   "execution_count": 100,
   "id": "f85c68dc-fd04-4898-875f-ee5bde66e927",
   "metadata": {},
   "outputs": [],
   "source": [
    "# Замена формата данных с датами на Даты\n",
    "transactions_control_1[['joined_at', 'paid_at']] = transactions_control_1[['joined_at', 'paid_at']].apply(pd.to_datetime)"
   ]
  },
  {
   "cell_type": "code",
   "execution_count": 79,
   "id": "a2359ad8-6aaf-4d63-a8c7-9e458bebaa8b",
   "metadata": {},
   "outputs": [
    {
     "name": "stdout",
     "output_type": "stream",
     "text": [
      "Число уникальных пользователей в 1-ой контрольной группе = 193\n"
     ]
    }
   ],
   "source": [
    "print(f'Число уникальных пользователей в 1-ой контрольной группе = {transactions_control_1.uid.nunique()}')"
   ]
  },
  {
   "cell_type": "code",
   "execution_count": 80,
   "id": "b8a616fb-bb9b-49fe-b3a4-78e82b977851",
   "metadata": {},
   "outputs": [
    {
     "data": {
      "text/plain": [
       "650"
      ]
     },
     "execution_count": 80,
     "metadata": {},
     "output_type": "execute_result"
    }
   ],
   "source": [
    "# проверка на наличие дубликатов\n",
    "transactions_control_1.duplicated().sum()"
   ]
  },
  {
   "cell_type": "code",
   "execution_count": 82,
   "id": "6f435783-c1be-475d-bc2a-8ff31b315917",
   "metadata": {},
   "outputs": [
    {
     "name": "stdout",
     "output_type": "stream",
     "text": [
      "Число дубликатов = 650 (64.55 % от общего числа строк)\n"
     ]
    }
   ],
   "source": [
    "print(f'Число дубликатов = {transactions_control_1.duplicated().sum()}\\\n",
    " ({ round( transactions_control_1.duplicated().sum() *100 / transactions_control_1.shape[0], 2)} % от общего числа строк)')"
   ]
  },
  {
   "cell_type": "markdown",
   "id": "cd36cb0b-1fd4-4bad-869f-536d7f3cf576",
   "metadata": {},
   "source": [
    "Нужно **обратить внимание (!)** владельца данных на сбор данных в датасет **о платежах пользователей в первой контрольной группе** transactions_control_1, т.к. **число дубликатов слишком большое**"
   ]
  },
  {
   "cell_type": "code",
   "execution_count": 83,
   "id": "a0284103-3444-44ed-9670-a4cd028850c0",
   "metadata": {},
   "outputs": [],
   "source": [
    "# Удаление дубликатов\n",
    "transactions_control_1 = transactions_control_1.drop_duplicates()"
   ]
  },
  {
   "cell_type": "markdown",
   "id": "62f58be2-043c-4ec1-87e1-116d3f3475d8",
   "metadata": {
    "jp-MarkdownHeadingCollapsed": true
   },
   "source": [
    "\n",
    "###### В 1-ой контрольной группе кроме обилия дубликатов много пропусков во всех колонках кроме joined_at и paid_at. Исходим из того, что это сбой и удаляем пустые строки"
   ]
  },
  {
   "cell_type": "code",
   "execution_count": 94,
   "id": "2efa549a-c9ee-45a1-9845-684f0f8a77b2",
   "metadata": {},
   "outputs": [],
   "source": [
    "transactions_control_1 = transactions_control_1.dropna()"
   ]
  },
  {
   "cell_type": "markdown",
   "id": "f5dac23d-b08e-4d4a-b907-daea49b8df84",
   "metadata": {},
   "source": [
    "##### Информация **о платежах пользователей во второй контрольной группе**"
   ]
  },
  {
   "cell_type": "code",
   "execution_count": 37,
   "id": "ea58f3df-758a-493f-b641-98cae0e55232",
   "metadata": {},
   "outputs": [
    {
     "data": {
      "text/html": [
       "<div>\n",
       "<style scoped>\n",
       "    .dataframe tbody tr th:only-of-type {\n",
       "        vertical-align: middle;\n",
       "    }\n",
       "\n",
       "    .dataframe tbody tr th {\n",
       "        vertical-align: top;\n",
       "    }\n",
       "\n",
       "    .dataframe thead th {\n",
       "        text-align: right;\n",
       "    }\n",
       "</style>\n",
       "<table border=\"1\" class=\"dataframe\">\n",
       "  <thead>\n",
       "    <tr style=\"text-align: right;\">\n",
       "      <th></th>\n",
       "      <th>uid</th>\n",
       "      <th>country</th>\n",
       "      <th>joined_at</th>\n",
       "      <th>paid_at</th>\n",
       "      <th>revenue</th>\n",
       "      <th>payment_id</th>\n",
       "      <th>from_page</th>\n",
       "      <th>product_type</th>\n",
       "    </tr>\n",
       "  </thead>\n",
       "  <tbody>\n",
       "    <tr>\n",
       "      <th>0</th>\n",
       "      <td>891266616</td>\n",
       "      <td>Argentina</td>\n",
       "      <td>2017-06-11 15:25:00</td>\n",
       "      <td>2017-10-11 17:35:00</td>\n",
       "      <td>6305</td>\n",
       "      <td>19</td>\n",
       "      <td>autorefill</td>\n",
       "      <td>coins</td>\n",
       "    </tr>\n",
       "    <tr>\n",
       "      <th>1</th>\n",
       "      <td>892186737</td>\n",
       "      <td>Chile</td>\n",
       "      <td>2017-10-19 06:03:00</td>\n",
       "      <td>2017-04-11 08:53:00</td>\n",
       "      <td>4732</td>\n",
       "      <td>147</td>\n",
       "      <td>promo_09</td>\n",
       "      <td>premium_no_trial</td>\n",
       "    </tr>\n",
       "    <tr>\n",
       "      <th>2</th>\n",
       "      <td>891959004</td>\n",
       "      <td>United States of America</td>\n",
       "      <td>2017-10-24 00:12:00</td>\n",
       "      <td>2017-10-31 02:12:00</td>\n",
       "      <td>10153</td>\n",
       "      <td>147</td>\n",
       "      <td>trial_vip_popup</td>\n",
       "      <td>trial_premium</td>\n",
       "    </tr>\n",
       "  </tbody>\n",
       "</table>\n",
       "</div>"
      ],
      "text/plain": [
       "         uid                   country            joined_at  \\\n",
       "0  891266616                 Argentina  2017-06-11 15:25:00   \n",
       "1  892186737                     Chile  2017-10-19 06:03:00   \n",
       "2  891959004  United States of America  2017-10-24 00:12:00   \n",
       "\n",
       "               paid_at  revenue  payment_id        from_page      product_type  \n",
       "0  2017-10-11 17:35:00     6305          19       autorefill             coins  \n",
       "1  2017-04-11 08:53:00     4732         147         promo_09  premium_no_trial  \n",
       "2  2017-10-31 02:12:00    10153         147  trial_vip_popup     trial_premium  "
      ]
     },
     "execution_count": 37,
     "metadata": {},
     "output_type": "execute_result"
    }
   ],
   "source": [
    "transactions_control_2.head(3)"
   ]
  },
  {
   "cell_type": "code",
   "execution_count": 96,
   "id": "00f2528e-cd28-493e-bc87-8ec2ac819de5",
   "metadata": {},
   "outputs": [
    {
     "name": "stdout",
     "output_type": "stream",
     "text": [
      "<class 'pandas.core.frame.DataFrame'>\n",
      "Index: 323 entries, 0 to 327\n",
      "Data columns (total 8 columns):\n",
      " #   Column        Non-Null Count  Dtype \n",
      "---  ------        --------------  ----- \n",
      " 0   uid           323 non-null    int64 \n",
      " 1   country       323 non-null    object\n",
      " 2   joined_at     323 non-null    object\n",
      " 3   paid_at       323 non-null    object\n",
      " 4   revenue       323 non-null    int64 \n",
      " 5   payment_id    323 non-null    int64 \n",
      " 6   from_page     323 non-null    object\n",
      " 7   product_type  323 non-null    object\n",
      "dtypes: int64(3), object(5)\n",
      "memory usage: 22.7+ KB\n"
     ]
    }
   ],
   "source": [
    "transactions_control_2.info()"
   ]
  },
  {
   "cell_type": "code",
   "execution_count": 102,
   "id": "75567eb7-aaf2-43bf-a758-b539bd55d904",
   "metadata": {},
   "outputs": [],
   "source": [
    "# Замена формата данных с датами на Даты\n",
    "transactions_control_2[['joined_at', 'paid_at']] = transactions_control_2[['joined_at', 'paid_at']].apply(pd.to_datetime)"
   ]
  },
  {
   "cell_type": "code",
   "execution_count": 84,
   "id": "5cb5fc5b-66d9-4e8a-9faa-8b754adf40d2",
   "metadata": {},
   "outputs": [
    {
     "name": "stdout",
     "output_type": "stream",
     "text": [
      "Число уникальных пользователей во 2-ой контрольной группе = 187\n"
     ]
    }
   ],
   "source": [
    "print(f'Число уникальных пользователей во 2-ой контрольной группе = {transactions_control_2.uid.nunique()}')"
   ]
  },
  {
   "cell_type": "code",
   "execution_count": 86,
   "id": "1865c812-b2b4-4a42-934f-a511e618e74f",
   "metadata": {},
   "outputs": [
    {
     "data": {
      "text/plain": [
       "5"
      ]
     },
     "execution_count": 86,
     "metadata": {},
     "output_type": "execute_result"
    }
   ],
   "source": [
    "# проверка на наличие дубликатов\n",
    "transactions_control_2.duplicated().sum()"
   ]
  },
  {
   "cell_type": "code",
   "execution_count": 88,
   "id": "0007c40f-c2fb-4c71-8a5b-683b6b6cf35b",
   "metadata": {},
   "outputs": [
    {
     "name": "stdout",
     "output_type": "stream",
     "text": [
      "Число дубликатов = 5 (1.52 % от общего числа строк)\n"
     ]
    }
   ],
   "source": [
    "print(f'Число дубликатов = {transactions_control_2.duplicated().sum()}\\\n",
    " ({ round( transactions_control_2.duplicated().sum() *100 / transactions_control_2.shape[0], 2)} % от общего числа строк)')"
   ]
  },
  {
   "cell_type": "code",
   "execution_count": 89,
   "id": "0a0999ed-0468-49ef-939a-c48ebce36606",
   "metadata": {},
   "outputs": [],
   "source": [
    "# Удаление дубликатов\n",
    "transactions_control_2 = transactions_control_2.drop_duplicates()"
   ]
  },
  {
   "cell_type": "markdown",
   "id": "dedb8170-093c-4d4a-a4db-1b1e220d2fb6",
   "metadata": {},
   "source": [
    "###### Проверка пользователей на уникальность - нет ли одних и тех же в разных выборках - **пользователи уникальны ✅**"
   ]
  },
  {
   "cell_type": "code",
   "execution_count": 90,
   "id": "ef1b4996-213a-45c4-981c-e71a614d8238",
   "metadata": {},
   "outputs": [
    {
     "data": {
      "text/plain": [
       "0"
      ]
     },
     "execution_count": 90,
     "metadata": {},
     "output_type": "execute_result"
    }
   ],
   "source": [
    "transactions_test.query('uid in @transactions_control_1.uid').shape[0]"
   ]
  },
  {
   "cell_type": "code",
   "execution_count": 91,
   "id": "a1ab4d2a-022d-4424-8dd2-87fa9dc71c37",
   "metadata": {},
   "outputs": [
    {
     "data": {
      "text/plain": [
       "0"
      ]
     },
     "execution_count": 91,
     "metadata": {},
     "output_type": "execute_result"
    }
   ],
   "source": [
    "transactions_test.query('uid in @transactions_control_2.uid').shape[0]"
   ]
  },
  {
   "cell_type": "code",
   "execution_count": 93,
   "id": "07934d0f-f848-403b-848b-aa3109f779f3",
   "metadata": {},
   "outputs": [
    {
     "data": {
      "text/plain": [
       "0"
      ]
     },
     "execution_count": 93,
     "metadata": {},
     "output_type": "execute_result"
    }
   ],
   "source": [
    "transactions_control_1.query('uid in @transactions_control_2.uid').shape[0]"
   ]
  },
  {
   "cell_type": "markdown",
   "id": "74f563b6-e745-40ea-86b2-b5383de1aa9e",
   "metadata": {},
   "source": [
    "##### **Отбор подходящих по условию новых пользователей** \n",
    "Новых пользователей определим по датам регистрации, при этом они должны совпадать во всех группах"
   ]
  },
  {
   "cell_type": "code",
   "execution_count": 103,
   "id": "ce933c3e-8533-4052-aa8b-a88e35bdbfb2",
   "metadata": {},
   "outputs": [
    {
     "data": {
      "text/plain": [
       "(Timestamp('2017-01-11 03:07:00'), Timestamp('2017-10-31 23:40:00'))"
      ]
     },
     "execution_count": 103,
     "metadata": {},
     "output_type": "execute_result"
    }
   ],
   "source": [
    "# Период проведения A|B теста в тестовой группе\n",
    "transactions_test.joined_at.min(), transactions_test.joined_at.max()"
   ]
  },
  {
   "cell_type": "code",
   "execution_count": 104,
   "id": "aec09c3e-9be5-49b7-b760-40bc99d3b137",
   "metadata": {},
   "outputs": [
    {
     "data": {
      "text/plain": [
       "(Timestamp('2015-01-19 11:49:00'), Timestamp('2017-10-31 22:17:00'))"
      ]
     },
     "execution_count": 104,
     "metadata": {},
     "output_type": "execute_result"
    }
   ],
   "source": [
    "# Период проведения A|B теста в 1-ой контрольной группе\n",
    "transactions_control_1.joined_at.min(), transactions_control_1.joined_at.max()"
   ]
  },
  {
   "cell_type": "code",
   "execution_count": 105,
   "id": "5f188bf0-d88f-4d61-9a90-41e20075457c",
   "metadata": {},
   "outputs": [
    {
     "data": {
      "text/plain": [
       "(Timestamp('2017-01-11 08:36:00'), Timestamp('2017-10-31 17:43:00'))"
      ]
     },
     "execution_count": 105,
     "metadata": {},
     "output_type": "execute_result"
    }
   ],
   "source": [
    "# Период проведения эксперимента во 2-ой контрольной группе\n",
    "transactions_control_2.joined_at.min(), transactions_control_2.joined_at.max()"
   ]
  },
  {
   "cell_type": "markdown",
   "id": "541746cd-3d25-4f79-9ebc-e1da7241fe92",
   "metadata": {},
   "source": [
    "**Окончание эксперимента примерно совпадает для всех групп.** \n",
    "\n",
    "Однако **минимальная дата в 1-ой контрольной группе не совпадает** с МИН датами в других группах => **нужно отфильтровать лишние данные:**"
   ]
  },
  {
   "cell_type": "code",
   "execution_count": 106,
   "id": "87edd0ee-740a-4ea5-a4b8-98c7611665e0",
   "metadata": {},
   "outputs": [
    {
     "data": {
      "text/html": [
       "<div>\n",
       "<style scoped>\n",
       "    .dataframe tbody tr th:only-of-type {\n",
       "        vertical-align: middle;\n",
       "    }\n",
       "\n",
       "    .dataframe tbody tr th {\n",
       "        vertical-align: top;\n",
       "    }\n",
       "\n",
       "    .dataframe thead th {\n",
       "        text-align: right;\n",
       "    }\n",
       "</style>\n",
       "<table border=\"1\" class=\"dataframe\">\n",
       "  <thead>\n",
       "    <tr style=\"text-align: right;\">\n",
       "      <th></th>\n",
       "      <th>uid</th>\n",
       "      <th>country</th>\n",
       "      <th>joined_at</th>\n",
       "      <th>paid_at</th>\n",
       "      <th>revenue</th>\n",
       "      <th>payment_id</th>\n",
       "      <th>from_page</th>\n",
       "      <th>product_type</th>\n",
       "    </tr>\n",
       "  </thead>\n",
       "  <tbody>\n",
       "    <tr>\n",
       "      <th>65</th>\n",
       "      <td>960936960</td>\n",
       "      <td>Russian Federation</td>\n",
       "      <td>2015-01-19 11:49:00</td>\n",
       "      <td>2016-12-14 17:30:00</td>\n",
       "      <td>26.0</td>\n",
       "      <td>0</td>\n",
       "      <td>refund_VP</td>\n",
       "      <td>other_type</td>\n",
       "    </tr>\n",
       "    <tr>\n",
       "      <th>101</th>\n",
       "      <td>960936960</td>\n",
       "      <td>Russian Federation</td>\n",
       "      <td>2015-01-19 11:49:00</td>\n",
       "      <td>2016-12-14 17:35:00</td>\n",
       "      <td>637.0</td>\n",
       "      <td>0</td>\n",
       "      <td>refung_AP</td>\n",
       "      <td>other_type</td>\n",
       "    </tr>\n",
       "    <tr>\n",
       "      <th>224</th>\n",
       "      <td>960936960</td>\n",
       "      <td>Russian Federation</td>\n",
       "      <td>2015-01-19 11:49:00</td>\n",
       "      <td>2016-12-14 16:16:00</td>\n",
       "      <td>143.0</td>\n",
       "      <td>0</td>\n",
       "      <td>refund_WP</td>\n",
       "      <td>other_type</td>\n",
       "    </tr>\n",
       "  </tbody>\n",
       "</table>\n",
       "</div>"
      ],
      "text/plain": [
       "           uid             country           joined_at             paid_at  \\\n",
       "65   960936960  Russian Federation 2015-01-19 11:49:00 2016-12-14 17:30:00   \n",
       "101  960936960  Russian Federation 2015-01-19 11:49:00 2016-12-14 17:35:00   \n",
       "224  960936960  Russian Federation 2015-01-19 11:49:00 2016-12-14 16:16:00   \n",
       "\n",
       "     revenue  payment_id  from_page product_type  \n",
       "65      26.0           0  refund_VP   other_type  \n",
       "101    637.0           0  refung_AP   other_type  \n",
       "224    143.0           0  refund_WP   other_type  "
      ]
     },
     "execution_count": 106,
     "metadata": {},
     "output_type": "execute_result"
    }
   ],
   "source": [
    "transactions_control_1.query('joined_at < \"2017-01-11\"')"
   ]
  },
  {
   "cell_type": "code",
   "execution_count": 107,
   "id": "0378ee07-65e4-4e7d-8e47-c821755cc95a",
   "metadata": {},
   "outputs": [],
   "source": [
    "# Удалим пользователя 960936960 из обоих групп \n",
    "transactions_control_1 = transactions_control_1.query('uid != \"960936960.0\"')\n",
    "users_control_1        = users_control_1.query('uid != \"960936960\"')"
   ]
  },
  {
   "cell_type": "markdown",
   "id": "7bcf9e4b-4331-4eca-b503-bc7a53bc3194",
   "metadata": {
    "jp-MarkdownHeadingCollapsed": true
   },
   "source": [
    "##### **Выбираем необходимые страны и пользователей.**\n",
    "Составим список стран, присутствующих во всех датасетах users_* и transactions_* (так как изменения затронули премиум пользователей). \n",
    "\n",
    "Будем считать, что эксперимент проводился именно в этих странах."
   ]
  },
  {
   "cell_type": "code",
   "execution_count": 108,
   "id": "27da661b-f6ce-407f-8fd0-7c7bd50f683a",
   "metadata": {},
   "outputs": [],
   "source": [
    "country_ls = list(transactions_test \\\n",
    "                       .query('country in @transactions_control_1.country.unique()     \\\n",
    "                               and country in @transactions_control_2.country.unique() \\\n",
    "                               and country in @users_control_1.country.unique()        \\\n",
    "                               and country in @users_control_2.country.unique()        \\\n",
    "                               and country in @users_test.country.unique()') \\\n",
    "                       .country.unique())"
   ]
  },
  {
   "cell_type": "markdown",
   "id": "c6e31151-5c16-452e-ae64-508fc3ab316c",
   "metadata": {},
   "source": [
    "Оставляем только те записи пользователей, которые принадлежат этим странам"
   ]
  },
  {
   "cell_type": "code",
   "execution_count": 110,
   "id": "64d43ce0-7fa8-43f9-9a18-a6b3cf41d64f",
   "metadata": {},
   "outputs": [],
   "source": [
    "users_test             = users_test.query('country in @country_ls')\n",
    "users_control_1        = users_control_1.query('country in @country_ls')\n",
    "users_control_2        = users_control_2.query('country in @country_ls')\n",
    "\n",
    "transactions_test      = transactions_test.query('country in @country_ls')\n",
    "transactions_control_1 = transactions_control_1.query('country in @country_ls')\n",
    "transactions_control_2 = transactions_control_2.query('country in @country_ls')"
   ]
  },
  {
   "cell_type": "markdown",
   "id": "f2a36739-2128-422c-9786-1e1e070667b3",
   "metadata": {
    "jp-MarkdownHeadingCollapsed": true
   },
   "source": [
    "##### Выбираем **две нужные платежные системы**. \n",
    "\n",
    "Ищем записи в датасетах transaction_*, где указана премиум подписка (premium_no_trial), так как изменения касаются именно стоимости премиум подписки."
   ]
  },
  {
   "cell_type": "code",
   "execution_count": 111,
   "id": "94612150-2b4e-4537-aee8-ee969e227ba4",
   "metadata": {},
   "outputs": [
    {
     "data": {
      "text/plain": [
       "payment_id\n",
       "147    61\n",
       "68     12\n",
       "0       1\n",
       "Name: count, dtype: int64"
      ]
     },
     "execution_count": 111,
     "metadata": {},
     "output_type": "execute_result"
    }
   ],
   "source": [
    "transactions_test.query('product_type == \"premium_no_trial\"').payment_id.value_counts()"
   ]
  },
  {
   "cell_type": "code",
   "execution_count": 112,
   "id": "1ab9a428-40e4-45b6-bb68-af051ca6c639",
   "metadata": {},
   "outputs": [
    {
     "data": {
      "text/plain": [
       "payment_id\n",
       "147    85\n",
       "68     16\n",
       "0       2\n",
       "Name: count, dtype: int64"
      ]
     },
     "execution_count": 112,
     "metadata": {},
     "output_type": "execute_result"
    }
   ],
   "source": [
    "transactions_control_1.query('product_type == \"premium_no_trial\"').payment_id.value_counts()"
   ]
  },
  {
   "cell_type": "code",
   "execution_count": 113,
   "id": "43fc2252-c829-4e7a-a8e8-ddbffefe92dc",
   "metadata": {},
   "outputs": [
    {
     "data": {
      "text/plain": [
       "payment_id\n",
       "147    88\n",
       "68     11\n",
       "0       1\n",
       "Name: count, dtype: int64"
      ]
     },
     "execution_count": 113,
     "metadata": {},
     "output_type": "execute_result"
    }
   ],
   "source": [
    "transactions_control_2.query('product_type == \"premium_no_trial\"').payment_id.value_counts()"
   ]
  },
  {
   "cell_type": "markdown",
   "id": "218f3a22-2e12-42fa-a5e1-e24ea31354d7",
   "metadata": {},
   "source": [
    "**Платежная система 0** содержит всего 4 записи, поэтому **исключаем эту систему**, так как по условию должны остаться только две платежные системы — **147 и 68**."
   ]
  },
  {
   "cell_type": "code",
   "execution_count": 114,
   "id": "9aa9a4af-4094-41b6-9e56-f3e562c1fc4f",
   "metadata": {},
   "outputs": [],
   "source": [
    "# Выбираем транзакции с платежными системами 147 и 68\n",
    "transactions_test      = transactions_test.query     ('payment_id == 147 or payment_id == 68')\n",
    "transactions_control_1 = transactions_control_1.query('payment_id == 147 or payment_id == 68')\n",
    "transactions_control_2 = transactions_control_2.query('payment_id == 147 or payment_id == 68')"
   ]
  },
  {
   "cell_type": "markdown",
   "id": "2e62c1d5-db27-4a9c-a7fb-9eb4aeb63eba",
   "metadata": {},
   "source": [
    "Также отберем только подходящих пользователей, чтобы соответствовать всем условиям эксперимента, так как изменения затронули только платящих пользователей"
   ]
  },
  {
   "cell_type": "code",
   "execution_count": 115,
   "id": "f125424d-cae1-478f-9f76-d20a8fa6b957",
   "metadata": {},
   "outputs": [],
   "source": [
    "users_test      = users_test.query('uid in @transactions_test.uid.unique()')\n",
    "users_control_1 = users_control_1.query('uid in @transactions_control_1.uid.unique()')\n",
    "users_control_2 = users_control_2.query('uid in @transactions_control_2.uid.unique()')"
   ]
  },
  {
   "cell_type": "markdown",
   "id": "1856b489-a28a-423b-9d7f-7165b4d56ecc",
   "metadata": {},
   "source": [
    "###### Соотношение оставшихся пользователей:"
   ]
  },
  {
   "cell_type": "code",
   "execution_count": 120,
   "id": "31eccc15-b97e-4ccd-93d2-9d2a123c33e5",
   "metadata": {},
   "outputs": [
    {
     "data": {
      "text/plain": [
       "29.06"
      ]
     },
     "execution_count": 120,
     "metadata": {},
     "output_type": "execute_result"
    }
   ],
   "source": [
    "# Процент тестовой группы\n",
    "round(users_test.shape[0]/(users_control_1.shape[0] + users_control_2.shape[0] + users_test.shape[0])*100, 2)"
   ]
  },
  {
   "cell_type": "code",
   "execution_count": 121,
   "id": "c4d984ef-6a56-4c81-9a47-180b03aba816",
   "metadata": {},
   "outputs": [
    {
     "data": {
      "text/plain": [
       "37.53"
      ]
     },
     "execution_count": 121,
     "metadata": {},
     "output_type": "execute_result"
    }
   ],
   "source": [
    "# Процент 1-ой контрольной группы\n",
    "round(users_control_1.shape[0]/(users_control_1.shape[0] + users_control_2.shape[0] + users_test.shape[0])*100, 2)"
   ]
  },
  {
   "cell_type": "code",
   "execution_count": 122,
   "id": "9ede03aa-c917-4747-babe-0a070ce09173",
   "metadata": {},
   "outputs": [
    {
     "data": {
      "text/plain": [
       "33.41"
      ]
     },
     "execution_count": 122,
     "metadata": {},
     "output_type": "execute_result"
    }
   ],
   "source": [
    "# Процент 2-ой контрольной группы\n",
    "round(users_control_2.shape[0]/(users_control_1.shape[0] + users_control_2.shape[0] + users_test.shape[0])*100, 2)"
   ]
  },
  {
   "cell_type": "markdown",
   "id": "5888bb89-e514-4a26-85f5-fe3cff286ec0",
   "metadata": {},
   "source": [
    "#### Для подтверждения равного распределения пользователей между группами проведем **статистический анализ**."
   ]
  },
  {
   "cell_type": "markdown",
   "id": "1aac0adf-18bc-41d9-acb0-5a9ccc5edd6b",
   "metadata": {},
   "source": [
    "Применяем критерий хи-квадрат для сравнения ожидаемых и наблюдаемых частот:\n",
    "- $H_0$: ожидаемые и наблюдаемые частоты в группах статистически не различаются  (p-value > 0.05)\n",
    "- $H_1$: ожидаемые и наблюдаемые частоты в группах статистически значимо различаются"
   ]
  },
  {
   "cell_type": "code",
   "execution_count": 123,
   "id": "ea7214ee-9af2-43ea-a81b-fe36aa2f398e",
   "metadata": {},
   "outputs": [
    {
     "data": {
      "text/plain": [
       "Power_divergenceResult(statistic=4.700228832951947, pvalue=0.09535825103631365)"
      ]
     },
     "execution_count": 123,
     "metadata": {},
     "output_type": "execute_result"
    }
   ],
   "source": [
    "obs     = [users_test.shape[0], \\\n",
    "           users_control_1.shape[0], \\\n",
    "           users_control_2.shape[0]]\n",
    "obs_sum = sum(obs)\n",
    "exp     = [obs_sum / 3, obs_sum / 3,  obs_sum / 3]\n",
    "\n",
    "ss.chisquare(obs, f_exp = exp)"
   ]
  },
  {
   "cell_type": "markdown",
   "id": "861e4e4e-0b27-4614-ab44-93e8aa5c916c",
   "metadata": {},
   "source": [
    "**p-value > 0.05, нулевую гипотезу не отклоняем, то есть размеры выборок в контрольной и тестовой группах статистически значимо не различаются.**"
   ]
  },
  {
   "cell_type": "markdown",
   "id": "19f8bac7-11cd-45a2-956f-bebfa4cdb437",
   "metadata": {},
   "source": [
    "Как **результат** были отобраны:\n",
    "    \n",
    "    новые пользователи (с одинаковой минимальной датой регистрации) \n",
    "    из определённых стран (общие страны во всех датасетах), \n",
    "    которые использовали две платежные системы (147 и 68 — общие системы для всех групп с оплатой премиум подписки)."
   ]
  },
  {
   "cell_type": "markdown",
   "id": "3321e47f-df9a-44af-a5cb-2eaccab49215",
   "metadata": {
    "jp-MarkdownHeadingCollapsed": true
   },
   "source": [
    "## **2. Оценка репрезентативности выборки**"
   ]
  },
  {
   "cell_type": "markdown",
   "id": "7b5cd8a0-d911-436e-bebe-2226ec5ba2ec",
   "metadata": {},
   "source": [
    "Изучим наши данные по выбранным признакам, чтобы убедиться в репрезентативности выборок для последующего проведения А/А/В тестов, а также сделать предварительные выводы."
   ]
  },
  {
   "cell_type": "code",
   "execution_count": 124,
   "id": "ea702e3a-b74c-45f6-984e-3167bdd165b5",
   "metadata": {},
   "outputs": [],
   "source": [
    "# Создание в датафреймах колонки с названием группы\n",
    "users_test['group']      = 'test'\n",
    "users_control_1['group'] = 'control_1'\n",
    "users_control_2['group'] = 'control_2'\n",
    "\n",
    "transactions_test['group']      = 'test'\n",
    "transactions_control_1['group'] = 'control_1'\n",
    "transactions_control_1['group'] = 'control_2'"
   ]
  },
  {
   "cell_type": "code",
   "execution_count": 125,
   "id": "b8a2bb47-9cbb-40bd-a11d-517f6b6550a9",
   "metadata": {},
   "outputs": [],
   "source": [
    "# Объединение датафреймов (для удобства последующей работы)\n",
    "users_merged        = pd.concat([users_test, users_control_1, users_control_2])\n",
    "transactions_merged = pd.concat([transactions_test, transactions_control_1, transactions_control_2])"
   ]
  },
  {
   "cell_type": "markdown",
   "id": "5908d184-ac80-4756-927f-0aaf901e7abe",
   "metadata": {
    "jp-MarkdownHeadingCollapsed": true
   },
   "source": [
    "##### Распределение пользователей по возрасту"
   ]
  },
  {
   "cell_type": "code",
   "execution_count": 188,
   "id": "a26b116d-68c3-4fc4-afa8-522a982d14e5",
   "metadata": {},
   "outputs": [
    {
     "data": {
      "image/png": "[encoded data removed]",
      "text/plain": [
       "<Figure size 1200x400 with 3 Axes>"
      ]
     },
     "metadata": {},
     "output_type": "display_data"
    }
   ],
   "source": [
    "fig, axes = plt.subplots(nrows = 1, ncols = 3, figsize = (12, 4))\n",
    "\n",
    "sns.histplot(x = users_test.age, ax = axes[0])\n",
    "axes[0].set(title = 'Тестовая группа')\n",
    "\n",
    "sns.histplot(x = users_control_1.age, ax = axes[1])\n",
    "axes[1].set(title = '1-ая контрольная группа', ylabel = '')\n",
    "\n",
    "sns.histplot(x = users_control_2.age, ax = axes[2])\n",
    "axes[2].set(title = '2-ая контрольная группа', ylabel = '')\n",
    "\n",
    "# Найдем максимальное значение плотности (или частоты) по оси Y для всех графиков\n",
    "max_y = max(\n",
    "            axes[0].get_ylim()[1],  # Максимум по Y для первого графика\n",
    "            axes[1].get_ylim()[1],  # Максимум по Y для второго графика\n",
    "            axes[2].get_ylim()[1]   # Максимум по Y для третьего графика\n",
    "           )\n",
    "# Устанавливаем одинаковый предел для оси Y на всех графиках\n",
    "for ax in axes:\n",
    "    ax.set_ylim(0, max_y)\n",
    "\n",
    "sns.despine()      # Убираем лишние элементы и сообщения о вычислениях\n",
    "plt.tight_layout() # Выравниваем графики\n",
    "plt.show()         # Показываем графики"
   ]
  },
  {
   "cell_type": "markdown",
   "id": "57808561-b70b-42a1-8ab6-2e50debfe55d",
   "metadata": {
    "jp-MarkdownHeadingCollapsed": true
   },
   "source": [
    "##### Средние и медианные значения возраста по группам"
   ]
  },
  {
   "cell_type": "markdown",
   "id": "9d5a1f78-1876-4b16-9e6d-ceaf50bb3aa1",
   "metadata": {
    "jp-MarkdownHeadingCollapsed": true
   },
   "source": [
    "###### По пользователям в тестовой группе:"
   ]
  },
  {
   "cell_type": "code",
   "execution_count": 131,
   "id": "1a29ff14-2e1d-4a7d-ac1a-6f5155c38242",
   "metadata": {},
   "outputs": [
    {
     "name": "stdout",
     "output_type": "stream",
     "text": [
      "Возрастной показатель по пользователям в тестовой группе:\n",
      "средний возраст   = 32.835\n",
      "медианный возраст = 33.0\n"
     ]
    }
   ],
   "source": [
    "print(f'''Возрастной показатель по пользователям в тестовой группе:\n",
    "средний возраст   = {round(users_test.age.mean(),3)}\n",
    "медианный возраст = {round(users_test.age.median(),3)}''')"
   ]
  },
  {
   "cell_type": "markdown",
   "id": "7843b2c9-35b9-47c7-92e8-6eff4a5d1294",
   "metadata": {
    "jp-MarkdownHeadingCollapsed": true
   },
   "source": [
    "###### По пользователям в 1-ой контрольной группе:"
   ]
  },
  {
   "cell_type": "code",
   "execution_count": 136,
   "id": "917a3271-e5ba-4e30-b835-cdf4352ce524",
   "metadata": {},
   "outputs": [
    {
     "name": "stdout",
     "output_type": "stream",
     "text": [
      "Возрастной показатель по пользователям в 1-ой контрольной группе:\n",
      "средний возраст   = 31.793\n",
      "медианный возраст = 29.0\n"
     ]
    }
   ],
   "source": [
    "print(f'''Возрастной показатель по пользователям в 1-ой контрольной группе:\n",
    "средний возраст   = {round(users_control_1.age.mean(),3)}\n",
    "медианный возраст = {round(users_control_1.age.median(),3)}''')"
   ]
  },
  {
   "cell_type": "markdown",
   "id": "36041efb-9ad3-4dde-8912-1547b3a859b6",
   "metadata": {
    "jp-MarkdownHeadingCollapsed": true
   },
   "source": [
    "###### По пользователям во 2-ой контрольной группе:"
   ]
  },
  {
   "cell_type": "code",
   "execution_count": 134,
   "id": "9ef28735-03e8-495d-b209-90486e673317",
   "metadata": {},
   "outputs": [
    {
     "name": "stdout",
     "output_type": "stream",
     "text": [
      "Возрастной показатель по пользователям во 2-ой контрольной группе:\n",
      "средний возраст   = 31.473\n",
      "медианный возраст = 30.0\n"
     ]
    }
   ],
   "source": [
    "print(f'''Возрастной показатель по пользователям во 2-ой контрольной группе:\n",
    "средний возраст   = {round(users_control_2.age.mean(),3)}\n",
    "медианный возраст = {round(users_control_2.age.median(),3)}''')"
   ]
  },
  {
   "cell_type": "markdown",
   "id": "58c5c8e8-7109-4f3c-a8fc-2b70a744d2d0",
   "metadata": {
    "jp-MarkdownHeadingCollapsed": true
   },
   "source": [
    "##### Проверка группы на **гомоскедастичность**:\n",
    "\n",
    "- $H_0$: equal_var = True - дисперсии равны, \n",
    "- $H_1$: дисперсии различны\n",
    "\n",
    "\n",
    "Гомоскедастичность — когда разброс ошибок модели одинаковый для всех значений. Т.е. ошибки не становятся больше или меньше в зависимости от предсказанных значений."
   ]
  },
  {
   "cell_type": "code",
   "execution_count": 137,
   "id": "2c8062ef-bf0f-4422-b7d7-d224bad8968d",
   "metadata": {},
   "outputs": [
    {
     "data": {
      "text/html": [
       "<div>\n",
       "<style scoped>\n",
       "    .dataframe tbody tr th:only-of-type {\n",
       "        vertical-align: middle;\n",
       "    }\n",
       "\n",
       "    .dataframe tbody tr th {\n",
       "        vertical-align: top;\n",
       "    }\n",
       "\n",
       "    .dataframe thead th {\n",
       "        text-align: right;\n",
       "    }\n",
       "</style>\n",
       "<table border=\"1\" class=\"dataframe\">\n",
       "  <thead>\n",
       "    <tr style=\"text-align: right;\">\n",
       "      <th></th>\n",
       "      <th>W</th>\n",
       "      <th>pval</th>\n",
       "      <th>equal_var</th>\n",
       "    </tr>\n",
       "  </thead>\n",
       "  <tbody>\n",
       "    <tr>\n",
       "      <th>levene</th>\n",
       "      <td>0.107369</td>\n",
       "      <td>0.898218</td>\n",
       "      <td>True</td>\n",
       "    </tr>\n",
       "  </tbody>\n",
       "</table>\n",
       "</div>"
      ],
      "text/plain": [
       "               W      pval  equal_var\n",
       "levene  0.107369  0.898218       True"
      ]
     },
     "execution_count": 137,
     "metadata": {},
     "output_type": "execute_result"
    }
   ],
   "source": [
    "pg.homoscedasticity(data = users_merged, dv = 'age', group = 'group')"
   ]
  },
  {
   "cell_type": "markdown",
   "id": "1ce05a4f-2d82-4c8b-b0f5-04076128d976",
   "metadata": {},
   "source": [
    "Тест на гомоскедастичность показал, что дисперсии в группах статистически не отличаются =>  анализ основных предположений линейной регрессии не нарушает."
   ]
  },
  {
   "cell_type": "markdown",
   "id": "b99c0368-f13c-45c9-8927-958d05adcdf9",
   "metadata": {},
   "source": [
    "##### Так как у нас 3 группы с количественными переменными - сравним их распределения с помощью критерия Краскела-Уоллиса:\n",
    "\n",
    "- $H_0$: между распределениями возраста в тестовой и контрольных группах нет статистически значимых различий (p-value > 0.05)\n",
    "- $H_1$: между распределениями возраста в тестовой и контрольных группах есть статистически значимые различия."
   ]
  },
  {
   "cell_type": "code",
   "execution_count": 139,
   "id": "c4d2a2b8-9e3d-4bd2-af14-0bae06456d60",
   "metadata": {},
   "outputs": [
    {
     "data": {
      "text/plain": [
       "KruskalResult(statistic=1.8616835221800525, pvalue=0.39422173015390216)"
      ]
     },
     "execution_count": 139,
     "metadata": {},
     "output_type": "execute_result"
    }
   ],
   "source": [
    "kruskal(users_merged.query('group == \"test\"').age, users_merged.query('group == \"control_1\"').age, users_merged.query('group == \"control_2\"').age)"
   ]
  },
  {
   "cell_type": "markdown",
   "id": "b4069ac2-cf51-451c-bd1c-e9428c76243d",
   "metadata": {},
   "source": [
    "Согласно статистике (p-value > 0.05), мы не можем отклонить нулевую гипотезу об отсутствии различий в распределениях возраста между тестовой и контрольными группами. \n",
    "\n",
    "Это позволяет нам считать возрастное распределение в группах одинаковым, что подтверждает репрезентативность выборок по данному признаку ✅\n",
    "\n",
    "Основная возрастная категория — молодежь (25-35 лет), средний возраст пользователей составляет 32 года."
   ]
  },
  {
   "cell_type": "markdown",
   "id": "d935ebd4-9525-48d4-a531-7b2e94c7ee2a",
   "metadata": {
    "jp-MarkdownHeadingCollapsed": true
   },
   "source": [
    "##### Распределение пользователей в зависимости от коэффициента привлекательности attraction_coeff"
   ]
  },
  {
   "cell_type": "code",
   "execution_count": 148,
   "id": "280f40cd-b02b-45f7-9dec-c8e0ab726e6a",
   "metadata": {},
   "outputs": [
    {
     "data": {
      "image/png": "[encoded data removed]",
      "text/plain": [
       "<Figure size 1200x400 with 3 Axes>"
      ]
     },
     "metadata": {},
     "output_type": "display_data"
    }
   ],
   "source": [
    "# Распределение пользователей в зависимости от коэффициента привлекательности attraction_coeff (от 0 до 1000, лайки / просмотры * 1000)\n",
    "fig, axes = plt.subplots(nrows=1, ncols=3, figsize=(12, 4))\n",
    "\n",
    "# Строим гистограммы для разных групп\n",
    "sns.histplot(x=users_test.attraction_coeff, ax=axes[0])\n",
    "axes[0].set(title='Тестовая группа')\n",
    "\n",
    "sns.histplot(x=users_control_1.attraction_coeff, ax=axes[1])\n",
    "axes[1].set(title='1-ая контрольная группа', ylabel='')\n",
    "\n",
    "sns.histplot(x=users_control_2.attraction_coeff, ax=axes[2])\n",
    "axes[2].set(title='2-ая контрольная группа', ylabel='')\n",
    "\n",
    "# Найдем максимальное значение плотности (или частоты) по оси Y для всех графиков\n",
    "max_y = max(\n",
    "            axes[0].get_ylim()[1],  # Максимум по Y для первого графика\n",
    "            axes[1].get_ylim()[1],  # Максимум по Y для второго графика\n",
    "            axes[2].get_ylim()[1]   # Максимум по Y для третьего графика\n",
    "           )\n",
    "# Устанавливаем одинаковый предел для оси Y на всех графиках\n",
    "for ax in axes:\n",
    "    ax.set_ylim(0, max_y)\n",
    "\n",
    "sns.despine()      # Убираем лишние элементы и сообщения о вычислениях\n",
    "plt.tight_layout() # Выравниваем графики\n",
    "plt.show()         # Показываем графики"
   ]
  },
  {
   "cell_type": "code",
   "execution_count": 151,
   "id": "d43e4fb5-c0ef-4dca-bc06-fa6cd2c33cd8",
   "metadata": {},
   "outputs": [
    {
     "data": {
      "text/plain": [
       "353.13385826771656"
      ]
     },
     "execution_count": 151,
     "metadata": {},
     "output_type": "execute_result"
    }
   ],
   "source": [
    "# Посмотрим на средние значения \n",
    "users_test.attraction_coeff.mean()"
   ]
  },
  {
   "cell_type": "markdown",
   "id": "e7735939-ffc7-44b8-8814-a0d90f4da7c9",
   "metadata": {
    "jp-MarkdownHeadingCollapsed": true
   },
   "source": [
    "##### Средние и медианные значения коэффициента привлекательности по группам"
   ]
  },
  {
   "cell_type": "markdown",
   "id": "e31f774a-3903-473d-8e68-1dfc5d0a678a",
   "metadata": {
    "jp-MarkdownHeadingCollapsed": true
   },
   "source": [
    "###### По пользователям в тестовой группе:"
   ]
  },
  {
   "cell_type": "code",
   "execution_count": 153,
   "id": "d0559fec-c8e2-4edd-9a12-6d9496bdc040",
   "metadata": {},
   "outputs": [
    {
     "name": "stdout",
     "output_type": "stream",
     "text": [
      "Показатель коэффициента привлекательности по пользователям в тестовой группе:\n",
      "средний   = 353.134\n",
      "медианный = 328.0\n"
     ]
    }
   ],
   "source": [
    "print(f'''Показатель коэффициента привлекательности по пользователям в тестовой группе:\n",
    "средний   = {round(users_test.attraction_coeff.mean(),3)}\n",
    "медианный = {round(users_test.attraction_coeff.median(),3)}''')"
   ]
  },
  {
   "cell_type": "markdown",
   "id": "72eb2857-9bcd-4369-9bdc-533bcc103d74",
   "metadata": {
    "jp-MarkdownHeadingCollapsed": true
   },
   "source": [
    "###### По пользователям в 1-ой контрольной группе:"
   ]
  },
  {
   "cell_type": "code",
   "execution_count": 154,
   "id": "7816f109-c401-4398-b303-9ab7fbd56bf4",
   "metadata": {},
   "outputs": [
    {
     "name": "stdout",
     "output_type": "stream",
     "text": [
      "Показатель коэффициента привлекательности по пользователям в 1-ой контрольной группе:\n",
      "средний   = 339.622\n",
      "медианный = 298.0\n"
     ]
    }
   ],
   "source": [
    "print(f'''Показатель коэффициента привлекательности по пользователям в 1-ой контрольной группе:\n",
    "средний   = {round(users_control_1.attraction_coeff.mean(),3)}\n",
    "медианный = {round(users_control_1.attraction_coeff.median(),3)}''')"
   ]
  },
  {
   "cell_type": "markdown",
   "id": "f15bdcd4-abe7-4fa9-a0b3-2322544c9ad8",
   "metadata": {},
   "source": [
    "###### По пользователям во 2-ой контрольной группе:"
   ]
  },
  {
   "cell_type": "code",
   "execution_count": 155,
   "id": "ecadc05e-4cf8-421e-9ba9-e68515953c55",
   "metadata": {},
   "outputs": [
    {
     "name": "stdout",
     "output_type": "stream",
     "text": [
      "Показатель коэффициента привлекательности по пользователям во 2-ой контрольной группе:\n",
      "средний   = 381.726\n",
      "медианный = 323.5\n"
     ]
    }
   ],
   "source": [
    "print(f'''Показатель коэффициента привлекательности по пользователям во 2-ой контрольной группе:\n",
    "средний   = {round(users_control_2.attraction_coeff.mean(),3)}\n",
    "медианный = {round(users_control_2.attraction_coeff.median(),3)}''')"
   ]
  },
  {
   "cell_type": "markdown",
   "id": "b1f32b02-d647-4fef-a921-bc4de02b76f8",
   "metadata": {
    "jp-MarkdownHeadingCollapsed": true
   },
   "source": [
    "##### Проверка на гомоскедастичность"
   ]
  },
  {
   "cell_type": "code",
   "execution_count": 156,
   "id": "642db6da-adc1-4441-bc2f-984140076683",
   "metadata": {},
   "outputs": [
    {
     "data": {
      "text/html": [
       "<div>\n",
       "<style scoped>\n",
       "    .dataframe tbody tr th:only-of-type {\n",
       "        vertical-align: middle;\n",
       "    }\n",
       "\n",
       "    .dataframe tbody tr th {\n",
       "        vertical-align: top;\n",
       "    }\n",
       "\n",
       "    .dataframe thead th {\n",
       "        text-align: right;\n",
       "    }\n",
       "</style>\n",
       "<table border=\"1\" class=\"dataframe\">\n",
       "  <thead>\n",
       "    <tr style=\"text-align: right;\">\n",
       "      <th></th>\n",
       "      <th>W</th>\n",
       "      <th>pval</th>\n",
       "      <th>equal_var</th>\n",
       "    </tr>\n",
       "  </thead>\n",
       "  <tbody>\n",
       "    <tr>\n",
       "      <th>levene</th>\n",
       "      <td>2.508938</td>\n",
       "      <td>0.082534</td>\n",
       "      <td>True</td>\n",
       "    </tr>\n",
       "  </tbody>\n",
       "</table>\n",
       "</div>"
      ],
      "text/plain": [
       "               W      pval  equal_var\n",
       "levene  2.508938  0.082534       True"
      ]
     },
     "execution_count": 156,
     "metadata": {},
     "output_type": "execute_result"
    }
   ],
   "source": [
    "pg.homoscedasticity(data = users_merged, dv = 'attraction_coeff', group = 'group')"
   ]
  },
  {
   "cell_type": "markdown",
   "id": "120a535e-e65e-41d2-9bec-6508e363fae7",
   "metadata": {},
   "source": [
    "##### Так как у нас 3 группы с количественными переменными - сравним их распределения с помощью критерия Краскела-Уоллиса:\n",
    "\n",
    "- $H_0$: между распределениями коэффициента привлекательности в тестовой и контрольных группах нет статистически значимых различий (p-value > 0.05)\n",
    "- $H_1$: между распределениями коэффициента привлекательности в тестовой и контрольных группах есть статистически значимые различия."
   ]
  },
  {
   "cell_type": "code",
   "execution_count": 157,
   "id": "c76bacf7-6cb5-40ae-84b8-695c9a51bf29",
   "metadata": {},
   "outputs": [
    {
     "data": {
      "text/plain": [
       "KruskalResult(statistic=1.3258233628683038, pvalue=0.5153486168360484)"
      ]
     },
     "execution_count": 157,
     "metadata": {},
     "output_type": "execute_result"
    }
   ],
   "source": [
    "kruskal(users_merged.query('group == \"test\"').attraction_coeff, users_merged.query('group == \"control_1\"').attraction_coeff, users_merged.query('group == \"control_2\"').attraction_coeff)"
   ]
  },
  {
   "cell_type": "markdown",
   "id": "678c702f-b1f8-4e71-b396-7550dfab3df3",
   "metadata": {},
   "source": [
    "Средний коэффициент привлекательности пользователей в группах составляет от 340 до 382 (максимум — 1000).\n",
    "\n",
    "Согласно статистике (p-value > 0.05), мы не можем отклонить нулевую гипотезу об отсутствии различий в распределениях коэффициента привлекательности между тестовой и контрольными группами. Это позволяет нам считать распределения в группах одинаковыми, что подтверждает репрезентативность выборок по данному признаку ✅"
   ]
  },
  {
   "cell_type": "markdown",
   "id": "334a286c-94e7-4b10-98cd-bade1886e837",
   "metadata": {
    "jp-MarkdownHeadingCollapsed": true
   },
   "source": [
    "##### Распределение пользователей в зависимости от количества внутренней валюты (coins)"
   ]
  },
  {
   "cell_type": "code",
   "execution_count": 161,
   "id": "fc265ebe-faf3-4daf-bc87-ec80d3f008f3",
   "metadata": {},
   "outputs": [
    {
     "data": {
      "image/png": "[encoded data removed]",
      "text/plain": [
       "<Figure size 1200x400 with 3 Axes>"
      ]
     },
     "metadata": {},
     "output_type": "display_data"
    }
   ],
   "source": [
    "fig, axes = plt.subplots(nrows = 1, ncols = 3, figsize = (12, 4))\n",
    "\n",
    "sns.boxplot(y = users_test.coins, ax = axes[0])\n",
    "axes[0].set(title = 'Тестовая группа')\n",
    "\n",
    "sns.boxplot(y = users_control_1.coins, ax = axes[1])\n",
    "axes[1].set(title = '1-ая контрольная группа', ylabel = '')\n",
    "\n",
    "sns.boxplot(y = users_control_2.coins, ax = axes[2])\n",
    "axes[2].set(title = '2-ая контрольная группа', ylabel ='')\n",
    "\n",
    "sns.despine()      # Убираем лишние элементы и сообщения о вычислениях\n",
    "plt.tight_layout() # Выравниваем графики\n",
    "plt.show()         # Показываем графики"
   ]
  },
  {
   "cell_type": "markdown",
   "id": "dcf49c22-f881-4f2f-93b8-64a617824baf",
   "metadata": {},
   "source": [
    "В **1-ой контрольной группе** есть **выброс** - изучим:"
   ]
  },
  {
   "cell_type": "code",
   "execution_count": 162,
   "id": "12a118eb-b3ed-47c9-867a-1fd65b3a4d18",
   "metadata": {},
   "outputs": [
    {
     "data": {
      "text/html": [
       "<div>\n",
       "<style scoped>\n",
       "    .dataframe tbody tr th:only-of-type {\n",
       "        vertical-align: middle;\n",
       "    }\n",
       "\n",
       "    .dataframe tbody tr th {\n",
       "        vertical-align: top;\n",
       "    }\n",
       "\n",
       "    .dataframe thead th {\n",
       "        text-align: right;\n",
       "    }\n",
       "</style>\n",
       "<table border=\"1\" class=\"dataframe\">\n",
       "  <thead>\n",
       "    <tr style=\"text-align: right;\">\n",
       "      <th></th>\n",
       "      <th>uid</th>\n",
       "      <th>age</th>\n",
       "      <th>attraction_coeff</th>\n",
       "      <th>coins</th>\n",
       "      <th>country</th>\n",
       "      <th>visit_days</th>\n",
       "      <th>gender</th>\n",
       "      <th>age_filter_start</th>\n",
       "      <th>age_filter_end</th>\n",
       "      <th>views_count</th>\n",
       "      <th>was_premium</th>\n",
       "      <th>is_premium</th>\n",
       "      <th>total_revenue</th>\n",
       "      <th>group</th>\n",
       "    </tr>\n",
       "  </thead>\n",
       "  <tbody>\n",
       "    <tr>\n",
       "      <th>1427</th>\n",
       "      <td>892333905</td>\n",
       "      <td>22</td>\n",
       "      <td>175</td>\n",
       "      <td>3608.0</td>\n",
       "      <td>Italy</td>\n",
       "      <td>1,2,3,4,5,6,7,15</td>\n",
       "      <td>1</td>\n",
       "      <td>19</td>\n",
       "      <td>25</td>\n",
       "      <td>575</td>\n",
       "      <td>1.0</td>\n",
       "      <td>1.0</td>\n",
       "      <td>486330</td>\n",
       "      <td>control_1</td>\n",
       "    </tr>\n",
       "  </tbody>\n",
       "</table>\n",
       "</div>"
      ],
      "text/plain": [
       "            uid  age  attraction_coeff   coins country        visit_days  \\\n",
       "1427  892333905   22               175  3608.0   Italy  1,2,3,4,5,6,7,15   \n",
       "\n",
       "      gender  age_filter_start  age_filter_end  views_count  was_premium  \\\n",
       "1427       1                19              25          575          1.0   \n",
       "\n",
       "      is_premium  total_revenue      group  \n",
       "1427         1.0         486330  control_1  "
      ]
     },
     "execution_count": 162,
     "metadata": {},
     "output_type": "execute_result"
    }
   ],
   "source": [
    "users_control_1.query('coins == coins.max()')"
   ]
  },
  {
   "cell_type": "code",
   "execution_count": 163,
   "id": "843b4acd-0ad5-469d-b5b6-d49a617d5210",
   "metadata": {},
   "outputs": [
    {
     "data": {
      "text/html": [
       "<div>\n",
       "<style scoped>\n",
       "    .dataframe tbody tr th:only-of-type {\n",
       "        vertical-align: middle;\n",
       "    }\n",
       "\n",
       "    .dataframe tbody tr th {\n",
       "        vertical-align: top;\n",
       "    }\n",
       "\n",
       "    .dataframe thead th {\n",
       "        text-align: right;\n",
       "    }\n",
       "</style>\n",
       "<table border=\"1\" class=\"dataframe\">\n",
       "  <thead>\n",
       "    <tr style=\"text-align: right;\">\n",
       "      <th></th>\n",
       "      <th>uid</th>\n",
       "      <th>country</th>\n",
       "      <th>joined_at</th>\n",
       "      <th>paid_at</th>\n",
       "      <th>revenue</th>\n",
       "      <th>payment_id</th>\n",
       "      <th>from_page</th>\n",
       "      <th>product_type</th>\n",
       "      <th>group</th>\n",
       "    </tr>\n",
       "  </thead>\n",
       "  <tbody>\n",
       "    <tr>\n",
       "      <th>143</th>\n",
       "      <td>892333905</td>\n",
       "      <td>Italy</td>\n",
       "      <td>2017-10-16 01:38:00</td>\n",
       "      <td>2017-10-16 13:10:00</td>\n",
       "      <td>63037.0</td>\n",
       "      <td>147</td>\n",
       "      <td>no_sympathy</td>\n",
       "      <td>premium_no_trial</td>\n",
       "      <td>control_2</td>\n",
       "    </tr>\n",
       "  </tbody>\n",
       "</table>\n",
       "</div>"
      ],
      "text/plain": [
       "           uid country           joined_at             paid_at  revenue  \\\n",
       "143  892333905   Italy 2017-10-16 01:38:00 2017-10-16 13:10:00  63037.0   \n",
       "\n",
       "     payment_id    from_page      product_type      group  \n",
       "143         147  no_sympathy  premium_no_trial  control_2  "
      ]
     },
     "execution_count": 163,
     "metadata": {},
     "output_type": "execute_result"
    }
   ],
   "source": [
    "transactions_control_1.query('uid == 892333905')"
   ]
  },
  {
   "cell_type": "markdown",
   "id": "b9eff16c-5ff8-41b2-a9a8-ac2b547331c7",
   "metadata": {},
   "source": [
    "Скачек наблюдается только у одного пользователя, его данные не должны существенно повлиять на результаты анализа"
   ]
  },
  {
   "cell_type": "markdown",
   "id": "78697c8b-cbd5-4184-a5a4-c0fef26433f3",
   "metadata": {
    "jp-MarkdownHeadingCollapsed": true
   },
   "source": [
    "##### Проверка на гомоскедастичность"
   ]
  },
  {
   "cell_type": "code",
   "execution_count": 166,
   "id": "ecad0108-1752-45d2-a20a-a71c95dbedd2",
   "metadata": {},
   "outputs": [
    {
     "data": {
      "text/html": [
       "<div>\n",
       "<style scoped>\n",
       "    .dataframe tbody tr th:only-of-type {\n",
       "        vertical-align: middle;\n",
       "    }\n",
       "\n",
       "    .dataframe tbody tr th {\n",
       "        vertical-align: top;\n",
       "    }\n",
       "\n",
       "    .dataframe thead th {\n",
       "        text-align: right;\n",
       "    }\n",
       "</style>\n",
       "<table border=\"1\" class=\"dataframe\">\n",
       "  <thead>\n",
       "    <tr style=\"text-align: right;\">\n",
       "      <th></th>\n",
       "      <th>W</th>\n",
       "      <th>pval</th>\n",
       "      <th>equal_var</th>\n",
       "    </tr>\n",
       "  </thead>\n",
       "  <tbody>\n",
       "    <tr>\n",
       "      <th>levene</th>\n",
       "      <td>0.547366</td>\n",
       "      <td>0.57887</td>\n",
       "      <td>True</td>\n",
       "    </tr>\n",
       "  </tbody>\n",
       "</table>\n",
       "</div>"
      ],
      "text/plain": [
       "               W     pval  equal_var\n",
       "levene  0.547366  0.57887       True"
      ]
     },
     "execution_count": 166,
     "metadata": {},
     "output_type": "execute_result"
    }
   ],
   "source": [
    "pg.homoscedasticity(data = users_merged, dv = 'coins', group = 'group')"
   ]
  },
  {
   "cell_type": "markdown",
   "id": "4c29748b-af1e-4a13-8bfc-c5ef2b9f6393",
   "metadata": {},
   "source": [
    "##### Так как у нас 3 группы с количественными переменными - сравним их распределения с помощью критерия Краскела-Уоллиса:\n",
    "\n",
    "- $H_0$: между распределениями количества внутренней валюты в тестовой и контрольных группах нет статистически значимых различий (p-value > 0.05)\n",
    "- $H_1$: между распределениями количества внутренней валюты в тестовой и контрольных группах есть статистически значимые различия."
   ]
  },
  {
   "cell_type": "code",
   "execution_count": 167,
   "id": "ccecccae-25a0-47ce-89ac-cc4be2663ba2",
   "metadata": {},
   "outputs": [
    {
     "data": {
      "text/plain": [
       "KruskalResult(statistic=1.2617925744049447, pvalue=0.5321146596513002)"
      ]
     },
     "execution_count": 167,
     "metadata": {},
     "output_type": "execute_result"
    }
   ],
   "source": [
    "kruskal(users_merged.query('group == \"test\"').coins, users_merged.query('group == \"control_1\"').coins, users_merged.query('group == \"control_2\"').coins)"
   ]
  },
  {
   "cell_type": "markdown",
   "id": "f9ca37ba-e04b-45ca-b00e-6002f4b139bc",
   "metadata": {},
   "source": [
    "Так как наше p-value > 0.05, мы не можем отвергнуть нулевую гипотезу. Это означает, что различий между распределениями количества внутренней валюты пользователей в разных группах нет, что свидетельствует о репрезентативности выборок по этому признаку ✅"
   ]
  },
  {
   "cell_type": "markdown",
   "id": "94934a3d-5f2a-4949-8707-f5500bc15ab0",
   "metadata": {
    "jp-MarkdownHeadingCollapsed": true
   },
   "source": [
    "##### Распределение пользователей в зависимости от страны "
   ]
  },
  {
   "cell_type": "code",
   "execution_count": 169,
   "id": "37b9986c-8d04-4b2a-8935-aed39706aeab",
   "metadata": {},
   "outputs": [
    {
     "data": {
      "image/png": "[encoded data removed]",
      "text/plain": [
       "<Figure size 1200x400 with 3 Axes>"
      ]
     },
     "metadata": {},
     "output_type": "display_data"
    }
   ],
   "source": [
    "fig, axes = plt.subplots(nrows=1, ncols=3, figsize=(12, 4))\n",
    "\n",
    "# Строим гистограммы для разных групп\n",
    "sns.histplot(y=users_test.country.sort_values(ascending=False), ax = axes[0])\n",
    "axes[0].set(title='Тестовая группа', ylabel='')\n",
    "\n",
    "sns.histplot(y=users_control_1.country.sort_values(ascending=False), ax = axes[1])\n",
    "axes[1].set(title='1-ая контрольная группа', ylabel='')\n",
    "\n",
    "sns.histplot(y=users_control_2.country.sort_values(ascending=False), ax = axes[2])\n",
    "axes[2].set(title='2-ая контрольная группа', ylabel='')\n",
    "\n",
    "sns.despine()      # Убираем лишние элементы и сообщения о вычислениях\n",
    "plt.tight_layout() # Выравниваем графики\n",
    "plt.show()         # Показываем графики"
   ]
  },
  {
   "cell_type": "markdown",
   "id": "0ec57065-7f78-4a66-98bd-530d1bceeceb",
   "metadata": {
    "jp-MarkdownHeadingCollapsed": true
   },
   "source": [
    "##### Сравнение распределения с помощью статистического теста"
   ]
  },
  {
   "cell_type": "markdown",
   "id": "b18b64c6-0547-4795-8f8e-6b27d5c9fdac",
   "metadata": {},
   "source": [
    "Поскольку у нас есть категориальные переменные (страна, группа пользователя) => используем тест хи-квадрат:\n",
    "\n",
    "- $H_0$: нет статистически значимой разницы между распределениями пользователей по странам в тестовой и контрольных группах (p-value > 0.05)\n",
    "- $H_1$: есть статистически значимая разница между распределениями пользователей по странам в тестовой и контрольных группах."
   ]
  },
  {
   "cell_type": "code",
   "execution_count": 170,
   "id": "da4090ac-a36b-490d-8e12-4486e58ff150",
   "metadata": {},
   "outputs": [
    {
     "data": {
      "text/plain": [
       "(21.86910075724715, 0.7873150709907116)"
      ]
     },
     "execution_count": 170,
     "metadata": {},
     "output_type": "execute_result"
    }
   ],
   "source": [
    "stat, p, dof, expected = chi2_contingency(pd.crosstab(users_merged.country, users_merged.group))\n",
    "stat, p"
   ]
  },
  {
   "cell_type": "markdown",
   "id": "8c11a49b-9d98-4a42-b029-6445269236c6",
   "metadata": {},
   "source": [
    "Распределение пользователей по странам, согласно графикам, примерно одинаково в тестовой и контрольных группах, с преобладанием пользователей из США.\n",
    "\n",
    "Согласно результатам статистического теста (p-value > 0.05), мы не смогли отклонить нулевую гипотезу. Статистически значимой разницы между распределениями пользователей по странам в тестовой и контрольных группах не обнаружено, что подтверждает репрезентативность выборок по этому признаку ✅"
   ]
  },
  {
   "cell_type": "markdown",
   "id": "c569592b-13c8-4f1a-a62a-b03c14ce06fc",
   "metadata": {
    "jp-MarkdownHeadingCollapsed": true
   },
   "source": [
    "##### Распределение пользователей в зависимости от пола"
   ]
  },
  {
   "cell_type": "code",
   "execution_count": 172,
   "id": "3d7fa628-029e-4d4b-9a43-fc4f2f333cc0",
   "metadata": {},
   "outputs": [
    {
     "data": {
      "image/png": "[encoded data removed]",
      "text/plain": [
       "<Figure size 1200x400 with 3 Axes>"
      ]
     },
     "metadata": {},
     "output_type": "display_data"
    }
   ],
   "source": [
    "fig, axes = plt.subplots(nrows=1, ncols=3, figsize=(12, 4))\n",
    "\n",
    "sns.countplot(data=users_test, x = 'gender', ax = axes[0])\n",
    "axes[0].set(title='Тестовая группа', ylabel='')\n",
    "\n",
    "sns.countplot(data=users_control_1, x = 'gender', ax = axes[1])\n",
    "axes[1].set(title='1-ая контрольная группа', ylabel='')\n",
    "\n",
    "sns.countplot(data=users_control_2, x = 'gender', ax = axes[2])\n",
    "axes[2].set(title='2-ая контрольная группа', ylabel='')\n",
    "\n",
    "# Найдем максимальное значение плотности (или частоты) по оси Y для всех графиков\n",
    "max_y = max(\n",
    "            axes[0].get_ylim()[1],  # Максимум по Y для первого графика\n",
    "            axes[1].get_ylim()[1],  # Максимум по Y для второго графика\n",
    "            axes[2].get_ylim()[1]   # Максимум по Y для третьего графика\n",
    "           )\n",
    "# Устанавливаем одинаковый предел для оси Y на всех графиках\n",
    "for ax in axes:\n",
    "    ax.set_ylim(0, max_y)\n",
    "\n",
    "sns.despine()      # Убираем лишние элементы и сообщения о вычислениях\n",
    "plt.tight_layout() # Выравниваем графики\n",
    "plt.show()         # Показываем графики"
   ]
  },
  {
   "cell_type": "markdown",
   "id": "7461dc6e-91ca-4491-89c6-7ca160358c9b",
   "metadata": {},
   "source": [
    "Распределение пользователей во всех группах примерно одинаковое, с преобладанием группы под номером 1. \n",
    "\n",
    "Скорее всего, группа 1 соответствует мужчинам, а 0 — женщинам, поскольку в дейтинг-приложениях, согласно статистике, мужской пол обычно преобладает."
   ]
  },
  {
   "cell_type": "markdown",
   "id": "28a31a0a-e7f5-4279-a061-ebad60f89845",
   "metadata": {
    "jp-MarkdownHeadingCollapsed": true
   },
   "source": [
    "##### Сравним распределения с помощью статистического теста"
   ]
  },
  {
   "cell_type": "markdown",
   "id": "795855b7-8c29-42e4-ba2c-9b5b1ce2b7eb",
   "metadata": {},
   "source": [
    "Есть категориальные переменные (пол, группа пользователя) => нужен хи-квадрат\n",
    "\n",
    "- $H_0$: нет статистически значимой разницы между распределениями пользователей по половому признаку в тестовой и контрольных группах (p-value > 0.05)\n",
    "- $H_1$: есть статистически значимая разница между распределениями пользователей по половому признаку в тестовой и контрольных группах"
   ]
  },
  {
   "cell_type": "code",
   "execution_count": 173,
   "id": "c8f27fae-54e2-4aa2-b9aa-4ee854a58589",
   "metadata": {},
   "outputs": [
    {
     "data": {
      "text/plain": [
       "(1.72669415296182, 0.4217480941477504)"
      ]
     },
     "execution_count": 173,
     "metadata": {},
     "output_type": "execute_result"
    }
   ],
   "source": [
    "stat, p, dof, expected = chi2_contingency(pd.crosstab(users_merged.gender, users_merged.group))\n",
    "stat, p"
   ]
  },
  {
   "cell_type": "markdown",
   "id": "d500b153-f72f-4f54-bad8-21af88c6a9a4",
   "metadata": {},
   "source": [
    "Согласно результатам статистического теста (p-value > 0.05), не обнаружена статистически значимая разница между распределениями пользователей по половому признаку в тестовой и контрольных группах, что подтверждает репрезентативность выборок по этому признаку ✅"
   ]
  },
  {
   "cell_type": "markdown",
   "id": "e8838633-052a-43a6-9864-35764d7c220f",
   "metadata": {
    "jp-MarkdownHeadingCollapsed": true
   },
   "source": [
    "##### Распределение числа оценок пользователей по группам"
   ]
  },
  {
   "cell_type": "code",
   "execution_count": 184,
   "id": "35b7524e-b36e-4a28-801d-24decfb5a10f",
   "metadata": {},
   "outputs": [
    {
     "data": {
      "image/png": "[encoded data removed]",
      "text/plain": [
       "<Figure size 640x480 with 1 Axes>"
      ]
     },
     "metadata": {},
     "output_type": "display_data"
    }
   ],
   "source": [
    "# Строим диаграмму\n",
    "sns.barplot(data = users_merged, x='group', y='views_count', palette='Set2') \n",
    "plt.title('Количество просмотров по группам пользователей\\n')\n",
    "\n",
    "sns.despine()      # Убираем лишние элементы и сообщения о вычислениях\n",
    "plt.tight_layout() # Выравниваем графики\n",
    "plt.show()         # Показываем графики"
   ]
  },
  {
   "cell_type": "markdown",
   "id": "cbf50786-f277-4cba-b436-67c40e440b91",
   "metadata": {
    "jp-MarkdownHeadingCollapsed": true
   },
   "source": [
    "##### Проверка на гомоскедастичность"
   ]
  },
  {
   "cell_type": "code",
   "execution_count": 185,
   "id": "05e5c5bc-2d24-4ed7-a0f1-37752163ade1",
   "metadata": {},
   "outputs": [
    {
     "data": {
      "text/html": [
       "<div>\n",
       "<style scoped>\n",
       "    .dataframe tbody tr th:only-of-type {\n",
       "        vertical-align: middle;\n",
       "    }\n",
       "\n",
       "    .dataframe tbody tr th {\n",
       "        vertical-align: top;\n",
       "    }\n",
       "\n",
       "    .dataframe thead th {\n",
       "        text-align: right;\n",
       "    }\n",
       "</style>\n",
       "<table border=\"1\" class=\"dataframe\">\n",
       "  <thead>\n",
       "    <tr style=\"text-align: right;\">\n",
       "      <th></th>\n",
       "      <th>W</th>\n",
       "      <th>pval</th>\n",
       "      <th>equal_var</th>\n",
       "    </tr>\n",
       "  </thead>\n",
       "  <tbody>\n",
       "    <tr>\n",
       "      <th>levene</th>\n",
       "      <td>1.271269</td>\n",
       "      <td>0.281518</td>\n",
       "      <td>True</td>\n",
       "    </tr>\n",
       "  </tbody>\n",
       "</table>\n",
       "</div>"
      ],
      "text/plain": [
       "               W      pval  equal_var\n",
       "levene  1.271269  0.281518       True"
      ]
     },
     "execution_count": 185,
     "metadata": {},
     "output_type": "execute_result"
    }
   ],
   "source": [
    "pg.homoscedasticity(data = users_merged, dv = 'views_count', group = 'group')"
   ]
  },
  {
   "cell_type": "markdown",
   "id": "05c3b213-8d12-4073-88f6-c0f4ba174808",
   "metadata": {
    "jp-MarkdownHeadingCollapsed": true
   },
   "source": [
    "##### Так как у нас 3 группы с количественными переменными - сравним их распределения с помощью критерия Краскела-Уоллиса:\n",
    "\n",
    "- $H_0$: нет статистически значимых различий между распределениями количества просмотров в тестовой и контрольных группах (p-value > 0.05)\n",
    "- $H_1$: есть статистически значимые различия между распределениями количества  просмотров в тестовой и контрольных группах"
   ]
  },
  {
   "cell_type": "code",
   "execution_count": 187,
   "id": "731a7477-d52f-47e7-9cce-9f21cd67edf2",
   "metadata": {},
   "outputs": [
    {
     "data": {
      "text/plain": [
       "KruskalResult(statistic=1.9364385074056973, pvalue=0.37975869022377584)"
      ]
     },
     "execution_count": 187,
     "metadata": {},
     "output_type": "execute_result"
    }
   ],
   "source": [
    "kruskal(users_merged.query('group == \"test\"').views_count, \\\n",
    "        users_merged.query('group == \"control_1\"').views_count, users_merged.query('group == \"control_2\"').views_count)"
   ]
  },
  {
   "cell_type": "markdown",
   "id": "d71f7b9f-eaaf-457c-8d89-e1dca145a69b",
   "metadata": {},
   "source": [
    "Наше p-value > 0.05, поэтому мы не можем отвергнуть нулевую гипотезу. \n",
    "\n",
    "Это означает, что статистически значимых различий между распределениями количества просмотров пользователей в разных группах нет, что подтверждает репрезентативность выборок по данному признаку ✅"
   ]
  },
  {
   "cell_type": "markdown",
   "id": "d52f3f42-88bd-4229-b009-8dfc78773922",
   "metadata": {
    "jp-MarkdownHeadingCollapsed": true
   },
   "source": [
    "#### **Таким образом, проверив наши выборки по нескольким признакам, мы убедились в их репрезентативности и наличии корректного разделения пользователей по группам**✅"
   ]
  },
  {
   "cell_type": "markdown",
   "id": "68c9b662-5996-46ec-bd68-840d4d53099b",
   "metadata": {
    "jp-MarkdownHeadingCollapsed": true
   },
   "source": [
    "## **3. Проведение A/A/B тестов**"
   ]
  },
  {
   "cell_type": "markdown",
   "id": "b8404cad-6363-4127-8d09-0ae2f43caa33",
   "metadata": {},
   "source": [
    "Для оценки эффективности эксперимента по изменению стоимости премиум-подписки основным ориентиром будет изменение **ARPPU_pr** (**среднего дохода на платящего премиум пользователя**), поскольку эксперименты касаются именно премиум пользователей, доход от которых имеет важное значение для бизнеса.\n",
    "\n",
    "- $H_0$: ARPPU_pr в тестовой группе существенно больше, чем в контрольных группах.\n",
    "- $H_1$: ARPPU_pr в тестовой группе существенно меньше, чем в контрольных группах, или не изменился.\n",
    "\n",
    "Также следует учесть такие экономические метрики:\n",
    "\n",
    "- CR_pr (конверсия пользователей в покупку премиум подписки, поскольку все пользователи в выборках уже являются покупателями),\n",
    "- ARPPU (средний доход на платящего пользователя, не включающего премиум подписку).\n",
    "\n",
    "Поскольку в наших выборках все пользователи являются платящими, ARPPU и ARPPU_pr будут рассчитываться как доход на одного платящего пользователя и доход от платящего пользователя премиум подписки соответственно.\n",
    "\n",
    "**Эти метрики тесно связаны с ARPPU_pr, поэтому их изменение должно быть учтено в ходе анализа.**\n",
    "\n",
    "**Дополнительно будет проведен анализ таких показателей, как:**\n",
    "\n",
    "- Соотношение пользователей, продливших и не продливших премиум подписку \n",
    "\n",
    "**Стоимость подписки может влиять на готовность пользователей продлевать её, что, в свою очередь, повлияет на количество премиум пользователей и общий доход.**\n",
    "\n",
    "- Количество дней посещений (visit days)\n",
    "    \n",
    "Есть предположение, что увеличение стоимости подписки может повлиять на количество посещений приложения, поскольку пользователи, заплатившие большую сумму, будут более мотивированы оправдать эти затраты частыми посещениями. Это может повысить доход от таких пользователей.\n",
    "\n",
    "**Хоть эти метрики и имеют косвенное влияние, они могут значительно повлиять на ARPPU_pr и, соответственно, на результаты эксперимента.**"
   ]
  },
  {
   "cell_type": "markdown",
   "id": "e80728b1-7093-4a7a-ba9c-925b68bdf470",
   "metadata": {},
   "source": [
    "#### Проведем **А/А тестирование** для контрольных групп **перед запуском А/В теста**"
   ]
  },
  {
   "cell_type": "markdown",
   "id": "84bd9c47-fbed-4ef6-972e-41ab1418b814",
   "metadata": {},
   "source": [
    "##### В начале проверим группы на гомоскедастичность"
   ]
  },
  {
   "cell_type": "code",
   "execution_count": 189,
   "id": "2629cc0e-dfd2-42a9-b645-90ed6149c1eb",
   "metadata": {},
   "outputs": [
    {
     "data": {
      "text/html": [
       "<div>\n",
       "<style scoped>\n",
       "    .dataframe tbody tr th:only-of-type {\n",
       "        vertical-align: middle;\n",
       "    }\n",
       "\n",
       "    .dataframe tbody tr th {\n",
       "        vertical-align: top;\n",
       "    }\n",
       "\n",
       "    .dataframe thead th {\n",
       "        text-align: right;\n",
       "    }\n",
       "</style>\n",
       "<table border=\"1\" class=\"dataframe\">\n",
       "  <thead>\n",
       "    <tr style=\"text-align: right;\">\n",
       "      <th></th>\n",
       "      <th>W</th>\n",
       "      <th>pval</th>\n",
       "      <th>equal_var</th>\n",
       "    </tr>\n",
       "  </thead>\n",
       "  <tbody>\n",
       "    <tr>\n",
       "      <th>levene</th>\n",
       "      <td>0.737499</td>\n",
       "      <td>0.391133</td>\n",
       "      <td>True</td>\n",
       "    </tr>\n",
       "  </tbody>\n",
       "</table>\n",
       "</div>"
      ],
      "text/plain": [
       "               W      pval  equal_var\n",
       "levene  0.737499  0.391133       True"
      ]
     },
     "execution_count": 189,
     "metadata": {},
     "output_type": "execute_result"
    }
   ],
   "source": [
    "pg.homoscedasticity(data = users_merged.query('total_revenue > 0 and group != \"test\"'), dv = 'total_revenue', group = 'group')"
   ]
  },
  {
   "cell_type": "markdown",
   "id": "92c95837-d91c-4a70-975d-c68306004d68",
   "metadata": {},
   "source": [
    "##### Будем использовать t-тест для сравнения средних значений ARPPU в двух выборках:\n",
    "\n",
    "- $H_0$: нет статистически значимых различий между средними значениями ARPPU в контрольных группах\n",
    "- $H_1$: есть статистически значимые различия между средними значениями ARPPU в контрольных группах"
   ]
  },
  {
   "cell_type": "code",
   "execution_count": 190,
   "id": "3554577f-f9fa-4dd6-a2f4-9068da718c31",
   "metadata": {},
   "outputs": [
    {
     "data": {
      "image/png": "[encoded data removed]",
      "text/plain": [
       "<Figure size 800x400 with 1 Axes>"
      ]
     },
     "metadata": {},
     "output_type": "display_data"
    }
   ],
   "source": [
    "df = []\n",
    "\n",
    "for i in range(800):\n",
    "    c_1 = users_control_1.query('total_revenue > 0').total_revenue.sample(100, replace = False).values\n",
    "    c_2 = users_control_2.query('total_revenue > 0').total_revenue.sample(100, replace = False).values\n",
    "    df.append(ttest_ind(c_1, c_2, equal_var = False)[1])\n",
    "\n",
    "fig, axes = plt.subplots(figsize=(8, 4))\n",
    "sns.histplot(df)\n",
    "axes.set(title = 'A/A simulations: t-test ARPPU', xlabel = 'p-value', ylabel = '')\n",
    "\n",
    "sns.despine()      # Убираем лишние элементы и сообщения о вычислениях\n",
    "plt.tight_layout() # Выравниваем графики\n",
    "plt.show()         # Показываем графики"
   ]
  },
  {
   "cell_type": "code",
   "execution_count": 192,
   "id": "c2099ece-dd61-4acd-aac8-7b7aafd3918c",
   "metadata": {},
   "outputs": [
    {
     "data": {
      "text/plain": [
       "True"
      ]
     },
     "execution_count": 192,
     "metadata": {},
     "output_type": "execute_result"
    }
   ],
   "source": [
    "# Проверим, что количество ложноположительных случаев не превышает уровень значимости (0.05)\n",
    "((np.array(df) < 0.05) / 800).sum() <= 0.05"
   ]
  },
  {
   "cell_type": "markdown",
   "id": "bd9ee9a7-d494-4785-a278-eb1bdd827d44",
   "metadata": {},
   "source": [
    "Нулевую гипотезу отвергнуть не удалось, что означает отсутствие статистически значимых различий по ARPPU в контрольных группах.\n",
    "\n",
    "Таким образом, в А/В тестах будем использовать только одну контрольную группу — \"control_2\", так как эта выборка претерпела меньше изменений в предобработке по сравнению с группой \"control_1\"."
   ]
  },
  {
   "cell_type": "markdown",
   "id": "ee45fa6b-b50d-4d6d-b8ea-466d7c26ec80",
   "metadata": {},
   "source": [
    "##### Соберем данные о пользователях, которые продлили и не продлили подписку"
   ]
  },
  {
   "cell_type": "code",
   "execution_count": 193,
   "id": "425351cb-fb28-4c1b-9ef9-caa869120296",
   "metadata": {},
   "outputs": [
    {
     "data": {
      "text/html": [
       "<div>\n",
       "<style scoped>\n",
       "    .dataframe tbody tr th:only-of-type {\n",
       "        vertical-align: middle;\n",
       "    }\n",
       "\n",
       "    .dataframe tbody tr th {\n",
       "        vertical-align: top;\n",
       "    }\n",
       "\n",
       "    .dataframe thead th {\n",
       "        text-align: right;\n",
       "    }\n",
       "</style>\n",
       "<table border=\"1\" class=\"dataframe\">\n",
       "  <thead>\n",
       "    <tr style=\"text-align: right;\">\n",
       "      <th></th>\n",
       "      <th>uid</th>\n",
       "      <th>was_premium</th>\n",
       "      <th>is_premium</th>\n",
       "      <th>group</th>\n",
       "    </tr>\n",
       "  </thead>\n",
       "  <tbody>\n",
       "    <tr>\n",
       "      <th>20</th>\n",
       "      <td>891152790</td>\n",
       "      <td>1.0</td>\n",
       "      <td>1.0</td>\n",
       "      <td>test</td>\n",
       "    </tr>\n",
       "    <tr>\n",
       "      <th>44</th>\n",
       "      <td>891589239</td>\n",
       "      <td>1.0</td>\n",
       "      <td>1.0</td>\n",
       "      <td>test</td>\n",
       "    </tr>\n",
       "    <tr>\n",
       "      <th>100</th>\n",
       "      <td>891343671</td>\n",
       "      <td>1.0</td>\n",
       "      <td>1.0</td>\n",
       "      <td>test</td>\n",
       "    </tr>\n",
       "    <tr>\n",
       "      <th>105</th>\n",
       "      <td>892430988</td>\n",
       "      <td>1.0</td>\n",
       "      <td>1.0</td>\n",
       "      <td>test</td>\n",
       "    </tr>\n",
       "    <tr>\n",
       "      <th>134</th>\n",
       "      <td>891919368</td>\n",
       "      <td>1.0</td>\n",
       "      <td>1.0</td>\n",
       "      <td>test</td>\n",
       "    </tr>\n",
       "  </tbody>\n",
       "</table>\n",
       "</div>"
      ],
      "text/plain": [
       "           uid  was_premium  is_premium group\n",
       "20   891152790          1.0         1.0  test\n",
       "44   891589239          1.0         1.0  test\n",
       "100  891343671          1.0         1.0  test\n",
       "105  892430988          1.0         1.0  test\n",
       "134  891919368          1.0         1.0  test"
      ]
     },
     "execution_count": 193,
     "metadata": {},
     "output_type": "execute_result"
    }
   ],
   "source": [
    "users_premium = users_merged[['uid', 'was_premium', 'is_premium', 'group']].query('group != \"control_1\"')\n",
    "users_premium.head()"
   ]
  },
  {
   "cell_type": "code",
   "execution_count": 194,
   "id": "8b5716b2-752f-4182-b0be-e0cfcf8fe422",
   "metadata": {},
   "outputs": [
    {
     "data": {
      "text/plain": [
       "0"
      ]
     },
     "execution_count": 194,
     "metadata": {},
     "output_type": "execute_result"
    }
   ],
   "source": [
    "users_premium.query('was_premium == 0.0 and is_premium == 1.0').shape[0]"
   ]
  },
  {
   "cell_type": "markdown",
   "id": "61895992-2bbf-4e9b-946c-f371767a1315",
   "metadata": {},
   "source": [
    "Пользователей, у которых не было подписки, а она появилась, нет (что логично), поэтому разделим пользователей на 3 группы:"
   ]
  },
  {
   "cell_type": "code",
   "execution_count": 197,
   "id": "336a7488-8db7-40c4-8c16-db360c3563c7",
   "metadata": {},
   "outputs": [
    {
     "data": {
      "text/html": [
       "<div>\n",
       "<style scoped>\n",
       "    .dataframe tbody tr th:only-of-type {\n",
       "        vertical-align: middle;\n",
       "    }\n",
       "\n",
       "    .dataframe tbody tr th {\n",
       "        vertical-align: top;\n",
       "    }\n",
       "\n",
       "    .dataframe thead th {\n",
       "        text-align: right;\n",
       "    }\n",
       "</style>\n",
       "<table border=\"1\" class=\"dataframe\">\n",
       "  <thead>\n",
       "    <tr style=\"text-align: right;\">\n",
       "      <th></th>\n",
       "      <th>uid</th>\n",
       "      <th>was_premium</th>\n",
       "      <th>is_premium</th>\n",
       "      <th>group</th>\n",
       "      <th>premium</th>\n",
       "    </tr>\n",
       "  </thead>\n",
       "  <tbody>\n",
       "    <tr>\n",
       "      <th>20</th>\n",
       "      <td>891152790</td>\n",
       "      <td>1.0</td>\n",
       "      <td>1.0</td>\n",
       "      <td>test</td>\n",
       "      <td>not canceled</td>\n",
       "    </tr>\n",
       "    <tr>\n",
       "      <th>44</th>\n",
       "      <td>891589239</td>\n",
       "      <td>1.0</td>\n",
       "      <td>1.0</td>\n",
       "      <td>test</td>\n",
       "      <td>not canceled</td>\n",
       "    </tr>\n",
       "    <tr>\n",
       "      <th>100</th>\n",
       "      <td>891343671</td>\n",
       "      <td>1.0</td>\n",
       "      <td>1.0</td>\n",
       "      <td>test</td>\n",
       "      <td>not canceled</td>\n",
       "    </tr>\n",
       "    <tr>\n",
       "      <th>105</th>\n",
       "      <td>892430988</td>\n",
       "      <td>1.0</td>\n",
       "      <td>1.0</td>\n",
       "      <td>test</td>\n",
       "      <td>not canceled</td>\n",
       "    </tr>\n",
       "    <tr>\n",
       "      <th>134</th>\n",
       "      <td>891919368</td>\n",
       "      <td>1.0</td>\n",
       "      <td>1.0</td>\n",
       "      <td>test</td>\n",
       "      <td>not canceled</td>\n",
       "    </tr>\n",
       "  </tbody>\n",
       "</table>\n",
       "</div>"
      ],
      "text/plain": [
       "           uid  was_premium  is_premium group       premium\n",
       "20   891152790          1.0         1.0  test  not canceled\n",
       "44   891589239          1.0         1.0  test  not canceled\n",
       "100  891343671          1.0         1.0  test  not canceled\n",
       "105  892430988          1.0         1.0  test  not canceled\n",
       "134  891919368          1.0         1.0  test  not canceled"
      ]
     },
     "execution_count": 197,
     "metadata": {},
     "output_type": "execute_result"
    }
   ],
   "source": [
    "# Функция, которая добавляет столбец 'premium', который отражает статус пользователя: был ли он премиум, отменил ли подписку или не был премиум.\n",
    "\n",
    "def f(row):\n",
    "    if row['was_premium'] == 0.0 and row['is_premium'] == 0.0:\n",
    "        x = 'no'\n",
    "    elif row['was_premium'] == 1.0 and row['is_premium'] == 0.0:\n",
    "        x = 'canceled'\n",
    "    else:\n",
    "        x = 'not canceled'\n",
    "    return x\n",
    "\n",
    "users_premium['premium'] = users_premium.apply(f, axis = 1)\n",
    "users_premium.head()"
   ]
  },
  {
   "cell_type": "code",
   "execution_count": 198,
   "id": "39b94ff1-8426-4015-8390-1fa1a7e4128f",
   "metadata": {},
   "outputs": [
    {
     "data": {
      "text/plain": [
       "group      premium     \n",
       "control_2  canceled         10\n",
       "           not canceled    136\n",
       "test       canceled          7\n",
       "           not canceled    120\n",
       "dtype: int64"
      ]
     },
     "execution_count": 198,
     "metadata": {},
     "output_type": "execute_result"
    }
   ],
   "source": [
    "users_premium.groupby(['group', 'premium']).size()"
   ]
  },
  {
   "cell_type": "code",
   "execution_count": 199,
   "id": "10183fa3-a43a-44fd-a9b0-7c69138c94f5",
   "metadata": {},
   "outputs": [
    {
     "data": {
      "image/png": "[encoded data removed]",
      "text/plain": [
       "<Figure size 640x480 with 1 Axes>"
      ]
     },
     "metadata": {},
     "output_type": "display_data"
    }
   ],
   "source": [
    "# Визуацизация распределений\n",
    "sns.countplot(data=users_premium, x = 'group', hue = 'premium')\n",
    "\n",
    "plt.title('Премиум подписка в зависимости по группам\\n')\n",
    "\n",
    "sns.despine()      # Убираем лишние элементы и сообщения о вычислениях\n",
    "plt.tight_layout() # Выравниваем графики\n",
    "plt.show()         # Показываем графики"
   ]
  },
  {
   "cell_type": "markdown",
   "id": "b0774cd3-076f-42ab-b904-e6edd241b1be",
   "metadata": {},
   "source": [
    "Визуальные различия незначительны. Проведем статистическую проверку:\n",
    "\n",
    "Поскольку переменные категориальные (подписка: продлили/не продлили и группа пользователя), применим критерий хи-квадрат:\n",
    "\n",
    "- $H_0$: нет статистически значимой разницы между распределениями пользователей по статусу подписки (продлили/не продлили) в тестовой и контрольной группах (p-value > 0.05).\n",
    "- $H_1$: существует статистически значимая разница между распределениями пользователей по статусу подписки в тестовой и контрольной группах."
   ]
  },
  {
   "cell_type": "code",
   "execution_count": 200,
   "id": "70709e8e-db79-40e4-ae32-ad5fdf6f4057",
   "metadata": {},
   "outputs": [
    {
     "data": {
      "text/plain": [
       "(0.04205977241354288, 0.8375058771665312)"
      ]
     },
     "execution_count": 200,
     "metadata": {},
     "output_type": "execute_result"
    }
   ],
   "source": [
    "stat, p, dof, expected = chi2_contingency(pd.crosstab(users_premium.premium, users_premium.group))\n",
    "stat, p"
   ]
  },
  {
   "cell_type": "code",
   "execution_count": 202,
   "id": "d9af3278-51f7-411b-8ce1-e115d1959ec3",
   "metadata": {},
   "outputs": [
    {
     "data": {
      "text/html": [
       "<div>\n",
       "<style scoped>\n",
       "    .dataframe tbody tr th:only-of-type {\n",
       "        vertical-align: middle;\n",
       "    }\n",
       "\n",
       "    .dataframe tbody tr th {\n",
       "        vertical-align: top;\n",
       "    }\n",
       "\n",
       "    .dataframe thead th {\n",
       "        text-align: right;\n",
       "    }\n",
       "</style>\n",
       "<table border=\"1\" class=\"dataframe\">\n",
       "  <thead>\n",
       "    <tr style=\"text-align: right;\">\n",
       "      <th></th>\n",
       "      <th>test</th>\n",
       "      <th>lambda</th>\n",
       "      <th>chi2</th>\n",
       "      <th>dof</th>\n",
       "      <th>pval</th>\n",
       "      <th>cramer</th>\n",
       "      <th>power</th>\n",
       "    </tr>\n",
       "  </thead>\n",
       "  <tbody>\n",
       "    <tr>\n",
       "      <th>0</th>\n",
       "      <td>pearson</td>\n",
       "      <td>1.000000</td>\n",
       "      <td>0.042060</td>\n",
       "      <td>1.0</td>\n",
       "      <td>0.837506</td>\n",
       "      <td>0.012412</td>\n",
       "      <td>0.054832</td>\n",
       "    </tr>\n",
       "    <tr>\n",
       "      <th>1</th>\n",
       "      <td>cressie-read</td>\n",
       "      <td>0.666667</td>\n",
       "      <td>0.042093</td>\n",
       "      <td>1.0</td>\n",
       "      <td>0.837443</td>\n",
       "      <td>0.012417</td>\n",
       "      <td>0.054836</td>\n",
       "    </tr>\n",
       "    <tr>\n",
       "      <th>2</th>\n",
       "      <td>log-likelihood</td>\n",
       "      <td>0.000000</td>\n",
       "      <td>0.042163</td>\n",
       "      <td>1.0</td>\n",
       "      <td>0.837309</td>\n",
       "      <td>0.012428</td>\n",
       "      <td>0.054844</td>\n",
       "    </tr>\n",
       "    <tr>\n",
       "      <th>3</th>\n",
       "      <td>freeman-tukey</td>\n",
       "      <td>-0.500000</td>\n",
       "      <td>0.042221</td>\n",
       "      <td>1.0</td>\n",
       "      <td>0.837199</td>\n",
       "      <td>0.012436</td>\n",
       "      <td>0.054851</td>\n",
       "    </tr>\n",
       "    <tr>\n",
       "      <th>4</th>\n",
       "      <td>mod-log-likelihood</td>\n",
       "      <td>-1.000000</td>\n",
       "      <td>0.042283</td>\n",
       "      <td>1.0</td>\n",
       "      <td>0.837081</td>\n",
       "      <td>0.012445</td>\n",
       "      <td>0.054858</td>\n",
       "    </tr>\n",
       "    <tr>\n",
       "      <th>5</th>\n",
       "      <td>neyman</td>\n",
       "      <td>-2.000000</td>\n",
       "      <td>0.042418</td>\n",
       "      <td>1.0</td>\n",
       "      <td>0.836824</td>\n",
       "      <td>0.012465</td>\n",
       "      <td>0.054873</td>\n",
       "    </tr>\n",
       "  </tbody>\n",
       "</table>\n",
       "</div>"
      ],
      "text/plain": [
       "                 test    lambda      chi2  dof      pval    cramer     power\n",
       "0             pearson  1.000000  0.042060  1.0  0.837506  0.012412  0.054832\n",
       "1        cressie-read  0.666667  0.042093  1.0  0.837443  0.012417  0.054836\n",
       "2      log-likelihood  0.000000  0.042163  1.0  0.837309  0.012428  0.054844\n",
       "3       freeman-tukey -0.500000  0.042221  1.0  0.837199  0.012436  0.054851\n",
       "4  mod-log-likelihood -1.000000  0.042283  1.0  0.837081  0.012445  0.054858\n",
       "5              neyman -2.000000  0.042418  1.0  0.836824  0.012465  0.054873"
      ]
     },
     "execution_count": 202,
     "metadata": {},
     "output_type": "execute_result"
    }
   ],
   "source": [
    "# Проверим статистику с использованием библиотеки Pingouin\n",
    "exp, obs, stats = pg.chi2_independence(data = users_premium, \n",
    "                                          x = 'group', \n",
    "                                          y = 'premium') \n",
    "stats"
   ]
  },
  {
   "cell_type": "markdown",
   "id": "65805584-e33e-46b4-8c88-e2caccc03f1f",
   "metadata": {},
   "source": [
    "Согласно статистике (p-value > 0.05) нулевую гипотезу об отсутствии разницы между распределениями пользователей в зависимости от подписки (продлили/ не продлили) в тестовой и контрольной группе мы отклонить не можем."
   ]
  },
  {
   "cell_type": "markdown",
   "id": "6c39304c-79b7-4de5-aa49-327535c54609",
   "metadata": {},
   "source": [
    "##### Сравним количество дней посещений пользователей в зависимости от группы (visit days)"
   ]
  },
  {
   "cell_type": "markdown",
   "id": "3e4cf66e-c76a-4ed0-b267-e312c983e180",
   "metadata": {},
   "source": [
    "Для начала преобразуем колонку с номерами дней в необходимый формат"
   ]
  },
  {
   "cell_type": "code",
   "execution_count": 203,
   "id": "d6c0b824-0fec-4cd9-8ba2-0846dc38d998",
   "metadata": {},
   "outputs": [],
   "source": [
    "users_merged['visit_days'] = users_merged['visit_days'].str.split(',\\s*')"
   ]
  },
  {
   "cell_type": "code",
   "execution_count": 204,
   "id": "7b88600a-6206-41d5-9392-6af66109e299",
   "metadata": {},
   "outputs": [],
   "source": [
    "# Добавляем колонку с количеством дней посещения пользователей\n",
    "users_merged['days_count'] = users_merged.visit_days.str.len()"
   ]
  },
  {
   "cell_type": "code",
   "execution_count": 205,
   "id": "ab6b52f5-dd31-43aa-bd40-36f17045f9cc",
   "metadata": {},
   "outputs": [],
   "source": [
    "# Меняем NaN на нули и изменяем тип данных на int\n",
    "users_merged['days_count'] = users_merged['days_count'].fillna(0).astype(int)"
   ]
  },
  {
   "cell_type": "code",
   "execution_count": 207,
   "id": "b2991788-0516-4331-b1b9-69ac62b28cb1",
   "metadata": {},
   "outputs": [
    {
     "data": {
      "text/html": [
       "<div>\n",
       "<style scoped>\n",
       "    .dataframe tbody tr th:only-of-type {\n",
       "        vertical-align: middle;\n",
       "    }\n",
       "\n",
       "    .dataframe tbody tr th {\n",
       "        vertical-align: top;\n",
       "    }\n",
       "\n",
       "    .dataframe thead th {\n",
       "        text-align: right;\n",
       "    }\n",
       "</style>\n",
       "<table border=\"1\" class=\"dataframe\">\n",
       "  <thead>\n",
       "    <tr style=\"text-align: right;\">\n",
       "      <th></th>\n",
       "      <th>group</th>\n",
       "      <th>days_count</th>\n",
       "    </tr>\n",
       "  </thead>\n",
       "  <tbody>\n",
       "    <tr>\n",
       "      <th>0</th>\n",
       "      <td>control_1</td>\n",
       "      <td>9.71</td>\n",
       "    </tr>\n",
       "    <tr>\n",
       "      <th>1</th>\n",
       "      <td>control_2</td>\n",
       "      <td>9.29</td>\n",
       "    </tr>\n",
       "    <tr>\n",
       "      <th>2</th>\n",
       "      <td>test</td>\n",
       "      <td>9.24</td>\n",
       "    </tr>\n",
       "  </tbody>\n",
       "</table>\n",
       "</div>"
      ],
      "text/plain": [
       "       group  days_count\n",
       "0  control_1        9.71\n",
       "1  control_2        9.29\n",
       "2       test        9.24"
      ]
     },
     "execution_count": 207,
     "metadata": {},
     "output_type": "execute_result"
    }
   ],
   "source": [
    "# Среднее количество дней посещения\n",
    "round(users_merged.groupby('group', as_index = False).agg({'days_count' : 'mean'}), 2)"
   ]
  },
  {
   "cell_type": "code",
   "execution_count": 208,
   "id": "ea1e3d8f-7a67-4405-9d52-84790b0db7ed",
   "metadata": {},
   "outputs": [
    {
     "data": {
      "image/png": "[encoded data removed]",
      "text/plain": [
       "<Figure size 640x480 with 1 Axes>"
      ]
     },
     "metadata": {},
     "output_type": "display_data"
    }
   ],
   "source": [
    "# Визуализация \n",
    "sns.histplot(data = users_merged.query('group != \"control_1\"'), hue = 'group', x = 'days_count', bins = 30, element='step')\n",
    "\n",
    "plt.title('Количество дней в зависимости от группы\\n')\n",
    "\n",
    "sns.despine()      # Убираем лишние элементы и сообщения о вычислениях\n",
    "plt.tight_layout() # Выравниваем графики\n",
    "plt.show()         # Показываем графики"
   ]
  },
  {
   "cell_type": "markdown",
   "id": "4758702d-3e87-4271-8d00-b319d04af648",
   "metadata": {},
   "source": [
    "Визуальных различий значительных не наблюдается. Проведем статистическую проверку."
   ]
  },
  {
   "cell_type": "markdown",
   "id": "6575207f-d4c9-4b3a-802e-08a12b6b5b3e",
   "metadata": {},
   "source": [
    "##### Проверка на гомоскедастичность"
   ]
  },
  {
   "cell_type": "code",
   "execution_count": 209,
   "id": "dfaceef3-3578-4790-8fb4-6a937889fc7e",
   "metadata": {},
   "outputs": [
    {
     "data": {
      "text/html": [
       "<div>\n",
       "<style scoped>\n",
       "    .dataframe tbody tr th:only-of-type {\n",
       "        vertical-align: middle;\n",
       "    }\n",
       "\n",
       "    .dataframe tbody tr th {\n",
       "        vertical-align: top;\n",
       "    }\n",
       "\n",
       "    .dataframe thead th {\n",
       "        text-align: right;\n",
       "    }\n",
       "</style>\n",
       "<table border=\"1\" class=\"dataframe\">\n",
       "  <thead>\n",
       "    <tr style=\"text-align: right;\">\n",
       "      <th></th>\n",
       "      <th>W</th>\n",
       "      <th>pval</th>\n",
       "      <th>equal_var</th>\n",
       "    </tr>\n",
       "  </thead>\n",
       "  <tbody>\n",
       "    <tr>\n",
       "      <th>levene</th>\n",
       "      <td>0.156987</td>\n",
       "      <td>0.854764</td>\n",
       "      <td>True</td>\n",
       "    </tr>\n",
       "  </tbody>\n",
       "</table>\n",
       "</div>"
      ],
      "text/plain": [
       "               W      pval  equal_var\n",
       "levene  0.156987  0.854764       True"
      ]
     },
     "execution_count": 209,
     "metadata": {},
     "output_type": "execute_result"
    }
   ],
   "source": [
    "pg.homoscedasticity(data = users_merged, dv = 'days_count', group = 'group')"
   ]
  },
  {
   "cell_type": "markdown",
   "id": "4eba19d8-8393-45ce-942e-4011c3eeff64",
   "metadata": {},
   "source": [
    "##### Т.к. у нас 2 группы, сравним их распределения при помощи критерия Манна-Уитни:\n",
    "\n",
    "- $H_0$: нет статистически значимых различий между распределениями количества посещений в тестовой и контрольной группе (p-value > 0.05)\n",
    "- $H_1$: есть статистически значимые различия между распределениями количества посещений в тестовой и контрольной группе"
   ]
  },
  {
   "cell_type": "code",
   "execution_count": 210,
   "id": "7641e2bc-34ca-4b3d-b421-58104b35432c",
   "metadata": {},
   "outputs": [
    {
     "data": {
      "text/plain": [
       "MannwhitneyuResult(statistic=9358.0, pvalue=0.8940167190188826)"
      ]
     },
     "execution_count": 210,
     "metadata": {},
     "output_type": "execute_result"
    }
   ],
   "source": [
    "mannwhitneyu(users_merged.query('group == \"test\"').days_count, users_merged.query('group == \"control_2\"').days_count)"
   ]
  },
  {
   "cell_type": "markdown",
   "id": "68b25aad-d6f6-49b1-af42-5faa1ad9f0c5",
   "metadata": {},
   "source": [
    "P-value > 0.05, следовательно, нулевую гипотезу отклонить не удается. \n",
    "\n",
    "Это свидетельствует о том, что статистически значимых различий в распределении количества посещений между тестовой и контрольной группами нет. \n",
    "\n",
    "Изменение стоимости премиум-подписки не оказало влияния на частоту посещений приложения пользователями."
   ]
  },
  {
   "cell_type": "markdown",
   "id": "395aace0-a4cc-4afe-b9da-8bfc8edafd0f",
   "metadata": {},
   "source": [
    "##### Рассчет экономических метрик для тестовой и контрольной групп и подготовим сводную таблицу"
   ]
  },
  {
   "cell_type": "code",
   "execution_count": 211,
   "id": "ac9508d4-0942-47b0-bb95-ea897e6546c5",
   "metadata": {},
   "outputs": [
    {
     "data": {
      "text/html": [
       "<div>\n",
       "<style scoped>\n",
       "    .dataframe tbody tr th:only-of-type {\n",
       "        vertical-align: middle;\n",
       "    }\n",
       "\n",
       "    .dataframe tbody tr th {\n",
       "        vertical-align: top;\n",
       "    }\n",
       "\n",
       "    .dataframe thead th {\n",
       "        text-align: right;\n",
       "    }\n",
       "</style>\n",
       "<table border=\"1\" class=\"dataframe\">\n",
       "  <thead>\n",
       "    <tr style=\"text-align: right;\">\n",
       "      <th></th>\n",
       "      <th>users</th>\n",
       "      <th>premium_users</th>\n",
       "      <th>CR_pr</th>\n",
       "      <th>ARPPU</th>\n",
       "      <th>ARPPU_pr</th>\n",
       "    </tr>\n",
       "  </thead>\n",
       "  <tbody>\n",
       "    <tr>\n",
       "      <th>test</th>\n",
       "      <td>127</td>\n",
       "      <td>65</td>\n",
       "      <td>0.511811</td>\n",
       "      <td>12868.259843</td>\n",
       "      <td>25142.6</td>\n",
       "    </tr>\n",
       "  </tbody>\n",
       "</table>\n",
       "</div>"
      ],
      "text/plain": [
       "      users  premium_users     CR_pr         ARPPU  ARPPU_pr\n",
       "test    127             65  0.511811  12868.259843   25142.6"
      ]
     },
     "execution_count": 211,
     "metadata": {},
     "output_type": "execute_result"
    }
   ],
   "source": [
    "metrics = []\n",
    "\n",
    "users         = users_test.uid.nunique()\n",
    "premium_users = transactions_test.query('revenue > 0 and product_type == \"premium_no_trial\"').uid.nunique()\n",
    "revenue       = transactions_test.revenue.sum()\n",
    "CR_pr         = (premium_users / users)\n",
    "ARPPU         = (revenue / users)\n",
    "ARPPU_pr      = (revenue / premium_users)\n",
    "\n",
    "metrics.append(pd.DataFrame(index = ['test'],       \\\n",
    "                            data  = {'users':users, \\\n",
    "                                     'premium_users':premium_users, \n",
    "                                     'CR_pr':CR_pr, \\\n",
    "                                     'ARPPU':ARPPU, \\\n",
    "                                     'ARPPU_pr':ARPPU_pr}\n",
    "                           ))\n",
    "metrics = pd.concat(metrics)\n",
    "metrics"
   ]
  },
  {
   "cell_type": "code",
   "execution_count": 212,
   "id": "fe4c54c3-efa0-4a51-a6fb-33c3b8d52080",
   "metadata": {},
   "outputs": [
    {
     "data": {
      "text/html": [
       "<div>\n",
       "<style scoped>\n",
       "    .dataframe tbody tr th:only-of-type {\n",
       "        vertical-align: middle;\n",
       "    }\n",
       "\n",
       "    .dataframe tbody tr th {\n",
       "        vertical-align: top;\n",
       "    }\n",
       "\n",
       "    .dataframe thead th {\n",
       "        text-align: right;\n",
       "    }\n",
       "</style>\n",
       "<table border=\"1\" class=\"dataframe\">\n",
       "  <thead>\n",
       "    <tr style=\"text-align: right;\">\n",
       "      <th></th>\n",
       "      <th>users</th>\n",
       "      <th>premium_users</th>\n",
       "      <th>CR_pr</th>\n",
       "      <th>ARPPU</th>\n",
       "      <th>ARPPU_pr</th>\n",
       "    </tr>\n",
       "  </thead>\n",
       "  <tbody>\n",
       "    <tr>\n",
       "      <th>control_2</th>\n",
       "      <td>146</td>\n",
       "      <td>95</td>\n",
       "      <td>0.650685</td>\n",
       "      <td>9038.650685</td>\n",
       "      <td>13890.978947</td>\n",
       "    </tr>\n",
       "  </tbody>\n",
       "</table>\n",
       "</div>"
      ],
      "text/plain": [
       "           users  premium_users     CR_pr        ARPPU      ARPPU_pr\n",
       "control_2    146             95  0.650685  9038.650685  13890.978947"
      ]
     },
     "execution_count": 212,
     "metadata": {},
     "output_type": "execute_result"
    }
   ],
   "source": [
    "metrics_1 = []\n",
    "\n",
    "users         = users_control_2.uid.nunique()\n",
    "premium_users = transactions_control_2.query('revenue > 0 and product_type == \"premium_no_trial\"').uid.nunique()\n",
    "revenue       = transactions_control_2.revenue.sum()\n",
    "CR_pr         = (premium_users / users)\n",
    "ARPPU         = (revenue / users)\n",
    "ARPPU_pr      = (revenue / premium_users)\n",
    "\n",
    "metrics_1.append(pd.DataFrame(index = ['control_2'],  \\\n",
    "                              data  = {'users':users, \\\n",
    "                                     'premium_users':premium_users, \n",
    "                                     'CR_pr':CR_pr,   \\\n",
    "                                     'ARPPU':ARPPU,   \\\n",
    "                                     'ARPPU_pr':ARPPU_pr}\n",
    "                           ))\n",
    "metrics_1 = pd.concat(metrics_1)\n",
    "metrics_1"
   ]
  },
  {
   "cell_type": "code",
   "execution_count": 214,
   "id": "29350e1f-65b7-44ee-8b8e-f7323f3cd738",
   "metadata": {},
   "outputs": [
    {
     "data": {
      "text/html": [
       "<div>\n",
       "<style scoped>\n",
       "    .dataframe tbody tr th:only-of-type {\n",
       "        vertical-align: middle;\n",
       "    }\n",
       "\n",
       "    .dataframe tbody tr th {\n",
       "        vertical-align: top;\n",
       "    }\n",
       "\n",
       "    .dataframe thead th {\n",
       "        text-align: right;\n",
       "    }\n",
       "</style>\n",
       "<table border=\"1\" class=\"dataframe\">\n",
       "  <thead>\n",
       "    <tr style=\"text-align: right;\">\n",
       "      <th></th>\n",
       "      <th>users</th>\n",
       "      <th>premium_users</th>\n",
       "      <th>CR_pr</th>\n",
       "      <th>ARPPU</th>\n",
       "      <th>ARPPU_pr</th>\n",
       "    </tr>\n",
       "  </thead>\n",
       "  <tbody>\n",
       "    <tr>\n",
       "      <th>test</th>\n",
       "      <td>127</td>\n",
       "      <td>65</td>\n",
       "      <td>0.5118</td>\n",
       "      <td>12868.26</td>\n",
       "      <td>25142.60</td>\n",
       "    </tr>\n",
       "    <tr>\n",
       "      <th>control_2</th>\n",
       "      <td>146</td>\n",
       "      <td>95</td>\n",
       "      <td>0.6507</td>\n",
       "      <td>9038.65</td>\n",
       "      <td>13890.98</td>\n",
       "    </tr>\n",
       "  </tbody>\n",
       "</table>\n",
       "</div>"
      ],
      "text/plain": [
       "           users  premium_users   CR_pr     ARPPU  ARPPU_pr\n",
       "test         127             65  0.5118  12868.26  25142.60\n",
       "control_2    146             95  0.6507   9038.65  13890.98"
      ]
     },
     "execution_count": 214,
     "metadata": {},
     "output_type": "execute_result"
    }
   ],
   "source": [
    "# Объединение и округление значений\n",
    "metrics_merged = pd.concat([metrics, metrics_1])\n",
    "\n",
    "metrics_merged[['CR_pr']] = metrics_merged[['CR_pr']].round(4)\n",
    "metrics_merged[['ARPPU', 'ARPPU_pr']] = metrics_merged[['ARPPU', 'ARPPU_pr']].round(2)\n",
    "metrics_merged"
   ]
  },
  {
   "cell_type": "code",
   "execution_count": 215,
   "id": "dabaf4e1-6fdc-4592-af98-527cfc778699",
   "metadata": {},
   "outputs": [
    {
     "data": {
      "text/html": [
       "<style type=\"text/css\">\n",
       "#T_965c5_row0_col2, #T_965c5_row1_col3, #T_965c5_row1_col4 {\n",
       "  background-color: coral;\n",
       "}\n",
       "#T_965c5_row0_col3, #T_965c5_row0_col4, #T_965c5_row1_col2 {\n",
       "  background-color: yellowgreen;\n",
       "}\n",
       "</style>\n",
       "<table id=\"T_965c5\">\n",
       "  <thead>\n",
       "    <tr>\n",
       "      <th class=\"blank level0\" >&nbsp;</th>\n",
       "      <th id=\"T_965c5_level0_col0\" class=\"col_heading level0 col0\" >users</th>\n",
       "      <th id=\"T_965c5_level0_col1\" class=\"col_heading level0 col1\" >premium_users</th>\n",
       "      <th id=\"T_965c5_level0_col2\" class=\"col_heading level0 col2\" >CR_pr</th>\n",
       "      <th id=\"T_965c5_level0_col3\" class=\"col_heading level0 col3\" >ARPPU</th>\n",
       "      <th id=\"T_965c5_level0_col4\" class=\"col_heading level0 col4\" >ARPPU_pr</th>\n",
       "    </tr>\n",
       "  </thead>\n",
       "  <tbody>\n",
       "    <tr>\n",
       "      <th id=\"T_965c5_level0_row0\" class=\"row_heading level0 row0\" >test</th>\n",
       "      <td id=\"T_965c5_row0_col0\" class=\"data row0 col0\" >127</td>\n",
       "      <td id=\"T_965c5_row0_col1\" class=\"data row0 col1\" >65</td>\n",
       "      <td id=\"T_965c5_row0_col2\" class=\"data row0 col2\" >0.5118</td>\n",
       "      <td id=\"T_965c5_row0_col3\" class=\"data row0 col3\" >12868.26</td>\n",
       "      <td id=\"T_965c5_row0_col4\" class=\"data row0 col4\" >25142.60</td>\n",
       "    </tr>\n",
       "    <tr>\n",
       "      <th id=\"T_965c5_level0_row1\" class=\"row_heading level0 row1\" >control_2</th>\n",
       "      <td id=\"T_965c5_row1_col0\" class=\"data row1 col0\" >146</td>\n",
       "      <td id=\"T_965c5_row1_col1\" class=\"data row1 col1\" >95</td>\n",
       "      <td id=\"T_965c5_row1_col2\" class=\"data row1 col2\" >0.6507</td>\n",
       "      <td id=\"T_965c5_row1_col3\" class=\"data row1 col3\" >9038.65</td>\n",
       "      <td id=\"T_965c5_row1_col4\" class=\"data row1 col4\" >13890.98</td>\n",
       "    </tr>\n",
       "  </tbody>\n",
       "</table>\n"
      ],
      "text/plain": [
       "<pandas.io.formats.style.Styler at 0x1cfe17e9040>"
      ]
     },
     "execution_count": 215,
     "metadata": {},
     "output_type": "execute_result"
    }
   ],
   "source": [
    "# Выделение максимальных и минимальных значений метрик цветом\n",
    "(metrics_merged\n",
    " .style\n",
    " .format('{:.4f}', subset = ['CR_pr'])\n",
    " .format('{:.2f}', subset = ['ARPPU', 'ARPPU_pr'])\n",
    " .highlight_max(color='yellowgreen', subset = ['CR_pr', 'ARPPU', 'ARPPU_pr'])\n",
    " .highlight_min(color='coral', subset       = ['CR_pr', 'ARPPU', 'ARPPU_pr'])\n",
    ")"
   ]
  },
  {
   "cell_type": "markdown",
   "id": "c61d1ac2-6fb1-4a3d-9cc3-624f8ec5b944",
   "metadata": {},
   "source": [
    "По результатам расчета экономических метрик можно сделать следующие выводы:\n",
    "\n",
    "В тестовой группе, по сравнению с контрольной, наблюдается снижение метрики CR_pr (конверсия в покупку премиум подписки) на 21%. \n",
    "\n",
    "Это свидетельствует о том, что в ходе эксперимента покупка премиум подписки стала реже, что, вероятно, связано с повышением её стоимости.\n",
    "\n",
    "В то же время в тестовой группе отмечен рост следующих метрик:\n",
    "\n",
    "- Средний доход на платящего пользователя (+42%),\n",
    "- Средний доход на платящего премиум пользователя (+82%).\n",
    "\n",
    "Таким образом, несмотря на снижение числа платящих пользователей, наблюдается значительное улучшение их экономического вклада — доход от каждого пользователя значительно возрос. Эти изменения подтверждают предположение о повышении стоимости премиум подписки."
   ]
  },
  {
   "cell_type": "markdown",
   "id": "d6e0237e-f886-434c-a700-2eca24380f81",
   "metadata": {},
   "source": [
    "Выручка увеличилась, однако она включает доход от всех продуктов (пробная премиум-подписка, премиум-подписка, другие типы), в то время как изменение цены касалось только премиум-подписки.\n",
    "\n",
    "Проведем анализ, чтобы понять, как это увеличение распределяется по различным продуктам, и выявим, за счет какого именно продукта произошел рост дохода."
   ]
  },
  {
   "cell_type": "code",
   "execution_count": 216,
   "id": "3249b3f8-9003-4e9c-8473-6626fcd2676b",
   "metadata": {},
   "outputs": [],
   "source": [
    "ARPPU_product_type          = transactions_merged.groupby(['group', 'product_type'], as_index = False).agg({'revenue' : 'sum', 'uid' : 'nunique'})\n",
    "ARPPU_product_type['ARPPU'] = ARPPU_product_type.revenue / ARPPU_product_type.uid"
   ]
  },
  {
   "cell_type": "code",
   "execution_count": 217,
   "id": "10fb23cf-c93a-427e-865e-949543afccad",
   "metadata": {},
   "outputs": [
    {
     "data": {
      "image/png": "[encoded data removed]",
      "text/plain": [
       "<Figure size 640x480 with 1 Axes>"
      ]
     },
     "metadata": {},
     "output_type": "display_data"
    }
   ],
   "source": [
    "sns.barplot(data=ARPPU_product_type, y='product_type', x='ARPPU', hue='group')\n",
    "\n",
    "plt.title('Распределение ARPPU по типу продукта в зависимости от группы\\n')\n",
    "\n",
    "sns.despine()      # Убираем лишние элементы и сообщения о вычислениях\n",
    "plt.tight_layout() # Выравниваем графики\n",
    "plt.show()         # Показываем графики"
   ]
  },
  {
   "cell_type": "markdown",
   "id": "4fe30ff5-d77e-4183-a83c-7539d8dc9ab1",
   "metadata": {},
   "source": [
    "По графику видно, что выручка по всем типам продуктов (product_type) в тестовой группе демонстрирует рост по сравнению с контрольной группой, без значительных потерь.\n",
    "\n",
    "Наибольший рост наблюдается именно для премиум подписки, что подтверждает, что пользователи не стали переключаться на другие платные опции, а продолжили оплачивать премиум подписку, несмотря на ее повышение."
   ]
  },
  {
   "cell_type": "markdown",
   "id": "7c6c0106-30ae-4e2d-b071-abdd188f9c73",
   "metadata": {},
   "source": [
    "##### Сравним конверсию из пользователя в покупателя премиум подписки (CR_pr) между группами. Поскольку переменные являются номинативными, применим критерий хи-квадрат:\n",
    "\n",
    "- $H_0$: нет статистически значимой разницы в распределении CR_pr между тестовой и контрольной группами (p-value > 0.05).\n",
    "- $H_1$: существует статистически значимая разница в распределении CR_pr между тестовой и контрольной группами."
   ]
  },
  {
   "cell_type": "markdown",
   "id": "56f8fc51-5e5d-49f1-9f98-80d9040965f0",
   "metadata": {},
   "source": [
    "Добавим в данные колонку с конверсией в покупателя премиум подписки в зависимости от типа подписки (product_type)"
   ]
  },
  {
   "cell_type": "code",
   "execution_count": 218,
   "id": "55c8f7ac-6b53-42ee-87a1-61a77c38cfab",
   "metadata": {},
   "outputs": [],
   "source": [
    "users_merged['CR_pr'] = users_merged.uid.isin(transactions_merged.query('product_type == \"premium_no_trial\"').uid.unique()).astype(int)"
   ]
  },
  {
   "cell_type": "code",
   "execution_count": 221,
   "id": "4a121e64-b06e-4e9b-ad51-c29280b4e985",
   "metadata": {},
   "outputs": [
    {
     "name": "stdout",
     "output_type": "stream",
     "text": [
      "Stat: 0.0, p-value: 1.0\n"
     ]
    }
   ],
   "source": [
    "# Удаляем дубликаты из столбца 'group' и 'CR_pr'\n",
    "filtered_data = users_merged.query('group != \"control_1\"').drop_duplicates(subset=['CR_pr', 'group'])\n",
    "crosstab      = pd.crosstab(filtered_data['CR_pr'], filtered_data['group']) # Создаем кросс-таблицу\n",
    "\n",
    "stat, p, dof, expected = chi2_contingency(crosstab)                         # Выполняем тест хи-квадрат\n",
    "\n",
    "print(f\"Stat: {stat}, p-value: {p}\")                                        # Выводим статистику и p-значение"
   ]
  },
  {
   "cell_type": "markdown",
   "id": "32920001-e6a3-4af9-b890-a43012aca20d",
   "metadata": {},
   "source": [
    "Так как p < 0.05, мы отвергаем нулевую гипотезу, т.е. есть статистически значимая разница в распределении CR_pr в тестовой и контрольной группе, конверсия в покупателя премиум подписки уменьшилась."
   ]
  },
  {
   "cell_type": "markdown",
   "id": "1e0f265b-1fb1-4e00-a0e0-4e2da1d4feb5",
   "metadata": {},
   "source": [
    "##### Сравним средний доход на платящего пользователя (ARPPU) в группах при помощи статистического F теста:\n",
    "\n",
    "- $H_0$: нет статистически значимых различий между средними значениями ARPPU в тестовой и контрольной группе (p-value > 0.05)\n",
    "- $H_1$: есть статистически значимые различия между средними значениями ARPPU в тестовой и контрольной группе"
   ]
  },
  {
   "cell_type": "markdown",
   "id": "393a7dc3-799e-49bd-b491-0e4cc464c42e",
   "metadata": {},
   "source": [
    "##### Проверка на гомоскедастичность"
   ]
  },
  {
   "cell_type": "code",
   "execution_count": 224,
   "id": "e9e70204-c36b-483e-a50c-41ef3c123ade",
   "metadata": {},
   "outputs": [
    {
     "data": {
      "text/html": [
       "<div>\n",
       "<style scoped>\n",
       "    .dataframe tbody tr th:only-of-type {\n",
       "        vertical-align: middle;\n",
       "    }\n",
       "\n",
       "    .dataframe tbody tr th {\n",
       "        vertical-align: top;\n",
       "    }\n",
       "\n",
       "    .dataframe thead th {\n",
       "        text-align: right;\n",
       "    }\n",
       "</style>\n",
       "<table border=\"1\" class=\"dataframe\">\n",
       "  <thead>\n",
       "    <tr style=\"text-align: right;\">\n",
       "      <th></th>\n",
       "      <th>W</th>\n",
       "      <th>pval</th>\n",
       "      <th>equal_var</th>\n",
       "    </tr>\n",
       "  </thead>\n",
       "  <tbody>\n",
       "    <tr>\n",
       "      <th>levene</th>\n",
       "      <td>0.543017</td>\n",
       "      <td>0.581387</td>\n",
       "      <td>True</td>\n",
       "    </tr>\n",
       "  </tbody>\n",
       "</table>\n",
       "</div>"
      ],
      "text/plain": [
       "               W      pval  equal_var\n",
       "levene  0.543017  0.581387       True"
      ]
     },
     "execution_count": 224,
     "metadata": {},
     "output_type": "execute_result"
    }
   ],
   "source": [
    "pg.homoscedasticity(data = users_merged, dv = 'total_revenue', group = 'group')"
   ]
  },
  {
   "cell_type": "code",
   "execution_count": 225,
   "id": "4e4c7cdc-f346-4c74-9e6b-09137e5f0404",
   "metadata": {},
   "outputs": [
    {
     "name": "stdout",
     "output_type": "stream",
     "text": [
      "F Test: statistic=10.4186, p-value=0.0014\n"
     ]
    }
   ],
   "source": [
    "stat, p_value = f_oneway(users_test.total_revenue, users_control_2.total_revenue)\n",
    "print(f\"F Test: statistic={stat:.4f}, p-value={p_value:.4f}\")"
   ]
  },
  {
   "cell_type": "markdown",
   "id": "844ef5fb-42a3-4138-b1c1-5993c64254ba",
   "metadata": {},
   "source": [
    "Согласно статистике F-теста (p-value < 0.05) нулевую гипотезу об отсутствии различий между средними значениями ARPPU в тестовой и контрольной группе мы отклоняем, т.е. различия статистически не значимы, значение ARPPU увеличилось."
   ]
  },
  {
   "cell_type": "markdown",
   "id": "1a90d39e-869d-40b9-9fcb-098ed010d496",
   "metadata": {},
   "source": [
    "##### Сравним средний доход на платящего премиум пользователя (ARPPU_pr) в группах при помощи статистического F теста:\n",
    "\n",
    "- $H_0$: нет статистически значимых различий между средними значениями ARPPU_pr в тестовой и контрольной группе (p-value > 0.05)\n",
    "- $H_1$: есть статистически значимые различия между средними значениями ARPPU_pr в тестовой и контрольной группе"
   ]
  },
  {
   "cell_type": "markdown",
   "id": "989e559c-a6db-4421-a375-14f225fd0cfb",
   "metadata": {},
   "source": [
    "##### Проверка на гомоскедастичность"
   ]
  },
  {
   "cell_type": "code",
   "execution_count": 226,
   "id": "3a6cd47f-2d81-4ee1-ad6e-cbd367c56ce4",
   "metadata": {},
   "outputs": [
    {
     "data": {
      "text/html": [
       "<div>\n",
       "<style scoped>\n",
       "    .dataframe tbody tr th:only-of-type {\n",
       "        vertical-align: middle;\n",
       "    }\n",
       "\n",
       "    .dataframe tbody tr th {\n",
       "        vertical-align: top;\n",
       "    }\n",
       "\n",
       "    .dataframe thead th {\n",
       "        text-align: right;\n",
       "    }\n",
       "</style>\n",
       "<table border=\"1\" class=\"dataframe\">\n",
       "  <thead>\n",
       "    <tr style=\"text-align: right;\">\n",
       "      <th></th>\n",
       "      <th>W</th>\n",
       "      <th>pval</th>\n",
       "      <th>equal_var</th>\n",
       "    </tr>\n",
       "  </thead>\n",
       "  <tbody>\n",
       "    <tr>\n",
       "      <th>levene</th>\n",
       "      <td>0.538057</td>\n",
       "      <td>0.584272</td>\n",
       "      <td>True</td>\n",
       "    </tr>\n",
       "  </tbody>\n",
       "</table>\n",
       "</div>"
      ],
      "text/plain": [
       "               W      pval  equal_var\n",
       "levene  0.538057  0.584272       True"
      ]
     },
     "execution_count": 226,
     "metadata": {},
     "output_type": "execute_result"
    }
   ],
   "source": [
    "pg.homoscedasticity(data = users_merged.query('total_revenue > 0'), dv = 'total_revenue', group = 'group')"
   ]
  },
  {
   "cell_type": "code",
   "execution_count": 227,
   "id": "29e95421-bd1c-4468-8f6b-c6d73fc3135d",
   "metadata": {},
   "outputs": [
    {
     "name": "stdout",
     "output_type": "stream",
     "text": [
      "F Test: statistic=10.4186, p-value=0.0014\n"
     ]
    }
   ],
   "source": [
    "stat, p_value = f_oneway(users_test.query('total_revenue > 0').total_revenue, \n",
    "                         users_control_2.query('total_revenue > 0').total_revenue)\n",
    "print(f\"F Test: statistic={stat:.4f}, p-value={p_value:.4f}\")"
   ]
  },
  {
   "cell_type": "markdown",
   "id": "de8ec7ca-937f-4f4b-895e-8b79bb2ff7d7",
   "metadata": {},
   "source": [
    "p < 0.05, нулевую гипотезу отклоняем, что позволяет заключить, что ARPPU_pr в тестовой группе статистически значимо выше, чем в контрольной группе"
   ]
  },
  {
   "cell_type": "markdown",
   "id": "8b16f566-cacf-4e3d-a8e6-1fabf266d4d9",
   "metadata": {
    "jp-MarkdownHeadingCollapsed": true
   },
   "source": [
    "## **4. Подведение итогов**"
   ]
  },
  {
   "cell_type": "markdown",
   "id": "4246ecb1-3ce0-47f6-81b7-c10aaf099f23",
   "metadata": {},
   "source": [
    "Из предоставленных 6-ти датасетов были отобраны только новые пользователи из нескольких стран, в которых была изменена стоимость премиум-подписки при покупке через две новые платёжные системы."
   ]
  },
  {
   "cell_type": "markdown",
   "id": "39955191-b2ab-4c95-bde2-4e174ed03490",
   "metadata": {},
   "source": [
    "#### По итоговым выборкам можно сделать следующие выводы:"
   ]
  },
  {
   "cell_type": "markdown",
   "id": "578954ac-b41f-4f78-99cd-98bc506255b6",
   "metadata": {},
   "source": [
    "- Выборки для анализа являются репрезентативными, группы пользователей равномерно распределены по указанным признакам, однако были проведены манипуляции по удалению неподходящих данных и выбросов (в первую очередь в 1-й контрольной группе, поэтому для А/В тестов использовалась 2-я контрольная группа).\n",
    "- Основная возрастная категория пользователей — молодёжь (25-35 лет), средний возраст — 32 года.\n",
    "- Средний коэффициент привлекательности пользователей составляет 340-382 (максимум — 1000).\n",
    "- По географическому признаку преобладают пользователи из США.\n",
    "- По половому признаку в выборке преобладают мужчины."
   ]
  },
  {
   "cell_type": "markdown",
   "id": "8e70d283-77b3-4727-a623-0f01b95eb8a7",
   "metadata": {},
   "source": [
    "#### По результатам проведенных исследований:"
   ]
  },
  {
   "cell_type": "markdown",
   "id": "d92ba48a-1663-4fdb-9d7b-afff98249538",
   "metadata": {},
   "source": [
    "- Количество дней посещения приложения статистически значимо не изменилось.\n",
    "- Количество пользователей, продливших премиум подписку, статистически значимо не изменилось.\n",
    "- Конверсия в покупку премиум подписки (CR_pr) уменьшилась на 21% (статистически значимо). Это свидетельствует о снижении частоты покупок, что может быть связано с увеличением стоимости подписки, в результате чего часть пользователей отказалась от платных услуг.\n",
    "- Средний доход на платящего пользователя (ARPPU) увеличился на 42% (статистически значимо), при этом доход увеличился по всем типам продуктов.\n",
    "- Средний доход на платящего за премиум подписку пользователя (ARPPU_pr) увеличился на 82% (статистически значимо). Это подтверждает, что несмотря на сокращение числа платящих пользователей, их \"качество\" — доход от них — значительно возрос. Платящие пользователи стали тратить больше, что логично при увеличении стоимости премиум подписки."
   ]
  },
  {
   "cell_type": "markdown",
   "id": "6aa34ecb-cf05-4be5-af1f-edcf1a93a427",
   "metadata": {
    "jp-MarkdownHeadingCollapsed": true
   },
   "source": [
    "## **Вывод**"
   ]
  },
  {
   "cell_type": "markdown",
   "id": "dc8de13d-6d6d-4045-a64b-d57658759b02",
   "metadata": {},
   "source": [
    "Таким образом, на основе анализа основной метрики — ARPPU_pr — можно сделать вывод, что **эксперимент был успешным**. \n",
    "\n",
    "Изменение стоимости премиум подписки при оплате через две новые платежные системы статистически значимо увеличило ARPPU_pr.\n",
    "\n",
    "Однако существует риск, что в долгосрочной перспективе снижение конверсии в покупку премиум подписки (CR_pr) может привести к потере платящих пользователей. В этом случае рост ARPPU_pr может не компенсировать уменьшение общего числа платящих пользователей.\n",
    "\n",
    "**Рекомендуется продолжить внедрение данного обновления, при этом важно регулярно отслеживать экономические показатели и проводить дополнительные анализы для оценки устойчивости изменений.**"
   ]
  }
 ],
 "metadata": {
  "kernelspec": {
   "display_name": "Python 3 (ipykernel)",
   "language": "python",
   "name": "python3"
  },
  "language_info": {
   "codemirror_mode": {
    "name": "ipython",
    "version": 3
   },
   "file_extension": ".py",
   "mimetype": "text/x-python",
   "name": "python",
   "nbconvert_exporter": "python",
   "pygments_lexer": "ipython3",
   "version": "3.12.4"
  }
 },
 "nbformat": 4,
 "nbformat_minor": 5
}
