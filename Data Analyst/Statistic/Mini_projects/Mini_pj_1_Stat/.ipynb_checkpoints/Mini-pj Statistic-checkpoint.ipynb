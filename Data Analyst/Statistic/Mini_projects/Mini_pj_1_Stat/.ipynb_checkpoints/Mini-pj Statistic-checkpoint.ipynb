{
 "cells": [
  {
   "cell_type": "markdown",
   "id": "c282aed2-6ac4-4e03-a11c-ba733b5fbaf4",
   "metadata": {},
   "source": [
    "### Мини-проект по статистике. \n",
    "Исследуем набор данных о видеоиграх, объем продаж которых составил более 100 000 копий."
   ]
  },
  {
   "cell_type": "markdown",
   "id": "6e07fcc0-5113-4acd-bfa0-2d62ae1b9067",
   "metadata": {},
   "source": [
    "#### Metadata:\n",
    "    • Rank – место по объему продаж\n",
    "    • Name – название игры\n",
    "    • Platform – платформа, на которой выпущена игра\n",
    "    • Year – год релиза\n",
    "    • Genre – жанр\n",
    "    • Publisher – издатель\n",
    "    • NA_Sales – продажи в Северной Америке, в млн.\n",
    "    • EU_Sales – продажи в Европе, в млн.\n",
    "    • JP_Sales – продажи в Японии, в млн.\n",
    "    • Other_Sales – продажи в остальном мире, в млн.\n",
    "    • Global_Sales – продажи по всему миру, в млн."
   ]
  },
  {
   "cell_type": "markdown",
   "id": "540399a5-2cc9-495c-bac5-d6bb735ce0e1",
   "metadata": {},
   "source": [
    "##### Задание:\n",
    "1.\tПервый шаг – загрузить данные и убедиться, что всё считалось правильно: посмотреть на столбцы, размер, наличие пропущенных значений (если есть – удалить). Также изучите типы переменных.\n",
    "2.\tПостройте график распределения количества выпущенных игр по годам и выведите описательные характеристики переменной Year.\n",
    "3.\tНа каких платформах произошло больше всего релизов?\n",
    "4.\tИгры каких издателей (Publisher) встречаются в датасете чаще всего?\n",
    "5.\tВ каком регионе медианное значение объема продаж игр Nintendo является наибольшим? (Регионы: NA, EU, JP, Other)\n",
    "6.\tИзучите объемы продаж игр Nintendo в Японии с разбивкой жанрам. Посмотрите на медиану, среднее, межквартильный размах.\n",
    "7.\tВизуализируйте динамику изменения объема мировых продаж (Global_Sales) по годам для игр Nintendo следующих жанров: Fighting, Simulation, Platform, Racing, Sports. В какие моменты времени было продано больше всего игр жанра Sports?"
   ]
  },
  {
   "cell_type": "code",
   "execution_count": 75,
   "id": "fe114e9c-5200-4e50-b69e-205f7bd4d092",
   "metadata": {},
   "outputs": [],
   "source": [
    "import pandas            as pd\n",
    "import seaborn           as sns\n",
    "import matplotlib.pyplot as plt\n",
    "\n",
    "from scipy.stats import mode\n",
    "\n",
    "sns.set(rc = {'figure.figsize':(16, 6)}, style = \"whitegrid\")"
   ]
  },
  {
   "cell_type": "code",
   "execution_count": 80,
   "id": "adf8023b-7d84-4288-ad02-8b07e7e270dd",
   "metadata": {},
   "outputs": [],
   "source": [
    "# 1. загрузить данные и убедиться, что всё считалось правильно: \n",
    "#    посмотреть на столбцы, размер, наличие пропущенных значений (если есть – удалить). Также изучите типы переменных."
   ]
  },
  {
   "cell_type": "code",
   "execution_count": 79,
   "id": "354dd3fc-479e-4910-9d55-b93ca99203ce",
   "metadata": {},
   "outputs": [],
   "source": [
    "path     = \"C:\\\\Users\\\\user\\\\Karpov_courses\\\\Аналитик_данных\\\\Statistic\\\\games.csv\"\n",
    "games_pd = pd.read_csv(path)"
   ]
  },
  {
   "cell_type": "code",
   "execution_count": 81,
   "id": "1f47a27b-a0a3-4a8c-b9fe-bb1c95db884f",
   "metadata": {},
   "outputs": [
    {
     "data": {
      "text/html": [
       "<div>\n",
       "<style scoped>\n",
       "    .dataframe tbody tr th:only-of-type {\n",
       "        vertical-align: middle;\n",
       "    }\n",
       "\n",
       "    .dataframe tbody tr th {\n",
       "        vertical-align: top;\n",
       "    }\n",
       "\n",
       "    .dataframe thead th {\n",
       "        text-align: right;\n",
       "    }\n",
       "</style>\n",
       "<table border=\"1\" class=\"dataframe\">\n",
       "  <thead>\n",
       "    <tr style=\"text-align: right;\">\n",
       "      <th></th>\n",
       "      <th>Rank</th>\n",
       "      <th>Name</th>\n",
       "      <th>Platform</th>\n",
       "      <th>Year</th>\n",
       "      <th>Genre</th>\n",
       "      <th>Publisher</th>\n",
       "      <th>NA_Sales</th>\n",
       "      <th>EU_Sales</th>\n",
       "      <th>JP_Sales</th>\n",
       "      <th>Other_Sales</th>\n",
       "      <th>Global_Sales</th>\n",
       "    </tr>\n",
       "  </thead>\n",
       "  <tbody>\n",
       "    <tr>\n",
       "      <th>0</th>\n",
       "      <td>1</td>\n",
       "      <td>Wii Sports</td>\n",
       "      <td>Wii</td>\n",
       "      <td>2006.0</td>\n",
       "      <td>Sports</td>\n",
       "      <td>Nintendo</td>\n",
       "      <td>41.49</td>\n",
       "      <td>29.02</td>\n",
       "      <td>3.77</td>\n",
       "      <td>8.46</td>\n",
       "      <td>82.74</td>\n",
       "    </tr>\n",
       "    <tr>\n",
       "      <th>1</th>\n",
       "      <td>2</td>\n",
       "      <td>Super Mario Bros.</td>\n",
       "      <td>NES</td>\n",
       "      <td>1985.0</td>\n",
       "      <td>Platform</td>\n",
       "      <td>Nintendo</td>\n",
       "      <td>29.08</td>\n",
       "      <td>3.58</td>\n",
       "      <td>6.81</td>\n",
       "      <td>0.77</td>\n",
       "      <td>40.24</td>\n",
       "    </tr>\n",
       "    <tr>\n",
       "      <th>2</th>\n",
       "      <td>3</td>\n",
       "      <td>Mario Kart Wii</td>\n",
       "      <td>Wii</td>\n",
       "      <td>2008.0</td>\n",
       "      <td>Racing</td>\n",
       "      <td>Nintendo</td>\n",
       "      <td>15.85</td>\n",
       "      <td>12.88</td>\n",
       "      <td>3.79</td>\n",
       "      <td>3.31</td>\n",
       "      <td>35.82</td>\n",
       "    </tr>\n",
       "    <tr>\n",
       "      <th>3</th>\n",
       "      <td>4</td>\n",
       "      <td>Wii Sports Resort</td>\n",
       "      <td>Wii</td>\n",
       "      <td>2009.0</td>\n",
       "      <td>Sports</td>\n",
       "      <td>Nintendo</td>\n",
       "      <td>15.75</td>\n",
       "      <td>11.01</td>\n",
       "      <td>3.28</td>\n",
       "      <td>2.96</td>\n",
       "      <td>33.00</td>\n",
       "    </tr>\n",
       "    <tr>\n",
       "      <th>4</th>\n",
       "      <td>5</td>\n",
       "      <td>Pokemon Red/Pokemon Blue</td>\n",
       "      <td>GB</td>\n",
       "      <td>1996.0</td>\n",
       "      <td>Role-Playing</td>\n",
       "      <td>Nintendo</td>\n",
       "      <td>11.27</td>\n",
       "      <td>8.89</td>\n",
       "      <td>10.22</td>\n",
       "      <td>1.00</td>\n",
       "      <td>31.37</td>\n",
       "    </tr>\n",
       "  </tbody>\n",
       "</table>\n",
       "</div>"
      ],
      "text/plain": [
       "   Rank                      Name Platform    Year         Genre Publisher  \\\n",
       "0     1                Wii Sports      Wii  2006.0        Sports  Nintendo   \n",
       "1     2         Super Mario Bros.      NES  1985.0      Platform  Nintendo   \n",
       "2     3            Mario Kart Wii      Wii  2008.0        Racing  Nintendo   \n",
       "3     4         Wii Sports Resort      Wii  2009.0        Sports  Nintendo   \n",
       "4     5  Pokemon Red/Pokemon Blue       GB  1996.0  Role-Playing  Nintendo   \n",
       "\n",
       "   NA_Sales  EU_Sales  JP_Sales  Other_Sales  Global_Sales  \n",
       "0     41.49     29.02      3.77         8.46         82.74  \n",
       "1     29.08      3.58      6.81         0.77         40.24  \n",
       "2     15.85     12.88      3.79         3.31         35.82  \n",
       "3     15.75     11.01      3.28         2.96         33.00  \n",
       "4     11.27      8.89     10.22         1.00         31.37  "
      ]
     },
     "execution_count": 81,
     "metadata": {},
     "output_type": "execute_result"
    }
   ],
   "source": [
    "games_pd.head()"
   ]
  },
  {
   "cell_type": "code",
   "execution_count": 82,
   "id": "608bf349-62a3-489b-84c0-b315ff5fd606",
   "metadata": {},
   "outputs": [
    {
     "data": {
      "text/plain": [
       "Rank              int64\n",
       "Name             object\n",
       "Platform         object\n",
       "Year            float64\n",
       "Genre            object\n",
       "Publisher        object\n",
       "NA_Sales        float64\n",
       "EU_Sales        float64\n",
       "JP_Sales        float64\n",
       "Other_Sales     float64\n",
       "Global_Sales    float64\n",
       "dtype: object"
      ]
     },
     "execution_count": 82,
     "metadata": {},
     "output_type": "execute_result"
    }
   ],
   "source": [
    "games_pd.dtypes"
   ]
  },
  {
   "cell_type": "code",
   "execution_count": 83,
   "id": "bf54f1a5-c2f2-49a1-9270-3afd887e8ebd",
   "metadata": {},
   "outputs": [
    {
     "data": {
      "text/plain": [
       "float64    6\n",
       "object     4\n",
       "int64      1\n",
       "Name: count, dtype: int64"
      ]
     },
     "execution_count": 83,
     "metadata": {},
     "output_type": "execute_result"
    }
   ],
   "source": [
    "games_pd.dtypes.value_counts()"
   ]
  },
  {
   "cell_type": "code",
   "execution_count": 84,
   "id": "4b68b56c-cf3c-441a-8011-5b18891e7d2e",
   "metadata": {},
   "outputs": [
    {
     "data": {
      "text/plain": [
       "(16598, 11)"
      ]
     },
     "execution_count": 84,
     "metadata": {},
     "output_type": "execute_result"
    }
   ],
   "source": [
    "games_pd.shape"
   ]
  },
  {
   "cell_type": "code",
   "execution_count": 86,
   "id": "174501ba-ca82-49a0-8b73-fed11d421061",
   "metadata": {},
   "outputs": [
    {
     "data": {
      "text/plain": [
       "Rank              0\n",
       "Name              0\n",
       "Platform          0\n",
       "Year            271\n",
       "Genre             0\n",
       "Publisher        58\n",
       "NA_Sales          0\n",
       "EU_Sales          0\n",
       "JP_Sales          0\n",
       "Other_Sales       0\n",
       "Global_Sales      0\n",
       "dtype: int64"
      ]
     },
     "execution_count": 86,
     "metadata": {},
     "output_type": "execute_result"
    }
   ],
   "source": [
    "# подсчет пропущенных значений\n",
    "games_pd.isna().sum()"
   ]
  },
  {
   "cell_type": "code",
   "execution_count": 87,
   "id": "3db035c1-d6a5-4d75-a578-a01d2a2770c9",
   "metadata": {},
   "outputs": [],
   "source": [
    "games_pd.dropna(inplace = True)"
   ]
  },
  {
   "cell_type": "code",
   "execution_count": 88,
   "id": "e73ad3bc-7143-41cb-a2a0-cca5ba9dc2e9",
   "metadata": {},
   "outputs": [
    {
     "data": {
      "text/plain": [
       "(16291, 11)"
      ]
     },
     "execution_count": 88,
     "metadata": {},
     "output_type": "execute_result"
    }
   ],
   "source": [
    "games_pd.shape"
   ]
  },
  {
   "cell_type": "code",
   "execution_count": 42,
   "id": "570ac885-7a94-4f44-ab4c-c0151c7a4436",
   "metadata": {},
   "outputs": [
    {
     "data": {
      "text/plain": [
       "dtype('float64')"
      ]
     },
     "execution_count": 42,
     "metadata": {},
     "output_type": "execute_result"
    }
   ],
   "source": [
    "games_pd.Year.dtype"
   ]
  },
  {
   "cell_type": "code",
   "execution_count": 94,
   "id": "017271c4-a17f-47e5-8024-3797e7175862",
   "metadata": {},
   "outputs": [],
   "source": [
    "# смена типа колонки Year на целое значение\n",
    "games_pd['Year'] = games_pd.Year.astype(int) "
   ]
  },
  {
   "cell_type": "code",
   "execution_count": 99,
   "id": "0932f291-99df-454a-9053-b1224558816e",
   "metadata": {},
   "outputs": [],
   "source": [
    "# 2. Постройте график распределения количества выпущенных игр по годам и выведите описательные характеристики переменной Year."
   ]
  },
  {
   "cell_type": "code",
   "execution_count": 101,
   "id": "9932d8d3-ff49-44bb-8f38-23de605ed3df",
   "metadata": {},
   "outputs": [
    {
     "data": {
      "text/plain": [
       "<Axes: xlabel='Year'>"
      ]
     },
     "execution_count": 101,
     "metadata": {},
     "output_type": "execute_result"
    },
    {
     "data": {
      "image/png": "[encoded data removed]",
      "text/plain": [
       "<Figure size 1600x600 with 1 Axes>"
      ]
     },
     "metadata": {},
     "output_type": "display_data"
    }
   ],
   "source": [
    "# Вариант 1\n",
    "games_by_year = games_pd.groupby('Year')\\\n",
    "                        .Name.count()\n",
    "games_by_year.plot()"
   ]
  },
  {
   "cell_type": "code",
   "execution_count": 102,
   "id": "694f5a40-7943-4c1a-9dc1-1a41f55fb97a",
   "metadata": {},
   "outputs": [
    {
     "data": {
      "image/png": "[encoded data removed]",
      "text/plain": [
       "<Figure size 1600x600 with 1 Axes>"
      ]
     },
     "metadata": {},
     "output_type": "display_data"
    }
   ],
   "source": [
    "# Вариант 2\n",
    "sns.countplot(x = games_pd.Year)\n",
    "plt.xticks(rotation = 45)\n",
    "sns.despine()"
   ]
  },
  {
   "cell_type": "code",
   "execution_count": 104,
   "id": "4c1e1a7d-ec81-44fb-9316-4fde53ea1f11",
   "metadata": {},
   "outputs": [
    {
     "data": {
      "text/plain": [
       "count    16291.000000\n",
       "mean      2006.405561\n",
       "std          5.832412\n",
       "min       1980.000000\n",
       "25%       2003.000000\n",
       "50%       2007.000000\n",
       "75%       2010.000000\n",
       "max       2020.000000\n",
       "Name: Year, dtype: float64"
      ]
     },
     "execution_count": 104,
     "metadata": {},
     "output_type": "execute_result"
    }
   ],
   "source": [
    "games_pd.Year.describe()"
   ]
  },
  {
   "cell_type": "code",
   "execution_count": 106,
   "id": "f52e636f-3c18-424c-8dd7-cf0b9c1010eb",
   "metadata": {},
   "outputs": [
    {
     "data": {
      "text/plain": [
       "ModeResult(mode=2009, count=1431)"
      ]
     },
     "execution_count": 106,
     "metadata": {},
     "output_type": "execute_result"
    }
   ],
   "source": [
    "# нахождение моды\n",
    "mode(games_pd.Year)"
   ]
  },
  {
   "cell_type": "code",
   "execution_count": 112,
   "id": "cda5927b-691d-46c1-9104-777af6a3e359",
   "metadata": {},
   "outputs": [
    {
     "data": {
      "text/html": [
       "<div>\n",
       "<style scoped>\n",
       "    .dataframe tbody tr th:only-of-type {\n",
       "        vertical-align: middle;\n",
       "    }\n",
       "\n",
       "    .dataframe tbody tr th {\n",
       "        vertical-align: top;\n",
       "    }\n",
       "\n",
       "    .dataframe thead th {\n",
       "        text-align: right;\n",
       "    }\n",
       "</style>\n",
       "<table border=\"1\" class=\"dataframe\">\n",
       "  <thead>\n",
       "    <tr style=\"text-align: right;\">\n",
       "      <th></th>\n",
       "      <th>Year</th>\n",
       "      <th>count</th>\n",
       "    </tr>\n",
       "  </thead>\n",
       "  <tbody>\n",
       "    <tr>\n",
       "      <th>0</th>\n",
       "      <td>2009</td>\n",
       "      <td>1431</td>\n",
       "    </tr>\n",
       "    <tr>\n",
       "      <th>1</th>\n",
       "      <td>2008</td>\n",
       "      <td>1428</td>\n",
       "    </tr>\n",
       "    <tr>\n",
       "      <th>2</th>\n",
       "      <td>2010</td>\n",
       "      <td>1257</td>\n",
       "    </tr>\n",
       "    <tr>\n",
       "      <th>3</th>\n",
       "      <td>2007</td>\n",
       "      <td>1201</td>\n",
       "    </tr>\n",
       "    <tr>\n",
       "      <th>4</th>\n",
       "      <td>2011</td>\n",
       "      <td>1136</td>\n",
       "    </tr>\n",
       "  </tbody>\n",
       "</table>\n",
       "</div>"
      ],
      "text/plain": [
       "   Year  count\n",
       "0  2009   1431\n",
       "1  2008   1428\n",
       "2  2010   1257\n",
       "3  2007   1201\n",
       "4  2011   1136"
      ]
     },
     "execution_count": 112,
     "metadata": {},
     "output_type": "execute_result"
    }
   ],
   "source": [
    "games_pd.Year.value_counts().reset_index().head()"
   ]
  },
  {
   "cell_type": "code",
   "execution_count": 113,
   "id": "08b34705-0abd-4dc2-97fd-c1bc6729f6dd",
   "metadata": {},
   "outputs": [],
   "source": [
    "# мода = 2009 \n",
    "# примерно половина игр были выпущены после 2007 года (50% процентиль (медиана))\n",
    "# медианный год больше чем средний (2007 [50%] > 2006 [mean])"
   ]
  },
  {
   "cell_type": "code",
   "execution_count": null,
   "id": "7874daaf-9357-4fa6-bf55-c3ee9652e803",
   "metadata": {},
   "outputs": [],
   "source": [
    "# 3. На каких платформах произошло больше всего релизов?"
   ]
  },
  {
   "cell_type": "code",
   "execution_count": 134,
   "id": "9ccffaa9-1e0d-4ea0-9953-d0f2049910f3",
   "metadata": {},
   "outputs": [
    {
     "data": {
      "image/png": "[encoded data removed]",
      "text/plain": [
       "<Figure size 1600x600 with 1 Axes>"
      ]
     },
     "metadata": {},
     "output_type": "display_data"
    }
   ],
   "source": [
    "# создание списка из платформ по убыванию их количества\n",
    "platform_counts = games_pd['Platform'].value_counts() \n",
    "\n",
    "# визуализация платформ по убыванию их количества\n",
    "sns.countplot(x = games_pd.Platform, order = platform_counts.index)\n",
    "sns.despine()"
   ]
  },
  {
   "cell_type": "code",
   "execution_count": 135,
   "id": "e2b7d002-2c91-4016-a1ff-8ef139ca42b3",
   "metadata": {},
   "outputs": [
    {
     "data": {
      "text/html": [
       "<div>\n",
       "<style scoped>\n",
       "    .dataframe tbody tr th:only-of-type {\n",
       "        vertical-align: middle;\n",
       "    }\n",
       "\n",
       "    .dataframe tbody tr th {\n",
       "        vertical-align: top;\n",
       "    }\n",
       "\n",
       "    .dataframe thead th {\n",
       "        text-align: right;\n",
       "    }\n",
       "</style>\n",
       "<table border=\"1\" class=\"dataframe\">\n",
       "  <thead>\n",
       "    <tr style=\"text-align: right;\">\n",
       "      <th></th>\n",
       "      <th>Platform</th>\n",
       "      <th>count</th>\n",
       "    </tr>\n",
       "  </thead>\n",
       "  <tbody>\n",
       "    <tr>\n",
       "      <th>0</th>\n",
       "      <td>DS</td>\n",
       "      <td>2131</td>\n",
       "    </tr>\n",
       "    <tr>\n",
       "      <th>1</th>\n",
       "      <td>PS2</td>\n",
       "      <td>2127</td>\n",
       "    </tr>\n",
       "    <tr>\n",
       "      <th>2</th>\n",
       "      <td>PS3</td>\n",
       "      <td>1304</td>\n",
       "    </tr>\n",
       "  </tbody>\n",
       "</table>\n",
       "</div>"
      ],
      "text/plain": [
       "  Platform  count\n",
       "0       DS   2131\n",
       "1      PS2   2127\n",
       "2      PS3   1304"
      ]
     },
     "execution_count": 135,
     "metadata": {},
     "output_type": "execute_result"
    }
   ],
   "source": [
    "games_pd.Platform.value_counts().reset_index().head(3)"
   ]
  },
  {
   "cell_type": "code",
   "execution_count": null,
   "id": "4df0436a-4796-4b93-82c9-498aaade385f",
   "metadata": {},
   "outputs": [],
   "source": [
    "# Cоставить список из платформ, частота встречаемости которых свыше 7%"
   ]
  },
  {
   "cell_type": "code",
   "execution_count": 194,
   "id": "028bbf90-d9de-40b9-a516-9ecc88439ddf",
   "metadata": {},
   "outputs": [
    {
     "data": {
      "text/plain": [
       "['DS', 'PS2', 'PS3', 'Wii', 'X360', 'PSP', 'PS']"
      ]
     },
     "execution_count": 194,
     "metadata": {},
     "output_type": "execute_result"
    }
   ],
   "source": [
    "platform_pct        = games_pd.Platform.value_counts(normalize = True).mul(100).to_frame('pct')\n",
    "platforms_abve_7pct = platform_pct.query(\"pct > 7\").index.to_list()\n",
    "platforms_abve_7pct"
   ]
  },
  {
   "cell_type": "code",
   "execution_count": null,
   "id": "0ea0859f-5fdb-4d11-a79c-e2cf40a1966a",
   "metadata": {},
   "outputs": [],
   "source": [
    "# 4. Игры каких издателей (Publisher) встречаются в датасете чаще всего?"
   ]
  },
  {
   "cell_type": "code",
   "execution_count": 195,
   "id": "8859ddda-8c18-4bb6-b1ba-6eed31a34ddf",
   "metadata": {},
   "outputs": [
    {
     "data": {
      "text/html": [
       "<div>\n",
       "<style scoped>\n",
       "    .dataframe tbody tr th:only-of-type {\n",
       "        vertical-align: middle;\n",
       "    }\n",
       "\n",
       "    .dataframe tbody tr th {\n",
       "        vertical-align: top;\n",
       "    }\n",
       "\n",
       "    .dataframe thead th {\n",
       "        text-align: right;\n",
       "    }\n",
       "</style>\n",
       "<table border=\"1\" class=\"dataframe\">\n",
       "  <thead>\n",
       "    <tr style=\"text-align: right;\">\n",
       "      <th></th>\n",
       "      <th>Rank</th>\n",
       "      <th>Name</th>\n",
       "      <th>Platform</th>\n",
       "      <th>Year</th>\n",
       "      <th>Genre</th>\n",
       "      <th>Publisher</th>\n",
       "      <th>NA_Sales</th>\n",
       "      <th>EU_Sales</th>\n",
       "      <th>JP_Sales</th>\n",
       "      <th>Other_Sales</th>\n",
       "      <th>Global_Sales</th>\n",
       "    </tr>\n",
       "  </thead>\n",
       "  <tbody>\n",
       "    <tr>\n",
       "      <th>0</th>\n",
       "      <td>1</td>\n",
       "      <td>Wii Sports</td>\n",
       "      <td>Wii</td>\n",
       "      <td>2006</td>\n",
       "      <td>Sports</td>\n",
       "      <td>Nintendo</td>\n",
       "      <td>41.49</td>\n",
       "      <td>29.02</td>\n",
       "      <td>3.77</td>\n",
       "      <td>8.46</td>\n",
       "      <td>82.74</td>\n",
       "    </tr>\n",
       "    <tr>\n",
       "      <th>1</th>\n",
       "      <td>2</td>\n",
       "      <td>Super Mario Bros.</td>\n",
       "      <td>NES</td>\n",
       "      <td>1985</td>\n",
       "      <td>Platform</td>\n",
       "      <td>Nintendo</td>\n",
       "      <td>29.08</td>\n",
       "      <td>3.58</td>\n",
       "      <td>6.81</td>\n",
       "      <td>0.77</td>\n",
       "      <td>40.24</td>\n",
       "    </tr>\n",
       "    <tr>\n",
       "      <th>2</th>\n",
       "      <td>3</td>\n",
       "      <td>Mario Kart Wii</td>\n",
       "      <td>Wii</td>\n",
       "      <td>2008</td>\n",
       "      <td>Racing</td>\n",
       "      <td>Nintendo</td>\n",
       "      <td>15.85</td>\n",
       "      <td>12.88</td>\n",
       "      <td>3.79</td>\n",
       "      <td>3.31</td>\n",
       "      <td>35.82</td>\n",
       "    </tr>\n",
       "  </tbody>\n",
       "</table>\n",
       "</div>"
      ],
      "text/plain": [
       "   Rank               Name Platform  Year     Genre Publisher  NA_Sales  \\\n",
       "0     1         Wii Sports      Wii  2006    Sports  Nintendo     41.49   \n",
       "1     2  Super Mario Bros.      NES  1985  Platform  Nintendo     29.08   \n",
       "2     3     Mario Kart Wii      Wii  2008    Racing  Nintendo     15.85   \n",
       "\n",
       "   EU_Sales  JP_Sales  Other_Sales  Global_Sales  \n",
       "0     29.02      3.77         8.46         82.74  \n",
       "1      3.58      6.81         0.77         40.24  \n",
       "2     12.88      3.79         3.31         35.82  "
      ]
     },
     "execution_count": 195,
     "metadata": {},
     "output_type": "execute_result"
    }
   ],
   "source": [
    "games_pd.head(3)"
   ]
  },
  {
   "cell_type": "code",
   "execution_count": 202,
   "id": "8ca13fe4-3aca-4fc1-b977-5583fe232655",
   "metadata": {},
   "outputs": [
    {
     "data": {
      "text/plain": [
       "['Electronic Arts',\n",
       " 'Activision',\n",
       " 'Namco Bandai Games',\n",
       " 'Ubisoft',\n",
       " 'Konami Digital Entertainment']"
      ]
     },
     "execution_count": 202,
     "metadata": {},
     "output_type": "execute_result"
    }
   ],
   "source": [
    "games_pd.Publisher.value_counts().head(5).index.to_list()"
   ]
  },
  {
   "cell_type": "code",
   "execution_count": 214,
   "id": "f0f2ca80-714d-43b1-a286-df069fcfb242",
   "metadata": {},
   "outputs": [
    {
     "data": {
      "text/html": [
       "<div>\n",
       "<style scoped>\n",
       "    .dataframe tbody tr th:only-of-type {\n",
       "        vertical-align: middle;\n",
       "    }\n",
       "\n",
       "    .dataframe tbody tr th {\n",
       "        vertical-align: top;\n",
       "    }\n",
       "\n",
       "    .dataframe thead th {\n",
       "        text-align: right;\n",
       "    }\n",
       "</style>\n",
       "<table border=\"1\" class=\"dataframe\">\n",
       "  <thead>\n",
       "    <tr style=\"text-align: right;\">\n",
       "      <th></th>\n",
       "      <th>rate</th>\n",
       "    </tr>\n",
       "    <tr>\n",
       "      <th>Publisher</th>\n",
       "      <th></th>\n",
       "    </tr>\n",
       "  </thead>\n",
       "  <tbody>\n",
       "    <tr>\n",
       "      <th>Electronic Arts</th>\n",
       "      <td>8.219262</td>\n",
       "    </tr>\n",
       "    <tr>\n",
       "      <th>Activision</th>\n",
       "      <td>5.929654</td>\n",
       "    </tr>\n",
       "    <tr>\n",
       "      <th>Namco Bandai Games</th>\n",
       "      <td>5.696397</td>\n",
       "    </tr>\n",
       "    <tr>\n",
       "      <th>Ubisoft</th>\n",
       "      <td>5.635013</td>\n",
       "    </tr>\n",
       "    <tr>\n",
       "      <th>Konami Digital Entertainment</th>\n",
       "      <td>5.051869</td>\n",
       "    </tr>\n",
       "    <tr>\n",
       "      <th>...</th>\n",
       "      <td>...</td>\n",
       "    </tr>\n",
       "    <tr>\n",
       "      <th>Detn8 Games</th>\n",
       "      <td>0.006138</td>\n",
       "    </tr>\n",
       "    <tr>\n",
       "      <th>Pow</th>\n",
       "      <td>0.006138</td>\n",
       "    </tr>\n",
       "    <tr>\n",
       "      <th>Navarre Corp</th>\n",
       "      <td>0.006138</td>\n",
       "    </tr>\n",
       "    <tr>\n",
       "      <th>MediaQuest</th>\n",
       "      <td>0.006138</td>\n",
       "    </tr>\n",
       "    <tr>\n",
       "      <th>UIG Entertainment</th>\n",
       "      <td>0.006138</td>\n",
       "    </tr>\n",
       "  </tbody>\n",
       "</table>\n",
       "<p>576 rows × 1 columns</p>\n",
       "</div>"
      ],
      "text/plain": [
       "                                  rate\n",
       "Publisher                             \n",
       "Electronic Arts               8.219262\n",
       "Activision                    5.929654\n",
       "Namco Bandai Games            5.696397\n",
       "Ubisoft                       5.635013\n",
       "Konami Digital Entertainment  5.051869\n",
       "...                                ...\n",
       "Detn8 Games                   0.006138\n",
       "Pow                           0.006138\n",
       "Navarre Corp                  0.006138\n",
       "MediaQuest                    0.006138\n",
       "UIG Entertainment             0.006138\n",
       "\n",
       "[576 rows x 1 columns]"
      ]
     },
     "execution_count": 214,
     "metadata": {},
     "output_type": "execute_result"
    }
   ],
   "source": [
    "publisher_rate = games_pd.Publisher.value_counts(normalize = True).mul(100).to_frame('rate')\n",
    "publisher_rate"
   ]
  },
  {
   "cell_type": "code",
   "execution_count": 215,
   "id": "723cf042-7b06-4bcc-9f92-3736bdd708a0",
   "metadata": {},
   "outputs": [
    {
     "data": {
      "text/plain": [
       "['Electronic Arts',\n",
       " 'Activision',\n",
       " 'Namco Bandai Games',\n",
       " 'Ubisoft',\n",
       " 'Konami Digital Entertainment',\n",
       " 'THQ',\n",
       " 'Nintendo',\n",
       " 'Sony Computer Entertainment',\n",
       " 'Sega']"
      ]
     },
     "execution_count": 215,
     "metadata": {},
     "output_type": "execute_result"
    }
   ],
   "source": [
    "# Отбор издателей, доля которых в датасете свыше 3%\n",
    "publisher_rate.query(\"rate > 3\").index.to_list()"
   ]
  },
  {
   "cell_type": "code",
   "execution_count": 221,
   "id": "1121343a-393b-4879-b5a4-79e4e7996e33",
   "metadata": {},
   "outputs": [
    {
     "data": {
      "text/html": [
       "<div>\n",
       "<style scoped>\n",
       "    .dataframe tbody tr th:only-of-type {\n",
       "        vertical-align: middle;\n",
       "    }\n",
       "\n",
       "    .dataframe tbody tr th {\n",
       "        vertical-align: top;\n",
       "    }\n",
       "\n",
       "    .dataframe thead th {\n",
       "        text-align: right;\n",
       "    }\n",
       "</style>\n",
       "<table border=\"1\" class=\"dataframe\">\n",
       "  <thead>\n",
       "    <tr style=\"text-align: right;\">\n",
       "      <th></th>\n",
       "      <th>rate</th>\n",
       "    </tr>\n",
       "    <tr>\n",
       "      <th>Publisher</th>\n",
       "      <th></th>\n",
       "    </tr>\n",
       "  </thead>\n",
       "  <tbody>\n",
       "    <tr>\n",
       "      <th>Electronic Arts</th>\n",
       "      <td>8.219262</td>\n",
       "    </tr>\n",
       "  </tbody>\n",
       "</table>\n",
       "</div>"
      ],
      "text/plain": [
       "                     rate\n",
       "Publisher                \n",
       "Electronic Arts  8.219262"
      ]
     },
     "execution_count": 221,
     "metadata": {},
     "output_type": "execute_result"
    }
   ],
   "source": [
    "# Издатель с максимальной частотой встречаемости\n",
    "publisher_rate.head(1)"
   ]
  },
  {
   "cell_type": "code",
   "execution_count": 264,
   "id": "9bbdfcad-f5ec-441c-8462-7fc8d1d01b0b",
   "metadata": {},
   "outputs": [],
   "source": [
    "# 6. В каком регионе медианное значение объема продаж игр является наибольшим? (Регионы: NA, EU, JP, Other)"
   ]
  },
  {
   "cell_type": "code",
   "execution_count": 223,
   "id": "acd8b938-1923-4533-9cb3-52b692093577",
   "metadata": {},
   "outputs": [
    {
     "data": {
      "text/html": [
       "<div>\n",
       "<style scoped>\n",
       "    .dataframe tbody tr th:only-of-type {\n",
       "        vertical-align: middle;\n",
       "    }\n",
       "\n",
       "    .dataframe tbody tr th {\n",
       "        vertical-align: top;\n",
       "    }\n",
       "\n",
       "    .dataframe thead th {\n",
       "        text-align: right;\n",
       "    }\n",
       "</style>\n",
       "<table border=\"1\" class=\"dataframe\">\n",
       "  <thead>\n",
       "    <tr style=\"text-align: right;\">\n",
       "      <th></th>\n",
       "      <th>Rank</th>\n",
       "      <th>Name</th>\n",
       "      <th>Platform</th>\n",
       "      <th>Year</th>\n",
       "      <th>Genre</th>\n",
       "      <th>Publisher</th>\n",
       "      <th>NA_Sales</th>\n",
       "      <th>EU_Sales</th>\n",
       "      <th>JP_Sales</th>\n",
       "      <th>Other_Sales</th>\n",
       "      <th>Global_Sales</th>\n",
       "    </tr>\n",
       "  </thead>\n",
       "  <tbody>\n",
       "    <tr>\n",
       "      <th>0</th>\n",
       "      <td>1</td>\n",
       "      <td>Wii Sports</td>\n",
       "      <td>Wii</td>\n",
       "      <td>2006</td>\n",
       "      <td>Sports</td>\n",
       "      <td>Nintendo</td>\n",
       "      <td>41.49</td>\n",
       "      <td>29.02</td>\n",
       "      <td>3.77</td>\n",
       "      <td>8.46</td>\n",
       "      <td>82.74</td>\n",
       "    </tr>\n",
       "    <tr>\n",
       "      <th>1</th>\n",
       "      <td>2</td>\n",
       "      <td>Super Mario Bros.</td>\n",
       "      <td>NES</td>\n",
       "      <td>1985</td>\n",
       "      <td>Platform</td>\n",
       "      <td>Nintendo</td>\n",
       "      <td>29.08</td>\n",
       "      <td>3.58</td>\n",
       "      <td>6.81</td>\n",
       "      <td>0.77</td>\n",
       "      <td>40.24</td>\n",
       "    </tr>\n",
       "    <tr>\n",
       "      <th>2</th>\n",
       "      <td>3</td>\n",
       "      <td>Mario Kart Wii</td>\n",
       "      <td>Wii</td>\n",
       "      <td>2008</td>\n",
       "      <td>Racing</td>\n",
       "      <td>Nintendo</td>\n",
       "      <td>15.85</td>\n",
       "      <td>12.88</td>\n",
       "      <td>3.79</td>\n",
       "      <td>3.31</td>\n",
       "      <td>35.82</td>\n",
       "    </tr>\n",
       "  </tbody>\n",
       "</table>\n",
       "</div>"
      ],
      "text/plain": [
       "   Rank               Name Platform  Year     Genre Publisher  NA_Sales  \\\n",
       "0     1         Wii Sports      Wii  2006    Sports  Nintendo     41.49   \n",
       "1     2  Super Mario Bros.      NES  1985  Platform  Nintendo     29.08   \n",
       "2     3     Mario Kart Wii      Wii  2008    Racing  Nintendo     15.85   \n",
       "\n",
       "   EU_Sales  JP_Sales  Other_Sales  Global_Sales  \n",
       "0     29.02      3.77         8.46         82.74  \n",
       "1      3.58      6.81         0.77         40.24  \n",
       "2     12.88      3.79         3.31         35.82  "
      ]
     },
     "execution_count": 223,
     "metadata": {},
     "output_type": "execute_result"
    }
   ],
   "source": [
    "games_pd.head(3)"
   ]
  },
  {
   "cell_type": "code",
   "execution_count": 263,
   "id": "65935ff3-bf10-404f-aac7-f2bbac5b6bc3",
   "metadata": {},
   "outputs": [
    {
     "data": {
      "text/html": [
       "<div>\n",
       "<style scoped>\n",
       "    .dataframe tbody tr th:only-of-type {\n",
       "        vertical-align: middle;\n",
       "    }\n",
       "\n",
       "    .dataframe tbody tr th {\n",
       "        vertical-align: top;\n",
       "    }\n",
       "\n",
       "    .dataframe thead th {\n",
       "        text-align: right;\n",
       "    }\n",
       "</style>\n",
       "<table border=\"1\" class=\"dataframe\">\n",
       "  <thead>\n",
       "    <tr style=\"text-align: right;\">\n",
       "      <th></th>\n",
       "      <th>NA_Sales</th>\n",
       "      <th>EU_Sales</th>\n",
       "      <th>JP_Sales</th>\n",
       "      <th>Other_Sales</th>\n",
       "    </tr>\n",
       "  </thead>\n",
       "  <tbody>\n",
       "    <tr>\n",
       "      <th>mean</th>\n",
       "      <td>0.265647</td>\n",
       "      <td>0.147731</td>\n",
       "      <td>0.078833</td>\n",
       "      <td>0.048426</td>\n",
       "    </tr>\n",
       "    <tr>\n",
       "      <th>median</th>\n",
       "      <td>0.080000</td>\n",
       "      <td>0.020000</td>\n",
       "      <td>0.000000</td>\n",
       "      <td>0.010000</td>\n",
       "    </tr>\n",
       "    <tr>\n",
       "      <th>std</th>\n",
       "      <td>0.822432</td>\n",
       "      <td>0.509303</td>\n",
       "      <td>0.311879</td>\n",
       "      <td>0.190083</td>\n",
       "    </tr>\n",
       "  </tbody>\n",
       "</table>\n",
       "</div>"
      ],
      "text/plain": [
       "        NA_Sales  EU_Sales  JP_Sales  Other_Sales\n",
       "mean    0.265647  0.147731  0.078833     0.048426\n",
       "median  0.080000  0.020000  0.000000     0.010000\n",
       "std     0.822432  0.509303  0.311879     0.190083"
      ]
     },
     "execution_count": 263,
     "metadata": {},
     "output_type": "execute_result"
    }
   ],
   "source": [
    "games_pd[['NA_Sales', 'EU_Sales', \t'JP_Sales', 'Other_Sales']].agg(['mean', 'median', 'std'])"
   ]
  },
  {
   "cell_type": "code",
   "execution_count": 266,
   "id": "4e1c8f86-677f-4e79-a6e7-b6e5a353d19f",
   "metadata": {},
   "outputs": [],
   "source": [
    "# 6. Изучите объемы продаж игр Nintendo в Японии с разбивкой по жанрам. Посмотрите на медиану, среднее, межквартильный размах."
   ]
  },
  {
   "cell_type": "code",
   "execution_count": 284,
   "id": "a4c3591b-af99-4446-bda4-1198ef751898",
   "metadata": {},
   "outputs": [
    {
     "data": {
      "text/html": [
       "<div>\n",
       "<style scoped>\n",
       "    .dataframe tbody tr th:only-of-type {\n",
       "        vertical-align: middle;\n",
       "    }\n",
       "\n",
       "    .dataframe tbody tr th {\n",
       "        vertical-align: top;\n",
       "    }\n",
       "\n",
       "    .dataframe thead tr th {\n",
       "        text-align: left;\n",
       "    }\n",
       "\n",
       "    .dataframe thead tr:last-of-type th {\n",
       "        text-align: right;\n",
       "    }\n",
       "</style>\n",
       "<table border=\"1\" class=\"dataframe\">\n",
       "  <thead>\n",
       "    <tr>\n",
       "      <th></th>\n",
       "      <th colspan=\"3\" halign=\"left\">JP_Sales</th>\n",
       "    </tr>\n",
       "    <tr>\n",
       "      <th></th>\n",
       "      <th>median</th>\n",
       "      <th>mean</th>\n",
       "      <th>std</th>\n",
       "    </tr>\n",
       "    <tr>\n",
       "      <th>Genre</th>\n",
       "      <th></th>\n",
       "      <th></th>\n",
       "      <th></th>\n",
       "    </tr>\n",
       "  </thead>\n",
       "  <tbody>\n",
       "    <tr>\n",
       "      <th>Action</th>\n",
       "      <td>0.170</td>\n",
       "      <td>0.373846</td>\n",
       "      <td>0.554997</td>\n",
       "    </tr>\n",
       "    <tr>\n",
       "      <th>Adventure</th>\n",
       "      <td>0.090</td>\n",
       "      <td>0.257429</td>\n",
       "      <td>0.514909</td>\n",
       "    </tr>\n",
       "    <tr>\n",
       "      <th>Fighting</th>\n",
       "      <td>0.500</td>\n",
       "      <td>0.830000</td>\n",
       "      <td>0.843529</td>\n",
       "    </tr>\n",
       "    <tr>\n",
       "      <th>Misc</th>\n",
       "      <td>0.250</td>\n",
       "      <td>0.552500</td>\n",
       "      <td>0.786361</td>\n",
       "    </tr>\n",
       "    <tr>\n",
       "      <th>Platform</th>\n",
       "      <td>0.540</td>\n",
       "      <td>0.922162</td>\n",
       "      <td>1.181532</td>\n",
       "    </tr>\n",
       "    <tr>\n",
       "      <th>Puzzle</th>\n",
       "      <td>0.255</td>\n",
       "      <td>0.501216</td>\n",
       "      <td>0.835924</td>\n",
       "    </tr>\n",
       "    <tr>\n",
       "      <th>Racing</th>\n",
       "      <td>0.340</td>\n",
       "      <td>0.789730</td>\n",
       "      <td>1.132714</td>\n",
       "    </tr>\n",
       "    <tr>\n",
       "      <th>Role-Playing</th>\n",
       "      <td>0.360</td>\n",
       "      <td>0.970952</td>\n",
       "      <td>1.661960</td>\n",
       "    </tr>\n",
       "    <tr>\n",
       "      <th>Shooter</th>\n",
       "      <td>0.130</td>\n",
       "      <td>0.251250</td>\n",
       "      <td>0.316685</td>\n",
       "    </tr>\n",
       "    <tr>\n",
       "      <th>Simulation</th>\n",
       "      <td>0.390</td>\n",
       "      <td>0.844643</td>\n",
       "      <td>1.269434</td>\n",
       "    </tr>\n",
       "    <tr>\n",
       "      <th>Sports</th>\n",
       "      <td>0.250</td>\n",
       "      <td>0.652182</td>\n",
       "      <td>0.948470</td>\n",
       "    </tr>\n",
       "    <tr>\n",
       "      <th>Strategy</th>\n",
       "      <td>0.190</td>\n",
       "      <td>0.337419</td>\n",
       "      <td>0.402409</td>\n",
       "    </tr>\n",
       "  </tbody>\n",
       "</table>\n",
       "</div>"
      ],
      "text/plain": [
       "             JP_Sales                    \n",
       "               median      mean       std\n",
       "Genre                                    \n",
       "Action          0.170  0.373846  0.554997\n",
       "Adventure       0.090  0.257429  0.514909\n",
       "Fighting        0.500  0.830000  0.843529\n",
       "Misc            0.250  0.552500  0.786361\n",
       "Platform        0.540  0.922162  1.181532\n",
       "Puzzle          0.255  0.501216  0.835924\n",
       "Racing          0.340  0.789730  1.132714\n",
       "Role-Playing    0.360  0.970952  1.661960\n",
       "Shooter         0.130  0.251250  0.316685\n",
       "Simulation      0.390  0.844643  1.269434\n",
       "Sports          0.250  0.652182  0.948470\n",
       "Strategy        0.190  0.337419  0.402409"
      ]
     },
     "execution_count": 284,
     "metadata": {},
     "output_type": "execute_result"
    }
   ],
   "source": [
    "Nintendo_JP_by_Genre = games_pd[games_pd.Publisher == 'Nintendo']\\\n",
    "                                .groupby('Genre')\\\n",
    "                                .agg({'JP_Sales':['median', 'mean', 'std']})\n",
    "Nintendo_JP_by_Genre"
   ]
  },
  {
   "cell_type": "code",
   "execution_count": 295,
   "id": "ca5a508c-3840-426d-8a32-3145f9551eb8",
   "metadata": {
    "scrolled": true
   },
   "outputs": [
    {
     "data": {
      "text/plain": [
       "<Axes: xlabel='Genre', ylabel='JP_Sales'>"
      ]
     },
     "execution_count": 295,
     "metadata": {},
     "output_type": "execute_result"
    },
    {
     "data": {
      "image/png": "[encoded data removed]",
      "text/plain": [
       "<Figure size 1600x600 with 1 Axes>"
      ]
     },
     "metadata": {},
     "output_type": "display_data"
    }
   ],
   "source": [
    "sns.boxplot(data = games_pd[games_pd.Publisher == 'Nintendo'], x = 'Genre', y = 'JP_Sales')"
   ]
  },
  {
   "cell_type": "code",
   "execution_count": 296,
   "id": "ffb56d29-a1c2-4106-8473-7c50e13f6d58",
   "metadata": {},
   "outputs": [],
   "source": [
    "# 7. Визуализируйте динамику изменения объема мировых продаж (Global_Sales) по годам для игр Nintendo следующих жанров: \n",
    "#    Fighting, Simulation, Platform, Racing, Sports. В какие моменты времени было продано больше всего игр жанра Sports?"
   ]
  },
  {
   "cell_type": "code",
   "execution_count": 297,
   "id": "211ed856-4b4a-4b06-b911-805337113586",
   "metadata": {},
   "outputs": [
    {
     "data": {
      "text/html": [
       "<div>\n",
       "<style scoped>\n",
       "    .dataframe tbody tr th:only-of-type {\n",
       "        vertical-align: middle;\n",
       "    }\n",
       "\n",
       "    .dataframe tbody tr th {\n",
       "        vertical-align: top;\n",
       "    }\n",
       "\n",
       "    .dataframe thead th {\n",
       "        text-align: right;\n",
       "    }\n",
       "</style>\n",
       "<table border=\"1\" class=\"dataframe\">\n",
       "  <thead>\n",
       "    <tr style=\"text-align: right;\">\n",
       "      <th></th>\n",
       "      <th>Rank</th>\n",
       "      <th>Name</th>\n",
       "      <th>Platform</th>\n",
       "      <th>Year</th>\n",
       "      <th>Genre</th>\n",
       "      <th>Publisher</th>\n",
       "      <th>NA_Sales</th>\n",
       "      <th>EU_Sales</th>\n",
       "      <th>JP_Sales</th>\n",
       "      <th>Other_Sales</th>\n",
       "      <th>Global_Sales</th>\n",
       "    </tr>\n",
       "  </thead>\n",
       "  <tbody>\n",
       "    <tr>\n",
       "      <th>0</th>\n",
       "      <td>1</td>\n",
       "      <td>Wii Sports</td>\n",
       "      <td>Wii</td>\n",
       "      <td>2006</td>\n",
       "      <td>Sports</td>\n",
       "      <td>Nintendo</td>\n",
       "      <td>41.49</td>\n",
       "      <td>29.02</td>\n",
       "      <td>3.77</td>\n",
       "      <td>8.46</td>\n",
       "      <td>82.74</td>\n",
       "    </tr>\n",
       "    <tr>\n",
       "      <th>1</th>\n",
       "      <td>2</td>\n",
       "      <td>Super Mario Bros.</td>\n",
       "      <td>NES</td>\n",
       "      <td>1985</td>\n",
       "      <td>Platform</td>\n",
       "      <td>Nintendo</td>\n",
       "      <td>29.08</td>\n",
       "      <td>3.58</td>\n",
       "      <td>6.81</td>\n",
       "      <td>0.77</td>\n",
       "      <td>40.24</td>\n",
       "    </tr>\n",
       "  </tbody>\n",
       "</table>\n",
       "</div>"
      ],
      "text/plain": [
       "   Rank               Name Platform  Year     Genre Publisher  NA_Sales  \\\n",
       "0     1         Wii Sports      Wii  2006    Sports  Nintendo     41.49   \n",
       "1     2  Super Mario Bros.      NES  1985  Platform  Nintendo     29.08   \n",
       "\n",
       "   EU_Sales  JP_Sales  Other_Sales  Global_Sales  \n",
       "0     29.02      3.77         8.46         82.74  \n",
       "1      3.58      6.81         0.77         40.24  "
      ]
     },
     "execution_count": 297,
     "metadata": {},
     "output_type": "execute_result"
    }
   ],
   "source": [
    "games_pd.head(2)"
   ]
  },
  {
   "cell_type": "code",
   "execution_count": 348,
   "id": "edd3578f-5e27-44d0-9d52-1bfb0d38e571",
   "metadata": {},
   "outputs": [
    {
     "data": {
      "text/html": [
       "<div>\n",
       "<style scoped>\n",
       "    .dataframe tbody tr th:only-of-type {\n",
       "        vertical-align: middle;\n",
       "    }\n",
       "\n",
       "    .dataframe tbody tr th {\n",
       "        vertical-align: top;\n",
       "    }\n",
       "\n",
       "    .dataframe thead th {\n",
       "        text-align: right;\n",
       "    }\n",
       "</style>\n",
       "<table border=\"1\" class=\"dataframe\">\n",
       "  <thead>\n",
       "    <tr style=\"text-align: right;\">\n",
       "      <th></th>\n",
       "      <th>Genre</th>\n",
       "      <th>Year</th>\n",
       "      <th>Global_Sales</th>\n",
       "    </tr>\n",
       "  </thead>\n",
       "  <tbody>\n",
       "    <tr>\n",
       "      <th>0</th>\n",
       "      <td>Fighting</td>\n",
       "      <td>1987</td>\n",
       "      <td>5.42</td>\n",
       "    </tr>\n",
       "    <tr>\n",
       "      <th>1</th>\n",
       "      <td>Fighting</td>\n",
       "      <td>1993</td>\n",
       "      <td>2.00</td>\n",
       "    </tr>\n",
       "    <tr>\n",
       "      <th>2</th>\n",
       "      <td>Fighting</td>\n",
       "      <td>1995</td>\n",
       "      <td>3.20</td>\n",
       "    </tr>\n",
       "    <tr>\n",
       "      <th>3</th>\n",
       "      <td>Fighting</td>\n",
       "      <td>1996</td>\n",
       "      <td>0.99</td>\n",
       "    </tr>\n",
       "    <tr>\n",
       "      <th>4</th>\n",
       "      <td>Fighting</td>\n",
       "      <td>1999</td>\n",
       "      <td>5.55</td>\n",
       "    </tr>\n",
       "    <tr>\n",
       "      <th>...</th>\n",
       "      <td>...</td>\n",
       "      <td>...</td>\n",
       "      <td>...</td>\n",
       "    </tr>\n",
       "    <tr>\n",
       "      <th>109</th>\n",
       "      <td>Sports</td>\n",
       "      <td>2010</td>\n",
       "      <td>2.18</td>\n",
       "    </tr>\n",
       "    <tr>\n",
       "      <th>110</th>\n",
       "      <td>Sports</td>\n",
       "      <td>2012</td>\n",
       "      <td>1.05</td>\n",
       "    </tr>\n",
       "    <tr>\n",
       "      <th>111</th>\n",
       "      <td>Sports</td>\n",
       "      <td>2013</td>\n",
       "      <td>1.69</td>\n",
       "    </tr>\n",
       "    <tr>\n",
       "      <th>112</th>\n",
       "      <td>Sports</td>\n",
       "      <td>2014</td>\n",
       "      <td>0.88</td>\n",
       "    </tr>\n",
       "    <tr>\n",
       "      <th>113</th>\n",
       "      <td>Sports</td>\n",
       "      <td>2015</td>\n",
       "      <td>0.45</td>\n",
       "    </tr>\n",
       "  </tbody>\n",
       "</table>\n",
       "<p>114 rows × 3 columns</p>\n",
       "</div>"
      ],
      "text/plain": [
       "        Genre  Year  Global_Sales\n",
       "0    Fighting  1987          5.42\n",
       "1    Fighting  1993          2.00\n",
       "2    Fighting  1995          3.20\n",
       "3    Fighting  1996          0.99\n",
       "4    Fighting  1999          5.55\n",
       "..        ...   ...           ...\n",
       "109    Sports  2010          2.18\n",
       "110    Sports  2012          1.05\n",
       "111    Sports  2013          1.69\n",
       "112    Sports  2014          0.88\n",
       "113    Sports  2015          0.45\n",
       "\n",
       "[114 rows x 3 columns]"
      ]
     },
     "execution_count": 348,
     "metadata": {},
     "output_type": "execute_result"
    }
   ],
   "source": [
    "Nintendo_Global_by_Years_by_query_genre = \\\n",
    "games_pd.query(\"Publisher == 'Nintendo' and Genre in ['Fighting', 'Simulation', 'Platform', 'Racing', 'Sports']\")\\\n",
    "        .groupby([\"Genre\", \"Year\"])\\\n",
    "        .agg({'Global_Sales':'sum'})\\\n",
    "        .reset_index()\n",
    "Nintendo_Global_by_Years_by_query_genre"
   ]
  },
  {
   "cell_type": "code",
   "execution_count": 351,
   "id": "e4fc0c48-124c-4f38-9f90-a6e442d0ed90",
   "metadata": {},
   "outputs": [
    {
     "data": {
      "text/plain": [
       "<Axes: xlabel='Year', ylabel='Global_Sales'>"
      ]
     },
     "execution_count": 351,
     "metadata": {},
     "output_type": "execute_result"
    },
    {
     "data": {
      "image/png": "[encoded data removed]",
      "text/plain": [
       "<Figure size 1600x600 with 1 Axes>"
      ]
     },
     "metadata": {},
     "output_type": "display_data"
    }
   ],
   "source": [
    "sns.barplot(Nintendo_Global_by_Years_by_query_genre, x = 'Year', y = 'Global_Sales', hue = 'Genre')"
   ]
  },
  {
   "cell_type": "code",
   "execution_count": 379,
   "id": "9b67ddcd-d0aa-449d-b876-f96b7ee06ce0",
   "metadata": {},
   "outputs": [
    {
     "data": {
      "text/html": [
       "<div>\n",
       "<style scoped>\n",
       "    .dataframe tbody tr th:only-of-type {\n",
       "        vertical-align: middle;\n",
       "    }\n",
       "\n",
       "    .dataframe tbody tr th {\n",
       "        vertical-align: top;\n",
       "    }\n",
       "\n",
       "    .dataframe thead th {\n",
       "        text-align: right;\n",
       "    }\n",
       "</style>\n",
       "<table border=\"1\" class=\"dataframe\">\n",
       "  <thead>\n",
       "    <tr style=\"text-align: right;\">\n",
       "      <th></th>\n",
       "      <th>Genre</th>\n",
       "      <th>Year</th>\n",
       "      <th>Global_Sales</th>\n",
       "    </tr>\n",
       "  </thead>\n",
       "  <tbody>\n",
       "    <tr>\n",
       "      <th>19</th>\n",
       "      <td>Sports</td>\n",
       "      <td>2006</td>\n",
       "      <td>84.62</td>\n",
       "    </tr>\n",
       "    <tr>\n",
       "      <th>22</th>\n",
       "      <td>Sports</td>\n",
       "      <td>2009</td>\n",
       "      <td>56.67</td>\n",
       "    </tr>\n",
       "    <tr>\n",
       "      <th>20</th>\n",
       "      <td>Sports</td>\n",
       "      <td>2007</td>\n",
       "      <td>25.63</td>\n",
       "    </tr>\n",
       "  </tbody>\n",
       "</table>\n",
       "</div>"
      ],
      "text/plain": [
       "     Genre  Year  Global_Sales\n",
       "19  Sports  2006         84.62\n",
       "22  Sports  2009         56.67\n",
       "20  Sports  2007         25.63"
      ]
     },
     "execution_count": 379,
     "metadata": {},
     "output_type": "execute_result"
    }
   ],
   "source": [
    "# В какие моменты времени было продано больше всего игр жанра Sports?\n",
    "\n",
    "Nintendo_Global_by_Years_by_query_Sports = \\\n",
    "games_pd.query(\"Publisher == 'Nintendo' and Genre == 'Sports'\")\\\n",
    "        .groupby([\"Genre\", \"Year\"])\\\n",
    "        .agg({'Global_Sales':'sum'})\\\n",
    "        .reset_index()\n",
    "Nintendo_Global_by_Years_by_query_Sports.sort_values(\"Global_Sales\", ascending = False).head(3)"
   ]
  }
 ],
 "metadata": {
  "kernelspec": {
   "display_name": "Python 3 (ipykernel)",
   "language": "python",
   "name": "python3"
  },
  "language_info": {
   "codemirror_mode": {
    "name": "ipython",
    "version": 3
   },
   "file_extension": ".py",
   "mimetype": "text/x-python",
   "name": "python",
   "nbconvert_exporter": "python",
   "pygments_lexer": "ipython3",
   "version": "3.12.4"
  }
 },
 "nbformat": 4,
 "nbformat_minor": 5
}
