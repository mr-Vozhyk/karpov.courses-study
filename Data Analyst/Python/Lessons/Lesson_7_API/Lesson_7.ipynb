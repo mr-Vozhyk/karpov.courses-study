{
 "cells": [
  {
   "cell_type": "markdown",
   "id": "290fcbe8-f256-48b4-8d67-201e1763e852",
   "metadata": {},
   "source": [
    "# Lesson 7. API"
   ]
  },
  {
   "cell_type": "markdown",
   "id": "f1c04cc7-de0b-43fd-85f0-8f1cd867874a",
   "metadata": {},
   "source": [
    "#### VK api"
   ]
  },
  {
   "cell_type": "code",
   "execution_count": null,
   "id": "e7563ba5-fbc8-46e0-b29d-0b4287d14434",
   "metadata": {},
   "outputs": [],
   "source": [
    "import pandas as pd\n",
    "import datetime\n",
    "import vk_api\n",
    "import os\n",
    "import requests\n",
    "import json\n",
    "import random\n",
    "\n",
    "%matplotlib inline\n",
    "import matplotlib.pyplot as plt\n",
    "import seaborn as sns\n",
    "import sys"
   ]
  },
  {
   "cell_type": "code",
   "execution_count": null,
   "id": "16cbd195-2b98-4f44-9a27-cb2d0e8baf3b",
   "metadata": {},
   "outputs": [],
   "source": [
    "token = '4e6e771d37dbcbcfcc3b53d291a274d3ae21560a2e81f058a7c177aff044b5141941e89aff1fead50be4f'"
   ]
  },
  {
   "cell_type": "code",
   "execution_count": null,
   "id": "51ca9400-e2e1-4047-bbe3-c33e1276bbe1",
   "metadata": {},
   "outputs": [],
   "source": [
    "vk_session = vk_api.VkApi(token=token)\n",
    "vk         = vk_session.get_api()"
   ]
  },
  {
   "cell_type": "code",
   "execution_count": null,
   "id": "346b2b91-bc62-41fe-9dda-4a27a29457e5",
   "metadata": {},
   "outputs": [],
   "source": [
    "vk.messages.send(\n",
    "    chat_id   = 1,\n",
    "    random_id = 2,\n",
    "    message   = 'Matrix has you ...')"
   ]
  },
  {
   "cell_type": "code",
   "execution_count": null,
   "id": "7ab12e93-f6d8-4112-9bc4-1240e434658f",
   "metadata": {},
   "outputs": [],
   "source": [
    "df = pd.read_csv('/home/jupyter-an.karpov/shared/ads_data.csv.zip', compression = 'zip')\n"
   ]
  },
  {
   "cell_type": "code",
   "execution_count": null,
   "id": "35331f31-833c-4f01-85b6-7add0c6969a9",
   "metadata": {},
   "outputs": [],
   "source": [
    "ad_data = df.groupby(['ad_id', 'event'], as_index=False) \\\n",
    "            .agg({'user_id': 'count'})"
   ]
  },
  {
   "cell_type": "code",
   "execution_count": null,
   "id": "30f32a1a-9944-489b-adae-f0acb20dc754",
   "metadata": {},
   "outputs": [],
   "source": [
    "ad_data = ad_data.pivot(index='ad_id', columns='event', values='user_id').reset_index()"
   ]
  },
  {
   "cell_type": "code",
   "execution_count": null,
   "id": "406dba6b-104f-4065-b6e9-9b6eda8ef2e3",
   "metadata": {},
   "outputs": [],
   "source": [
    "ad_data = ad_data.fillna(0).assign(ctr=ad_data.click / ad_data.view)"
   ]
  },
  {
   "cell_type": "code",
   "execution_count": null,
   "id": "1585c579-7932-4dee-9ad7-84401c55b649",
   "metadata": {},
   "outputs": [],
   "source": [
    "top_ctr = ad_data.query('click > 20 & view > 100').sort_values('ctr').tail(10)"
   ]
  },
  {
   "cell_type": "code",
   "execution_count": null,
   "id": "d731fef3-a0c4-40cf-bc7b-be50c29e719f",
   "metadata": {},
   "outputs": [],
   "source": [
    "top_ctr.to_csv('top_ctr_data.csv', index=False)"
   ]
  },
  {
   "cell_type": "code",
   "execution_count": null,
   "id": "519e245a-9500-4ffa-a845-f32e6d8435b4",
   "metadata": {},
   "outputs": [],
   "source": []
  },
  {
   "cell_type": "code",
   "execution_count": null,
   "id": "60f78bb4-9297-4669-8d94-258ccfc2b233",
   "metadata": {},
   "outputs": [],
   "source": []
  },
  {
   "cell_type": "code",
   "execution_count": null,
   "id": "6313dbed-a674-439d-8bb9-a12236fe7915",
   "metadata": {},
   "outputs": [],
   "source": [
    "path = '/home/jupyter-an.karpov/lesson_7/top_ctr_data.csv'\n",
    "file_name = 'top_ctr_data.csv'\n",
    "\n",
    "path_to_file = path\n",
    "upload_url = vk.docs.getMessagesUploadServer(peer_id=2000000001)[\"upload_url\"]\n",
    "file = {'file': (file_name, open(path_to_file, 'rb'))}\n",
    "\n",
    "response = requests.post(upload_url, files=file)\n",
    "\n",
    "json_data = json.loads(response.text)\n",
    "json_data"
   ]
  },
  {
   "cell_type": "code",
   "execution_count": null,
   "id": "07ff88c9-8e44-4417-99fd-52af1f924cf7",
   "metadata": {},
   "outputs": [],
   "source": [
    "saved_file = vk.docs.save(file=json_data['file'], title=file_name)\n"
   ]
  },
  {
   "cell_type": "code",
   "execution_count": null,
   "id": "5d938c73-657c-48a7-81af-6a863280a43f",
   "metadata": {},
   "outputs": [],
   "source": [
    "saved_file"
   ]
  },
  {
   "cell_type": "raw",
   "id": "23e57183-6557-4902-8e40-b5f174b0480b",
   "metadata": {},
   "source": [
    "{'type': 'doc',\r\n",
    " 'doc': {'id': 555175609,\r\n",
    "  'owner_id': 591438330,\r\n",
    "  'title': 'top_ctr_data.csv',\r\n",
    "  'size': 403,\r\n",
    "  'ext': 'csv',\r\n",
    "  'date': 1592214057,\r\n",
    "  'type': 1,\r\n",
    "  'url': 'https://vk.com/doc591438330_555175609?hash=f5e049dfcd9237bef6&dl=FUYTSNRQHE4TKMRY:1592214057:fde24a49275516c989&api=1&no_preview=1'}}"
   ]
  },
  {
   "cell_type": "code",
   "execution_count": null,
   "id": "859366fa-f8f7-4fcd-8874-8f721378eb31",
   "metadata": {},
   "outputs": [],
   "source": [
    "attachment = 'doc{}_{}'.format(saved_file['doc']['owner_id'], saved_file['doc']['id'])\n"
   ]
  },
  {
   "cell_type": "code",
   "execution_count": null,
   "id": "7dd8c0d7-420d-4713-84d5-572f9ad04596",
   "metadata": {},
   "outputs": [],
   "source": [
    "attachment"
   ]
  },
  {
   "cell_type": "markdown",
   "id": "b93bde93-2093-4b70-aa0d-1a04766e1773",
   "metadata": {},
   "source": [
    "'doc591438330_555175609'"
   ]
  },
  {
   "cell_type": "code",
   "execution_count": null,
   "id": "a7848455-88ed-4da2-9af6-64c268bb9274",
   "metadata": {},
   "outputs": [],
   "source": [
    "vk.messages.send(\n",
    "    chat_id=1,\n",
    "    random_id=3,\n",
    "    message='Топ объявлений по CTR', \n",
    "    attachment = attachment\n",
    ")"
   ]
  },
  {
   "cell_type": "code",
   "execution_count": null,
   "id": "1ef3c5b1-b15d-4761-b7f1-0b76dc5a36fe",
   "metadata": {},
   "outputs": [],
   "source": []
  },
  {
   "cell_type": "code",
   "execution_count": null,
   "id": "f45301af-e651-4ef6-b2e4-056d56b4edf6",
   "metadata": {},
   "outputs": [],
   "source": []
  },
  {
   "cell_type": "markdown",
   "id": "e95e755a-3204-4ef0-b691-3a24dfc13659",
   "metadata": {},
   "source": [
    "#### Google sheets api"
   ]
  },
  {
   "cell_type": "code",
   "execution_count": null,
   "id": "f302dbf4-6e5e-48f9-be6e-374da98c5d68",
   "metadata": {},
   "outputs": [],
   "source": [
    "import gspread\n",
    "from df2gspread import df2gspread as d2g\n",
    "from oauth2client.service_account import ServiceAccountCredentials"
   ]
  },
  {
   "cell_type": "code",
   "execution_count": null,
   "id": "9fbd0d5a-19ee-42c5-85fc-56b9d2209e4a",
   "metadata": {},
   "outputs": [],
   "source": [
    "scope = ['https://spreadsheets.google.com/feeds',\n",
    "         'https://www.googleapis.com/auth/drive']\n",
    "\n",
    "my_mail = 'anatoly1804@gmail.com'\n",
    "\n",
    "# Authorization\n",
    "credentials = ServiceAccountCredentials.from_json_keyfile_name('heroic-venture-268009-1dfbcc34e5fa.json', scope)\n",
    "gs = gspread.authorize(credentials)"
   ]
  },
  {
   "cell_type": "code",
   "execution_count": null,
   "id": "72185ece-defb-48c4-bc98-b4dfc32187cd",
   "metadata": {},
   "outputs": [],
   "source": []
  },
  {
   "cell_type": "code",
   "execution_count": null,
   "id": "79d2c0e8-867f-4d15-b05e-2d7d9df4f8f4",
   "metadata": {},
   "outputs": [],
   "source": [
    "# Name of the table in google sheets, \n",
    "# can be url for open_by_url\n",
    "# or id (key) part for open_by_key\n",
    "table_name = 'to_sequence'  # Your table\n",
    "# Get this table\n",
    "work_sheet = gs.open(table_name)"
   ]
  },
  {
   "cell_type": "code",
   "execution_count": null,
   "id": "3fb67667-20f6-4884-8064-4f8b70ee3c25",
   "metadata": {},
   "outputs": [],
   "source": [
    "# Select 1st sheet\n",
    "sheet1 = work_sheet.sheet1\n",
    "\n",
    "# Get data in python lists format\n",
    "data = sheet1.get_all_values()"
   ]
  },
  {
   "cell_type": "code",
   "execution_count": null,
   "id": "d721b341-15dd-4dc1-8e74-24aedbe68e7d",
   "metadata": {},
   "outputs": [],
   "source": [
    "data"
   ]
  },
  {
   "cell_type": "code",
   "execution_count": null,
   "id": "a502a423-1ac3-49ed-a0f4-559463eb3c14",
   "metadata": {},
   "outputs": [],
   "source": [
    "headers = data.pop(0)"
   ]
  },
  {
   "cell_type": "code",
   "execution_count": null,
   "id": "a01ce178-85b4-4834-bf84-9e8826724cdc",
   "metadata": {},
   "outputs": [],
   "source": [
    "df = pd.DataFrame(data, columns=headers)\n",
    "df.sort_values('price', ascending=False)"
   ]
  },
  {
   "cell_type": "code",
   "execution_count": null,
   "id": "4f80e3a6-453d-4677-8826-4a8f9d822117",
   "metadata": {},
   "outputs": [],
   "source": []
  },
  {
   "cell_type": "code",
   "execution_count": null,
   "id": "3b4ee5c7-c0b9-46a7-8ad3-ede37e6e83f4",
   "metadata": {},
   "outputs": [],
   "source": [
    "sheet1.append_row([500, 'group_4'])\n"
   ]
  },
  {
   "cell_type": "code",
   "execution_count": null,
   "id": "64e0255e-65fa-4be1-aa88-4ddfd25cbcba",
   "metadata": {},
   "outputs": [],
   "source": [
    "# Looks like spreadsheet should be already present at the dist (so, run code in create table section)\n",
    "spreadsheet_name = 'A new spreadsheet'\n",
    "sheet = 'KarpovCorses2'\n",
    "d2g.upload(df, spreadsheet_name, sheet, credentials=credentials, row_names=True)"
   ]
  },
  {
   "cell_type": "code",
   "execution_count": null,
   "id": "8f079444-c4cc-4f0c-8a1f-dc7e65316ba3",
   "metadata": {},
   "outputs": [],
   "source": []
  },
  {
   "cell_type": "markdown",
   "id": "be28d454-5ee3-4cb0-9598-788cbe137f52",
   "metadata": {},
   "source": [
    "#### API Яндекс метрики"
   ]
  },
  {
   "cell_type": "code",
   "execution_count": 5,
   "id": "8a498e66-bd6b-4d13-9a31-ec3ffb3421c6",
   "metadata": {},
   "outputs": [],
   "source": [
    "url = 'https://api-metrika.yandex.net/stat/v1/data?'\n",
    "visits = 'metrics=ym:s:visits&dimensions=ym:s:date&id=44147844'"
   ]
  },
  {
   "cell_type": "code",
   "execution_count": 6,
   "id": "e34d120a-4277-4336-85cd-e331b7406f5b",
   "metadata": {},
   "outputs": [],
   "source": [
    "vistis_url = url + visits"
   ]
  },
  {
   "cell_type": "code",
   "execution_count": null,
   "id": "40f7dba5-96a7-4870-b20e-93c737044461",
   "metadata": {},
   "outputs": [],
   "source": [
    "vistis_request = requests.get(vistis_url)"
   ]
  },
  {
   "cell_type": "code",
   "execution_count": null,
   "id": "be99c71d-8450-4a2d-b33a-01e0e7050a7b",
   "metadata": {},
   "outputs": [],
   "source": [
    "json_data = json.loads(vistis_request.text)\n"
   ]
  },
  {
   "cell_type": "code",
   "execution_count": null,
   "id": "413a82cb-3685-4545-afd4-6aaf5c3fc089",
   "metadata": {},
   "outputs": [],
   "source": [
    "json_data['data']"
   ]
  },
  {
   "cell_type": "code",
   "execution_count": null,
   "id": "73cbaed7-0b6c-4cf0-8889-efab20c96942",
   "metadata": {},
   "outputs": [],
   "source": []
  },
  {
   "cell_type": "code",
   "execution_count": null,
   "id": "17ef67de-c289-4bf9-81c3-9f53e3122fc1",
   "metadata": {},
   "outputs": [],
   "source": [
    "y_df = pd.DataFrame([(i['dimensions'][0]['name'], \n",
    "  i['metrics'][0]) for i in json_data['data']], columns=['date', \n",
    "                                                        'visits'])"
   ]
  },
  {
   "cell_type": "code",
   "execution_count": null,
   "id": "504892d3-462f-4b07-9817-54903bd4f1af",
   "metadata": {},
   "outputs": [],
   "source": [
    "spreadsheet_name = 'A new spreadsheet'\n",
    "sheet = 'Yandex_visits'\n",
    "d2g.upload(y_df, spreadsheet_name, sheet, credentials=credentials, row_names=True)"
   ]
  },
  {
   "cell_type": "code",
   "execution_count": null,
   "id": "adcecba3-8d02-4340-ac8b-2ea81547a98d",
   "metadata": {},
   "outputs": [],
   "source": []
  }
 ],
 "metadata": {
  "kernelspec": {
   "display_name": "Python 3 (ipykernel)",
   "language": "python",
   "name": "python3"
  },
  "language_info": {
   "codemirror_mode": {
    "name": "ipython",
    "version": 3
   },
   "file_extension": ".py",
   "mimetype": "text/x-python",
   "name": "python",
   "nbconvert_exporter": "python",
   "pygments_lexer": "ipython3",
   "version": "3.12.4"
  }
 },
 "nbformat": 4,
 "nbformat_minor": 5
}
