{
 "cells": [
  {
   "cell_type": "markdown",
   "id": "568c4237-c287-471b-bd8b-cefb2b903e9a",
   "metadata": {},
   "source": [
    "# Lesson 7 ex"
   ]
  },
  {
   "cell_type": "markdown",
   "id": "112addbe-7d4c-4d3d-8628-0bc9fe413430",
   "metadata": {},
   "source": [
    "### Task_1: ⭐️ \n",
    "\n",
    "Считайте данные из Google Sheets, которые находятся по этой ссылке при помощи библиотеки requests. Посчитайте процент мужчин среди всех посетителей сайта, округлите ответ до целых.\n",
    "\n",
    "Воспользуйтесь этим кодом, чтобы перевести данные из реквеста в пандас:\n",
    "\n",
    "    from io import BytesIO\n",
    "    import requests\n",
    "\n",
    "    req = requests.get(your_link)\n",
    "    data = req.content\n",
    "    df = pd.read_csv(BytesIO(data))"
   ]
  },
  {
   "cell_type": "code",
   "execution_count": 3,
   "id": "6e792dd5-201a-406e-b241-3b73fb377a3e",
   "metadata": {},
   "outputs": [],
   "source": [
    "import pandas as pd\n",
    "import numpy as np\n",
    "\n",
    "from io import BytesIO\n",
    "import requests\n",
    "\n",
    "\n",
    "import json\n",
    "from urllib.parse import urlencode"
   ]
  },
  {
   "cell_type": "code",
   "execution_count": 6,
   "id": "a864963a-73c2-427b-a6e8-a2130ff46d71",
   "metadata": {},
   "outputs": [],
   "source": [
    "link = 'https://docs.google.com/spreadsheets/d/1e3PRXmMNXo9AZZnaol1aHgYxtH6KYaCDymEQlK6jaO8/export?format=csv'"
   ]
  },
  {
   "cell_type": "code",
   "execution_count": 7,
   "id": "4e57b696-b461-47bd-ac77-833ff798d0e4",
   "metadata": {},
   "outputs": [
    {
     "data": {
      "text/html": [
       "<div>\n",
       "<style scoped>\n",
       "    .dataframe tbody tr th:only-of-type {\n",
       "        vertical-align: middle;\n",
       "    }\n",
       "\n",
       "    .dataframe tbody tr th {\n",
       "        vertical-align: top;\n",
       "    }\n",
       "\n",
       "    .dataframe thead th {\n",
       "        text-align: right;\n",
       "    }\n",
       "</style>\n",
       "<table border=\"1\" class=\"dataframe\">\n",
       "  <thead>\n",
       "    <tr style=\"text-align: right;\">\n",
       "      <th></th>\n",
       "      <th>date</th>\n",
       "      <th>gender</th>\n",
       "      <th>users</th>\n",
       "    </tr>\n",
       "  </thead>\n",
       "  <tbody>\n",
       "    <tr>\n",
       "      <th>0</th>\n",
       "      <td>2020-06-14</td>\n",
       "      <td>Not specified</td>\n",
       "      <td>150</td>\n",
       "    </tr>\n",
       "    <tr>\n",
       "      <th>1</th>\n",
       "      <td>2020-06-14</td>\n",
       "      <td>male</td>\n",
       "      <td>117</td>\n",
       "    </tr>\n",
       "    <tr>\n",
       "      <th>2</th>\n",
       "      <td>2020-06-14</td>\n",
       "      <td>female</td>\n",
       "      <td>21</td>\n",
       "    </tr>\n",
       "  </tbody>\n",
       "</table>\n",
       "</div>"
      ],
      "text/plain": [
       "         date         gender  users\n",
       "0  2020-06-14  Not specified    150\n",
       "1  2020-06-14           male    117\n",
       "2  2020-06-14         female     21"
      ]
     },
     "execution_count": 7,
     "metadata": {},
     "output_type": "execute_result"
    }
   ],
   "source": [
    "req = requests.get(link)\n",
    "\n",
    "data = req.content\n",
    "\n",
    "df = pd.read_csv(BytesIO(data))\n",
    "df"
   ]
  },
  {
   "cell_type": "code",
   "execution_count": null,
   "id": "b787af2c-42d2-4806-9149-221f9d447421",
   "metadata": {},
   "outputs": [],
   "source": []
  },
  {
   "cell_type": "code",
   "execution_count": 9,
   "id": "c80a14c1-32da-41ed-a514-b787a9e5e810",
   "metadata": {},
   "outputs": [
    {
     "data": {
      "text/html": [
       "<div>\n",
       "<style scoped>\n",
       "    .dataframe tbody tr th:only-of-type {\n",
       "        vertical-align: middle;\n",
       "    }\n",
       "\n",
       "    .dataframe tbody tr th {\n",
       "        vertical-align: top;\n",
       "    }\n",
       "\n",
       "    .dataframe thead th {\n",
       "        text-align: right;\n",
       "    }\n",
       "</style>\n",
       "<table border=\"1\" class=\"dataframe\">\n",
       "  <thead>\n",
       "    <tr style=\"text-align: right;\">\n",
       "      <th></th>\n",
       "      <th>date</th>\n",
       "      <th>gender</th>\n",
       "      <th>users</th>\n",
       "      <th>percent</th>\n",
       "    </tr>\n",
       "  </thead>\n",
       "  <tbody>\n",
       "    <tr>\n",
       "      <th>0</th>\n",
       "      <td>2020-06-14</td>\n",
       "      <td>Not specified</td>\n",
       "      <td>150</td>\n",
       "      <td>52.0</td>\n",
       "    </tr>\n",
       "    <tr>\n",
       "      <th>1</th>\n",
       "      <td>2020-06-14</td>\n",
       "      <td>male</td>\n",
       "      <td>117</td>\n",
       "      <td>41.0</td>\n",
       "    </tr>\n",
       "    <tr>\n",
       "      <th>2</th>\n",
       "      <td>2020-06-14</td>\n",
       "      <td>female</td>\n",
       "      <td>21</td>\n",
       "      <td>7.0</td>\n",
       "    </tr>\n",
       "  </tbody>\n",
       "</table>\n",
       "</div>"
      ],
      "text/plain": [
       "         date         gender  users  percent\n",
       "0  2020-06-14  Not specified    150     52.0\n",
       "1  2020-06-14           male    117     41.0\n",
       "2  2020-06-14         female     21      7.0"
      ]
     },
     "execution_count": 9,
     "metadata": {},
     "output_type": "execute_result"
    }
   ],
   "source": [
    "df['percent'] = (df.users / df.users.sum() * 100).round(0)\n",
    "df"
   ]
  },
  {
   "cell_type": "code",
   "execution_count": 11,
   "id": "3dd32ad3-55dc-49e5-8a8e-2dde4d38c591",
   "metadata": {},
   "outputs": [
    {
     "data": {
      "text/plain": [
       "0    52.0\n",
       "1    41.0\n",
       "2     7.0\n",
       "Name: users, dtype: float64"
      ]
     },
     "execution_count": 11,
     "metadata": {},
     "output_type": "execute_result"
    }
   ],
   "source": [
    "#  вариант 2\n",
    "\n",
    "df.users.div(df.users.sum())\\\n",
    "        .mul(100)\\\n",
    "        .round(0)\n",
    "\n",
    "# div() - деление\n",
    "# mul() - умножение"
   ]
  },
  {
   "cell_type": "code",
   "execution_count": 26,
   "id": "9e3c243f-4260-4cf0-ac10-b6a084b2ab94",
   "metadata": {},
   "outputs": [
    {
     "data": {
      "text/plain": [
       "41.0"
      ]
     },
     "execution_count": 26,
     "metadata": {},
     "output_type": "execute_result"
    }
   ],
   "source": [
    "#  вариант 3\n",
    "(df.loc[1, 'users'] / df.users.sum() *100).round(0)"
   ]
  },
  {
   "cell_type": "code",
   "execution_count": null,
   "id": "e61f8e42-2bf5-4a3c-8537-852e0b65cbc3",
   "metadata": {},
   "outputs": [],
   "source": []
  },
  {
   "cell_type": "markdown",
   "id": "e4d89eb6-630d-4c16-80eb-640e47b69907",
   "metadata": {},
   "source": [
    "### Task_2:\n",
    "Скачайте файл с данными посещаемости сайта Яндекс.Метрика отсюда (сохранен в переменную df). \n",
    "При помощи функции np.where создайте серию, в которую будет записываться 1, если посещения были сделаны роботами с браузера, содержащего Chrome в названии, и 0 в других случаях. Поместите получившуюся серию в переменную chrome_robots.\n",
    "\n",
    "Может понадобиться:\n",
    "\n",
    "    str.contains()"
   ]
  },
  {
   "cell_type": "code",
   "execution_count": 27,
   "id": "542edaba-68c6-489b-8c64-083635ebdd11",
   "metadata": {},
   "outputs": [],
   "source": [
    "path = 'C:/Users/user/Karpov_courses/Lessons/Lesson_7/karpov_courses_test.csv'"
   ]
  },
  {
   "cell_type": "code",
   "execution_count": 28,
   "id": "92b88f7d-f1fa-406a-8cf6-10e186c2e650",
   "metadata": {},
   "outputs": [
    {
     "data": {
      "text/html": [
       "<div>\n",
       "<style scoped>\n",
       "    .dataframe tbody tr th:only-of-type {\n",
       "        vertical-align: middle;\n",
       "    }\n",
       "\n",
       "    .dataframe tbody tr th {\n",
       "        vertical-align: top;\n",
       "    }\n",
       "\n",
       "    .dataframe thead th {\n",
       "        text-align: right;\n",
       "    }\n",
       "</style>\n",
       "<table border=\"1\" class=\"dataframe\">\n",
       "  <thead>\n",
       "    <tr style=\"text-align: right;\">\n",
       "      <th></th>\n",
       "      <th>date</th>\n",
       "      <th>browser</th>\n",
       "      <th>user_type</th>\n",
       "      <th>users</th>\n",
       "    </tr>\n",
       "  </thead>\n",
       "  <tbody>\n",
       "    <tr>\n",
       "      <th>0</th>\n",
       "      <td>2020-06-14</td>\n",
       "      <td>Google Chrome</td>\n",
       "      <td>People</td>\n",
       "      <td>139</td>\n",
       "    </tr>\n",
       "    <tr>\n",
       "      <th>1</th>\n",
       "      <td>2020-06-14</td>\n",
       "      <td>Chrome Mobile</td>\n",
       "      <td>People</td>\n",
       "      <td>35</td>\n",
       "    </tr>\n",
       "    <tr>\n",
       "      <th>2</th>\n",
       "      <td>2020-06-14</td>\n",
       "      <td>Google Chrome</td>\n",
       "      <td>Robots</td>\n",
       "      <td>28</td>\n",
       "    </tr>\n",
       "    <tr>\n",
       "      <th>3</th>\n",
       "      <td>2020-06-14</td>\n",
       "      <td>Yandex Browser</td>\n",
       "      <td>People</td>\n",
       "      <td>22</td>\n",
       "    </tr>\n",
       "    <tr>\n",
       "      <th>4</th>\n",
       "      <td>2020-06-14</td>\n",
       "      <td>Firefox</td>\n",
       "      <td>People</td>\n",
       "      <td>15</td>\n",
       "    </tr>\n",
       "  </tbody>\n",
       "</table>\n",
       "</div>"
      ],
      "text/plain": [
       "         date         browser user_type  users\n",
       "0  2020-06-14   Google Chrome    People    139\n",
       "1  2020-06-14   Chrome Mobile    People     35\n",
       "2  2020-06-14   Google Chrome    Robots     28\n",
       "3  2020-06-14  Yandex Browser    People     22\n",
       "4  2020-06-14         Firefox    People     15"
      ]
     },
     "execution_count": 28,
     "metadata": {},
     "output_type": "execute_result"
    }
   ],
   "source": [
    "df_2 = pd.read_csv(path)\n",
    "df_2.head()"
   ]
  },
  {
   "cell_type": "code",
   "execution_count": 31,
   "id": "fbd03064-17a0-45a6-bd20-ea13bdf552b7",
   "metadata": {},
   "outputs": [
    {
     "data": {
      "text/plain": [
       "0     False\n",
       "1     False\n",
       "2      True\n",
       "3     False\n",
       "4     False\n",
       "5     False\n",
       "6     False\n",
       "7     False\n",
       "8     False\n",
       "9     False\n",
       "10    False\n",
       "11    False\n",
       "12    False\n",
       "13    False\n",
       "14    False\n",
       "15    False\n",
       "16    False\n",
       "17    False\n",
       "18    False\n",
       "19     True\n",
       "20    False\n",
       "21    False\n",
       "22    False\n",
       "23    False\n",
       "dtype: bool"
      ]
     },
     "execution_count": 31,
     "metadata": {},
     "output_type": "execute_result"
    }
   ],
   "source": [
    "df_2.browser.str.contains('Chrome') & (df_2.user_type == 'Robots')"
   ]
  },
  {
   "cell_type": "code",
   "execution_count": 32,
   "id": "ce8b7f0a-b2ee-4675-96b7-ee29b4fd0c6d",
   "metadata": {},
   "outputs": [
    {
     "data": {
      "text/plain": [
       "0     NOT Chrome Robots\n",
       "1     NOT Chrome Robots\n",
       "2         Chrome Robots\n",
       "3     NOT Chrome Robots\n",
       "4     NOT Chrome Robots\n",
       "5     NOT Chrome Robots\n",
       "6     NOT Chrome Robots\n",
       "7     NOT Chrome Robots\n",
       "8     NOT Chrome Robots\n",
       "9     NOT Chrome Robots\n",
       "10    NOT Chrome Robots\n",
       "11    NOT Chrome Robots\n",
       "12    NOT Chrome Robots\n",
       "13    NOT Chrome Robots\n",
       "14    NOT Chrome Robots\n",
       "15    NOT Chrome Robots\n",
       "16    NOT Chrome Robots\n",
       "17    NOT Chrome Robots\n",
       "18    NOT Chrome Robots\n",
       "19        Chrome Robots\n",
       "20    NOT Chrome Robots\n",
       "21    NOT Chrome Robots\n",
       "22    NOT Chrome Robots\n",
       "23    NOT Chrome Robots\n",
       "dtype: object"
      ]
     },
     "execution_count": 32,
     "metadata": {},
     "output_type": "execute_result"
    }
   ],
   "source": [
    "chrome_robots = pd.Series(np.where((df_2.browser.str.contains('Chrome')) & (df_2.user_type == 'Robots'), 'Chrome Robots', 'NOT Chrome Robots'))\n",
    "chrome_robots"
   ]
  },
  {
   "cell_type": "code",
   "execution_count": 29,
   "id": "4d1077d7-01cc-47ac-b8c1-5739f6a61815",
   "metadata": {},
   "outputs": [
    {
     "data": {
      "text/plain": [
       "0     0\n",
       "1     0\n",
       "2     1\n",
       "3     0\n",
       "4     0\n",
       "5     0\n",
       "6     0\n",
       "7     0\n",
       "8     0\n",
       "9     0\n",
       "10    0\n",
       "11    0\n",
       "12    0\n",
       "13    0\n",
       "14    0\n",
       "15    0\n",
       "16    0\n",
       "17    0\n",
       "18    0\n",
       "19    1\n",
       "20    0\n",
       "21    0\n",
       "22    0\n",
       "23    0\n",
       "dtype: int32"
      ]
     },
     "execution_count": 29,
     "metadata": {},
     "output_type": "execute_result"
    }
   ],
   "source": [
    "chrome_robots = pd.Series(np.where((df_2.browser.str.contains('Chrome')) & (df_2.user_type == 'Robots'), 1, 0))\n",
    "chrome_robots"
   ]
  },
  {
   "cell_type": "code",
   "execution_count": null,
   "id": "d1e87646-b5ec-4af2-a61f-3139c751e717",
   "metadata": {},
   "outputs": [],
   "source": []
  },
  {
   "cell_type": "code",
   "execution_count": 36,
   "id": "93aa7b21-cd39-4055-a045-38c774c6edf0",
   "metadata": {},
   "outputs": [
    {
     "data": {
      "text/plain": [
       "0    People\n",
       "1    People\n",
       "2    Robots\n",
       "3    People\n",
       "4    People\n",
       "Name: user_type, dtype: object"
      ]
     },
     "execution_count": 36,
     "metadata": {},
     "output_type": "execute_result"
    }
   ],
   "source": [
    "df_2.user_type.head()"
   ]
  },
  {
   "cell_type": "code",
   "execution_count": 33,
   "id": "4ebb47b2-61c7-42ce-b1bf-053d3990dcb0",
   "metadata": {},
   "outputs": [],
   "source": [
    "# замена выводящихся данных как rename\n",
    "\n",
    "# создание словаря для замены - соответствия\n",
    "correspondence = {'People' : 'Humans',\n",
    "                  'Robots' : 'Bots'}"
   ]
  },
  {
   "cell_type": "code",
   "execution_count": 38,
   "id": "fa72cf4e-59a3-46e7-92b7-b85401e931ab",
   "metadata": {},
   "outputs": [
    {
     "data": {
      "text/plain": [
       "0    Humans\n",
       "1    Humans\n",
       "2      Bots\n",
       "3    Humans\n",
       "4    Humans\n",
       "Name: user_type, dtype: object"
      ]
     },
     "execution_count": 38,
     "metadata": {},
     "output_type": "execute_result"
    }
   ],
   "source": [
    "df_2.user_type.map(correspondence).head()\n",
    "# метод map() - заменяет занчения по условию"
   ]
  },
  {
   "cell_type": "code",
   "execution_count": null,
   "id": "c8b6cf17-b4c0-4a00-bafc-7eeac3fba6d0",
   "metadata": {},
   "outputs": [],
   "source": []
  },
  {
   "cell_type": "markdown",
   "id": "7e8d53eb-d510-4038-8f73-1dcbc4a7ce11",
   "metadata": {},
   "source": [
    "### Task_3:\n",
    "⭐️Задание со звёздочкой!⭐️\n",
    "\n",
    "У вас есть датасет с данными о кликах и показах по объявлению, в котором есть пропуски. Вычислите количество строк без пропусков в колонке click_type. Запишите ответ в переменную not_nan_count\n",
    "\n",
    "    ad_id – id объявления\n",
    "    user_id – id пользователя\n",
    "    click_type – тип клика (клик по заголовку объявления, клик по центру)"
   ]
  },
  {
   "cell_type": "code",
   "execution_count": 39,
   "id": "8905839c-2c66-46c6-ad49-799201f784de",
   "metadata": {},
   "outputs": [],
   "source": [
    "path_2 = 'C:/Users/user/Karpov_courses/Lessons/Lesson_7/sample_ads.csv'"
   ]
  },
  {
   "cell_type": "code",
   "execution_count": 40,
   "id": "bd9fa597-7aa7-4b52-ae52-748dc8b9595c",
   "metadata": {},
   "outputs": [
    {
     "data": {
      "text/html": [
       "<div>\n",
       "<style scoped>\n",
       "    .dataframe tbody tr th:only-of-type {\n",
       "        vertical-align: middle;\n",
       "    }\n",
       "\n",
       "    .dataframe tbody tr th {\n",
       "        vertical-align: top;\n",
       "    }\n",
       "\n",
       "    .dataframe thead th {\n",
       "        text-align: right;\n",
       "    }\n",
       "</style>\n",
       "<table border=\"1\" class=\"dataframe\">\n",
       "  <thead>\n",
       "    <tr style=\"text-align: right;\">\n",
       "      <th></th>\n",
       "      <th>ad_id</th>\n",
       "      <th>user_id</th>\n",
       "      <th>click_type</th>\n",
       "    </tr>\n",
       "  </thead>\n",
       "  <tbody>\n",
       "    <tr>\n",
       "      <th>0</th>\n",
       "      <td>12345</td>\n",
       "      <td>qwert</td>\n",
       "      <td>top</td>\n",
       "    </tr>\n",
       "    <tr>\n",
       "      <th>1</th>\n",
       "      <td>12345</td>\n",
       "      <td>fsssc</td>\n",
       "      <td>center</td>\n",
       "    </tr>\n",
       "    <tr>\n",
       "      <th>2</th>\n",
       "      <td>12345</td>\n",
       "      <td>vfvgg</td>\n",
       "      <td>NaN</td>\n",
       "    </tr>\n",
       "    <tr>\n",
       "      <th>3</th>\n",
       "      <td>12345</td>\n",
       "      <td>asrvv</td>\n",
       "      <td>NaN</td>\n",
       "    </tr>\n",
       "    <tr>\n",
       "      <th>4</th>\n",
       "      <td>12345</td>\n",
       "      <td>tynuy</td>\n",
       "      <td>top</td>\n",
       "    </tr>\n",
       "  </tbody>\n",
       "</table>\n",
       "</div>"
      ],
      "text/plain": [
       "   ad_id user_id click_type\n",
       "0  12345   qwert        top\n",
       "1  12345   fsssc     center\n",
       "2  12345   vfvgg        NaN\n",
       "3  12345   asrvv        NaN\n",
       "4  12345   tynuy        top"
      ]
     },
     "execution_count": 40,
     "metadata": {},
     "output_type": "execute_result"
    }
   ],
   "source": [
    "df_3 = pd.read_csv(path_2)\n",
    "df_3.head()"
   ]
  },
  {
   "cell_type": "code",
   "execution_count": 44,
   "id": "633466a5-fa7c-4baa-9055-957f3e26f53e",
   "metadata": {},
   "outputs": [
    {
     "data": {
      "text/plain": [
       "11"
      ]
     },
     "execution_count": 44,
     "metadata": {},
     "output_type": "execute_result"
    }
   ],
   "source": [
    "# вариант с '~' - тильда, это вывести обратное значение выполняемому\n",
    "not_nan_count = (~df_3.click_type.isna()).sum()\n",
    "not_nan_count"
   ]
  },
  {
   "cell_type": "code",
   "execution_count": 45,
   "id": "a275a2b7-b897-4582-8987-375932288a93",
   "metadata": {},
   "outputs": [
    {
     "data": {
      "text/plain": [
       "11"
      ]
     },
     "execution_count": 45,
     "metadata": {},
     "output_type": "execute_result"
    }
   ],
   "source": [
    "# вариант 2\n",
    "not_nan_count = df_3.click_type.notna().sum()\n",
    "not_nan_count"
   ]
  },
  {
   "cell_type": "markdown",
   "id": "5b12caa3-581b-4430-a945-1847dc89acd3",
   "metadata": {},
   "source": [
    "### Task_4:\n",
    "⭐️Задание со звёздочкой!⭐️\r\n",
    "\r\n",
    "В списке lst находятся различные элементы. Создайте список new_list и сделайте следующее:\r\n",
    "\r\n",
    "при помощи конструкции try except и цикла попробуйте преобразовать каждое значение в листе в int\r\n",
    "если это получилось – добавьте преобразованное значение в список new_list"
   ]
  },
  {
   "cell_type": "code",
   "execution_count": 56,
   "id": "ee7b23d2-7f2a-4360-a22c-eec977404240",
   "metadata": {},
   "outputs": [],
   "source": [
    "lst = [None, 1134235, 'лавлал', '98985349', '13.0', 9439, -31.12, 0]"
   ]
  },
  {
   "cell_type": "code",
   "execution_count": 55,
   "id": "572e2fa1-2d69-4987-8a37-b84c4d13586f",
   "metadata": {},
   "outputs": [],
   "source": [
    "# конструкция try/except - для кода, с возможным возникновением ошибки\n",
    "try:\n",
    "    # код, в котором возможно появление ошибки. ПР: число/0 - ошибка (бесконечность)  \n",
    "except:\n",
    "    # код, который выполняется при появлении ошибки в 'try'\n",
    "\n",
    "\n",
    "pass # команда - \"пропуск, ничего делать не нужно\""
   ]
  },
  {
   "cell_type": "code",
   "execution_count": 57,
   "id": "763a1892-1fc0-4869-aae8-7ef4f9c639b3",
   "metadata": {},
   "outputs": [
    {
     "data": {
      "text/plain": [
       "[1134235, 98985349, 9439, -31, 0]"
      ]
     },
     "execution_count": 57,
     "metadata": {},
     "output_type": "execute_result"
    }
   ],
   "source": [
    "new_list = []\n",
    "for item in lst:\n",
    "    \n",
    "    try:\n",
    "        int_item = int(item)\n",
    "        new_list.append(int_item)\n",
    "    \n",
    "    except:\n",
    "        pass\n",
    "\n",
    "new_list"
   ]
  },
  {
   "cell_type": "markdown",
   "id": "b611f6e0-3485-4115-b312-25558d0f0577",
   "metadata": {},
   "source": [
    "### Task_5:\n",
    "⭐️Задание со звёздочкой! ⭐️\r\n",
    "\r\n",
    "А теперь попробуем воспользоваться знаниями использования Telegram API. Отправьте себе в личку любое послание, а в ответ к этому шагу напишите ник бота, от имени которого будете отправлять сообщения."
   ]
  },
  {
   "cell_type": "code",
   "execution_count": null,
   "id": "8d9a7d38-3d40-439c-a485-f72a90744348",
   "metadata": {},
   "outputs": [],
   "source": [
    "with open('...###.json') as src: \n",
    "    data = json.load(src)\n",
    "    \n",
    "# data - сохраненный файл с token и chat_id личного чата с пользователя с ботом "
   ]
  },
  {
   "cell_type": "code",
   "execution_count": null,
   "id": "93304e0a-5f70-4987-82c6-b3f933ee9777",
   "metadata": {},
   "outputs": [],
   "source": [
    "token   = data['token']\n",
    "chat_id = data['chat_id']"
   ]
  },
  {
   "cell_type": "code",
   "execution_count": null,
   "id": "03abcf23-8daf-4499-a1cc-0ea686642f2d",
   "metadata": {},
   "outputs": [],
   "source": [
    "massage  = 'massage for bot for me' \n",
    "\n",
    "params   = {'chat_id' : chat_id, 'text' : massage}\n",
    "\n",
    "base_url = f'https://api.telegram.org/bot{token}'\n",
    "\n",
    "url      = base_url + 'sendMessage?' + urlencode(params)\n",
    "\n",
    "resp     = requests.get(url)"
   ]
  }
 ],
 "metadata": {
  "kernelspec": {
   "display_name": "Python 3 (ipykernel)",
   "language": "python",
   "name": "python3"
  },
  "language_info": {
   "codemirror_mode": {
    "name": "ipython",
    "version": 3
   },
   "file_extension": ".py",
   "mimetype": "text/x-python",
   "name": "python",
   "nbconvert_exporter": "python",
   "pygments_lexer": "ipython3",
   "version": "3.12.4"
  }
 },
 "nbformat": 4,
 "nbformat_minor": 5
}
