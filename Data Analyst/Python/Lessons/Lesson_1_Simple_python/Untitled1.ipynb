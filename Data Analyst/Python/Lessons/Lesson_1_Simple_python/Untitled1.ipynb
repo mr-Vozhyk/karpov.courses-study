{
 "cells": [
  {
   "cell_type": "code",
   "execution_count": 8,
   "id": "dfa252f2",
   "metadata": {},
   "outputs": [
    {
     "name": "stdout",
     "output_type": "stream",
     "text": [
      "1\n",
      "2\n",
      "3\n",
      "4\n",
      "5\n",
      "6\n",
      "7\n",
      "8\n",
      "9\n",
      "10\n"
     ]
    }
   ],
   "source": [
    "n = 10\n",
    "for i in range(1, n+1):\n",
    "    print(i)"
   ]
  },
  {
   "cell_type": "code",
   "execution_count": null,
   "id": "fa970087",
   "metadata": {},
   "outputs": [],
   "source": []
  },
  {
   "cell_type": "code",
   "execution_count": 1,
   "id": "fb693fac",
   "metadata": {},
   "outputs": [],
   "source": [
    "import pandas as pd"
   ]
  },
  {
   "cell_type": "code",
   "execution_count": 2,
   "id": "8fd825c2",
   "metadata": {},
   "outputs": [
    {
     "data": {
      "text/plain": [
       "<module 'pandas' from 'D:\\\\ANACONDA\\\\lib\\\\site-packages\\\\pandas\\\\__init__.py'>"
      ]
     },
     "execution_count": 2,
     "metadata": {},
     "output_type": "execute_result"
    }
   ],
   "source": [
    "pd"
   ]
  },
  {
   "cell_type": "code",
   "execution_count": 3,
   "id": "1a23c695",
   "metadata": {},
   "outputs": [],
   "source": [
    "a = [54, 6, 7, 45, 66]"
   ]
  },
  {
   "cell_type": "code",
   "execution_count": 4,
   "id": "74dd1d5e",
   "metadata": {},
   "outputs": [],
   "source": [
    "b = [True, False, True]"
   ]
  },
  {
   "cell_type": "code",
   "execution_count": 5,
   "id": "422a5d9e",
   "metadata": {},
   "outputs": [],
   "source": [
    "s = pd.Series(b)"
   ]
  },
  {
   "cell_type": "code",
   "execution_count": 6,
   "id": "5572b436",
   "metadata": {},
   "outputs": [
    {
     "data": {
      "text/plain": [
       "0     True\n",
       "1    False\n",
       "2     True\n",
       "dtype: bool"
      ]
     },
     "execution_count": 6,
     "metadata": {},
     "output_type": "execute_result"
    }
   ],
   "source": [
    "s"
   ]
  },
  {
   "cell_type": "code",
   "execution_count": 7,
   "id": "7ae2efe4",
   "metadata": {},
   "outputs": [
    {
     "data": {
      "text/plain": [
       "False"
      ]
     },
     "execution_count": 7,
     "metadata": {},
     "output_type": "execute_result"
    }
   ],
   "source": [
    "s[1]"
   ]
  },
  {
   "cell_type": "code",
   "execution_count": null,
   "id": "0df2daae",
   "metadata": {},
   "outputs": [],
   "source": []
  },
  {
   "cell_type": "code",
   "execution_count": 9,
   "id": "fbf9cdba",
   "metadata": {},
   "outputs": [],
   "source": [
    "v = pd.Series(a)"
   ]
  },
  {
   "cell_type": "code",
   "execution_count": 10,
   "id": "29ef5a0b",
   "metadata": {},
   "outputs": [
    {
     "data": {
      "text/plain": [
       "0    54\n",
       "1     6\n",
       "2     7\n",
       "3    45\n",
       "4    66\n",
       "dtype: int64"
      ]
     },
     "execution_count": 10,
     "metadata": {},
     "output_type": "execute_result"
    }
   ],
   "source": [
    "v"
   ]
  },
  {
   "cell_type": "code",
   "execution_count": null,
   "id": "b27b001f",
   "metadata": {},
   "outputs": [],
   "source": []
  },
  {
   "cell_type": "code",
   "execution_count": 12,
   "id": "6d2af782",
   "metadata": {},
   "outputs": [
    {
     "data": {
      "text/plain": [
       "0     10\n",
       "1     20\n",
       "2     30\n",
       "3     40\n",
       "4     50\n",
       "5     60\n",
       "6     70\n",
       "7     80\n",
       "8     90\n",
       "9    100\n",
       "dtype: int64"
      ]
     },
     "execution_count": 12,
     "metadata": {},
     "output_type": "execute_result"
    }
   ],
   "source": [
    "pd.Series(range(10,110,10))"
   ]
  },
  {
   "cell_type": "code",
   "execution_count": 22,
   "id": "05d815f3",
   "metadata": {},
   "outputs": [],
   "source": [
    "s = ['hello', 'World', 'messi']"
   ]
  },
  {
   "cell_type": "code",
   "execution_count": 15,
   "id": "46ad4efe",
   "metadata": {},
   "outputs": [
    {
     "data": {
      "text/plain": [
       "0    hello\n",
       "1    World\n",
       "dtype: object"
      ]
     },
     "execution_count": 15,
     "metadata": {},
     "output_type": "execute_result"
    }
   ],
   "source": [
    "pd.Series(s)"
   ]
  },
  {
   "cell_type": "code",
   "execution_count": 23,
   "id": "5a9e46b6",
   "metadata": {},
   "outputs": [],
   "source": [
    "r = pd.Series(s, ['привет', 'Мир', 'a'])"
   ]
  },
  {
   "cell_type": "code",
   "execution_count": 24,
   "id": "5c5499f5",
   "metadata": {},
   "outputs": [
    {
     "data": {
      "text/plain": [
       "привет    hello\n",
       "Мир       World\n",
       "a         messi\n",
       "dtype: object"
      ]
     },
     "execution_count": 24,
     "metadata": {},
     "output_type": "execute_result"
    }
   ],
   "source": [
    "r"
   ]
  },
  {
   "cell_type": "code",
   "execution_count": 18,
   "id": "56436d29",
   "metadata": {},
   "outputs": [
    {
     "data": {
      "text/plain": [
       "'hello'"
      ]
     },
     "execution_count": 18,
     "metadata": {},
     "output_type": "execute_result"
    }
   ],
   "source": [
    "r[0]"
   ]
  },
  {
   "cell_type": "code",
   "execution_count": 20,
   "id": "31c6cd60",
   "metadata": {},
   "outputs": [
    {
     "data": {
      "text/plain": [
       "'hello'"
      ]
     },
     "execution_count": 20,
     "metadata": {},
     "output_type": "execute_result"
    }
   ],
   "source": [
    "r['привет']"
   ]
  },
  {
   "cell_type": "code",
   "execution_count": 25,
   "id": "ec094adb",
   "metadata": {},
   "outputs": [],
   "source": [
    "d = {'привет': 'hello', 'Мир': 'World', 'messi':'best'}"
   ]
  },
  {
   "cell_type": "code",
   "execution_count": 27,
   "id": "e0ed1bcf",
   "metadata": {},
   "outputs": [],
   "source": [
    "t = pd.Series(d)"
   ]
  },
  {
   "cell_type": "code",
   "execution_count": 28,
   "id": "9a7322d6",
   "metadata": {},
   "outputs": [
    {
     "data": {
      "text/plain": [
       "привет    hello\n",
       "Мир       World\n",
       "messi      best\n",
       "dtype: object"
      ]
     },
     "execution_count": 28,
     "metadata": {},
     "output_type": "execute_result"
    }
   ],
   "source": [
    "t"
   ]
  },
  {
   "cell_type": "code",
   "execution_count": 29,
   "id": "c1933931",
   "metadata": {},
   "outputs": [
    {
     "data": {
      "text/plain": [
       "'best'"
      ]
     },
     "execution_count": 29,
     "metadata": {},
     "output_type": "execute_result"
    }
   ],
   "source": [
    "t['messi']"
   ]
  },
  {
   "cell_type": "code",
   "execution_count": 30,
   "id": "9818ef86",
   "metadata": {},
   "outputs": [
    {
     "data": {
      "text/plain": [
       "'best'"
      ]
     },
     "execution_count": 30,
     "metadata": {},
     "output_type": "execute_result"
    }
   ],
   "source": [
    "t[2]"
   ]
  },
  {
   "cell_type": "code",
   "execution_count": null,
   "id": "d81ebfec",
   "metadata": {},
   "outputs": [],
   "source": []
  },
  {
   "cell_type": "code",
   "execution_count": 33,
   "id": "7683e232",
   "metadata": {},
   "outputs": [
    {
     "data": {
      "text/plain": [
       "0    world\n",
       "dtype: object"
      ]
     },
     "execution_count": 33,
     "metadata": {},
     "output_type": "execute_result"
    }
   ],
   "source": [
    "pd.Series('world')"
   ]
  },
  {
   "cell_type": "code",
   "execution_count": 32,
   "id": "314beccb",
   "metadata": {
    "scrolled": true
   },
   "outputs": [
    {
     "data": {
      "text/plain": [
       "0    w\n",
       "1    o\n",
       "2    r\n",
       "3    l\n",
       "4    d\n",
       "dtype: object"
      ]
     },
     "execution_count": 32,
     "metadata": {},
     "output_type": "execute_result"
    }
   ],
   "source": [
    "pd.Series(list('world'))"
   ]
  },
  {
   "cell_type": "code",
   "execution_count": null,
   "id": "c47a25a5",
   "metadata": {},
   "outputs": [],
   "source": []
  },
  {
   "cell_type": "code",
   "execution_count": null,
   "id": "db467bff",
   "metadata": {},
   "outputs": [],
   "source": []
  }
 ],
 "metadata": {
  "kernelspec": {
   "display_name": "Python 3 (ipykernel)",
   "language": "python",
   "name": "python3"
  },
  "language_info": {
   "codemirror_mode": {
    "name": "ipython",
    "version": 3
   },
   "file_extension": ".py",
   "mimetype": "text/x-python",
   "name": "python",
   "nbconvert_exporter": "python",
   "pygments_lexer": "ipython3",
   "version": "3.10.9"
  }
 },
 "nbformat": 4,
 "nbformat_minor": 5
}
