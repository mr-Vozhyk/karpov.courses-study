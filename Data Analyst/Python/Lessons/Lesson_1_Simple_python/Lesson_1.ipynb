{
 "cells": [
  {
   "cell_type": "markdown",
   "id": "73dadf68",
   "metadata": {},
   "source": [
    "#  Karpov_courses. \n",
    "## Lesson I"
   ]
  },
  {
   "cell_type": "code",
   "execution_count": null,
   "id": "a465fb84",
   "metadata": {},
   "outputs": [],
   "source": [
    "analyst = 'Nik'"
   ]
  },
  {
   "cell_type": "code",
   "execution_count": 18,
   "id": "9c31694f",
   "metadata": {},
   "outputs": [],
   "source": [
    "years = 1"
   ]
  },
  {
   "cell_type": "code",
   "execution_count": 20,
   "id": "75944133",
   "metadata": {},
   "outputs": [],
   "source": [
    "has_job = False"
   ]
  },
  {
   "cell_type": "code",
   "execution_count": null,
   "id": "28979c4a",
   "metadata": {},
   "outputs": [],
   "source": []
  },
  {
   "cell_type": "code",
   "execution_count": 24,
   "id": "f476c1be",
   "metadata": {},
   "outputs": [],
   "source": [
    "analyst_2 = 'Olga'"
   ]
  },
  {
   "cell_type": "code",
   "execution_count": 22,
   "id": "702d2443",
   "metadata": {},
   "outputs": [],
   "source": [
    "years_2 = 2"
   ]
  },
  {
   "cell_type": "code",
   "execution_count": 25,
   "id": "718b7326",
   "metadata": {},
   "outputs": [],
   "source": [
    "has_job_2 = True"
   ]
  },
  {
   "cell_type": "code",
   "execution_count": null,
   "id": "812799e6",
   "metadata": {},
   "outputs": [],
   "source": []
  },
  {
   "cell_type": "code",
   "execution_count": 56,
   "id": "57914fb5",
   "metadata": {},
   "outputs": [],
   "source": [
    "analysts = ['Nik', 'Olga', 'Beslan', 'Chepushilo']"
   ]
  },
  {
   "cell_type": "code",
   "execution_count": 61,
   "id": "59df3c39",
   "metadata": {},
   "outputs": [],
   "source": [
    "years = [1, 2, 4, 0.1]"
   ]
  },
  {
   "cell_type": "code",
   "execution_count": null,
   "id": "747d9518",
   "metadata": {},
   "outputs": [],
   "source": []
  },
  {
   "cell_type": "code",
   "execution_count": 40,
   "id": "43be9d0d",
   "metadata": {},
   "outputs": [
    {
     "data": {
      "text/plain": [
       "'Captain Nik'"
      ]
     },
     "execution_count": 40,
     "metadata": {},
     "output_type": "execute_result"
    }
   ],
   "source": [
    "analysts[0]"
   ]
  },
  {
   "cell_type": "code",
   "execution_count": 41,
   "id": "68fb9475",
   "metadata": {},
   "outputs": [
    {
     "data": {
      "text/plain": [
       "4"
      ]
     },
     "execution_count": 41,
     "metadata": {},
     "output_type": "execute_result"
    }
   ],
   "source": [
    "years[2]"
   ]
  },
  {
   "cell_type": "code",
   "execution_count": 64,
   "id": "98086156",
   "metadata": {},
   "outputs": [
    {
     "data": {
      "text/plain": [
       "5"
      ]
     },
     "execution_count": 64,
     "metadata": {},
     "output_type": "execute_result"
    }
   ],
   "source": [
    "len(analysts)      # длина списка (число элементов) #"
   ]
  },
  {
   "cell_type": "code",
   "execution_count": 60,
   "id": "3fa66c3c",
   "metadata": {},
   "outputs": [
    {
     "name": "stdout",
     "output_type": "stream",
     "text": [
      "Мля, я заточен на подсчет до трёх челов, бро, а тут их у тебя уже хуева гора - сам разъебывайся, я хз).\n"
     ]
    }
   ],
   "source": [
    "if len(analysts) <=3 or len(analysts) <3:\n",
    "    print('В нашей базе менее 3х аналитиков, бро')\n",
    "else: \n",
    "    print ('Мля, я заточен на подсчет до трёх челов, бро, а тут их у тебя уже хуева гора - сам разъебывайся, я хз).')"
   ]
  },
  {
   "cell_type": "code",
   "execution_count": 65,
   "id": "292cc715",
   "metadata": {},
   "outputs": [],
   "source": [
    "analysts.append('Michael')   # добавить элемент в список #"
   ]
  },
  {
   "cell_type": "code",
   "execution_count": 67,
   "id": "89e08432",
   "metadata": {},
   "outputs": [
    {
     "data": {
      "text/plain": [
       "'Michael'"
      ]
     },
     "execution_count": 67,
     "metadata": {},
     "output_type": "execute_result"
    }
   ],
   "source": [
    "analysts.pop(3)  # выведение в аутпут 4-ого элемента, с его ВЫРЕЗАНИЕМ из списка#"
   ]
  },
  {
   "cell_type": "code",
   "execution_count": 69,
   "id": "b68e3dc9",
   "metadata": {},
   "outputs": [
    {
     "data": {
      "text/plain": [
       "['Captain Nik', 'Olga', 'Beslan', 'Michael']"
      ]
     },
     "execution_count": 69,
     "metadata": {},
     "output_type": "execute_result"
    }
   ],
   "source": [
    "analysts"
   ]
  },
  {
   "cell_type": "code",
   "execution_count": null,
   "id": "35c6a9e6",
   "metadata": {},
   "outputs": [],
   "source": []
  },
  {
   "cell_type": "code",
   "execution_count": 9,
   "id": "997e85c6",
   "metadata": {},
   "outputs": [],
   "source": [
    "has_job = False"
   ]
  },
  {
   "cell_type": "code",
   "execution_count": 18,
   "id": "feca00ef",
   "metadata": {},
   "outputs": [
    {
     "name": "stdout",
     "output_type": "stream",
     "text": [
      "Captain Nik is in serch of his new big job, just train and wait, bro, it's will be fine)\n"
     ]
    }
   ],
   "source": [
    "if has_job == True:\n",
    "    happy_message = 'Captain Nik is so happy)!'\n",
    "    print(happy_message)\n",
    "else:\n",
    "    sad_message = \"Captain Nik is in serch of his new big job, just train and wait, bro, it's will be fine)\"\n",
    "    print(sad_message)"
   ]
  },
  {
   "cell_type": "code",
   "execution_count": 20,
   "id": "c2e41f41",
   "metadata": {},
   "outputs": [
    {
     "name": "stdout",
     "output_type": "stream",
     "text": [
      "Captain Nik is in serch of his new big job, just train and wait, bro, it's will be fine)\n"
     ]
    }
   ],
   "source": [
    "if has_job:\n",
    "    happy_message = 'Captain Nik is so happy)!'\n",
    "    print(happy_message)\n",
    "else:\n",
    "    sad_message = \"Captain Nik is in serch of his new big job, just train and wait, bro, it's will be fine)\"\n",
    "    print(sad_message)"
   ]
  },
  {
   "cell_type": "code",
   "execution_count": 21,
   "id": "5805b7a9",
   "metadata": {},
   "outputs": [
    {
     "name": "stdout",
     "output_type": "stream",
     "text": [
      "Captain Nik is in serch of his new big job, just train and wait, bro, it's will be fine)\n"
     ]
    }
   ],
   "source": [
    "if has_job:\n",
    "    message = 'Captain Nik is so happy)!'\n",
    "else:\n",
    "    message = \"Captain Nik is in serch of his new big job, just train and wait, bro, it's will be fine)\"\n",
    "print(message)"
   ]
  },
  {
   "cell_type": "code",
   "execution_count": 23,
   "id": "21a2bcf0",
   "metadata": {},
   "outputs": [],
   "source": [
    "if has_job:         # без else #\n",
    "    message = 'Captain Nik is so happy)!'\n",
    "    print(message)"
   ]
  },
  {
   "cell_type": "code",
   "execution_count": null,
   "id": "abbbc6b9",
   "metadata": {},
   "outputs": [],
   "source": []
  },
  {
   "cell_type": "markdown",
   "id": "ea76c0ed",
   "metadata": {},
   "source": [
    "Задача:\n",
    "есть аналитики, нужно расписать их премирование исходя из опыта работы(k):"
   ]
  },
  {
   "cell_type": "code",
   "execution_count": 34,
   "id": "a7f25bea",
   "metadata": {},
   "outputs": [],
   "source": [
    "job_years = 0.5"
   ]
  },
  {
   "cell_type": "code",
   "execution_count": 32,
   "id": "1fa1977d",
   "metadata": {},
   "outputs": [],
   "source": [
    "salary = 2500"
   ]
  },
  {
   "cell_type": "code",
   "execution_count": 35,
   "id": "60e6dce3",
   "metadata": {},
   "outputs": [
    {
     "name": "stdout",
     "output_type": "stream",
     "text": [
      "Not addition money\n",
      "2500\n"
     ]
    }
   ],
   "source": [
    "if job_years < 1:\n",
    "    print('Not addition money')\n",
    "    new_salary = salary + salary*0 \n",
    "elif job_years >=1 and job_years <=2:\n",
    "    print('0.2 addition')\n",
    "    new_salary = salary + salary*0.2\n",
    "else: \n",
    "    print('0.4 addition')\n",
    "    new_salary = salary + salary*0.4\n",
    "print(new_salary)"
   ]
  },
  {
   "cell_type": "code",
   "execution_count": 67,
   "id": "dd1150a1",
   "metadata": {},
   "outputs": [],
   "source": [
    "job_years = 0\n",
    "salary = 2500\n",
    "#Ниже вариант докрученый вариант - с типовым сообщением с местами под вставки#"
   ]
  },
  {
   "cell_type": "code",
   "execution_count": 144,
   "id": "72540c79",
   "metadata": {},
   "outputs": [],
   "source": [
    "message = 'Addition is equel {coef}. New salary is {new_salary}'"
   ]
  },
  {
   "cell_type": "code",
   "execution_count": 145,
   "id": "f77ca56e",
   "metadata": {},
   "outputs": [
    {
     "name": "stdout",
     "output_type": "stream",
     "text": [
      "Addition is equel 0. New salary is 2500\n"
     ]
    }
   ],
   "source": [
    "if job_years < 1:\n",
    "    coefficient = 0\n",
    "elif job_years >=1 and job_years <=2:\n",
    "    coefficient = 0.2\n",
    "else: \n",
    "    coefficient = 0.4\n",
    "new_salary = salary + salary*coefficient\n",
    "print(message.format(coef = coefficient, new_salary = new_salary))"
   ]
  },
  {
   "cell_type": "code",
   "execution_count": null,
   "id": "4837466d",
   "metadata": {},
   "outputs": [],
   "source": []
  },
  {
   "cell_type": "code",
   "execution_count": null,
   "id": "d6495a7c",
   "metadata": {},
   "outputs": [],
   "source": []
  },
  {
   "cell_type": "code",
   "execution_count": 68,
   "id": "f6d828e2",
   "metadata": {},
   "outputs": [],
   "source": [
    "analysts = ['Captain Nik', 'Olga', 'Beslan']"
   ]
  },
  {
   "cell_type": "code",
   "execution_count": 69,
   "id": "ef1c11f8",
   "metadata": {},
   "outputs": [
    {
     "name": "stdout",
     "output_type": "stream",
     "text": [
      "Captain Nik\n",
      "Olga\n",
      "Beslan\n"
     ]
    }
   ],
   "source": [
    "for i in analysts: \n",
    "    print(i)"
   ]
  },
  {
   "cell_type": "code",
   "execution_count": 70,
   "id": "15a92c00",
   "metadata": {},
   "outputs": [
    {
     "name": "stdout",
     "output_type": "stream",
     "text": [
      "Analyst name is Captain Nik.\n",
      "Analyst name is Olga.\n",
      "Analyst name is Beslan.\n"
     ]
    }
   ],
   "source": [
    "for i in analysts: \n",
    "    print('Analyst name is {}.'.format(i))"
   ]
  },
  {
   "cell_type": "code",
   "execution_count": 72,
   "id": "587f4a9f",
   "metadata": {},
   "outputs": [
    {
     "name": "stdout",
     "output_type": "stream",
     "text": [
      "Analyst name is Captain Nik.\n"
     ]
    }
   ],
   "source": [
    "for i in analysts:\n",
    "    if i == 'Captain Nik':\n",
    "        print('Analyst name is {}.'.format(i))"
   ]
  },
  {
   "cell_type": "code",
   "execution_count": null,
   "id": "53ea459f",
   "metadata": {},
   "outputs": [],
   "source": []
  },
  {
   "cell_type": "code",
   "execution_count": 73,
   "id": "3613bdc0",
   "metadata": {},
   "outputs": [],
   "source": [
    "analysts_data = {'Captain Nik': 1, 'Olga': 3, 'Beslan': 4 }"
   ]
  },
  {
   "cell_type": "code",
   "execution_count": 77,
   "id": "166aeb38",
   "metadata": {},
   "outputs": [
    {
     "data": {
      "text/plain": [
       "3"
      ]
     },
     "execution_count": 77,
     "metadata": {},
     "output_type": "execute_result"
    }
   ],
   "source": [
    "analysts_data['Olga']"
   ]
  },
  {
   "cell_type": "code",
   "execution_count": 78,
   "id": "3a428ba0",
   "metadata": {},
   "outputs": [],
   "source": [
    "analysts_data['Michael'] = 10"
   ]
  },
  {
   "cell_type": "code",
   "execution_count": 79,
   "id": "5f5d4bc2",
   "metadata": {},
   "outputs": [
    {
     "name": "stdout",
     "output_type": "stream",
     "text": [
      "{'Captain Nik': 1, 'Olga': 3, 'Beslan': 4, 'Michael': 10}\n"
     ]
    }
   ],
   "source": [
    "print(analysts_data)"
   ]
  },
  {
   "cell_type": "code",
   "execution_count": null,
   "id": "09f652f6",
   "metadata": {},
   "outputs": [],
   "source": []
  },
  {
   "cell_type": "code",
   "execution_count": 80,
   "id": "ac7ec521",
   "metadata": {},
   "outputs": [],
   "source": [
    "analysts_data = {'Captain Nik': [1, 2500], 'Olga': [3, 4500], 'Beslan': [4, 5000] }"
   ]
  },
  {
   "cell_type": "code",
   "execution_count": 82,
   "id": "ddb8f496",
   "metadata": {},
   "outputs": [
    {
     "data": {
      "text/plain": [
       "[3, 4500]"
      ]
     },
     "execution_count": 82,
     "metadata": {},
     "output_type": "execute_result"
    }
   ],
   "source": [
    "analysts_data['Olga']"
   ]
  },
  {
   "cell_type": "code",
   "execution_count": null,
   "id": "38bd4a62",
   "metadata": {},
   "outputs": [],
   "source": []
  },
  {
   "cell_type": "code",
   "execution_count": 85,
   "id": "46559cd1",
   "metadata": {},
   "outputs": [
    {
     "name": "stdout",
     "output_type": "stream",
     "text": [
      "Captain Nik [1, 2500]\n",
      "Olga [3, 4500]\n",
      "Beslan [4, 5000]\n"
     ]
    }
   ],
   "source": [
    "for i in analysts_data:\n",
    "    print(i, analysts_data[i])"
   ]
  },
  {
   "cell_type": "code",
   "execution_count": null,
   "id": "9061432f",
   "metadata": {},
   "outputs": [],
   "source": []
  },
  {
   "cell_type": "code",
   "execution_count": 94,
   "id": "f8d2c7b8",
   "metadata": {},
   "outputs": [
    {
     "name": "stdout",
     "output_type": "stream",
     "text": [
      "Olga\n",
      "Beslan\n"
     ]
    }
   ],
   "source": [
    "for i in analysts_data:\n",
    "    if analysts_data[i][0] >= 3:      # обратились к списку внутри имени, к нулевому (первому значению списка)\n",
    "        print(i)"
   ]
  },
  {
   "cell_type": "code",
   "execution_count": 95,
   "id": "0528b5d7",
   "metadata": {},
   "outputs": [
    {
     "name": "stdout",
     "output_type": "stream",
     "text": [
      "Beslan\n"
     ]
    }
   ],
   "source": [
    "for i in analysts_data:\n",
    "    if analysts_data[i][1] >= 5000:\n",
    "        print(i)"
   ]
  },
  {
   "cell_type": "code",
   "execution_count": null,
   "id": "9a8914ce",
   "metadata": {},
   "outputs": [],
   "source": []
  },
  {
   "cell_type": "markdown",
   "id": "90d771ab",
   "metadata": {},
   "source": [
    "  # Задачки к I лекции\n",
    "    \n",
    "1) сохраните в переменную age произвольный возраст, выраженный целым числом, а в переменную name какое-нибудь имя в виде строки"
   ]
  },
  {
   "cell_type": "code",
   "execution_count": 114,
   "id": "d4a6390a",
   "metadata": {},
   "outputs": [
    {
     "name": "stdout",
     "output_type": "stream",
     "text": [
      "Captain Mik, age is 27.\n"
     ]
    }
   ],
   "source": [
    "age = 27\n",
    "name = 'Mik'\n",
    "print('Captain {},'.format(name), 'age is {}.'.format(age) )"
   ]
  },
  {
   "cell_type": "markdown",
   "id": "44c7e80b",
   "metadata": {},
   "source": [
    "2) Создайте список user_info, содержащий 4 элемента - имя, фамилия пользователя, \n",
    "1 дробное число (зарплата) и 1 целое число (стаж)"
   ]
  },
  {
   "cell_type": "code",
   "execution_count": 122,
   "id": "fe624890",
   "metadata": {},
   "outputs": [
    {
     "data": {
      "text/plain": [
       "'Kopot'"
      ]
     },
     "execution_count": 122,
     "metadata": {},
     "output_type": "execute_result"
    }
   ],
   "source": [
    "user_info = ['Mik', 'Kopot', 2500.0, 1]\n",
    "user_info[1]"
   ]
  },
  {
   "cell_type": "markdown",
   "id": "8584a65a",
   "metadata": {},
   "source": [
    "3) Поместите в переменную first первый (то есть нулевой) элемент из списка salaries"
   ]
  },
  {
   "cell_type": "code",
   "execution_count": 125,
   "id": "154ced92",
   "metadata": {},
   "outputs": [
    {
     "name": "stdout",
     "output_type": "stream",
     "text": [
      "2500.0\n"
     ]
    }
   ],
   "source": [
    "salaries = [2500.0, 2850.0, 3400.0]\n",
    "first = salaries[0]\n",
    "print(first)"
   ]
  },
  {
   "cell_type": "markdown",
   "id": "24546aa7",
   "metadata": {},
   "source": [
    "4) Добавьте в список users элементы 'Voronov' и 42"
   ]
  },
  {
   "cell_type": "code",
   "execution_count": 128,
   "id": "d93018bb",
   "metadata": {},
   "outputs": [],
   "source": [
    "users = ['Mik', 'Jane', 'Maksimus', 'Natasha']"
   ]
  },
  {
   "cell_type": "code",
   "execution_count": 132,
   "id": "a9bf83dc",
   "metadata": {},
   "outputs": [],
   "source": [
    "users.append('Voronov')\n",
    "users.append('42')"
   ]
  },
  {
   "cell_type": "code",
   "execution_count": 133,
   "id": "503bc385",
   "metadata": {},
   "outputs": [
    {
     "data": {
      "text/plain": [
       "['Mik', 'Jane', 'Maksimus', 'Natasha', 'Voronov', 'Voronov', '42']"
      ]
     },
     "execution_count": 133,
     "metadata": {},
     "output_type": "execute_result"
    }
   ],
   "source": [
    "users"
   ]
  },
  {
   "cell_type": "markdown",
   "id": "bb7c4a7e",
   "metadata": {},
   "source": [
    "5) В переменной user_ages содержится список возрастов клиентов. Напишите петлю, выводящую на печать возраста, которые больше 18.\n",
    "\n",
    "Пример данных, которые могут быть в user_ages\n",
    "\n",
    "    user_ages = [10, 18, 21, 35, 42, 27, 12, 16]\n",
    "\n",
    "    Note: в этом задании нужно печатать эти числа"
   ]
  },
  {
   "cell_type": "code",
   "execution_count": 139,
   "id": "f8cec873",
   "metadata": {},
   "outputs": [
    {
     "name": "stdout",
     "output_type": "stream",
     "text": [
      "21\n",
      "35\n",
      "42\n",
      "27\n"
     ]
    }
   ],
   "source": [
    "user_ages = [10, 18, 21, 35, 42, 27, 12, 16]\n",
    "for i in user_ages:\n",
    "    if i > 18:\n",
    "        print(i)"
   ]
  },
  {
   "cell_type": "markdown",
   "id": "8386d215",
   "metadata": {},
   "source": [
    "6) Напишите программу, проверяющую стаж работы сотрудника. \n",
    "В переменной worker содержится список, содержащий значения как во 2-ом задании (имя, фамилия, зарплата, стаж).\n",
    "Поместите в переменную status такую строку\n",
    "\n",
    "    user_name user_family is position\n",
    "\n",
    "    где user_name и user_family - имя и фамилия сотрудника, а position - одна из следующих строк\n",
    "\n",
    "* 'junior' - стаж меньше 2 лет\n",
    "* 'middle' - стаж больше либо равен 2 лет\n",
    "* 'senior' - стаж больше 5 лет \n",
    "    \n",
    "    Пример данных, которые могут быть в worker\n",
    "    \n",
    "    worker = ['Olya', 'Silyutina', 350000, 3]\n",
    "\n",
    "    Hint: печатать результат не нужно, просто задайте его в переменную status"
   ]
  },
  {
   "cell_type": "code",
   "execution_count": 163,
   "id": "3cdefccd",
   "metadata": {},
   "outputs": [
    {
     "name": "stdout",
     "output_type": "stream",
     "text": [
      "Olya Silyutina is middle\n"
     ]
    }
   ],
   "source": [
    "worker = ['Olya', 'Silyutina', 350000, 4]\n",
    "if worker[3] < 2:\n",
    "    position = 'junior'\n",
    "elif worker[3] >= 2 and worker[3] < 5:\n",
    "    position = 'middle'\n",
    "elif worker[3] >= 5:\n",
    "    position = 'senior'\n",
    "status = '{user_name} {user_family} is {position}'.format(user_name = worker[0], user_family = worker[1], position= position)\n",
    "print(status)"
   ]
  },
  {
   "cell_type": "markdown",
   "id": "23e93a98",
   "metadata": {},
   "source": [
    "7) В списке values содержатся числовые значения. Создайте список tens и добавьте в него все числа из values, \n",
    "которые делятся на 10 нацело\n",
    "Пример данных, которые могут быть в values\n",
    "\n",
    "    values = [12, 134, 10, 47, 100, 20, 50, 160, 210"
   ]
  },
  {
   "cell_type": "code",
   "execution_count": 170,
   "id": "68784dcf",
   "metadata": {},
   "outputs": [
    {
     "name": "stdout",
     "output_type": "stream",
     "text": [
      "[10, 100, 20, 50, 160, 210]\n"
     ]
    }
   ],
   "source": [
    "values = [12, 134, 10, 47, 100, 20, 50, 160, 210]\n",
    "tens = []\n",
    "for i in values:\n",
    "    if i%10 == 0:\n",
    "        tens.append(i)\n",
    "print(tens)"
   ]
  },
  {
   "cell_type": "markdown",
   "id": "1f9f578e",
   "metadata": {},
   "source": [
    "8) ⭐️Задание со звёздочкой!⭐️\n",
    "\n",
    "Реализуйте цикл, который пробегается по списку workers со значениями как в 2-ом и 6-ом заданиях, и выводит для каждого сотрудника строку (то есть печатает её для каждого элемента списка)\n",
    "user_name user_family is position\n",
    "где user_name и user_family - имя и фамилия сотрудника, а position - одна из следующих строк\n",
    "* 'junior' - стаж меньше 2 лет\n",
    "* 'middle' - стаж больше либо равен 2 лет\n",
    "* 'senior' - стаж больше 5 лет \n",
    "Пример данных, которые могут быть в workers\n",
    "workers = [['Ivan', 'Ivanov', 100000, 2], ['Petr', 'Petrov', 150000, 2], ['Sidor', 'Sidorov', 200000, 3]]\n",
    "\n",
    "    Note: в этом задании нужно печатать эти строки"
   ]
  },
  {
   "cell_type": "code",
   "execution_count": 201,
   "id": "52d9b5bb",
   "metadata": {},
   "outputs": [
    {
     "name": "stdout",
     "output_type": "stream",
     "text": [
      "Ivan Ivanov is junior\n",
      "Petr Petrov is middle\n",
      "Sidor Sidorov is senior\n"
     ]
    }
   ],
   "source": [
    "workers = [['Ivan', 'Ivanov', 100000, 1], ['Petr', 'Petrov', 150000, 2], ['Sidor', 'Sidorov', 200000, 5]]\n",
    "for i in workers:\n",
    "    if i[3] < 2:\n",
    "        position = 'junior'\n",
    "    elif i[3] >= 2 and i[3] < 5:\n",
    "        position = 'middle'\n",
    "    elif i[3] >= 5:\n",
    "        position = 'senior'\n",
    "    status = '{user_name} {user_family} is {position}'.format(user_name = i[0], user_family = i[1], position = position)\n",
    "    print(status)"
   ]
  },
  {
   "cell_type": "markdown",
   "id": "20d8b5c1",
   "metadata": {},
   "source": [
    "⭐️ Задание со звёздочкой! ⭐️\n",
    "\n",
    "Поместите в список lst числа от 0 (n = 0) до 10 включительно (N = 10) c шагом 2 (dn = 2). Для этого используйте условие while."
   ]
  },
  {
   "cell_type": "code",
   "execution_count": 216,
   "id": "3240aa95",
   "metadata": {},
   "outputs": [
    {
     "name": "stdout",
     "output_type": "stream",
     "text": [
      "[0, 2, 4, 6, 8, 10]\n"
     ]
    }
   ],
   "source": [
    "n = 0\n",
    "dn = 2\n",
    "N = 10\n",
    "lst = [0]\n",
    "while n <N:\n",
    "    n = n + dn\n",
    "    lst.append(n) \n",
    "print(lst)"
   ]
  },
  {
   "cell_type": "code",
   "execution_count": null,
   "id": "a7426306",
   "metadata": {},
   "outputs": [],
   "source": []
  },
  {
   "cell_type": "markdown",
   "id": "29371766",
   "metadata": {},
   "source": [
    "Создайте словарь users_dict, где:\n",
    "   * Ключом будет логин пользователя (login)\n",
    "   * В качестве значения – словарь с характеристиками (как на предыдущем шаге) для этого пользователя\n",
    "\n",
    "login\tname\tsurname\tage\tsalary\tposition\n",
    "\n",
    "mvolkova\tMasha\tVolkova\t25\t60000\tjunior\n",
    "\n",
    "pvoronov\tPeter\tVoronov\t27\t100000\tjunior\n",
    "\n",
    "pparker\tPeter\tParker\t35\t150000\tmiddle\n",
    "\n",
    "akarpov\tAnatoly\tKarpov\t30\t250000\tsenior\n"
   ]
  },
  {
   "cell_type": "code",
   "execution_count": 229,
   "id": "a4a75a15",
   "metadata": {},
   "outputs": [],
   "source": [
    "users_dict = {'mvolkova': {'name': 'Masha', 'surname': 'Volkova', 'age': 25, 'salary': 60000, 'position': 'junior'}, \n",
    "              'pvoronov': {'name': 'Peter', 'surname': 'Voronov', 'age': 27, 'salary': 100000, 'position': 'junior'},\n",
    "              'pparker': {'name': 'Peter', 'surname': 'Parker', 'age': 35, 'salary': 150000, 'position': 'middle'},\n",
    "              'akarpov': {'name': 'Anatoly', 'surname': 'Karpov', 'age': 30, 'salary': 250000, 'position': 'senior'}\n",
    "             }"
   ]
  },
  {
   "cell_type": "code",
   "execution_count": 237,
   "id": "2abccbee",
   "metadata": {},
   "outputs": [
    {
     "data": {
      "text/plain": [
       "30"
      ]
     },
     "execution_count": 237,
     "metadata": {},
     "output_type": "execute_result"
    }
   ],
   "source": [
    "users_dict['akarpov']['age']"
   ]
  },
  {
   "cell_type": "code",
   "execution_count": null,
   "id": "1b21693f",
   "metadata": {},
   "outputs": [],
   "source": []
  },
  {
   "cell_type": "markdown",
   "id": "090f4de2",
   "metadata": {},
   "source": [
    "  # Lesson 2"
   ]
  },
  {
   "cell_type": "code",
   "execution_count": 256,
   "id": "bf9784e3",
   "metadata": {},
   "outputs": [],
   "source": [
    "import pandas as pd"
   ]
  },
  {
   "cell_type": "code",
   "execution_count": null,
   "id": "0761eafe",
   "metadata": {},
   "outputs": [],
   "source": [
    "pd.read_csv()"
   ]
  },
  {
   "cell_type": "code",
   "execution_count": 337,
   "id": "063c651e",
   "metadata": {},
   "outputs": [],
   "source": [
    "df = pd.read_csv('D:\\\\COURSES\\\\Анатолий Карпов\\\\Твой путь в мир Data Analytics. Часть 1 (2020)\\\\2\\\\Лекции\\\\lesson_1_data.csv', encoding='windows-1251', sep = ';')"
   ]
  },
  {
   "cell_type": "code",
   "execution_count": 339,
   "id": "7f61cf30",
   "metadata": {
    "scrolled": true
   },
   "outputs": [
    {
     "data": {
      "text/html": [
       "<div>\n",
       "<style scoped>\n",
       "    .dataframe tbody tr th:only-of-type {\n",
       "        vertical-align: middle;\n",
       "    }\n",
       "\n",
       "    .dataframe tbody tr th {\n",
       "        vertical-align: top;\n",
       "    }\n",
       "\n",
       "    .dataframe thead th {\n",
       "        text-align: right;\n",
       "    }\n",
       "</style>\n",
       "<table border=\"1\" class=\"dataframe\">\n",
       "  <thead>\n",
       "    <tr style=\"text-align: right;\">\n",
       "      <th></th>\n",
       "      <th>Номер</th>\n",
       "      <th>Дата создания</th>\n",
       "      <th>Дата оплаты</th>\n",
       "      <th>Title</th>\n",
       "      <th>Статус</th>\n",
       "      <th>Заработано</th>\n",
       "      <th>Город</th>\n",
       "      <th>Платежная система</th>\n",
       "    </tr>\n",
       "  </thead>\n",
       "  <tbody>\n",
       "    <tr>\n",
       "      <th>0</th>\n",
       "      <td>1062823</td>\n",
       "      <td>01.12.2019 10:50</td>\n",
       "      <td>01.12.2019 10:52</td>\n",
       "      <td>Курс обучения «Эксперт»</td>\n",
       "      <td>Завершен</td>\n",
       "      <td>29597.50</td>\n",
       "      <td>Чита</td>\n",
       "      <td>Сбербанк эквайринг</td>\n",
       "    </tr>\n",
       "    <tr>\n",
       "      <th>1</th>\n",
       "      <td>1062855</td>\n",
       "      <td>01.12.2019 20:53</td>\n",
       "      <td>01.12.2019 21:27</td>\n",
       "      <td>Курс обучения «Эксперт»</td>\n",
       "      <td>Завершен</td>\n",
       "      <td>17450.30</td>\n",
       "      <td>Краснодар</td>\n",
       "      <td>Яндекс.Касса</td>\n",
       "    </tr>\n",
       "    <tr>\n",
       "      <th>2</th>\n",
       "      <td>1062856</td>\n",
       "      <td>01.12.2019 21:43</td>\n",
       "      <td>NaN</td>\n",
       "      <td>Курс обучения «Специалист»</td>\n",
       "      <td>Отменен</td>\n",
       "      <td>0.00</td>\n",
       "      <td>NaN</td>\n",
       "      <td>NaN</td>\n",
       "    </tr>\n",
       "    <tr>\n",
       "      <th>3</th>\n",
       "      <td>1062880</td>\n",
       "      <td>03.12.2019 0:18</td>\n",
       "      <td>NaN</td>\n",
       "      <td>Курс обучения «Консультант»</td>\n",
       "      <td>Отменен</td>\n",
       "      <td>0.00</td>\n",
       "      <td>г.Москва и Московская область</td>\n",
       "      <td>NaN</td>\n",
       "    </tr>\n",
       "    <tr>\n",
       "      <th>4</th>\n",
       "      <td>1062899</td>\n",
       "      <td>03.12.2019 21:43</td>\n",
       "      <td>NaN</td>\n",
       "      <td>Курс обучения «Эксперт»</td>\n",
       "      <td>Отменен</td>\n",
       "      <td>0.00</td>\n",
       "      <td>г.Москва и Московская область</td>\n",
       "      <td>NaN</td>\n",
       "    </tr>\n",
       "    <tr>\n",
       "      <th>...</th>\n",
       "      <td>...</td>\n",
       "      <td>...</td>\n",
       "      <td>...</td>\n",
       "      <td>...</td>\n",
       "      <td>...</td>\n",
       "      <td>...</td>\n",
       "      <td>...</td>\n",
       "      <td>...</td>\n",
       "    </tr>\n",
       "    <tr>\n",
       "      <th>287</th>\n",
       "      <td>1064720</td>\n",
       "      <td>30.12.2019 9:42</td>\n",
       "      <td>30.12.2019 12:49</td>\n",
       "      <td>Подписка «ОНЛАЙН ДИЕТОЛОГ» с ежемесячным автос...</td>\n",
       "      <td>Завершен</td>\n",
       "      <td>2935.44</td>\n",
       "      <td>Самарская область</td>\n",
       "      <td>Яндекс.Касса</td>\n",
       "    </tr>\n",
       "    <tr>\n",
       "      <th>288</th>\n",
       "      <td>1064724</td>\n",
       "      <td>30.12.2019 11:32</td>\n",
       "      <td>NaN</td>\n",
       "      <td>Курс обучения «Консультант»</td>\n",
       "      <td>Отменен</td>\n",
       "      <td>0.00</td>\n",
       "      <td>NaN</td>\n",
       "      <td>NaN</td>\n",
       "    </tr>\n",
       "    <tr>\n",
       "      <th>289</th>\n",
       "      <td>1064775</td>\n",
       "      <td>31.12.2019 2:17</td>\n",
       "      <td>31.12.2019 2:22</td>\n",
       "      <td>Курс обучения «Консультант»</td>\n",
       "      <td>Завершен</td>\n",
       "      <td>7423.92</td>\n",
       "      <td>NaN</td>\n",
       "      <td>Сбербанк эквайринг,Бонусный счет</td>\n",
       "    </tr>\n",
       "    <tr>\n",
       "      <th>290</th>\n",
       "      <td>1064793</td>\n",
       "      <td>31.12.2019 16:40</td>\n",
       "      <td>01.01.2020 14:29</td>\n",
       "      <td>Подписка «ОНЛАЙН ДИЕТОЛОГ» с ежемесячным автос...</td>\n",
       "      <td>Завершен</td>\n",
       "      <td>2935.44</td>\n",
       "      <td>Республика Карелия</td>\n",
       "      <td>Яндекс.Касса</td>\n",
       "    </tr>\n",
       "    <tr>\n",
       "      <th>291</th>\n",
       "      <td>1064796</td>\n",
       "      <td>31.12.2019 17:29</td>\n",
       "      <td>31.12.2019 17:32</td>\n",
       "      <td>Курс от Школы Диетологов. Повышение квалификац...</td>\n",
       "      <td>Завершен</td>\n",
       "      <td>9898.56</td>\n",
       "      <td>Уфа</td>\n",
       "      <td>Сбербанк эквайринг,Бонусный счет</td>\n",
       "    </tr>\n",
       "  </tbody>\n",
       "</table>\n",
       "<p>292 rows × 8 columns</p>\n",
       "</div>"
      ],
      "text/plain": [
       "       Номер     Дата создания       Дата оплаты  \\\n",
       "0    1062823  01.12.2019 10:50  01.12.2019 10:52   \n",
       "1    1062855  01.12.2019 20:53  01.12.2019 21:27   \n",
       "2    1062856  01.12.2019 21:43               NaN   \n",
       "3    1062880   03.12.2019 0:18               NaN   \n",
       "4    1062899  03.12.2019 21:43               NaN   \n",
       "..       ...               ...               ...   \n",
       "287  1064720   30.12.2019 9:42  30.12.2019 12:49   \n",
       "288  1064724  30.12.2019 11:32               NaN   \n",
       "289  1064775   31.12.2019 2:17   31.12.2019 2:22   \n",
       "290  1064793  31.12.2019 16:40  01.01.2020 14:29   \n",
       "291  1064796  31.12.2019 17:29  31.12.2019 17:32   \n",
       "\n",
       "                                                 Title    Статус  Заработано  \\\n",
       "0                              Курс обучения «Эксперт»  Завершен    29597.50   \n",
       "1                              Курс обучения «Эксперт»  Завершен    17450.30   \n",
       "2                           Курс обучения «Специалист»   Отменен        0.00   \n",
       "3                          Курс обучения «Консультант»   Отменен        0.00   \n",
       "4                              Курс обучения «Эксперт»   Отменен        0.00   \n",
       "..                                                 ...       ...         ...   \n",
       "287  Подписка «ОНЛАЙН ДИЕТОЛОГ» с ежемесячным автос...  Завершен     2935.44   \n",
       "288                        Курс обучения «Консультант»   Отменен        0.00   \n",
       "289                        Курс обучения «Консультант»  Завершен     7423.92   \n",
       "290  Подписка «ОНЛАЙН ДИЕТОЛОГ» с ежемесячным автос...  Завершен     2935.44   \n",
       "291  Курс от Школы Диетологов. Повышение квалификац...  Завершен     9898.56   \n",
       "\n",
       "                             Город                 Платежная система  \n",
       "0                             Чита                Сбербанк эквайринг  \n",
       "1                        Краснодар                      Яндекс.Касса  \n",
       "2                              NaN                               NaN  \n",
       "3    г.Москва и Московская область                               NaN  \n",
       "4    г.Москва и Московская область                               NaN  \n",
       "..                             ...                               ...  \n",
       "287              Самарская область                      Яндекс.Касса  \n",
       "288                            NaN                               NaN  \n",
       "289                            NaN  Сбербанк эквайринг,Бонусный счет  \n",
       "290             Республика Карелия                      Яндекс.Касса  \n",
       "291                            Уфа  Сбербанк эквайринг,Бонусный счет  \n",
       "\n",
       "[292 rows x 8 columns]"
      ]
     },
     "execution_count": 339,
     "metadata": {},
     "output_type": "execute_result"
    }
   ],
   "source": [
    "df"
   ]
  },
  {
   "cell_type": "code",
   "execution_count": null,
   "id": "6fd7726e",
   "metadata": {},
   "outputs": [],
   "source": []
  },
  {
   "cell_type": "code",
   "execution_count": null,
   "id": "62e52693",
   "metadata": {},
   "outputs": [],
   "source": []
  },
  {
   "cell_type": "code",
   "execution_count": null,
   "id": "5fbc7750",
   "metadata": {},
   "outputs": [],
   "source": []
  },
  {
   "cell_type": "code",
   "execution_count": null,
   "id": "3bcfe93c",
   "metadata": {},
   "outputs": [],
   "source": []
  },
  {
   "cell_type": "code",
   "execution_count": null,
   "id": "af8a0e56",
   "metadata": {},
   "outputs": [],
   "source": []
  }
 ],
 "metadata": {
  "kernelspec": {
   "display_name": "Python 3 (ipykernel)",
   "language": "python",
   "name": "python3"
  },
  "language_info": {
   "codemirror_mode": {
    "name": "ipython",
    "version": 3
   },
   "file_extension": ".py",
   "mimetype": "text/x-python",
   "name": "python",
   "nbconvert_exporter": "python",
   "pygments_lexer": "ipython3",
   "version": "3.12.4"
  }
 },
 "nbformat": 4,
 "nbformat_minor": 5
}
