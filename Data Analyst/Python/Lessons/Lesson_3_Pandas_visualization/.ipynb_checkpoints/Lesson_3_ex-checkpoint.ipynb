{
 "cells": [
  {
   "cell_type": "markdown",
   "id": "8100b1bb",
   "metadata": {},
   "source": [
    "# Lesson_3_ex"
   ]
  },
  {
   "cell_type": "code",
   "execution_count": 270,
   "id": "ef099655",
   "metadata": {},
   "outputs": [],
   "source": [
    "import pandas as pd\n",
    "import seaborn as sns    \n",
    "import matplotlib.pyplot as plt\n",
    "import numpy as np\n",
    "\n",
    "%matplotlib inline    "
   ]
  },
  {
   "cell_type": "markdown",
   "id": "d1afb11e",
   "metadata": {},
   "source": [
    "### Ex_1\n",
    "Строка names содержит имена в формате 'Name1 Surname1, Name2 Surname2, …'.\n",
    "Поместите в переменную names_list список со строками имён – ['Name1 Surname1', 'Name2 Surname2', …]"
   ]
  },
  {
   "cell_type": "code",
   "execution_count": 19,
   "id": "d09c3057",
   "metadata": {},
   "outputs": [
    {
     "data": {
      "text/plain": [
       "['Name1 Surname1', 'Name2 Surname2', '…']"
      ]
     },
     "execution_count": 19,
     "metadata": {},
     "output_type": "execute_result"
    }
   ],
   "source": [
    "names = 'Name1 Surname1, Name2 Surname2, …'\n",
    "names_list = names.split(', ')\n",
    "names_list"
   ]
  },
  {
   "cell_type": "markdown",
   "id": "01025b51",
   "metadata": {},
   "source": [
    "### Ex_2\n",
    "В переменной df содержатся данные как на картинке task2.png (находится в папке с заданием)\n",
    "\n",
    "Отберите из них только те, где wealth 'medium', а возраст больше 35, и поместите в переменную medium_35"
   ]
  },
  {
   "cell_type": "code",
   "execution_count": 53,
   "id": "8744eb70",
   "metadata": {},
   "outputs": [
    {
     "data": {
      "text/html": [
       "<div>\n",
       "<style scoped>\n",
       "    .dataframe tbody tr th:only-of-type {\n",
       "        vertical-align: middle;\n",
       "    }\n",
       "\n",
       "    .dataframe tbody tr th {\n",
       "        vertical-align: top;\n",
       "    }\n",
       "\n",
       "    .dataframe thead th {\n",
       "        text-align: right;\n",
       "    }\n",
       "</style>\n",
       "<table border=\"1\" class=\"dataframe\">\n",
       "  <thead>\n",
       "    <tr style=\"text-align: right;\">\n",
       "      <th></th>\n",
       "      <th>client_id</th>\n",
       "      <th>sex</th>\n",
       "      <th>wealth</th>\n",
       "      <th>age</th>\n",
       "    </tr>\n",
       "  </thead>\n",
       "  <tbody>\n",
       "    <tr>\n",
       "      <th>0</th>\n",
       "      <td>9002</td>\n",
       "      <td>1</td>\n",
       "      <td>medium</td>\n",
       "      <td>63</td>\n",
       "    </tr>\n",
       "    <tr>\n",
       "      <th>1</th>\n",
       "      <td>6722</td>\n",
       "      <td>1</td>\n",
       "      <td>high</td>\n",
       "      <td>54</td>\n",
       "    </tr>\n",
       "    <tr>\n",
       "      <th>2</th>\n",
       "      <td>8799</td>\n",
       "      <td>1</td>\n",
       "      <td>high</td>\n",
       "      <td>62</td>\n",
       "    </tr>\n",
       "    <tr>\n",
       "      <th>3</th>\n",
       "      <td>8737</td>\n",
       "      <td>0</td>\n",
       "      <td>low</td>\n",
       "      <td>54</td>\n",
       "    </tr>\n",
       "    <tr>\n",
       "      <th>4</th>\n",
       "      <td>5208</td>\n",
       "      <td>0</td>\n",
       "      <td>medium</td>\n",
       "      <td>37</td>\n",
       "    </tr>\n",
       "  </tbody>\n",
       "</table>\n",
       "</div>"
      ],
      "text/plain": [
       "   client_id  sex  wealth  age\n",
       "0       9002    1  medium   63\n",
       "1       6722    1    high   54\n",
       "2       8799    1    high   62\n",
       "3       8737    0     low   54\n",
       "4       5208    0  medium   37"
      ]
     },
     "execution_count": 53,
     "metadata": {},
     "output_type": "execute_result"
    }
   ],
   "source": [
    "df = pd.DataFrame({\n",
    "    'client_id':[9002, 6722, 8799, 8737, 5208],\n",
    "    'sex':[1, 1, 1, 0, 0],\n",
    "    'wealth':['medium','high', 'high', 'low', 'medium'],\n",
    "    'age':[63, 54, 62, 54, 37]\n",
    "})\n",
    "df"
   ]
  },
  {
   "cell_type": "code",
   "execution_count": 28,
   "id": "bd6e8c93",
   "metadata": {},
   "outputs": [
    {
     "data": {
      "text/html": [
       "<div>\n",
       "<style scoped>\n",
       "    .dataframe tbody tr th:only-of-type {\n",
       "        vertical-align: middle;\n",
       "    }\n",
       "\n",
       "    .dataframe tbody tr th {\n",
       "        vertical-align: top;\n",
       "    }\n",
       "\n",
       "    .dataframe thead th {\n",
       "        text-align: right;\n",
       "    }\n",
       "</style>\n",
       "<table border=\"1\" class=\"dataframe\">\n",
       "  <thead>\n",
       "    <tr style=\"text-align: right;\">\n",
       "      <th></th>\n",
       "      <th>client_id</th>\n",
       "      <th>sex</th>\n",
       "      <th>wealth</th>\n",
       "      <th>age</th>\n",
       "    </tr>\n",
       "  </thead>\n",
       "  <tbody>\n",
       "    <tr>\n",
       "      <th>0</th>\n",
       "      <td>9002</td>\n",
       "      <td>1</td>\n",
       "      <td>medium</td>\n",
       "      <td>63</td>\n",
       "    </tr>\n",
       "    <tr>\n",
       "      <th>4</th>\n",
       "      <td>5208</td>\n",
       "      <td>0</td>\n",
       "      <td>medium</td>\n",
       "      <td>37</td>\n",
       "    </tr>\n",
       "  </tbody>\n",
       "</table>\n",
       "</div>"
      ],
      "text/plain": [
       "   client_id  sex  wealth  age\n",
       "0       9002    1  medium   63\n",
       "4       5208    0  medium   37"
      ]
     },
     "execution_count": 28,
     "metadata": {},
     "output_type": "execute_result"
    }
   ],
   "source": [
    "medium_35  = df.query('wealth == \"medium\" and age > 35')\n",
    "medium_35"
   ]
  },
  {
   "cell_type": "markdown",
   "id": "0ee63cc2",
   "metadata": {},
   "source": [
    "### Ex_3\n",
    "Ваш коллега-новичок перепутал названия колонок в таблице df из предыдущих заданий и прислал вам такой вариант.\n",
    "\n",
    "(колонки имеют названия: \n",
    "                \n",
    "         Клиент id, Пол, Благосостояние, Возраст)\n",
    "\n",
    "Воспользуйтесь методом rename и приведите таблицу к более каноничному виду, сохранив её в ту же самую переменную df."
   ]
  },
  {
   "cell_type": "code",
   "execution_count": 54,
   "id": "a7dc38be",
   "metadata": {},
   "outputs": [
    {
     "data": {
      "text/html": [
       "<div>\n",
       "<style scoped>\n",
       "    .dataframe tbody tr th:only-of-type {\n",
       "        vertical-align: middle;\n",
       "    }\n",
       "\n",
       "    .dataframe tbody tr th {\n",
       "        vertical-align: top;\n",
       "    }\n",
       "\n",
       "    .dataframe thead th {\n",
       "        text-align: right;\n",
       "    }\n",
       "</style>\n",
       "<table border=\"1\" class=\"dataframe\">\n",
       "  <thead>\n",
       "    <tr style=\"text-align: right;\">\n",
       "      <th></th>\n",
       "      <th>Клиент id</th>\n",
       "      <th>Пол</th>\n",
       "      <th>Благосостояние</th>\n",
       "      <th>Возраст</th>\n",
       "    </tr>\n",
       "  </thead>\n",
       "  <tbody>\n",
       "    <tr>\n",
       "      <th>0</th>\n",
       "      <td>9002</td>\n",
       "      <td>1</td>\n",
       "      <td>medium</td>\n",
       "      <td>63</td>\n",
       "    </tr>\n",
       "    <tr>\n",
       "      <th>1</th>\n",
       "      <td>6722</td>\n",
       "      <td>1</td>\n",
       "      <td>high</td>\n",
       "      <td>54</td>\n",
       "    </tr>\n",
       "    <tr>\n",
       "      <th>2</th>\n",
       "      <td>8799</td>\n",
       "      <td>1</td>\n",
       "      <td>high</td>\n",
       "      <td>62</td>\n",
       "    </tr>\n",
       "    <tr>\n",
       "      <th>3</th>\n",
       "      <td>8737</td>\n",
       "      <td>0</td>\n",
       "      <td>low</td>\n",
       "      <td>54</td>\n",
       "    </tr>\n",
       "    <tr>\n",
       "      <th>4</th>\n",
       "      <td>5208</td>\n",
       "      <td>0</td>\n",
       "      <td>medium</td>\n",
       "      <td>37</td>\n",
       "    </tr>\n",
       "  </tbody>\n",
       "</table>\n",
       "</div>"
      ],
      "text/plain": [
       "   Клиент id  Пол Благосостояние  Возраст\n",
       "0       9002    1         medium       63\n",
       "1       6722    1           high       54\n",
       "2       8799    1           high       62\n",
       "3       8737    0            low       54\n",
       "4       5208    0         medium       37"
      ]
     },
     "execution_count": 54,
     "metadata": {},
     "output_type": "execute_result"
    }
   ],
   "source": [
    "# создаю перезаписанный вариант от коллеги\n",
    "df = {'Клиент id':[9002, 6722, 8799, 8737, 5208], \n",
    "      'Пол':[1, 1, 1, 0, 0],\n",
    "      'Благосостояние':['medium','high', 'high', 'low', 'medium'],\n",
    "      'Возраст':[63, 54, 62, 54, 37]\n",
    "      }\n",
    "df = pd.DataFrame(data = df) # второй вариант создания датафрейма\n",
    "df"
   ]
  },
  {
   "cell_type": "code",
   "execution_count": 57,
   "id": "74e0aaa7",
   "metadata": {},
   "outputs": [
    {
     "data": {
      "text/html": [
       "<div>\n",
       "<style scoped>\n",
       "    .dataframe tbody tr th:only-of-type {\n",
       "        vertical-align: middle;\n",
       "    }\n",
       "\n",
       "    .dataframe tbody tr th {\n",
       "        vertical-align: top;\n",
       "    }\n",
       "\n",
       "    .dataframe thead th {\n",
       "        text-align: right;\n",
       "    }\n",
       "</style>\n",
       "<table border=\"1\" class=\"dataframe\">\n",
       "  <thead>\n",
       "    <tr style=\"text-align: right;\">\n",
       "      <th></th>\n",
       "      <th>client_id</th>\n",
       "      <th>sex</th>\n",
       "      <th>wealth</th>\n",
       "      <th>age</th>\n",
       "    </tr>\n",
       "  </thead>\n",
       "  <tbody>\n",
       "    <tr>\n",
       "      <th>0</th>\n",
       "      <td>9002</td>\n",
       "      <td>1</td>\n",
       "      <td>medium</td>\n",
       "      <td>63</td>\n",
       "    </tr>\n",
       "    <tr>\n",
       "      <th>1</th>\n",
       "      <td>6722</td>\n",
       "      <td>1</td>\n",
       "      <td>high</td>\n",
       "      <td>54</td>\n",
       "    </tr>\n",
       "    <tr>\n",
       "      <th>2</th>\n",
       "      <td>8799</td>\n",
       "      <td>1</td>\n",
       "      <td>high</td>\n",
       "      <td>62</td>\n",
       "    </tr>\n",
       "    <tr>\n",
       "      <th>3</th>\n",
       "      <td>8737</td>\n",
       "      <td>0</td>\n",
       "      <td>low</td>\n",
       "      <td>54</td>\n",
       "    </tr>\n",
       "    <tr>\n",
       "      <th>4</th>\n",
       "      <td>5208</td>\n",
       "      <td>0</td>\n",
       "      <td>medium</td>\n",
       "      <td>37</td>\n",
       "    </tr>\n",
       "  </tbody>\n",
       "</table>\n",
       "</div>"
      ],
      "text/plain": [
       "   client_id  sex  wealth  age\n",
       "0       9002    1  medium   63\n",
       "1       6722    1    high   54\n",
       "2       8799    1    high   62\n",
       "3       8737    0     low   54\n",
       "4       5208    0  medium   37"
      ]
     },
     "execution_count": 57,
     "metadata": {},
     "output_type": "execute_result"
    }
   ],
   "source": [
    "df.rename(columns={'Клиент id': 'client_id', \n",
    "                        'Пол': 'sex',\n",
    "                        'Благосостояние':'wealth',\n",
    "                        'Возраст':'age'\n",
    "}, inplace= True)   # перезапись датафрейма, в котором произведены изменения (в данном случае в df.)\n",
    "df"
   ]
  },
  {
   "cell_type": "markdown",
   "id": "4fde1252",
   "metadata": {},
   "source": [
    "### Ex_4\n",
    "Добавьте в исследуемый нами датафрэйм df колонку older_than_30, в которой будет храниться информация о том, старше ли клиент 30 лет или нет (булево значение).\n"
   ]
  },
  {
   "cell_type": "code",
   "execution_count": 62,
   "id": "3722f903",
   "metadata": {},
   "outputs": [
    {
     "data": {
      "text/html": [
       "<div>\n",
       "<style scoped>\n",
       "    .dataframe tbody tr th:only-of-type {\n",
       "        vertical-align: middle;\n",
       "    }\n",
       "\n",
       "    .dataframe tbody tr th {\n",
       "        vertical-align: top;\n",
       "    }\n",
       "\n",
       "    .dataframe thead th {\n",
       "        text-align: right;\n",
       "    }\n",
       "</style>\n",
       "<table border=\"1\" class=\"dataframe\">\n",
       "  <thead>\n",
       "    <tr style=\"text-align: right;\">\n",
       "      <th></th>\n",
       "      <th>client_id</th>\n",
       "      <th>sex</th>\n",
       "      <th>wealth</th>\n",
       "      <th>age</th>\n",
       "      <th>older_than_30</th>\n",
       "    </tr>\n",
       "  </thead>\n",
       "  <tbody>\n",
       "    <tr>\n",
       "      <th>0</th>\n",
       "      <td>9002</td>\n",
       "      <td>1</td>\n",
       "      <td>medium</td>\n",
       "      <td>63</td>\n",
       "      <td>True</td>\n",
       "    </tr>\n",
       "    <tr>\n",
       "      <th>1</th>\n",
       "      <td>6722</td>\n",
       "      <td>1</td>\n",
       "      <td>high</td>\n",
       "      <td>54</td>\n",
       "      <td>True</td>\n",
       "    </tr>\n",
       "    <tr>\n",
       "      <th>2</th>\n",
       "      <td>8799</td>\n",
       "      <td>1</td>\n",
       "      <td>high</td>\n",
       "      <td>62</td>\n",
       "      <td>True</td>\n",
       "    </tr>\n",
       "    <tr>\n",
       "      <th>3</th>\n",
       "      <td>8737</td>\n",
       "      <td>0</td>\n",
       "      <td>low</td>\n",
       "      <td>54</td>\n",
       "      <td>True</td>\n",
       "    </tr>\n",
       "    <tr>\n",
       "      <th>4</th>\n",
       "      <td>5208</td>\n",
       "      <td>0</td>\n",
       "      <td>medium</td>\n",
       "      <td>37</td>\n",
       "      <td>True</td>\n",
       "    </tr>\n",
       "  </tbody>\n",
       "</table>\n",
       "</div>"
      ],
      "text/plain": [
       "   client_id  sex  wealth  age  older_than_30\n",
       "0       9002    1  medium   63           True\n",
       "1       6722    1    high   54           True\n",
       "2       8799    1    high   62           True\n",
       "3       8737    0     low   54           True\n",
       "4       5208    0  medium   37           True"
      ]
     },
     "execution_count": 62,
     "metadata": {},
     "output_type": "execute_result"
    }
   ],
   "source": [
    "df['older_than_30'] = df.age > 30\n",
    "df"
   ]
  },
  {
   "cell_type": "markdown",
   "id": "f142cbd7",
   "metadata": {},
   "source": [
    "### Ex_5\n",
    "А теперь получите серию с числом уникальных значений для каждой колонки и присвойте её переменной unique_num\n"
   ]
  },
  {
   "cell_type": "code",
   "execution_count": 67,
   "id": "06938727",
   "metadata": {},
   "outputs": [
    {
     "data": {
      "text/plain": [
       "client_id        5\n",
       "sex              2\n",
       "wealth           3\n",
       "age              4\n",
       "older_than_30    1\n",
       "dtype: int64"
      ]
     },
     "execution_count": 67,
     "metadata": {},
     "output_type": "execute_result"
    }
   ],
   "source": [
    "unique_num = df.nunique()\n",
    "unique_num"
   ]
  },
  {
   "cell_type": "markdown",
   "id": "8992807f",
   "metadata": {},
   "source": [
    "### Ex_6\n",
    "У нас появились новые данные! Переменная data хранит в себе датафрейм следующего вида:\n",
    "\n",
    "колонки имеют названия: \n",
    "                \n",
    "         client_id, amount, date\n",
    "\n",
    "Проведите inner join датафрейма data с df из предыдущего шага, объединив их по колонке client_id, и поместите результат в переменную full_data (да, придумывать названия переменных иногда бывает сложно)."
   ]
  },
  {
   "cell_type": "code",
   "execution_count": 70,
   "id": "799510af",
   "metadata": {},
   "outputs": [
    {
     "data": {
      "text/html": [
       "<div>\n",
       "<style scoped>\n",
       "    .dataframe tbody tr th:only-of-type {\n",
       "        vertical-align: middle;\n",
       "    }\n",
       "\n",
       "    .dataframe tbody tr th {\n",
       "        vertical-align: top;\n",
       "    }\n",
       "\n",
       "    .dataframe thead th {\n",
       "        text-align: right;\n",
       "    }\n",
       "</style>\n",
       "<table border=\"1\" class=\"dataframe\">\n",
       "  <thead>\n",
       "    <tr style=\"text-align: right;\">\n",
       "      <th></th>\n",
       "      <th>client_id</th>\n",
       "      <th>amount</th>\n",
       "      <th>date</th>\n",
       "    </tr>\n",
       "  </thead>\n",
       "  <tbody>\n",
       "    <tr>\n",
       "      <th>0</th>\n",
       "      <td>9002</td>\n",
       "      <td>43213</td>\n",
       "      <td>1585425830</td>\n",
       "    </tr>\n",
       "    <tr>\n",
       "      <th>1</th>\n",
       "      <td>4312</td>\n",
       "      <td>87732</td>\n",
       "      <td>1585429536</td>\n",
       "    </tr>\n",
       "    <tr>\n",
       "      <th>2</th>\n",
       "      <td>8799</td>\n",
       "      <td>1714</td>\n",
       "      <td>1585427761</td>\n",
       "    </tr>\n",
       "    <tr>\n",
       "      <th>3</th>\n",
       "      <td>2631</td>\n",
       "      <td>80291</td>\n",
       "      <td>1585427077</td>\n",
       "    </tr>\n",
       "    <tr>\n",
       "      <th>4</th>\n",
       "      <td>5208</td>\n",
       "      <td>65933</td>\n",
       "      <td>1585426290</td>\n",
       "    </tr>\n",
       "  </tbody>\n",
       "</table>\n",
       "</div>"
      ],
      "text/plain": [
       "   client_id  amount        date\n",
       "0       9002   43213  1585425830\n",
       "1       4312   87732  1585429536\n",
       "2       8799    1714  1585427761\n",
       "3       2631   80291  1585427077\n",
       "4       5208   65933  1585426290"
      ]
     },
     "execution_count": 70,
     "metadata": {},
     "output_type": "execute_result"
    }
   ],
   "source": [
    "# создание датафрейма как в задании\n",
    "data = pd.DataFrame({\n",
    "    'client_id':[9002, 4312, 8799, 2631, 5208],\n",
    "    'amount':[43213, 87732, 1714, 80291, 65933],\n",
    "    'date':[1585425830, 1585429536, 1585427761, 1585427077, 1585426290]\n",
    "})\n",
    "data"
   ]
  },
  {
   "cell_type": "code",
   "execution_count": 73,
   "id": "f1ec18ef",
   "metadata": {},
   "outputs": [
    {
     "data": {
      "text/html": [
       "<div>\n",
       "<style scoped>\n",
       "    .dataframe tbody tr th:only-of-type {\n",
       "        vertical-align: middle;\n",
       "    }\n",
       "\n",
       "    .dataframe tbody tr th {\n",
       "        vertical-align: top;\n",
       "    }\n",
       "\n",
       "    .dataframe thead th {\n",
       "        text-align: right;\n",
       "    }\n",
       "</style>\n",
       "<table border=\"1\" class=\"dataframe\">\n",
       "  <thead>\n",
       "    <tr style=\"text-align: right;\">\n",
       "      <th></th>\n",
       "      <th>client_id</th>\n",
       "      <th>sex</th>\n",
       "      <th>wealth</th>\n",
       "      <th>age</th>\n",
       "      <th>older_than_30</th>\n",
       "      <th>amount</th>\n",
       "      <th>date</th>\n",
       "    </tr>\n",
       "  </thead>\n",
       "  <tbody>\n",
       "    <tr>\n",
       "      <th>0</th>\n",
       "      <td>9002</td>\n",
       "      <td>1</td>\n",
       "      <td>medium</td>\n",
       "      <td>63</td>\n",
       "      <td>True</td>\n",
       "      <td>43213</td>\n",
       "      <td>1585425830</td>\n",
       "    </tr>\n",
       "    <tr>\n",
       "      <th>1</th>\n",
       "      <td>8799</td>\n",
       "      <td>1</td>\n",
       "      <td>high</td>\n",
       "      <td>62</td>\n",
       "      <td>True</td>\n",
       "      <td>1714</td>\n",
       "      <td>1585427761</td>\n",
       "    </tr>\n",
       "    <tr>\n",
       "      <th>2</th>\n",
       "      <td>5208</td>\n",
       "      <td>0</td>\n",
       "      <td>medium</td>\n",
       "      <td>37</td>\n",
       "      <td>True</td>\n",
       "      <td>65933</td>\n",
       "      <td>1585426290</td>\n",
       "    </tr>\n",
       "  </tbody>\n",
       "</table>\n",
       "</div>"
      ],
      "text/plain": [
       "   client_id  sex  wealth  age  older_than_30  amount        date\n",
       "0       9002    1  medium   63           True   43213  1585425830\n",
       "1       8799    1    high   62           True    1714  1585427761\n",
       "2       5208    0  medium   37           True   65933  1585426290"
      ]
     },
     "execution_count": 73,
     "metadata": {},
     "output_type": "execute_result"
    }
   ],
   "source": [
    "full_data = df.merge(data, on = 'client_id')\n",
    "full_data"
   ]
  },
  {
   "cell_type": "markdown",
   "id": "1498eb44",
   "metadata": {},
   "source": [
    "### Ex_7\n",
    "💀 Сложное задание! 💀\n",
    "\n",
    "А теперь создадим свою собственную функцию! Напишите функцию read_n_agg, которая:\n",
    "\n",
    "принимает на вход один параметр – путь к файлу\n",
    "считывает переданный файл, в котором разделителем является ;\n",
    "считает средний заработок (income) по каждой компании (company), перенося колонку company в индекс (as_index=True)\n",
    "возвращает результат этих действий (агрегированный датафрэйм)"
   ]
  },
  {
   "cell_type": "code",
   "execution_count": 74,
   "id": "bf223584",
   "metadata": {},
   "outputs": [],
   "source": [
    "url = 'https://stepik.org/media/attachments/lesson/359209/companies.csv'"
   ]
  },
  {
   "cell_type": "code",
   "execution_count": 122,
   "id": "0c276330",
   "metadata": {},
   "outputs": [
    {
     "data": {
      "text/html": [
       "<div>\n",
       "<style scoped>\n",
       "    .dataframe tbody tr th:only-of-type {\n",
       "        vertical-align: middle;\n",
       "    }\n",
       "\n",
       "    .dataframe tbody tr th {\n",
       "        vertical-align: top;\n",
       "    }\n",
       "\n",
       "    .dataframe thead th {\n",
       "        text-align: right;\n",
       "    }\n",
       "</style>\n",
       "<table border=\"1\" class=\"dataframe\">\n",
       "  <thead>\n",
       "    <tr style=\"text-align: right;\">\n",
       "      <th></th>\n",
       "      <th>income</th>\n",
       "    </tr>\n",
       "    <tr>\n",
       "      <th>company</th>\n",
       "      <th></th>\n",
       "    </tr>\n",
       "  </thead>\n",
       "  <tbody>\n",
       "    <tr>\n",
       "      <th>En +</th>\n",
       "      <td>9.962187e+10</td>\n",
       "    </tr>\n",
       "    <tr>\n",
       "      <th>АО «Александрова, Савельев и Мельникова»</th>\n",
       "      <td>7.206782e+10</td>\n",
       "    </tr>\n",
       "    <tr>\n",
       "      <th>АО «Андреев-Анисимов»</th>\n",
       "      <td>6.931948e+09</td>\n",
       "    </tr>\n",
       "    <tr>\n",
       "      <th>АО «Андреев-Макарова»</th>\n",
       "      <td>8.934380e+10</td>\n",
       "    </tr>\n",
       "    <tr>\n",
       "      <th>АО «Большаков Кошелева»</th>\n",
       "      <td>7.860861e+10</td>\n",
       "    </tr>\n",
       "    <tr>\n",
       "      <th>...</th>\n",
       "      <td>...</td>\n",
       "    </tr>\n",
       "    <tr>\n",
       "      <th>Щекиноазот</th>\n",
       "      <td>4.309092e+10</td>\n",
       "    </tr>\n",
       "    <tr>\n",
       "      <th>Щукин Лимитед</th>\n",
       "      <td>6.703036e+10</td>\n",
       "    </tr>\n",
       "    <tr>\n",
       "      <th>Эйвон Бьюти Продактс Компани (Avon)</th>\n",
       "      <td>2.503657e+10</td>\n",
       "    </tr>\n",
       "    <tr>\n",
       "      <th>Яковлева Инкорпорэйтед</th>\n",
       "      <td>3.523436e+10</td>\n",
       "    </tr>\n",
       "    <tr>\n",
       "      <th>Якушев Лимитед</th>\n",
       "      <td>3.876468e+10</td>\n",
       "    </tr>\n",
       "  </tbody>\n",
       "</table>\n",
       "<p>289 rows × 1 columns</p>\n",
       "</div>"
      ],
      "text/plain": [
       "                                                income\n",
       "company                                               \n",
       "En +                                      9.962187e+10\n",
       "АО «Александрова, Савельев и Мельникова»  7.206782e+10\n",
       "АО «Андреев-Анисимов»                     6.931948e+09\n",
       "АО «Андреев-Макарова»                     8.934380e+10\n",
       "АО «Большаков Кошелева»                   7.860861e+10\n",
       "...                                                ...\n",
       "Щекиноазот                                4.309092e+10\n",
       "Щукин Лимитед                             6.703036e+10\n",
       "Эйвон Бьюти Продактс Компани (Avon)       2.503657e+10\n",
       "Яковлева Инкорпорэйтед                    3.523436e+10\n",
       "Якушев Лимитед                            3.876468e+10\n",
       "\n",
       "[289 rows x 1 columns]"
      ]
     },
     "execution_count": 122,
     "metadata": {},
     "output_type": "execute_result"
    }
   ],
   "source": [
    "df_new = pd.read_csv(url, sep = ';')\\\n",
    "            .groupby('company',as_index = True)\\\n",
    "            .agg({'income': 'mean'})\n",
    "df_new"
   ]
  },
  {
   "cell_type": "code",
   "execution_count": 128,
   "id": "1ede04df",
   "metadata": {},
   "outputs": [],
   "source": [
    "def read_n_agg(url):\n",
    "    return (\n",
    "    pd.read_csv(url, sep = ';')\\\n",
    "            .groupby('company',as_index = True)\\\n",
    "            .agg({'income': 'mean'})\n",
    "    )"
   ]
  },
  {
   "cell_type": "code",
   "execution_count": 129,
   "id": "60843372",
   "metadata": {},
   "outputs": [
    {
     "data": {
      "text/html": [
       "<div>\n",
       "<style scoped>\n",
       "    .dataframe tbody tr th:only-of-type {\n",
       "        vertical-align: middle;\n",
       "    }\n",
       "\n",
       "    .dataframe tbody tr th {\n",
       "        vertical-align: top;\n",
       "    }\n",
       "\n",
       "    .dataframe thead th {\n",
       "        text-align: right;\n",
       "    }\n",
       "</style>\n",
       "<table border=\"1\" class=\"dataframe\">\n",
       "  <thead>\n",
       "    <tr style=\"text-align: right;\">\n",
       "      <th></th>\n",
       "      <th>income</th>\n",
       "    </tr>\n",
       "    <tr>\n",
       "      <th>company</th>\n",
       "      <th></th>\n",
       "    </tr>\n",
       "  </thead>\n",
       "  <tbody>\n",
       "    <tr>\n",
       "      <th>En +</th>\n",
       "      <td>9.962187e+10</td>\n",
       "    </tr>\n",
       "    <tr>\n",
       "      <th>АО «Александрова, Савельев и Мельникова»</th>\n",
       "      <td>7.206782e+10</td>\n",
       "    </tr>\n",
       "    <tr>\n",
       "      <th>АО «Андреев-Анисимов»</th>\n",
       "      <td>6.931948e+09</td>\n",
       "    </tr>\n",
       "    <tr>\n",
       "      <th>АО «Андреев-Макарова»</th>\n",
       "      <td>8.934380e+10</td>\n",
       "    </tr>\n",
       "    <tr>\n",
       "      <th>АО «Большаков Кошелева»</th>\n",
       "      <td>7.860861e+10</td>\n",
       "    </tr>\n",
       "    <tr>\n",
       "      <th>...</th>\n",
       "      <td>...</td>\n",
       "    </tr>\n",
       "    <tr>\n",
       "      <th>Щекиноазот</th>\n",
       "      <td>4.309092e+10</td>\n",
       "    </tr>\n",
       "    <tr>\n",
       "      <th>Щукин Лимитед</th>\n",
       "      <td>6.703036e+10</td>\n",
       "    </tr>\n",
       "    <tr>\n",
       "      <th>Эйвон Бьюти Продактс Компани (Avon)</th>\n",
       "      <td>2.503657e+10</td>\n",
       "    </tr>\n",
       "    <tr>\n",
       "      <th>Яковлева Инкорпорэйтед</th>\n",
       "      <td>3.523436e+10</td>\n",
       "    </tr>\n",
       "    <tr>\n",
       "      <th>Якушев Лимитед</th>\n",
       "      <td>3.876468e+10</td>\n",
       "    </tr>\n",
       "  </tbody>\n",
       "</table>\n",
       "<p>289 rows × 1 columns</p>\n",
       "</div>"
      ],
      "text/plain": [
       "                                                income\n",
       "company                                               \n",
       "En +                                      9.962187e+10\n",
       "АО «Александрова, Савельев и Мельникова»  7.206782e+10\n",
       "АО «Андреев-Анисимов»                     6.931948e+09\n",
       "АО «Андреев-Макарова»                     8.934380e+10\n",
       "АО «Большаков Кошелева»                   7.860861e+10\n",
       "...                                                ...\n",
       "Щекиноазот                                4.309092e+10\n",
       "Щукин Лимитед                             6.703036e+10\n",
       "Эйвон Бьюти Продактс Компани (Avon)       2.503657e+10\n",
       "Яковлева Инкорпорэйтед                    3.523436e+10\n",
       "Якушев Лимитед                            3.876468e+10\n",
       "\n",
       "[289 rows x 1 columns]"
      ]
     },
     "execution_count": 129,
     "metadata": {},
     "output_type": "execute_result"
    }
   ],
   "source": [
    "read_n_agg(url)"
   ]
  },
  {
   "cell_type": "markdown",
   "id": "0b54be21",
   "metadata": {},
   "source": [
    "### Ex_8\n",
    "Вернёмся к данным о поездках на такси. На этот раз – из Перу, с рейтингами водителей, пассажиров, координатами, и парой других деталей!\n",
    "\n",
    "METADATA\n",
    "\n",
    "    journey_id – уникальный id поездки\n",
    "    user_id – id пользователя\n",
    "    driver_id – id водителя\n",
    "    taxi_id – id машины\n",
    "    icon – тип поездки\n",
    "    start_type – тип заказа (asap, reserved, delayed)\n",
    "    start_at – время начала поездки\n",
    "    start_lat – исходное местоположение пользователя, широта\n",
    "    start_lon – исходное местоположение пользователя, долгота\n",
    "    end_at – время окончания поездки\n",
    "    end_lat – итоговое местоположение, широта\n",
    "    end_lon – итоговое местоположение, долгота\n",
    "    end_state – состояние заказа\n",
    "    driver_start_lat – исходное местоположение водителя, широта\n",
    "    driver_start_lon – исходное местоположение водителя, долгота\n",
    "    arrived_at – время прибытия водителя\n",
    "    source – платформа, с которой сделан заказ\n",
    "    driver_score – оценка водителя клиентом\n",
    "    rider_score – оценка клиента водителем\n",
    "\n",
    "Импортируйте pandas как pd. Загрузите датасет, используя ; в качестве разделителя. \n",
    "\n",
    "Также укажите, что столбцы start_at, end_at, arrived_at нужно прочитать как даты (параметр parse_dates). \n",
    "\n",
    "Результат запишите в taxi."
   ]
  },
  {
   "cell_type": "code",
   "execution_count": 4,
   "id": "bfd9712d",
   "metadata": {},
   "outputs": [
    {
     "data": {
      "text/html": [
       "<div>\n",
       "<style scoped>\n",
       "    .dataframe tbody tr th:only-of-type {\n",
       "        vertical-align: middle;\n",
       "    }\n",
       "\n",
       "    .dataframe tbody tr th {\n",
       "        vertical-align: top;\n",
       "    }\n",
       "\n",
       "    .dataframe thead th {\n",
       "        text-align: right;\n",
       "    }\n",
       "</style>\n",
       "<table border=\"1\" class=\"dataframe\">\n",
       "  <thead>\n",
       "    <tr style=\"text-align: right;\">\n",
       "      <th></th>\n",
       "      <th>journey_id</th>\n",
       "      <th>user_id</th>\n",
       "      <th>driver_id</th>\n",
       "      <th>taxi_id</th>\n",
       "      <th>icon</th>\n",
       "      <th>start_type</th>\n",
       "      <th>start_at</th>\n",
       "      <th>start_lat</th>\n",
       "      <th>start_lon</th>\n",
       "      <th>end_at</th>\n",
       "      <th>end_lat</th>\n",
       "      <th>end_lon</th>\n",
       "      <th>end_state</th>\n",
       "      <th>driver_start_lat</th>\n",
       "      <th>driver_start_lon</th>\n",
       "      <th>arrived_at</th>\n",
       "      <th>source</th>\n",
       "      <th>driver_score</th>\n",
       "      <th>rider_score</th>\n",
       "    </tr>\n",
       "  </thead>\n",
       "  <tbody>\n",
       "    <tr>\n",
       "      <th>0</th>\n",
       "      <td>23a1406fc6a11d866e3c82f22eed4d4c</td>\n",
       "      <td>0e9af5bbf1edfe591b54ecdfd7e91e26</td>\n",
       "      <td>583949a89a9ee17d19e3ca4f137b6b4c</td>\n",
       "      <td>b12f4f09c783e29fe0d0ea624530db56</td>\n",
       "      <td>executive</td>\n",
       "      <td>asap</td>\n",
       "      <td>2010-11-16 16:44:00</td>\n",
       "      <td>-12,13983536</td>\n",
       "      <td>-77,02355957</td>\n",
       "      <td>2010-11-16 17:29:00</td>\n",
       "      <td>-12,05537033</td>\n",
       "      <td>-77,0413208</td>\n",
       "      <td>drop off</td>\n",
       "      <td>-12,10825481</td>\n",
       "      <td>-77,0272739</td>\n",
       "      <td>2010-11-16 17:02:00</td>\n",
       "      <td>iPhone</td>\n",
       "      <td>5.0</td>\n",
       "      <td>5.0</td>\n",
       "    </tr>\n",
       "    <tr>\n",
       "      <th>1</th>\n",
       "      <td>dd2af4715d0dc16eded53afc0e243577</td>\n",
       "      <td>a553c46e3a22fb9c326aeb3d72b3334e</td>\n",
       "      <td>NaN</td>\n",
       "      <td>NaN</td>\n",
       "      <td>executive</td>\n",
       "      <td>asap</td>\n",
       "      <td>2010-06-01 00:34:00</td>\n",
       "      <td>-12,13874817</td>\n",
       "      <td>-76,99536133</td>\n",
       "      <td>2010-06-01 00:37:00</td>\n",
       "      <td>-12,12465668</td>\n",
       "      <td>-77,02886963</td>\n",
       "      <td>not found</td>\n",
       "      <td>NaN</td>\n",
       "      <td>NaN</td>\n",
       "      <td>NaT</td>\n",
       "      <td>iPhone</td>\n",
       "      <td>NaN</td>\n",
       "      <td>NaN</td>\n",
       "    </tr>\n",
       "    <tr>\n",
       "      <th>2</th>\n",
       "      <td>dd91e131888064bf7df3ce08f3d4b4ad</td>\n",
       "      <td>a553c46e3a22fb9c326aeb3d72b3334e</td>\n",
       "      <td>NaN</td>\n",
       "      <td>NaN</td>\n",
       "      <td>executive</td>\n",
       "      <td>asap</td>\n",
       "      <td>2010-05-31 05:01:00</td>\n",
       "      <td>-12,12453079</td>\n",
       "      <td>-77,02780151</td>\n",
       "      <td>2010-05-31 05:04:00</td>\n",
       "      <td>-12,13883209</td>\n",
       "      <td>-76,99530029</td>\n",
       "      <td>not found</td>\n",
       "      <td>NaN</td>\n",
       "      <td>NaN</td>\n",
       "      <td>NaT</td>\n",
       "      <td>iPhone</td>\n",
       "      <td>NaN</td>\n",
       "      <td>NaN</td>\n",
       "    </tr>\n",
       "    <tr>\n",
       "      <th>3</th>\n",
       "      <td>dd2af4715d0dc16eded53afc0e2466d0</td>\n",
       "      <td>a553c46e3a22fb9c326aeb3d72b3334e</td>\n",
       "      <td>NaN</td>\n",
       "      <td>NaN</td>\n",
       "      <td>executive</td>\n",
       "      <td>asap</td>\n",
       "      <td>2010-06-01 00:29:00</td>\n",
       "      <td>-12,13885117</td>\n",
       "      <td>-76,99530029</td>\n",
       "      <td>2010-06-01 00:32:00</td>\n",
       "      <td>-12,12458801</td>\n",
       "      <td>-77,02896118</td>\n",
       "      <td>not found</td>\n",
       "      <td>NaN</td>\n",
       "      <td>NaN</td>\n",
       "      <td>NaT</td>\n",
       "      <td>iPhone</td>\n",
       "      <td>NaN</td>\n",
       "      <td>NaN</td>\n",
       "    </tr>\n",
       "    <tr>\n",
       "      <th>4</th>\n",
       "      <td>85b7eabcf5d84e42dc7629b7d27781af</td>\n",
       "      <td>56772d544fdfa589a020a1ff894a86f7</td>\n",
       "      <td>d665fb9f75ef5d9cd0fd89479380ba78</td>\n",
       "      <td>0accdd3aa5a322f4129fa20b53278c69</td>\n",
       "      <td>executive</td>\n",
       "      <td>reserved</td>\n",
       "      <td>2010-09-11 23:55:00</td>\n",
       "      <td>-12,08995438</td>\n",
       "      <td>-76,92626953</td>\n",
       "      <td>2010-09-12 01:07:00</td>\n",
       "      <td>-12,02223206</td>\n",
       "      <td>-77,10638428</td>\n",
       "      <td>drop off</td>\n",
       "      <td>-12,08311558</td>\n",
       "      <td>-76,9277072</td>\n",
       "      <td>2010-09-11 23:50:00</td>\n",
       "      <td>iPhone</td>\n",
       "      <td>4.0</td>\n",
       "      <td>5.0</td>\n",
       "    </tr>\n",
       "  </tbody>\n",
       "</table>\n",
       "</div>"
      ],
      "text/plain": [
       "                         journey_id                           user_id  \\\n",
       "0  23a1406fc6a11d866e3c82f22eed4d4c  0e9af5bbf1edfe591b54ecdfd7e91e26   \n",
       "1  dd2af4715d0dc16eded53afc0e243577  a553c46e3a22fb9c326aeb3d72b3334e   \n",
       "2  dd91e131888064bf7df3ce08f3d4b4ad  a553c46e3a22fb9c326aeb3d72b3334e   \n",
       "3  dd2af4715d0dc16eded53afc0e2466d0  a553c46e3a22fb9c326aeb3d72b3334e   \n",
       "4  85b7eabcf5d84e42dc7629b7d27781af  56772d544fdfa589a020a1ff894a86f7   \n",
       "\n",
       "                          driver_id                           taxi_id  \\\n",
       "0  583949a89a9ee17d19e3ca4f137b6b4c  b12f4f09c783e29fe0d0ea624530db56   \n",
       "1                               NaN                               NaN   \n",
       "2                               NaN                               NaN   \n",
       "3                               NaN                               NaN   \n",
       "4  d665fb9f75ef5d9cd0fd89479380ba78  0accdd3aa5a322f4129fa20b53278c69   \n",
       "\n",
       "        icon start_type            start_at     start_lat     start_lon  \\\n",
       "0  executive       asap 2010-11-16 16:44:00  -12,13983536  -77,02355957   \n",
       "1  executive       asap 2010-06-01 00:34:00  -12,13874817  -76,99536133   \n",
       "2  executive       asap 2010-05-31 05:01:00  -12,12453079  -77,02780151   \n",
       "3  executive       asap 2010-06-01 00:29:00  -12,13885117  -76,99530029   \n",
       "4  executive   reserved 2010-09-11 23:55:00  -12,08995438  -76,92626953   \n",
       "\n",
       "               end_at       end_lat       end_lon  end_state driver_start_lat  \\\n",
       "0 2010-11-16 17:29:00  -12,05537033   -77,0413208   drop off     -12,10825481   \n",
       "1 2010-06-01 00:37:00  -12,12465668  -77,02886963  not found              NaN   \n",
       "2 2010-05-31 05:04:00  -12,13883209  -76,99530029  not found              NaN   \n",
       "3 2010-06-01 00:32:00  -12,12458801  -77,02896118  not found              NaN   \n",
       "4 2010-09-12 01:07:00  -12,02223206  -77,10638428   drop off     -12,08311558   \n",
       "\n",
       "  driver_start_lon          arrived_at  source  driver_score  rider_score  \n",
       "0      -77,0272739 2010-11-16 17:02:00  iPhone           5.0          5.0  \n",
       "1              NaN                 NaT  iPhone           NaN          NaN  \n",
       "2              NaN                 NaT  iPhone           NaN          NaN  \n",
       "3              NaN                 NaT  iPhone           NaN          NaN  \n",
       "4      -76,9277072 2010-09-11 23:50:00  iPhone           4.0          5.0  "
      ]
     },
     "execution_count": 4,
     "metadata": {},
     "output_type": "execute_result"
    }
   ],
   "source": [
    "url = 'https://stepik.org/media/attachments/lesson/359240/taxi_peru.csv'\n",
    "\n",
    "taxi = pd.read_csv(url, sep = ';', parse_dates = ['start_at', 'end_at', 'arrived_at'])\n",
    "taxi.head()"
   ]
  },
  {
   "cell_type": "markdown",
   "id": "8eef7518",
   "metadata": {},
   "source": [
    "### Ex_8.1\n",
    "Проверьте, с какой платформы было сделано больше всего заказов. В ответе укажите значение в %, округлённое до целого."
   ]
  },
  {
   "cell_type": "code",
   "execution_count": 7,
   "id": "09a987d5",
   "metadata": {},
   "outputs": [
    {
     "data": {
      "text/html": [
       "<div>\n",
       "<style scoped>\n",
       "    .dataframe tbody tr th:only-of-type {\n",
       "        vertical-align: middle;\n",
       "    }\n",
       "\n",
       "    .dataframe tbody tr th {\n",
       "        vertical-align: top;\n",
       "    }\n",
       "\n",
       "    .dataframe thead th {\n",
       "        text-align: right;\n",
       "    }\n",
       "</style>\n",
       "<table border=\"1\" class=\"dataframe\">\n",
       "  <thead>\n",
       "    <tr style=\"text-align: right;\">\n",
       "      <th></th>\n",
       "      <th>orders</th>\n",
       "    </tr>\n",
       "    <tr>\n",
       "      <th>source</th>\n",
       "      <th></th>\n",
       "    </tr>\n",
       "  </thead>\n",
       "  <tbody>\n",
       "    <tr>\n",
       "      <th>iPhone</th>\n",
       "      <td>9741</td>\n",
       "    </tr>\n",
       "  </tbody>\n",
       "</table>\n",
       "</div>"
      ],
      "text/plain": [
       "        orders\n",
       "source        \n",
       "iPhone    9741"
      ]
     },
     "execution_count": 7,
     "metadata": {},
     "output_type": "execute_result"
    }
   ],
   "source": [
    "top_source = taxi.groupby('source')\\\n",
    "                 .agg({'journey_id':'count'})\\\n",
    "                 .sort_values('journey_id', ascending= False)[:1]\\\n",
    "                 .rename(columns = {'journey_id':'orders'})\n",
    "top_source"
   ]
  },
  {
   "cell_type": "code",
   "execution_count": 8,
   "id": "26a826d2",
   "metadata": {},
   "outputs": [
    {
     "name": "stdout",
     "output_type": "stream",
     "text": [
      "Больше всего заказов было совершено с платформы - iPhone, 42.0% от всех заказов.\n"
     ]
    }
   ],
   "source": [
    "top_source_part = taxi.groupby('source')\\\n",
    "                 .agg({'journey_id':'count'})\\\n",
    "                 .sort_values('journey_id', ascending= False)[:1]\\\n",
    "                 .max()\\\n",
    "                / taxi.source.count() * 100\n",
    "top_source_part = round(top_source_part, 0)\n",
    "print(\\\n",
    "      'Больше всего заказов было совершено с платформы - {}, {}% от всех заказов.'\\\n",
    "      .format(*list(top_source.index), top_source_part[0]))"
   ]
  },
  {
   "cell_type": "code",
   "execution_count": 254,
   "id": "7aaec3df",
   "metadata": {},
   "outputs": [
    {
     "name": "stdout",
     "output_type": "stream",
     "text": [
      "Больше всего заказов было совершено с платформы - iPhone, 42.15% от всех заказов.\n"
     ]
    }
   ],
   "source": [
    "# Вариант 2\n",
    "\n",
    "top_source2 = (taxi.source.value_counts() / taxi.shape[0]).mul(100).round(2) [:1]  \n",
    "# доля каждого, в процентах с округлением и вывести из серии только первый элемент\n",
    "\n",
    "print(\\\n",
    "      'Больше всего заказов было совершено с платформы - {}, {}% от всех заказов.'\\\n",
    "      .format(*list(top_source2.index), top_source2[0]))"
   ]
  },
  {
   "cell_type": "code",
   "execution_count": 267,
   "id": "67fcdb5f",
   "metadata": {},
   "outputs": [
    {
     "name": "stdout",
     "output_type": "stream",
     "text": [
      "Больше всего заказов было совершено с платформы - iPhone, 42.15% от всех заказов.\n"
     ]
    }
   ],
   "source": [
    "# Вариант 3\n",
    "\n",
    "top_source3 = taxi.source.value_counts(normalize= True, dropna = False).mul(100).round(2) [:1]  \n",
    "#  normalize= True - в автомате посчитало долю по колонке, dropna = False  - если нужно включить пропущенные значения\n",
    "\n",
    "top_source3\n",
    "\n",
    "print(\\\n",
    "      'Больше всего заказов было совершено с платформы - {}, {}% от всех заказов.'\\\n",
    "      .format(*list(top_source3.index), top_source3[0]))"
   ]
  },
  {
   "cell_type": "markdown",
   "id": "6fe46690",
   "metadata": {},
   "source": [
    "### Ex_8.2\n",
    "Чтобы показать разницу более наглядно, попробуем визуализировать показатели.\n",
    "\n",
    "Агрегируйте данные и постройте барчарт, где по оси x будет расположено название платформы (source), а по оси y – количество заказов (абсолютные значения)."
   ]
  },
  {
   "cell_type": "code",
   "execution_count": 9,
   "id": "ae1c9177",
   "metadata": {},
   "outputs": [
    {
     "data": {
      "text/plain": [
       "<Axes: xlabel='source', ylabel='orders'>"
      ]
     },
     "execution_count": 9,
     "metadata": {},
     "output_type": "execute_result"
    },
    {
     "data": {
      "image/png": "[encoded data removed]",
      "text/plain": [
       "<Figure size 640x480 with 1 Axes>"
      ]
     },
     "metadata": {},
     "output_type": "display_data"
    }
   ],
   "source": [
    "sources_orders = taxi.groupby('source', as_index=False)\\\n",
    "                 .agg({'journey_id':'count'})\\\n",
    "                 .sort_values('journey_id', ascending= False)\\\n",
    "                 .rename(columns = {'journey_id':'orders'})\n",
    "\n",
    "sns.barplot(sources_orders, x=\"source\", y=\"orders\")"
   ]
  },
  {
   "cell_type": "markdown",
   "id": "6241599e",
   "metadata": {},
   "source": [
    "Альтернативный вариант построения распределения категориальной переменной – sns.countplot. В качестве единственного аргумента можно передать всего одну колонку: например, source, а количество значений для оси y функция посчитает самостоятельно.\n",
    "\n",
    "    sns.countplot(taxi['source'])\n"
   ]
  },
  {
   "cell_type": "code",
   "execution_count": 24,
   "id": "60afcda7",
   "metadata": {},
   "outputs": [
    {
     "data": {
      "text/plain": [
       "<Axes: ylabel='count'>"
      ]
     },
     "execution_count": 24,
     "metadata": {},
     "output_type": "execute_result"
    },
    {
     "data": {
      "image/png": "[encoded data removed]",
      "text/plain": [
       "<Figure size 640x480 with 1 Axes>"
      ]
     },
     "metadata": {},
     "output_type": "display_data"
    }
   ],
   "source": [
    "sns.countplot(taxi['rider_score'])"
   ]
  },
  {
   "cell_type": "markdown",
   "id": "38f324b4",
   "metadata": {},
   "source": [
    "### Ex_8.3\n",
    "\n",
    "С помощью sns.countplot и параметра hue визуализируйте распределение переменной end_state (итоговое состояние заказа) в разбивке по платформам (source).\n",
    "\n",
    "Иными словами, по оси x расположите платформу, а в качестве цвета используйте состояние заказа. Далее выберите верные утверждения."
   ]
  },
  {
   "cell_type": "code",
   "execution_count": 31,
   "id": "fa018beb",
   "metadata": {},
   "outputs": [
    {
     "data": {
      "text/plain": [
       "<Axes: xlabel='source', ylabel='count'>"
      ]
     },
     "execution_count": 31,
     "metadata": {},
     "output_type": "execute_result"
    },
    {
     "data": {
      "image/png": "[encoded data removed]",
      "text/plain": [
       "<Figure size 640x480 with 1 Axes>"
      ]
     },
     "metadata": {},
     "output_type": "display_data"
    }
   ],
   "source": [
    "sns.countplot(taxi, x = 'source', hue= 'end_state')"
   ]
  },
  {
   "cell_type": "markdown",
   "id": "5401c085",
   "metadata": {},
   "source": [
    "    Больше всего заказов со статусом drop off совершено с платформы iPhone\n",
    "\n",
    "    На Android количество отмененных поездок (rider cancel) меньше, чем на iPhone\n",
    "        \n",
    "    Наибольшая разница между количеством drop off и rider cancel наблюдается для платформы iPhone"
   ]
  },
  {
   "cell_type": "markdown",
   "id": "ba89521e",
   "metadata": {},
   "source": [
    "### Ex_8.4\n",
    "Проверим, как распределены оценки водителей (driver_score). \n",
    "\n",
    "Для подготовки данных выполните следующие шаги:\n",
    "\n",
    "    Посчитайте частоту встречаемости каждой из оценок\n",
    "    Переведите в проценты и округлите до 2 знаков после точки (.mul(100).round(2))\n",
    "    Сбросьте индексы\n",
    "    Переименуйте колонки в driver_score и percentage\n",
    "    Отсортируйте по driver_score в порядке возрастания (от 0 до 5)\n",
    "    Запишите результат в driver_score_counts"
   ]
  },
  {
   "cell_type": "code",
   "execution_count": 216,
   "id": "a8250c5c",
   "metadata": {
    "scrolled": true
   },
   "outputs": [
    {
     "data": {
      "text/html": [
       "<div>\n",
       "<style scoped>\n",
       "    .dataframe tbody tr th:only-of-type {\n",
       "        vertical-align: middle;\n",
       "    }\n",
       "\n",
       "    .dataframe tbody tr th {\n",
       "        vertical-align: top;\n",
       "    }\n",
       "\n",
       "    .dataframe thead th {\n",
       "        text-align: right;\n",
       "    }\n",
       "</style>\n",
       "<table border=\"1\" class=\"dataframe\">\n",
       "  <thead>\n",
       "    <tr style=\"text-align: right;\">\n",
       "      <th></th>\n",
       "      <th>driver_score</th>\n",
       "      <th>percentage</th>\n",
       "    </tr>\n",
       "  </thead>\n",
       "  <tbody>\n",
       "    <tr>\n",
       "      <th>0</th>\n",
       "      <td>0.0</td>\n",
       "      <td>14.30</td>\n",
       "    </tr>\n",
       "    <tr>\n",
       "      <th>1</th>\n",
       "      <td>1.0</td>\n",
       "      <td>1.23</td>\n",
       "    </tr>\n",
       "    <tr>\n",
       "      <th>2</th>\n",
       "      <td>2.0</td>\n",
       "      <td>0.81</td>\n",
       "    </tr>\n",
       "    <tr>\n",
       "      <th>3</th>\n",
       "      <td>3.0</td>\n",
       "      <td>2.97</td>\n",
       "    </tr>\n",
       "    <tr>\n",
       "      <th>4</th>\n",
       "      <td>4.0</td>\n",
       "      <td>21.88</td>\n",
       "    </tr>\n",
       "    <tr>\n",
       "      <th>5</th>\n",
       "      <td>5.0</td>\n",
       "      <td>58.81</td>\n",
       "    </tr>\n",
       "  </tbody>\n",
       "</table>\n",
       "</div>"
      ],
      "text/plain": [
       "   driver_score  percentage\n",
       "0           0.0       14.30\n",
       "1           1.0        1.23\n",
       "2           2.0        0.81\n",
       "3           3.0        2.97\n",
       "4           4.0       21.88\n",
       "5           5.0       58.81"
      ]
     },
     "execution_count": 216,
     "metadata": {},
     "output_type": "execute_result"
    }
   ],
   "source": [
    "df = (\n",
    "    (taxi.value_counts('driver_score', sort = False) / taxi.driver_score.count() )\n",
    "     .mul(100).round(2)\n",
    "    )\n",
    "driver_score_counts = df.to_frame(name = 'percentage').reset_index()\n",
    "driver_score_counts\n",
    "\n"
   ]
  },
  {
   "cell_type": "code",
   "execution_count": 284,
   "id": "6d15b28a",
   "metadata": {},
   "outputs": [
    {
     "data": {
      "text/html": [
       "<div>\n",
       "<style scoped>\n",
       "    .dataframe tbody tr th:only-of-type {\n",
       "        vertical-align: middle;\n",
       "    }\n",
       "\n",
       "    .dataframe tbody tr th {\n",
       "        vertical-align: top;\n",
       "    }\n",
       "\n",
       "    .dataframe thead th {\n",
       "        text-align: right;\n",
       "    }\n",
       "</style>\n",
       "<table border=\"1\" class=\"dataframe\">\n",
       "  <thead>\n",
       "    <tr style=\"text-align: right;\">\n",
       "      <th></th>\n",
       "      <th>driver_score</th>\n",
       "      <th>percentage</th>\n",
       "    </tr>\n",
       "  </thead>\n",
       "  <tbody>\n",
       "    <tr>\n",
       "      <th>2</th>\n",
       "      <td>0.0</td>\n",
       "      <td>14.30</td>\n",
       "    </tr>\n",
       "    <tr>\n",
       "      <th>4</th>\n",
       "      <td>1.0</td>\n",
       "      <td>1.23</td>\n",
       "    </tr>\n",
       "    <tr>\n",
       "      <th>5</th>\n",
       "      <td>2.0</td>\n",
       "      <td>0.81</td>\n",
       "    </tr>\n",
       "    <tr>\n",
       "      <th>3</th>\n",
       "      <td>3.0</td>\n",
       "      <td>2.97</td>\n",
       "    </tr>\n",
       "    <tr>\n",
       "      <th>1</th>\n",
       "      <td>4.0</td>\n",
       "      <td>21.88</td>\n",
       "    </tr>\n",
       "    <tr>\n",
       "      <th>0</th>\n",
       "      <td>5.0</td>\n",
       "      <td>58.81</td>\n",
       "    </tr>\n",
       "  </tbody>\n",
       "</table>\n",
       "</div>"
      ],
      "text/plain": [
       "   driver_score  percentage\n",
       "2           0.0       14.30\n",
       "4           1.0        1.23\n",
       "5           2.0        0.81\n",
       "3           3.0        2.97\n",
       "1           4.0       21.88\n",
       "0           5.0       58.81"
      ]
     },
     "execution_count": 284,
     "metadata": {},
     "output_type": "execute_result"
    }
   ],
   "source": [
    "# ВАРИАНТ 2\n",
    "driver_score_counts = (\n",
    "    taxi\n",
    "        .driver_score\n",
    "        .value_counts(normalize = True)\n",
    "        .mul(100).round(2)\n",
    "        .reset_index()\n",
    "        .rename(columns= {'index': 'driver_score', 'driver_score':'percentage'})\n",
    "        .sort_values('driver_score')\n",
    ")\n",
    "driver_score_counts"
   ]
  },
  {
   "cell_type": "code",
   "execution_count": 223,
   "id": "d18281a1",
   "metadata": {},
   "outputs": [
    {
     "data": {
      "image/png": "[encoded data removed]",
      "text/plain": [
       "<Figure size 640x480 with 1 Axes>"
      ]
     },
     "metadata": {},
     "output_type": "display_data"
    }
   ],
   "source": [
    "ax = sns.barplot(x= 'driver_score', y= 'percentage', data= driver_score_counts, color='blue', alpha=0.5)\n",
    "ax.set(xlabel='Driver score', ylabel='Percentage')\n",
    "sns.despine()  # убрать часть рамки графика\n",
    "plt.show()"
   ]
  },
  {
   "cell_type": "markdown",
   "id": "b7fdca9d",
   "metadata": {},
   "source": [
    "### Ex_8.5\n",
    "\n",
    "💀 Сложное задание! 💀\n",
    "\n",
    "Проделайте аналогичные шаги для rider_score (оценок клиентов водителями), не забыв построить график.\n",
    "\n",
    "В чем его отличие от распределения оценок водителей?"
   ]
  },
  {
   "cell_type": "code",
   "execution_count": 286,
   "id": "b3faa599",
   "metadata": {},
   "outputs": [
    {
     "data": {
      "text/html": [
       "<div>\n",
       "<style scoped>\n",
       "    .dataframe tbody tr th:only-of-type {\n",
       "        vertical-align: middle;\n",
       "    }\n",
       "\n",
       "    .dataframe tbody tr th {\n",
       "        vertical-align: top;\n",
       "    }\n",
       "\n",
       "    .dataframe thead th {\n",
       "        text-align: right;\n",
       "    }\n",
       "</style>\n",
       "<table border=\"1\" class=\"dataframe\">\n",
       "  <thead>\n",
       "    <tr style=\"text-align: right;\">\n",
       "      <th></th>\n",
       "      <th>rider_score</th>\n",
       "      <th>percentage</th>\n",
       "    </tr>\n",
       "  </thead>\n",
       "  <tbody>\n",
       "    <tr>\n",
       "      <th>2</th>\n",
       "      <td>0.0</td>\n",
       "      <td>2.29</td>\n",
       "    </tr>\n",
       "    <tr>\n",
       "      <th>4</th>\n",
       "      <td>1.0</td>\n",
       "      <td>0.21</td>\n",
       "    </tr>\n",
       "    <tr>\n",
       "      <th>5</th>\n",
       "      <td>2.0</td>\n",
       "      <td>0.19</td>\n",
       "    </tr>\n",
       "    <tr>\n",
       "      <th>3</th>\n",
       "      <td>3.0</td>\n",
       "      <td>1.38</td>\n",
       "    </tr>\n",
       "    <tr>\n",
       "      <th>1</th>\n",
       "      <td>4.0</td>\n",
       "      <td>8.83</td>\n",
       "    </tr>\n",
       "    <tr>\n",
       "      <th>0</th>\n",
       "      <td>5.0</td>\n",
       "      <td>87.10</td>\n",
       "    </tr>\n",
       "  </tbody>\n",
       "</table>\n",
       "</div>"
      ],
      "text/plain": [
       "   rider_score  percentage\n",
       "2          0.0        2.29\n",
       "4          1.0        0.21\n",
       "5          2.0        0.19\n",
       "3          3.0        1.38\n",
       "1          4.0        8.83\n",
       "0          5.0       87.10"
      ]
     },
     "execution_count": 286,
     "metadata": {},
     "output_type": "execute_result"
    }
   ],
   "source": [
    "rider_score_counts = (\n",
    "            taxi\n",
    "                .rider_score\n",
    "                .value_counts(normalize= True)\n",
    "                .mul(100).round(2)\n",
    "                .reset_index()\n",
    "                .rename(columns = {'index':'rider_score','rider_score':'percentage'})\n",
    "                .sort_values('rider_score')\n",
    ")\n",
    "rider_score_counts"
   ]
  },
  {
   "cell_type": "code",
   "execution_count": 224,
   "id": "f610f145",
   "metadata": {},
   "outputs": [
    {
     "data": {
      "text/html": [
       "<div>\n",
       "<style scoped>\n",
       "    .dataframe tbody tr th:only-of-type {\n",
       "        vertical-align: middle;\n",
       "    }\n",
       "\n",
       "    .dataframe tbody tr th {\n",
       "        vertical-align: top;\n",
       "    }\n",
       "\n",
       "    .dataframe thead th {\n",
       "        text-align: right;\n",
       "    }\n",
       "</style>\n",
       "<table border=\"1\" class=\"dataframe\">\n",
       "  <thead>\n",
       "    <tr style=\"text-align: right;\">\n",
       "      <th></th>\n",
       "      <th>rider_score</th>\n",
       "      <th>percentage</th>\n",
       "    </tr>\n",
       "  </thead>\n",
       "  <tbody>\n",
       "    <tr>\n",
       "      <th>0</th>\n",
       "      <td>0.0</td>\n",
       "      <td>2.29</td>\n",
       "    </tr>\n",
       "    <tr>\n",
       "      <th>1</th>\n",
       "      <td>1.0</td>\n",
       "      <td>0.21</td>\n",
       "    </tr>\n",
       "    <tr>\n",
       "      <th>2</th>\n",
       "      <td>2.0</td>\n",
       "      <td>0.19</td>\n",
       "    </tr>\n",
       "    <tr>\n",
       "      <th>3</th>\n",
       "      <td>3.0</td>\n",
       "      <td>1.38</td>\n",
       "    </tr>\n",
       "    <tr>\n",
       "      <th>4</th>\n",
       "      <td>4.0</td>\n",
       "      <td>8.83</td>\n",
       "    </tr>\n",
       "    <tr>\n",
       "      <th>5</th>\n",
       "      <td>5.0</td>\n",
       "      <td>87.10</td>\n",
       "    </tr>\n",
       "  </tbody>\n",
       "</table>\n",
       "</div>"
      ],
      "text/plain": [
       "   rider_score  percentage\n",
       "0          0.0        2.29\n",
       "1          1.0        0.21\n",
       "2          2.0        0.19\n",
       "3          3.0        1.38\n",
       "4          4.0        8.83\n",
       "5          5.0       87.10"
      ]
     },
     "execution_count": 224,
     "metadata": {},
     "output_type": "execute_result"
    }
   ],
   "source": [
    "# вариант 2\n",
    "df = (\n",
    "    (taxi.value_counts('rider_score', sort = False) / taxi.rider_score.count() )\n",
    "     .mul(100).round(2)\n",
    "    )\n",
    "rider_score_counts = df.to_frame(name = 'percentage').reset_index()\n",
    "rider_score_counts\n"
   ]
  },
  {
   "cell_type": "code",
   "execution_count": 227,
   "id": "42cc5152",
   "metadata": {},
   "outputs": [
    {
     "data": {
      "image/png": "[encoded data removed]",
      "text/plain": [
       "<Figure size 640x480 with 1 Axes>"
      ]
     },
     "metadata": {},
     "output_type": "display_data"
    }
   ],
   "source": [
    "ax = sns.barplot(x= 'rider_score', y= 'percentage', data= rider_score_counts, color='orange', alpha=0.5)\n",
    "ax.set(xlabel='Rider score', ylabel='Percentage')\n",
    "sns.despine()  # убрать часть рамки графика\n",
    "plt.show()"
   ]
  },
  {
   "cell_type": "code",
   "execution_count": null,
   "id": "6e632ef2",
   "metadata": {},
   "outputs": [],
   "source": []
  }
 ],
 "metadata": {
  "kernelspec": {
   "display_name": "Python 3 (ipykernel)",
   "language": "python",
   "name": "python3"
  },
  "language_info": {
   "codemirror_mode": {
    "name": "ipython",
    "version": 3
   },
   "file_extension": ".py",
   "mimetype": "text/x-python",
   "name": "python",
   "nbconvert_exporter": "python",
   "pygments_lexer": "ipython3",
   "version": "3.10.9"
  }
 },
 "nbformat": 4,
 "nbformat_minor": 5
}
