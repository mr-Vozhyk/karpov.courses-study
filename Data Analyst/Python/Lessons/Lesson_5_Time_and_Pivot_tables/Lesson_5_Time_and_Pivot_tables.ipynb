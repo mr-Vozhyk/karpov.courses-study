{
 "cells": [
  {
   "cell_type": "markdown",
   "id": "90a34fea-5857-4f16-8660-ff0c48125d98",
   "metadata": {},
   "source": [
    "# Lesson_5\n",
    "### Предобработка данных и разведывательный анализ"
   ]
  },
  {
   "cell_type": "code",
   "execution_count": 1,
   "id": "c7bf34ae-73c4-402b-83c5-622f31bb5009",
   "metadata": {},
   "outputs": [],
   "source": [
    "import pandas as pd\n",
    "\n",
    "import numpy as np\n",
    "import seaborn as sns\n",
    "import matplotlib.pyplot as plt\n",
    "\n",
    "%matplotlib inline"
   ]
  },
  {
   "cell_type": "code",
   "execution_count": 2,
   "id": "d2699b32-a038-49cc-b440-8ba406414205",
   "metadata": {},
   "outputs": [],
   "source": [
    "# Получить статистику по дням. \n",
    "# Просто посчитать число всех событий по дням, число показов, число кликов, число уникальных объявлений и уникальных кампаний.\n",
    "# Разобраться, почему случился такой скачок 2019-04-05? Каких событий стало больше? У всех объявлений или только у некоторых?\n",
    "\n",
    "# Найти топ 10 объявлений по CTR за все время. CTR — это отношение всех просмотров объявления к кликам. \n",
    "          # Например, если у объявления было 100 показов и 2 клика, CTR = 0.02. Различается ли средний и медианный CTR объявлений в наших данных?\n",
    "\n",
    "# Похоже, в наших логах есть баг, объявления приходят с кликами, но без показов! \n",
    "# Сколько таких объявлений, есть ли какие-то закономерности? Эта проблема наблюдается на всех платформах?\n",
    "\n",
    "# Есть ли различия в CTR у объявлений с видео и без? А чему равняется 95 процентиль CTR по всем объявлениям за 2019-04-04?\n",
    "\n",
    "# Для финансового отчета нужно рассчитать наш заработок по дням. В какой день мы заработали больше всего? В какой меньше? \n",
    "         # Мы списываем с клиентов деньги, если произошел клик по CPC объявлению, и мы списываем деньги за каждый показ CPM объявления, \n",
    "         # если у CPM объявления цена - 200 рублей, то за один показ мы зарабатываем 200 / 1000.\n",
    "# Какая платформа самая популярная для размещения рекламных объявлений? Сколько процентов показов приходится на каждую из платформ (колонка platform)?\n",
    "\n",
    "# А есть ли такие объявления, по которым сначала произошел клик, а только потом показ?"
   ]
  },
  {
   "cell_type": "code",
   "execution_count": null,
   "id": "464d5a97-dcd6-4428-b6da-66decb6362d3",
   "metadata": {},
   "outputs": [],
   "source": [
    "\n",
    "\n",
    "# ads_data = pd.read_csv('/home/jupyter-an.karpov/shared/ads_data.csv.zip', compression='zip')"
   ]
  },
  {
   "cell_type": "code",
   "execution_count": 12,
   "id": "91edb9ae-03e3-46c0-a5b2-f358f0b3da94",
   "metadata": {},
   "outputs": [],
   "source": [
    "url = 'C://Users/user/Karpov_courses/Lessons/Lesson_5/ads_data_head.csv'"
   ]
  },
  {
   "cell_type": "code",
   "execution_count": 13,
   "id": "12a48dec-7b8a-432e-875e-1a1b397dd1ea",
   "metadata": {},
   "outputs": [
    {
     "data": {
      "text/html": [
       "<div>\n",
       "<style scoped>\n",
       "    .dataframe tbody tr th:only-of-type {\n",
       "        vertical-align: middle;\n",
       "    }\n",
       "\n",
       "    .dataframe tbody tr th {\n",
       "        vertical-align: top;\n",
       "    }\n",
       "\n",
       "    .dataframe thead th {\n",
       "        text-align: right;\n",
       "    }\n",
       "</style>\n",
       "<table border=\"1\" class=\"dataframe\">\n",
       "  <thead>\n",
       "    <tr style=\"text-align: right;\">\n",
       "      <th></th>\n",
       "      <th>ad_id</th>\n",
       "      <th>time</th>\n",
       "      <th>event</th>\n",
       "      <th>date</th>\n",
       "      <th>ad_cost_type</th>\n",
       "      <th>has_video</th>\n",
       "      <th>client_union_id</th>\n",
       "      <th>campaign_union_id</th>\n",
       "      <th>platform</th>\n",
       "      <th>ad_cost</th>\n",
       "      <th>target_audience_count</th>\n",
       "      <th>user_id</th>\n",
       "      <th>full_date</th>\n",
       "    </tr>\n",
       "  </thead>\n",
       "  <tbody>\n",
       "    <tr>\n",
       "      <th>0</th>\n",
       "      <td>23456</td>\n",
       "      <td>1554076848</td>\n",
       "      <td>view</td>\n",
       "      <td>4/1/2019</td>\n",
       "      <td>CPM</td>\n",
       "      <td>0</td>\n",
       "      <td>5681</td>\n",
       "      <td>23456</td>\n",
       "      <td>android</td>\n",
       "      <td>190.0</td>\n",
       "      <td>125560</td>\n",
       "      <td>793</td>\n",
       "      <td>4/1/2019 0:00</td>\n",
       "    </tr>\n",
       "    <tr>\n",
       "      <th>1</th>\n",
       "      <td>111941</td>\n",
       "      <td>1554135866</td>\n",
       "      <td>view</td>\n",
       "      <td>4/1/2019</td>\n",
       "      <td>CPM</td>\n",
       "      <td>0</td>\n",
       "      <td>111793</td>\n",
       "      <td>111941</td>\n",
       "      <td>ios</td>\n",
       "      <td>215.2</td>\n",
       "      <td>32277</td>\n",
       "      <td>1041</td>\n",
       "      <td>4/1/2019 16:24</td>\n",
       "    </tr>\n",
       "    <tr>\n",
       "      <th>2</th>\n",
       "      <td>111941</td>\n",
       "      <td>1554135866</td>\n",
       "      <td>view</td>\n",
       "      <td>4/1/2019</td>\n",
       "      <td>CPM</td>\n",
       "      <td>0</td>\n",
       "      <td>111793</td>\n",
       "      <td>111941</td>\n",
       "      <td>ios</td>\n",
       "      <td>215.2</td>\n",
       "      <td>32277</td>\n",
       "      <td>41</td>\n",
       "      <td>4/1/2019 16:24</td>\n",
       "    </tr>\n",
       "    <tr>\n",
       "      <th>3</th>\n",
       "      <td>42987</td>\n",
       "      <td>1554135866</td>\n",
       "      <td>view</td>\n",
       "      <td>4/1/2019</td>\n",
       "      <td>CPM</td>\n",
       "      <td>0</td>\n",
       "      <td>28541</td>\n",
       "      <td>42985</td>\n",
       "      <td>ios</td>\n",
       "      <td>199.1</td>\n",
       "      <td>80160</td>\n",
       "      <td>898</td>\n",
       "      <td>4/1/2019 16:24</td>\n",
       "    </tr>\n",
       "    <tr>\n",
       "      <th>4</th>\n",
       "      <td>23456</td>\n",
       "      <td>1554135866</td>\n",
       "      <td>view</td>\n",
       "      <td>4/1/2019</td>\n",
       "      <td>CPM</td>\n",
       "      <td>0</td>\n",
       "      <td>5681</td>\n",
       "      <td>23456</td>\n",
       "      <td>web</td>\n",
       "      <td>190.0</td>\n",
       "      <td>125560</td>\n",
       "      <td>29</td>\n",
       "      <td>4/1/2019 16:24</td>\n",
       "    </tr>\n",
       "  </tbody>\n",
       "</table>\n",
       "</div>"
      ],
      "text/plain": [
       "    ad_id        time event      date ad_cost_type  has_video  \\\n",
       "0   23456  1554076848  view  4/1/2019          CPM          0   \n",
       "1  111941  1554135866  view  4/1/2019          CPM          0   \n",
       "2  111941  1554135866  view  4/1/2019          CPM          0   \n",
       "3   42987  1554135866  view  4/1/2019          CPM          0   \n",
       "4   23456  1554135866  view  4/1/2019          CPM          0   \n",
       "\n",
       "   client_union_id  campaign_union_id platform  ad_cost  \\\n",
       "0             5681              23456  android    190.0   \n",
       "1           111793             111941      ios    215.2   \n",
       "2           111793             111941      ios    215.2   \n",
       "3            28541              42985      ios    199.1   \n",
       "4             5681              23456      web    190.0   \n",
       "\n",
       "   target_audience_count  user_id       full_date  \n",
       "0                 125560      793   4/1/2019 0:00  \n",
       "1                  32277     1041  4/1/2019 16:24  \n",
       "2                  32277       41  4/1/2019 16:24  \n",
       "3                  80160      898  4/1/2019 16:24  \n",
       "4                 125560       29  4/1/2019 16:24  "
      ]
     },
     "execution_count": 13,
     "metadata": {},
     "output_type": "execute_result"
    }
   ],
   "source": [
    "ads_data = pd.read_csv(url)\n",
    "ads_data.head()"
   ]
  },
  {
   "cell_type": "markdown",
   "id": "855ac590-f36c-46dd-a5ae-6a5210fc0716",
   "metadata": {},
   "source": [
    "#### METADATA\n",
    "    ad_id - номер id рекламного объявления\n",
    "    time - время, когда с объявлением случилось какое-то событие\n",
    "    event - событие: view (просмотр), click\n",
    "    date - дата события\n",
    "    ad_cost_type - тип рекламы: CPM (костер майл, рекламадатель платит за просмотры)/ CPC (рекламадатель платит за клик)\n",
    "    has_video - было ли у рекламного объявления видео или нет (0/1)\n",
    "    client_union_id - какой клиент это объявление размещал\n",
    "    campaign_union_id - в какой компании клиент размещал это объявление \n",
    "    platform - с какой платформы осуществлялось действие с объявлением\n",
    "    ad_cost - стоимость рекламного взаимодействия\n",
    "    target_audience_count - на какую аудиторию таргетировались это объявление\n",
    "    user_id - номер id клиента\n",
    "    full_date - полная дата "
   ]
  },
  {
   "cell_type": "code",
   "execution_count": 17,
   "id": "ec90d379-68ac-4668-9bbc-1918ceed2748",
   "metadata": {},
   "outputs": [],
   "source": [
    "ads_data['full_date'] = pd.to_datetime(ads_data.time, unit='s')"
   ]
  },
  {
   "cell_type": "code",
   "execution_count": 18,
   "id": "ad286a37-30bb-4db3-825d-2768d8fedcea",
   "metadata": {},
   "outputs": [],
   "source": [
    "ads_data['date'] = pd.to_datetime(ads_data.date)"
   ]
  },
  {
   "cell_type": "code",
   "execution_count": 20,
   "id": "3b82780a-0863-4293-b159-e75cc8c121b7",
   "metadata": {},
   "outputs": [
    {
     "data": {
      "text/html": [
       "<div>\n",
       "<style scoped>\n",
       "    .dataframe tbody tr th:only-of-type {\n",
       "        vertical-align: middle;\n",
       "    }\n",
       "\n",
       "    .dataframe tbody tr th {\n",
       "        vertical-align: top;\n",
       "    }\n",
       "\n",
       "    .dataframe thead th {\n",
       "        text-align: right;\n",
       "    }\n",
       "</style>\n",
       "<table border=\"1\" class=\"dataframe\">\n",
       "  <thead>\n",
       "    <tr style=\"text-align: right;\">\n",
       "      <th></th>\n",
       "      <th>ad_id</th>\n",
       "      <th>time</th>\n",
       "      <th>event</th>\n",
       "      <th>date</th>\n",
       "      <th>ad_cost_type</th>\n",
       "      <th>has_video</th>\n",
       "      <th>client_union_id</th>\n",
       "      <th>campaign_union_id</th>\n",
       "      <th>platform</th>\n",
       "      <th>ad_cost</th>\n",
       "      <th>target_audience_count</th>\n",
       "      <th>user_id</th>\n",
       "      <th>full_date</th>\n",
       "    </tr>\n",
       "  </thead>\n",
       "  <tbody>\n",
       "    <tr>\n",
       "      <th>0</th>\n",
       "      <td>23456</td>\n",
       "      <td>1554076848</td>\n",
       "      <td>view</td>\n",
       "      <td>2019-04-01</td>\n",
       "      <td>CPM</td>\n",
       "      <td>0</td>\n",
       "      <td>5681</td>\n",
       "      <td>23456</td>\n",
       "      <td>android</td>\n",
       "      <td>190.0</td>\n",
       "      <td>125560</td>\n",
       "      <td>793</td>\n",
       "      <td>2019-04-01 00:00:48</td>\n",
       "    </tr>\n",
       "    <tr>\n",
       "      <th>1</th>\n",
       "      <td>111941</td>\n",
       "      <td>1554135866</td>\n",
       "      <td>view</td>\n",
       "      <td>2019-04-01</td>\n",
       "      <td>CPM</td>\n",
       "      <td>0</td>\n",
       "      <td>111793</td>\n",
       "      <td>111941</td>\n",
       "      <td>ios</td>\n",
       "      <td>215.2</td>\n",
       "      <td>32277</td>\n",
       "      <td>1041</td>\n",
       "      <td>2019-04-01 16:24:26</td>\n",
       "    </tr>\n",
       "    <tr>\n",
       "      <th>2</th>\n",
       "      <td>111941</td>\n",
       "      <td>1554135866</td>\n",
       "      <td>view</td>\n",
       "      <td>2019-04-01</td>\n",
       "      <td>CPM</td>\n",
       "      <td>0</td>\n",
       "      <td>111793</td>\n",
       "      <td>111941</td>\n",
       "      <td>ios</td>\n",
       "      <td>215.2</td>\n",
       "      <td>32277</td>\n",
       "      <td>41</td>\n",
       "      <td>2019-04-01 16:24:26</td>\n",
       "    </tr>\n",
       "    <tr>\n",
       "      <th>3</th>\n",
       "      <td>42987</td>\n",
       "      <td>1554135866</td>\n",
       "      <td>view</td>\n",
       "      <td>2019-04-01</td>\n",
       "      <td>CPM</td>\n",
       "      <td>0</td>\n",
       "      <td>28541</td>\n",
       "      <td>42985</td>\n",
       "      <td>ios</td>\n",
       "      <td>199.1</td>\n",
       "      <td>80160</td>\n",
       "      <td>898</td>\n",
       "      <td>2019-04-01 16:24:26</td>\n",
       "    </tr>\n",
       "    <tr>\n",
       "      <th>4</th>\n",
       "      <td>23456</td>\n",
       "      <td>1554135866</td>\n",
       "      <td>view</td>\n",
       "      <td>2019-04-01</td>\n",
       "      <td>CPM</td>\n",
       "      <td>0</td>\n",
       "      <td>5681</td>\n",
       "      <td>23456</td>\n",
       "      <td>web</td>\n",
       "      <td>190.0</td>\n",
       "      <td>125560</td>\n",
       "      <td>29</td>\n",
       "      <td>2019-04-01 16:24:26</td>\n",
       "    </tr>\n",
       "  </tbody>\n",
       "</table>\n",
       "</div>"
      ],
      "text/plain": [
       "    ad_id        time event       date ad_cost_type  has_video  \\\n",
       "0   23456  1554076848  view 2019-04-01          CPM          0   \n",
       "1  111941  1554135866  view 2019-04-01          CPM          0   \n",
       "2  111941  1554135866  view 2019-04-01          CPM          0   \n",
       "3   42987  1554135866  view 2019-04-01          CPM          0   \n",
       "4   23456  1554135866  view 2019-04-01          CPM          0   \n",
       "\n",
       "   client_union_id  campaign_union_id platform  ad_cost  \\\n",
       "0             5681              23456  android    190.0   \n",
       "1           111793             111941      ios    215.2   \n",
       "2           111793             111941      ios    215.2   \n",
       "3            28541              42985      ios    199.1   \n",
       "4             5681              23456      web    190.0   \n",
       "\n",
       "   target_audience_count  user_id           full_date  \n",
       "0                 125560      793 2019-04-01 00:00:48  \n",
       "1                  32277     1041 2019-04-01 16:24:26  \n",
       "2                  32277       41 2019-04-01 16:24:26  \n",
       "3                  80160      898 2019-04-01 16:24:26  \n",
       "4                 125560       29 2019-04-01 16:24:26  "
      ]
     },
     "execution_count": 20,
     "metadata": {},
     "output_type": "execute_result"
    }
   ],
   "source": [
    "ads_data.head()"
   ]
  },
  {
   "cell_type": "code",
   "execution_count": 22,
   "id": "797015bd-2d09-4feb-bc1a-80ff3b3a24f8",
   "metadata": {},
   "outputs": [
    {
     "data": {
      "text/plain": [
       "ad_id                             int64\n",
       "time                              int64\n",
       "event                            object\n",
       "date                     datetime64[ns]\n",
       "ad_cost_type                     object\n",
       "has_video                         int64\n",
       "client_union_id                   int64\n",
       "campaign_union_id                 int64\n",
       "platform                         object\n",
       "ad_cost                         float64\n",
       "target_audience_count             int64\n",
       "user_id                           int64\n",
       "full_date                datetime64[ns]\n",
       "dtype: object"
      ]
     },
     "execution_count": 22,
     "metadata": {},
     "output_type": "execute_result"
    }
   ],
   "source": [
    "ads_data.dtypes"
   ]
  },
  {
   "cell_type": "code",
   "execution_count": null,
   "id": "a3e261fd-8e59-4e09-bd71-538dff007801",
   "metadata": {},
   "outputs": [],
   "source": []
  },
  {
   "cell_type": "code",
   "execution_count": null,
   "id": "776dd361-a437-4940-a49c-6141b8a49b9b",
   "metadata": {},
   "outputs": [],
   "source": [
    "# Получить статистику по дням. \n",
    "# Просто посчитать число всех событий по дням, число показов, число кликов, число уникальных объявлений и уникальных кампаний.\n",
    "# Разобраться, почему случился такой скачок 2019-04-05? Каких событий стало больше? У всех объявлений или только у некоторых?"
   ]
  },
  {
   "cell_type": "code",
   "execution_count": 25,
   "id": "29052cf8-3e24-45b6-ae72-e53b43e1c5d8",
   "metadata": {},
   "outputs": [
    {
     "data": {
      "text/plain": [
       "<Axes: xlabel='date'>"
      ]
     },
     "execution_count": 25,
     "metadata": {},
     "output_type": "execute_result"
    },
    {
     "data": {
      "image/png": "[encoded data removed]",
      "text/plain": [
       "<Figure size 640x480 with 1 Axes>"
      ]
     },
     "metadata": {},
     "output_type": "display_data"
    }
   ],
   "source": [
    "ads_data\\\n",
    "    .groupby('date') \\\n",
    "    .agg({'ad_id': 'count'}).plot()"
   ]
  },
  {
   "cell_type": "code",
   "execution_count": null,
   "id": "3088bc27-0934-4e48-a3fa-39295fc3ed73",
   "metadata": {},
   "outputs": [],
   "source": []
  },
  {
   "cell_type": "code",
   "execution_count": 28,
   "id": "6ece443f-4d79-413f-8a26-8a97dcc1e776",
   "metadata": {},
   "outputs": [
    {
     "data": {
      "text/html": [
       "<div>\n",
       "<style scoped>\n",
       "    .dataframe tbody tr th:only-of-type {\n",
       "        vertical-align: middle;\n",
       "    }\n",
       "\n",
       "    .dataframe tbody tr th {\n",
       "        vertical-align: top;\n",
       "    }\n",
       "\n",
       "    .dataframe thead th {\n",
       "        text-align: right;\n",
       "    }\n",
       "</style>\n",
       "<table border=\"1\" class=\"dataframe\">\n",
       "  <thead>\n",
       "    <tr style=\"text-align: right;\">\n",
       "      <th>event</th>\n",
       "      <th>date</th>\n",
       "      <th>view</th>\n",
       "    </tr>\n",
       "  </thead>\n",
       "  <tbody>\n",
       "    <tr>\n",
       "      <th>0</th>\n",
       "      <td>2019-04-01</td>\n",
       "      <td>5</td>\n",
       "    </tr>\n",
       "  </tbody>\n",
       "</table>\n",
       "</div>"
      ],
      "text/plain": [
       "event       date  view\n",
       "0     2019-04-01     5"
      ]
     },
     "execution_count": 28,
     "metadata": {},
     "output_type": "execute_result"
    }
   ],
   "source": [
    "ads_data.groupby(['date', 'event'], as_index=False) \\\n",
    "    .agg({'ad_id': 'count'}) \\\n",
    "    .pivot(index='date', columns='event', values='ad_id').reset_index()"
   ]
  },
  {
   "cell_type": "markdown",
   "id": "7c261d39-324b-4cfc-86ed-5432b4956a21",
   "metadata": {},
   "source": [
    "##### Full_data info\n",
    "\n",
    "| event   | date   | click   | view    | \n",
    "| -- | --------- | ----- | ------------ |\n",
    "| 0 | 2019-04-01 | 735 |      34832 |\n",
    "| 1 | 2019-04-02 | 1518 | 145811  |\n",
    "| 2 | 2019-04-03 | 1678 | 214851 |\n",
    "| 3 | 2019-04-04 | 1517 | 126182  |\n",
    "| 4 | 2019-04-05 | 501595 | 1783288 |\n",
    "| 5 | 2019-04-06 | 80420 | 284287  |"
   ]
  },
  {
   "cell_type": "code",
   "execution_count": 30,
   "id": "6358b678-bc3a-499c-b257-4b4d7ec9a2a9",
   "metadata": {},
   "outputs": [
    {
     "data": {
      "text/html": [
       "<div>\n",
       "<style scoped>\n",
       "    .dataframe tbody tr th:only-of-type {\n",
       "        vertical-align: middle;\n",
       "    }\n",
       "\n",
       "    .dataframe tbody tr th {\n",
       "        vertical-align: top;\n",
       "    }\n",
       "\n",
       "    .dataframe thead th {\n",
       "        text-align: right;\n",
       "    }\n",
       "</style>\n",
       "<table border=\"1\" class=\"dataframe\">\n",
       "  <thead>\n",
       "    <tr style=\"text-align: right;\">\n",
       "      <th></th>\n",
       "      <th>time</th>\n",
       "    </tr>\n",
       "    <tr>\n",
       "      <th>ad_id</th>\n",
       "      <th></th>\n",
       "    </tr>\n",
       "  </thead>\n",
       "  <tbody>\n",
       "  </tbody>\n",
       "</table>\n",
       "</div>"
      ],
      "text/plain": [
       "Empty DataFrame\n",
       "Columns: [time]\n",
       "Index: []"
      ]
     },
     "execution_count": 30,
     "metadata": {},
     "output_type": "execute_result"
    }
   ],
   "source": [
    "ads_data[ads_data.date == '2019-04-05'] \\\n",
    "    .groupby('ad_id') \\\n",
    "    .agg({'time': 'count'}) \\\n",
    "    .sort_values('time', ascending=False) \\\n",
    "    .head()"
   ]
  },
  {
   "cell_type": "markdown",
   "id": "50eeb873-4b7e-412b-9db0-e1bf2be30041",
   "metadata": {},
   "source": [
    "##### Full_data info\n",
    "\n",
    "| ad_id   | time   |\n",
    "| -- | --------- | \n",
    "| 112583 | 2166611 | \n",
    "| 29927 | 27186 | \n",
    "| 44635 | 8268 | \n",
    "| 46583 | 7327 | \n",
    "| 46583 | 5656 | "
   ]
  },
  {
   "cell_type": "code",
   "execution_count": 31,
   "id": "761811ed-5777-48fb-9378-11fd10291722",
   "metadata": {},
   "outputs": [],
   "source": [
    "ad_id = 112583"
   ]
  },
  {
   "cell_type": "code",
   "execution_count": 37,
   "id": "a10cb552-1a8d-4109-be29-3b5f9fef52bf",
   "metadata": {},
   "outputs": [
    {
     "data": {
      "text/html": [
       "<div>\n",
       "<style scoped>\n",
       "    .dataframe tbody tr th:only-of-type {\n",
       "        vertical-align: middle;\n",
       "    }\n",
       "\n",
       "    .dataframe tbody tr th {\n",
       "        vertical-align: top;\n",
       "    }\n",
       "\n",
       "    .dataframe thead th {\n",
       "        text-align: right;\n",
       "    }\n",
       "</style>\n",
       "<table border=\"1\" class=\"dataframe\">\n",
       "  <thead>\n",
       "    <tr style=\"text-align: right;\">\n",
       "      <th></th>\n",
       "      <th>ad_id</th>\n",
       "      <th>time</th>\n",
       "      <th>event</th>\n",
       "      <th>date</th>\n",
       "      <th>ad_cost_type</th>\n",
       "      <th>has_video</th>\n",
       "      <th>client_union_id</th>\n",
       "      <th>campaign_union_id</th>\n",
       "      <th>platform</th>\n",
       "      <th>ad_cost</th>\n",
       "      <th>target_audience_count</th>\n",
       "      <th>user_id</th>\n",
       "      <th>full_date</th>\n",
       "    </tr>\n",
       "  </thead>\n",
       "  <tbody>\n",
       "  </tbody>\n",
       "</table>\n",
       "</div>"
      ],
      "text/plain": [
       "Empty DataFrame\n",
       "Columns: [ad_id, time, event, date, ad_cost_type, has_video, client_union_id, campaign_union_id, platform, ad_cost, target_audience_count, user_id, full_date]\n",
       "Index: []"
      ]
     },
     "execution_count": 37,
     "metadata": {},
     "output_type": "execute_result"
    }
   ],
   "source": [
    "ads_data.query('ad_id == @ad_id').head(1)\n",
    "#   @x - применение в фильтре конкрентого значения указанной переменной"
   ]
  },
  {
   "cell_type": "markdown",
   "id": "69e45b33-6c2d-4100-92ad-c41c30c84eee",
   "metadata": {},
   "source": [
    "\tad_id\ttime\tevent\tdate\tad_cost_type\thas_video\tclient_union_id\tcampaign_union_id\tplatform\tad_cost\ttarget_audience_count\tuser_id\tfull_date\n",
    "527124\t112583\t1554480636\tview\t2019-04-05\tCPM\t0\t111818\t112260\tweb\t199.4\t239408\t4355\t2019-04-05 16:10:36"
   ]
  },
  {
   "cell_type": "code",
   "execution_count": null,
   "id": "14a188b1-e85d-45ce-9a00-bbcd3ac2b9f2",
   "metadata": {},
   "outputs": [],
   "source": []
  },
  {
   "cell_type": "code",
   "execution_count": null,
   "id": "4bc4d169-a64e-4b68-88bd-e996fd3266e3",
   "metadata": {},
   "outputs": [],
   "source": [
    "# Найти топ 10 объявлений по CTR за все время. CTR — это отношение всех просмотров объявления к кликам. \n",
    "# Например, если у объявления было 100 показов и 2 клика, CTR = 0.02. \n",
    "# Различается ли средний и медианный CTR объявлений в наших данных?"
   ]
  },
  {
   "cell_type": "code",
   "execution_count": 38,
   "id": "c7fa75a3-f4fd-42f3-9784-cabbf8d53fdb",
   "metadata": {},
   "outputs": [],
   "source": [
    "ads_data_by_ad = ads_data.groupby(['ad_id', 'event'], as_index=False) \\\n",
    "    .agg({'time': 'count'}) \\\n",
    "    .pivot(index='ad_id', columns='event', values='time').reset_index()"
   ]
  },
  {
   "cell_type": "code",
   "execution_count": 40,
   "id": "21731219-a183-4637-93e0-f1ad77eef9b7",
   "metadata": {},
   "outputs": [],
   "source": [
    "ads_data_by_ad = ads_data_by_ad.assign(ctr = ads_data_by_ad.click / ads_data_by_ad.view, \n",
    "                           ctr_per = 100 * ads_data_by_ad.click / ads_data_by_ad.view)\n",
    "# метод assign - создание колонок в df с уканием её логики. Плюс метода: создание множества колонок через запятую\n"
   ]
  },
  {
   "cell_type": "code",
   "execution_count": null,
   "id": "aeb36ac7-537e-4c0f-9c18-edade85b6d65",
   "metadata": {},
   "outputs": [],
   "source": [
    "ads_data_by_ad.sort_values('ctr', ascending=False).head(10)"
   ]
  },
  {
   "cell_type": "markdown",
   "id": "63ad4cda-b1a6-4ba0-a682-06aafa70f8c2",
   "metadata": {},
   "source": [
    "event\tad_id\tclick\tview\tctr\tctr_per\n",
    "289\t112583\t580436.0\t1934788.0\t0.300000\t29.999979\n",
    "324\t119450\t258.0\t1254.0\t0.205742\t20.574163\n",
    "125\t38575\t43.0\t257.0\t0.167315\t16.731518\n",
    "144\t40968\t29.0\t217.0\t0.133641\t13.364055\n",
    "207\t45642\t42.0\t344.0\t0.122093\t12.209302\n",
    "283\t110924\t11.0\t95.0\t0.115789\t11.578947\n",
    "194\t45043\t28.0\t245.0\t0.114286\t11.428571\n",
    "96\t35034\t112.0\t997.0\t0.112337\t11.233701\n",
    "5\t4585\t53.0\t476.0\t0.111345\t11.134454\n",
    "328\t120347\t236.0\t2168.0\t0.108856\t10.885609"
   ]
  },
  {
   "cell_type": "code",
   "execution_count": null,
   "id": "9f379754-38ed-4d9c-95c8-39ec24406948",
   "metadata": {},
   "outputs": [],
   "source": [
    "ads_data_by_ad.ctr.mean()\n",
    "#  0.020628096080757954"
   ]
  },
  {
   "cell_type": "code",
   "execution_count": null,
   "id": "ed8f31c2-5235-44d2-bd3f-7af8d833f7ab",
   "metadata": {},
   "outputs": [],
   "source": [
    "ads_data_by_ad.ctr.median()\n",
    "# 0.010753240746688594"
   ]
  },
  {
   "cell_type": "code",
   "execution_count": null,
   "id": "aca6e75a-88b9-4f83-95e0-b5adabe242c0",
   "metadata": {},
   "outputs": [],
   "source": [
    "sns.distplot(ads_data_by_ad.ctr, kde=False)\n",
    "# sns.distplot - рисует распределение, kde=False - отключить линию "
   ]
  },
  {
   "cell_type": "code",
   "execution_count": null,
   "id": "b1c4fb4a-6f5d-4baf-8f76-69d20a7e3a05",
   "metadata": {},
   "outputs": [],
   "source": []
  },
  {
   "cell_type": "code",
   "execution_count": null,
   "id": "36784a21-8d0d-4efa-b015-89d5e4444f69",
   "metadata": {},
   "outputs": [],
   "source": [
    "# Похоже, в наших логах есть баг, объявления приходят с кликами, но без показов! \n",
    "# Сколько таких объявлений, есть ли какие-то закономерности? Эта проблема наблюдается на всех платформах?"
   ]
  },
  {
   "cell_type": "code",
   "execution_count": null,
   "id": "a09ed4a1-874b-4f85-ae00-302d84c49d51",
   "metadata": {},
   "outputs": [],
   "source": [
    "ads_data_by_ad = ads_data_by_ad.fillna(0)\n",
    "# fillna(0) - заполнить пустые значения NaN каким-то значением (в данном случае: 0)"
   ]
  },
  {
   "cell_type": "code",
   "execution_count": null,
   "id": "d01d7644-29d3-42f1-b042-175daa7ba05e",
   "metadata": {},
   "outputs": [],
   "source": [
    "ads_ids_bug = ads_data_by_ad.query('click == 0').ad_id"
   ]
  },
  {
   "cell_type": "code",
   "execution_count": null,
   "id": "f66407a2-2705-440c-a263-f3aed0255011",
   "metadata": {},
   "outputs": [],
   "source": [
    "ads_data[ads_data.ad_id.isin(ads_ids_bug)] \\\n",
    "    .groupby('platform', as_index=False) \\\n",
    "    .agg({'ad_id': 'count'}) \\\n",
    "    .sort_values('ad_id')\\\n",
    "    .rename(columns = {'ad_id':'bugs_count'})"
   ]
  },
  {
   "cell_type": "markdown",
   "id": "13f0ba76-f559-4e7c-849a-4273e11fdb89",
   "metadata": {},
   "source": [
    "|\tplatform\t| bugs_count |\n",
    "| --- | ---|\n",
    "| web\t| 1988 |\n",
    "| ios\t| 3075 | \n",
    "|android | 4906|\n",
    "\n"
   ]
  },
  {
   "cell_type": "markdown",
   "id": "a9a2548e-0f26-49b9-b08e-2d5b768f96b1",
   "metadata": {},
   "source": [
    "Багов на платформе android больше, но чтобы судить о самой проблемной платформе, нужно знать а каково было распределение\n",
    "общего количества устройств к багам. "
   ]
  },
  {
   "cell_type": "code",
   "execution_count": null,
   "id": "8df1e006-ba68-4ca0-a0b5-b14991a2837f",
   "metadata": {},
   "outputs": [],
   "source": [
    "ads_data \\\n",
    "    .groupby('platform', as_index=False) \\\n",
    "    .agg({'ad_id': 'count'}) \\\n",
    "    .sort_values('ad_id')"
   ]
  },
  {
   "cell_type": "markdown",
   "id": "a895b045-c195-4d5b-a9b6-a42a2468cbf1",
   "metadata": {},
   "source": [
    "|platform | ad_id   |\n",
    "| ---     | ---     |\n",
    "| web\t  | 635425  |\n",
    "| ios\t  | 953078  |\n",
    "| android |\t1588211 |"
   ]
  },
  {
   "cell_type": "markdown",
   "id": "63ae5c02-89e1-4c44-be4e-438a3dd0699d",
   "metadata": {},
   "source": [
    "Багов на платформе android больше, но и общее количество устройств на android тоже больше. Первое утверждение что android каличи ещё не подтверждается."
   ]
  },
  {
   "cell_type": "code",
   "execution_count": null,
   "id": "309de349-94d9-4eb8-9ff4-66ee74a7136b",
   "metadata": {},
   "outputs": [],
   "source": [
    "# Есть ли различия в CTR у объявлений с видео и без? А чему равняется 95 процентиль CTR по всем объявлениям за 2019-04-04?"
   ]
  },
  {
   "cell_type": "code",
   "execution_count": null,
   "id": "3062efdf-4175-4235-a2d9-609e356bd9ce",
   "metadata": {},
   "outputs": [],
   "source": [
    "df_2019_04_04 =  ads_data[ads_data.date == '2019-04-04']\\\n",
    "                            .groupby(['ad_id', 'event'], as_index=False) \\\n",
    "                            .agg({'time': 'count'}) \\\n",
    "                            .pivot(index='ad_id', columns='event', values='time').reset_index() \\\n",
    "                            .fillna(0)"
   ]
  },
  {
   "cell_type": "code",
   "execution_count": null,
   "id": "4e47a88b-09e7-40da-8dc2-b90d49bbb1dd",
   "metadata": {},
   "outputs": [],
   "source": [
    "df_2019_04_04['ctr'] = df_2019_04_04.click / df_2019_04_04.view"
   ]
  },
  {
   "cell_type": "code",
   "execution_count": null,
   "id": "2f468a3e-59f9-4d5f-a5cb-7fcd7cba4cb3",
   "metadata": {},
   "outputs": [],
   "source": [
    "df_2019_04_04[df_2019_04_04.click > 0].ctr.quantile(q=0.95)\n",
    "# 0.10211538461538454"
   ]
  },
  {
   "cell_type": "code",
   "execution_count": null,
   "id": "1c5daa36-d519-4f77-826a-04ee9c0e0945",
   "metadata": {},
   "outputs": [],
   "source": []
  },
  {
   "cell_type": "code",
   "execution_count": null,
   "id": "031fc278-9e02-494c-9208-d2a97b8e0db7",
   "metadata": {},
   "outputs": [],
   "source": [
    "# Для финансового отчета нужно рассчитать наш заработок по дням. \n",
    "# В какой день мы заработали больше всего? В какой меньше? \n",
    "# Мы списываем с клиентов деньги, если произошел клик по CPC объявлению, \n",
    "# и мы списываем деньги за каждый показ CPM объявления, если у \n",
    "# CPM объявления цена - 200 рублей, то за один показ мы зарабатываем 200 / 1000.\n",
    "# Какая платформа самая популярная для размещения рекламных объявлений? \n",
    "# Сколько процентов показов приходится на каждую из платформ (колонка platform)?"
   ]
  },
  {
   "cell_type": "code",
   "execution_count": null,
   "id": "38e36b31-6e81-47b2-8e15-c19c67236905",
   "metadata": {},
   "outputs": [],
   "source": [
    "x = pd.Series([1, 2, 3])"
   ]
  },
  {
   "cell_type": "code",
   "execution_count": null,
   "id": "f1e4046d-e0d1-47d4-a89b-ef31fafd4fd5",
   "metadata": {},
   "outputs": [],
   "source": [
    "ads_data[(ads_data.ad_cost_type == 'CPC') &  (ads_data.event == 'click')].ad_cost.sum()\n",
    "# Стоимость за всё время всех платных кликов объявлений = 84810.0"
   ]
  },
  {
   "cell_type": "code",
   "execution_count": null,
   "id": "55ba4e90-fc76-4f69-b604-3e5c26cda1d6",
   "metadata": {},
   "outputs": [],
   "source": [
    "ads_data[(ads_data.ad_cost_type == 'CPM') &  (ads_data.event == 'view')].ad_cost.sum() / 1000\n",
    "# 497090.6778000003\n",
    "# Стоимость за всё время всех платных показов (оплачиваются 1 000 показов)"
   ]
  },
  {
   "cell_type": "code",
   "execution_count": null,
   "id": "db182ad8-fa37-4111-81bf-155d2eff6b97",
   "metadata": {},
   "outputs": [],
   "source": []
  },
  {
   "cell_type": "code",
   "execution_count": null,
   "id": "5b033dca-8516-415d-a70a-b7323f3b174d",
   "metadata": {},
   "outputs": [],
   "source": [
    "# А есть ли такие объявления, по которым сначала произошел клик, а только потом показ?"
   ]
  },
  {
   "cell_type": "code",
   "execution_count": null,
   "id": "fe51d783-3bce-4f44-a2d4-45ad13ef2d8e",
   "metadata": {},
   "outputs": [],
   "source": [
    "ads_data.groupby(['ad_id', 'event'], as_index=False) \\\n",
    "    .agg({'time': 'min'}) \\\n",
    "    .pivot(index='ad_id', columns='event', values='time').reset_index() \\\n",
    "    .query('click < view')"
   ]
  },
  {
   "cell_type": "markdown",
   "id": "55b43a2a-2cbe-4bf8-89a4-286325b8d146",
   "metadata": {},
   "source": [
    "event\tad_id\tclick\tview\n",
    "27\t16548\t1.554336e+09\t1.554336e+09\n",
    "81\t30939\t1.554165e+09\t1.554173e+09\n",
    "138\t40464\t1.554164e+09\t1.554164e+09\n",
    "158\t42007\t1.554423e+09\t1.554423e+09\n",
    "185\t44543\t1.554336e+09\t1.554337e+09\n",
    "201\t45436\t1.554336e+09\t1.554336e+09\n",
    "324\t119450\t1.554336e+09\t1.554336e+09"
   ]
  },
  {
   "cell_type": "code",
   "execution_count": null,
   "id": "b813c59f-05c5-4bc4-834a-76d15273f7ac",
   "metadata": {},
   "outputs": [],
   "source": [
    "ads_data[ads_data.ad_id == 16548].sort_values('time')"
   ]
  },
  {
   "cell_type": "markdown",
   "id": "e93c9b98-ddcc-428b-9a25-d6ef8be2692b",
   "metadata": {},
   "source": [
    "\tad_id\ttime\tevent\tdate\tad_cost_type\thas_video\tclient_union_id\tcampaign_union_id\tplatform\tad_cost\ttarget_audience_count\tuser_id\tfull_date\n",
    "512690\t16548\t1554336083\tclick\t2019-04-04\tCPM\t0\t722\t16523\tios\t196.6\t53199\t4133\t2019-04-04 00:01:23\n",
    "511482\t16548\t1554336278\tview\t2019-04-04\tCPM\t0\t722\t16523\tandroid\t196.6\t53199\t3736\t2019-04-04 00:04:38\n",
    "511439\t16548\t1554336352\tview\t2019-04-04\tCPM\t0\t722\t16523\tandroid\t196.6\t53199\t4968\t2019-04-04 00:05:52"
   ]
  }
 ],
 "metadata": {
  "kernelspec": {
   "display_name": "Python 3 (ipykernel)",
   "language": "python",
   "name": "python3"
  },
  "language_info": {
   "codemirror_mode": {
    "name": "ipython",
    "version": 3
   },
   "file_extension": ".py",
   "mimetype": "text/x-python",
   "name": "python",
   "nbconvert_exporter": "python",
   "pygments_lexer": "ipython3",
   "version": "3.12.4"
  }
 },
 "nbformat": 4,
 "nbformat_minor": 5
}
