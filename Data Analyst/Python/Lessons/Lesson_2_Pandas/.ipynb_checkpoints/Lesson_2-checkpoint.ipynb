{
 "cells": [
  {
   "cell_type": "markdown",
   "id": "1275ec75",
   "metadata": {},
   "source": [
    "# Karpov courses\n",
    "\n",
    "### Lesson_2"
   ]
  },
  {
   "cell_type": "markdown",
   "id": "9de4cc7e",
   "metadata": {},
   "source": [
    "источник доп информации - документация pandas: pandas.DataFrame/ атрибуты и методы "
   ]
  },
  {
   "cell_type": "code",
   "execution_count": 143,
   "id": "c82bbf70",
   "metadata": {},
   "outputs": [],
   "source": [
    "import pandas as pd\n",
    "from datetime import datetime"
   ]
  },
  {
   "cell_type": "code",
   "execution_count": 15,
   "id": "e84d134a",
   "metadata": {},
   "outputs": [],
   "source": [
    "df = pd.read_csv('d:COURSES/Анатолий Карпов/Твой путь в мир Data Analytics. Часть 1 (2020)/2/Лекции/lesson_1_data.csv',\n",
    "                 encoding='windows-1251',\n",
    "                 sep = ';')"
   ]
  },
  {
   "cell_type": "code",
   "execution_count": 16,
   "id": "bb3a5037",
   "metadata": {},
   "outputs": [
    {
     "data": {
      "text/html": [
       "<div>\n",
       "<style scoped>\n",
       "    .dataframe tbody tr th:only-of-type {\n",
       "        vertical-align: middle;\n",
       "    }\n",
       "\n",
       "    .dataframe tbody tr th {\n",
       "        vertical-align: top;\n",
       "    }\n",
       "\n",
       "    .dataframe thead th {\n",
       "        text-align: right;\n",
       "    }\n",
       "</style>\n",
       "<table border=\"1\" class=\"dataframe\">\n",
       "  <thead>\n",
       "    <tr style=\"text-align: right;\">\n",
       "      <th></th>\n",
       "      <th>Номер</th>\n",
       "      <th>Дата создания</th>\n",
       "      <th>Дата оплаты</th>\n",
       "      <th>Title</th>\n",
       "      <th>Статус</th>\n",
       "      <th>Заработано</th>\n",
       "      <th>Город</th>\n",
       "      <th>Платежная система</th>\n",
       "    </tr>\n",
       "  </thead>\n",
       "  <tbody>\n",
       "    <tr>\n",
       "      <th>0</th>\n",
       "      <td>1062823</td>\n",
       "      <td>01.12.2019 10:50</td>\n",
       "      <td>01.12.2019 10:52</td>\n",
       "      <td>Курс обучения «Эксперт»</td>\n",
       "      <td>Завершен</td>\n",
       "      <td>29597.50</td>\n",
       "      <td>Чита</td>\n",
       "      <td>Сбербанк эквайринг</td>\n",
       "    </tr>\n",
       "    <tr>\n",
       "      <th>1</th>\n",
       "      <td>1062855</td>\n",
       "      <td>01.12.2019 20:53</td>\n",
       "      <td>01.12.2019 21:27</td>\n",
       "      <td>Курс обучения «Эксперт»</td>\n",
       "      <td>Завершен</td>\n",
       "      <td>17450.30</td>\n",
       "      <td>Краснодар</td>\n",
       "      <td>Яндекс.Касса</td>\n",
       "    </tr>\n",
       "    <tr>\n",
       "      <th>2</th>\n",
       "      <td>1062856</td>\n",
       "      <td>01.12.2019 21:43</td>\n",
       "      <td>NaN</td>\n",
       "      <td>Курс обучения «Специалист»</td>\n",
       "      <td>Отменен</td>\n",
       "      <td>0.00</td>\n",
       "      <td>NaN</td>\n",
       "      <td>NaN</td>\n",
       "    </tr>\n",
       "    <tr>\n",
       "      <th>3</th>\n",
       "      <td>1062880</td>\n",
       "      <td>03.12.2019 0:18</td>\n",
       "      <td>NaN</td>\n",
       "      <td>Курс обучения «Консультант»</td>\n",
       "      <td>Отменен</td>\n",
       "      <td>0.00</td>\n",
       "      <td>г.Москва и Московская область</td>\n",
       "      <td>NaN</td>\n",
       "    </tr>\n",
       "    <tr>\n",
       "      <th>4</th>\n",
       "      <td>1062899</td>\n",
       "      <td>03.12.2019 21:43</td>\n",
       "      <td>NaN</td>\n",
       "      <td>Курс обучения «Эксперт»</td>\n",
       "      <td>Отменен</td>\n",
       "      <td>0.00</td>\n",
       "      <td>г.Москва и Московская область</td>\n",
       "      <td>NaN</td>\n",
       "    </tr>\n",
       "    <tr>\n",
       "      <th>...</th>\n",
       "      <td>...</td>\n",
       "      <td>...</td>\n",
       "      <td>...</td>\n",
       "      <td>...</td>\n",
       "      <td>...</td>\n",
       "      <td>...</td>\n",
       "      <td>...</td>\n",
       "      <td>...</td>\n",
       "    </tr>\n",
       "    <tr>\n",
       "      <th>287</th>\n",
       "      <td>1064720</td>\n",
       "      <td>30.12.2019 9:42</td>\n",
       "      <td>30.12.2019 12:49</td>\n",
       "      <td>Подписка «ОНЛАЙН ДИЕТОЛОГ» с ежемесячным автос...</td>\n",
       "      <td>Завершен</td>\n",
       "      <td>2935.44</td>\n",
       "      <td>Самарская область</td>\n",
       "      <td>Яндекс.Касса</td>\n",
       "    </tr>\n",
       "    <tr>\n",
       "      <th>288</th>\n",
       "      <td>1064724</td>\n",
       "      <td>30.12.2019 11:32</td>\n",
       "      <td>NaN</td>\n",
       "      <td>Курс обучения «Консультант»</td>\n",
       "      <td>Отменен</td>\n",
       "      <td>0.00</td>\n",
       "      <td>NaN</td>\n",
       "      <td>NaN</td>\n",
       "    </tr>\n",
       "    <tr>\n",
       "      <th>289</th>\n",
       "      <td>1064775</td>\n",
       "      <td>31.12.2019 2:17</td>\n",
       "      <td>31.12.2019 2:22</td>\n",
       "      <td>Курс обучения «Консультант»</td>\n",
       "      <td>Завершен</td>\n",
       "      <td>7423.92</td>\n",
       "      <td>NaN</td>\n",
       "      <td>Сбербанк эквайринг,Бонусный счет</td>\n",
       "    </tr>\n",
       "    <tr>\n",
       "      <th>290</th>\n",
       "      <td>1064793</td>\n",
       "      <td>31.12.2019 16:40</td>\n",
       "      <td>01.01.2020 14:29</td>\n",
       "      <td>Подписка «ОНЛАЙН ДИЕТОЛОГ» с ежемесячным автос...</td>\n",
       "      <td>Завершен</td>\n",
       "      <td>2935.44</td>\n",
       "      <td>Республика Карелия</td>\n",
       "      <td>Яндекс.Касса</td>\n",
       "    </tr>\n",
       "    <tr>\n",
       "      <th>291</th>\n",
       "      <td>1064796</td>\n",
       "      <td>31.12.2019 17:29</td>\n",
       "      <td>31.12.2019 17:32</td>\n",
       "      <td>Курс от Школы Диетологов. Повышение квалификац...</td>\n",
       "      <td>Завершен</td>\n",
       "      <td>9898.56</td>\n",
       "      <td>Уфа</td>\n",
       "      <td>Сбербанк эквайринг,Бонусный счет</td>\n",
       "    </tr>\n",
       "  </tbody>\n",
       "</table>\n",
       "<p>292 rows × 8 columns</p>\n",
       "</div>"
      ],
      "text/plain": [
       "       Номер     Дата создания       Дата оплаты  \\\n",
       "0    1062823  01.12.2019 10:50  01.12.2019 10:52   \n",
       "1    1062855  01.12.2019 20:53  01.12.2019 21:27   \n",
       "2    1062856  01.12.2019 21:43               NaN   \n",
       "3    1062880   03.12.2019 0:18               NaN   \n",
       "4    1062899  03.12.2019 21:43               NaN   \n",
       "..       ...               ...               ...   \n",
       "287  1064720   30.12.2019 9:42  30.12.2019 12:49   \n",
       "288  1064724  30.12.2019 11:32               NaN   \n",
       "289  1064775   31.12.2019 2:17   31.12.2019 2:22   \n",
       "290  1064793  31.12.2019 16:40  01.01.2020 14:29   \n",
       "291  1064796  31.12.2019 17:29  31.12.2019 17:32   \n",
       "\n",
       "                                                 Title    Статус  Заработано  \\\n",
       "0                              Курс обучения «Эксперт»  Завершен    29597.50   \n",
       "1                              Курс обучения «Эксперт»  Завершен    17450.30   \n",
       "2                           Курс обучения «Специалист»   Отменен        0.00   \n",
       "3                          Курс обучения «Консультант»   Отменен        0.00   \n",
       "4                              Курс обучения «Эксперт»   Отменен        0.00   \n",
       "..                                                 ...       ...         ...   \n",
       "287  Подписка «ОНЛАЙН ДИЕТОЛОГ» с ежемесячным автос...  Завершен     2935.44   \n",
       "288                        Курс обучения «Консультант»   Отменен        0.00   \n",
       "289                        Курс обучения «Консультант»  Завершен     7423.92   \n",
       "290  Подписка «ОНЛАЙН ДИЕТОЛОГ» с ежемесячным автос...  Завершен     2935.44   \n",
       "291  Курс от Школы Диетологов. Повышение квалификац...  Завершен     9898.56   \n",
       "\n",
       "                             Город                 Платежная система  \n",
       "0                             Чита                Сбербанк эквайринг  \n",
       "1                        Краснодар                      Яндекс.Касса  \n",
       "2                              NaN                               NaN  \n",
       "3    г.Москва и Московская область                               NaN  \n",
       "4    г.Москва и Московская область                               NaN  \n",
       "..                             ...                               ...  \n",
       "287              Самарская область                      Яндекс.Касса  \n",
       "288                            NaN                               NaN  \n",
       "289                            NaN  Сбербанк эквайринг,Бонусный счет  \n",
       "290             Республика Карелия                      Яндекс.Касса  \n",
       "291                            Уфа  Сбербанк эквайринг,Бонусный счет  \n",
       "\n",
       "[292 rows x 8 columns]"
      ]
     },
     "execution_count": 16,
     "metadata": {},
     "output_type": "execute_result"
    }
   ],
   "source": [
    "df"
   ]
  },
  {
   "cell_type": "code",
   "execution_count": null,
   "id": "c291852d",
   "metadata": {},
   "outputs": [],
   "source": []
  },
  {
   "cell_type": "code",
   "execution_count": 27,
   "id": "5fc716f4",
   "metadata": {
    "scrolled": true
   },
   "outputs": [
    {
     "data": {
      "text/html": [
       "<div>\n",
       "<style scoped>\n",
       "    .dataframe tbody tr th:only-of-type {\n",
       "        vertical-align: middle;\n",
       "    }\n",
       "\n",
       "    .dataframe tbody tr th {\n",
       "        vertical-align: top;\n",
       "    }\n",
       "\n",
       "    .dataframe thead th {\n",
       "        text-align: right;\n",
       "    }\n",
       "</style>\n",
       "<table border=\"1\" class=\"dataframe\">\n",
       "  <thead>\n",
       "    <tr style=\"text-align: right;\">\n",
       "      <th></th>\n",
       "      <th>Номер</th>\n",
       "      <th>Дата создания</th>\n",
       "      <th>Дата оплаты</th>\n",
       "      <th>Title</th>\n",
       "      <th>Статус</th>\n",
       "      <th>Заработано</th>\n",
       "      <th>Город</th>\n",
       "      <th>Платежная система</th>\n",
       "    </tr>\n",
       "  </thead>\n",
       "  <tbody>\n",
       "    <tr>\n",
       "      <th>0</th>\n",
       "      <td>1062823</td>\n",
       "      <td>01.12.2019 10:50</td>\n",
       "      <td>01.12.2019 10:52</td>\n",
       "      <td>Курс обучения «Эксперт»</td>\n",
       "      <td>Завершен</td>\n",
       "      <td>29597.5</td>\n",
       "      <td>Чита</td>\n",
       "      <td>Сбербанк эквайринг</td>\n",
       "    </tr>\n",
       "    <tr>\n",
       "      <th>1</th>\n",
       "      <td>1062855</td>\n",
       "      <td>01.12.2019 20:53</td>\n",
       "      <td>01.12.2019 21:27</td>\n",
       "      <td>Курс обучения «Эксперт»</td>\n",
       "      <td>Завершен</td>\n",
       "      <td>17450.3</td>\n",
       "      <td>Краснодар</td>\n",
       "      <td>Яндекс.Касса</td>\n",
       "    </tr>\n",
       "    <tr>\n",
       "      <th>2</th>\n",
       "      <td>1062856</td>\n",
       "      <td>01.12.2019 21:43</td>\n",
       "      <td>NaN</td>\n",
       "      <td>Курс обучения «Специалист»</td>\n",
       "      <td>Отменен</td>\n",
       "      <td>0.0</td>\n",
       "      <td>NaN</td>\n",
       "      <td>NaN</td>\n",
       "    </tr>\n",
       "    <tr>\n",
       "      <th>3</th>\n",
       "      <td>1062880</td>\n",
       "      <td>03.12.2019 0:18</td>\n",
       "      <td>NaN</td>\n",
       "      <td>Курс обучения «Консультант»</td>\n",
       "      <td>Отменен</td>\n",
       "      <td>0.0</td>\n",
       "      <td>г.Москва и Московская область</td>\n",
       "      <td>NaN</td>\n",
       "    </tr>\n",
       "    <tr>\n",
       "      <th>4</th>\n",
       "      <td>1062899</td>\n",
       "      <td>03.12.2019 21:43</td>\n",
       "      <td>NaN</td>\n",
       "      <td>Курс обучения «Эксперт»</td>\n",
       "      <td>Отменен</td>\n",
       "      <td>0.0</td>\n",
       "      <td>г.Москва и Московская область</td>\n",
       "      <td>NaN</td>\n",
       "    </tr>\n",
       "  </tbody>\n",
       "</table>\n",
       "</div>"
      ],
      "text/plain": [
       "     Номер     Дата создания       Дата оплаты                        Title  \\\n",
       "0  1062823  01.12.2019 10:50  01.12.2019 10:52      Курс обучения «Эксперт»   \n",
       "1  1062855  01.12.2019 20:53  01.12.2019 21:27      Курс обучения «Эксперт»   \n",
       "2  1062856  01.12.2019 21:43               NaN   Курс обучения «Специалист»   \n",
       "3  1062880   03.12.2019 0:18               NaN  Курс обучения «Консультант»   \n",
       "4  1062899  03.12.2019 21:43               NaN      Курс обучения «Эксперт»   \n",
       "\n",
       "     Статус  Заработано                          Город   Платежная система  \n",
       "0  Завершен     29597.5                           Чита  Сбербанк эквайринг  \n",
       "1  Завершен     17450.3                      Краснодар        Яндекс.Касса  \n",
       "2   Отменен         0.0                            NaN                 NaN  \n",
       "3   Отменен         0.0  г.Москва и Московская область                 NaN  \n",
       "4   Отменен         0.0  г.Москва и Московская область                 NaN  "
      ]
     },
     "execution_count": 27,
     "metadata": {},
     "output_type": "execute_result"
    }
   ],
   "source": [
    "df.head() # пять или иное () кол-во значений сверху таблицы"
   ]
  },
  {
   "cell_type": "markdown",
   "id": "50dda111",
   "metadata": {},
   "source": [
    " - пять или иное () кол-во значений СВЕРХУ таблицы"
   ]
  },
  {
   "cell_type": "code",
   "execution_count": 26,
   "id": "09b988d2",
   "metadata": {},
   "outputs": [
    {
     "data": {
      "text/html": [
       "<div>\n",
       "<style scoped>\n",
       "    .dataframe tbody tr th:only-of-type {\n",
       "        vertical-align: middle;\n",
       "    }\n",
       "\n",
       "    .dataframe tbody tr th {\n",
       "        vertical-align: top;\n",
       "    }\n",
       "\n",
       "    .dataframe thead th {\n",
       "        text-align: right;\n",
       "    }\n",
       "</style>\n",
       "<table border=\"1\" class=\"dataframe\">\n",
       "  <thead>\n",
       "    <tr style=\"text-align: right;\">\n",
       "      <th></th>\n",
       "      <th>Номер</th>\n",
       "      <th>Дата создания</th>\n",
       "      <th>Дата оплаты</th>\n",
       "      <th>Title</th>\n",
       "      <th>Статус</th>\n",
       "      <th>Заработано</th>\n",
       "      <th>Город</th>\n",
       "      <th>Платежная система</th>\n",
       "    </tr>\n",
       "  </thead>\n",
       "  <tbody>\n",
       "    <tr>\n",
       "      <th>287</th>\n",
       "      <td>1064720</td>\n",
       "      <td>30.12.2019 9:42</td>\n",
       "      <td>30.12.2019 12:49</td>\n",
       "      <td>Подписка «ОНЛАЙН ДИЕТОЛОГ» с ежемесячным автос...</td>\n",
       "      <td>Завершен</td>\n",
       "      <td>2935.44</td>\n",
       "      <td>Самарская область</td>\n",
       "      <td>Яндекс.Касса</td>\n",
       "    </tr>\n",
       "    <tr>\n",
       "      <th>288</th>\n",
       "      <td>1064724</td>\n",
       "      <td>30.12.2019 11:32</td>\n",
       "      <td>NaN</td>\n",
       "      <td>Курс обучения «Консультант»</td>\n",
       "      <td>Отменен</td>\n",
       "      <td>0.00</td>\n",
       "      <td>NaN</td>\n",
       "      <td>NaN</td>\n",
       "    </tr>\n",
       "    <tr>\n",
       "      <th>289</th>\n",
       "      <td>1064775</td>\n",
       "      <td>31.12.2019 2:17</td>\n",
       "      <td>31.12.2019 2:22</td>\n",
       "      <td>Курс обучения «Консультант»</td>\n",
       "      <td>Завершен</td>\n",
       "      <td>7423.92</td>\n",
       "      <td>NaN</td>\n",
       "      <td>Сбербанк эквайринг,Бонусный счет</td>\n",
       "    </tr>\n",
       "    <tr>\n",
       "      <th>290</th>\n",
       "      <td>1064793</td>\n",
       "      <td>31.12.2019 16:40</td>\n",
       "      <td>01.01.2020 14:29</td>\n",
       "      <td>Подписка «ОНЛАЙН ДИЕТОЛОГ» с ежемесячным автос...</td>\n",
       "      <td>Завершен</td>\n",
       "      <td>2935.44</td>\n",
       "      <td>Республика Карелия</td>\n",
       "      <td>Яндекс.Касса</td>\n",
       "    </tr>\n",
       "    <tr>\n",
       "      <th>291</th>\n",
       "      <td>1064796</td>\n",
       "      <td>31.12.2019 17:29</td>\n",
       "      <td>31.12.2019 17:32</td>\n",
       "      <td>Курс от Школы Диетологов. Повышение квалификац...</td>\n",
       "      <td>Завершен</td>\n",
       "      <td>9898.56</td>\n",
       "      <td>Уфа</td>\n",
       "      <td>Сбербанк эквайринг,Бонусный счет</td>\n",
       "    </tr>\n",
       "  </tbody>\n",
       "</table>\n",
       "</div>"
      ],
      "text/plain": [
       "       Номер     Дата создания       Дата оплаты  \\\n",
       "287  1064720   30.12.2019 9:42  30.12.2019 12:49   \n",
       "288  1064724  30.12.2019 11:32               NaN   \n",
       "289  1064775   31.12.2019 2:17   31.12.2019 2:22   \n",
       "290  1064793  31.12.2019 16:40  01.01.2020 14:29   \n",
       "291  1064796  31.12.2019 17:29  31.12.2019 17:32   \n",
       "\n",
       "                                                 Title    Статус  Заработано  \\\n",
       "287  Подписка «ОНЛАЙН ДИЕТОЛОГ» с ежемесячным автос...  Завершен     2935.44   \n",
       "288                        Курс обучения «Консультант»   Отменен        0.00   \n",
       "289                        Курс обучения «Консультант»  Завершен     7423.92   \n",
       "290  Подписка «ОНЛАЙН ДИЕТОЛОГ» с ежемесячным автос...  Завершен     2935.44   \n",
       "291  Курс от Школы Диетологов. Повышение квалификац...  Завершен     9898.56   \n",
       "\n",
       "                  Город                 Платежная система  \n",
       "287   Самарская область                      Яндекс.Касса  \n",
       "288                 NaN                               NaN  \n",
       "289                 NaN  Сбербанк эквайринг,Бонусный счет  \n",
       "290  Республика Карелия                      Яндекс.Касса  \n",
       "291                 Уфа  Сбербанк эквайринг,Бонусный счет  "
      ]
     },
     "execution_count": 26,
     "metadata": {},
     "output_type": "execute_result"
    }
   ],
   "source": [
    "df.tail() # пять или иное () кол-во значений снизу таблицы"
   ]
  },
  {
   "cell_type": "markdown",
   "id": "f5836d55",
   "metadata": {},
   "source": [
    "- пять или иное () кол-во значений СНИЗУ таблицы"
   ]
  },
  {
   "cell_type": "markdown",
   "id": "7cd94bf1",
   "metadata": {},
   "source": [
    "т.к. номер последнего индекса 291 => всего наблюдений в таблице 292 (т.к. первый индекс нумеруется с 0)"
   ]
  },
  {
   "cell_type": "code",
   "execution_count": null,
   "id": "47850972",
   "metadata": {},
   "outputs": [],
   "source": []
  },
  {
   "cell_type": "code",
   "execution_count": 31,
   "id": "9f731184",
   "metadata": {},
   "outputs": [
    {
     "data": {
      "text/plain": [
       "(292, 8)"
      ]
     },
     "execution_count": 31,
     "metadata": {},
     "output_type": "execute_result"
    }
   ],
   "source": [
    "df.shape"
   ]
  },
  {
   "cell_type": "markdown",
   "id": "df6155b1",
   "metadata": {},
   "source": [
    "- атрибут, выдает размерность нашей таблицы: (строки, столбцы)"
   ]
  },
  {
   "cell_type": "code",
   "execution_count": 33,
   "id": "b7f59b76",
   "metadata": {},
   "outputs": [
    {
     "data": {
      "text/plain": [
       "Номер                  int64\n",
       "Дата создания         object\n",
       "Дата оплаты           object\n",
       "Title                 object\n",
       "Статус                object\n",
       "Заработано           float64\n",
       "Город                 object\n",
       "Платежная система     object\n",
       "dtype: object"
      ]
     },
     "execution_count": 33,
     "metadata": {},
     "output_type": "execute_result"
    }
   ],
   "source": [
    "df.dtypes"
   ]
  },
  {
   "cell_type": "markdown",
   "id": "0044e47c",
   "metadata": {},
   "source": [
    "- атрибут, выдающий типы данных в колонках"
   ]
  },
  {
   "cell_type": "code",
   "execution_count": 36,
   "id": "ef60496a",
   "metadata": {},
   "outputs": [
    {
     "data": {
      "text/html": [
       "<div>\n",
       "<style scoped>\n",
       "    .dataframe tbody tr th:only-of-type {\n",
       "        vertical-align: middle;\n",
       "    }\n",
       "\n",
       "    .dataframe tbody tr th {\n",
       "        vertical-align: top;\n",
       "    }\n",
       "\n",
       "    .dataframe thead th {\n",
       "        text-align: right;\n",
       "    }\n",
       "</style>\n",
       "<table border=\"1\" class=\"dataframe\">\n",
       "  <thead>\n",
       "    <tr style=\"text-align: right;\">\n",
       "      <th></th>\n",
       "      <th>Номер</th>\n",
       "      <th>Заработано</th>\n",
       "    </tr>\n",
       "  </thead>\n",
       "  <tbody>\n",
       "    <tr>\n",
       "      <th>count</th>\n",
       "      <td>2.920000e+02</td>\n",
       "      <td>292.000000</td>\n",
       "    </tr>\n",
       "    <tr>\n",
       "      <th>mean</th>\n",
       "      <td>1.063745e+06</td>\n",
       "      <td>3397.615034</td>\n",
       "    </tr>\n",
       "    <tr>\n",
       "      <th>std</th>\n",
       "      <td>4.438688e+02</td>\n",
       "      <td>5771.572829</td>\n",
       "    </tr>\n",
       "    <tr>\n",
       "      <th>min</th>\n",
       "      <td>1.062823e+06</td>\n",
       "      <td>0.000000</td>\n",
       "    </tr>\n",
       "    <tr>\n",
       "      <th>25%</th>\n",
       "      <td>1.063608e+06</td>\n",
       "      <td>0.000000</td>\n",
       "    </tr>\n",
       "    <tr>\n",
       "      <th>50%</th>\n",
       "      <td>1.063698e+06</td>\n",
       "      <td>2935.440000</td>\n",
       "    </tr>\n",
       "    <tr>\n",
       "      <th>75%</th>\n",
       "      <td>1.063807e+06</td>\n",
       "      <td>2935.440000</td>\n",
       "    </tr>\n",
       "    <tr>\n",
       "      <th>max</th>\n",
       "      <td>1.064796e+06</td>\n",
       "      <td>42750.000000</td>\n",
       "    </tr>\n",
       "  </tbody>\n",
       "</table>\n",
       "</div>"
      ],
      "text/plain": [
       "              Номер    Заработано\n",
       "count  2.920000e+02    292.000000\n",
       "mean   1.063745e+06   3397.615034\n",
       "std    4.438688e+02   5771.572829\n",
       "min    1.062823e+06      0.000000\n",
       "25%    1.063608e+06      0.000000\n",
       "50%    1.063698e+06   2935.440000\n",
       "75%    1.063807e+06   2935.440000\n",
       "max    1.064796e+06  42750.000000"
      ]
     },
     "execution_count": 36,
     "metadata": {},
     "output_type": "execute_result"
    }
   ],
   "source": [
    "df.describe()"
   ]
  },
  {
   "cell_type": "markdown",
   "id": "4e1523f3",
   "metadata": {},
   "source": [
    "- метод по описанию (расчету) основных показателей для числовых значений таблицы"
   ]
  },
  {
   "cell_type": "code",
   "execution_count": null,
   "id": "f6616399",
   "metadata": {},
   "outputs": [],
   "source": []
  },
  {
   "cell_type": "markdown",
   "id": "61e1c1cc",
   "metadata": {},
   "source": [
    "### Приступаем к Предподкотовке данных в подгруженном датафрейме. \n",
    "1. Переименовываем названия колонок в питоновский вид, чтобы все на англ и без пробелов (только через \"_\")"
   ]
  },
  {
   "cell_type": "code",
   "execution_count": 56,
   "id": "c86907f7",
   "metadata": {},
   "outputs": [
    {
     "data": {
      "text/plain": [
       "Index(['Nmb', 'Date_create', 'Date_coast', 'title', 'Status', 'Profit', 'City',\n",
       "       'Pay_sistem'],\n",
       "      dtype='object')"
      ]
     },
     "execution_count": 56,
     "metadata": {},
     "output_type": "execute_result"
    }
   ],
   "source": [
    "df.columns"
   ]
  },
  {
   "cell_type": "code",
   "execution_count": 55,
   "id": "d0652c35",
   "metadata": {},
   "outputs": [],
   "source": [
    "df = df.rename(columns={'Номер': 'number',\n",
    "                        'Дата создания': 'create_date',\n",
    "                        'Дата оплаты': 'payment_date',\n",
    "                        'Title' : 'title',\n",
    "                        'Статус':'status', \n",
    "                        'Заработано': 'profit',\n",
    "                        'Город': 'city',\n",
    "                        'Платежная система': 'pay_sistem'})"
   ]
  },
  {
   "cell_type": "markdown",
   "id": "71015a80",
   "metadata": {},
   "source": [
    "повторяю переименование ниже, т.к. поторопился с переименованием, нужно подправить:"
   ]
  },
  {
   "cell_type": "code",
   "execution_count": 66,
   "id": "a5824912",
   "metadata": {},
   "outputs": [],
   "source": [
    "df = df.rename(columns={'Nmb': 'number',\n",
    "                        'Date_create': 'create_date',\n",
    "                        'Date_coast': 'payment_date',\n",
    "                        'Title' : 'title',\n",
    "                        'Status':'status', \n",
    "                        'profit': 'money',\n",
    "                        'City': 'city',\n",
    "                        'pay_sistem': 'payment_system'})"
   ]
  },
  {
   "cell_type": "code",
   "execution_count": 67,
   "id": "2623540e",
   "metadata": {},
   "outputs": [
    {
     "data": {
      "text/plain": [
       "Index(['number', 'create_date', 'payment_date', 'title', 'status', 'money',\n",
       "       'city', 'payment_system'],\n",
       "      dtype='object')"
      ]
     },
     "execution_count": 67,
     "metadata": {},
     "output_type": "execute_result"
    }
   ],
   "source": [
    "df.columns"
   ]
  },
  {
   "cell_type": "code",
   "execution_count": 68,
   "id": "f574ae9e",
   "metadata": {},
   "outputs": [
    {
     "data": {
      "text/html": [
       "<div>\n",
       "<style scoped>\n",
       "    .dataframe tbody tr th:only-of-type {\n",
       "        vertical-align: middle;\n",
       "    }\n",
       "\n",
       "    .dataframe tbody tr th {\n",
       "        vertical-align: top;\n",
       "    }\n",
       "\n",
       "    .dataframe thead th {\n",
       "        text-align: right;\n",
       "    }\n",
       "</style>\n",
       "<table border=\"1\" class=\"dataframe\">\n",
       "  <thead>\n",
       "    <tr style=\"text-align: right;\">\n",
       "      <th></th>\n",
       "      <th>number</th>\n",
       "      <th>create_date</th>\n",
       "      <th>payment_date</th>\n",
       "      <th>title</th>\n",
       "      <th>status</th>\n",
       "      <th>money</th>\n",
       "      <th>city</th>\n",
       "      <th>payment_system</th>\n",
       "    </tr>\n",
       "  </thead>\n",
       "  <tbody>\n",
       "    <tr>\n",
       "      <th>0</th>\n",
       "      <td>1062823</td>\n",
       "      <td>01.12.2019 10:50</td>\n",
       "      <td>01.12.2019 10:52</td>\n",
       "      <td>Курс обучения «Эксперт»</td>\n",
       "      <td>Завершен</td>\n",
       "      <td>29597.5</td>\n",
       "      <td>Чита</td>\n",
       "      <td>Сбербанк эквайринг</td>\n",
       "    </tr>\n",
       "    <tr>\n",
       "      <th>1</th>\n",
       "      <td>1062855</td>\n",
       "      <td>01.12.2019 20:53</td>\n",
       "      <td>01.12.2019 21:27</td>\n",
       "      <td>Курс обучения «Эксперт»</td>\n",
       "      <td>Завершен</td>\n",
       "      <td>17450.3</td>\n",
       "      <td>Краснодар</td>\n",
       "      <td>Яндекс.Касса</td>\n",
       "    </tr>\n",
       "    <tr>\n",
       "      <th>2</th>\n",
       "      <td>1062856</td>\n",
       "      <td>01.12.2019 21:43</td>\n",
       "      <td>NaN</td>\n",
       "      <td>Курс обучения «Специалист»</td>\n",
       "      <td>Отменен</td>\n",
       "      <td>0.0</td>\n",
       "      <td>NaN</td>\n",
       "      <td>NaN</td>\n",
       "    </tr>\n",
       "    <tr>\n",
       "      <th>3</th>\n",
       "      <td>1062880</td>\n",
       "      <td>03.12.2019 0:18</td>\n",
       "      <td>NaN</td>\n",
       "      <td>Курс обучения «Консультант»</td>\n",
       "      <td>Отменен</td>\n",
       "      <td>0.0</td>\n",
       "      <td>г.Москва и Московская область</td>\n",
       "      <td>NaN</td>\n",
       "    </tr>\n",
       "    <tr>\n",
       "      <th>4</th>\n",
       "      <td>1062899</td>\n",
       "      <td>03.12.2019 21:43</td>\n",
       "      <td>NaN</td>\n",
       "      <td>Курс обучения «Эксперт»</td>\n",
       "      <td>Отменен</td>\n",
       "      <td>0.0</td>\n",
       "      <td>г.Москва и Московская область</td>\n",
       "      <td>NaN</td>\n",
       "    </tr>\n",
       "  </tbody>\n",
       "</table>\n",
       "</div>"
      ],
      "text/plain": [
       "    number       create_date      payment_date                        title  \\\n",
       "0  1062823  01.12.2019 10:50  01.12.2019 10:52      Курс обучения «Эксперт»   \n",
       "1  1062855  01.12.2019 20:53  01.12.2019 21:27      Курс обучения «Эксперт»   \n",
       "2  1062856  01.12.2019 21:43               NaN   Курс обучения «Специалист»   \n",
       "3  1062880   03.12.2019 0:18               NaN  Курс обучения «Консультант»   \n",
       "4  1062899  03.12.2019 21:43               NaN      Курс обучения «Эксперт»   \n",
       "\n",
       "     status    money                           city      payment_system  \n",
       "0  Завершен  29597.5                           Чита  Сбербанк эквайринг  \n",
       "1  Завершен  17450.3                      Краснодар        Яндекс.Касса  \n",
       "2   Отменен      0.0                            NaN                 NaN  \n",
       "3   Отменен      0.0  г.Москва и Московская область                 NaN  \n",
       "4   Отменен      0.0  г.Москва и Московская область                 NaN  "
      ]
     },
     "execution_count": 68,
     "metadata": {},
     "output_type": "execute_result"
    }
   ],
   "source": [
    "df.head()"
   ]
  },
  {
   "cell_type": "code",
   "execution_count": 69,
   "id": "cbe33801",
   "metadata": {},
   "outputs": [
    {
     "data": {
      "text/plain": [
       "0                                Курс обучения «Эксперт»\n",
       "1                                Курс обучения «Эксперт»\n",
       "2                             Курс обучения «Специалист»\n",
       "3                            Курс обучения «Консультант»\n",
       "4                                Курс обучения «Эксперт»\n",
       "                             ...                        \n",
       "287    Подписка «ОНЛАЙН ДИЕТОЛОГ» с ежемесячным автос...\n",
       "288                          Курс обучения «Консультант»\n",
       "289                          Курс обучения «Консультант»\n",
       "290    Подписка «ОНЛАЙН ДИЕТОЛОГ» с ежемесячным автос...\n",
       "291    Курс от Школы Диетологов. Повышение квалификац...\n",
       "Name: title, Length: 292, dtype: object"
      ]
     },
     "execution_count": 69,
     "metadata": {},
     "output_type": "execute_result"
    }
   ],
   "source": [
    "df['title']"
   ]
  },
  {
   "cell_type": "code",
   "execution_count": 75,
   "id": "c7e12d12",
   "metadata": {},
   "outputs": [
    {
     "data": {
      "text/html": [
       "<div>\n",
       "<style scoped>\n",
       "    .dataframe tbody tr th:only-of-type {\n",
       "        vertical-align: middle;\n",
       "    }\n",
       "\n",
       "    .dataframe tbody tr th {\n",
       "        vertical-align: top;\n",
       "    }\n",
       "\n",
       "    .dataframe thead th {\n",
       "        text-align: right;\n",
       "    }\n",
       "</style>\n",
       "<table border=\"1\" class=\"dataframe\">\n",
       "  <thead>\n",
       "    <tr style=\"text-align: right;\">\n",
       "      <th></th>\n",
       "      <th>title</th>\n",
       "      <th>status</th>\n",
       "    </tr>\n",
       "  </thead>\n",
       "  <tbody>\n",
       "    <tr>\n",
       "      <th>0</th>\n",
       "      <td>Курс обучения «Эксперт»</td>\n",
       "      <td>Завершен</td>\n",
       "    </tr>\n",
       "    <tr>\n",
       "      <th>1</th>\n",
       "      <td>Курс обучения «Эксперт»</td>\n",
       "      <td>Завершен</td>\n",
       "    </tr>\n",
       "    <tr>\n",
       "      <th>2</th>\n",
       "      <td>Курс обучения «Специалист»</td>\n",
       "      <td>Отменен</td>\n",
       "    </tr>\n",
       "    <tr>\n",
       "      <th>3</th>\n",
       "      <td>Курс обучения «Консультант»</td>\n",
       "      <td>Отменен</td>\n",
       "    </tr>\n",
       "    <tr>\n",
       "      <th>4</th>\n",
       "      <td>Курс обучения «Эксперт»</td>\n",
       "      <td>Отменен</td>\n",
       "    </tr>\n",
       "  </tbody>\n",
       "</table>\n",
       "</div>"
      ],
      "text/plain": [
       "                         title    status\n",
       "0      Курс обучения «Эксперт»  Завершен\n",
       "1      Курс обучения «Эксперт»  Завершен\n",
       "2   Курс обучения «Специалист»   Отменен\n",
       "3  Курс обучения «Консультант»   Отменен\n",
       "4      Курс обучения «Эксперт»   Отменен"
      ]
     },
     "execution_count": 75,
     "metadata": {},
     "output_type": "execute_result"
    }
   ],
   "source": [
    "df[ ['title', 'status'] ].head()"
   ]
  },
  {
   "cell_type": "markdown",
   "id": "6f99a7e9",
   "metadata": {},
   "source": [
    "- пример вызова двух колонок (нужно было обрамить их в список [] ) только первых 5-ти сверху"
   ]
  },
  {
   "cell_type": "code",
   "execution_count": 79,
   "id": "135ad447",
   "metadata": {},
   "outputs": [
    {
     "data": {
      "text/plain": [
       "0      Завершен\n",
       "1      Завершен\n",
       "2       Отменен\n",
       "3       Отменен\n",
       "4       Отменен\n",
       "         ...   \n",
       "287    Завершен\n",
       "288     Отменен\n",
       "289    Завершен\n",
       "290    Завершен\n",
       "291    Завершен\n",
       "Name: status, Length: 292, dtype: object"
      ]
     },
     "execution_count": 79,
     "metadata": {},
     "output_type": "execute_result"
    }
   ],
   "source": [
    "df.status"
   ]
  },
  {
   "cell_type": "markdown",
   "id": "9913da33",
   "metadata": {},
   "source": [
    "- вариант вызова колонки - работает если название колонки без пробелов"
   ]
  },
  {
   "cell_type": "markdown",
   "id": "8177ff64",
   "metadata": {},
   "source": [
    "По завершению работы с данными, перед возвращением данных заказчику при необходимости можно вернуть исконные названия - все в наших руках и ради удобства читабельности."
   ]
  },
  {
   "cell_type": "markdown",
   "id": "df027e49",
   "metadata": {},
   "source": [
    "### Приступаем к анализу"
   ]
  },
  {
   "cell_type": "markdown",
   "id": "a0454ab4",
   "metadata": {},
   "source": [
    "Вводная 1: \n",
    "\n",
    "Отдел продаж: помогите нам составить отчет по тому - какие курсы нам принесли сколько денег, отсортировать по зароботку и разбить по городам.  "
   ]
  },
  {
   "cell_type": "markdown",
   "id": "0791668a",
   "metadata": {},
   "source": [
    "Лайфхак_1: Создаем переменную с общей стоимостью, для итогового сравнения наших расчетов с итоговой суммой. (самопроверка)"
   ]
  },
  {
   "cell_type": "code",
   "execution_count": 84,
   "id": "a280b2c4",
   "metadata": {},
   "outputs": [
    {
     "name": "stdout",
     "output_type": "stream",
     "text": [
      "992103.5900000001\n"
     ]
    }
   ],
   "source": [
    "all_money = df.money.sum()\n",
    "print(all_money)"
   ]
  },
  {
   "cell_type": "markdown",
   "id": "5f0f92ca",
   "metadata": {},
   "source": [
    "Теперь переходим к анализу"
   ]
  },
  {
   "cell_type": "markdown",
   "id": "8f9415cc",
   "metadata": {},
   "source": [
    "1.1. Формулирование задачи на русском:\n",
    "\n",
    "    Мы хотим найти суммарное количество всех денег, по каждому из курсов. Проранжировать по курсы по степени кол-ва заработка денег + посмотреть разбивку по городам\n"
   ]
  },
  {
   "cell_type": "code",
   "execution_count": 109,
   "id": "b9cae64b",
   "metadata": {},
   "outputs": [
    {
     "data": {
      "text/html": [
       "<div>\n",
       "<style scoped>\n",
       "    .dataframe tbody tr th:only-of-type {\n",
       "        vertical-align: middle;\n",
       "    }\n",
       "\n",
       "    .dataframe tbody tr th {\n",
       "        vertical-align: top;\n",
       "    }\n",
       "\n",
       "    .dataframe thead th {\n",
       "        text-align: right;\n",
       "    }\n",
       "</style>\n",
       "<table border=\"1\" class=\"dataframe\">\n",
       "  <thead>\n",
       "    <tr style=\"text-align: right;\">\n",
       "      <th></th>\n",
       "      <th>title</th>\n",
       "      <th>city</th>\n",
       "      <th>money</th>\n",
       "    </tr>\n",
       "  </thead>\n",
       "  <tbody>\n",
       "    <tr>\n",
       "      <th>51</th>\n",
       "      <td>Курс обучения «Эксперт»</td>\n",
       "      <td>г.Санкт-Петербург и Ленинградская область</td>\n",
       "      <td>59195.00</td>\n",
       "    </tr>\n",
       "    <tr>\n",
       "      <th>156</th>\n",
       "      <td>Подписка «ОНЛАЙН ДИЕТОЛОГ» с ежемесячным автос...</td>\n",
       "      <td>г.Москва и Московская область</td>\n",
       "      <td>46967.04</td>\n",
       "    </tr>\n",
       "    <tr>\n",
       "      <th>39</th>\n",
       "      <td>Курс обучения «Эксперт»</td>\n",
       "      <td>Балхаш</td>\n",
       "      <td>42750.00</td>\n",
       "    </tr>\n",
       "    <tr>\n",
       "      <th>95</th>\n",
       "      <td>Подписка «ОНЛАЙН ДИЕТОЛОГ» с ежемесячным автос...</td>\n",
       "      <td>Краснодарский край</td>\n",
       "      <td>38169.78</td>\n",
       "    </tr>\n",
       "    <tr>\n",
       "      <th>30</th>\n",
       "      <td>Курс обучения «Специалист»</td>\n",
       "      <td>Краснодар</td>\n",
       "      <td>29695.70</td>\n",
       "    </tr>\n",
       "    <tr>\n",
       "      <th>...</th>\n",
       "      <td>...</td>\n",
       "      <td>...</td>\n",
       "      <td>...</td>\n",
       "    </tr>\n",
       "    <tr>\n",
       "      <th>63</th>\n",
       "      <td>Курс от Школы Диетологов. Повышение квалификац...</td>\n",
       "      <td>Кемерово</td>\n",
       "      <td>0.00</td>\n",
       "    </tr>\n",
       "    <tr>\n",
       "      <th>61</th>\n",
       "      <td>Курс от Школы Диетологов. Повышение квалификац...</td>\n",
       "      <td>Екатеринбург</td>\n",
       "      <td>0.00</td>\n",
       "    </tr>\n",
       "    <tr>\n",
       "      <th>55</th>\n",
       "      <td>Курс от Школы Диетологов. Бизнес</td>\n",
       "      <td>Крым Советский</td>\n",
       "      <td>0.00</td>\n",
       "    </tr>\n",
       "    <tr>\n",
       "      <th>54</th>\n",
       "      <td>Курс от Школы Диетологов. Бизнес</td>\n",
       "      <td>Киев</td>\n",
       "      <td>0.00</td>\n",
       "    </tr>\n",
       "    <tr>\n",
       "      <th>158</th>\n",
       "      <td>Подписка «ОНЛАЙН ДИЕТОЛОГ» с ежемесячным автос...</td>\n",
       "      <td>нижний Новгород</td>\n",
       "      <td>0.00</td>\n",
       "    </tr>\n",
       "  </tbody>\n",
       "</table>\n",
       "<p>159 rows × 3 columns</p>\n",
       "</div>"
      ],
      "text/plain": [
       "                                                 title  \\\n",
       "51                             Курс обучения «Эксперт»   \n",
       "156  Подписка «ОНЛАЙН ДИЕТОЛОГ» с ежемесячным автос...   \n",
       "39                             Курс обучения «Эксперт»   \n",
       "95   Подписка «ОНЛАЙН ДИЕТОЛОГ» с ежемесячным автос...   \n",
       "30                          Курс обучения «Специалист»   \n",
       "..                                                 ...   \n",
       "63   Курс от Школы Диетологов. Повышение квалификац...   \n",
       "61   Курс от Школы Диетологов. Повышение квалификац...   \n",
       "55                    Курс от Школы Диетологов. Бизнес   \n",
       "54                    Курс от Школы Диетологов. Бизнес   \n",
       "158  Подписка «ОНЛАЙН ДИЕТОЛОГ» с ежемесячным автос...   \n",
       "\n",
       "                                          city     money  \n",
       "51   г.Санкт-Петербург и Ленинградская область  59195.00  \n",
       "156              г.Москва и Московская область  46967.04  \n",
       "39                                      Балхаш  42750.00  \n",
       "95                          Краснодарский край  38169.78  \n",
       "30                                   Краснодар  29695.70  \n",
       "..                                         ...       ...  \n",
       "63                                    Кемерово      0.00  \n",
       "61                               Екатеринбург       0.00  \n",
       "55                              Крым Советский      0.00  \n",
       "54                                        Киев      0.00  \n",
       "158                            нижний Новгород      0.00  \n",
       "\n",
       "[159 rows x 3 columns]"
      ]
     },
     "execution_count": 109,
     "metadata": {},
     "output_type": "execute_result"
    }
   ],
   "source": [
    "money_by_city = df.groupby(['title', 'city'], as_index=False) \\\n",
    "    .aggregate({'money': 'sum'}) \\\n",
    "    .sort_values('money', ascending=False)\n",
    "\n",
    "money_by_city"
   ]
  },
  {
   "cell_type": "markdown",
   "id": "66dd8e77",
   "metadata": {},
   "source": [
    "- groupby('*', as_index=False) - присваивает и выводит доп индекс перечисляемым строкам\n",
    "\n",
    "- \\   - символ разделения строки для читабельности"
   ]
  },
  {
   "cell_type": "markdown",
   "id": "2c8e3c49",
   "metadata": {},
   "source": [
    "- aggregate - вызов агрегации (какого-то метода обработки диапазона)"
   ]
  },
  {
   "cell_type": "markdown",
   "id": "00ebdc4e",
   "metadata": {},
   "source": [
    "- sort_values ('*', ascending = False) - сортировка по убыванию"
   ]
  },
  {
   "cell_type": "markdown",
   "id": "5ac71199",
   "metadata": {},
   "source": [
    "Выгрузка результата работы, в csv:\n"
   ]
  },
  {
   "cell_type": "code",
   "execution_count": 110,
   "id": "16c49d2a",
   "metadata": {},
   "outputs": [],
   "source": [
    "money_by_city.to_csv('money_by_city.csv', index= False)"
   ]
  },
  {
   "cell_type": "code",
   "execution_count": null,
   "id": "9ce86e62",
   "metadata": {},
   "outputs": [],
   "source": []
  },
  {
   "cell_type": "markdown",
   "id": "f60e74dc",
   "metadata": {},
   "source": [
    "Вводная 1.2: \n",
    "\n",
    "Посчитать сколько суммарно денег и завершено заказов. Какое кол-во заказов позволило заработать кол-во денег. Без групировки по городам"
   ]
  },
  {
   "cell_type": "code",
   "execution_count": 140,
   "id": "32b0519f",
   "metadata": {},
   "outputs": [
    {
     "data": {
      "text/html": [
       "<div>\n",
       "<style scoped>\n",
       "    .dataframe tbody tr th:only-of-type {\n",
       "        vertical-align: middle;\n",
       "    }\n",
       "\n",
       "    .dataframe tbody tr th {\n",
       "        vertical-align: top;\n",
       "    }\n",
       "\n",
       "    .dataframe thead th {\n",
       "        text-align: right;\n",
       "    }\n",
       "</style>\n",
       "<table border=\"1\" class=\"dataframe\">\n",
       "  <thead>\n",
       "    <tr style=\"text-align: right;\">\n",
       "      <th></th>\n",
       "      <th>title</th>\n",
       "      <th>money</th>\n",
       "      <th>success_orders</th>\n",
       "    </tr>\n",
       "  </thead>\n",
       "  <tbody>\n",
       "    <tr>\n",
       "      <th>5</th>\n",
       "      <td>Подписка «ОНЛАЙН ДИЕТОЛОГ» с ежемесячным автос...</td>\n",
       "      <td>366947.20</td>\n",
       "      <td>125</td>\n",
       "    </tr>\n",
       "    <tr>\n",
       "      <th>0</th>\n",
       "      <td>Курс обучения «Консультант»</td>\n",
       "      <td>208163.49</td>\n",
       "      <td>31</td>\n",
       "    </tr>\n",
       "    <tr>\n",
       "      <th>1</th>\n",
       "      <td>Курс обучения «Специалист»</td>\n",
       "      <td>160862.64</td>\n",
       "      <td>7</td>\n",
       "    </tr>\n",
       "    <tr>\n",
       "      <th>2</th>\n",
       "      <td>Курс обучения «Эксперт»</td>\n",
       "      <td>148992.80</td>\n",
       "      <td>5</td>\n",
       "    </tr>\n",
       "    <tr>\n",
       "      <th>4</th>\n",
       "      <td>Курс от Школы Диетологов. Повышение квалификац...</td>\n",
       "      <td>88384.92</td>\n",
       "      <td>9</td>\n",
       "    </tr>\n",
       "    <tr>\n",
       "      <th>3</th>\n",
       "      <td>Курс от Школы Диетологов. Бизнес</td>\n",
       "      <td>18752.54</td>\n",
       "      <td>3</td>\n",
       "    </tr>\n",
       "  </tbody>\n",
       "</table>\n",
       "</div>"
      ],
      "text/plain": [
       "                                               title      money  \\\n",
       "5  Подписка «ОНЛАЙН ДИЕТОЛОГ» с ежемесячным автос...  366947.20   \n",
       "0                        Курс обучения «Консультант»  208163.49   \n",
       "1                         Курс обучения «Специалист»  160862.64   \n",
       "2                            Курс обучения «Эксперт»  148992.80   \n",
       "4  Курс от Школы Диетологов. Повышение квалификац...   88384.92   \n",
       "3                   Курс от Школы Диетологов. Бизнес   18752.54   \n",
       "\n",
       "   success_orders  \n",
       "5             125  \n",
       "0              31  \n",
       "1               7  \n",
       "2               5  \n",
       "4               9  \n",
       "3               3  "
      ]
     },
     "execution_count": 140,
     "metadata": {},
     "output_type": "execute_result"
    }
   ],
   "source": [
    "money_by_title = df \\\n",
    "    .query(\" status == 'Завершен' \") \\\n",
    "    .groupby('title', as_index=False) \\\n",
    "    .aggregate({'money': 'sum', 'number': 'count'}) \\\n",
    "    .sort_values('money', ascending=False) \\\n",
    "    .rename(columns = {'number': 'success_orders'})\n",
    "\n",
    "money_by_title"
   ]
  },
  {
   "cell_type": "markdown",
   "id": "b14906d6",
   "metadata": {},
   "source": [
    ".query(\" status == 'Завершен' \") - доп фильтр (условие отбора) \n",
    "\n",
    ".rename(columns = {'number': 'success_orders'}) - переименование колонки (выполнить в конце после вычислений)"
   ]
  },
  {
   "cell_type": "code",
   "execution_count": null,
   "id": "edd34589",
   "metadata": {},
   "outputs": [],
   "source": []
  },
  {
   "cell_type": "markdown",
   "id": "1727df9a",
   "metadata": {},
   "source": [
    "Проверяем не потеряли ли мы данные, к примеру по общей стоимости:\n",
    "\n",
    "- сравниваем результат с заранее заготовленной переменной all_money"
   ]
  },
  {
   "cell_type": "code",
   "execution_count": 141,
   "id": "86a61cc7",
   "metadata": {
    "scrolled": true
   },
   "outputs": [
    {
     "name": "stdout",
     "output_type": "stream",
     "text": [
      "Молодчага, без проебов!\n"
     ]
    }
   ],
   "source": [
    "if int(money_by_title.money.sum()) == int(all_money):\n",
    "    print('Молодчага, без проебов!')\n",
    "else:    \n",
    "    print('Пиздэйс, ошибочкос, проверяй - исправляй, бро!')"
   ]
  },
  {
   "cell_type": "code",
   "execution_count": null,
   "id": "dbc2620a",
   "metadata": {},
   "outputs": [],
   "source": []
  },
  {
   "cell_type": "markdown",
   "id": "0bae55e0",
   "metadata": {},
   "source": [
    "Проверяем количество курсов, не потеряли ли что:\n",
    "- сравниваем кол-во уникальных строк в title и в итоговом        "
   ]
  },
  {
   "cell_type": "code",
   "execution_count": 129,
   "id": "a9aa6206",
   "metadata": {},
   "outputs": [
    {
     "data": {
      "text/plain": [
       "array(['Курс обучения «Эксперт»', 'Курс обучения «Специалист»',\n",
       "       'Курс обучения «Консультант»', 'Курс от Школы Диетологов. Бизнес',\n",
       "       'Курс от Школы Диетологов. Повышение квалификации. ',\n",
       "       'Подписка «ОНЛАЙН ДИЕТОЛОГ» с ежемесячным автосписанием'],\n",
       "      dtype=object)"
      ]
     },
     "execution_count": 129,
     "metadata": {},
     "output_type": "execute_result"
    }
   ],
   "source": [
    "df.title.unique()"
   ]
  },
  {
   "cell_type": "code",
   "execution_count": 130,
   "id": "8861cdc6",
   "metadata": {},
   "outputs": [
    {
     "data": {
      "text/html": [
       "<div>\n",
       "<style scoped>\n",
       "    .dataframe tbody tr th:only-of-type {\n",
       "        vertical-align: middle;\n",
       "    }\n",
       "\n",
       "    .dataframe tbody tr th {\n",
       "        vertical-align: top;\n",
       "    }\n",
       "\n",
       "    .dataframe thead th {\n",
       "        text-align: right;\n",
       "    }\n",
       "</style>\n",
       "<table border=\"1\" class=\"dataframe\">\n",
       "  <thead>\n",
       "    <tr style=\"text-align: right;\">\n",
       "      <th></th>\n",
       "      <th>title</th>\n",
       "      <th>money</th>\n",
       "      <th>success_orders</th>\n",
       "    </tr>\n",
       "  </thead>\n",
       "  <tbody>\n",
       "    <tr>\n",
       "      <th>5</th>\n",
       "      <td>Подписка «ОНЛАЙН ДИЕТОЛОГ» с ежемесячным автос...</td>\n",
       "      <td>366947.20</td>\n",
       "      <td>125</td>\n",
       "    </tr>\n",
       "    <tr>\n",
       "      <th>0</th>\n",
       "      <td>Курс обучения «Консультант»</td>\n",
       "      <td>208163.49</td>\n",
       "      <td>31</td>\n",
       "    </tr>\n",
       "    <tr>\n",
       "      <th>1</th>\n",
       "      <td>Курс обучения «Специалист»</td>\n",
       "      <td>160862.64</td>\n",
       "      <td>7</td>\n",
       "    </tr>\n",
       "    <tr>\n",
       "      <th>2</th>\n",
       "      <td>Курс обучения «Эксперт»</td>\n",
       "      <td>148992.80</td>\n",
       "      <td>5</td>\n",
       "    </tr>\n",
       "    <tr>\n",
       "      <th>4</th>\n",
       "      <td>Курс от Школы Диетологов. Повышение квалификац...</td>\n",
       "      <td>88384.92</td>\n",
       "      <td>9</td>\n",
       "    </tr>\n",
       "    <tr>\n",
       "      <th>3</th>\n",
       "      <td>Курс от Школы Диетологов. Бизнес</td>\n",
       "      <td>18752.54</td>\n",
       "      <td>3</td>\n",
       "    </tr>\n",
       "  </tbody>\n",
       "</table>\n",
       "</div>"
      ],
      "text/plain": [
       "                                               title      money  \\\n",
       "5  Подписка «ОНЛАЙН ДИЕТОЛОГ» с ежемесячным автос...  366947.20   \n",
       "0                        Курс обучения «Консультант»  208163.49   \n",
       "1                         Курс обучения «Специалист»  160862.64   \n",
       "2                            Курс обучения «Эксперт»  148992.80   \n",
       "4  Курс от Школы Диетологов. Повышение квалификац...   88384.92   \n",
       "3                   Курс от Школы Диетологов. Бизнес   18752.54   \n",
       "\n",
       "   success_orders  \n",
       "5             125  \n",
       "0              31  \n",
       "1               7  \n",
       "2               5  \n",
       "4               9  \n",
       "3               3  "
      ]
     },
     "execution_count": 130,
     "metadata": {},
     "output_type": "execute_result"
    }
   ],
   "source": [
    "money_by_title"
   ]
  },
  {
   "cell_type": "markdown",
   "id": "49a06e60",
   "metadata": {},
   "source": [
    "  Добавляем к скрипту выдачу текущей даты и присвоения имени файла текущей даты (для поиска решения загуглили вопрос):\n",
    "\n",
    "from datetime import datetime     --- строку с имортом для корректности отправлили в самый верх файла\n",
    "\n",
    "datetime.today().strftime('%Y-%m-%d')"
   ]
  },
  {
   "cell_type": "code",
   "execution_count": 158,
   "id": "3f6f79ca",
   "metadata": {},
   "outputs": [],
   "source": [
    "money_by_title = df \\\n",
    "    .query(\" status == 'Завершен' \") \\\n",
    "    .groupby('title', as_index=False) \\\n",
    "    .aggregate({'money': 'sum', 'number': 'count'}) \\\n",
    "    .sort_values('money', ascending=False) \\\n",
    "    .rename(columns = {'number': 'success_orders'})"
   ]
  },
  {
   "cell_type": "code",
   "execution_count": 159,
   "id": "d0a8a05e",
   "metadata": {},
   "outputs": [],
   "source": [
    "today_day = datetime.today().strftime('%Y-%m-%d')\n",
    "file_name = 'money_by_title_{}.csv'\n",
    "file_name = file_name.format(today_day)"
   ]
  },
  {
   "cell_type": "code",
   "execution_count": 160,
   "id": "00c7fd5a",
   "metadata": {},
   "outputs": [
    {
     "name": "stdout",
     "output_type": "stream",
     "text": [
      "ОК! File money_by_title_2024-07-16.csv is written.\n"
     ]
    }
   ],
   "source": [
    "if int(money_by_title.money.sum()) == int(all_money):\n",
    "    print('ОК! File {} is written.'.format(file_name))\n",
    "    money_by_title.to_csv(file_name, index=False)\n",
    "else:    \n",
    "    print('Пиздэйс, ошибочкос, проверяй - исправляй, бро!')"
   ]
  },
  {
   "cell_type": "code",
   "execution_count": null,
   "id": "38f9ef91",
   "metadata": {},
   "outputs": [],
   "source": []
  },
  {
   "cell_type": "code",
   "execution_count": null,
   "id": "858569de",
   "metadata": {},
   "outputs": [],
   "source": []
  },
  {
   "cell_type": "code",
   "execution_count": null,
   "id": "24929fd0",
   "metadata": {},
   "outputs": [],
   "source": []
  },
  {
   "cell_type": "code",
   "execution_count": null,
   "id": "f2f8fe5f",
   "metadata": {},
   "outputs": [],
   "source": []
  }
 ],
 "metadata": {
  "kernelspec": {
   "display_name": "Python 3 (ipykernel)",
   "language": "python",
   "name": "python3"
  },
  "language_info": {
   "codemirror_mode": {
    "name": "ipython",
    "version": 3
   },
   "file_extension": ".py",
   "mimetype": "text/x-python",
   "name": "python",
   "nbconvert_exporter": "python",
   "pygments_lexer": "ipython3",
   "version": "3.10.9"
  }
 },
 "nbformat": 4,
 "nbformat_minor": 5
}
