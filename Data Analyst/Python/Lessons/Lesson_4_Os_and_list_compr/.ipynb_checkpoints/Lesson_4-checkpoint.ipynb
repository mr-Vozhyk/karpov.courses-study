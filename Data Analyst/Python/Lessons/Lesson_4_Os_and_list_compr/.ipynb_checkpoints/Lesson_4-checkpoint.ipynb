{
 "cells": [
  {
   "cell_type": "markdown",
   "id": "73be287c",
   "metadata": {},
   "source": [
    "# Lesson_4\n",
    "\n",
    "#### Модуль os и прием list comprehension. \n",
    "Обход приград с неподготовленными и битыми данными"
   ]
  },
  {
   "cell_type": "code",
   "execution_count": 36,
   "id": "a5c9be12",
   "metadata": {},
   "outputs": [],
   "source": [
    "import pandas as pd\n",
    "import os\n"
   ]
  },
  {
   "cell_type": "code",
   "execution_count": 67,
   "id": "83fa6149",
   "metadata": {},
   "outputs": [],
   "source": [
    "path_dir = 'C://Users/user/Karpov_courses/'\n",
    "folder_data = os.listdir(path_dir)\n",
    "# выводит список всех файлов, лежащих в указанной дириктории"
   ]
  },
  {
   "cell_type": "code",
   "execution_count": 77,
   "id": "3cfe89b1",
   "metadata": {},
   "outputs": [
    {
     "name": "stdout",
     "output_type": "stream",
     "text": [
      "Lesson_2.ipynb\n",
      "Lesson_2_ex.ipynb\n",
      "Lesson_3.ipynb\n",
      "Lesson_3_ex.ipynb\n",
      "Lesson_4.ipynb\n",
      "Mini_pj_1.ipynb\n",
      "Mini_pj_2.ipynb\n",
      "money_by_city.csv\n",
      "money_by_title_2024-07-16.csv\n",
      "Untitled.ipynb\n",
      "Untitled1.ipynb\n"
     ]
    }
   ],
   "source": [
    "for i in folder_data:\n",
    "    if i.startswith('.'):\n",
    "        continue   \n",
    "    print(i)\n",
    "\n",
    "# [условие]: continue - если условие верно, то ничего не делать (continue), т.е. бежать дальше по циклу\n",
    "# без continue вывели бы на печать только название файлов, с началом с \".\" - т.е. вывести все системные папки"
   ]
  },
  {
   "cell_type": "code",
   "execution_count": 79,
   "id": "962c7475",
   "metadata": {},
   "outputs": [
    {
     "name": "stdout",
     "output_type": "stream",
     "text": [
      "Lesson_2.ipynb\n",
      "Lesson_2_ex.ipynb\n",
      "Lesson_3.ipynb\n",
      "Lesson_3_ex.ipynb\n",
      "Lesson_4.ipynb\n",
      "Mini_pj_1.ipynb\n",
      "Mini_pj_2.ipynb\n",
      "money_by_city.csv\n",
      "money_by_title_2024-07-16.csv\n",
      "Untitled.ipynb\n",
      "Untitled1.ipynb\n"
     ]
    }
   ],
   "source": [
    "# вариант 2\n",
    "for i in folder_data:\n",
    "    if not i.startswith('.'):\n",
    "        print(i)\n",
    "# если i не начинается с \".\" то вывести на печать"
   ]
  },
  {
   "cell_type": "code",
   "execution_count": 82,
   "id": "1e1ed995",
   "metadata": {},
   "outputs": [
    {
     "data": {
      "text/plain": [
       "['Lesson_2.ipynb',\n",
       " 'Lesson_2_ex.ipynb',\n",
       " 'Lesson_3.ipynb',\n",
       " 'Lesson_3_ex.ipynb',\n",
       " 'Lesson_4.ipynb',\n",
       " 'Mini_pj_1.ipynb',\n",
       " 'Mini_pj_2.ipynb',\n",
       " 'money_by_city.csv',\n",
       " 'money_by_title_2024-07-16.csv',\n",
       " 'Untitled.ipynb',\n",
       " 'Untitled1.ipynb']"
      ]
     },
     "execution_count": 82,
     "metadata": {},
     "output_type": "execute_result"
    }
   ],
   "source": [
    "# вариант 3. Метод list comprehension -  выбор по условию и сразу сохранить в результирующий список:\n",
    "\n",
    "[i for i in folder_data if not i.startswith('.')]\n",
    "\n"
   ]
  },
  {
   "cell_type": "code",
   "execution_count": 92,
   "id": "0d5ffbba",
   "metadata": {
    "scrolled": true
   },
   "outputs": [
    {
     "data": {
      "text/plain": [
       "['Lesson_2.ipynb',\n",
       " 'Lesson_2_ex.ipynb',\n",
       " 'Lesson_3.ipynb',\n",
       " 'Lesson_3_ex.ipynb',\n",
       " 'Lesson_4.ipynb',\n",
       " 'Mini_pj_1.ipynb',\n",
       " 'Mini_pj_2.ipynb',\n",
       " 'money_by_city.csv',\n",
       " 'money_by_title_2024-07-16.csv',\n",
       " 'Untitled.ipynb',\n",
       " 'Untitled1.ipynb']"
      ]
     },
     "execution_count": 92,
     "metadata": {},
     "output_type": "execute_result"
    }
   ],
   "source": [
    "# ---------------------------------------------------------------------------------------------------------------\n",
    "\n",
    "# Применение приема list comprehension сразу при считывании файла для выведения всех файлов и папок кроме системных:\n",
    "\n",
    "path_dir = 'C://Users/user/Karpov_courses/'\n",
    "\n",
    "folder_data = [i for i in os.listdir(path_dir) if not i.startswith('.')]\n",
    "folder_data"
   ]
  },
  {
   "cell_type": "markdown",
   "id": "15a62b44",
   "metadata": {},
   "source": [
    "#### Считывание данных при помощи open().readlines()"
   ]
  },
  {
   "cell_type": "code",
   "execution_count": 93,
   "id": "55a03304",
   "metadata": {},
   "outputs": [
    {
     "data": {
      "text/plain": [
       "['Lesson_2.ipynb',\n",
       " 'Lesson_2_ex.ipynb',\n",
       " 'Lesson_3.ipynb',\n",
       " 'Lesson_3_ex.ipynb',\n",
       " 'Lesson_4.ipynb',\n",
       " 'Mini_pj_1.ipynb',\n",
       " 'Mini_pj_2.ipynb',\n",
       " 'money_by_city.csv',\n",
       " 'money_by_title_2024-07-16.csv',\n",
       " 'Untitled.ipynb',\n",
       " 'Untitled1.ipynb']"
      ]
     },
     "execution_count": 93,
     "metadata": {},
     "output_type": "execute_result"
    }
   ],
   "source": [
    "folder_data"
   ]
  },
  {
   "cell_type": "markdown",
   "id": "e6e915f6",
   "metadata": {},
   "source": [
    "Задача:\n",
    "    Есть приложение, есть данные об активности пользователей. Есть технический log (txt формат со стрёмными разделителями).\n",
    "    "
   ]
  },
  {
   "cell_type": "code",
   "execution_count": null,
   "id": "99abfc33",
   "metadata": {},
   "outputs": [],
   "source": []
  },
  {
   "cell_type": "code",
   "execution_count": 100,
   "id": "0c9c7194",
   "metadata": {},
   "outputs": [],
   "source": [
    "p = 'C://Users/user/Karpov_courses/titanic-ship-s-log__2.log'\n",
    "# путь к файлу (в данном случае к леваковому:( )\n",
    "# файл в формате \".txt\" или \".log\", поэтому простое pd.read_csv не работает"
   ]
  },
  {
   "cell_type": "markdown",
   "id": "c5c4114e",
   "metadata": {},
   "source": [
    "#### Решение 1 \n",
    "    (если файл только 1 и он не большой - и вообще это какой-то разовый ad-hoc):\n",
    "   ###### Открыть вручную, найти нужное, вставить в Excel, разбить по колонкам - готово!\n",
    " _________________"
   ]
  },
  {
   "cell_type": "markdown",
   "id": "67d98250",
   "metadata": {},
   "source": [
    "#### Решение 2 \n",
    "    (системный подход, если файлов много):"
   ]
  },
  {
   "cell_type": "code",
   "execution_count": 156,
   "id": "e05bd458",
   "metadata": {},
   "outputs": [
    {
     "name": "stdout",
     "output_type": "stream",
     "text": [
      "14.5s 1 /opt/conda/lib/python3.7/site-packages/papermill/iorw.py:50: FutureWarning: pyarrow.HadoopFileSystem is deprecated as of 2.0.0, please use pyarrow.fs.HadoopFileSystem instead.\n",
      "\n",
      "14.5s 2 from pyarrow import HadoopFileSystem\n",
      "\n",
      "80.7s 3 <class 'pandas.core.frame.DataFrame'>\n",
      "\n",
      "80.7s 4 Int64Index: 1309 entries, 1 to 1309\n",
      "\n",
      "80.7s 5 Data columns (total 19 columns):\n",
      "\n",
      "80.7s 6 #   Column                      Non-Null Count  Dtype\n",
      "\n",
      "------ Non-deleted saved ----------------------------------------\n",
      "\n",
      "80.7s 8 0   Pclass                      1309 non-null   int64\n",
      "\n",
      "80.7s 9 1   Name                        1309 non-null   object\n",
      "\n",
      "80.7s 10 2   Sex                         1309 non-null   object\n",
      "\n",
      "80.7s 11 3   Age                         1046 non-null   float64\n",
      "\n",
      "80.7s 12 4   SibSp                       1309 non-null   int64\n",
      "\n",
      "80.7s 13 5   Parch                       1309 non-null   int64\n",
      "\n",
      "80.7s 14 6   Ticket                      1309 non-null   object\n",
      "\n",
      "80.7s 15 7   Fare                        1308 non-null   float64\n",
      "\n",
      "80.7s 16 8   Cabin                       295 non-null    object\n",
      "\n",
      "80.7s 17 9   Embarked                    1307 non-null   object\n",
      "\n",
      "80.7s 18 10  num_missing_vals            1309 non-null   int64\n",
      "\n",
      "80.7s 19 11  has_missing_vals            1309 non-null   int64\n",
      "\n",
      "80.7s 20 12  FamilySize                  1309 non-null   int64\n",
      "\n",
      "80.7s 21 13  TicketGroupSize             1309 non-null   int64\n",
      "\n",
      "80.7s 22 14  SinglePrice                 1308 non-null   float64\n",
      "\n",
      "80.7s 23 15  Deck                        295 non-null    object\n",
      "\n",
      "80.7s 24 16  TicketGroupSize_FamilySize  1309 non-null   int64\n",
      "\n",
      "80.7s 25 17  TicketOccupation            1309 non-null   object\n",
      "\n",
      "80.7s 26 18  OnePersonFamily             1309 non-null   int64\n",
      "\n",
      "------------------------------------------------------------------\n",
      "\n",
      "80.7s 27 dtypes: float64(3), int64(9), object(7)\n",
      "\n",
      "80.7s 28 memory usage: 236.8+ KB\n",
      "\n",
      "85.0s 29 /opt/conda/lib/python3.7/site-packages/traitlets/traitlets.py:2567: FutureWarning: --Exporter.preprocessors=[\"remove_papermill_header.RemovePapermillHeader\"] for containers is deprecated in traitlets 5.0. You can pass `--Exporter.preprocessors item` ... multiple times to add items to a list.\n",
      "\n",
      "85.0s 30 FutureWarning,\n",
      "\n",
      "85.0s 31 [NbConvertApp] Converting notebook __notebook__.ipynb to notebook\n",
      "\n",
      "85.9s 32 [NbConvertApp] Writing 1533611 bytes to __notebook__.ipynb\n",
      "\n",
      "88.5s 33 /opt/conda/lib/python3.7/site-packages/traitlets/traitlets.py:2567: FutureWarning: --Exporter.preprocessors=[\"nbconvert.preprocessors.ExtractOutputPreprocessor\"] for containers is deprecated in traitlets 5.0. You can pass `--Exporter.preprocessors item` ... multiple times to add items to a list.\n",
      "\n",
      "88.5s 34 FutureWarning,\n",
      "\n",
      "88.5s 35 [NbConvertApp] Converting notebook __notebook__.ipynb to html\n",
      "\n",
      "90.0s 36 [NbConvertApp] Support files will be in __results___files/\n",
      "\n",
      "90.0s 37 [NbConvertApp] Making directory __results___files\n",
      "\n",
      "90.0s 38 [NbConvertApp] Making directory __results___files\n",
      "\n",
      "90.0s 39 [NbConvertApp] Making directory __results___files\n",
      "\n",
      "90.0s 40 [NbConvertApp] Making directory __results___files\n",
      "\n",
      "90.0s 41 [NbConvertApp] Making directory __results___files\n",
      "\n",
      "90.0s 42 [NbConvertApp] Making directory __results___files\n",
      "\n",
      "90.0s 43 [NbConvertApp] Making directory __results___files\n",
      "\n",
      "90.0s 44 [NbConvertApp] Making directory __results___files\n",
      "\n",
      "90.0s 45 [NbConvertApp] Making directory __results___files\n",
      "\n",
      "90.0s 46 [NbConvertApp] Making directory __results___files\n",
      "\n",
      "90.0s 47 [NbConvertApp] Making directory __results___files\n",
      "\n",
      "90.0s 48 [NbConvertApp] Making directory __results___files\n",
      "\n",
      "90.0s 49 [NbConvertApp] Writing 407618 bytes to __results__.html\n"
     ]
    }
   ],
   "source": [
    "open(p).readlines()\n",
    "    # считывает построчно файл, являясь одним большим списком, соответственно можно обращаться как к списку\n",
    "\n",
    "for i in open(p).readlines():\n",
    "    print(i)\n",
    "    # выводит на печать содержимое файла (без системных знаков табуляции \"\\t\" и перехода на новую строку \"\\n\")"
   ]
  },
  {
   "cell_type": "code",
   "execution_count": 102,
   "id": "fd009c05",
   "metadata": {},
   "outputs": [],
   "source": [
    "# Нужно достать из лога часть данных, \n",
    "# которая начинается на \"------ Non-deleted saved ---\" и заканчивается \"----------------------\""
   ]
  },
  {
   "cell_type": "markdown",
   "id": "b5da5abf",
   "metadata": {},
   "source": [
    "#### Как прочитать только нужную часть файла"
   ]
  },
  {
   "cell_type": "code",
   "execution_count": 170,
   "id": "9ec7354d",
   "metadata": {},
   "outputs": [
    {
     "name": "stdout",
     "output_type": "stream",
     "text": [
      "3\n",
      "4\n",
      "5\n"
     ]
    }
   ],
   "source": [
    "# Cоздаем прототип, где старт и конец - это красные флаги 🏁\n",
    "\n",
    "x = ['1','2', 'start', '3', '4', '5', 'end', '6', '7']\n",
    "\n",
    "scanning = False # команда на считывание инфы, которая зажата между значением \"start\" и \"end\"\n",
    "\n",
    "for i in x:\n",
    "    if i == 'end':\n",
    "        scanning = False\n",
    "        continue\n",
    "        \n",
    "    if scanning == True:\n",
    "        print(i)\n",
    "    \n",
    "    if i == 'start':\n",
    "        scanning = True\n",
    "        continue\n",
    "        \n",
    "# рабочий цикл по считыванию данных меджду флажковыми значениями"
   ]
  },
  {
   "cell_type": "markdown",
   "id": "a6b43dd6",
   "metadata": {},
   "source": [
    "---------------------------------------------------"
   ]
  },
  {
   "cell_type": "code",
   "execution_count": 192,
   "id": "6de70158",
   "metadata": {},
   "outputs": [],
   "source": [
    "p = 'C://Users/user/Karpov_courses/titanic-ship-s-log__2.log'\n",
    "\n",
    "# путь к файлу, в данном случае к леваковому:( \n",
    "# случай когда файл в формате \".txt\" или \".log\", поэтому простое pd.read_csv не работает\n",
    "\n",
    "\n",
    "p_data = open(p).readlines()  # изначальный считываемый log из файла \n",
    "\n",
    "\n",
    "all_data = []      # результирующий список под будующий датафрейм-выжимку с нужным из loq-файла \n",
    "\n",
    "\n",
    "\n",
    "scanning = False # команда на считывание инфы, которая зажата между двумя значениями\n",
    "\n",
    "for i in p_data:\n",
    "        if i.startswith('----------------------------'): \n",
    "            scanning = False\n",
    "            continue\n",
    "\n",
    "        if scanning:   #  \"if scanning:   это по defoltу - if scanning == True: \"\n",
    "           # if 'Columns#:' in i:    - в другом Примере эта фраза стояла перед названиями колонок \n",
    "           #    col_name = i          поэтому в col_name создается список из названий колонок (необработанный) \n",
    "           #    continue\n",
    "            all_data.append( [value.strip() for value in i.split(' ')] ) \n",
    "             # добавление разбиваемой строки с разделением \" \" и с убраными лишними пробелами и символами табуляции\n",
    "\n",
    "        if i.startswith ('------ Non-deleted saved ---'):\n",
    "            scanning = True\n",
    "            continue\n"
   ]
  },
  {
   "cell_type": "code",
   "execution_count": 173,
   "id": "08845d3c",
   "metadata": {},
   "outputs": [],
   "source": [
    "#   final_col_names = [cul.strip() for col in col_name.split(';')]\n",
    "# убирает лишние пробелы в созданной строке col_name, разделенной перед этим через \";\" - готовые названия колонок \n"
   ]
  },
  {
   "cell_type": "code",
   "execution_count": 199,
   "id": "d8f287c2",
   "metadata": {},
   "outputs": [],
   "source": [
    "meal_df = pd.DataFrame(all_data) #, columns= final_col_names)"
   ]
  },
  {
   "cell_type": "code",
   "execution_count": 200,
   "id": "63fc0989",
   "metadata": {},
   "outputs": [
    {
     "data": {
      "text/html": [
       "<div>\n",
       "<style scoped>\n",
       "    .dataframe tbody tr th:only-of-type {\n",
       "        vertical-align: middle;\n",
       "    }\n",
       "\n",
       "    .dataframe tbody tr th {\n",
       "        vertical-align: top;\n",
       "    }\n",
       "\n",
       "    .dataframe thead th {\n",
       "        text-align: right;\n",
       "    }\n",
       "</style>\n",
       "<table border=\"1\" class=\"dataframe\">\n",
       "  <thead>\n",
       "    <tr style=\"text-align: right;\">\n",
       "      <th></th>\n",
       "      <th>0</th>\n",
       "      <th>1</th>\n",
       "      <th>2</th>\n",
       "      <th>3</th>\n",
       "      <th>4</th>\n",
       "      <th>5</th>\n",
       "      <th>6</th>\n",
       "      <th>7</th>\n",
       "      <th>8</th>\n",
       "      <th>9</th>\n",
       "      <th>...</th>\n",
       "      <th>25</th>\n",
       "      <th>26</th>\n",
       "      <th>27</th>\n",
       "      <th>28</th>\n",
       "      <th>29</th>\n",
       "      <th>30</th>\n",
       "      <th>31</th>\n",
       "      <th>32</th>\n",
       "      <th>33</th>\n",
       "      <th>34</th>\n",
       "    </tr>\n",
       "  </thead>\n",
       "  <tbody>\n",
       "    <tr>\n",
       "      <th>0</th>\n",
       "      <td>80.7s</td>\n",
       "      <td>8</td>\n",
       "      <td>0</td>\n",
       "      <td></td>\n",
       "      <td></td>\n",
       "      <td>Pclass</td>\n",
       "      <td></td>\n",
       "      <td></td>\n",
       "      <td></td>\n",
       "      <td></td>\n",
       "      <td>...</td>\n",
       "      <td></td>\n",
       "      <td></td>\n",
       "      <td>1309</td>\n",
       "      <td>non-null</td>\n",
       "      <td></td>\n",
       "      <td></td>\n",
       "      <td>int64</td>\n",
       "      <td>None</td>\n",
       "      <td>None</td>\n",
       "      <td>None</td>\n",
       "    </tr>\n",
       "    <tr>\n",
       "      <th>1</th>\n",
       "      <td>80.7s</td>\n",
       "      <td>9</td>\n",
       "      <td>1</td>\n",
       "      <td></td>\n",
       "      <td></td>\n",
       "      <td>Name</td>\n",
       "      <td></td>\n",
       "      <td></td>\n",
       "      <td></td>\n",
       "      <td></td>\n",
       "      <td>...</td>\n",
       "      <td></td>\n",
       "      <td></td>\n",
       "      <td></td>\n",
       "      <td></td>\n",
       "      <td>1309</td>\n",
       "      <td>non-null</td>\n",
       "      <td></td>\n",
       "      <td></td>\n",
       "      <td>object</td>\n",
       "      <td>None</td>\n",
       "    </tr>\n",
       "    <tr>\n",
       "      <th>2</th>\n",
       "      <td>80.7s</td>\n",
       "      <td>10</td>\n",
       "      <td>2</td>\n",
       "      <td></td>\n",
       "      <td></td>\n",
       "      <td>Sex</td>\n",
       "      <td></td>\n",
       "      <td></td>\n",
       "      <td></td>\n",
       "      <td></td>\n",
       "      <td>...</td>\n",
       "      <td></td>\n",
       "      <td></td>\n",
       "      <td></td>\n",
       "      <td></td>\n",
       "      <td></td>\n",
       "      <td>1309</td>\n",
       "      <td>non-null</td>\n",
       "      <td></td>\n",
       "      <td></td>\n",
       "      <td>object</td>\n",
       "    </tr>\n",
       "    <tr>\n",
       "      <th>3</th>\n",
       "      <td>80.7s</td>\n",
       "      <td>11</td>\n",
       "      <td>3</td>\n",
       "      <td></td>\n",
       "      <td></td>\n",
       "      <td>Age</td>\n",
       "      <td></td>\n",
       "      <td></td>\n",
       "      <td></td>\n",
       "      <td></td>\n",
       "      <td>...</td>\n",
       "      <td></td>\n",
       "      <td></td>\n",
       "      <td></td>\n",
       "      <td></td>\n",
       "      <td></td>\n",
       "      <td>1046</td>\n",
       "      <td>non-null</td>\n",
       "      <td></td>\n",
       "      <td></td>\n",
       "      <td>float64</td>\n",
       "    </tr>\n",
       "    <tr>\n",
       "      <th>4</th>\n",
       "      <td>80.7s</td>\n",
       "      <td>12</td>\n",
       "      <td>4</td>\n",
       "      <td></td>\n",
       "      <td></td>\n",
       "      <td>SibSp</td>\n",
       "      <td></td>\n",
       "      <td></td>\n",
       "      <td></td>\n",
       "      <td></td>\n",
       "      <td>...</td>\n",
       "      <td></td>\n",
       "      <td></td>\n",
       "      <td></td>\n",
       "      <td>1309</td>\n",
       "      <td>non-null</td>\n",
       "      <td></td>\n",
       "      <td></td>\n",
       "      <td>int64</td>\n",
       "      <td>None</td>\n",
       "      <td>None</td>\n",
       "    </tr>\n",
       "  </tbody>\n",
       "</table>\n",
       "<p>5 rows × 35 columns</p>\n",
       "</div>"
      ],
      "text/plain": [
       "      0   1  2  3  4       5  6  7  8  9   ... 25 26    27        28  \\\n",
       "0  80.7s   8  0        Pclass              ...        1309  non-null   \n",
       "1  80.7s   9  1          Name              ...                         \n",
       "2  80.7s  10  2           Sex              ...                         \n",
       "3  80.7s  11  3           Age              ...                         \n",
       "4  80.7s  12  4         SibSp              ...                  1309   \n",
       "\n",
       "         29        30        31     32      33       34  \n",
       "0                         int64   None    None     None  \n",
       "1      1309  non-null                   object     None  \n",
       "2                1309  non-null                  object  \n",
       "3                1046  non-null                 float64  \n",
       "4  non-null                      int64    None     None  \n",
       "\n",
       "[5 rows x 35 columns]"
      ]
     },
     "execution_count": 200,
     "metadata": {},
     "output_type": "execute_result"
    }
   ],
   "source": [
    "meal_df.head()"
   ]
  },
  {
   "cell_type": "markdown",
   "id": "a78c0d11",
   "metadata": {},
   "source": [
    "#### Типы данных и работа с датой"
   ]
  },
  {
   "cell_type": "code",
   "execution_count": 206,
   "id": "d68e2926",
   "metadata": {},
   "outputs": [
    {
     "data": {
      "text/html": [
       "<div>\n",
       "<style scoped>\n",
       "    .dataframe tbody tr th:only-of-type {\n",
       "        vertical-align: middle;\n",
       "    }\n",
       "\n",
       "    .dataframe tbody tr th {\n",
       "        vertical-align: top;\n",
       "    }\n",
       "\n",
       "    .dataframe thead th {\n",
       "        text-align: right;\n",
       "    }\n",
       "</style>\n",
       "<table border=\"1\" class=\"dataframe\">\n",
       "  <thead>\n",
       "    <tr style=\"text-align: right;\">\n",
       "      <th></th>\n",
       "      <th>journey_id</th>\n",
       "      <th>user_id</th>\n",
       "      <th>driver_id</th>\n",
       "      <th>taxi_id</th>\n",
       "      <th>icon</th>\n",
       "      <th>start_type</th>\n",
       "      <th>start_at</th>\n",
       "      <th>start_lat</th>\n",
       "      <th>start_lon</th>\n",
       "      <th>end_at</th>\n",
       "      <th>end_lat</th>\n",
       "      <th>end_lon</th>\n",
       "      <th>end_state</th>\n",
       "      <th>driver_start_lat</th>\n",
       "      <th>driver_start_lon</th>\n",
       "      <th>arrived_at</th>\n",
       "      <th>source</th>\n",
       "      <th>driver_score</th>\n",
       "      <th>rider_score</th>\n",
       "    </tr>\n",
       "  </thead>\n",
       "  <tbody>\n",
       "    <tr>\n",
       "      <th>0</th>\n",
       "      <td>23a1406fc6a11d866e3c82f22eed4d4c</td>\n",
       "      <td>0e9af5bbf1edfe591b54ecdfd7e91e26</td>\n",
       "      <td>583949a89a9ee17d19e3ca4f137b6b4c</td>\n",
       "      <td>b12f4f09c783e29fe0d0ea624530db56</td>\n",
       "      <td>executive</td>\n",
       "      <td>asap</td>\n",
       "      <td>2010-11-16 16:44:00</td>\n",
       "      <td>-12,13983536</td>\n",
       "      <td>-77,02355957</td>\n",
       "      <td>2010-11-16 17:29:00</td>\n",
       "      <td>-12,05537033</td>\n",
       "      <td>-77,0413208</td>\n",
       "      <td>drop off</td>\n",
       "      <td>-12,10825481</td>\n",
       "      <td>-77,0272739</td>\n",
       "      <td>2010-11-16 17:02:00</td>\n",
       "      <td>iPhone</td>\n",
       "      <td>5.0</td>\n",
       "      <td>5.0</td>\n",
       "    </tr>\n",
       "    <tr>\n",
       "      <th>1</th>\n",
       "      <td>dd2af4715d0dc16eded53afc0e243577</td>\n",
       "      <td>a553c46e3a22fb9c326aeb3d72b3334e</td>\n",
       "      <td>NaN</td>\n",
       "      <td>NaN</td>\n",
       "      <td>executive</td>\n",
       "      <td>asap</td>\n",
       "      <td>2010-06-01 00:34:00</td>\n",
       "      <td>-12,13874817</td>\n",
       "      <td>-76,99536133</td>\n",
       "      <td>2010-06-01 00:37:00</td>\n",
       "      <td>-12,12465668</td>\n",
       "      <td>-77,02886963</td>\n",
       "      <td>not found</td>\n",
       "      <td>NaN</td>\n",
       "      <td>NaN</td>\n",
       "      <td>NaN</td>\n",
       "      <td>iPhone</td>\n",
       "      <td>NaN</td>\n",
       "      <td>NaN</td>\n",
       "    </tr>\n",
       "    <tr>\n",
       "      <th>2</th>\n",
       "      <td>dd91e131888064bf7df3ce08f3d4b4ad</td>\n",
       "      <td>a553c46e3a22fb9c326aeb3d72b3334e</td>\n",
       "      <td>NaN</td>\n",
       "      <td>NaN</td>\n",
       "      <td>executive</td>\n",
       "      <td>asap</td>\n",
       "      <td>2010-05-31 05:01:00</td>\n",
       "      <td>-12,12453079</td>\n",
       "      <td>-77,02780151</td>\n",
       "      <td>2010-05-31 05:04:00</td>\n",
       "      <td>-12,13883209</td>\n",
       "      <td>-76,99530029</td>\n",
       "      <td>not found</td>\n",
       "      <td>NaN</td>\n",
       "      <td>NaN</td>\n",
       "      <td>NaN</td>\n",
       "      <td>iPhone</td>\n",
       "      <td>NaN</td>\n",
       "      <td>NaN</td>\n",
       "    </tr>\n",
       "  </tbody>\n",
       "</table>\n",
       "</div>"
      ],
      "text/plain": [
       "                         journey_id                           user_id  \\\n",
       "0  23a1406fc6a11d866e3c82f22eed4d4c  0e9af5bbf1edfe591b54ecdfd7e91e26   \n",
       "1  dd2af4715d0dc16eded53afc0e243577  a553c46e3a22fb9c326aeb3d72b3334e   \n",
       "2  dd91e131888064bf7df3ce08f3d4b4ad  a553c46e3a22fb9c326aeb3d72b3334e   \n",
       "\n",
       "                          driver_id                           taxi_id  \\\n",
       "0  583949a89a9ee17d19e3ca4f137b6b4c  b12f4f09c783e29fe0d0ea624530db56   \n",
       "1                               NaN                               NaN   \n",
       "2                               NaN                               NaN   \n",
       "\n",
       "        icon start_type             start_at     start_lat     start_lon  \\\n",
       "0  executive       asap  2010-11-16 16:44:00  -12,13983536  -77,02355957   \n",
       "1  executive       asap  2010-06-01 00:34:00  -12,13874817  -76,99536133   \n",
       "2  executive       asap  2010-05-31 05:01:00  -12,12453079  -77,02780151   \n",
       "\n",
       "                end_at       end_lat       end_lon  end_state  \\\n",
       "0  2010-11-16 17:29:00  -12,05537033   -77,0413208   drop off   \n",
       "1  2010-06-01 00:37:00  -12,12465668  -77,02886963  not found   \n",
       "2  2010-05-31 05:04:00  -12,13883209  -76,99530029  not found   \n",
       "\n",
       "  driver_start_lat driver_start_lon           arrived_at  source  \\\n",
       "0     -12,10825481      -77,0272739  2010-11-16 17:02:00  iPhone   \n",
       "1              NaN              NaN                  NaN  iPhone   \n",
       "2              NaN              NaN                  NaN  iPhone   \n",
       "\n",
       "   driver_score  rider_score  \n",
       "0           5.0          5.0  \n",
       "1           NaN          NaN  \n",
       "2           NaN          NaN  "
      ]
     },
     "execution_count": 206,
     "metadata": {},
     "output_type": "execute_result"
    }
   ],
   "source": [
    "taxi_peru = pd.read_csv('C://Users/user/Karpov_courses/taxi_peru.csv', sep = ';')\n",
    "taxi_peru.head(3)"
   ]
  },
  {
   "cell_type": "code",
   "execution_count": 213,
   "id": "d5468a49",
   "metadata": {},
   "outputs": [
    {
     "data": {
      "text/plain": [
       "journey_id           object\n",
       "user_id              object\n",
       "driver_id            object\n",
       "taxi_id              object\n",
       "icon                 object\n",
       "start_type           object\n",
       "start_at             object\n",
       "start_lat            object\n",
       "start_lon            object\n",
       "end_at               object\n",
       "end_lat              object\n",
       "end_lon              object\n",
       "end_state            object\n",
       "driver_start_lat     object\n",
       "driver_start_lon     object\n",
       "arrived_at           object\n",
       "source               object\n",
       "driver_score        float64\n",
       "rider_score         float64\n",
       "dtype: object"
      ]
     },
     "execution_count": 213,
     "metadata": {},
     "output_type": "execute_result"
    }
   ],
   "source": [
    "taxi_peru.dtypes \n",
    "# если бы в исходном варианте \"start_lat\", \"start_lon\", \"end_lat\" , \"end_lon\" - являясь object было бы чем-то другим\n",
    "# то нужно было бы менять"
   ]
  },
  {
   "cell_type": "code",
   "execution_count": 214,
   "id": "c2decb34",
   "metadata": {},
   "outputs": [],
   "source": [
    "#например:\n",
    "\n",
    "#taxi_peru.astype({'start_lat': 'float64', \n",
    "#                  'start_lon': 'float64',\n",
    "#                 'end_lat': 'float64', \n",
    "#                  'end_lon': 'float64',  \n",
    "#                })\n"
   ]
  },
  {
   "cell_type": "code",
   "execution_count": 241,
   "id": "3343b1a8",
   "metadata": {},
   "outputs": [],
   "source": [
    "taxi_peru.start_at = taxi_peru.start_at.astype({'start_at':'datetime64[ns]'})\n",
    "# перевод колонки с датой в формат даты"
   ]
  },
  {
   "cell_type": "code",
   "execution_count": 246,
   "id": "6513acd2",
   "metadata": {},
   "outputs": [
    {
     "data": {
      "text/html": [
       "<div>\n",
       "<style scoped>\n",
       "    .dataframe tbody tr th:only-of-type {\n",
       "        vertical-align: middle;\n",
       "    }\n",
       "\n",
       "    .dataframe tbody tr th {\n",
       "        vertical-align: top;\n",
       "    }\n",
       "\n",
       "    .dataframe thead th {\n",
       "        text-align: right;\n",
       "    }\n",
       "</style>\n",
       "<table border=\"1\" class=\"dataframe\">\n",
       "  <thead>\n",
       "    <tr style=\"text-align: right;\">\n",
       "      <th></th>\n",
       "      <th>user_id</th>\n",
       "      <th>driver_id</th>\n",
       "      <th>start_at</th>\n",
       "      <th>source</th>\n",
       "      <th>driver_score</th>\n",
       "      <th>rider_score</th>\n",
       "    </tr>\n",
       "  </thead>\n",
       "  <tbody>\n",
       "    <tr>\n",
       "      <th>0</th>\n",
       "      <td>0e9af5bbf1edfe591b54ecdfd7e91e26</td>\n",
       "      <td>583949a89a9ee17d19e3ca4f137b6b4c</td>\n",
       "      <td>2010-11-16 16:44:00</td>\n",
       "      <td>iPhone</td>\n",
       "      <td>5.0</td>\n",
       "      <td>5.0</td>\n",
       "    </tr>\n",
       "    <tr>\n",
       "      <th>1</th>\n",
       "      <td>a553c46e3a22fb9c326aeb3d72b3334e</td>\n",
       "      <td>NaN</td>\n",
       "      <td>2010-06-01 00:34:00</td>\n",
       "      <td>iPhone</td>\n",
       "      <td>NaN</td>\n",
       "      <td>NaN</td>\n",
       "    </tr>\n",
       "    <tr>\n",
       "      <th>2</th>\n",
       "      <td>a553c46e3a22fb9c326aeb3d72b3334e</td>\n",
       "      <td>NaN</td>\n",
       "      <td>2010-05-31 05:01:00</td>\n",
       "      <td>iPhone</td>\n",
       "      <td>NaN</td>\n",
       "      <td>NaN</td>\n",
       "    </tr>\n",
       "  </tbody>\n",
       "</table>\n",
       "</div>"
      ],
      "text/plain": [
       "                            user_id                         driver_id  \\\n",
       "0  0e9af5bbf1edfe591b54ecdfd7e91e26  583949a89a9ee17d19e3ca4f137b6b4c   \n",
       "1  a553c46e3a22fb9c326aeb3d72b3334e                               NaN   \n",
       "2  a553c46e3a22fb9c326aeb3d72b3334e                               NaN   \n",
       "\n",
       "             start_at  source  driver_score  rider_score  \n",
       "0 2010-11-16 16:44:00  iPhone           5.0          5.0  \n",
       "1 2010-06-01 00:34:00  iPhone           NaN          NaN  \n",
       "2 2010-05-31 05:01:00  iPhone           NaN          NaN  "
      ]
     },
     "execution_count": 246,
     "metadata": {},
     "output_type": "execute_result"
    }
   ],
   "source": [
    "df_taxi_peru = taxi_peru[['user_id', 'driver_id', 'start_at','source', 'driver_score', 'rider_score']]\n",
    "df_taxi_peru.head(3)"
   ]
  },
  {
   "cell_type": "code",
   "execution_count": 245,
   "id": "962f7cfd",
   "metadata": {},
   "outputs": [],
   "source": [
    "df_taxi_peru.start_at = pd.to_datetime(users_taxi_peru.start_at)\n",
    "\n",
    "# вариант 2 перевода колонки с датой в формат даты в пандасе"
   ]
  },
  {
   "cell_type": "code",
   "execution_count": 249,
   "id": "e166b15a",
   "metadata": {},
   "outputs": [
    {
     "data": {
      "text/plain": [
       "0        2010-11-16\n",
       "1        2010-06-01\n",
       "2        2010-05-31\n",
       "3        2010-06-01\n",
       "4        2010-09-11\n",
       "            ...    \n",
       "23106    2010-07-31\n",
       "23107    2010-10-02\n",
       "23108    2010-09-21\n",
       "23109    2010-04-29\n",
       "23110    2010-03-16\n",
       "Name: start_at, Length: 23111, dtype: object"
      ]
     },
     "execution_count": 249,
     "metadata": {},
     "output_type": "execute_result"
    }
   ],
   "source": [
    "df_taxi_peru.start_at.dt.date\n",
    "# атрибуты колонки с форматом даты - dt.day/ month/.../date"
   ]
  },
  {
   "cell_type": "code",
   "execution_count": 252,
   "id": "e4548b31",
   "metadata": {},
   "outputs": [],
   "source": [
    "df = df_taxi_peru\\\n",
    "            .groupby('start_at', as_index= False)\\\n",
    "            .agg({'driver_score':'sum'})"
   ]
  },
  {
   "cell_type": "code",
   "execution_count": 254,
   "id": "b6d3eace",
   "metadata": {},
   "outputs": [],
   "source": [
    "df.to_csv('df_sum_driv_score.csv', index= False )\n",
    "\n",
    "# экспорт отчета в файл"
   ]
  },
  {
   "cell_type": "code",
   "execution_count": null,
   "id": "2b189e54",
   "metadata": {},
   "outputs": [],
   "source": []
  }
 ],
 "metadata": {
  "kernelspec": {
   "display_name": "Python 3 (ipykernel)",
   "language": "python",
   "name": "python3"
  },
  "language_info": {
   "codemirror_mode": {
    "name": "ipython",
    "version": 3
   },
   "file_extension": ".py",
   "mimetype": "text/x-python",
   "name": "python",
   "nbconvert_exporter": "python",
   "pygments_lexer": "ipython3",
   "version": "3.10.9"
  }
 },
 "nbformat": 4,
 "nbformat_minor": 5
}
