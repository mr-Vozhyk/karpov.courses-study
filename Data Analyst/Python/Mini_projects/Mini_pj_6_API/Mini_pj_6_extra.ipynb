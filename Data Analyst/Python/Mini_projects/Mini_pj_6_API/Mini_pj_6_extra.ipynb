{
 "cells": [
  {
   "cell_type": "markdown",
   "id": "24db8d2a-b65a-4bb9-96c7-5717fec74f01",
   "metadata": {},
   "source": [
    "# Mini project 6 extra"
   ]
  },
  {
   "cell_type": "markdown",
   "id": "dbcd744f-5494-4718-b588-48b68d8dbae5",
   "metadata": {},
   "source": [
    "В рамках дополнительного проекта попробуем освоить API, позволяющий получать данные о музейных коллекциях. Это задание может пригодиться для большего понимания того, какими способами можно собирать и обрабатывать данные, например, для собственного проекта или другой рабочей задачи. Также вы можете более глубоко изучить документацию, чтобы потом исследовать другие интересные для себя вопросы по полученным данным"
   ]
  },
  {
   "cell_type": "markdown",
   "id": "da71e2b1-5940-4338-99f6-69d9c1a52e1d",
   "metadata": {},
   "source": [
    "Описание API \n",
    "\n",
    "Документация: https://metmuseum.github.io"
   ]
  },
  {
   "cell_type": "markdown",
   "id": "7e529026-8deb-4209-b23a-ab43bbb1dcf8",
   "metadata": {},
   "source": [
    "Ключ: для использования выбранного API (на момент написания задания) ключ не требуется"
   ]
  },
  {
   "cell_type": "markdown",
   "id": "565b92b1-5dc1-42c1-9a1c-32c0b90aa295",
   "metadata": {},
   "source": [
    "Всего есть 4 основных раздела:\n",
    "\n",
    "    Объекты (Objects)\n",
    "    Объект (Object) – данные об объекте (например, о картине)\n",
    "    Департаменты (Departments) – данные о департаменте/разделе (например, \"Современное искусство\")\n",
    "    Поиск (Search) – используется для поиска"
   ]
  },
  {
   "cell_type": "markdown",
   "id": "86f33345-cee0-42fa-83be-c007deec080d",
   "metadata": {},
   "source": [
    "В рамках задач поработаем с блоками Object и Search.\n",
    "\n",
    "С более подробным описанием каждого доступного параметра можно ознакомиться в документации."
   ]
  },
  {
   "cell_type": "markdown",
   "id": "0424ba75-e85f-4aa2-bdd6-71c6fbde44ae",
   "metadata": {},
   "source": [
    "#### 1. Для начала, импортируйте нужные библиотеки"
   ]
  },
  {
   "cell_type": "code",
   "execution_count": 3,
   "id": "c9e05f0d-c59d-480f-a130-a55168f75ad9",
   "metadata": {},
   "outputs": [],
   "source": [
    "import requests\n",
    "import pandas as pd\n",
    "import seaborn as sns\n",
    "import matplotlib.pyplot as plt"
   ]
  },
  {
   "cell_type": "markdown",
   "id": "86d2e6c7-9bb5-41c8-a338-5c4eaa854fb0",
   "metadata": {},
   "source": [
    "#### 2. Сам запрос к API должен состоять из нескольких параметров. Пример обращения к поиску (Search):"
   ]
  },
  {
   "cell_type": "raw",
   "id": "f4110cd3-847f-4e12-9be5-b8a0b1781d6e",
   "metadata": {},
   "source": [
    "r = requests.get('https://collectionapi.metmuseum.org/public/collection/v1/search?q=QUERY')\n",
    "res = r.json()\n",
    "\n",
    "где QUERY – ключевое слово."
   ]
  },
  {
   "cell_type": "markdown",
   "id": "6fd62ef9-c85d-49f3-b710-33e88bbb8b60",
   "metadata": {},
   "source": [
    "#### Предположим, ваша задача – найти все произведения, связанные с подсолнухами. Выполните поиск по слову \"sunflowers\". Внимательно посмотрите на формат ответа и сохраните id полученных объектов в список sunflower_ids."
   ]
  },
  {
   "cell_type": "code",
   "execution_count": 4,
   "id": "bf0d8a94-e6a9-4c4a-94e4-3810e93ddbd5",
   "metadata": {},
   "outputs": [],
   "source": [
    "r = requests.get('https://collectionapi.metmuseum.org/public/collection/v1/search?q=sunflowers')\n",
    "sunflowers = r.json()"
   ]
  },
  {
   "cell_type": "code",
   "execution_count": 5,
   "id": "a34e02c1-902f-44b8-bf48-4c09dfac10c9",
   "metadata": {},
   "outputs": [],
   "source": [
    "sunflower_ids = sunflowers['objectIDs']\n",
    "search_ids = [436524, 2032, 20149, 16822570, 437329]"
   ]
  },
  {
   "cell_type": "code",
   "execution_count": 6,
   "id": "256621f5-2145-4213-b24a-36977705f9a5",
   "metadata": {},
   "outputs": [
    {
     "data": {
      "text/plain": [
       "[436524, 2032, 437329]"
      ]
     },
     "execution_count": 6,
     "metadata": {},
     "output_type": "execute_result"
    }
   ],
   "source": [
    "sunflowers_search = [i for i in search_ids if i in sunflower_ids]\n",
    "sunflowers_search"
   ]
  },
  {
   "cell_type": "markdown",
   "id": "847c9f6a-7f9a-4082-9037-ed582f1b078b",
   "metadata": {},
   "source": [
    "#### 2. Отлично! На предыдущем шаге мы получили результаты поиска. Следущий этап – собрать информацию об этих объектах.\n",
    "\n",
    "Пример текста запроса для получения информации об одном объекте (Object):"
   ]
  },
  {
   "cell_type": "markdown",
   "id": "e9156248-d42b-4e5c-a42f-561a071ddc25",
   "metadata": {},
   "source": [
    "r_test = requests.get(f'https://collectionapi.metmuseum.org/public/collection/v1/objects/OBJECT_ID') \n",
    "obj_test = r_test.json()"
   ]
  },
  {
   "cell_type": "code",
   "execution_count": 9,
   "id": "3e3e14ee-4b2e-46fb-94e5-991204350ea8",
   "metadata": {},
   "outputs": [],
   "source": [
    "# запрос из задачи, подставили id объекта\n",
    "r_test = requests.get(f'https://collectionapi.metmuseum.org/public/collection/v1/objects/437980')  \n",
    "obj_test = r_test.json()"
   ]
  },
  {
   "cell_type": "markdown",
   "id": "97693564-00f2-4372-be3f-e9fe27876321",
   "metadata": {},
   "source": [
    "GalleryNumber 825\n",
    "\n",
    "artistDisplayName Vincent van Gogh\n",
    "\n",
    "objectName Painting\n",
    "\n",
    "title Cypresses\n",
    "\n",
    "department European Paintings\n",
    "\n",
    "culture ''\n",
    "\n",
    "objectID 437980"
   ]
  },
  {
   "cell_type": "markdown",
   "id": "6fd41b04-39db-43b1-8fda-1c21e269c076",
   "metadata": {},
   "source": [
    "#### 3. Теперь напишите цикл, с помощью которого будет собрана информация об объектах, которые были получены на 2 шаге. Результаты запишите в датафрейм, а именно – следующие параметры:\n",
    "\n",
    "        objectID – id объекта\n",
    "        title – название\n",
    "        artistDisplayName – автор\n",
    "        department – департамент\n",
    "        objectBeginDate – дата (начало)\n",
    "        objectEndDate – дата (конец)\n",
    "        period – название периода\n",
    "        objectName – название/категория объекта\n",
    "        culture – культура\n",
    "   \n",
    "#### Сколько объектов относятся к японской культуре? (culture –Japan)"
   ]
  },
  {
   "cell_type": "code",
   "execution_count": 10,
   "id": "318f7709-9f45-4468-bfc2-b285e14fddd0",
   "metadata": {},
   "outputs": [],
   "source": [
    "object_df = pd.DataFrame()"
   ]
  },
  {
   "cell_type": "code",
   "execution_count": 12,
   "id": "6714c23f-83c5-4a52-96cd-f60f7542870b",
   "metadata": {
    "scrolled": true
   },
   "outputs": [],
   "source": [
    "for object_id in sunflower_ids:\n",
    "    r = requests.get(f'https://collectionapi.metmuseum.org/public/collection/v1/objects/{object_id}')\n",
    "    obj_tmp = r.json()"
   ]
  },
  {
   "cell_type": "code",
   "execution_count": 13,
   "id": "ecacb15a-5f21-498f-ae81-b825841a7ba8",
   "metadata": {},
   "outputs": [],
   "source": [
    "try:\n",
    "    obj_tmp_df = pd.DataFrame({'objectID'         : obj_tmp['objectID'],\n",
    "                              'title'             : [obj_tmp['title']],\n",
    "                              'artistDisplayName' : [obj_tmp['artistDisplayName']],\n",
    "                              'department'        : [obj_tmp['department']], \n",
    "                              'objectBeginDate'   : [obj_tmp['objectBeginDate']], \n",
    "                              'objectEndDate'     : [obj_tmp['objectEndDate']], \n",
    "                              'period'            : [obj_tmp['period']], \n",
    "                              'objectName'        : [obj_tmp['objectName']], \n",
    "                              'culture'           : [obj_tmp['culture']]\n",
    "                             })\n",
    "    # соединение\n",
    "    object_df = pd.concat([object_df, obj_tmp_df])\n",
    "except KeyError:\n",
    "    pass"
   ]
  },
  {
   "cell_type": "code",
   "execution_count": 14,
   "id": "60542990-c93d-469d-a942-af1dcb706bc1",
   "metadata": {},
   "outputs": [],
   "source": [
    "object_df = pd.concat([object_df, obj_tmp_df])"
   ]
  },
  {
   "cell_type": "code",
   "execution_count": 15,
   "id": "3485cde0-530f-408f-bc46-6a3ed796f4b8",
   "metadata": {},
   "outputs": [
    {
     "data": {
      "text/plain": [
       "0"
      ]
     },
     "execution_count": 15,
     "metadata": {},
     "output_type": "execute_result"
    }
   ],
   "source": [
    "object_df.query(\"culture == 'Japan'\").shape[0]"
   ]
  },
  {
   "cell_type": "markdown",
   "id": "0b42777d-e34d-43ce-a017-0aac197f5aaf",
   "metadata": {},
   "source": [
    "#### 4. Теперь попробуем построить более сложный запрос с помощью секции \"Search\"! На этот раз параметры необходимо передать через \"&\", например, departmentId (id департамента – 1) и q (ключевое слово – cat):"
   ]
  },
  {
   "cell_type": "raw",
   "id": "e56fb5cb-4678-4ac1-a0ba-6ea50c7c8721",
   "metadata": {},
   "source": [
    "r = requests.get('https://collectionapi.metmuseum.org/public/collection/v1/search?departmentId=1&q=cat')\n",
    "cats = r.json()"
   ]
  },
  {
   "cell_type": "markdown",
   "id": "cea02385-8611-4e8c-a36c-2aa2949dad29",
   "metadata": {},
   "source": [
    "#### Выполните поисковый запрос для департамента \"Asian art\" (departmentId = 6) с тегом \"cat\" и запишите id объектов в cat_ids. Используйте цикл из шага 4, чтобы получить данные о первой 1000 объектов из списка."
   ]
  },
  {
   "cell_type": "markdown",
   "id": "0997b5ac-ddb3-42dd-addf-6767dee07c81",
   "metadata": {},
   "source": [
    "Note: выполнение цикла может занять некоторое время (~5 минут), поэтому проверять его работоспособность лучше на более маленькой выборке!"
   ]
  },
  {
   "cell_type": "markdown",
   "id": "a96a931d-9174-4cae-bf57-09464ef85add",
   "metadata": {},
   "source": [
    "##### В качестве ответа укажите, в каком периоде (period) было выполнено наибольшее количество работ, представленных в музее?"
   ]
  },
  {
   "cell_type": "code",
   "execution_count": 16,
   "id": "8f56f749-d405-4578-9d3b-ecb0761cf94e",
   "metadata": {},
   "outputs": [],
   "source": [
    "r    = requests.get('https://collectionapi.metmuseum.org/public/collection/v1/search?departmentId=6&q=cat')\n",
    "cats = r.json()"
   ]
  },
  {
   "cell_type": "code",
   "execution_count": 17,
   "id": "94e7389b-3595-415a-ad06-d97c33a7b4de",
   "metadata": {},
   "outputs": [],
   "source": [
    "cat_ids = cats['objectIDs'] \n"
   ]
  },
  {
   "cell_type": "code",
   "execution_count": 18,
   "id": "930d520f-4bf0-4c4e-abb2-7fb03ea78aa4",
   "metadata": {},
   "outputs": [],
   "source": [
    "for object_id in cat_ids[:1000]:  # берем только 1000 объектов, как указано в задании\n",
    "    # информация об объекте\n",
    "    r = requests.get(f'https://collectionapi.metmuseum.org/public/collection/v1/objects/{object_id}')\n",
    "    obj_tmp = r.json()\n",
    "\n",
    "    # формируем строчку для объекта\n",
    "    try:\n",
    "        obj_tmp_df = pd.DataFrame({'objectID' : obj_tmp['objectID'],\n",
    "                                 'title' : [obj_tmp['title']],\n",
    "                                 'artistDisplayName': [obj_tmp['artistDisplayName']],\n",
    "                                 'department' : [obj_tmp['department']], \n",
    "                                 'objectBeginDate' : [obj_tmp['objectBeginDate']], \n",
    "                                 'objectEndDate' : [obj_tmp['objectEndDate']], \n",
    "                                 'objectName' : [obj_tmp['objectName']], \n",
    "                                 'culture': [obj_tmp['culture']],\n",
    "                                 'period': [obj_tmp['period']]\n",
    "                            })\n",
    "        # приклеиваем\n",
    "        object_df = pd.concat([object_df, obj_tmp_df])\n",
    "    except KeyError:\n",
    "        continue"
   ]
  },
  {
   "cell_type": "code",
   "execution_count": 19,
   "id": "b603854f-9261-4f5e-9596-d456ac360ad8",
   "metadata": {},
   "outputs": [
    {
     "data": {
      "text/plain": [
       "period\n",
       "Edo period (1615–1868)          272\n",
       "                                146\n",
       "Qing dynasty (1644–1911)         63\n",
       "Ming dynasty (1368–1644)         47\n",
       "Muromachi period (1392–1573)     30\n",
       "Name: count, dtype: int64"
      ]
     },
     "execution_count": 19,
     "metadata": {},
     "output_type": "execute_result"
    }
   ],
   "source": [
    "object_df.period.value_counts().head(5)"
   ]
  },
  {
   "cell_type": "markdown",
   "id": "88da1176-3f25-4a3f-bd2c-a031b0fdc3b5",
   "metadata": {},
   "source": [
    "Timurid period (1370–1507)\n",
    "\n",
    "##### Edo period (1615–1868)\n",
    "\n",
    "Tang dynasty (618–907)\n",
    "\n",
    "Meiji period (1868–1912)\n",
    "\n",
    "Период чаще всего не указан"
   ]
  }
 ],
 "metadata": {
  "kernelspec": {
   "display_name": "Python 3 (ipykernel)",
   "language": "python",
   "name": "python3"
  },
  "language_info": {
   "codemirror_mode": {
    "name": "ipython",
    "version": 3
   },
   "file_extension": ".py",
   "mimetype": "text/x-python",
   "name": "python",
   "nbconvert_exporter": "python",
   "pygments_lexer": "ipython3",
   "version": "3.12.4"
  }
 },
 "nbformat": 4,
 "nbformat_minor": 5
}
